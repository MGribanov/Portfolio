{
 "cells": [
  {
   "cell_type": "markdown",
   "metadata": {},
   "source": [
    "# Выбор локации для скважины"
   ]
  },
  {
   "cell_type": "markdown",
   "metadata": {},
   "source": [
    "Добывающей компании «ГлавРосГосНефть» нужно решить, где бурить новую скважину.\\\n",
    "Предоставлены пробы нефти в трёх регионах: в каждом 10 000 месторождений, где измерили качество нефти и объём её запасов.\\\n",
    "При разведке региона исследуют 500 точек, из которых с помощью машинного обучения выбирают 200 лучших для разработки.\n",
    "\n",
    "Данные синтетические: детали контрактов и характеристики месторождений не разглашаются.\n",
    "\n",
    "**Задача**\n",
    " - построить модель машинного обучения, которая поможет определить регион, где добыча принесёт наибольшую прибыль\n",
    " - проанализировать возможную прибыль и риски техникой *Bootstrap*\n",
    " - после оценки рисков оставить лишь те регионы, в которых вероятность убытков меньше 2.5%\n",
    " - среди них выбрать регион с наибольшей средней прибылью\n",
    "\n",
    "Шаги для выбора локации:\n",
    "\n",
    "- В избранном регионе ищут месторождения, для каждого определяют значения признаков;\n",
    "- Строят модель и оценивают объём запасов;\n",
    "- Выбирают месторождения с самым высокими оценками значений;\n",
    "- Количество месторождений зависит от бюджета компании и стоимости разработки одной скважины;\n",
    "- Прибыль равна суммарной прибыли отобранных месторождений."
   ]
  },
  {
   "cell_type": "markdown",
   "metadata": {
    "tags": []
   },
   "source": [
    "## 1. Загрузка и подготовка данных"
   ]
  },
  {
   "cell_type": "markdown",
   "metadata": {},
   "source": [
    "### 1.1. Импорт необходимых для работы библиотек, метрик и утилит"
   ]
  },
  {
   "cell_type": "code",
   "execution_count": 1,
   "metadata": {},
   "outputs": [],
   "source": [
    "# импорт библиотек\n",
    "import pandas as pd\n",
    "import numpy as np\n",
    "import matplotlib.pyplot as plt\n",
    "\n",
    "# импорт моделей\n",
    "from sklearn.linear_model import LinearRegression\n",
    "from sklearn.model_selection import train_test_split\n",
    "\n",
    "# метрики\n",
    "from sklearn.metrics import mean_squared_error\n",
    "\n",
    "from sklearn.preprocessing import StandardScaler\n",
    "\n",
    "# настройки\n",
    "import warnings\n",
    "warnings.filterwarnings(\"ignore\")\n",
    "\n",
    "# константа верхний регистр\n",
    "RANDOM_STATE = 42"
   ]
  },
  {
   "cell_type": "markdown",
   "metadata": {
    "tags": []
   },
   "source": [
    "### 1.2. Загрузка исходных данных геологоразведки трёх регионов"
   ]
  },
  {
   "cell_type": "code",
   "execution_count": 2,
   "metadata": {},
   "outputs": [],
   "source": [
    "# загрузим исходные данные\n",
    "df_0 = pd.read_csv('C:\\\\Users\\\\Mikhail\\\\Яндекс_Практикум\\\\data_set\\\\geo_data_0.csv')\n",
    "df_1 = pd.read_csv('C:\\\\Users\\\\Mikhail\\\\Яндекс_Практикум\\\\data_set\\\\geo_data_1.csv')\n",
    "df_2 = pd.read_csv('C:\\\\Users\\\\Mikhail\\\\Яндекс_Практикум\\\\data_set\\\\geo_data_2.csv')"
   ]
  },
  {
   "cell_type": "markdown",
   "metadata": {},
   "source": [
    "### 1.3. Описание данных\n",
    "- **id** - уникальный идентификатор скважины\n",
    "- **f0**, **f1**, **f2** - три признака точек (неважно, что они означают, но сами признаки значимы)\n",
    "- **product** - объём запасов в скважине (тыс. баррелей)"
   ]
  },
  {
   "cell_type": "code",
   "execution_count": 3,
   "metadata": {},
   "outputs": [],
   "source": [
    "# функция для получения общей информации о данных\n",
    "def get_info(data):\n",
    "    display(data.head())\n",
    "    display(data.info())\n",
    "    display(data.describe())\n",
    "    print(\"\\nКоличество явных дубликатов:\", data.duplicated().sum())"
   ]
  },
  {
   "cell_type": "code",
   "execution_count": 4,
   "metadata": {},
   "outputs": [
    {
     "data": {
      "text/html": [
       "<div>\n",
       "<style scoped>\n",
       "    .dataframe tbody tr th:only-of-type {\n",
       "        vertical-align: middle;\n",
       "    }\n",
       "\n",
       "    .dataframe tbody tr th {\n",
       "        vertical-align: top;\n",
       "    }\n",
       "\n",
       "    .dataframe thead th {\n",
       "        text-align: right;\n",
       "    }\n",
       "</style>\n",
       "<table border=\"1\" class=\"dataframe\">\n",
       "  <thead>\n",
       "    <tr style=\"text-align: right;\">\n",
       "      <th></th>\n",
       "      <th>id</th>\n",
       "      <th>f0</th>\n",
       "      <th>f1</th>\n",
       "      <th>f2</th>\n",
       "      <th>product</th>\n",
       "    </tr>\n",
       "  </thead>\n",
       "  <tbody>\n",
       "    <tr>\n",
       "      <th>0</th>\n",
       "      <td>txEyH</td>\n",
       "      <td>0.705745</td>\n",
       "      <td>-0.497823</td>\n",
       "      <td>1.221170</td>\n",
       "      <td>105.280062</td>\n",
       "    </tr>\n",
       "    <tr>\n",
       "      <th>1</th>\n",
       "      <td>2acmU</td>\n",
       "      <td>1.334711</td>\n",
       "      <td>-0.340164</td>\n",
       "      <td>4.365080</td>\n",
       "      <td>73.037750</td>\n",
       "    </tr>\n",
       "    <tr>\n",
       "      <th>2</th>\n",
       "      <td>409Wp</td>\n",
       "      <td>1.022732</td>\n",
       "      <td>0.151990</td>\n",
       "      <td>1.419926</td>\n",
       "      <td>85.265647</td>\n",
       "    </tr>\n",
       "    <tr>\n",
       "      <th>3</th>\n",
       "      <td>iJLyR</td>\n",
       "      <td>-0.032172</td>\n",
       "      <td>0.139033</td>\n",
       "      <td>2.978566</td>\n",
       "      <td>168.620776</td>\n",
       "    </tr>\n",
       "    <tr>\n",
       "      <th>4</th>\n",
       "      <td>Xdl7t</td>\n",
       "      <td>1.988431</td>\n",
       "      <td>0.155413</td>\n",
       "      <td>4.751769</td>\n",
       "      <td>154.036647</td>\n",
       "    </tr>\n",
       "  </tbody>\n",
       "</table>\n",
       "</div>"
      ],
      "text/plain": [
       "      id        f0        f1        f2     product\n",
       "0  txEyH  0.705745 -0.497823  1.221170  105.280062\n",
       "1  2acmU  1.334711 -0.340164  4.365080   73.037750\n",
       "2  409Wp  1.022732  0.151990  1.419926   85.265647\n",
       "3  iJLyR -0.032172  0.139033  2.978566  168.620776\n",
       "4  Xdl7t  1.988431  0.155413  4.751769  154.036647"
      ]
     },
     "metadata": {},
     "output_type": "display_data"
    },
    {
     "name": "stdout",
     "output_type": "stream",
     "text": [
      "<class 'pandas.core.frame.DataFrame'>\n",
      "RangeIndex: 100000 entries, 0 to 99999\n",
      "Data columns (total 5 columns):\n",
      " #   Column   Non-Null Count   Dtype  \n",
      "---  ------   --------------   -----  \n",
      " 0   id       100000 non-null  object \n",
      " 1   f0       100000 non-null  float64\n",
      " 2   f1       100000 non-null  float64\n",
      " 3   f2       100000 non-null  float64\n",
      " 4   product  100000 non-null  float64\n",
      "dtypes: float64(4), object(1)\n",
      "memory usage: 3.8+ MB\n"
     ]
    },
    {
     "data": {
      "text/plain": [
       "None"
      ]
     },
     "metadata": {},
     "output_type": "display_data"
    },
    {
     "data": {
      "text/html": [
       "<div>\n",
       "<style scoped>\n",
       "    .dataframe tbody tr th:only-of-type {\n",
       "        vertical-align: middle;\n",
       "    }\n",
       "\n",
       "    .dataframe tbody tr th {\n",
       "        vertical-align: top;\n",
       "    }\n",
       "\n",
       "    .dataframe thead th {\n",
       "        text-align: right;\n",
       "    }\n",
       "</style>\n",
       "<table border=\"1\" class=\"dataframe\">\n",
       "  <thead>\n",
       "    <tr style=\"text-align: right;\">\n",
       "      <th></th>\n",
       "      <th>f0</th>\n",
       "      <th>f1</th>\n",
       "      <th>f2</th>\n",
       "      <th>product</th>\n",
       "    </tr>\n",
       "  </thead>\n",
       "  <tbody>\n",
       "    <tr>\n",
       "      <th>count</th>\n",
       "      <td>100000.000000</td>\n",
       "      <td>100000.000000</td>\n",
       "      <td>100000.000000</td>\n",
       "      <td>100000.000000</td>\n",
       "    </tr>\n",
       "    <tr>\n",
       "      <th>mean</th>\n",
       "      <td>0.500419</td>\n",
       "      <td>0.250143</td>\n",
       "      <td>2.502647</td>\n",
       "      <td>92.500000</td>\n",
       "    </tr>\n",
       "    <tr>\n",
       "      <th>std</th>\n",
       "      <td>0.871832</td>\n",
       "      <td>0.504433</td>\n",
       "      <td>3.248248</td>\n",
       "      <td>44.288691</td>\n",
       "    </tr>\n",
       "    <tr>\n",
       "      <th>min</th>\n",
       "      <td>-1.408605</td>\n",
       "      <td>-0.848218</td>\n",
       "      <td>-12.088328</td>\n",
       "      <td>0.000000</td>\n",
       "    </tr>\n",
       "    <tr>\n",
       "      <th>25%</th>\n",
       "      <td>-0.072580</td>\n",
       "      <td>-0.200881</td>\n",
       "      <td>0.287748</td>\n",
       "      <td>56.497507</td>\n",
       "    </tr>\n",
       "    <tr>\n",
       "      <th>50%</th>\n",
       "      <td>0.502360</td>\n",
       "      <td>0.250252</td>\n",
       "      <td>2.515969</td>\n",
       "      <td>91.849972</td>\n",
       "    </tr>\n",
       "    <tr>\n",
       "      <th>75%</th>\n",
       "      <td>1.073581</td>\n",
       "      <td>0.700646</td>\n",
       "      <td>4.715088</td>\n",
       "      <td>128.564089</td>\n",
       "    </tr>\n",
       "    <tr>\n",
       "      <th>max</th>\n",
       "      <td>2.362331</td>\n",
       "      <td>1.343769</td>\n",
       "      <td>16.003790</td>\n",
       "      <td>185.364347</td>\n",
       "    </tr>\n",
       "  </tbody>\n",
       "</table>\n",
       "</div>"
      ],
      "text/plain": [
       "                  f0             f1             f2        product\n",
       "count  100000.000000  100000.000000  100000.000000  100000.000000\n",
       "mean        0.500419       0.250143       2.502647      92.500000\n",
       "std         0.871832       0.504433       3.248248      44.288691\n",
       "min        -1.408605      -0.848218     -12.088328       0.000000\n",
       "25%        -0.072580      -0.200881       0.287748      56.497507\n",
       "50%         0.502360       0.250252       2.515969      91.849972\n",
       "75%         1.073581       0.700646       4.715088     128.564089\n",
       "max         2.362331       1.343769      16.003790     185.364347"
      ]
     },
     "metadata": {},
     "output_type": "display_data"
    },
    {
     "name": "stdout",
     "output_type": "stream",
     "text": [
      "\n",
      "Количество явных дубликатов: 0\n"
     ]
    }
   ],
   "source": [
    "# общая информация о данных\n",
    "get_info(df_0)"
   ]
  },
  {
   "cell_type": "code",
   "execution_count": 5,
   "metadata": {},
   "outputs": [
    {
     "data": {
      "text/html": [
       "<div>\n",
       "<style scoped>\n",
       "    .dataframe tbody tr th:only-of-type {\n",
       "        vertical-align: middle;\n",
       "    }\n",
       "\n",
       "    .dataframe tbody tr th {\n",
       "        vertical-align: top;\n",
       "    }\n",
       "\n",
       "    .dataframe thead th {\n",
       "        text-align: right;\n",
       "    }\n",
       "</style>\n",
       "<table border=\"1\" class=\"dataframe\">\n",
       "  <thead>\n",
       "    <tr style=\"text-align: right;\">\n",
       "      <th></th>\n",
       "      <th>id</th>\n",
       "      <th>f0</th>\n",
       "      <th>f1</th>\n",
       "      <th>f2</th>\n",
       "      <th>product</th>\n",
       "    </tr>\n",
       "  </thead>\n",
       "  <tbody>\n",
       "    <tr>\n",
       "      <th>0</th>\n",
       "      <td>kBEdx</td>\n",
       "      <td>-15.001348</td>\n",
       "      <td>-8.276000</td>\n",
       "      <td>-0.005876</td>\n",
       "      <td>3.179103</td>\n",
       "    </tr>\n",
       "    <tr>\n",
       "      <th>1</th>\n",
       "      <td>62mP7</td>\n",
       "      <td>14.272088</td>\n",
       "      <td>-3.475083</td>\n",
       "      <td>0.999183</td>\n",
       "      <td>26.953261</td>\n",
       "    </tr>\n",
       "    <tr>\n",
       "      <th>2</th>\n",
       "      <td>vyE1P</td>\n",
       "      <td>6.263187</td>\n",
       "      <td>-5.948386</td>\n",
       "      <td>5.001160</td>\n",
       "      <td>134.766305</td>\n",
       "    </tr>\n",
       "    <tr>\n",
       "      <th>3</th>\n",
       "      <td>KcrkZ</td>\n",
       "      <td>-13.081196</td>\n",
       "      <td>-11.506057</td>\n",
       "      <td>4.999415</td>\n",
       "      <td>137.945408</td>\n",
       "    </tr>\n",
       "    <tr>\n",
       "      <th>4</th>\n",
       "      <td>AHL4O</td>\n",
       "      <td>12.702195</td>\n",
       "      <td>-8.147433</td>\n",
       "      <td>5.004363</td>\n",
       "      <td>134.766305</td>\n",
       "    </tr>\n",
       "  </tbody>\n",
       "</table>\n",
       "</div>"
      ],
      "text/plain": [
       "      id         f0         f1        f2     product\n",
       "0  kBEdx -15.001348  -8.276000 -0.005876    3.179103\n",
       "1  62mP7  14.272088  -3.475083  0.999183   26.953261\n",
       "2  vyE1P   6.263187  -5.948386  5.001160  134.766305\n",
       "3  KcrkZ -13.081196 -11.506057  4.999415  137.945408\n",
       "4  AHL4O  12.702195  -8.147433  5.004363  134.766305"
      ]
     },
     "metadata": {},
     "output_type": "display_data"
    },
    {
     "name": "stdout",
     "output_type": "stream",
     "text": [
      "<class 'pandas.core.frame.DataFrame'>\n",
      "RangeIndex: 100000 entries, 0 to 99999\n",
      "Data columns (total 5 columns):\n",
      " #   Column   Non-Null Count   Dtype  \n",
      "---  ------   --------------   -----  \n",
      " 0   id       100000 non-null  object \n",
      " 1   f0       100000 non-null  float64\n",
      " 2   f1       100000 non-null  float64\n",
      " 3   f2       100000 non-null  float64\n",
      " 4   product  100000 non-null  float64\n",
      "dtypes: float64(4), object(1)\n",
      "memory usage: 3.8+ MB\n"
     ]
    },
    {
     "data": {
      "text/plain": [
       "None"
      ]
     },
     "metadata": {},
     "output_type": "display_data"
    },
    {
     "data": {
      "text/html": [
       "<div>\n",
       "<style scoped>\n",
       "    .dataframe tbody tr th:only-of-type {\n",
       "        vertical-align: middle;\n",
       "    }\n",
       "\n",
       "    .dataframe tbody tr th {\n",
       "        vertical-align: top;\n",
       "    }\n",
       "\n",
       "    .dataframe thead th {\n",
       "        text-align: right;\n",
       "    }\n",
       "</style>\n",
       "<table border=\"1\" class=\"dataframe\">\n",
       "  <thead>\n",
       "    <tr style=\"text-align: right;\">\n",
       "      <th></th>\n",
       "      <th>f0</th>\n",
       "      <th>f1</th>\n",
       "      <th>f2</th>\n",
       "      <th>product</th>\n",
       "    </tr>\n",
       "  </thead>\n",
       "  <tbody>\n",
       "    <tr>\n",
       "      <th>count</th>\n",
       "      <td>100000.000000</td>\n",
       "      <td>100000.000000</td>\n",
       "      <td>100000.000000</td>\n",
       "      <td>100000.000000</td>\n",
       "    </tr>\n",
       "    <tr>\n",
       "      <th>mean</th>\n",
       "      <td>1.141296</td>\n",
       "      <td>-4.796579</td>\n",
       "      <td>2.494541</td>\n",
       "      <td>68.825000</td>\n",
       "    </tr>\n",
       "    <tr>\n",
       "      <th>std</th>\n",
       "      <td>8.965932</td>\n",
       "      <td>5.119872</td>\n",
       "      <td>1.703572</td>\n",
       "      <td>45.944423</td>\n",
       "    </tr>\n",
       "    <tr>\n",
       "      <th>min</th>\n",
       "      <td>-31.609576</td>\n",
       "      <td>-26.358598</td>\n",
       "      <td>-0.018144</td>\n",
       "      <td>0.000000</td>\n",
       "    </tr>\n",
       "    <tr>\n",
       "      <th>25%</th>\n",
       "      <td>-6.298551</td>\n",
       "      <td>-8.267985</td>\n",
       "      <td>1.000021</td>\n",
       "      <td>26.953261</td>\n",
       "    </tr>\n",
       "    <tr>\n",
       "      <th>50%</th>\n",
       "      <td>1.153055</td>\n",
       "      <td>-4.813172</td>\n",
       "      <td>2.011479</td>\n",
       "      <td>57.085625</td>\n",
       "    </tr>\n",
       "    <tr>\n",
       "      <th>75%</th>\n",
       "      <td>8.621015</td>\n",
       "      <td>-1.332816</td>\n",
       "      <td>3.999904</td>\n",
       "      <td>107.813044</td>\n",
       "    </tr>\n",
       "    <tr>\n",
       "      <th>max</th>\n",
       "      <td>29.421755</td>\n",
       "      <td>18.734063</td>\n",
       "      <td>5.019721</td>\n",
       "      <td>137.945408</td>\n",
       "    </tr>\n",
       "  </tbody>\n",
       "</table>\n",
       "</div>"
      ],
      "text/plain": [
       "                  f0             f1             f2        product\n",
       "count  100000.000000  100000.000000  100000.000000  100000.000000\n",
       "mean        1.141296      -4.796579       2.494541      68.825000\n",
       "std         8.965932       5.119872       1.703572      45.944423\n",
       "min       -31.609576     -26.358598      -0.018144       0.000000\n",
       "25%        -6.298551      -8.267985       1.000021      26.953261\n",
       "50%         1.153055      -4.813172       2.011479      57.085625\n",
       "75%         8.621015      -1.332816       3.999904     107.813044\n",
       "max        29.421755      18.734063       5.019721     137.945408"
      ]
     },
     "metadata": {},
     "output_type": "display_data"
    },
    {
     "name": "stdout",
     "output_type": "stream",
     "text": [
      "\n",
      "Количество явных дубликатов: 0\n"
     ]
    }
   ],
   "source": [
    "# общая информация о данных\n",
    "get_info(df_1)"
   ]
  },
  {
   "cell_type": "code",
   "execution_count": 6,
   "metadata": {},
   "outputs": [
    {
     "data": {
      "text/html": [
       "<div>\n",
       "<style scoped>\n",
       "    .dataframe tbody tr th:only-of-type {\n",
       "        vertical-align: middle;\n",
       "    }\n",
       "\n",
       "    .dataframe tbody tr th {\n",
       "        vertical-align: top;\n",
       "    }\n",
       "\n",
       "    .dataframe thead th {\n",
       "        text-align: right;\n",
       "    }\n",
       "</style>\n",
       "<table border=\"1\" class=\"dataframe\">\n",
       "  <thead>\n",
       "    <tr style=\"text-align: right;\">\n",
       "      <th></th>\n",
       "      <th>id</th>\n",
       "      <th>f0</th>\n",
       "      <th>f1</th>\n",
       "      <th>f2</th>\n",
       "      <th>product</th>\n",
       "    </tr>\n",
       "  </thead>\n",
       "  <tbody>\n",
       "    <tr>\n",
       "      <th>0</th>\n",
       "      <td>fwXo0</td>\n",
       "      <td>-1.146987</td>\n",
       "      <td>0.963328</td>\n",
       "      <td>-0.828965</td>\n",
       "      <td>27.758673</td>\n",
       "    </tr>\n",
       "    <tr>\n",
       "      <th>1</th>\n",
       "      <td>WJtFt</td>\n",
       "      <td>0.262778</td>\n",
       "      <td>0.269839</td>\n",
       "      <td>-2.530187</td>\n",
       "      <td>56.069697</td>\n",
       "    </tr>\n",
       "    <tr>\n",
       "      <th>2</th>\n",
       "      <td>ovLUW</td>\n",
       "      <td>0.194587</td>\n",
       "      <td>0.289035</td>\n",
       "      <td>-5.586433</td>\n",
       "      <td>62.871910</td>\n",
       "    </tr>\n",
       "    <tr>\n",
       "      <th>3</th>\n",
       "      <td>q6cA6</td>\n",
       "      <td>2.236060</td>\n",
       "      <td>-0.553760</td>\n",
       "      <td>0.930038</td>\n",
       "      <td>114.572842</td>\n",
       "    </tr>\n",
       "    <tr>\n",
       "      <th>4</th>\n",
       "      <td>WPMUX</td>\n",
       "      <td>-0.515993</td>\n",
       "      <td>1.716266</td>\n",
       "      <td>5.899011</td>\n",
       "      <td>149.600746</td>\n",
       "    </tr>\n",
       "  </tbody>\n",
       "</table>\n",
       "</div>"
      ],
      "text/plain": [
       "      id        f0        f1        f2     product\n",
       "0  fwXo0 -1.146987  0.963328 -0.828965   27.758673\n",
       "1  WJtFt  0.262778  0.269839 -2.530187   56.069697\n",
       "2  ovLUW  0.194587  0.289035 -5.586433   62.871910\n",
       "3  q6cA6  2.236060 -0.553760  0.930038  114.572842\n",
       "4  WPMUX -0.515993  1.716266  5.899011  149.600746"
      ]
     },
     "metadata": {},
     "output_type": "display_data"
    },
    {
     "name": "stdout",
     "output_type": "stream",
     "text": [
      "<class 'pandas.core.frame.DataFrame'>\n",
      "RangeIndex: 100000 entries, 0 to 99999\n",
      "Data columns (total 5 columns):\n",
      " #   Column   Non-Null Count   Dtype  \n",
      "---  ------   --------------   -----  \n",
      " 0   id       100000 non-null  object \n",
      " 1   f0       100000 non-null  float64\n",
      " 2   f1       100000 non-null  float64\n",
      " 3   f2       100000 non-null  float64\n",
      " 4   product  100000 non-null  float64\n",
      "dtypes: float64(4), object(1)\n",
      "memory usage: 3.8+ MB\n"
     ]
    },
    {
     "data": {
      "text/plain": [
       "None"
      ]
     },
     "metadata": {},
     "output_type": "display_data"
    },
    {
     "data": {
      "text/html": [
       "<div>\n",
       "<style scoped>\n",
       "    .dataframe tbody tr th:only-of-type {\n",
       "        vertical-align: middle;\n",
       "    }\n",
       "\n",
       "    .dataframe tbody tr th {\n",
       "        vertical-align: top;\n",
       "    }\n",
       "\n",
       "    .dataframe thead th {\n",
       "        text-align: right;\n",
       "    }\n",
       "</style>\n",
       "<table border=\"1\" class=\"dataframe\">\n",
       "  <thead>\n",
       "    <tr style=\"text-align: right;\">\n",
       "      <th></th>\n",
       "      <th>f0</th>\n",
       "      <th>f1</th>\n",
       "      <th>f2</th>\n",
       "      <th>product</th>\n",
       "    </tr>\n",
       "  </thead>\n",
       "  <tbody>\n",
       "    <tr>\n",
       "      <th>count</th>\n",
       "      <td>100000.000000</td>\n",
       "      <td>100000.000000</td>\n",
       "      <td>100000.000000</td>\n",
       "      <td>100000.000000</td>\n",
       "    </tr>\n",
       "    <tr>\n",
       "      <th>mean</th>\n",
       "      <td>0.002023</td>\n",
       "      <td>-0.002081</td>\n",
       "      <td>2.495128</td>\n",
       "      <td>95.000000</td>\n",
       "    </tr>\n",
       "    <tr>\n",
       "      <th>std</th>\n",
       "      <td>1.732045</td>\n",
       "      <td>1.730417</td>\n",
       "      <td>3.473445</td>\n",
       "      <td>44.749921</td>\n",
       "    </tr>\n",
       "    <tr>\n",
       "      <th>min</th>\n",
       "      <td>-8.760004</td>\n",
       "      <td>-7.084020</td>\n",
       "      <td>-11.970335</td>\n",
       "      <td>0.000000</td>\n",
       "    </tr>\n",
       "    <tr>\n",
       "      <th>25%</th>\n",
       "      <td>-1.162288</td>\n",
       "      <td>-1.174820</td>\n",
       "      <td>0.130359</td>\n",
       "      <td>59.450441</td>\n",
       "    </tr>\n",
       "    <tr>\n",
       "      <th>50%</th>\n",
       "      <td>0.009424</td>\n",
       "      <td>-0.009482</td>\n",
       "      <td>2.484236</td>\n",
       "      <td>94.925613</td>\n",
       "    </tr>\n",
       "    <tr>\n",
       "      <th>75%</th>\n",
       "      <td>1.158535</td>\n",
       "      <td>1.163678</td>\n",
       "      <td>4.858794</td>\n",
       "      <td>130.595027</td>\n",
       "    </tr>\n",
       "    <tr>\n",
       "      <th>max</th>\n",
       "      <td>7.238262</td>\n",
       "      <td>7.844801</td>\n",
       "      <td>16.739402</td>\n",
       "      <td>190.029838</td>\n",
       "    </tr>\n",
       "  </tbody>\n",
       "</table>\n",
       "</div>"
      ],
      "text/plain": [
       "                  f0             f1             f2        product\n",
       "count  100000.000000  100000.000000  100000.000000  100000.000000\n",
       "mean        0.002023      -0.002081       2.495128      95.000000\n",
       "std         1.732045       1.730417       3.473445      44.749921\n",
       "min        -8.760004      -7.084020     -11.970335       0.000000\n",
       "25%        -1.162288      -1.174820       0.130359      59.450441\n",
       "50%         0.009424      -0.009482       2.484236      94.925613\n",
       "75%         1.158535       1.163678       4.858794     130.595027\n",
       "max         7.238262       7.844801      16.739402     190.029838"
      ]
     },
     "metadata": {},
     "output_type": "display_data"
    },
    {
     "name": "stdout",
     "output_type": "stream",
     "text": [
      "\n",
      "Количество явных дубликатов: 0\n"
     ]
    }
   ],
   "source": [
    "# общая информация о данных\n",
    "get_info(df_2)"
   ]
  },
  {
   "cell_type": "markdown",
   "metadata": {
    "tags": []
   },
   "source": [
    "### Выводы"
   ]
  },
  {
   "cell_type": "markdown",
   "metadata": {},
   "source": [
    "1. Данные в ячейках соответствуют типу и описанию;\n",
    "2. Пропуски и явные дубликаты не обнаружены;\n",
    "3. Разброс значений довольно большой, поэтому на следующих шагах используем масштабирование;\n",
    "4. Столбец **id** (уникальный идентификатор скважины) для исследования не потребуется и его можно удалить уже на этом этапе."
   ]
  },
  {
   "cell_type": "code",
   "execution_count": 7,
   "metadata": {},
   "outputs": [],
   "source": [
    "# удалим столбцы с уникальными данными, которые не повлияют на обучение модели\n",
    "df_0 = df_0.drop(['id'], axis=1)\n",
    "df_1 = df_1.drop(['id'], axis=1)\n",
    "df_2 = df_2.drop(['id'], axis=1)"
   ]
  },
  {
   "cell_type": "markdown",
   "metadata": {
    "tags": []
   },
   "source": [
    "### 1.4. Построим гистограммы"
   ]
  },
  {
   "cell_type": "markdown",
   "metadata": {
    "tags": []
   },
   "source": [
    "#### 1.4.1. Регион №1"
   ]
  },
  {
   "cell_type": "code",
   "execution_count": 8,
   "metadata": {},
   "outputs": [
    {
     "data": {
      "image/png": "[encoded data removed]",
      "text/plain": [
       "<Figure size 1440x1440 with 4 Axes>"
      ]
     },
     "metadata": {
      "needs_background": "light"
     },
     "output_type": "display_data"
    }
   ],
   "source": [
    "# отобразим данные на графиках\n",
    "fig, axis = plt.subplots(4,1, figsize=(20,20))\n",
    "\n",
    "n = 0\n",
    "for column in df_0:\n",
    "    df_0[df_0.columns[n]].plot.hist(ax=axis[0+n], edgecolor='black', linewidth=1, bins=50).set(ylabel=df_0.columns[n]);       \n",
    "    n += 1"
   ]
  },
  {
   "cell_type": "markdown",
   "metadata": {
    "tags": []
   },
   "source": [
    "#### 1.4.2. Регион №2"
   ]
  },
  {
   "cell_type": "code",
   "execution_count": 9,
   "metadata": {},
   "outputs": [
    {
     "data": {
      "image/png": "[encoded data removed]",
      "text/plain": [
       "<Figure size 1440x1440 with 4 Axes>"
      ]
     },
     "metadata": {
      "needs_background": "light"
     },
     "output_type": "display_data"
    }
   ],
   "source": [
    "# отобразим данные на графиках\n",
    "fig, axis = plt.subplots(4,1, figsize=(20,20))\n",
    "\n",
    "n = 0\n",
    "for column in df_1:\n",
    "    df_1[df_1.columns[n]].plot.hist(ax=axis[0+n], color='r', edgecolor='black', linewidth=1, bins=10).set(ylabel=df_1.columns[n]);       \n",
    "    n += 1"
   ]
  },
  {
   "cell_type": "markdown",
   "metadata": {
    "tags": []
   },
   "source": [
    "#### 1.4.3. Регион №3"
   ]
  },
  {
   "cell_type": "code",
   "execution_count": 10,
   "metadata": {},
   "outputs": [
    {
     "data": {
      "image/png": "[encoded data removed]",
      "text/plain": [
       "<Figure size 1440x1440 with 4 Axes>"
      ]
     },
     "metadata": {
      "needs_background": "light"
     },
     "output_type": "display_data"
    }
   ],
   "source": [
    "# отобразим данные на графиках\n",
    "fig, axis = plt.subplots(4,1, figsize=(20,20))\n",
    "\n",
    "n = 0\n",
    "for column in df_0:\n",
    "    df_2[df_2.columns[n]].plot.hist(ax=axis[0+n], color='g', edgecolor='black', linewidth=1, bins=50).set(ylabel=df_2.columns[n]);       \n",
    "    n += 1"
   ]
  },
  {
   "cell_type": "markdown",
   "metadata": {},
   "source": [
    "## Выводы"
   ]
  },
  {
   "cell_type": "markdown",
   "metadata": {},
   "source": [
    "1. Выбросы и выраженные хвосты отсуствуют не наблюдаются;\n",
    "2. Распределение признаков напоминает нормальное, с одной вершиной, плато и двумя вершинами."
   ]
  },
  {
   "cell_type": "markdown",
   "metadata": {},
   "source": [
    "## 2. Обучение и проверка модели для каждого региона"
   ]
  },
  {
   "cell_type": "markdown",
   "metadata": {},
   "source": [
    "### 2.1. Разобьем данные на обучающую и валидационную выборки в соотношении 75:25"
   ]
  },
  {
   "cell_type": "markdown",
   "metadata": {},
   "source": [
    "**Признаки**\n",
    "- **f0** - значимый признак\n",
    "- **f1** - значимый признак\n",
    "- **f2** - значимый признак\n",
    "\n",
    "**Целевой признак**\n",
    "- **product** — объём запасов в скважине (тыс. баррелей)"
   ]
  },
  {
   "cell_type": "markdown",
   "metadata": {
    "tags": []
   },
   "source": [
    "- **train** - обучающая выборка (**75%** исходных данных)\n",
    "- **valid** - валидационная выборка (**25%** исходных данных)"
   ]
  },
  {
   "cell_type": "code",
   "execution_count": 11,
   "metadata": {},
   "outputs": [],
   "source": [
    "# функция для выделения признаков и разделения данных на выборки\n",
    "# на вход передаем датасет, на выходе - выборки\n",
    "\n",
    "def train_valid(data):\n",
    "\n",
    "# извлекаем признаки и отдельно сохнаняем целевой признак   \n",
    "    features = data.drop(['product'], axis=1) \n",
    "    target = data['product']                  \n",
    "\n",
    "# делим данные на выборки    \n",
    "    features_train, features_valid, target_train, target_valid = train_test_split(\n",
    "        features, target, test_size=0.25, random_state=RANDOM_STATE)\n",
    "\n",
    "# выводим результат на экран    \n",
    "    print ('Обучающая выборка', '\\n', 'Признаки:',features_train.shape, '\\n', 'Целевой признак:', target_train.shape, '\\n', sep='')\n",
    "    print ('Валидационная выборка', '\\n', 'Признаки:',features_valid.shape, '\\n', 'Целевой признак:', target_valid.shape, '\\n', sep='')\n",
    "    \n",
    "    return features_train, features_valid, target_train, target_valid"
   ]
  },
  {
   "cell_type": "code",
   "execution_count": 12,
   "metadata": {},
   "outputs": [
    {
     "name": "stdout",
     "output_type": "stream",
     "text": [
      "\u001b[1mРегион №1\u001b[0m\n",
      "Обучающая выборка\n",
      "Признаки:(75000, 3)\n",
      "Целевой признак:(75000,)\n",
      "\n",
      "Валидационная выборка\n",
      "Признаки:(25000, 3)\n",
      "Целевой признак:(25000,)\n",
      "\n"
     ]
    }
   ],
   "source": [
    "# обучающая и валидационная выборки для региона №1\n",
    "print('\\033[1m'+'Регион №1'+'\\033[0m')\n",
    "features_train_0, features_valid_0, target_train_0, target_valid_0 = train_valid(df_0)"
   ]
  },
  {
   "cell_type": "code",
   "execution_count": 13,
   "metadata": {},
   "outputs": [
    {
     "name": "stdout",
     "output_type": "stream",
     "text": [
      "\u001b[1mРегион №2\u001b[0m\n",
      "Обучающая выборка\n",
      "Признаки:(75000, 3)\n",
      "Целевой признак:(75000,)\n",
      "\n",
      "Валидационная выборка\n",
      "Признаки:(25000, 3)\n",
      "Целевой признак:(25000,)\n",
      "\n"
     ]
    }
   ],
   "source": [
    "# обучающая и валидационная выборки для региона №2\n",
    "print('\\033[1m'+'Регион №2'+'\\033[0m')\n",
    "features_train_1, features_valid_1, target_train_1, target_valid_1 = train_valid(df_1)"
   ]
  },
  {
   "cell_type": "code",
   "execution_count": 14,
   "metadata": {},
   "outputs": [
    {
     "name": "stdout",
     "output_type": "stream",
     "text": [
      "\u001b[1mРегион №2\u001b[0m\n",
      "Обучающая выборка\n",
      "Признаки:(75000, 3)\n",
      "Целевой признак:(75000,)\n",
      "\n",
      "Валидационная выборка\n",
      "Признаки:(25000, 3)\n",
      "Целевой признак:(25000,)\n",
      "\n"
     ]
    }
   ],
   "source": [
    "# обучающая и валидационная выборки для региона №3\n",
    "print('\\033[1m'+'Регион №2'+'\\033[0m')\n",
    "features_train_2, features_valid_2, target_train_2, target_valid_2 = train_valid(df_2)"
   ]
  },
  {
   "cell_type": "markdown",
   "metadata": {},
   "source": [
    "#### 2.1.1. Масштабируем численные признаки для каждого набора выборок"
   ]
  },
  {
   "cell_type": "code",
   "execution_count": 15,
   "metadata": {},
   "outputs": [],
   "source": [
    "# функция для масштабирования численных признаков\n",
    "# на вход подаем признаки обучающие, валидационные и столбцы с численными признаками \n",
    "\n",
    "def scaled(features_train, features_valid, numeric):\n",
    "\n",
    "# создадим объект структуры StandardScaler и обучим его на обучающих данных\n",
    "    scaler = StandardScaler()\n",
    "    scaler.fit(features_train[numeric])\n",
    "\n",
    "# изменённые наборы сохраним в переменных    \n",
    "    features_train[numeric] = scaler.transform(features_train[numeric])\n",
    "    features_valid[numeric] = scaler.transform(features_valid[numeric])\n",
    "\n",
    "    return features_train, features_valid"
   ]
  },
  {
   "cell_type": "code",
   "execution_count": 16,
   "metadata": {},
   "outputs": [],
   "source": [
    "# сохраним в numeric список численных признаков\n",
    "numeric = ['f0', 'f1', 'f2']\n",
    "# получим масштабированные данные для региона №1\n",
    "features_train_0, features_valid_0 = scaled(features_train_0, features_valid_0, numeric)"
   ]
  },
  {
   "cell_type": "code",
   "execution_count": 17,
   "metadata": {},
   "outputs": [],
   "source": [
    "# сохраним в numeric список численных признаков\n",
    "numeric = ['f0', 'f1', 'f2']\n",
    "# получим масштабированные данные для региона №2\n",
    "features_train_1, features_valid_1 = scaled(features_train_1, features_valid_1, numeric)"
   ]
  },
  {
   "cell_type": "code",
   "execution_count": 18,
   "metadata": {},
   "outputs": [],
   "source": [
    "# сохраним в numeric список численных признаков\n",
    "numeric = ['f0', 'f1', 'f2']\n",
    "# получим масштабированные данные для региона №3\n",
    "features_train_2, features_valid_2 = scaled(features_train_2, features_valid_2, numeric)"
   ]
  },
  {
   "cell_type": "markdown",
   "metadata": {},
   "source": [
    "### 2.2. Обучим модель и сделаем предсказания для Региона №1"
   ]
  },
  {
   "cell_type": "code",
   "execution_count": 19,
   "metadata": {},
   "outputs": [],
   "source": [
    "# создадим модель LinearRegression и обучим её на тренировочной выборке\n",
    "model_0 = LinearRegression() \n",
    "model_0.fit(features_train_0, target_train_0)  \n",
    "\n",
    "# получим предсказания модели на валидационной выборке\n",
    "predictions_valid_0 = model_0.predict(features_valid_0)  \n",
    "\n",
    "# сохраним предсказания\n",
    "predictions_valid_0 = pd.Series(predictions_valid_0)\n",
    "\n",
    "# правильные ответы\n",
    "target_valid_0 = pd.Series(target_valid_0).reset_index(drop=True)\n",
    "\n",
    "# среднее количество сырья в скаважине по предсказаниям\n",
    "mean_predict_product_0 = predictions_valid_0.mean()\n",
    "\n",
    "# среднее количество разведанного сырья в скаважине\n",
    "mean_real_product_0 = target_valid_0.mean()\n",
    "\n",
    "# посчитаем значение метрики RMSE на валидационной выборке\n",
    "result_0 = mean_squared_error(target_valid_0, predictions_valid_0)**0.5"
   ]
  },
  {
   "cell_type": "markdown",
   "metadata": {},
   "source": [
    "### 2.3. Обучим модель и сделаем предсказания для Региона №2"
   ]
  },
  {
   "cell_type": "code",
   "execution_count": 20,
   "metadata": {},
   "outputs": [],
   "source": [
    "# создадим модель LinearRegression и обучим её на тренировочной выборке\n",
    "model_1 = LinearRegression() \n",
    "model_1.fit(features_train_1, target_train_1)  \n",
    "\n",
    "# получим предсказания модели на валидационной выборке\n",
    "predictions_valid_1 = model_1.predict(features_valid_1)  \n",
    "\n",
    "# сохраним предсказания\n",
    "predictions_valid_1 = pd.Series(predictions_valid_1)\n",
    "\n",
    "# правильные ответы\n",
    "target_valid_1 = pd.Series(target_valid_1).reset_index(drop=True)\n",
    "\n",
    "# среднее количество сырья в скаважине по предсказаниям\n",
    "mean_predict_product_1 = predictions_valid_1.mean()\n",
    "\n",
    "# среднее количество разведанного сырья в скаважине\n",
    "mean_real_product_1 = target_valid_1.mean()\n",
    "                          \n",
    "# посчитаем значение метрики RMSE на валидационной выборке\n",
    "result_1 = mean_squared_error(target_valid_1, predictions_valid_1)**0.5"
   ]
  },
  {
   "cell_type": "markdown",
   "metadata": {},
   "source": [
    "### 2.4. Обучим модель и сделаем предсказания для Региона №3"
   ]
  },
  {
   "cell_type": "code",
   "execution_count": 21,
   "metadata": {},
   "outputs": [],
   "source": [
    "# создадим модель LinearRegression и обучим её на тренировочной выборке\n",
    "model_2 = LinearRegression() \n",
    "model_2.fit(features_train_2, target_train_2)  \n",
    "\n",
    "# получим предсказания модели на валидационной выборке\n",
    "predictions_valid_2 = model_2.predict(features_valid_2)  \n",
    "\n",
    "# сохраним предсказания\n",
    "predictions_valid_2 = pd.Series(predictions_valid_2)\n",
    "\n",
    "# правильные ответы\n",
    "target_valid_2 = pd.Series(target_valid_2).reset_index(drop=True)\n",
    "\n",
    "# среднее количество сырья в скаважине по предсказаниям\n",
    "mean_predict_product_2 = predictions_valid_2.mean()\n",
    "\n",
    "# среднее количество разведанного сырья в скаважине\n",
    "mean_real_product_2 = target_valid_2.mean()\n",
    "\n",
    "# посчитаем значение метрики RMSE на валидационной выборке\n",
    "result_2 = mean_squared_error(target_valid_2, predictions_valid_2)**0.5"
   ]
  },
  {
   "cell_type": "markdown",
   "metadata": {
    "tags": []
   },
   "source": [
    "### 2.4. Напечатаем на экране RMSE модели и средний запас предсказанного сырья в каждом регионе"
   ]
  },
  {
   "cell_type": "code",
   "execution_count": 22,
   "metadata": {},
   "outputs": [
    {
     "name": "stdout",
     "output_type": "stream",
     "text": [
      "\u001b[1mРегион №1\u001b[0m\n",
      "RMSE модели линейной регрессии на валидационной выборке: 37.757\n",
      "\n",
      "Средний запас предсказанного сырья: 92.3988\n",
      "\n",
      "Средний запас разведанного сырья:  92.3260\n"
     ]
    }
   ],
   "source": [
    "print('\\033[1m'+'Регион №1'+'\\033[0m', '\\n', 'RMSE модели линейной регрессии на валидационной выборке: ', f'{result_0:.3f}' , '\\n', sep='')\n",
    "print('Средний запас предсказанного сырья: ', f'{mean_predict_product_0:.4f}', '\\n', sep='')\n",
    "print('Средний запас разведанного сырья: ', f'{mean_real_product_0:.4f}')"
   ]
  },
  {
   "cell_type": "code",
   "execution_count": 23,
   "metadata": {},
   "outputs": [
    {
     "name": "stdout",
     "output_type": "stream",
     "text": [
      "\u001b[1mРегион №2\u001b[0m\n",
      "RMSE модели линейной регрессии на валидационной выборке: 0.890\n",
      "\n",
      "Средний запас предсказанного сырья: 68.7129\n",
      "\n",
      "Средний запас разведанного сырья:  68.7254\n"
     ]
    }
   ],
   "source": [
    "print('\\033[1m'+'Регион №2'+'\\033[0m', '\\n', 'RMSE модели линейной регрессии на валидационной выборке: ', f'{result_1:.3f}' , '\\n', sep='')\n",
    "print('Средний запас предсказанного сырья: ', f'{mean_predict_product_1:.4f}', '\\n', sep='')\n",
    "print('Средний запас разведанного сырья: ', f'{mean_real_product_1:.4f}')"
   ]
  },
  {
   "cell_type": "code",
   "execution_count": 24,
   "metadata": {},
   "outputs": [
    {
     "name": "stdout",
     "output_type": "stream",
     "text": [
      "\u001b[1mРегион №3\u001b[0m\n",
      "RMSE модели линейной регрессии на валидационной выборке: 40.146\n",
      "\n",
      "Средний запас предсказанного сырья: 94.7710\n",
      "\n",
      "Средний запас разведанного сырья:  95.1510\n"
     ]
    }
   ],
   "source": [
    "print('\\033[1m'+'Регион №3'+'\\033[0m', '\\n', 'RMSE модели линейной регрессии на валидационной выборке: ', f'{result_2:.3f}' , '\\n', sep='')\n",
    "print('Средний запас предсказанного сырья: ', f'{mean_predict_product_2:.4f}', '\\n', sep='')\n",
    "print('Средний запас разведанного сырья: ', f'{mean_real_product_2:.4f}')"
   ]
  },
  {
   "cell_type": "markdown",
   "metadata": {},
   "source": [
    "## Выводы "
   ]
  },
  {
   "cell_type": "markdown",
   "metadata": {},
   "source": [
    "1. Лучший показатель RMSE в Регионе №2, однако в нём наименьший средний объем сырья на одну скважину;\n",
    "2. Регион №3 имеет высокий средний объем по сырью, но показатель RMSE хуже, чем в Регионах №1 и №2;\n",
    "3. Регион №1 при достаточно высоких средних объемах сырья, на уровне Региона №3 и больше, чем в Регионе №1, имеет несколько лучший показатель RMSE по сравнению с Регионом №3."
   ]
  },
  {
   "cell_type": "markdown",
   "metadata": {},
   "source": [
    "## 3. Подготовка к расчёту прибыли"
   ]
  },
  {
   "cell_type": "markdown",
   "metadata": {},
   "source": [
    "### 3.1. Сохраним ключевые значения для расчётов в отдельных переменных"
   ]
  },
  {
   "cell_type": "markdown",
   "metadata": {},
   "source": [
    "**Условия:**\n",
    "- Бюджет на разработку скважин в регионе — 10 млрд рублей\n",
    "- Один баррель сырья приносит 450 рублей дохода в текущих ценах\n",
    "- Доход с каждой единицы продукта составляет 450 тыс. рублей, поскольку объём указан в тысячах баррелей\n",
    "- При разведке региона исследуют 500 точек, из которых с помощью машинного обучения выбирают 200 лучших для разработки"
   ]
  },
  {
   "cell_type": "code",
   "execution_count": 25,
   "metadata": {},
   "outputs": [],
   "source": [
    "ESTIMATE = 10**10     # 10 в 10 степени = 10 млрд рублей - смета на разработку скважин в регионе\n",
    "BARREL = 450*1000     # стоимость одного барреля в рублях 450 * 1000, так как объём запасов в скважине в тысячах баррелей\n",
    "SPOT = 500            # при разведке региона исследуют 500 точек\n",
    "BEST_SPOT = 200       # выбирают и разрабатывают лучшие 200 скважин"
   ]
  },
  {
   "cell_type": "markdown",
   "metadata": {},
   "source": [
    "### 3.2. Рассчитаем достаточный объём сырья для безубыточной разработки новой скважины"
   ]
  },
  {
   "cell_type": "code",
   "execution_count": 26,
   "metadata": {},
   "outputs": [
    {
     "data": {
      "text/plain": [
       "'50,000,000.00 рублей'"
      ]
     },
     "execution_count": 26,
     "metadata": {},
     "output_type": "execute_result"
    }
   ],
   "source": [
    "# расходы на разработку одной скважины\n",
    "cost = ESTIMATE / BEST_SPOT\n",
    "f'{cost:,.2f} рублей'"
   ]
  },
  {
   "cell_type": "code",
   "execution_count": 27,
   "metadata": {},
   "outputs": [
    {
     "data": {
      "text/plain": [
       "'111.11 тыс. баррелей'"
      ]
     },
     "execution_count": 27,
     "metadata": {},
     "output_type": "execute_result"
    }
   ],
   "source": [
    "# минимальный запас нефти в тыс. бареллей в одной скважине для выхода в \"ноль\"\n",
    "stock = cost / BARREL\n",
    "f'{stock:,.2f} тыс. баррелей'"
   ]
  },
  {
   "cell_type": "code",
   "execution_count": 28,
   "metadata": {},
   "outputs": [
    {
     "data": {
      "text/plain": [
       "'22,222.22 тыс. баррелей'"
      ]
     },
     "execution_count": 28,
     "metadata": {},
     "output_type": "execute_result"
    }
   ],
   "source": [
    "# минимальный запас нефти в тыс. бареллей в 200 лучших скважинах региона для достижения точки безубыточности\n",
    "stock_region = stock * BEST_SPOT\n",
    "f'{stock_region:,.2f} тыс. баррелей'"
   ]
  },
  {
   "cell_type": "code",
   "execution_count": 29,
   "metadata": {},
   "outputs": [
    {
     "name": "stdout",
     "output_type": "stream",
     "text": [
      "Запас сырья в скважине для достижения точки безубыточности:  111.11 тыс. баррелей\n",
      "Запас сырья в 200 лучших скважинах региона для достижения точки безубыточности:  22,222.22 тыс. баррелей\n"
     ]
    }
   ],
   "source": [
    "print('Запас сырья в скважине для достижения точки безубыточности: ', f'{stock:,.2f}', 'тыс. баррелей')\n",
    "print('Запас сырья в 200 лучших скважинах региона для достижения точки безубыточности: ', f'{stock_region:,.2f}', 'тыс. баррелей')"
   ]
  },
  {
   "cell_type": "markdown",
   "metadata": {},
   "source": [
    "### 3.3. Сравним полученный объём сырья со средним запасом в каждом регионе"
   ]
  },
  {
   "cell_type": "code",
   "execution_count": 30,
   "metadata": {
    "tags": []
   },
   "outputs": [],
   "source": [
    "# средний запас сырья в 200 скважинах в каждом регионе\n",
    "\n",
    "reserve_0 = df_0['product'].mean()*BEST_SPOT\n",
    "reserve_1 = df_1['product'].mean()*BEST_SPOT\n",
    "reserve_2 = df_2['product'].mean()*BEST_SPOT"
   ]
  },
  {
   "cell_type": "code",
   "execution_count": 31,
   "metadata": {},
   "outputs": [
    {
     "name": "stdout",
     "output_type": "stream",
     "text": [
      "Средний запас сырья в 200 скважинах в Регионе 1:  \u001b[1m18,500.00\u001b[0m тыс. баррелей\n",
      "==========================================================================\n",
      "Средний запас сырья в 200 скважинах в Регионе 2:  \u001b[1m13,765.00\u001b[0m тыс. баррелей\n",
      "==========================================================================\n",
      "Средний запас сырья в 200 скважинах в Регионе 3:  \u001b[1m19,000.00\u001b[0m тыс. баррелей\n"
     ]
    }
   ],
   "source": [
    "print('Средний запас сырья в 200 скважинах в Регионе 1: ', '\\033[1m'+ f'{reserve_0:,.2f}' +'\\033[0m', 'тыс. баррелей')\n",
    "print('='*74)\n",
    "print('Средний запас сырья в 200 скважинах в Регионе 2: ', '\\033[1m'+ f'{reserve_1:,.2f}' +'\\033[0m', 'тыс. баррелей')\n",
    "print('='*74)\n",
    "print('Средний запас сырья в 200 скважинах в Регионе 3: ', '\\033[1m'+ f'{reserve_2:,.2f}' +'\\033[0m', 'тыс. баррелей')"
   ]
  },
  {
   "cell_type": "markdown",
   "metadata": {},
   "source": [
    "## Выводы "
   ]
  },
  {
   "cell_type": "markdown",
   "metadata": {},
   "source": [
    "1. Точка безубыточности (ТБУ): доходы от продажи сырья - расходы на разработку = 0;\n",
    "2. Смета на разработку составляет 10 млрд. рублей;\n",
    "3. В смету заложена разработка 200 скважин;\n",
    "4. Чтобы достичь ТБУ, необходимо, чтобы запас сырья в одной скважине составлял не менее 111.11 тыс. баррелей, а в регионе не менее 22,222.22 тыс. баррелей на 200 скважин;\n",
    "5. После оценки ТБУ и средних запасов сырья в регионах Регионы 1 и 3 представляются наиболее перспективными для разработки."
   ]
  },
  {
   "cell_type": "markdown",
   "metadata": {},
   "source": [
    "## 4. Функция для расчёта прибыли по выбранным скважинам и предсказаниям модели"
   ]
  },
  {
   "cell_type": "code",
   "execution_count": 32,
   "metadata": {},
   "outputs": [],
   "source": [
    "# функция для расчета прибыли по выбранным скважинам\n",
    "def profit(predictions, target, spots):\n",
    "# отбираем скважины с максимальными значениями предсказаний     \n",
    "    max_predictions = predictions.sort_values(ascending=False)\n",
    "# целевые значения объемов сырья в соответствии с предсказаниями лучших скважин   \n",
    "    best_target_spot = target[max_predictions.index][:spots]\n",
    "# считаем прибыль (количество сырья * стоимость) - расходы на разработку\n",
    "    income = (best_target_spot.sum() * BARREL) - ESTIMATE\n",
    "    return income"
   ]
  },
  {
   "cell_type": "markdown",
   "metadata": {},
   "source": [
    "### Рассчитаем прибыль для полученного объёма сырья в каждом регионе"
   ]
  },
  {
   "cell_type": "code",
   "execution_count": 33,
   "metadata": {},
   "outputs": [],
   "source": [
    "# прибыль для каждого региона (предсказания, целевые значения, количество лучших скважин)\n",
    "\n",
    "res_0 = profit (predictions_valid_0, target_valid_0, BEST_SPOT)\n",
    "res_1 = profit (predictions_valid_1, target_valid_1, BEST_SPOT)\n",
    "res_2 = profit (predictions_valid_2, target_valid_2, BEST_SPOT)"
   ]
  },
  {
   "cell_type": "code",
   "execution_count": 34,
   "metadata": {},
   "outputs": [
    {
     "name": "stdout",
     "output_type": "stream",
     "text": [
      "Прибыль для полученного объема сырья в 200 лучших скважинах в Регионе 1: \u001b[1m3,359,141,114\u001b[0m рублей\n",
      "=============================================================================================\n",
      "Прибыль для полученного объема сырья в 200 лучших скважинах в Регионе 2: \u001b[1m2,415,086,697\u001b[0m рублей\n",
      "=============================================================================================\n",
      "Прибыль для полученного объема сырья в 200 лучших скважинах в Регионе 3: \u001b[1m2,598,571,759\u001b[0m рублей\n"
     ]
    }
   ],
   "source": [
    "print('Прибыль для полученного объема сырья в 200 лучших скважинах в Регионе 1:', '\\033[1m'+ f'{res_0:,.0f}'+'\\033[0m', 'рублей')\n",
    "print('='*93)\n",
    "print('Прибыль для полученного объема сырья в 200 лучших скважинах в Регионе 2:', '\\033[1m'+ f'{res_1:,.0f}'+'\\033[0m', 'рублей')\n",
    "print('='*93)\n",
    "print('Прибыль для полученного объема сырья в 200 лучших скважинах в Регионе 3:', '\\033[1m'+ f'{res_2:,.0f}'+'\\033[0m', 'рублей')"
   ]
  },
  {
   "cell_type": "markdown",
   "metadata": {},
   "source": [
    "## 5. Расчёт прибыли и рисков для каждого региона"
   ]
  },
  {
   "cell_type": "markdown",
   "metadata": {},
   "source": [
    "### 5.1. Используем технику Bootstrap с 1000 выборок, чтобы найти распределение прибыли"
   ]
  },
  {
   "cell_type": "markdown",
   "metadata": {},
   "source": [
    "### 5.2. Рассчитаем среднюю прибыль, 95%-й доверительный интервал и риск убытков"
   ]
  },
  {
   "cell_type": "code",
   "execution_count": 35,
   "metadata": {
    "tags": []
   },
   "outputs": [],
   "source": [
    "# создадим объект RandomState() для создания случайных выборок\n",
    "state = np.random.RandomState(RANDOM_STATE)\n",
    "\n",
    "# функция для процедуры бутстреп с 1000 выборок, рассчета доверительного интервала 95% и риска убытков\n",
    "def bootstrap(predictions, target):\n",
    "# список для сохранения результатов\n",
    "    values=[]\n",
    "# сохраним количество быорок с убытком\n",
    "    unprofit = 0\n",
    "    for i in range(1000):\n",
    "        target_sample = target.sample(SPOT, replace=True, random_state=state)      # создаем подвыборку целевых скважин на 500 скважин\n",
    "        predictions_sample = predictions[target_sample.index]                      # предсказания объемов сырья в соответствии с целевыми показателями скважин\n",
    "        revenue = profit(predictions_sample, target, BEST_SPOT)                    # считаем прибыль для 200 скважин\n",
    "        if revenue < 0:                                                            # отдельно считаем отрицательную прибыль (убыток)\n",
    "            unprofit +=1\n",
    "        values.append(revenue)                                                     # сохраняем результат\n",
    "    \n",
    "    values = pd.Series(values)                                                     # для дальнейше работы сохраняем список в Series\n",
    "    lower = values.quantile(0.025)                                                 # отделяем нижнюю границу интервала\n",
    "    upper = values.quantile(0.975)                                                 # отделяем верхнюю границу интервала\n",
    "    middle = values.mean()                                                         # считаем среднюю прибыль из интервала \n",
    "    risk = unprofit / 1000                                                         # оцениваем риск убытков\n",
    "    return lower, upper, middle, risk"
   ]
  },
  {
   "cell_type": "code",
   "execution_count": 36,
   "metadata": {},
   "outputs": [],
   "source": [
    "# делаем рассчет для региона №1\n",
    "lower_0, upper_0, middle_0, risk_0 = bootstrap(predictions_valid_0, target_valid_0)\n",
    "\n",
    "# делаем рассчет для региона №2\n",
    "lower_1, upper_1, middle_1, risk_1 = bootstrap(predictions_valid_1, target_valid_1)\n",
    "\n",
    "# делаем рассчет для региона №3\n",
    "lower_2, upper_2, middle_2, risk_2 = bootstrap(predictions_valid_2, target_valid_2)"
   ]
  },
  {
   "cell_type": "code",
   "execution_count": 37,
   "metadata": {},
   "outputs": [
    {
     "name": "stdout",
     "output_type": "stream",
     "text": [
      "\u001b[1mРегион №1\u001b[0m\n",
      "=================================================================\n",
      "Средняя прибыль: \u001b[1m399,575,478\u001b[0m рублей\n",
      "=================================================================\n",
      "Доверительный интервал 95%: от \u001b[1m-110,467,895\u001b[0m до \u001b[1m897,460,328\u001b[0m рублей\n",
      "=================================================================\n",
      "Риск убытков: \u001b[1m6.00%\u001b[0m\n"
     ]
    }
   ],
   "source": [
    "print('\\033[1m'+'Регион №1'+'\\033[0m')\n",
    "print('='*65)\n",
    "print('Средняя прибыль:',  '\\033[1m'+ f'{middle_0:,.0f}'+'\\033[0m', 'рублей')\n",
    "print('='*65)\n",
    "print('Доверительный интервал 95%:', 'от', '\\033[1m'+ f'{lower_0:,.0f}'+'\\033[0m', 'до', '\\033[1m'+ f'{upper_0:,.0f}'+'\\033[0m', 'рублей')\n",
    "print('='*65)\n",
    "print('Риск убытков:', '\\033[1m'+ f'{risk_0:.2%}'+'\\033[0m')"
   ]
  },
  {
   "cell_type": "code",
   "execution_count": 38,
   "metadata": {},
   "outputs": [
    {
     "name": "stdout",
     "output_type": "stream",
     "text": [
      "\u001b[1mРегион №2\u001b[0m\n",
      "=================================================================\n",
      "Средняя прибыль: \u001b[1m452,576,594\u001b[0m рублей\n",
      "=================================================================\n",
      "Доверительный интервал 95%: от \u001b[1m52,309,410\u001b[0m до \u001b[1m830,146,313\u001b[0m рублей\n",
      "=================================================================\n",
      "Риск убытков: \u001b[1m0.90%\u001b[0m\n"
     ]
    }
   ],
   "source": [
    "print('\\033[1m'+'Регион №2'+'\\033[0m')\n",
    "print('='*65)\n",
    "print('Средняя прибыль:',  '\\033[1m'+ f'{middle_1:,.0f}'+'\\033[0m', 'рублей')\n",
    "print('='*65)\n",
    "print('Доверительный интервал 95%:', 'от', '\\033[1m'+ f'{lower_1:,.0f}'+'\\033[0m', 'до', '\\033[1m'+ f'{upper_1:,.0f}'+'\\033[0m', 'рублей')\n",
    "print('='*65)\n",
    "print('Риск убытков:', '\\033[1m'+ f'{risk_1:.2%}'+'\\033[0m')"
   ]
  },
  {
   "cell_type": "code",
   "execution_count": 39,
   "metadata": {},
   "outputs": [
    {
     "name": "stdout",
     "output_type": "stream",
     "text": [
      "\u001b[1mРегион №3\u001b[0m\n",
      "=================================================================\n",
      "Средняя прибыль: \u001b[1m378,705,904\u001b[0m рублей\n",
      "=================================================================\n",
      "Доверительный интервал 95%: от \u001b[1m-127,779,435\u001b[0m до \u001b[1m907,923,483\u001b[0m рублей\n",
      "=================================================================\n",
      "Риск убытков: \u001b[1m7.50%\u001b[0m\n"
     ]
    }
   ],
   "source": [
    "print('\\033[1m'+'Регион №3'+'\\033[0m')\n",
    "print('='*65)\n",
    "print('Средняя прибыль:',  '\\033[1m'+ f'{middle_2:,.0f}'+'\\033[0m', 'рублей')\n",
    "print('='*65)\n",
    "print('Доверительный интервал 95%:', 'от', '\\033[1m'+ f'{lower_2:,.0f}'+'\\033[0m', 'до', '\\033[1m'+ f'{upper_2:,.0f}'+'\\033[0m', 'рублей')\n",
    "print('='*65)\n",
    "print('Риск убытков:', '\\033[1m'+ f'{risk_2:.2%}'+'\\033[0m')"
   ]
  },
  {
   "cell_type": "markdown",
   "metadata": {},
   "source": [
    "## Выводы"
   ]
  },
  {
   "cell_type": "markdown",
   "metadata": {},
   "source": [
    "1. Наибольшую среднюю прибыль, рассчитанную на 1000 выборок по технике Bootstrap показал Регион №2;\n",
    "2. В Регионе №2 нижняя граница 95% доверительного интервала осталась в положительной зоне, то есть не вышла в убыток, в отличии от регионов №1 и №3;\n",
    "3. Риск получения убытков при разработе скважин в Регионе №2 составил 0.9%, в регионах №1 и №3 - 6% и 7.5%, соответственно;\n",
    "4. Модель LinearRegression выдала лучший показатель RMSE в Регионе №2;\n",
    "5. Несмотря на то, что общий объем разведанных месторождений больше в регионах №1 и №3, мы можем с большей вероятностью выбрать лучшие скважины в Регионе №2.\n",
    "\n",
    "Исходя из предложенных данных и проведенного исследования для дальнейшей разработки рекомендуется Регион №2."
   ]
  }
 ],
 "metadata": {
  "ExecuteTimeLog": [
   {
    "duration": 1370,
    "start_time": "2023-02-06T13:42:53.610Z"
   },
   {
    "duration": 885,
    "start_time": "2023-02-06T13:42:54.982Z"
   },
   {
    "duration": 3,
    "start_time": "2023-02-06T13:42:55.868Z"
   },
   {
    "duration": 102,
    "start_time": "2023-02-06T13:42:55.873Z"
   },
   {
    "duration": 83,
    "start_time": "2023-02-06T13:42:55.991Z"
   },
   {
    "duration": 97,
    "start_time": "2023-02-06T13:42:56.075Z"
   },
   {
    "duration": 25,
    "start_time": "2023-02-06T13:42:56.175Z"
   },
   {
    "duration": 793,
    "start_time": "2023-02-06T13:42:56.202Z"
   },
   {
    "duration": 623,
    "start_time": "2023-02-06T13:42:56.997Z"
   },
   {
    "duration": 746,
    "start_time": "2023-02-06T13:42:57.622Z"
   },
   {
    "duration": 4,
    "start_time": "2023-02-06T13:42:58.369Z"
   },
   {
    "duration": 25,
    "start_time": "2023-02-06T13:42:58.375Z"
   },
   {
    "duration": 11,
    "start_time": "2023-02-06T13:42:58.401Z"
   },
   {
    "duration": 13,
    "start_time": "2023-02-06T13:42:58.415Z"
   },
   {
    "duration": 3,
    "start_time": "2023-02-06T13:42:58.429Z"
   },
   {
    "duration": 20,
    "start_time": "2023-02-06T13:42:58.434Z"
   },
   {
    "duration": 43,
    "start_time": "2023-02-06T13:42:58.456Z"
   },
   {
    "duration": 15,
    "start_time": "2023-02-06T13:42:58.500Z"
   },
   {
    "duration": 15,
    "start_time": "2023-02-06T13:42:58.517Z"
   },
   {
    "duration": 161,
    "start_time": "2023-02-06T13:42:58.534Z"
   },
   {
    "duration": 202,
    "start_time": "2023-02-06T13:42:58.697Z"
   },
   {
    "duration": 113,
    "start_time": "2023-02-06T13:42:58.991Z"
   },
   {
    "duration": 13,
    "start_time": "2023-02-06T13:42:59.106Z"
   },
   {
    "duration": 7,
    "start_time": "2023-02-06T13:42:59.121Z"
   },
   {
    "duration": 6,
    "start_time": "2023-02-06T13:42:59.129Z"
   },
   {
    "duration": 9,
    "start_time": "2023-02-06T13:42:59.136Z"
   },
   {
    "duration": 8,
    "start_time": "2023-02-06T13:42:59.146Z"
   },
   {
    "duration": 9,
    "start_time": "2023-02-06T13:42:59.155Z"
   },
   {
    "duration": 13,
    "start_time": "2023-02-06T13:42:59.166Z"
   },
   {
    "duration": 11,
    "start_time": "2023-02-06T13:42:59.181Z"
   },
   {
    "duration": 6,
    "start_time": "2023-02-06T13:42:59.194Z"
   },
   {
    "duration": 7,
    "start_time": "2023-02-06T13:42:59.201Z"
   },
   {
    "duration": 25,
    "start_time": "2023-02-06T13:42:59.209Z"
   },
   {
    "duration": 4,
    "start_time": "2023-02-06T13:42:59.235Z"
   },
   {
    "duration": 9,
    "start_time": "2023-02-06T13:42:59.240Z"
   },
   {
    "duration": 2483,
    "start_time": "2023-02-06T13:42:59.250Z"
   },
   {
    "duration": 5,
    "start_time": "2023-02-06T13:43:01.735Z"
   },
   {
    "duration": 38,
    "start_time": "2023-02-06T13:43:01.741Z"
   },
   {
    "duration": 62,
    "start_time": "2023-02-06T13:43:01.781Z"
   },
   {
    "duration": 1316,
    "start_time": "2023-02-07T09:32:08.174Z"
   },
   {
    "duration": 1115,
    "start_time": "2023-02-07T09:32:09.492Z"
   },
   {
    "duration": 4,
    "start_time": "2023-02-07T09:32:10.609Z"
   },
   {
    "duration": 135,
    "start_time": "2023-02-07T09:32:10.615Z"
   },
   {
    "duration": 111,
    "start_time": "2023-02-07T09:32:10.752Z"
   },
   {
    "duration": 106,
    "start_time": "2023-02-07T09:32:10.864Z"
   },
   {
    "duration": 12,
    "start_time": "2023-02-07T09:32:10.972Z"
   },
   {
    "duration": 906,
    "start_time": "2023-02-07T09:32:10.986Z"
   },
   {
    "duration": 675,
    "start_time": "2023-02-07T09:32:11.894Z"
   },
   {
    "duration": 822,
    "start_time": "2023-02-07T09:32:12.571Z"
   },
   {
    "duration": 5,
    "start_time": "2023-02-07T09:32:13.395Z"
   },
   {
    "duration": 27,
    "start_time": "2023-02-07T09:32:13.402Z"
   },
   {
    "duration": 15,
    "start_time": "2023-02-07T09:32:13.431Z"
   },
   {
    "duration": 17,
    "start_time": "2023-02-07T09:32:13.450Z"
   },
   {
    "duration": 4,
    "start_time": "2023-02-07T09:32:13.468Z"
   },
   {
    "duration": 27,
    "start_time": "2023-02-07T09:32:13.474Z"
   },
   {
    "duration": 17,
    "start_time": "2023-02-07T09:32:13.526Z"
   },
   {
    "duration": 15,
    "start_time": "2023-02-07T09:32:13.545Z"
   },
   {
    "duration": 66,
    "start_time": "2023-02-07T09:32:13.562Z"
   },
   {
    "duration": 110,
    "start_time": "2023-02-07T09:32:13.630Z"
   },
   {
    "duration": 92,
    "start_time": "2023-02-07T09:32:13.743Z"
   },
   {
    "duration": 6,
    "start_time": "2023-02-07T09:32:13.927Z"
   },
   {
    "duration": 92,
    "start_time": "2023-02-07T09:32:13.938Z"
   },
   {
    "duration": 8,
    "start_time": "2023-02-07T09:32:14.031Z"
   },
   {
    "duration": 10,
    "start_time": "2023-02-07T09:32:14.041Z"
   },
   {
    "duration": 7,
    "start_time": "2023-02-07T09:32:14.052Z"
   },
   {
    "duration": 6,
    "start_time": "2023-02-07T09:32:14.061Z"
   },
   {
    "duration": 7,
    "start_time": "2023-02-07T09:32:14.069Z"
   },
   {
    "duration": 9,
    "start_time": "2023-02-07T09:32:14.077Z"
   },
   {
    "duration": 6,
    "start_time": "2023-02-07T09:32:14.087Z"
   },
   {
    "duration": 7,
    "start_time": "2023-02-07T09:32:14.094Z"
   },
   {
    "duration": 4,
    "start_time": "2023-02-07T09:32:14.127Z"
   },
   {
    "duration": 24,
    "start_time": "2023-02-07T09:32:14.133Z"
   },
   {
    "duration": 5,
    "start_time": "2023-02-07T09:32:14.158Z"
   },
   {
    "duration": 11,
    "start_time": "2023-02-07T09:32:14.165Z"
   },
   {
    "duration": 2777,
    "start_time": "2023-02-07T09:32:14.177Z"
   },
   {
    "duration": 5,
    "start_time": "2023-02-07T09:32:16.956Z"
   },
   {
    "duration": 6,
    "start_time": "2023-02-07T09:32:16.963Z"
   },
   {
    "duration": 13,
    "start_time": "2023-02-07T09:32:16.971Z"
   }
  ],
  "kernelspec": {
   "display_name": "Python 3 (ipykernel)",
   "language": "python",
   "name": "python3"
  },
  "language_info": {
   "codemirror_mode": {
    "name": "ipython",
    "version": 3
   },
   "file_extension": ".py",
   "mimetype": "text/x-python",
   "name": "python",
   "nbconvert_exporter": "python",
   "pygments_lexer": "ipython3",
   "version": "3.9.12"
  },
  "toc": {
   "base_numbering": 1,
   "nav_menu": {},
   "number_sections": true,
   "sideBar": true,
   "skip_h1_title": true,
   "title_cell": "Table of Contents",
   "title_sidebar": "Contents",
   "toc_cell": false,
   "toc_position": {},
   "toc_section_display": true,
   "toc_window_display": false
  }
 },
 "nbformat": 4,
 "nbformat_minor": 4
}

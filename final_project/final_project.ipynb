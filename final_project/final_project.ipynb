{
 "cells": [
  {
   "cell_type": "markdown",
   "id": "cef6962e-4d96-405e-b0e3-df3c408fffff",
   "metadata": {
    "tags": []
   },
   "source": [
    "# Телеком: прогнозирование оттока клиентов"
   ]
  },
  {
   "cell_type": "markdown",
   "id": "38b9f551-2ccc-46a5-8395-a1d681ee6056",
   "metadata": {},
   "source": [
    "<h1> I часть: ПЛАН </h1>"
   ]
  },
  {
   "cell_type": "markdown",
   "id": "8a81a704-3f6a-43fb-b2f1-9d701c778c8a",
   "metadata": {},
   "source": [
    "## Описание проекта"
   ]
  },
  {
   "cell_type": "markdown",
   "id": "433c470e-cdc8-4d43-8e22-cfffd9648a9b",
   "metadata": {},
   "source": [
    "Оператор связи «Ниединогоразрыва.ком» хочет научиться прогнозировать отток клиентов.\\\n",
    "Если выяснится, что пользователь планирует уйти, ему будут предложены промокоды и специальные условия.\\\n",
    "Команда оператора собрала персональные данные о некоторых клиентах, информацию об их тарифах и договорах."
   ]
  },
  {
   "cell_type": "markdown",
   "id": "274a4ef3-dc3f-4ee9-adea-e0f5df6257ea",
   "metadata": {},
   "source": [
    "### Описание услуг"
   ]
  },
  {
   "cell_type": "markdown",
   "id": "96d04840-5871-4dd0-96f6-423dc53ee084",
   "metadata": {},
   "source": [
    "Оператор предоставляет два основных типа услуг: \n",
    "\n",
    "1. Стационарную телефонную связь. Возможно подключение телефонного аппарата к нескольким линиям одновременно.\n",
    "2. Интернет. Подключение может быть двух типов: через телефонную линию (DSL*,* от англ. *digital subscriber line*, «цифровая абонентская линия») или оптоволоконный кабель (*Fiber optic*).  \n",
    "\n",
    "Также доступны такие услуги:\n",
    "\n",
    "- Интернет-безопасность: антивирус (*DeviceProtection*) и блокировка небезопасных сайтов (*OnlineSecurity*);\n",
    "- Выделенная линия технической поддержки (*TechSupport*);\n",
    "- Облачное хранилище файлов для резервного копирования данных (*OnlineBackup*);\n",
    "- Стриминговое телевидение (*StreamingTV*) и каталог фильмов (*StreamingMovies*).\n",
    "\n",
    "За услуги клиенты могут платить каждый месяц или заключить договор на 1–2 года. Доступны различные способы расчёта и возможность получения электронного чека."
   ]
  },
  {
   "cell_type": "markdown",
   "id": "293b5bca-1ccd-4232-92f6-e2da0a3a1409",
   "metadata": {},
   "source": [
    "## Задача проекта"
   ]
  },
  {
   "cell_type": "markdown",
   "id": "d711c046-a97d-4ba3-b2f9-638a2a4738a5",
   "metadata": {
    "tags": []
   },
   "source": [
    "Построить модель, которая на основе предоставленных данных сделает прогноз: уйдёт клиент от оператора в ближайшее время или нет (задача классификации).\n",
    "\n",
    "Качество предсказания оцениваем метрикой ROC-AUC >= 0.85 (целевой показатель)"
   ]
  },
  {
   "cell_type": "markdown",
   "id": "04945095-f535-4f01-beab-b3dc636b80e9",
   "metadata": {
    "tags": []
   },
   "source": [
    "## 1. Загрузка и подготовка данных"
   ]
  },
  {
   "cell_type": "markdown",
   "id": "d2fda902-01b1-49e0-80c5-6395f4a081e6",
   "metadata": {},
   "source": [
    "### 1.1 Импорт необходимых для работы библиотек, метрик и утилит"
   ]
  },
  {
   "cell_type": "code",
   "execution_count": 1,
   "id": "51a5b3f1-a619-4814-adc1-09c235458868",
   "metadata": {},
   "outputs": [],
   "source": [
    "# !pip install phik"
   ]
  },
  {
   "cell_type": "code",
   "execution_count": 2,
   "id": "e0ebd090-8035-4322-adeb-a03e79f3866b",
   "metadata": {},
   "outputs": [],
   "source": [
    "# импорт библиотек\n",
    "import pandas as pd\n",
    "import numpy as np\n",
    "import seaborn as sns\n",
    "import matplotlib.pyplot as plt\n",
    "from phik import phik_matrix\n",
    "\n",
    "# импорт моделей \n",
    "from catboost import CatBoostClassifier\n",
    "from sklearn.ensemble import RandomForestClassifier\n",
    "from sklearn.linear_model import LogisticRegression\n",
    "from sklearn.tree import DecisionTreeClassifier\n",
    "\n",
    "# предварительная обработка\n",
    "from sklearn.preprocessing import (\n",
    "    OneHotEncoder,\n",
    "    OrdinalEncoder,\n",
    "    StandardScaler,\n",
    "    MinMaxScaler\n",
    ")\n",
    "\n",
    "from sklearn.compose import make_column_transformer\n",
    "from sklearn.pipeline import Pipeline, make_pipeline\n",
    "\n",
    "from sklearn.model_selection import (\n",
    "    GridSearchCV, \n",
    "    RandomizedSearchCV,\n",
    "    train_test_split,\n",
    "    cross_val_predict\n",
    ")\n",
    "\n",
    "# метрики\n",
    "from sklearn.metrics import roc_auc_score, roc_curve, accuracy_score, auc\n",
    "\n",
    "# настройки\n",
    "import warnings\n",
    "warnings.filterwarnings(\"ignore\")\n",
    "from skimpy import clean_columns\n",
    "\n",
    "# константа верхний регистр\n",
    "RANDOM_STATE = 50623"
   ]
  },
  {
   "cell_type": "markdown",
   "id": "fbe89fb7-b700-4f17-92d5-1d715d535c28",
   "metadata": {
    "tags": []
   },
   "source": [
    "### Описание данных"
   ]
  },
  {
   "cell_type": "markdown",
   "id": "4acdbcec-da03-4132-af3a-dca7c5953043",
   "metadata": {},
   "source": [
    "- `BeginDate` – дата начала пользования услугами\n",
    "- `EndDate` – дата окончания пользования услугами\n",
    "- `Type` – тип оплаты: ежемесячный, годовой и т.д.\n",
    "- `PaperlessBilling` – безналичный расчет\n",
    "- `PaymentMethod` – способ оплаты\n",
    "- `MonthlyCharges` – ежемесячные траты на услуги\n",
    "- `TotalCharges` – всего потрачено денег на услуги\n",
    "- `Dependents` – наличие иждивенцев\n",
    "- `Senior Citizen` – наличие пенсионного статуса по возрасту\n",
    "- `Partner` – наличие супруга(и)\n",
    "- `MultipleLines` – наличие возможности ведения параллельных линий во время звонка"
   ]
  },
  {
   "cell_type": "markdown",
   "id": "29b446c4-9202-4717-9e4d-ae78c7c12455",
   "metadata": {},
   "source": [
    "Данные состоят из файлов, полученных из разных источников:\n",
    "\n",
    "- `contract_new.csv` — информация о договоре;\n",
    "- `personal_new.csv` — персональные данные клиента;\n",
    "- `internet_new.csv` — информация об интернет-услугах;\n",
    "- `phone_new.csv` — информация об услугах телефонии.\n",
    "\n",
    "Во всех файлах столбец `customerID` содержит код клиента.\n",
    "\n",
    "Информация о договорах актуальна на 1 февраля 2020."
   ]
  },
  {
   "cell_type": "code",
   "execution_count": 3,
   "id": "cc87cd26-673e-41c5-a366-7bd97aef664d",
   "metadata": {},
   "outputs": [],
   "source": [
    "# загрузим данные\n",
    "df_contract = pd.read_csv('C:\\\\Users\\\\Mikhail\\\\Яндекс_Практикум\\\\data_set\\\\contract_new.csv')\n",
    "df_personal = pd.read_csv('C:\\\\Users\\\\Mikhail\\\\Яндекс_Практикум\\\\data_set\\\\personal_new.csv')\n",
    "df_internet = pd.read_csv('C:\\\\Users\\\\Mikhail\\\\Яндекс_Практикум\\\\data_set\\\\internet_new.csv')\n",
    "df_phone = pd.read_csv('C:\\\\Users\\\\Mikhail\\\\Яндекс_Практикум\\\\data_set\\\\phone_new.csv')"
   ]
  },
  {
   "cell_type": "code",
   "execution_count": 4,
   "id": "6a051c30-ec40-4f4a-b55b-95a0b744f632",
   "metadata": {
    "tags": []
   },
   "outputs": [],
   "source": [
    "# функция для получения общей информации о данных\n",
    "def get_info(data):\n",
    "    display(data.head(5))\n",
    "    display(data.tail(5))\n",
    "    data.info()\n",
    "    display(data.describe())\n",
    "    print('\\nРазмер таблицы:', data.shape)\n",
    "    print('\\nКоличество явных дубликатов:', data.duplicated().sum())\n",
    "    print('\\nКоличество пропусков в таблице:', data.isna().sum().sum())"
   ]
  },
  {
   "cell_type": "markdown",
   "id": "8d2ba6d6-b821-414a-8b4d-950ec930c3e9",
   "metadata": {},
   "source": [
    "### 1.2. Общая информация contract_new"
   ]
  },
  {
   "cell_type": "code",
   "execution_count": 5,
   "id": "17581646-696a-47de-bdd8-4b9d39d05969",
   "metadata": {},
   "outputs": [
    {
     "data": {
      "text/html": [
       "<div>\n",
       "<style scoped>\n",
       "    .dataframe tbody tr th:only-of-type {\n",
       "        vertical-align: middle;\n",
       "    }\n",
       "\n",
       "    .dataframe tbody tr th {\n",
       "        vertical-align: top;\n",
       "    }\n",
       "\n",
       "    .dataframe thead th {\n",
       "        text-align: right;\n",
       "    }\n",
       "</style>\n",
       "<table border=\"1\" class=\"dataframe\">\n",
       "  <thead>\n",
       "    <tr style=\"text-align: right;\">\n",
       "      <th></th>\n",
       "      <th>customerID</th>\n",
       "      <th>BeginDate</th>\n",
       "      <th>EndDate</th>\n",
       "      <th>Type</th>\n",
       "      <th>PaperlessBilling</th>\n",
       "      <th>PaymentMethod</th>\n",
       "      <th>MonthlyCharges</th>\n",
       "      <th>TotalCharges</th>\n",
       "    </tr>\n",
       "  </thead>\n",
       "  <tbody>\n",
       "    <tr>\n",
       "      <th>0</th>\n",
       "      <td>7590-VHVEG</td>\n",
       "      <td>2020-01-01</td>\n",
       "      <td>No</td>\n",
       "      <td>Month-to-month</td>\n",
       "      <td>Yes</td>\n",
       "      <td>Electronic check</td>\n",
       "      <td>29.85</td>\n",
       "      <td>31.04</td>\n",
       "    </tr>\n",
       "    <tr>\n",
       "      <th>1</th>\n",
       "      <td>5575-GNVDE</td>\n",
       "      <td>2017-04-01</td>\n",
       "      <td>No</td>\n",
       "      <td>One year</td>\n",
       "      <td>No</td>\n",
       "      <td>Mailed check</td>\n",
       "      <td>56.95</td>\n",
       "      <td>2071.84</td>\n",
       "    </tr>\n",
       "    <tr>\n",
       "      <th>2</th>\n",
       "      <td>3668-QPYBK</td>\n",
       "      <td>2019-10-01</td>\n",
       "      <td>No</td>\n",
       "      <td>Month-to-month</td>\n",
       "      <td>Yes</td>\n",
       "      <td>Mailed check</td>\n",
       "      <td>53.85</td>\n",
       "      <td>226.17</td>\n",
       "    </tr>\n",
       "    <tr>\n",
       "      <th>3</th>\n",
       "      <td>7795-CFOCW</td>\n",
       "      <td>2016-05-01</td>\n",
       "      <td>No</td>\n",
       "      <td>One year</td>\n",
       "      <td>No</td>\n",
       "      <td>Bank transfer (automatic)</td>\n",
       "      <td>42.30</td>\n",
       "      <td>1960.6</td>\n",
       "    </tr>\n",
       "    <tr>\n",
       "      <th>4</th>\n",
       "      <td>9237-HQITU</td>\n",
       "      <td>2019-09-01</td>\n",
       "      <td>No</td>\n",
       "      <td>Month-to-month</td>\n",
       "      <td>Yes</td>\n",
       "      <td>Electronic check</td>\n",
       "      <td>70.70</td>\n",
       "      <td>353.5</td>\n",
       "    </tr>\n",
       "  </tbody>\n",
       "</table>\n",
       "</div>"
      ],
      "text/plain": [
       "   customerID   BeginDate EndDate            Type PaperlessBilling  \\\n",
       "0  7590-VHVEG  2020-01-01      No  Month-to-month              Yes   \n",
       "1  5575-GNVDE  2017-04-01      No        One year               No   \n",
       "2  3668-QPYBK  2019-10-01      No  Month-to-month              Yes   \n",
       "3  7795-CFOCW  2016-05-01      No        One year               No   \n",
       "4  9237-HQITU  2019-09-01      No  Month-to-month              Yes   \n",
       "\n",
       "               PaymentMethod  MonthlyCharges TotalCharges  \n",
       "0           Electronic check           29.85        31.04  \n",
       "1               Mailed check           56.95      2071.84  \n",
       "2               Mailed check           53.85       226.17  \n",
       "3  Bank transfer (automatic)           42.30       1960.6  \n",
       "4           Electronic check           70.70        353.5  "
      ]
     },
     "metadata": {},
     "output_type": "display_data"
    },
    {
     "data": {
      "text/html": [
       "<div>\n",
       "<style scoped>\n",
       "    .dataframe tbody tr th:only-of-type {\n",
       "        vertical-align: middle;\n",
       "    }\n",
       "\n",
       "    .dataframe tbody tr th {\n",
       "        vertical-align: top;\n",
       "    }\n",
       "\n",
       "    .dataframe thead th {\n",
       "        text-align: right;\n",
       "    }\n",
       "</style>\n",
       "<table border=\"1\" class=\"dataframe\">\n",
       "  <thead>\n",
       "    <tr style=\"text-align: right;\">\n",
       "      <th></th>\n",
       "      <th>customerID</th>\n",
       "      <th>BeginDate</th>\n",
       "      <th>EndDate</th>\n",
       "      <th>Type</th>\n",
       "      <th>PaperlessBilling</th>\n",
       "      <th>PaymentMethod</th>\n",
       "      <th>MonthlyCharges</th>\n",
       "      <th>TotalCharges</th>\n",
       "    </tr>\n",
       "  </thead>\n",
       "  <tbody>\n",
       "    <tr>\n",
       "      <th>7038</th>\n",
       "      <td>6840-RESVB</td>\n",
       "      <td>2018-02-01</td>\n",
       "      <td>No</td>\n",
       "      <td>One year</td>\n",
       "      <td>Yes</td>\n",
       "      <td>Mailed check</td>\n",
       "      <td>84.80</td>\n",
       "      <td>2035.2</td>\n",
       "    </tr>\n",
       "    <tr>\n",
       "      <th>7039</th>\n",
       "      <td>2234-XADUH</td>\n",
       "      <td>2014-02-01</td>\n",
       "      <td>No</td>\n",
       "      <td>One year</td>\n",
       "      <td>Yes</td>\n",
       "      <td>Credit card (automatic)</td>\n",
       "      <td>103.20</td>\n",
       "      <td>7430.4</td>\n",
       "    </tr>\n",
       "    <tr>\n",
       "      <th>7040</th>\n",
       "      <td>4801-JZAZL</td>\n",
       "      <td>2019-03-01</td>\n",
       "      <td>No</td>\n",
       "      <td>Month-to-month</td>\n",
       "      <td>Yes</td>\n",
       "      <td>Electronic check</td>\n",
       "      <td>29.60</td>\n",
       "      <td>325.6</td>\n",
       "    </tr>\n",
       "    <tr>\n",
       "      <th>7041</th>\n",
       "      <td>8361-LTMKD</td>\n",
       "      <td>2019-07-01</td>\n",
       "      <td>No</td>\n",
       "      <td>Month-to-month</td>\n",
       "      <td>Yes</td>\n",
       "      <td>Mailed check</td>\n",
       "      <td>74.40</td>\n",
       "      <td>520.8</td>\n",
       "    </tr>\n",
       "    <tr>\n",
       "      <th>7042</th>\n",
       "      <td>3186-AJIEK</td>\n",
       "      <td>2014-08-01</td>\n",
       "      <td>No</td>\n",
       "      <td>Two year</td>\n",
       "      <td>Yes</td>\n",
       "      <td>Bank transfer (automatic)</td>\n",
       "      <td>105.65</td>\n",
       "      <td>7251.82</td>\n",
       "    </tr>\n",
       "  </tbody>\n",
       "</table>\n",
       "</div>"
      ],
      "text/plain": [
       "      customerID   BeginDate EndDate            Type PaperlessBilling  \\\n",
       "7038  6840-RESVB  2018-02-01      No        One year              Yes   \n",
       "7039  2234-XADUH  2014-02-01      No        One year              Yes   \n",
       "7040  4801-JZAZL  2019-03-01      No  Month-to-month              Yes   \n",
       "7041  8361-LTMKD  2019-07-01      No  Month-to-month              Yes   \n",
       "7042  3186-AJIEK  2014-08-01      No        Two year              Yes   \n",
       "\n",
       "                  PaymentMethod  MonthlyCharges TotalCharges  \n",
       "7038               Mailed check           84.80       2035.2  \n",
       "7039    Credit card (automatic)          103.20       7430.4  \n",
       "7040           Electronic check           29.60        325.6  \n",
       "7041               Mailed check           74.40        520.8  \n",
       "7042  Bank transfer (automatic)          105.65      7251.82  "
      ]
     },
     "metadata": {},
     "output_type": "display_data"
    },
    {
     "name": "stdout",
     "output_type": "stream",
     "text": [
      "<class 'pandas.core.frame.DataFrame'>\n",
      "RangeIndex: 7043 entries, 0 to 7042\n",
      "Data columns (total 8 columns):\n",
      " #   Column            Non-Null Count  Dtype  \n",
      "---  ------            --------------  -----  \n",
      " 0   customerID        7043 non-null   object \n",
      " 1   BeginDate         7043 non-null   object \n",
      " 2   EndDate           7043 non-null   object \n",
      " 3   Type              7043 non-null   object \n",
      " 4   PaperlessBilling  7043 non-null   object \n",
      " 5   PaymentMethod     7043 non-null   object \n",
      " 6   MonthlyCharges    7043 non-null   float64\n",
      " 7   TotalCharges      7043 non-null   object \n",
      "dtypes: float64(1), object(7)\n",
      "memory usage: 440.3+ KB\n"
     ]
    },
    {
     "data": {
      "text/html": [
       "<div>\n",
       "<style scoped>\n",
       "    .dataframe tbody tr th:only-of-type {\n",
       "        vertical-align: middle;\n",
       "    }\n",
       "\n",
       "    .dataframe tbody tr th {\n",
       "        vertical-align: top;\n",
       "    }\n",
       "\n",
       "    .dataframe thead th {\n",
       "        text-align: right;\n",
       "    }\n",
       "</style>\n",
       "<table border=\"1\" class=\"dataframe\">\n",
       "  <thead>\n",
       "    <tr style=\"text-align: right;\">\n",
       "      <th></th>\n",
       "      <th>MonthlyCharges</th>\n",
       "    </tr>\n",
       "  </thead>\n",
       "  <tbody>\n",
       "    <tr>\n",
       "      <th>count</th>\n",
       "      <td>7043.000000</td>\n",
       "    </tr>\n",
       "    <tr>\n",
       "      <th>mean</th>\n",
       "      <td>64.761692</td>\n",
       "    </tr>\n",
       "    <tr>\n",
       "      <th>std</th>\n",
       "      <td>30.090047</td>\n",
       "    </tr>\n",
       "    <tr>\n",
       "      <th>min</th>\n",
       "      <td>18.250000</td>\n",
       "    </tr>\n",
       "    <tr>\n",
       "      <th>25%</th>\n",
       "      <td>35.500000</td>\n",
       "    </tr>\n",
       "    <tr>\n",
       "      <th>50%</th>\n",
       "      <td>70.350000</td>\n",
       "    </tr>\n",
       "    <tr>\n",
       "      <th>75%</th>\n",
       "      <td>89.850000</td>\n",
       "    </tr>\n",
       "    <tr>\n",
       "      <th>max</th>\n",
       "      <td>118.750000</td>\n",
       "    </tr>\n",
       "  </tbody>\n",
       "</table>\n",
       "</div>"
      ],
      "text/plain": [
       "       MonthlyCharges\n",
       "count     7043.000000\n",
       "mean        64.761692\n",
       "std         30.090047\n",
       "min         18.250000\n",
       "25%         35.500000\n",
       "50%         70.350000\n",
       "75%         89.850000\n",
       "max        118.750000"
      ]
     },
     "metadata": {},
     "output_type": "display_data"
    },
    {
     "name": "stdout",
     "output_type": "stream",
     "text": [
      "\n",
      "Размер таблицы: (7043, 8)\n",
      "\n",
      "Количество явных дубликатов: 0\n",
      "\n",
      "Количество пропусков в таблице: 0\n"
     ]
    }
   ],
   "source": [
    "get_info(df_contract)"
   ]
  },
  {
   "cell_type": "markdown",
   "id": "a980c84f-6b47-4976-b483-39a66122f0fa",
   "metadata": {},
   "source": [
    "### 1.3. Общая информация personal_new"
   ]
  },
  {
   "cell_type": "code",
   "execution_count": 6,
   "id": "1d6bc3be-c485-4346-aa70-9601f6c0a724",
   "metadata": {},
   "outputs": [
    {
     "data": {
      "text/html": [
       "<div>\n",
       "<style scoped>\n",
       "    .dataframe tbody tr th:only-of-type {\n",
       "        vertical-align: middle;\n",
       "    }\n",
       "\n",
       "    .dataframe tbody tr th {\n",
       "        vertical-align: top;\n",
       "    }\n",
       "\n",
       "    .dataframe thead th {\n",
       "        text-align: right;\n",
       "    }\n",
       "</style>\n",
       "<table border=\"1\" class=\"dataframe\">\n",
       "  <thead>\n",
       "    <tr style=\"text-align: right;\">\n",
       "      <th></th>\n",
       "      <th>customerID</th>\n",
       "      <th>gender</th>\n",
       "      <th>SeniorCitizen</th>\n",
       "      <th>Partner</th>\n",
       "      <th>Dependents</th>\n",
       "    </tr>\n",
       "  </thead>\n",
       "  <tbody>\n",
       "    <tr>\n",
       "      <th>0</th>\n",
       "      <td>7590-VHVEG</td>\n",
       "      <td>Female</td>\n",
       "      <td>0</td>\n",
       "      <td>Yes</td>\n",
       "      <td>No</td>\n",
       "    </tr>\n",
       "    <tr>\n",
       "      <th>1</th>\n",
       "      <td>5575-GNVDE</td>\n",
       "      <td>Male</td>\n",
       "      <td>0</td>\n",
       "      <td>No</td>\n",
       "      <td>No</td>\n",
       "    </tr>\n",
       "    <tr>\n",
       "      <th>2</th>\n",
       "      <td>3668-QPYBK</td>\n",
       "      <td>Male</td>\n",
       "      <td>0</td>\n",
       "      <td>No</td>\n",
       "      <td>No</td>\n",
       "    </tr>\n",
       "    <tr>\n",
       "      <th>3</th>\n",
       "      <td>7795-CFOCW</td>\n",
       "      <td>Male</td>\n",
       "      <td>0</td>\n",
       "      <td>No</td>\n",
       "      <td>No</td>\n",
       "    </tr>\n",
       "    <tr>\n",
       "      <th>4</th>\n",
       "      <td>9237-HQITU</td>\n",
       "      <td>Female</td>\n",
       "      <td>0</td>\n",
       "      <td>No</td>\n",
       "      <td>No</td>\n",
       "    </tr>\n",
       "  </tbody>\n",
       "</table>\n",
       "</div>"
      ],
      "text/plain": [
       "   customerID  gender  SeniorCitizen Partner Dependents\n",
       "0  7590-VHVEG  Female              0     Yes         No\n",
       "1  5575-GNVDE    Male              0      No         No\n",
       "2  3668-QPYBK    Male              0      No         No\n",
       "3  7795-CFOCW    Male              0      No         No\n",
       "4  9237-HQITU  Female              0      No         No"
      ]
     },
     "metadata": {},
     "output_type": "display_data"
    },
    {
     "data": {
      "text/html": [
       "<div>\n",
       "<style scoped>\n",
       "    .dataframe tbody tr th:only-of-type {\n",
       "        vertical-align: middle;\n",
       "    }\n",
       "\n",
       "    .dataframe tbody tr th {\n",
       "        vertical-align: top;\n",
       "    }\n",
       "\n",
       "    .dataframe thead th {\n",
       "        text-align: right;\n",
       "    }\n",
       "</style>\n",
       "<table border=\"1\" class=\"dataframe\">\n",
       "  <thead>\n",
       "    <tr style=\"text-align: right;\">\n",
       "      <th></th>\n",
       "      <th>customerID</th>\n",
       "      <th>gender</th>\n",
       "      <th>SeniorCitizen</th>\n",
       "      <th>Partner</th>\n",
       "      <th>Dependents</th>\n",
       "    </tr>\n",
       "  </thead>\n",
       "  <tbody>\n",
       "    <tr>\n",
       "      <th>7038</th>\n",
       "      <td>6840-RESVB</td>\n",
       "      <td>Male</td>\n",
       "      <td>0</td>\n",
       "      <td>Yes</td>\n",
       "      <td>Yes</td>\n",
       "    </tr>\n",
       "    <tr>\n",
       "      <th>7039</th>\n",
       "      <td>2234-XADUH</td>\n",
       "      <td>Female</td>\n",
       "      <td>0</td>\n",
       "      <td>Yes</td>\n",
       "      <td>Yes</td>\n",
       "    </tr>\n",
       "    <tr>\n",
       "      <th>7040</th>\n",
       "      <td>4801-JZAZL</td>\n",
       "      <td>Female</td>\n",
       "      <td>0</td>\n",
       "      <td>Yes</td>\n",
       "      <td>Yes</td>\n",
       "    </tr>\n",
       "    <tr>\n",
       "      <th>7041</th>\n",
       "      <td>8361-LTMKD</td>\n",
       "      <td>Male</td>\n",
       "      <td>1</td>\n",
       "      <td>Yes</td>\n",
       "      <td>No</td>\n",
       "    </tr>\n",
       "    <tr>\n",
       "      <th>7042</th>\n",
       "      <td>3186-AJIEK</td>\n",
       "      <td>Male</td>\n",
       "      <td>0</td>\n",
       "      <td>No</td>\n",
       "      <td>No</td>\n",
       "    </tr>\n",
       "  </tbody>\n",
       "</table>\n",
       "</div>"
      ],
      "text/plain": [
       "      customerID  gender  SeniorCitizen Partner Dependents\n",
       "7038  6840-RESVB    Male              0     Yes        Yes\n",
       "7039  2234-XADUH  Female              0     Yes        Yes\n",
       "7040  4801-JZAZL  Female              0     Yes        Yes\n",
       "7041  8361-LTMKD    Male              1     Yes         No\n",
       "7042  3186-AJIEK    Male              0      No         No"
      ]
     },
     "metadata": {},
     "output_type": "display_data"
    },
    {
     "name": "stdout",
     "output_type": "stream",
     "text": [
      "<class 'pandas.core.frame.DataFrame'>\n",
      "RangeIndex: 7043 entries, 0 to 7042\n",
      "Data columns (total 5 columns):\n",
      " #   Column         Non-Null Count  Dtype \n",
      "---  ------         --------------  ----- \n",
      " 0   customerID     7043 non-null   object\n",
      " 1   gender         7043 non-null   object\n",
      " 2   SeniorCitizen  7043 non-null   int64 \n",
      " 3   Partner        7043 non-null   object\n",
      " 4   Dependents     7043 non-null   object\n",
      "dtypes: int64(1), object(4)\n",
      "memory usage: 275.2+ KB\n"
     ]
    },
    {
     "data": {
      "text/html": [
       "<div>\n",
       "<style scoped>\n",
       "    .dataframe tbody tr th:only-of-type {\n",
       "        vertical-align: middle;\n",
       "    }\n",
       "\n",
       "    .dataframe tbody tr th {\n",
       "        vertical-align: top;\n",
       "    }\n",
       "\n",
       "    .dataframe thead th {\n",
       "        text-align: right;\n",
       "    }\n",
       "</style>\n",
       "<table border=\"1\" class=\"dataframe\">\n",
       "  <thead>\n",
       "    <tr style=\"text-align: right;\">\n",
       "      <th></th>\n",
       "      <th>SeniorCitizen</th>\n",
       "    </tr>\n",
       "  </thead>\n",
       "  <tbody>\n",
       "    <tr>\n",
       "      <th>count</th>\n",
       "      <td>7043.000000</td>\n",
       "    </tr>\n",
       "    <tr>\n",
       "      <th>mean</th>\n",
       "      <td>0.162147</td>\n",
       "    </tr>\n",
       "    <tr>\n",
       "      <th>std</th>\n",
       "      <td>0.368612</td>\n",
       "    </tr>\n",
       "    <tr>\n",
       "      <th>min</th>\n",
       "      <td>0.000000</td>\n",
       "    </tr>\n",
       "    <tr>\n",
       "      <th>25%</th>\n",
       "      <td>0.000000</td>\n",
       "    </tr>\n",
       "    <tr>\n",
       "      <th>50%</th>\n",
       "      <td>0.000000</td>\n",
       "    </tr>\n",
       "    <tr>\n",
       "      <th>75%</th>\n",
       "      <td>0.000000</td>\n",
       "    </tr>\n",
       "    <tr>\n",
       "      <th>max</th>\n",
       "      <td>1.000000</td>\n",
       "    </tr>\n",
       "  </tbody>\n",
       "</table>\n",
       "</div>"
      ],
      "text/plain": [
       "       SeniorCitizen\n",
       "count    7043.000000\n",
       "mean        0.162147\n",
       "std         0.368612\n",
       "min         0.000000\n",
       "25%         0.000000\n",
       "50%         0.000000\n",
       "75%         0.000000\n",
       "max         1.000000"
      ]
     },
     "metadata": {},
     "output_type": "display_data"
    },
    {
     "name": "stdout",
     "output_type": "stream",
     "text": [
      "\n",
      "Размер таблицы: (7043, 5)\n",
      "\n",
      "Количество явных дубликатов: 0\n",
      "\n",
      "Количество пропусков в таблице: 0\n"
     ]
    }
   ],
   "source": [
    "get_info(df_personal)"
   ]
  },
  {
   "cell_type": "markdown",
   "id": "ce2d6304-54f3-48dd-9520-6c64cb2badd7",
   "metadata": {},
   "source": [
    "### 1.4. Общая информация internet_new"
   ]
  },
  {
   "cell_type": "code",
   "execution_count": 7,
   "id": "12662fbb-a866-42a8-8c43-65442358587d",
   "metadata": {},
   "outputs": [
    {
     "data": {
      "text/html": [
       "<div>\n",
       "<style scoped>\n",
       "    .dataframe tbody tr th:only-of-type {\n",
       "        vertical-align: middle;\n",
       "    }\n",
       "\n",
       "    .dataframe tbody tr th {\n",
       "        vertical-align: top;\n",
       "    }\n",
       "\n",
       "    .dataframe thead th {\n",
       "        text-align: right;\n",
       "    }\n",
       "</style>\n",
       "<table border=\"1\" class=\"dataframe\">\n",
       "  <thead>\n",
       "    <tr style=\"text-align: right;\">\n",
       "      <th></th>\n",
       "      <th>customerID</th>\n",
       "      <th>InternetService</th>\n",
       "      <th>OnlineSecurity</th>\n",
       "      <th>OnlineBackup</th>\n",
       "      <th>DeviceProtection</th>\n",
       "      <th>TechSupport</th>\n",
       "      <th>StreamingTV</th>\n",
       "      <th>StreamingMovies</th>\n",
       "    </tr>\n",
       "  </thead>\n",
       "  <tbody>\n",
       "    <tr>\n",
       "      <th>0</th>\n",
       "      <td>7590-VHVEG</td>\n",
       "      <td>DSL</td>\n",
       "      <td>No</td>\n",
       "      <td>Yes</td>\n",
       "      <td>No</td>\n",
       "      <td>No</td>\n",
       "      <td>No</td>\n",
       "      <td>No</td>\n",
       "    </tr>\n",
       "    <tr>\n",
       "      <th>1</th>\n",
       "      <td>5575-GNVDE</td>\n",
       "      <td>DSL</td>\n",
       "      <td>Yes</td>\n",
       "      <td>No</td>\n",
       "      <td>Yes</td>\n",
       "      <td>No</td>\n",
       "      <td>No</td>\n",
       "      <td>No</td>\n",
       "    </tr>\n",
       "    <tr>\n",
       "      <th>2</th>\n",
       "      <td>3668-QPYBK</td>\n",
       "      <td>DSL</td>\n",
       "      <td>Yes</td>\n",
       "      <td>Yes</td>\n",
       "      <td>No</td>\n",
       "      <td>No</td>\n",
       "      <td>No</td>\n",
       "      <td>No</td>\n",
       "    </tr>\n",
       "    <tr>\n",
       "      <th>3</th>\n",
       "      <td>7795-CFOCW</td>\n",
       "      <td>DSL</td>\n",
       "      <td>Yes</td>\n",
       "      <td>No</td>\n",
       "      <td>Yes</td>\n",
       "      <td>Yes</td>\n",
       "      <td>No</td>\n",
       "      <td>No</td>\n",
       "    </tr>\n",
       "    <tr>\n",
       "      <th>4</th>\n",
       "      <td>9237-HQITU</td>\n",
       "      <td>Fiber optic</td>\n",
       "      <td>No</td>\n",
       "      <td>No</td>\n",
       "      <td>No</td>\n",
       "      <td>No</td>\n",
       "      <td>No</td>\n",
       "      <td>No</td>\n",
       "    </tr>\n",
       "  </tbody>\n",
       "</table>\n",
       "</div>"
      ],
      "text/plain": [
       "   customerID InternetService OnlineSecurity OnlineBackup DeviceProtection  \\\n",
       "0  7590-VHVEG             DSL             No          Yes               No   \n",
       "1  5575-GNVDE             DSL            Yes           No              Yes   \n",
       "2  3668-QPYBK             DSL            Yes          Yes               No   \n",
       "3  7795-CFOCW             DSL            Yes           No              Yes   \n",
       "4  9237-HQITU     Fiber optic             No           No               No   \n",
       "\n",
       "  TechSupport StreamingTV StreamingMovies  \n",
       "0          No          No              No  \n",
       "1          No          No              No  \n",
       "2          No          No              No  \n",
       "3         Yes          No              No  \n",
       "4          No          No              No  "
      ]
     },
     "metadata": {},
     "output_type": "display_data"
    },
    {
     "data": {
      "text/html": [
       "<div>\n",
       "<style scoped>\n",
       "    .dataframe tbody tr th:only-of-type {\n",
       "        vertical-align: middle;\n",
       "    }\n",
       "\n",
       "    .dataframe tbody tr th {\n",
       "        vertical-align: top;\n",
       "    }\n",
       "\n",
       "    .dataframe thead th {\n",
       "        text-align: right;\n",
       "    }\n",
       "</style>\n",
       "<table border=\"1\" class=\"dataframe\">\n",
       "  <thead>\n",
       "    <tr style=\"text-align: right;\">\n",
       "      <th></th>\n",
       "      <th>customerID</th>\n",
       "      <th>InternetService</th>\n",
       "      <th>OnlineSecurity</th>\n",
       "      <th>OnlineBackup</th>\n",
       "      <th>DeviceProtection</th>\n",
       "      <th>TechSupport</th>\n",
       "      <th>StreamingTV</th>\n",
       "      <th>StreamingMovies</th>\n",
       "    </tr>\n",
       "  </thead>\n",
       "  <tbody>\n",
       "    <tr>\n",
       "      <th>5512</th>\n",
       "      <td>6840-RESVB</td>\n",
       "      <td>DSL</td>\n",
       "      <td>Yes</td>\n",
       "      <td>No</td>\n",
       "      <td>Yes</td>\n",
       "      <td>Yes</td>\n",
       "      <td>Yes</td>\n",
       "      <td>Yes</td>\n",
       "    </tr>\n",
       "    <tr>\n",
       "      <th>5513</th>\n",
       "      <td>2234-XADUH</td>\n",
       "      <td>Fiber optic</td>\n",
       "      <td>No</td>\n",
       "      <td>Yes</td>\n",
       "      <td>Yes</td>\n",
       "      <td>No</td>\n",
       "      <td>Yes</td>\n",
       "      <td>Yes</td>\n",
       "    </tr>\n",
       "    <tr>\n",
       "      <th>5514</th>\n",
       "      <td>4801-JZAZL</td>\n",
       "      <td>DSL</td>\n",
       "      <td>Yes</td>\n",
       "      <td>No</td>\n",
       "      <td>No</td>\n",
       "      <td>No</td>\n",
       "      <td>No</td>\n",
       "      <td>No</td>\n",
       "    </tr>\n",
       "    <tr>\n",
       "      <th>5515</th>\n",
       "      <td>8361-LTMKD</td>\n",
       "      <td>Fiber optic</td>\n",
       "      <td>No</td>\n",
       "      <td>No</td>\n",
       "      <td>No</td>\n",
       "      <td>No</td>\n",
       "      <td>No</td>\n",
       "      <td>No</td>\n",
       "    </tr>\n",
       "    <tr>\n",
       "      <th>5516</th>\n",
       "      <td>3186-AJIEK</td>\n",
       "      <td>Fiber optic</td>\n",
       "      <td>Yes</td>\n",
       "      <td>No</td>\n",
       "      <td>Yes</td>\n",
       "      <td>Yes</td>\n",
       "      <td>Yes</td>\n",
       "      <td>Yes</td>\n",
       "    </tr>\n",
       "  </tbody>\n",
       "</table>\n",
       "</div>"
      ],
      "text/plain": [
       "      customerID InternetService OnlineSecurity OnlineBackup DeviceProtection  \\\n",
       "5512  6840-RESVB             DSL            Yes           No              Yes   \n",
       "5513  2234-XADUH     Fiber optic             No          Yes              Yes   \n",
       "5514  4801-JZAZL             DSL            Yes           No               No   \n",
       "5515  8361-LTMKD     Fiber optic             No           No               No   \n",
       "5516  3186-AJIEK     Fiber optic            Yes           No              Yes   \n",
       "\n",
       "     TechSupport StreamingTV StreamingMovies  \n",
       "5512         Yes         Yes             Yes  \n",
       "5513          No         Yes             Yes  \n",
       "5514          No          No              No  \n",
       "5515          No          No              No  \n",
       "5516         Yes         Yes             Yes  "
      ]
     },
     "metadata": {},
     "output_type": "display_data"
    },
    {
     "name": "stdout",
     "output_type": "stream",
     "text": [
      "<class 'pandas.core.frame.DataFrame'>\n",
      "RangeIndex: 5517 entries, 0 to 5516\n",
      "Data columns (total 8 columns):\n",
      " #   Column            Non-Null Count  Dtype \n",
      "---  ------            --------------  ----- \n",
      " 0   customerID        5517 non-null   object\n",
      " 1   InternetService   5517 non-null   object\n",
      " 2   OnlineSecurity    5517 non-null   object\n",
      " 3   OnlineBackup      5517 non-null   object\n",
      " 4   DeviceProtection  5517 non-null   object\n",
      " 5   TechSupport       5517 non-null   object\n",
      " 6   StreamingTV       5517 non-null   object\n",
      " 7   StreamingMovies   5517 non-null   object\n",
      "dtypes: object(8)\n",
      "memory usage: 344.9+ KB\n"
     ]
    },
    {
     "data": {
      "text/html": [
       "<div>\n",
       "<style scoped>\n",
       "    .dataframe tbody tr th:only-of-type {\n",
       "        vertical-align: middle;\n",
       "    }\n",
       "\n",
       "    .dataframe tbody tr th {\n",
       "        vertical-align: top;\n",
       "    }\n",
       "\n",
       "    .dataframe thead th {\n",
       "        text-align: right;\n",
       "    }\n",
       "</style>\n",
       "<table border=\"1\" class=\"dataframe\">\n",
       "  <thead>\n",
       "    <tr style=\"text-align: right;\">\n",
       "      <th></th>\n",
       "      <th>customerID</th>\n",
       "      <th>InternetService</th>\n",
       "      <th>OnlineSecurity</th>\n",
       "      <th>OnlineBackup</th>\n",
       "      <th>DeviceProtection</th>\n",
       "      <th>TechSupport</th>\n",
       "      <th>StreamingTV</th>\n",
       "      <th>StreamingMovies</th>\n",
       "    </tr>\n",
       "  </thead>\n",
       "  <tbody>\n",
       "    <tr>\n",
       "      <th>count</th>\n",
       "      <td>5517</td>\n",
       "      <td>5517</td>\n",
       "      <td>5517</td>\n",
       "      <td>5517</td>\n",
       "      <td>5517</td>\n",
       "      <td>5517</td>\n",
       "      <td>5517</td>\n",
       "      <td>5517</td>\n",
       "    </tr>\n",
       "    <tr>\n",
       "      <th>unique</th>\n",
       "      <td>5517</td>\n",
       "      <td>2</td>\n",
       "      <td>2</td>\n",
       "      <td>2</td>\n",
       "      <td>2</td>\n",
       "      <td>2</td>\n",
       "      <td>2</td>\n",
       "      <td>2</td>\n",
       "    </tr>\n",
       "    <tr>\n",
       "      <th>top</th>\n",
       "      <td>7590-VHVEG</td>\n",
       "      <td>Fiber optic</td>\n",
       "      <td>No</td>\n",
       "      <td>No</td>\n",
       "      <td>No</td>\n",
       "      <td>No</td>\n",
       "      <td>No</td>\n",
       "      <td>No</td>\n",
       "    </tr>\n",
       "    <tr>\n",
       "      <th>freq</th>\n",
       "      <td>1</td>\n",
       "      <td>3096</td>\n",
       "      <td>3498</td>\n",
       "      <td>3088</td>\n",
       "      <td>3095</td>\n",
       "      <td>3473</td>\n",
       "      <td>2810</td>\n",
       "      <td>2785</td>\n",
       "    </tr>\n",
       "  </tbody>\n",
       "</table>\n",
       "</div>"
      ],
      "text/plain": [
       "        customerID InternetService OnlineSecurity OnlineBackup  \\\n",
       "count         5517            5517           5517         5517   \n",
       "unique        5517               2              2            2   \n",
       "top     7590-VHVEG     Fiber optic             No           No   \n",
       "freq             1            3096           3498         3088   \n",
       "\n",
       "       DeviceProtection TechSupport StreamingTV StreamingMovies  \n",
       "count              5517        5517        5517            5517  \n",
       "unique                2           2           2               2  \n",
       "top                  No          No          No              No  \n",
       "freq               3095        3473        2810            2785  "
      ]
     },
     "metadata": {},
     "output_type": "display_data"
    },
    {
     "name": "stdout",
     "output_type": "stream",
     "text": [
      "\n",
      "Размер таблицы: (5517, 8)\n",
      "\n",
      "Количество явных дубликатов: 0\n",
      "\n",
      "Количество пропусков в таблице: 0\n"
     ]
    }
   ],
   "source": [
    "get_info(df_internet)"
   ]
  },
  {
   "cell_type": "markdown",
   "id": "2c0e08a1-4ba9-45e9-89d4-83e941c09418",
   "metadata": {},
   "source": [
    "### 1.5. Общая информация phone_new"
   ]
  },
  {
   "cell_type": "code",
   "execution_count": 8,
   "id": "8cd66ba8-82c8-41a9-a335-ce8f21da56cf",
   "metadata": {},
   "outputs": [
    {
     "data": {
      "text/html": [
       "<div>\n",
       "<style scoped>\n",
       "    .dataframe tbody tr th:only-of-type {\n",
       "        vertical-align: middle;\n",
       "    }\n",
       "\n",
       "    .dataframe tbody tr th {\n",
       "        vertical-align: top;\n",
       "    }\n",
       "\n",
       "    .dataframe thead th {\n",
       "        text-align: right;\n",
       "    }\n",
       "</style>\n",
       "<table border=\"1\" class=\"dataframe\">\n",
       "  <thead>\n",
       "    <tr style=\"text-align: right;\">\n",
       "      <th></th>\n",
       "      <th>customerID</th>\n",
       "      <th>MultipleLines</th>\n",
       "    </tr>\n",
       "  </thead>\n",
       "  <tbody>\n",
       "    <tr>\n",
       "      <th>0</th>\n",
       "      <td>5575-GNVDE</td>\n",
       "      <td>No</td>\n",
       "    </tr>\n",
       "    <tr>\n",
       "      <th>1</th>\n",
       "      <td>3668-QPYBK</td>\n",
       "      <td>No</td>\n",
       "    </tr>\n",
       "    <tr>\n",
       "      <th>2</th>\n",
       "      <td>9237-HQITU</td>\n",
       "      <td>No</td>\n",
       "    </tr>\n",
       "    <tr>\n",
       "      <th>3</th>\n",
       "      <td>9305-CDSKC</td>\n",
       "      <td>Yes</td>\n",
       "    </tr>\n",
       "    <tr>\n",
       "      <th>4</th>\n",
       "      <td>1452-KIOVK</td>\n",
       "      <td>Yes</td>\n",
       "    </tr>\n",
       "  </tbody>\n",
       "</table>\n",
       "</div>"
      ],
      "text/plain": [
       "   customerID MultipleLines\n",
       "0  5575-GNVDE            No\n",
       "1  3668-QPYBK            No\n",
       "2  9237-HQITU            No\n",
       "3  9305-CDSKC           Yes\n",
       "4  1452-KIOVK           Yes"
      ]
     },
     "metadata": {},
     "output_type": "display_data"
    },
    {
     "data": {
      "text/html": [
       "<div>\n",
       "<style scoped>\n",
       "    .dataframe tbody tr th:only-of-type {\n",
       "        vertical-align: middle;\n",
       "    }\n",
       "\n",
       "    .dataframe tbody tr th {\n",
       "        vertical-align: top;\n",
       "    }\n",
       "\n",
       "    .dataframe thead th {\n",
       "        text-align: right;\n",
       "    }\n",
       "</style>\n",
       "<table border=\"1\" class=\"dataframe\">\n",
       "  <thead>\n",
       "    <tr style=\"text-align: right;\">\n",
       "      <th></th>\n",
       "      <th>customerID</th>\n",
       "      <th>MultipleLines</th>\n",
       "    </tr>\n",
       "  </thead>\n",
       "  <tbody>\n",
       "    <tr>\n",
       "      <th>6356</th>\n",
       "      <td>2569-WGERO</td>\n",
       "      <td>No</td>\n",
       "    </tr>\n",
       "    <tr>\n",
       "      <th>6357</th>\n",
       "      <td>6840-RESVB</td>\n",
       "      <td>Yes</td>\n",
       "    </tr>\n",
       "    <tr>\n",
       "      <th>6358</th>\n",
       "      <td>2234-XADUH</td>\n",
       "      <td>Yes</td>\n",
       "    </tr>\n",
       "    <tr>\n",
       "      <th>6359</th>\n",
       "      <td>8361-LTMKD</td>\n",
       "      <td>Yes</td>\n",
       "    </tr>\n",
       "    <tr>\n",
       "      <th>6360</th>\n",
       "      <td>3186-AJIEK</td>\n",
       "      <td>No</td>\n",
       "    </tr>\n",
       "  </tbody>\n",
       "</table>\n",
       "</div>"
      ],
      "text/plain": [
       "      customerID MultipleLines\n",
       "6356  2569-WGERO            No\n",
       "6357  6840-RESVB           Yes\n",
       "6358  2234-XADUH           Yes\n",
       "6359  8361-LTMKD           Yes\n",
       "6360  3186-AJIEK            No"
      ]
     },
     "metadata": {},
     "output_type": "display_data"
    },
    {
     "name": "stdout",
     "output_type": "stream",
     "text": [
      "<class 'pandas.core.frame.DataFrame'>\n",
      "RangeIndex: 6361 entries, 0 to 6360\n",
      "Data columns (total 2 columns):\n",
      " #   Column         Non-Null Count  Dtype \n",
      "---  ------         --------------  ----- \n",
      " 0   customerID     6361 non-null   object\n",
      " 1   MultipleLines  6361 non-null   object\n",
      "dtypes: object(2)\n",
      "memory usage: 99.5+ KB\n"
     ]
    },
    {
     "data": {
      "text/html": [
       "<div>\n",
       "<style scoped>\n",
       "    .dataframe tbody tr th:only-of-type {\n",
       "        vertical-align: middle;\n",
       "    }\n",
       "\n",
       "    .dataframe tbody tr th {\n",
       "        vertical-align: top;\n",
       "    }\n",
       "\n",
       "    .dataframe thead th {\n",
       "        text-align: right;\n",
       "    }\n",
       "</style>\n",
       "<table border=\"1\" class=\"dataframe\">\n",
       "  <thead>\n",
       "    <tr style=\"text-align: right;\">\n",
       "      <th></th>\n",
       "      <th>customerID</th>\n",
       "      <th>MultipleLines</th>\n",
       "    </tr>\n",
       "  </thead>\n",
       "  <tbody>\n",
       "    <tr>\n",
       "      <th>count</th>\n",
       "      <td>6361</td>\n",
       "      <td>6361</td>\n",
       "    </tr>\n",
       "    <tr>\n",
       "      <th>unique</th>\n",
       "      <td>6361</td>\n",
       "      <td>2</td>\n",
       "    </tr>\n",
       "    <tr>\n",
       "      <th>top</th>\n",
       "      <td>5575-GNVDE</td>\n",
       "      <td>No</td>\n",
       "    </tr>\n",
       "    <tr>\n",
       "      <th>freq</th>\n",
       "      <td>1</td>\n",
       "      <td>3390</td>\n",
       "    </tr>\n",
       "  </tbody>\n",
       "</table>\n",
       "</div>"
      ],
      "text/plain": [
       "        customerID MultipleLines\n",
       "count         6361          6361\n",
       "unique        6361             2\n",
       "top     5575-GNVDE            No\n",
       "freq             1          3390"
      ]
     },
     "metadata": {},
     "output_type": "display_data"
    },
    {
     "name": "stdout",
     "output_type": "stream",
     "text": [
      "\n",
      "Размер таблицы: (6361, 2)\n",
      "\n",
      "Количество явных дубликатов: 0\n",
      "\n",
      "Количество пропусков в таблице: 0\n"
     ]
    }
   ],
   "source": [
    "get_info(df_phone)"
   ]
  },
  {
   "cell_type": "markdown",
   "id": "8239e750-172e-4ce8-9e04-2bce63e9a8a4",
   "metadata": {},
   "source": [
    "## Выводы"
   ]
  },
  {
   "cell_type": "markdown",
   "id": "993ef55d-f254-4d10-98a6-5843140e83e7",
   "metadata": {},
   "source": [
    "1. Пропуски и явные дубликаты в таблицах не обнаружены.\n",
    "2. Приведем названия столбцов к единому стилю - snake_case.\n",
    "3. Потребуется изменить типы данных для большинства признаков.\n",
    "4. Для дальнейшей работы объединим таблицы по customerID, появятся пропуски.\n",
    "5. Целевой признак EndDate.\n",
    "6. Добавим признак lifetime_value (продолжительность жизни клиента) - это период с момента подключения и до прекращения контракта.\n",
    "7. Для тех клиентов, кто ещё сотрудничает с провайдером, конечным сроком будет дата актуальной информации о договорах - 1 февраля 2020\n",
    " "
   ]
  },
  {
   "cell_type": "markdown",
   "id": "e2cf43e6-b3e9-41c4-ac20-1cbb9641c7b3",
   "metadata": {
    "tags": []
   },
   "source": [
    "### Примерный план работы\n",
    "\n",
    "**1. Проведем предобработку данных:**\n",
    "\n",
    "* объединим таблицы по ключу `customerID`\n",
    "* изучим пропуски и решим, что с ними делать\n",
    "* приведем данные к соответствующим типам\n",
    "* сформируем дополнительный(е) признак(и)\n",
    "\n",
    "\n",
    "**2. Проведем исследовательский анализ данных**\n",
    "\n",
    "* исследуем числовые признаки на предмет выбросов и аномальных значений\n",
    "* исследуем категориальные признаки (посмотрим уникальные значения, пропуски, оценим баланс)\n",
    "* сравним различные признаки в группах клиентов\n",
    "* построим графики\n",
    "\n",
    "**3. Подготовим обучающие и целевой признаки:**\n",
    "\n",
    "* разделим на выборки - train = 0.75, test = 0.25 (используем кросс-валидацию)\n",
    "* кодируем категориальные признаки\n",
    "* масштабируем численные признаки\n",
    "\n",
    "**4. Соберем PipeLine моделей**\n",
    "\n",
    "* протестируем модели и подберем для них гиперпараметры с помощью кросс-валидации\n",
    "* добьемся лучшего показателя для метрики ROC-AUC>=0.85\n",
    "* лучшую модель протестируем на выборке test\n",
    "\n",
    "**5. Сделаем и опишем выводы**\n",
    "\n",
    "**6. Подготовим отчет о работе**"
   ]
  },
  {
   "cell_type": "markdown",
   "id": "44e7e535-3faf-428a-9f4d-8aace6186671",
   "metadata": {},
   "source": [
    "<h1> II часть: КОД </h1>"
   ]
  },
  {
   "cell_type": "markdown",
   "id": "0c0a5dd1-9156-4769-b6f0-35474ad8cefb",
   "metadata": {
    "tags": []
   },
   "source": [
    "## 2. Предобработка данных"
   ]
  },
  {
   "cell_type": "markdown",
   "id": "69fb966a-c51a-4b50-966e-7093f758d805",
   "metadata": {},
   "source": [
    "### 2.1 Объединим таблицы по ключу customerID"
   ]
  },
  {
   "cell_type": "markdown",
   "id": "c8ce14dc-034e-4e3f-bb7d-a28c9aa95cdc",
   "metadata": {},
   "source": [
    "Объединение таблиц df_contract, df_personal, df_internet и df_phone по столбцу customerID\\\n",
    "Вывод объединенной таблицы"
   ]
  },
  {
   "cell_type": "code",
   "execution_count": 9,
   "id": "881062c4-1669-40d6-a01a-5b73a70f5d07",
   "metadata": {
    "scrolled": true
   },
   "outputs": [
    {
     "data": {
      "text/html": [
       "<div>\n",
       "<style scoped>\n",
       "    .dataframe tbody tr th:only-of-type {\n",
       "        vertical-align: middle;\n",
       "    }\n",
       "\n",
       "    .dataframe tbody tr th {\n",
       "        vertical-align: top;\n",
       "    }\n",
       "\n",
       "    .dataframe thead th {\n",
       "        text-align: right;\n",
       "    }\n",
       "</style>\n",
       "<table border=\"1\" class=\"dataframe\">\n",
       "  <thead>\n",
       "    <tr style=\"text-align: right;\">\n",
       "      <th></th>\n",
       "      <th>customerID</th>\n",
       "      <th>BeginDate</th>\n",
       "      <th>EndDate</th>\n",
       "      <th>Type</th>\n",
       "      <th>PaperlessBilling</th>\n",
       "      <th>PaymentMethod</th>\n",
       "      <th>MonthlyCharges</th>\n",
       "      <th>TotalCharges</th>\n",
       "      <th>gender</th>\n",
       "      <th>SeniorCitizen</th>\n",
       "      <th>Partner</th>\n",
       "      <th>Dependents</th>\n",
       "      <th>InternetService</th>\n",
       "      <th>OnlineSecurity</th>\n",
       "      <th>OnlineBackup</th>\n",
       "      <th>DeviceProtection</th>\n",
       "      <th>TechSupport</th>\n",
       "      <th>StreamingTV</th>\n",
       "      <th>StreamingMovies</th>\n",
       "      <th>MultipleLines</th>\n",
       "    </tr>\n",
       "  </thead>\n",
       "  <tbody>\n",
       "    <tr>\n",
       "      <th>0</th>\n",
       "      <td>7590-VHVEG</td>\n",
       "      <td>2020-01-01</td>\n",
       "      <td>No</td>\n",
       "      <td>Month-to-month</td>\n",
       "      <td>Yes</td>\n",
       "      <td>Electronic check</td>\n",
       "      <td>29.85</td>\n",
       "      <td>31.04</td>\n",
       "      <td>Female</td>\n",
       "      <td>0</td>\n",
       "      <td>Yes</td>\n",
       "      <td>No</td>\n",
       "      <td>DSL</td>\n",
       "      <td>No</td>\n",
       "      <td>Yes</td>\n",
       "      <td>No</td>\n",
       "      <td>No</td>\n",
       "      <td>No</td>\n",
       "      <td>No</td>\n",
       "      <td>NaN</td>\n",
       "    </tr>\n",
       "    <tr>\n",
       "      <th>1</th>\n",
       "      <td>5575-GNVDE</td>\n",
       "      <td>2017-04-01</td>\n",
       "      <td>No</td>\n",
       "      <td>One year</td>\n",
       "      <td>No</td>\n",
       "      <td>Mailed check</td>\n",
       "      <td>56.95</td>\n",
       "      <td>2071.84</td>\n",
       "      <td>Male</td>\n",
       "      <td>0</td>\n",
       "      <td>No</td>\n",
       "      <td>No</td>\n",
       "      <td>DSL</td>\n",
       "      <td>Yes</td>\n",
       "      <td>No</td>\n",
       "      <td>Yes</td>\n",
       "      <td>No</td>\n",
       "      <td>No</td>\n",
       "      <td>No</td>\n",
       "      <td>No</td>\n",
       "    </tr>\n",
       "    <tr>\n",
       "      <th>2</th>\n",
       "      <td>3668-QPYBK</td>\n",
       "      <td>2019-10-01</td>\n",
       "      <td>No</td>\n",
       "      <td>Month-to-month</td>\n",
       "      <td>Yes</td>\n",
       "      <td>Mailed check</td>\n",
       "      <td>53.85</td>\n",
       "      <td>226.17</td>\n",
       "      <td>Male</td>\n",
       "      <td>0</td>\n",
       "      <td>No</td>\n",
       "      <td>No</td>\n",
       "      <td>DSL</td>\n",
       "      <td>Yes</td>\n",
       "      <td>Yes</td>\n",
       "      <td>No</td>\n",
       "      <td>No</td>\n",
       "      <td>No</td>\n",
       "      <td>No</td>\n",
       "      <td>No</td>\n",
       "    </tr>\n",
       "    <tr>\n",
       "      <th>3</th>\n",
       "      <td>7795-CFOCW</td>\n",
       "      <td>2016-05-01</td>\n",
       "      <td>No</td>\n",
       "      <td>One year</td>\n",
       "      <td>No</td>\n",
       "      <td>Bank transfer (automatic)</td>\n",
       "      <td>42.30</td>\n",
       "      <td>1960.6</td>\n",
       "      <td>Male</td>\n",
       "      <td>0</td>\n",
       "      <td>No</td>\n",
       "      <td>No</td>\n",
       "      <td>DSL</td>\n",
       "      <td>Yes</td>\n",
       "      <td>No</td>\n",
       "      <td>Yes</td>\n",
       "      <td>Yes</td>\n",
       "      <td>No</td>\n",
       "      <td>No</td>\n",
       "      <td>NaN</td>\n",
       "    </tr>\n",
       "    <tr>\n",
       "      <th>4</th>\n",
       "      <td>9237-HQITU</td>\n",
       "      <td>2019-09-01</td>\n",
       "      <td>No</td>\n",
       "      <td>Month-to-month</td>\n",
       "      <td>Yes</td>\n",
       "      <td>Electronic check</td>\n",
       "      <td>70.70</td>\n",
       "      <td>353.5</td>\n",
       "      <td>Female</td>\n",
       "      <td>0</td>\n",
       "      <td>No</td>\n",
       "      <td>No</td>\n",
       "      <td>Fiber optic</td>\n",
       "      <td>No</td>\n",
       "      <td>No</td>\n",
       "      <td>No</td>\n",
       "      <td>No</td>\n",
       "      <td>No</td>\n",
       "      <td>No</td>\n",
       "      <td>No</td>\n",
       "    </tr>\n",
       "  </tbody>\n",
       "</table>\n",
       "</div>"
      ],
      "text/plain": [
       "   customerID   BeginDate EndDate            Type PaperlessBilling  \\\n",
       "0  7590-VHVEG  2020-01-01      No  Month-to-month              Yes   \n",
       "1  5575-GNVDE  2017-04-01      No        One year               No   \n",
       "2  3668-QPYBK  2019-10-01      No  Month-to-month              Yes   \n",
       "3  7795-CFOCW  2016-05-01      No        One year               No   \n",
       "4  9237-HQITU  2019-09-01      No  Month-to-month              Yes   \n",
       "\n",
       "               PaymentMethod  MonthlyCharges TotalCharges  gender  \\\n",
       "0           Electronic check           29.85        31.04  Female   \n",
       "1               Mailed check           56.95      2071.84    Male   \n",
       "2               Mailed check           53.85       226.17    Male   \n",
       "3  Bank transfer (automatic)           42.30       1960.6    Male   \n",
       "4           Electronic check           70.70        353.5  Female   \n",
       "\n",
       "   SeniorCitizen Partner Dependents InternetService OnlineSecurity  \\\n",
       "0              0     Yes         No             DSL             No   \n",
       "1              0      No         No             DSL            Yes   \n",
       "2              0      No         No             DSL            Yes   \n",
       "3              0      No         No             DSL            Yes   \n",
       "4              0      No         No     Fiber optic             No   \n",
       "\n",
       "  OnlineBackup DeviceProtection TechSupport StreamingTV StreamingMovies  \\\n",
       "0          Yes               No          No          No              No   \n",
       "1           No              Yes          No          No              No   \n",
       "2          Yes               No          No          No              No   \n",
       "3           No              Yes         Yes          No              No   \n",
       "4           No               No          No          No              No   \n",
       "\n",
       "  MultipleLines  \n",
       "0           NaN  \n",
       "1            No  \n",
       "2            No  \n",
       "3           NaN  \n",
       "4            No  "
      ]
     },
     "execution_count": 9,
     "metadata": {},
     "output_type": "execute_result"
    }
   ],
   "source": [
    "df = pd.merge(df_contract, df_personal, on='customerID', how='outer')\n",
    "df = pd.merge(df, df_internet, on='customerID', how='outer')\n",
    "df = pd.merge(df, df_phone, on='customerID', how='outer')\n",
    "\n",
    "df.head(5)"
   ]
  },
  {
   "cell_type": "markdown",
   "id": "ae2a6c5a-b495-4ecf-8213-6ed9cffcd890",
   "metadata": {},
   "source": [
    "### 2.2 Приведем названия столбцов к единому стилю - snake_case"
   ]
  },
  {
   "cell_type": "markdown",
   "id": "c7f40956-eb42-466e-8a27-ecb761dfd5f7",
   "metadata": {
    "jp-MarkdownHeadingCollapsed": true,
    "tags": []
   },
   "source": [
    "С помощью функции clean_columms из Skimpy переведем названия столбцов в snake стиль "
   ]
  },
  {
   "cell_type": "code",
   "execution_count": 10,
   "id": "4878a141-42f0-4be0-8f28-2f34f560d794",
   "metadata": {},
   "outputs": [
    {
     "data": {
      "text/html": [
       "<pre style=\"white-space:pre;overflow-x:auto;line-height:normal;font-family:Menlo,'DejaVu Sans Mono',consolas,'Courier New',monospace\"><span style=\"color: #008080; text-decoration-color: #008080; font-weight: bold\">19</span> column names have been cleaned\n",
       "</pre>\n"
      ],
      "text/plain": [
       "\u001b[1;36m19\u001b[0m column names have been cleaned\n"
      ]
     },
     "metadata": {},
     "output_type": "display_data"
    },
    {
     "data": {
      "text/plain": [
       "['customer_id',\n",
       " 'begin_date',\n",
       " 'end_date',\n",
       " 'type',\n",
       " 'paperless_billing',\n",
       " 'payment_method',\n",
       " 'monthly_charges',\n",
       " 'total_charges',\n",
       " 'gender',\n",
       " 'senior_citizen',\n",
       " 'partner',\n",
       " 'dependents',\n",
       " 'internet_service',\n",
       " 'online_security',\n",
       " 'online_backup',\n",
       " 'device_protection',\n",
       " 'tech_support',\n",
       " 'streaming_tv',\n",
       " 'streaming_movies',\n",
       " 'multiple_lines']"
      ]
     },
     "execution_count": 10,
     "metadata": {},
     "output_type": "execute_result"
    }
   ],
   "source": [
    "df = clean_columns(df)\n",
    "df.columns.tolist()"
   ]
  },
  {
   "cell_type": "markdown",
   "id": "6247673a-c0a0-4c45-993d-cff73169e1f1",
   "metadata": {},
   "source": [
    "Оцемим результат и получим общую информацию о таблице"
   ]
  },
  {
   "cell_type": "code",
   "execution_count": 11,
   "id": "8d3ab1d7-f19a-45ca-b0bb-458610639f4f",
   "metadata": {},
   "outputs": [
    {
     "data": {
      "text/html": [
       "<div>\n",
       "<style scoped>\n",
       "    .dataframe tbody tr th:only-of-type {\n",
       "        vertical-align: middle;\n",
       "    }\n",
       "\n",
       "    .dataframe tbody tr th {\n",
       "        vertical-align: top;\n",
       "    }\n",
       "\n",
       "    .dataframe thead th {\n",
       "        text-align: right;\n",
       "    }\n",
       "</style>\n",
       "<table border=\"1\" class=\"dataframe\">\n",
       "  <thead>\n",
       "    <tr style=\"text-align: right;\">\n",
       "      <th></th>\n",
       "      <th>customer_id</th>\n",
       "      <th>begin_date</th>\n",
       "      <th>end_date</th>\n",
       "      <th>type</th>\n",
       "      <th>paperless_billing</th>\n",
       "      <th>payment_method</th>\n",
       "      <th>monthly_charges</th>\n",
       "      <th>total_charges</th>\n",
       "      <th>gender</th>\n",
       "      <th>senior_citizen</th>\n",
       "      <th>partner</th>\n",
       "      <th>dependents</th>\n",
       "      <th>internet_service</th>\n",
       "      <th>online_security</th>\n",
       "      <th>online_backup</th>\n",
       "      <th>device_protection</th>\n",
       "      <th>tech_support</th>\n",
       "      <th>streaming_tv</th>\n",
       "      <th>streaming_movies</th>\n",
       "      <th>multiple_lines</th>\n",
       "    </tr>\n",
       "  </thead>\n",
       "  <tbody>\n",
       "    <tr>\n",
       "      <th>0</th>\n",
       "      <td>7590-VHVEG</td>\n",
       "      <td>2020-01-01</td>\n",
       "      <td>No</td>\n",
       "      <td>Month-to-month</td>\n",
       "      <td>Yes</td>\n",
       "      <td>Electronic check</td>\n",
       "      <td>29.85</td>\n",
       "      <td>31.04</td>\n",
       "      <td>Female</td>\n",
       "      <td>0</td>\n",
       "      <td>Yes</td>\n",
       "      <td>No</td>\n",
       "      <td>DSL</td>\n",
       "      <td>No</td>\n",
       "      <td>Yes</td>\n",
       "      <td>No</td>\n",
       "      <td>No</td>\n",
       "      <td>No</td>\n",
       "      <td>No</td>\n",
       "      <td>NaN</td>\n",
       "    </tr>\n",
       "    <tr>\n",
       "      <th>1</th>\n",
       "      <td>5575-GNVDE</td>\n",
       "      <td>2017-04-01</td>\n",
       "      <td>No</td>\n",
       "      <td>One year</td>\n",
       "      <td>No</td>\n",
       "      <td>Mailed check</td>\n",
       "      <td>56.95</td>\n",
       "      <td>2071.84</td>\n",
       "      <td>Male</td>\n",
       "      <td>0</td>\n",
       "      <td>No</td>\n",
       "      <td>No</td>\n",
       "      <td>DSL</td>\n",
       "      <td>Yes</td>\n",
       "      <td>No</td>\n",
       "      <td>Yes</td>\n",
       "      <td>No</td>\n",
       "      <td>No</td>\n",
       "      <td>No</td>\n",
       "      <td>No</td>\n",
       "    </tr>\n",
       "    <tr>\n",
       "      <th>2</th>\n",
       "      <td>3668-QPYBK</td>\n",
       "      <td>2019-10-01</td>\n",
       "      <td>No</td>\n",
       "      <td>Month-to-month</td>\n",
       "      <td>Yes</td>\n",
       "      <td>Mailed check</td>\n",
       "      <td>53.85</td>\n",
       "      <td>226.17</td>\n",
       "      <td>Male</td>\n",
       "      <td>0</td>\n",
       "      <td>No</td>\n",
       "      <td>No</td>\n",
       "      <td>DSL</td>\n",
       "      <td>Yes</td>\n",
       "      <td>Yes</td>\n",
       "      <td>No</td>\n",
       "      <td>No</td>\n",
       "      <td>No</td>\n",
       "      <td>No</td>\n",
       "      <td>No</td>\n",
       "    </tr>\n",
       "    <tr>\n",
       "      <th>3</th>\n",
       "      <td>7795-CFOCW</td>\n",
       "      <td>2016-05-01</td>\n",
       "      <td>No</td>\n",
       "      <td>One year</td>\n",
       "      <td>No</td>\n",
       "      <td>Bank transfer (automatic)</td>\n",
       "      <td>42.30</td>\n",
       "      <td>1960.6</td>\n",
       "      <td>Male</td>\n",
       "      <td>0</td>\n",
       "      <td>No</td>\n",
       "      <td>No</td>\n",
       "      <td>DSL</td>\n",
       "      <td>Yes</td>\n",
       "      <td>No</td>\n",
       "      <td>Yes</td>\n",
       "      <td>Yes</td>\n",
       "      <td>No</td>\n",
       "      <td>No</td>\n",
       "      <td>NaN</td>\n",
       "    </tr>\n",
       "    <tr>\n",
       "      <th>4</th>\n",
       "      <td>9237-HQITU</td>\n",
       "      <td>2019-09-01</td>\n",
       "      <td>No</td>\n",
       "      <td>Month-to-month</td>\n",
       "      <td>Yes</td>\n",
       "      <td>Electronic check</td>\n",
       "      <td>70.70</td>\n",
       "      <td>353.5</td>\n",
       "      <td>Female</td>\n",
       "      <td>0</td>\n",
       "      <td>No</td>\n",
       "      <td>No</td>\n",
       "      <td>Fiber optic</td>\n",
       "      <td>No</td>\n",
       "      <td>No</td>\n",
       "      <td>No</td>\n",
       "      <td>No</td>\n",
       "      <td>No</td>\n",
       "      <td>No</td>\n",
       "      <td>No</td>\n",
       "    </tr>\n",
       "  </tbody>\n",
       "</table>\n",
       "</div>"
      ],
      "text/plain": [
       "  customer_id  begin_date end_date            type paperless_billing  \\\n",
       "0  7590-VHVEG  2020-01-01       No  Month-to-month               Yes   \n",
       "1  5575-GNVDE  2017-04-01       No        One year                No   \n",
       "2  3668-QPYBK  2019-10-01       No  Month-to-month               Yes   \n",
       "3  7795-CFOCW  2016-05-01       No        One year                No   \n",
       "4  9237-HQITU  2019-09-01       No  Month-to-month               Yes   \n",
       "\n",
       "              payment_method  monthly_charges total_charges  gender  \\\n",
       "0           Electronic check            29.85         31.04  Female   \n",
       "1               Mailed check            56.95       2071.84    Male   \n",
       "2               Mailed check            53.85        226.17    Male   \n",
       "3  Bank transfer (automatic)            42.30        1960.6    Male   \n",
       "4           Electronic check            70.70         353.5  Female   \n",
       "\n",
       "   senior_citizen partner dependents internet_service online_security  \\\n",
       "0               0     Yes         No              DSL              No   \n",
       "1               0      No         No              DSL             Yes   \n",
       "2               0      No         No              DSL             Yes   \n",
       "3               0      No         No              DSL             Yes   \n",
       "4               0      No         No      Fiber optic              No   \n",
       "\n",
       "  online_backup device_protection tech_support streaming_tv streaming_movies  \\\n",
       "0           Yes                No           No           No               No   \n",
       "1            No               Yes           No           No               No   \n",
       "2           Yes                No           No           No               No   \n",
       "3            No               Yes          Yes           No               No   \n",
       "4            No                No           No           No               No   \n",
       "\n",
       "  multiple_lines  \n",
       "0            NaN  \n",
       "1             No  \n",
       "2             No  \n",
       "3            NaN  \n",
       "4             No  "
      ]
     },
     "metadata": {},
     "output_type": "display_data"
    },
    {
     "data": {
      "text/html": [
       "<div>\n",
       "<style scoped>\n",
       "    .dataframe tbody tr th:only-of-type {\n",
       "        vertical-align: middle;\n",
       "    }\n",
       "\n",
       "    .dataframe tbody tr th {\n",
       "        vertical-align: top;\n",
       "    }\n",
       "\n",
       "    .dataframe thead th {\n",
       "        text-align: right;\n",
       "    }\n",
       "</style>\n",
       "<table border=\"1\" class=\"dataframe\">\n",
       "  <thead>\n",
       "    <tr style=\"text-align: right;\">\n",
       "      <th></th>\n",
       "      <th>customer_id</th>\n",
       "      <th>begin_date</th>\n",
       "      <th>end_date</th>\n",
       "      <th>type</th>\n",
       "      <th>paperless_billing</th>\n",
       "      <th>payment_method</th>\n",
       "      <th>monthly_charges</th>\n",
       "      <th>total_charges</th>\n",
       "      <th>gender</th>\n",
       "      <th>senior_citizen</th>\n",
       "      <th>partner</th>\n",
       "      <th>dependents</th>\n",
       "      <th>internet_service</th>\n",
       "      <th>online_security</th>\n",
       "      <th>online_backup</th>\n",
       "      <th>device_protection</th>\n",
       "      <th>tech_support</th>\n",
       "      <th>streaming_tv</th>\n",
       "      <th>streaming_movies</th>\n",
       "      <th>multiple_lines</th>\n",
       "    </tr>\n",
       "  </thead>\n",
       "  <tbody>\n",
       "    <tr>\n",
       "      <th>7038</th>\n",
       "      <td>6840-RESVB</td>\n",
       "      <td>2018-02-01</td>\n",
       "      <td>No</td>\n",
       "      <td>One year</td>\n",
       "      <td>Yes</td>\n",
       "      <td>Mailed check</td>\n",
       "      <td>84.80</td>\n",
       "      <td>2035.2</td>\n",
       "      <td>Male</td>\n",
       "      <td>0</td>\n",
       "      <td>Yes</td>\n",
       "      <td>Yes</td>\n",
       "      <td>DSL</td>\n",
       "      <td>Yes</td>\n",
       "      <td>No</td>\n",
       "      <td>Yes</td>\n",
       "      <td>Yes</td>\n",
       "      <td>Yes</td>\n",
       "      <td>Yes</td>\n",
       "      <td>Yes</td>\n",
       "    </tr>\n",
       "    <tr>\n",
       "      <th>7039</th>\n",
       "      <td>2234-XADUH</td>\n",
       "      <td>2014-02-01</td>\n",
       "      <td>No</td>\n",
       "      <td>One year</td>\n",
       "      <td>Yes</td>\n",
       "      <td>Credit card (automatic)</td>\n",
       "      <td>103.20</td>\n",
       "      <td>7430.4</td>\n",
       "      <td>Female</td>\n",
       "      <td>0</td>\n",
       "      <td>Yes</td>\n",
       "      <td>Yes</td>\n",
       "      <td>Fiber optic</td>\n",
       "      <td>No</td>\n",
       "      <td>Yes</td>\n",
       "      <td>Yes</td>\n",
       "      <td>No</td>\n",
       "      <td>Yes</td>\n",
       "      <td>Yes</td>\n",
       "      <td>Yes</td>\n",
       "    </tr>\n",
       "    <tr>\n",
       "      <th>7040</th>\n",
       "      <td>4801-JZAZL</td>\n",
       "      <td>2019-03-01</td>\n",
       "      <td>No</td>\n",
       "      <td>Month-to-month</td>\n",
       "      <td>Yes</td>\n",
       "      <td>Electronic check</td>\n",
       "      <td>29.60</td>\n",
       "      <td>325.6</td>\n",
       "      <td>Female</td>\n",
       "      <td>0</td>\n",
       "      <td>Yes</td>\n",
       "      <td>Yes</td>\n",
       "      <td>DSL</td>\n",
       "      <td>Yes</td>\n",
       "      <td>No</td>\n",
       "      <td>No</td>\n",
       "      <td>No</td>\n",
       "      <td>No</td>\n",
       "      <td>No</td>\n",
       "      <td>NaN</td>\n",
       "    </tr>\n",
       "    <tr>\n",
       "      <th>7041</th>\n",
       "      <td>8361-LTMKD</td>\n",
       "      <td>2019-07-01</td>\n",
       "      <td>No</td>\n",
       "      <td>Month-to-month</td>\n",
       "      <td>Yes</td>\n",
       "      <td>Mailed check</td>\n",
       "      <td>74.40</td>\n",
       "      <td>520.8</td>\n",
       "      <td>Male</td>\n",
       "      <td>1</td>\n",
       "      <td>Yes</td>\n",
       "      <td>No</td>\n",
       "      <td>Fiber optic</td>\n",
       "      <td>No</td>\n",
       "      <td>No</td>\n",
       "      <td>No</td>\n",
       "      <td>No</td>\n",
       "      <td>No</td>\n",
       "      <td>No</td>\n",
       "      <td>Yes</td>\n",
       "    </tr>\n",
       "    <tr>\n",
       "      <th>7042</th>\n",
       "      <td>3186-AJIEK</td>\n",
       "      <td>2014-08-01</td>\n",
       "      <td>No</td>\n",
       "      <td>Two year</td>\n",
       "      <td>Yes</td>\n",
       "      <td>Bank transfer (automatic)</td>\n",
       "      <td>105.65</td>\n",
       "      <td>7251.82</td>\n",
       "      <td>Male</td>\n",
       "      <td>0</td>\n",
       "      <td>No</td>\n",
       "      <td>No</td>\n",
       "      <td>Fiber optic</td>\n",
       "      <td>Yes</td>\n",
       "      <td>No</td>\n",
       "      <td>Yes</td>\n",
       "      <td>Yes</td>\n",
       "      <td>Yes</td>\n",
       "      <td>Yes</td>\n",
       "      <td>No</td>\n",
       "    </tr>\n",
       "  </tbody>\n",
       "</table>\n",
       "</div>"
      ],
      "text/plain": [
       "     customer_id  begin_date end_date            type paperless_billing  \\\n",
       "7038  6840-RESVB  2018-02-01       No        One year               Yes   \n",
       "7039  2234-XADUH  2014-02-01       No        One year               Yes   \n",
       "7040  4801-JZAZL  2019-03-01       No  Month-to-month               Yes   \n",
       "7041  8361-LTMKD  2019-07-01       No  Month-to-month               Yes   \n",
       "7042  3186-AJIEK  2014-08-01       No        Two year               Yes   \n",
       "\n",
       "                 payment_method  monthly_charges total_charges  gender  \\\n",
       "7038               Mailed check            84.80        2035.2    Male   \n",
       "7039    Credit card (automatic)           103.20        7430.4  Female   \n",
       "7040           Electronic check            29.60         325.6  Female   \n",
       "7041               Mailed check            74.40         520.8    Male   \n",
       "7042  Bank transfer (automatic)           105.65       7251.82    Male   \n",
       "\n",
       "      senior_citizen partner dependents internet_service online_security  \\\n",
       "7038               0     Yes        Yes              DSL             Yes   \n",
       "7039               0     Yes        Yes      Fiber optic              No   \n",
       "7040               0     Yes        Yes              DSL             Yes   \n",
       "7041               1     Yes         No      Fiber optic              No   \n",
       "7042               0      No         No      Fiber optic             Yes   \n",
       "\n",
       "     online_backup device_protection tech_support streaming_tv  \\\n",
       "7038            No               Yes          Yes          Yes   \n",
       "7039           Yes               Yes           No          Yes   \n",
       "7040            No                No           No           No   \n",
       "7041            No                No           No           No   \n",
       "7042            No               Yes          Yes          Yes   \n",
       "\n",
       "     streaming_movies multiple_lines  \n",
       "7038              Yes            Yes  \n",
       "7039              Yes            Yes  \n",
       "7040               No            NaN  \n",
       "7041               No            Yes  \n",
       "7042              Yes             No  "
      ]
     },
     "metadata": {},
     "output_type": "display_data"
    },
    {
     "name": "stdout",
     "output_type": "stream",
     "text": [
      "<class 'pandas.core.frame.DataFrame'>\n",
      "Int64Index: 7043 entries, 0 to 7042\n",
      "Data columns (total 20 columns):\n",
      " #   Column             Non-Null Count  Dtype  \n",
      "---  ------             --------------  -----  \n",
      " 0   customer_id        7043 non-null   object \n",
      " 1   begin_date         7043 non-null   object \n",
      " 2   end_date           7043 non-null   object \n",
      " 3   type               7043 non-null   object \n",
      " 4   paperless_billing  7043 non-null   object \n",
      " 5   payment_method     7043 non-null   object \n",
      " 6   monthly_charges    7043 non-null   float64\n",
      " 7   total_charges      7043 non-null   object \n",
      " 8   gender             7043 non-null   object \n",
      " 9   senior_citizen     7043 non-null   int64  \n",
      " 10  partner            7043 non-null   object \n",
      " 11  dependents         7043 non-null   object \n",
      " 12  internet_service   5517 non-null   object \n",
      " 13  online_security    5517 non-null   object \n",
      " 14  online_backup      5517 non-null   object \n",
      " 15  device_protection  5517 non-null   object \n",
      " 16  tech_support       5517 non-null   object \n",
      " 17  streaming_tv       5517 non-null   object \n",
      " 18  streaming_movies   5517 non-null   object \n",
      " 19  multiple_lines     6361 non-null   object \n",
      "dtypes: float64(1), int64(1), object(18)\n",
      "memory usage: 1.1+ MB\n"
     ]
    },
    {
     "data": {
      "text/html": [
       "<div>\n",
       "<style scoped>\n",
       "    .dataframe tbody tr th:only-of-type {\n",
       "        vertical-align: middle;\n",
       "    }\n",
       "\n",
       "    .dataframe tbody tr th {\n",
       "        vertical-align: top;\n",
       "    }\n",
       "\n",
       "    .dataframe thead th {\n",
       "        text-align: right;\n",
       "    }\n",
       "</style>\n",
       "<table border=\"1\" class=\"dataframe\">\n",
       "  <thead>\n",
       "    <tr style=\"text-align: right;\">\n",
       "      <th></th>\n",
       "      <th>monthly_charges</th>\n",
       "      <th>senior_citizen</th>\n",
       "    </tr>\n",
       "  </thead>\n",
       "  <tbody>\n",
       "    <tr>\n",
       "      <th>count</th>\n",
       "      <td>7043.000000</td>\n",
       "      <td>7043.000000</td>\n",
       "    </tr>\n",
       "    <tr>\n",
       "      <th>mean</th>\n",
       "      <td>64.761692</td>\n",
       "      <td>0.162147</td>\n",
       "    </tr>\n",
       "    <tr>\n",
       "      <th>std</th>\n",
       "      <td>30.090047</td>\n",
       "      <td>0.368612</td>\n",
       "    </tr>\n",
       "    <tr>\n",
       "      <th>min</th>\n",
       "      <td>18.250000</td>\n",
       "      <td>0.000000</td>\n",
       "    </tr>\n",
       "    <tr>\n",
       "      <th>25%</th>\n",
       "      <td>35.500000</td>\n",
       "      <td>0.000000</td>\n",
       "    </tr>\n",
       "    <tr>\n",
       "      <th>50%</th>\n",
       "      <td>70.350000</td>\n",
       "      <td>0.000000</td>\n",
       "    </tr>\n",
       "    <tr>\n",
       "      <th>75%</th>\n",
       "      <td>89.850000</td>\n",
       "      <td>0.000000</td>\n",
       "    </tr>\n",
       "    <tr>\n",
       "      <th>max</th>\n",
       "      <td>118.750000</td>\n",
       "      <td>1.000000</td>\n",
       "    </tr>\n",
       "  </tbody>\n",
       "</table>\n",
       "</div>"
      ],
      "text/plain": [
       "       monthly_charges  senior_citizen\n",
       "count      7043.000000     7043.000000\n",
       "mean         64.761692        0.162147\n",
       "std          30.090047        0.368612\n",
       "min          18.250000        0.000000\n",
       "25%          35.500000        0.000000\n",
       "50%          70.350000        0.000000\n",
       "75%          89.850000        0.000000\n",
       "max         118.750000        1.000000"
      ]
     },
     "metadata": {},
     "output_type": "display_data"
    },
    {
     "name": "stdout",
     "output_type": "stream",
     "text": [
      "\n",
      "Размер таблицы: (7043, 20)\n",
      "\n",
      "Количество явных дубликатов: 0\n",
      "\n",
      "Количество пропусков в таблице: 11364\n"
     ]
    }
   ],
   "source": [
    "get_info(df)"
   ]
  },
  {
   "cell_type": "markdown",
   "id": "11c904ac-0956-45ac-8202-389149f9fdda",
   "metadata": {},
   "source": [
    "### 2.3 Оценим количество пропусков в столбцах"
   ]
  },
  {
   "cell_type": "code",
   "execution_count": 12,
   "id": "52ab5851-f13d-45a5-8b60-0739fa2372e4",
   "metadata": {},
   "outputs": [],
   "source": [
    "# функция для подсчета пропусков в столбцах в процентах\n",
    "def lost(data):\n",
    "    if data.isna().sum().sum()>0:\n",
    "        display(\n",
    "            (round(data.isna().mean()*100,3))\n",
    "            .to_frame()\n",
    "            .rename(columns = {0:'Пропуски'})\n",
    "            .query('Пропуски > 0')\n",
    "            .sort_values(by = 'Пропуски', ascending = False)\n",
    "            .style.background_gradient('coolwarm')\n",
    "        )\n",
    "    else:\n",
    "        print('Пропусков нет')"
   ]
  },
  {
   "cell_type": "code",
   "execution_count": 13,
   "id": "3e3181be-ba61-4bd2-bed5-a615c17c5645",
   "metadata": {},
   "outputs": [
    {
     "data": {
      "text/html": [
       "<style type=\"text/css\">\n",
       "#T_48c27_row0_col0, #T_48c27_row1_col0, #T_48c27_row2_col0, #T_48c27_row3_col0, #T_48c27_row4_col0, #T_48c27_row5_col0, #T_48c27_row6_col0 {\n",
       "  background-color: #b40426;\n",
       "  color: #f1f1f1;\n",
       "}\n",
       "#T_48c27_row7_col0 {\n",
       "  background-color: #3b4cc0;\n",
       "  color: #f1f1f1;\n",
       "}\n",
       "</style>\n",
       "<table id=\"T_48c27\">\n",
       "  <thead>\n",
       "    <tr>\n",
       "      <th class=\"blank level0\" >&nbsp;</th>\n",
       "      <th id=\"T_48c27_level0_col0\" class=\"col_heading level0 col0\" >Пропуски</th>\n",
       "    </tr>\n",
       "  </thead>\n",
       "  <tbody>\n",
       "    <tr>\n",
       "      <th id=\"T_48c27_level0_row0\" class=\"row_heading level0 row0\" >internet_service</th>\n",
       "      <td id=\"T_48c27_row0_col0\" class=\"data row0 col0\" >21.667000</td>\n",
       "    </tr>\n",
       "    <tr>\n",
       "      <th id=\"T_48c27_level0_row1\" class=\"row_heading level0 row1\" >online_security</th>\n",
       "      <td id=\"T_48c27_row1_col0\" class=\"data row1 col0\" >21.667000</td>\n",
       "    </tr>\n",
       "    <tr>\n",
       "      <th id=\"T_48c27_level0_row2\" class=\"row_heading level0 row2\" >online_backup</th>\n",
       "      <td id=\"T_48c27_row2_col0\" class=\"data row2 col0\" >21.667000</td>\n",
       "    </tr>\n",
       "    <tr>\n",
       "      <th id=\"T_48c27_level0_row3\" class=\"row_heading level0 row3\" >device_protection</th>\n",
       "      <td id=\"T_48c27_row3_col0\" class=\"data row3 col0\" >21.667000</td>\n",
       "    </tr>\n",
       "    <tr>\n",
       "      <th id=\"T_48c27_level0_row4\" class=\"row_heading level0 row4\" >tech_support</th>\n",
       "      <td id=\"T_48c27_row4_col0\" class=\"data row4 col0\" >21.667000</td>\n",
       "    </tr>\n",
       "    <tr>\n",
       "      <th id=\"T_48c27_level0_row5\" class=\"row_heading level0 row5\" >streaming_tv</th>\n",
       "      <td id=\"T_48c27_row5_col0\" class=\"data row5 col0\" >21.667000</td>\n",
       "    </tr>\n",
       "    <tr>\n",
       "      <th id=\"T_48c27_level0_row6\" class=\"row_heading level0 row6\" >streaming_movies</th>\n",
       "      <td id=\"T_48c27_row6_col0\" class=\"data row6 col0\" >21.667000</td>\n",
       "    </tr>\n",
       "    <tr>\n",
       "      <th id=\"T_48c27_level0_row7\" class=\"row_heading level0 row7\" >multiple_lines</th>\n",
       "      <td id=\"T_48c27_row7_col0\" class=\"data row7 col0\" >9.683000</td>\n",
       "    </tr>\n",
       "  </tbody>\n",
       "</table>\n"
      ],
      "text/plain": [
       "<pandas.io.formats.style.Styler at 0x2063b796700>"
      ]
     },
     "metadata": {},
     "output_type": "display_data"
    }
   ],
   "source": [
    "lost(df)"
   ]
  },
  {
   "cell_type": "markdown",
   "id": "5eff70ed-6503-41e5-8a9b-07064c76f5a6",
   "metadata": {},
   "source": [
    "Пропуски означают, что клиент не пользовался услугой и поэтому его нет в соответсвующей таблице.\\\n",
    "Поэтому заменим все пропуски на значение 'Nо'\n",
    "\n",
    "Можно сделать промежуточный вывод о клиентах:\n",
    "* более 21% клиентов не пользуются Интернет-сервисами\n",
    "* почти 10% клиентов не пользуются несколькми линиями"
   ]
  },
  {
   "cell_type": "markdown",
   "id": "b9dc0043-4161-4e62-845d-b0983cf9fade",
   "metadata": {},
   "source": [
    "Заменим пропусков в таблице значением 'Nо' и проверим результат"
   ]
  },
  {
   "cell_type": "code",
   "execution_count": 14,
   "id": "ac6f6248-bc25-4b79-861e-2e807deaf73e",
   "metadata": {},
   "outputs": [
    {
     "name": "stdout",
     "output_type": "stream",
     "text": [
      "Пропусков нет\n"
     ]
    }
   ],
   "source": [
    "df = df.fillna('No')\n",
    "lost(df)"
   ]
  },
  {
   "cell_type": "markdown",
   "id": "b924afad-028b-4766-95b1-70fafa7f7a22",
   "metadata": {},
   "source": [
    "### 2.4 Приведем данные к соответствующим типам"
   ]
  },
  {
   "cell_type": "markdown",
   "id": "3012c33e-db6b-4536-a6d5-91eea78db7b0",
   "metadata": {},
   "source": [
    "Столбец `total_charges` переведем в числовой вид"
   ]
  },
  {
   "cell_type": "code",
   "execution_count": 15,
   "id": "16720c61-633c-4463-8023-16adda534baf",
   "metadata": {},
   "outputs": [],
   "source": [
    "df['total_charges'] = pd.to_numeric(df['total_charges'], errors='coerce')"
   ]
  },
  {
   "cell_type": "markdown",
   "id": "e0b3064a-2ecf-4232-b833-d8afbebb3475",
   "metadata": {},
   "source": [
    "Столбец `end_date` содержит дату ухода клиента, если значение \"No\", то клиент продолжает пользоваться услугами.\\\n",
    "Создадим отдельный столбец для целевого признака `exited`, в котором укажем клиент ушел - 1, пользуется услугами оператора - 0."
   ]
  },
  {
   "cell_type": "code",
   "execution_count": 16,
   "id": "ccb45f68-be13-4e9a-9f41-009018d6d049",
   "metadata": {},
   "outputs": [],
   "source": [
    "df['exited'] = (df['end_date'] != 'No').astype(int)"
   ]
  },
  {
   "cell_type": "markdown",
   "id": "cddbfcfa-53cd-4c28-aa87-4fd2d2b2f37a",
   "metadata": {},
   "source": [
    "Теперь значения \"No\" в столбце `end_date` можем заменить датой на которую информация о договорах актуальна -  1 февраля 2020.\\\n",
    "А затем преведем столбцы `begin_date` и `end_date` в формат дат.\n",
    "- заменим значения в столбце `end_date`\n",
    "- переведем столбцы `begin_date` и `end_date` в формат даты\n",
    "- проверим результат"
   ]
  },
  {
   "cell_type": "code",
   "execution_count": 17,
   "id": "1773a4b4-7482-4438-8630-32a0ece3f2eb",
   "metadata": {},
   "outputs": [
    {
     "name": "stdout",
     "output_type": "stream",
     "text": [
      "<class 'pandas.core.frame.DataFrame'>\n",
      "Int64Index: 7043 entries, 0 to 7042\n",
      "Data columns (total 21 columns):\n",
      " #   Column             Non-Null Count  Dtype         \n",
      "---  ------             --------------  -----         \n",
      " 0   customer_id        7043 non-null   object        \n",
      " 1   begin_date         7043 non-null   datetime64[ns]\n",
      " 2   end_date           7043 non-null   datetime64[ns]\n",
      " 3   type               7043 non-null   object        \n",
      " 4   paperless_billing  7043 non-null   object        \n",
      " 5   payment_method     7043 non-null   object        \n",
      " 6   monthly_charges    7043 non-null   float64       \n",
      " 7   total_charges      7032 non-null   float64       \n",
      " 8   gender             7043 non-null   object        \n",
      " 9   senior_citizen     7043 non-null   int64         \n",
      " 10  partner            7043 non-null   object        \n",
      " 11  dependents         7043 non-null   object        \n",
      " 12  internet_service   7043 non-null   object        \n",
      " 13  online_security    7043 non-null   object        \n",
      " 14  online_backup      7043 non-null   object        \n",
      " 15  device_protection  7043 non-null   object        \n",
      " 16  tech_support       7043 non-null   object        \n",
      " 17  streaming_tv       7043 non-null   object        \n",
      " 18  streaming_movies   7043 non-null   object        \n",
      " 19  multiple_lines     7043 non-null   object        \n",
      " 20  exited             7043 non-null   int32         \n",
      "dtypes: datetime64[ns](2), float64(2), int32(1), int64(1), object(15)\n",
      "memory usage: 1.2+ MB\n"
     ]
    }
   ],
   "source": [
    "df['end_date'] = df['end_date'].replace('No', '2020-02-01')\n",
    "\n",
    "df['begin_date'] = pd.to_datetime(df['begin_date'])\n",
    "df['end_date'] = pd.to_datetime(df['end_date'])\n",
    "\n",
    "df.info()"
   ]
  },
  {
   "cell_type": "markdown",
   "id": "5fa95045-945c-4cb6-8446-1122192094b3",
   "metadata": {},
   "source": [
    "В столбце `total_charges` появились пропуски.\n",
    "Проверим."
   ]
  },
  {
   "cell_type": "code",
   "execution_count": 18,
   "id": "9793c007-ec4c-4127-b714-a95027177e80",
   "metadata": {},
   "outputs": [
    {
     "data": {
      "text/html": [
       "<style type=\"text/css\">\n",
       "#T_6cb75_row0_col0 {\n",
       "  background-color: #3b4cc0;\n",
       "  color: #f1f1f1;\n",
       "}\n",
       "</style>\n",
       "<table id=\"T_6cb75\">\n",
       "  <thead>\n",
       "    <tr>\n",
       "      <th class=\"blank level0\" >&nbsp;</th>\n",
       "      <th id=\"T_6cb75_level0_col0\" class=\"col_heading level0 col0\" >Пропуски</th>\n",
       "    </tr>\n",
       "  </thead>\n",
       "  <tbody>\n",
       "    <tr>\n",
       "      <th id=\"T_6cb75_level0_row0\" class=\"row_heading level0 row0\" >total_charges</th>\n",
       "      <td id=\"T_6cb75_row0_col0\" class=\"data row0 col0\" >0.156000</td>\n",
       "    </tr>\n",
       "  </tbody>\n",
       "</table>\n"
      ],
      "text/plain": [
       "<pandas.io.formats.style.Styler at 0x2063b796910>"
      ]
     },
     "metadata": {},
     "output_type": "display_data"
    }
   ],
   "source": [
    "lost(df)"
   ]
  },
  {
   "cell_type": "markdown",
   "id": "e54ed25a-9725-4c9b-aa8f-416103e45d21",
   "metadata": {},
   "source": [
    "Пропусков немного, менее 1%, допустимо удалить.\\\n",
    "Но данных у нас немного, поэтому посмотрим, с чем они связаны и попробуем заполнить.\\\n",
    "Изучим строки с пропусками."
   ]
  },
  {
   "cell_type": "code",
   "execution_count": 19,
   "id": "0b800bb0-4b7d-4878-8a62-2366bf359ff8",
   "metadata": {},
   "outputs": [
    {
     "data": {
      "text/html": [
       "<div>\n",
       "<style scoped>\n",
       "    .dataframe tbody tr th:only-of-type {\n",
       "        vertical-align: middle;\n",
       "    }\n",
       "\n",
       "    .dataframe tbody tr th {\n",
       "        vertical-align: top;\n",
       "    }\n",
       "\n",
       "    .dataframe thead th {\n",
       "        text-align: right;\n",
       "    }\n",
       "</style>\n",
       "<table border=\"1\" class=\"dataframe\">\n",
       "  <thead>\n",
       "    <tr style=\"text-align: right;\">\n",
       "      <th></th>\n",
       "      <th>customer_id</th>\n",
       "      <th>begin_date</th>\n",
       "      <th>end_date</th>\n",
       "      <th>type</th>\n",
       "      <th>paperless_billing</th>\n",
       "      <th>payment_method</th>\n",
       "      <th>monthly_charges</th>\n",
       "      <th>total_charges</th>\n",
       "      <th>gender</th>\n",
       "      <th>senior_citizen</th>\n",
       "      <th>...</th>\n",
       "      <th>dependents</th>\n",
       "      <th>internet_service</th>\n",
       "      <th>online_security</th>\n",
       "      <th>online_backup</th>\n",
       "      <th>device_protection</th>\n",
       "      <th>tech_support</th>\n",
       "      <th>streaming_tv</th>\n",
       "      <th>streaming_movies</th>\n",
       "      <th>multiple_lines</th>\n",
       "      <th>exited</th>\n",
       "    </tr>\n",
       "  </thead>\n",
       "  <tbody>\n",
       "    <tr>\n",
       "      <th>488</th>\n",
       "      <td>4472-LVYGI</td>\n",
       "      <td>2020-02-01</td>\n",
       "      <td>2020-02-01</td>\n",
       "      <td>Two year</td>\n",
       "      <td>Yes</td>\n",
       "      <td>Bank transfer (automatic)</td>\n",
       "      <td>52.55</td>\n",
       "      <td>NaN</td>\n",
       "      <td>Female</td>\n",
       "      <td>0</td>\n",
       "      <td>...</td>\n",
       "      <td>Yes</td>\n",
       "      <td>DSL</td>\n",
       "      <td>Yes</td>\n",
       "      <td>No</td>\n",
       "      <td>Yes</td>\n",
       "      <td>Yes</td>\n",
       "      <td>Yes</td>\n",
       "      <td>No</td>\n",
       "      <td>No</td>\n",
       "      <td>0</td>\n",
       "    </tr>\n",
       "    <tr>\n",
       "      <th>753</th>\n",
       "      <td>3115-CZMZD</td>\n",
       "      <td>2020-02-01</td>\n",
       "      <td>2020-02-01</td>\n",
       "      <td>Two year</td>\n",
       "      <td>No</td>\n",
       "      <td>Mailed check</td>\n",
       "      <td>20.25</td>\n",
       "      <td>NaN</td>\n",
       "      <td>Male</td>\n",
       "      <td>0</td>\n",
       "      <td>...</td>\n",
       "      <td>Yes</td>\n",
       "      <td>No</td>\n",
       "      <td>No</td>\n",
       "      <td>No</td>\n",
       "      <td>No</td>\n",
       "      <td>No</td>\n",
       "      <td>No</td>\n",
       "      <td>No</td>\n",
       "      <td>No</td>\n",
       "      <td>0</td>\n",
       "    </tr>\n",
       "    <tr>\n",
       "      <th>936</th>\n",
       "      <td>5709-LVOEQ</td>\n",
       "      <td>2020-02-01</td>\n",
       "      <td>2020-02-01</td>\n",
       "      <td>Two year</td>\n",
       "      <td>No</td>\n",
       "      <td>Mailed check</td>\n",
       "      <td>80.85</td>\n",
       "      <td>NaN</td>\n",
       "      <td>Female</td>\n",
       "      <td>0</td>\n",
       "      <td>...</td>\n",
       "      <td>Yes</td>\n",
       "      <td>DSL</td>\n",
       "      <td>Yes</td>\n",
       "      <td>Yes</td>\n",
       "      <td>Yes</td>\n",
       "      <td>No</td>\n",
       "      <td>Yes</td>\n",
       "      <td>Yes</td>\n",
       "      <td>No</td>\n",
       "      <td>0</td>\n",
       "    </tr>\n",
       "    <tr>\n",
       "      <th>1082</th>\n",
       "      <td>4367-NUYAO</td>\n",
       "      <td>2020-02-01</td>\n",
       "      <td>2020-02-01</td>\n",
       "      <td>Two year</td>\n",
       "      <td>No</td>\n",
       "      <td>Mailed check</td>\n",
       "      <td>25.75</td>\n",
       "      <td>NaN</td>\n",
       "      <td>Male</td>\n",
       "      <td>0</td>\n",
       "      <td>...</td>\n",
       "      <td>Yes</td>\n",
       "      <td>No</td>\n",
       "      <td>No</td>\n",
       "      <td>No</td>\n",
       "      <td>No</td>\n",
       "      <td>No</td>\n",
       "      <td>No</td>\n",
       "      <td>No</td>\n",
       "      <td>Yes</td>\n",
       "      <td>0</td>\n",
       "    </tr>\n",
       "    <tr>\n",
       "      <th>1340</th>\n",
       "      <td>1371-DWPAZ</td>\n",
       "      <td>2020-02-01</td>\n",
       "      <td>2020-02-01</td>\n",
       "      <td>Two year</td>\n",
       "      <td>No</td>\n",
       "      <td>Credit card (automatic)</td>\n",
       "      <td>56.05</td>\n",
       "      <td>NaN</td>\n",
       "      <td>Female</td>\n",
       "      <td>0</td>\n",
       "      <td>...</td>\n",
       "      <td>Yes</td>\n",
       "      <td>DSL</td>\n",
       "      <td>Yes</td>\n",
       "      <td>Yes</td>\n",
       "      <td>Yes</td>\n",
       "      <td>Yes</td>\n",
       "      <td>Yes</td>\n",
       "      <td>No</td>\n",
       "      <td>No</td>\n",
       "      <td>0</td>\n",
       "    </tr>\n",
       "    <tr>\n",
       "      <th>3331</th>\n",
       "      <td>7644-OMVMY</td>\n",
       "      <td>2020-02-01</td>\n",
       "      <td>2020-02-01</td>\n",
       "      <td>Two year</td>\n",
       "      <td>No</td>\n",
       "      <td>Mailed check</td>\n",
       "      <td>19.85</td>\n",
       "      <td>NaN</td>\n",
       "      <td>Male</td>\n",
       "      <td>0</td>\n",
       "      <td>...</td>\n",
       "      <td>Yes</td>\n",
       "      <td>No</td>\n",
       "      <td>No</td>\n",
       "      <td>No</td>\n",
       "      <td>No</td>\n",
       "      <td>No</td>\n",
       "      <td>No</td>\n",
       "      <td>No</td>\n",
       "      <td>No</td>\n",
       "      <td>0</td>\n",
       "    </tr>\n",
       "    <tr>\n",
       "      <th>3826</th>\n",
       "      <td>3213-VVOLG</td>\n",
       "      <td>2020-02-01</td>\n",
       "      <td>2020-02-01</td>\n",
       "      <td>Two year</td>\n",
       "      <td>No</td>\n",
       "      <td>Mailed check</td>\n",
       "      <td>25.35</td>\n",
       "      <td>NaN</td>\n",
       "      <td>Male</td>\n",
       "      <td>0</td>\n",
       "      <td>...</td>\n",
       "      <td>Yes</td>\n",
       "      <td>No</td>\n",
       "      <td>No</td>\n",
       "      <td>No</td>\n",
       "      <td>No</td>\n",
       "      <td>No</td>\n",
       "      <td>No</td>\n",
       "      <td>No</td>\n",
       "      <td>Yes</td>\n",
       "      <td>0</td>\n",
       "    </tr>\n",
       "    <tr>\n",
       "      <th>4380</th>\n",
       "      <td>2520-SGTTA</td>\n",
       "      <td>2020-02-01</td>\n",
       "      <td>2020-02-01</td>\n",
       "      <td>Two year</td>\n",
       "      <td>No</td>\n",
       "      <td>Mailed check</td>\n",
       "      <td>20.00</td>\n",
       "      <td>NaN</td>\n",
       "      <td>Female</td>\n",
       "      <td>0</td>\n",
       "      <td>...</td>\n",
       "      <td>Yes</td>\n",
       "      <td>No</td>\n",
       "      <td>No</td>\n",
       "      <td>No</td>\n",
       "      <td>No</td>\n",
       "      <td>No</td>\n",
       "      <td>No</td>\n",
       "      <td>No</td>\n",
       "      <td>No</td>\n",
       "      <td>0</td>\n",
       "    </tr>\n",
       "    <tr>\n",
       "      <th>5218</th>\n",
       "      <td>2923-ARZLG</td>\n",
       "      <td>2020-02-01</td>\n",
       "      <td>2020-02-01</td>\n",
       "      <td>One year</td>\n",
       "      <td>Yes</td>\n",
       "      <td>Mailed check</td>\n",
       "      <td>19.70</td>\n",
       "      <td>NaN</td>\n",
       "      <td>Male</td>\n",
       "      <td>0</td>\n",
       "      <td>...</td>\n",
       "      <td>Yes</td>\n",
       "      <td>No</td>\n",
       "      <td>No</td>\n",
       "      <td>No</td>\n",
       "      <td>No</td>\n",
       "      <td>No</td>\n",
       "      <td>No</td>\n",
       "      <td>No</td>\n",
       "      <td>No</td>\n",
       "      <td>0</td>\n",
       "    </tr>\n",
       "    <tr>\n",
       "      <th>6670</th>\n",
       "      <td>4075-WKNIU</td>\n",
       "      <td>2020-02-01</td>\n",
       "      <td>2020-02-01</td>\n",
       "      <td>Two year</td>\n",
       "      <td>No</td>\n",
       "      <td>Mailed check</td>\n",
       "      <td>73.35</td>\n",
       "      <td>NaN</td>\n",
       "      <td>Female</td>\n",
       "      <td>0</td>\n",
       "      <td>...</td>\n",
       "      <td>Yes</td>\n",
       "      <td>DSL</td>\n",
       "      <td>No</td>\n",
       "      <td>Yes</td>\n",
       "      <td>Yes</td>\n",
       "      <td>Yes</td>\n",
       "      <td>Yes</td>\n",
       "      <td>No</td>\n",
       "      <td>Yes</td>\n",
       "      <td>0</td>\n",
       "    </tr>\n",
       "    <tr>\n",
       "      <th>6754</th>\n",
       "      <td>2775-SEFEE</td>\n",
       "      <td>2020-02-01</td>\n",
       "      <td>2020-02-01</td>\n",
       "      <td>Two year</td>\n",
       "      <td>Yes</td>\n",
       "      <td>Bank transfer (automatic)</td>\n",
       "      <td>61.90</td>\n",
       "      <td>NaN</td>\n",
       "      <td>Male</td>\n",
       "      <td>0</td>\n",
       "      <td>...</td>\n",
       "      <td>Yes</td>\n",
       "      <td>DSL</td>\n",
       "      <td>Yes</td>\n",
       "      <td>Yes</td>\n",
       "      <td>No</td>\n",
       "      <td>Yes</td>\n",
       "      <td>No</td>\n",
       "      <td>No</td>\n",
       "      <td>Yes</td>\n",
       "      <td>0</td>\n",
       "    </tr>\n",
       "  </tbody>\n",
       "</table>\n",
       "<p>11 rows × 21 columns</p>\n",
       "</div>"
      ],
      "text/plain": [
       "     customer_id begin_date   end_date      type paperless_billing  \\\n",
       "488   4472-LVYGI 2020-02-01 2020-02-01  Two year               Yes   \n",
       "753   3115-CZMZD 2020-02-01 2020-02-01  Two year                No   \n",
       "936   5709-LVOEQ 2020-02-01 2020-02-01  Two year                No   \n",
       "1082  4367-NUYAO 2020-02-01 2020-02-01  Two year                No   \n",
       "1340  1371-DWPAZ 2020-02-01 2020-02-01  Two year                No   \n",
       "3331  7644-OMVMY 2020-02-01 2020-02-01  Two year                No   \n",
       "3826  3213-VVOLG 2020-02-01 2020-02-01  Two year                No   \n",
       "4380  2520-SGTTA 2020-02-01 2020-02-01  Two year                No   \n",
       "5218  2923-ARZLG 2020-02-01 2020-02-01  One year               Yes   \n",
       "6670  4075-WKNIU 2020-02-01 2020-02-01  Two year                No   \n",
       "6754  2775-SEFEE 2020-02-01 2020-02-01  Two year               Yes   \n",
       "\n",
       "                 payment_method  monthly_charges  total_charges  gender  \\\n",
       "488   Bank transfer (automatic)            52.55            NaN  Female   \n",
       "753                Mailed check            20.25            NaN    Male   \n",
       "936                Mailed check            80.85            NaN  Female   \n",
       "1082               Mailed check            25.75            NaN    Male   \n",
       "1340    Credit card (automatic)            56.05            NaN  Female   \n",
       "3331               Mailed check            19.85            NaN    Male   \n",
       "3826               Mailed check            25.35            NaN    Male   \n",
       "4380               Mailed check            20.00            NaN  Female   \n",
       "5218               Mailed check            19.70            NaN    Male   \n",
       "6670               Mailed check            73.35            NaN  Female   \n",
       "6754  Bank transfer (automatic)            61.90            NaN    Male   \n",
       "\n",
       "      senior_citizen  ... dependents internet_service online_security  \\\n",
       "488                0  ...        Yes              DSL             Yes   \n",
       "753                0  ...        Yes               No              No   \n",
       "936                0  ...        Yes              DSL             Yes   \n",
       "1082               0  ...        Yes               No              No   \n",
       "1340               0  ...        Yes              DSL             Yes   \n",
       "3331               0  ...        Yes               No              No   \n",
       "3826               0  ...        Yes               No              No   \n",
       "4380               0  ...        Yes               No              No   \n",
       "5218               0  ...        Yes               No              No   \n",
       "6670               0  ...        Yes              DSL              No   \n",
       "6754               0  ...        Yes              DSL             Yes   \n",
       "\n",
       "     online_backup device_protection tech_support streaming_tv  \\\n",
       "488             No               Yes          Yes          Yes   \n",
       "753             No                No           No           No   \n",
       "936            Yes               Yes           No          Yes   \n",
       "1082            No                No           No           No   \n",
       "1340           Yes               Yes          Yes          Yes   \n",
       "3331            No                No           No           No   \n",
       "3826            No                No           No           No   \n",
       "4380            No                No           No           No   \n",
       "5218            No                No           No           No   \n",
       "6670           Yes               Yes          Yes          Yes   \n",
       "6754           Yes                No          Yes           No   \n",
       "\n",
       "     streaming_movies multiple_lines exited  \n",
       "488                No             No      0  \n",
       "753                No             No      0  \n",
       "936               Yes             No      0  \n",
       "1082               No            Yes      0  \n",
       "1340               No             No      0  \n",
       "3331               No             No      0  \n",
       "3826               No            Yes      0  \n",
       "4380               No             No      0  \n",
       "5218               No             No      0  \n",
       "6670               No            Yes      0  \n",
       "6754               No            Yes      0  \n",
       "\n",
       "[11 rows x 21 columns]"
      ]
     },
     "execution_count": 19,
     "metadata": {},
     "output_type": "execute_result"
    }
   ],
   "source": [
    "missings = df[df['total_charges'].isnull()]\n",
    "missings"
   ]
  },
  {
   "cell_type": "markdown",
   "id": "c4614ebc-f2df-4306-a806-bd3efccfacc2",
   "metadata": {},
   "source": [
    "У клиентов с пропусками в столбце `total_charges` совпадают даты подключения `begin_date` и даты выгрузки `end_date`, а значения в `exited` говорят, что клиенты продолжают пользоваться услугами. Вероятно, это клиенты подключенные в день выгрузки базы. \n",
    "\n",
    "Столбец `total_charges` содержит информацию о том, сколько всего потрачено денег на услуги.\\\n",
    "Столбец `monthly_charges` содержит информацию о ежемесячных тратах на услуги.\\\n",
    "Похоже, что для клиентов, которые только заключили контракт верно, что - \"всего потрачено\" = \"ежемесячные траты\".\\\n",
    "Руководствуясь этим предположением заполним пропуски в `total_charges` значениями из `monthly_charges`."
   ]
  },
  {
   "cell_type": "markdown",
   "id": "1f5b466b-6a45-4a2d-b77e-47fa34969dea",
   "metadata": {},
   "source": [
    "Заполним пропуски в `total_charges` и проверим результат"
   ]
  },
  {
   "cell_type": "code",
   "execution_count": 20,
   "id": "e9121605-2cfe-403a-95c5-d6d1815ff7cd",
   "metadata": {},
   "outputs": [
    {
     "name": "stdout",
     "output_type": "stream",
     "text": [
      "Пропусков нет\n"
     ]
    }
   ],
   "source": [
    "df['total_charges'] = df['total_charges'].fillna(df['monthly_charges'])\n",
    "# проверка \n",
    "lost(df)"
   ]
  },
  {
   "cell_type": "markdown",
   "id": "3ae7f178-9ecb-44da-bd1e-c120ca188244",
   "metadata": {},
   "source": [
    "### 2.5 Cформируем дополнительный признак lifetime_value (срок пользования услугами)"
   ]
  },
  {
   "cell_type": "markdown",
   "id": "6f6bb367-d6ac-4bf7-a449-6533107fe21a",
   "metadata": {},
   "source": [
    "Создадим новый столбец `lifetime_value` в который сохраним общий срок пользования услугами в днях.\\\n",
    "Считаем с даты начала договора и до даты отключения или актуальаной даты на момент выгрузки данных."
   ]
  },
  {
   "cell_type": "code",
   "execution_count": 21,
   "id": "6b38742e-41fd-4558-866c-ab48aca33af9",
   "metadata": {},
   "outputs": [],
   "source": [
    "df['lifetime_value'] = (df['end_date'] - df['begin_date']).dt.days"
   ]
  },
  {
   "cell_type": "markdown",
   "id": "62ca49d6-592d-459b-af92-8e11a570c92a",
   "metadata": {},
   "source": [
    "### 2.6 Удалим признаки, которые не потребуются для обучения"
   ]
  },
  {
   "cell_type": "markdown",
   "id": "5adcafae-5e7b-4200-ba07-b75c7a30c338",
   "metadata": {},
   "source": [
    "Признаки на удаление:\n",
    "* `customer_id` - уникальный номер клиента\n",
    "* `begin_date` - дата подлючения клиента\n",
    "* `end_date` - дата ухода (для дальнейшей работы важен сам факт, а не дата)"
   ]
  },
  {
   "cell_type": "code",
   "execution_count": 22,
   "id": "c2dd92c9-45f2-4c50-aba6-c3dd23275bfe",
   "metadata": {},
   "outputs": [],
   "source": [
    "df = df.drop(['customer_id', 'begin_date', 'end_date' ], axis=1)"
   ]
  },
  {
   "cell_type": "code",
   "execution_count": 23,
   "id": "8226fdfa-5ccd-455b-8443-65fa3d6ab8f3",
   "metadata": {},
   "outputs": [
    {
     "data": {
      "text/html": [
       "<div>\n",
       "<style scoped>\n",
       "    .dataframe tbody tr th:only-of-type {\n",
       "        vertical-align: middle;\n",
       "    }\n",
       "\n",
       "    .dataframe tbody tr th {\n",
       "        vertical-align: top;\n",
       "    }\n",
       "\n",
       "    .dataframe thead th {\n",
       "        text-align: right;\n",
       "    }\n",
       "</style>\n",
       "<table border=\"1\" class=\"dataframe\">\n",
       "  <thead>\n",
       "    <tr style=\"text-align: right;\">\n",
       "      <th></th>\n",
       "      <th>type</th>\n",
       "      <th>paperless_billing</th>\n",
       "      <th>payment_method</th>\n",
       "      <th>monthly_charges</th>\n",
       "      <th>total_charges</th>\n",
       "      <th>gender</th>\n",
       "      <th>senior_citizen</th>\n",
       "      <th>partner</th>\n",
       "      <th>dependents</th>\n",
       "      <th>internet_service</th>\n",
       "      <th>online_security</th>\n",
       "      <th>online_backup</th>\n",
       "      <th>device_protection</th>\n",
       "      <th>tech_support</th>\n",
       "      <th>streaming_tv</th>\n",
       "      <th>streaming_movies</th>\n",
       "      <th>multiple_lines</th>\n",
       "      <th>exited</th>\n",
       "      <th>lifetime_value</th>\n",
       "    </tr>\n",
       "  </thead>\n",
       "  <tbody>\n",
       "    <tr>\n",
       "      <th>0</th>\n",
       "      <td>Month-to-month</td>\n",
       "      <td>Yes</td>\n",
       "      <td>Electronic check</td>\n",
       "      <td>29.85</td>\n",
       "      <td>31.04</td>\n",
       "      <td>Female</td>\n",
       "      <td>0</td>\n",
       "      <td>Yes</td>\n",
       "      <td>No</td>\n",
       "      <td>DSL</td>\n",
       "      <td>No</td>\n",
       "      <td>Yes</td>\n",
       "      <td>No</td>\n",
       "      <td>No</td>\n",
       "      <td>No</td>\n",
       "      <td>No</td>\n",
       "      <td>No</td>\n",
       "      <td>0</td>\n",
       "      <td>31</td>\n",
       "    </tr>\n",
       "    <tr>\n",
       "      <th>1</th>\n",
       "      <td>One year</td>\n",
       "      <td>No</td>\n",
       "      <td>Mailed check</td>\n",
       "      <td>56.95</td>\n",
       "      <td>2071.84</td>\n",
       "      <td>Male</td>\n",
       "      <td>0</td>\n",
       "      <td>No</td>\n",
       "      <td>No</td>\n",
       "      <td>DSL</td>\n",
       "      <td>Yes</td>\n",
       "      <td>No</td>\n",
       "      <td>Yes</td>\n",
       "      <td>No</td>\n",
       "      <td>No</td>\n",
       "      <td>No</td>\n",
       "      <td>No</td>\n",
       "      <td>0</td>\n",
       "      <td>1036</td>\n",
       "    </tr>\n",
       "    <tr>\n",
       "      <th>2</th>\n",
       "      <td>Month-to-month</td>\n",
       "      <td>Yes</td>\n",
       "      <td>Mailed check</td>\n",
       "      <td>53.85</td>\n",
       "      <td>226.17</td>\n",
       "      <td>Male</td>\n",
       "      <td>0</td>\n",
       "      <td>No</td>\n",
       "      <td>No</td>\n",
       "      <td>DSL</td>\n",
       "      <td>Yes</td>\n",
       "      <td>Yes</td>\n",
       "      <td>No</td>\n",
       "      <td>No</td>\n",
       "      <td>No</td>\n",
       "      <td>No</td>\n",
       "      <td>No</td>\n",
       "      <td>0</td>\n",
       "      <td>123</td>\n",
       "    </tr>\n",
       "    <tr>\n",
       "      <th>3</th>\n",
       "      <td>One year</td>\n",
       "      <td>No</td>\n",
       "      <td>Bank transfer (automatic)</td>\n",
       "      <td>42.30</td>\n",
       "      <td>1960.60</td>\n",
       "      <td>Male</td>\n",
       "      <td>0</td>\n",
       "      <td>No</td>\n",
       "      <td>No</td>\n",
       "      <td>DSL</td>\n",
       "      <td>Yes</td>\n",
       "      <td>No</td>\n",
       "      <td>Yes</td>\n",
       "      <td>Yes</td>\n",
       "      <td>No</td>\n",
       "      <td>No</td>\n",
       "      <td>No</td>\n",
       "      <td>0</td>\n",
       "      <td>1371</td>\n",
       "    </tr>\n",
       "    <tr>\n",
       "      <th>4</th>\n",
       "      <td>Month-to-month</td>\n",
       "      <td>Yes</td>\n",
       "      <td>Electronic check</td>\n",
       "      <td>70.70</td>\n",
       "      <td>353.50</td>\n",
       "      <td>Female</td>\n",
       "      <td>0</td>\n",
       "      <td>No</td>\n",
       "      <td>No</td>\n",
       "      <td>Fiber optic</td>\n",
       "      <td>No</td>\n",
       "      <td>No</td>\n",
       "      <td>No</td>\n",
       "      <td>No</td>\n",
       "      <td>No</td>\n",
       "      <td>No</td>\n",
       "      <td>No</td>\n",
       "      <td>0</td>\n",
       "      <td>153</td>\n",
       "    </tr>\n",
       "  </tbody>\n",
       "</table>\n",
       "</div>"
      ],
      "text/plain": [
       "             type paperless_billing             payment_method  \\\n",
       "0  Month-to-month               Yes           Electronic check   \n",
       "1        One year                No               Mailed check   \n",
       "2  Month-to-month               Yes               Mailed check   \n",
       "3        One year                No  Bank transfer (automatic)   \n",
       "4  Month-to-month               Yes           Electronic check   \n",
       "\n",
       "   monthly_charges  total_charges  gender  senior_citizen partner dependents  \\\n",
       "0            29.85          31.04  Female               0     Yes         No   \n",
       "1            56.95        2071.84    Male               0      No         No   \n",
       "2            53.85         226.17    Male               0      No         No   \n",
       "3            42.30        1960.60    Male               0      No         No   \n",
       "4            70.70         353.50  Female               0      No         No   \n",
       "\n",
       "  internet_service online_security online_backup device_protection  \\\n",
       "0              DSL              No           Yes                No   \n",
       "1              DSL             Yes            No               Yes   \n",
       "2              DSL             Yes           Yes                No   \n",
       "3              DSL             Yes            No               Yes   \n",
       "4      Fiber optic              No            No                No   \n",
       "\n",
       "  tech_support streaming_tv streaming_movies multiple_lines  exited  \\\n",
       "0           No           No               No             No       0   \n",
       "1           No           No               No             No       0   \n",
       "2           No           No               No             No       0   \n",
       "3          Yes           No               No             No       0   \n",
       "4           No           No               No             No       0   \n",
       "\n",
       "   lifetime_value  \n",
       "0              31  \n",
       "1            1036  \n",
       "2             123  \n",
       "3            1371  \n",
       "4             153  "
      ]
     },
     "execution_count": 23,
     "metadata": {},
     "output_type": "execute_result"
    }
   ],
   "source": [
    "df.head()"
   ]
  },
  {
   "cell_type": "code",
   "execution_count": 24,
   "id": "2e352efb-4577-4aa2-a3a3-c9f7b0586828",
   "metadata": {},
   "outputs": [
    {
     "data": {
      "text/html": [
       "<div>\n",
       "<style scoped>\n",
       "    .dataframe tbody tr th:only-of-type {\n",
       "        vertical-align: middle;\n",
       "    }\n",
       "\n",
       "    .dataframe tbody tr th {\n",
       "        vertical-align: top;\n",
       "    }\n",
       "\n",
       "    .dataframe thead th {\n",
       "        text-align: right;\n",
       "    }\n",
       "</style>\n",
       "<table border=\"1\" class=\"dataframe\">\n",
       "  <thead>\n",
       "    <tr style=\"text-align: right;\">\n",
       "      <th></th>\n",
       "      <th>type</th>\n",
       "      <th>paperless_billing</th>\n",
       "      <th>payment_method</th>\n",
       "      <th>monthly_charges</th>\n",
       "      <th>total_charges</th>\n",
       "      <th>gender</th>\n",
       "      <th>senior_citizen</th>\n",
       "      <th>partner</th>\n",
       "      <th>dependents</th>\n",
       "      <th>internet_service</th>\n",
       "      <th>online_security</th>\n",
       "      <th>online_backup</th>\n",
       "      <th>device_protection</th>\n",
       "      <th>tech_support</th>\n",
       "      <th>streaming_tv</th>\n",
       "      <th>streaming_movies</th>\n",
       "      <th>multiple_lines</th>\n",
       "      <th>exited</th>\n",
       "      <th>lifetime_value</th>\n",
       "    </tr>\n",
       "  </thead>\n",
       "  <tbody>\n",
       "    <tr>\n",
       "      <th>7038</th>\n",
       "      <td>One year</td>\n",
       "      <td>Yes</td>\n",
       "      <td>Mailed check</td>\n",
       "      <td>84.80</td>\n",
       "      <td>2035.20</td>\n",
       "      <td>Male</td>\n",
       "      <td>0</td>\n",
       "      <td>Yes</td>\n",
       "      <td>Yes</td>\n",
       "      <td>DSL</td>\n",
       "      <td>Yes</td>\n",
       "      <td>No</td>\n",
       "      <td>Yes</td>\n",
       "      <td>Yes</td>\n",
       "      <td>Yes</td>\n",
       "      <td>Yes</td>\n",
       "      <td>Yes</td>\n",
       "      <td>0</td>\n",
       "      <td>730</td>\n",
       "    </tr>\n",
       "    <tr>\n",
       "      <th>7039</th>\n",
       "      <td>One year</td>\n",
       "      <td>Yes</td>\n",
       "      <td>Credit card (automatic)</td>\n",
       "      <td>103.20</td>\n",
       "      <td>7430.40</td>\n",
       "      <td>Female</td>\n",
       "      <td>0</td>\n",
       "      <td>Yes</td>\n",
       "      <td>Yes</td>\n",
       "      <td>Fiber optic</td>\n",
       "      <td>No</td>\n",
       "      <td>Yes</td>\n",
       "      <td>Yes</td>\n",
       "      <td>No</td>\n",
       "      <td>Yes</td>\n",
       "      <td>Yes</td>\n",
       "      <td>Yes</td>\n",
       "      <td>0</td>\n",
       "      <td>2191</td>\n",
       "    </tr>\n",
       "    <tr>\n",
       "      <th>7040</th>\n",
       "      <td>Month-to-month</td>\n",
       "      <td>Yes</td>\n",
       "      <td>Electronic check</td>\n",
       "      <td>29.60</td>\n",
       "      <td>325.60</td>\n",
       "      <td>Female</td>\n",
       "      <td>0</td>\n",
       "      <td>Yes</td>\n",
       "      <td>Yes</td>\n",
       "      <td>DSL</td>\n",
       "      <td>Yes</td>\n",
       "      <td>No</td>\n",
       "      <td>No</td>\n",
       "      <td>No</td>\n",
       "      <td>No</td>\n",
       "      <td>No</td>\n",
       "      <td>No</td>\n",
       "      <td>0</td>\n",
       "      <td>337</td>\n",
       "    </tr>\n",
       "    <tr>\n",
       "      <th>7041</th>\n",
       "      <td>Month-to-month</td>\n",
       "      <td>Yes</td>\n",
       "      <td>Mailed check</td>\n",
       "      <td>74.40</td>\n",
       "      <td>520.80</td>\n",
       "      <td>Male</td>\n",
       "      <td>1</td>\n",
       "      <td>Yes</td>\n",
       "      <td>No</td>\n",
       "      <td>Fiber optic</td>\n",
       "      <td>No</td>\n",
       "      <td>No</td>\n",
       "      <td>No</td>\n",
       "      <td>No</td>\n",
       "      <td>No</td>\n",
       "      <td>No</td>\n",
       "      <td>Yes</td>\n",
       "      <td>0</td>\n",
       "      <td>215</td>\n",
       "    </tr>\n",
       "    <tr>\n",
       "      <th>7042</th>\n",
       "      <td>Two year</td>\n",
       "      <td>Yes</td>\n",
       "      <td>Bank transfer (automatic)</td>\n",
       "      <td>105.65</td>\n",
       "      <td>7251.82</td>\n",
       "      <td>Male</td>\n",
       "      <td>0</td>\n",
       "      <td>No</td>\n",
       "      <td>No</td>\n",
       "      <td>Fiber optic</td>\n",
       "      <td>Yes</td>\n",
       "      <td>No</td>\n",
       "      <td>Yes</td>\n",
       "      <td>Yes</td>\n",
       "      <td>Yes</td>\n",
       "      <td>Yes</td>\n",
       "      <td>No</td>\n",
       "      <td>0</td>\n",
       "      <td>2010</td>\n",
       "    </tr>\n",
       "  </tbody>\n",
       "</table>\n",
       "</div>"
      ],
      "text/plain": [
       "                type paperless_billing             payment_method  \\\n",
       "7038        One year               Yes               Mailed check   \n",
       "7039        One year               Yes    Credit card (automatic)   \n",
       "7040  Month-to-month               Yes           Electronic check   \n",
       "7041  Month-to-month               Yes               Mailed check   \n",
       "7042        Two year               Yes  Bank transfer (automatic)   \n",
       "\n",
       "      monthly_charges  total_charges  gender  senior_citizen partner  \\\n",
       "7038            84.80        2035.20    Male               0     Yes   \n",
       "7039           103.20        7430.40  Female               0     Yes   \n",
       "7040            29.60         325.60  Female               0     Yes   \n",
       "7041            74.40         520.80    Male               1     Yes   \n",
       "7042           105.65        7251.82    Male               0      No   \n",
       "\n",
       "     dependents internet_service online_security online_backup  \\\n",
       "7038        Yes              DSL             Yes            No   \n",
       "7039        Yes      Fiber optic              No           Yes   \n",
       "7040        Yes              DSL             Yes            No   \n",
       "7041         No      Fiber optic              No            No   \n",
       "7042         No      Fiber optic             Yes            No   \n",
       "\n",
       "     device_protection tech_support streaming_tv streaming_movies  \\\n",
       "7038               Yes          Yes          Yes              Yes   \n",
       "7039               Yes           No          Yes              Yes   \n",
       "7040                No           No           No               No   \n",
       "7041                No           No           No               No   \n",
       "7042               Yes          Yes          Yes              Yes   \n",
       "\n",
       "     multiple_lines  exited  lifetime_value  \n",
       "7038            Yes       0             730  \n",
       "7039            Yes       0            2191  \n",
       "7040             No       0             337  \n",
       "7041            Yes       0             215  \n",
       "7042             No       0            2010  "
      ]
     },
     "execution_count": 24,
     "metadata": {},
     "output_type": "execute_result"
    }
   ],
   "source": [
    "df.tail()"
   ]
  },
  {
   "cell_type": "markdown",
   "id": "ef9c9ce4-4ae9-4bf7-bba8-d6983a00e566",
   "metadata": {
    "tags": []
   },
   "source": [
    "## 3. Исследовательский анализ"
   ]
  },
  {
   "cell_type": "markdown",
   "id": "e38d4464-999f-439a-a26b-95af83b8f0fc",
   "metadata": {},
   "source": [
    "1. Выделим числовые признаки и сохраним их в отдельную таблицу numeric\n",
    "2. Выделим категориальные признаки и сохраним их в отдельную таблицу categorical"
   ]
  },
  {
   "cell_type": "code",
   "execution_count": 25,
   "id": "b4e1c293-2b38-4fc8-8f29-882132f3a205",
   "metadata": {},
   "outputs": [
    {
     "data": {
      "text/html": [
       "<div>\n",
       "<style scoped>\n",
       "    .dataframe tbody tr th:only-of-type {\n",
       "        vertical-align: middle;\n",
       "    }\n",
       "\n",
       "    .dataframe tbody tr th {\n",
       "        vertical-align: top;\n",
       "    }\n",
       "\n",
       "    .dataframe thead th {\n",
       "        text-align: right;\n",
       "    }\n",
       "</style>\n",
       "<table border=\"1\" class=\"dataframe\">\n",
       "  <thead>\n",
       "    <tr style=\"text-align: right;\">\n",
       "      <th></th>\n",
       "      <th>monthly_charges</th>\n",
       "      <th>total_charges</th>\n",
       "      <th>senior_citizen</th>\n",
       "      <th>exited</th>\n",
       "      <th>lifetime_value</th>\n",
       "    </tr>\n",
       "  </thead>\n",
       "  <tbody>\n",
       "    <tr>\n",
       "      <th>0</th>\n",
       "      <td>29.85</td>\n",
       "      <td>31.04</td>\n",
       "      <td>0</td>\n",
       "      <td>0</td>\n",
       "      <td>31</td>\n",
       "    </tr>\n",
       "    <tr>\n",
       "      <th>1</th>\n",
       "      <td>56.95</td>\n",
       "      <td>2071.84</td>\n",
       "      <td>0</td>\n",
       "      <td>0</td>\n",
       "      <td>1036</td>\n",
       "    </tr>\n",
       "    <tr>\n",
       "      <th>2</th>\n",
       "      <td>53.85</td>\n",
       "      <td>226.17</td>\n",
       "      <td>0</td>\n",
       "      <td>0</td>\n",
       "      <td>123</td>\n",
       "    </tr>\n",
       "    <tr>\n",
       "      <th>3</th>\n",
       "      <td>42.30</td>\n",
       "      <td>1960.60</td>\n",
       "      <td>0</td>\n",
       "      <td>0</td>\n",
       "      <td>1371</td>\n",
       "    </tr>\n",
       "    <tr>\n",
       "      <th>4</th>\n",
       "      <td>70.70</td>\n",
       "      <td>353.50</td>\n",
       "      <td>0</td>\n",
       "      <td>0</td>\n",
       "      <td>153</td>\n",
       "    </tr>\n",
       "  </tbody>\n",
       "</table>\n",
       "</div>"
      ],
      "text/plain": [
       "   monthly_charges  total_charges  senior_citizen  exited  lifetime_value\n",
       "0            29.85          31.04               0       0              31\n",
       "1            56.95        2071.84               0       0            1036\n",
       "2            53.85         226.17               0       0             123\n",
       "3            42.30        1960.60               0       0            1371\n",
       "4            70.70         353.50               0       0             153"
      ]
     },
     "execution_count": 25,
     "metadata": {},
     "output_type": "execute_result"
    }
   ],
   "source": [
    "numeric = df[df.select_dtypes(include='number').columns]\n",
    "numeric.head(5)"
   ]
  },
  {
   "cell_type": "code",
   "execution_count": 26,
   "id": "08a274fa-6051-41ee-90af-826df55e0c64",
   "metadata": {},
   "outputs": [
    {
     "data": {
      "text/html": [
       "<div>\n",
       "<style scoped>\n",
       "    .dataframe tbody tr th:only-of-type {\n",
       "        vertical-align: middle;\n",
       "    }\n",
       "\n",
       "    .dataframe tbody tr th {\n",
       "        vertical-align: top;\n",
       "    }\n",
       "\n",
       "    .dataframe thead th {\n",
       "        text-align: right;\n",
       "    }\n",
       "</style>\n",
       "<table border=\"1\" class=\"dataframe\">\n",
       "  <thead>\n",
       "    <tr style=\"text-align: right;\">\n",
       "      <th></th>\n",
       "      <th>type</th>\n",
       "      <th>paperless_billing</th>\n",
       "      <th>payment_method</th>\n",
       "      <th>gender</th>\n",
       "      <th>partner</th>\n",
       "      <th>dependents</th>\n",
       "      <th>internet_service</th>\n",
       "      <th>online_security</th>\n",
       "      <th>online_backup</th>\n",
       "      <th>device_protection</th>\n",
       "      <th>tech_support</th>\n",
       "      <th>streaming_tv</th>\n",
       "      <th>streaming_movies</th>\n",
       "      <th>multiple_lines</th>\n",
       "    </tr>\n",
       "  </thead>\n",
       "  <tbody>\n",
       "    <tr>\n",
       "      <th>0</th>\n",
       "      <td>Month-to-month</td>\n",
       "      <td>Yes</td>\n",
       "      <td>Electronic check</td>\n",
       "      <td>Female</td>\n",
       "      <td>Yes</td>\n",
       "      <td>No</td>\n",
       "      <td>DSL</td>\n",
       "      <td>No</td>\n",
       "      <td>Yes</td>\n",
       "      <td>No</td>\n",
       "      <td>No</td>\n",
       "      <td>No</td>\n",
       "      <td>No</td>\n",
       "      <td>No</td>\n",
       "    </tr>\n",
       "    <tr>\n",
       "      <th>1</th>\n",
       "      <td>One year</td>\n",
       "      <td>No</td>\n",
       "      <td>Mailed check</td>\n",
       "      <td>Male</td>\n",
       "      <td>No</td>\n",
       "      <td>No</td>\n",
       "      <td>DSL</td>\n",
       "      <td>Yes</td>\n",
       "      <td>No</td>\n",
       "      <td>Yes</td>\n",
       "      <td>No</td>\n",
       "      <td>No</td>\n",
       "      <td>No</td>\n",
       "      <td>No</td>\n",
       "    </tr>\n",
       "    <tr>\n",
       "      <th>2</th>\n",
       "      <td>Month-to-month</td>\n",
       "      <td>Yes</td>\n",
       "      <td>Mailed check</td>\n",
       "      <td>Male</td>\n",
       "      <td>No</td>\n",
       "      <td>No</td>\n",
       "      <td>DSL</td>\n",
       "      <td>Yes</td>\n",
       "      <td>Yes</td>\n",
       "      <td>No</td>\n",
       "      <td>No</td>\n",
       "      <td>No</td>\n",
       "      <td>No</td>\n",
       "      <td>No</td>\n",
       "    </tr>\n",
       "    <tr>\n",
       "      <th>3</th>\n",
       "      <td>One year</td>\n",
       "      <td>No</td>\n",
       "      <td>Bank transfer (automatic)</td>\n",
       "      <td>Male</td>\n",
       "      <td>No</td>\n",
       "      <td>No</td>\n",
       "      <td>DSL</td>\n",
       "      <td>Yes</td>\n",
       "      <td>No</td>\n",
       "      <td>Yes</td>\n",
       "      <td>Yes</td>\n",
       "      <td>No</td>\n",
       "      <td>No</td>\n",
       "      <td>No</td>\n",
       "    </tr>\n",
       "    <tr>\n",
       "      <th>4</th>\n",
       "      <td>Month-to-month</td>\n",
       "      <td>Yes</td>\n",
       "      <td>Electronic check</td>\n",
       "      <td>Female</td>\n",
       "      <td>No</td>\n",
       "      <td>No</td>\n",
       "      <td>Fiber optic</td>\n",
       "      <td>No</td>\n",
       "      <td>No</td>\n",
       "      <td>No</td>\n",
       "      <td>No</td>\n",
       "      <td>No</td>\n",
       "      <td>No</td>\n",
       "      <td>No</td>\n",
       "    </tr>\n",
       "  </tbody>\n",
       "</table>\n",
       "</div>"
      ],
      "text/plain": [
       "             type paperless_billing             payment_method  gender  \\\n",
       "0  Month-to-month               Yes           Electronic check  Female   \n",
       "1        One year                No               Mailed check    Male   \n",
       "2  Month-to-month               Yes               Mailed check    Male   \n",
       "3        One year                No  Bank transfer (automatic)    Male   \n",
       "4  Month-to-month               Yes           Electronic check  Female   \n",
       "\n",
       "  partner dependents internet_service online_security online_backup  \\\n",
       "0     Yes         No              DSL              No           Yes   \n",
       "1      No         No              DSL             Yes            No   \n",
       "2      No         No              DSL             Yes           Yes   \n",
       "3      No         No              DSL             Yes            No   \n",
       "4      No         No      Fiber optic              No            No   \n",
       "\n",
       "  device_protection tech_support streaming_tv streaming_movies multiple_lines  \n",
       "0                No           No           No               No             No  \n",
       "1               Yes           No           No               No             No  \n",
       "2                No           No           No               No             No  \n",
       "3               Yes          Yes           No               No             No  \n",
       "4                No           No           No               No             No  "
      ]
     },
     "execution_count": 26,
     "metadata": {},
     "output_type": "execute_result"
    }
   ],
   "source": [
    "categorical = df[df.select_dtypes(include='object').columns]\n",
    "categorical.head(5)"
   ]
  },
  {
   "cell_type": "markdown",
   "id": "65595a82-d910-43da-bdf7-38138e6b7d39",
   "metadata": {
    "tags": []
   },
   "source": [
    "### Построим корреляционную матрицу для смешанного набора признаков"
   ]
  },
  {
   "cell_type": "code",
   "execution_count": 27,
   "id": "43aa0a01-bc2c-46af-80b1-66ce07a4cb0d",
   "metadata": {},
   "outputs": [
    {
     "data": {
      "image/png": "[encoded data removed]",
      "text/plain": [
       "<Figure size 720x576 with 2 Axes>"
      ]
     },
     "metadata": {
      "needs_background": "light"
     },
     "output_type": "display_data"
    }
   ],
   "source": [
    "interval_cols = ['monthly_charges', 'total_charges', 'senior_citizen', 'exited', 'lifetime_value']\n",
    "phik_matrix = numeric.phik_matrix(interval_cols=interval_cols)\n",
    "\n",
    "plt.figure(figsize=(10, 8))\n",
    "sns.heatmap(phik_matrix, cmap='coolwarm', annot=True, fmt=\".2f\")\n",
    "plt.title('Матрица корреляции')\n",
    "plt.show()"
   ]
  },
  {
   "cell_type": "markdown",
   "id": "80f8d500-59ef-4544-bb00-ffe5ab2f1e2a",
   "metadata": {},
   "source": [
    "1. Зависимость между `total_charges` и `lifetime_value` - чем дольше срок пользования, тем больше потрачено на услуги и наоборот.\n",
    "2. Зависимость между `total_charges` и `monthly_charges` - размер ежемесячных платежей влияет на общие расходы.\n",
    "3. Больше всего факт ухода клиента `exited` коррелирует с расходами за месяц `lifetime_value` - умеренная положительная связь.\n",
    "4. Целевой признак `exited` связан слабой положительной связью с `total_charges` и `monthly_charges`."
   ]
  },
  {
   "cell_type": "markdown",
   "id": "004ff08c-1f99-4ed6-a71a-71fc78d700eb",
   "metadata": {},
   "source": [
    "Признак`total_charges` имеет сильную положительную корреляционную связь с признакими `lifetime_value` и `monthly_charges` - мультиколлинеарность.\\\n",
    "С одной стороны, это может повлиять на результаты обучения модели.\\\n",
    "А с другой, алгоритмы классификации, которые я планирую использовать: DecisionTree, RandomForest и CatBoost считаются устойчивыми к мультиколлинеарности.\n",
    "\n",
    "Поэтому на этом этапе ничего не предпринимаю, но если показатели метрики будет недостаточные, то вероятно, нужно будет удалить `total_charges`."
   ]
  },
  {
   "cell_type": "markdown",
   "id": "ead06b24-7a41-4492-8622-54d19639305b",
   "metadata": {
    "tags": []
   },
   "source": [
    "### Исследуем числовые признаки"
   ]
  },
  {
   "cell_type": "markdown",
   "id": "e90db4b4-1058-48bb-8bdb-b86094f216b7",
   "metadata": {},
   "source": [
    "**Исследуем выбивающиеся значения в столбцах**"
   ]
  },
  {
   "cell_type": "code",
   "execution_count": 29,
   "id": "4bf54e1a-6e01-49ef-be7b-04e9adfe66b9",
   "metadata": {},
   "outputs": [
    {
     "data": {
      "text/html": [
       "<style type=\"text/css\">\n",
       "</style>\n",
       "<table id=\"T_d24d6\">\n",
       "  <thead>\n",
       "    <tr>\n",
       "      <th class=\"blank level0\" >&nbsp;</th>\n",
       "      <th id=\"T_d24d6_level0_col0\" class=\"col_heading level0 col0\" >monthly_charges</th>\n",
       "      <th id=\"T_d24d6_level0_col1\" class=\"col_heading level0 col1\" >total_charges</th>\n",
       "      <th id=\"T_d24d6_level0_col2\" class=\"col_heading level0 col2\" >lifetime_value</th>\n",
       "    </tr>\n",
       "  </thead>\n",
       "  <tbody>\n",
       "    <tr>\n",
       "      <th id=\"T_d24d6_level0_row0\" class=\"row_heading level0 row0\" >count</th>\n",
       "      <td id=\"T_d24d6_row0_col0\" class=\"data row0 col0\" >7,043.00</td>\n",
       "      <td id=\"T_d24d6_row0_col1\" class=\"data row0 col1\" >7,043.00</td>\n",
       "      <td id=\"T_d24d6_row0_col2\" class=\"data row0 col2\" >7,043.00</td>\n",
       "    </tr>\n",
       "    <tr>\n",
       "      <th id=\"T_d24d6_level0_row1\" class=\"row_heading level0 row1\" >min</th>\n",
       "      <td id=\"T_d24d6_row1_col0\" class=\"data row1 col0\" >18.25</td>\n",
       "      <td id=\"T_d24d6_row1_col1\" class=\"data row1 col1\" >19.05</td>\n",
       "      <td id=\"T_d24d6_row1_col2\" class=\"data row1 col2\" >0.00</td>\n",
       "    </tr>\n",
       "    <tr>\n",
       "      <th id=\"T_d24d6_level0_row2\" class=\"row_heading level0 row2\" >mean</th>\n",
       "      <td id=\"T_d24d6_row2_col0\" class=\"data row2 col0\" >64.76</td>\n",
       "      <td id=\"T_d24d6_row2_col1\" class=\"data row2 col1\" >2,115.38</td>\n",
       "      <td id=\"T_d24d6_row2_col2\" class=\"data row2 col2\" >898.56</td>\n",
       "    </tr>\n",
       "    <tr>\n",
       "      <th id=\"T_d24d6_level0_row3\" class=\"row_heading level0 row3\" >median</th>\n",
       "      <td id=\"T_d24d6_row3_col0\" class=\"data row3 col0\" >70.35</td>\n",
       "      <td id=\"T_d24d6_row3_col1\" class=\"data row3 col1\" >1,343.35</td>\n",
       "      <td id=\"T_d24d6_row3_col2\" class=\"data row3 col2\" >761.00</td>\n",
       "    </tr>\n",
       "    <tr>\n",
       "      <th id=\"T_d24d6_level0_row4\" class=\"row_heading level0 row4\" >max</th>\n",
       "      <td id=\"T_d24d6_row4_col0\" class=\"data row4 col0\" >118.75</td>\n",
       "      <td id=\"T_d24d6_row4_col1\" class=\"data row4 col1\" >9,221.38</td>\n",
       "      <td id=\"T_d24d6_row4_col2\" class=\"data row4 col2\" >2,314.00</td>\n",
       "    </tr>\n",
       "  </tbody>\n",
       "</table>\n"
      ],
      "text/plain": [
       "<pandas.io.formats.style.Styler at 0x2063dc66bb0>"
      ]
     },
     "execution_count": 29,
     "metadata": {},
     "output_type": "execute_result"
    }
   ],
   "source": [
    "(\n",
    "    df[['monthly_charges', 'total_charges', 'lifetime_value']]\n",
    "    .apply (['count', 'min', 'mean', 'median', 'max'])\n",
    "    .style.format(\"{:,.2f}\")\n",
    ")"
   ]
  },
  {
   "cell_type": "markdown",
   "id": "d23e25a2-a005-472d-af3d-8d708bf952ee",
   "metadata": {
    "tags": []
   },
   "source": [
    "### 3.1 Столбец \"monthly_charges\""
   ]
  },
  {
   "cell_type": "markdown",
   "id": "e431a380-8096-4272-88dc-cabb8ebf0077",
   "metadata": {},
   "source": [
    "**1. Построим гистограмму для столбца `monthly_charges`**"
   ]
  },
  {
   "cell_type": "code",
   "execution_count": 30,
   "id": "ed90612d-be70-4c25-84f4-307b9488980d",
   "metadata": {},
   "outputs": [
    {
     "data": {
      "image/png": "[encoded data removed]",
      "text/plain": [
       "<Figure size 1440x360 with 1 Axes>"
      ]
     },
     "metadata": {
      "needs_background": "light"
     },
     "output_type": "display_data"
    }
   ],
   "source": [
    "df.monthly_charges.hist(bins=25, edgecolor='black', linewidth=1, figsize=(20,5))\n",
    "plt.xlabel('Ежемесячные расходы')\n",
    "plt.ylabel('Количество')\n",
    "plt.title('Ежемесячные траты на услуги')\n",
    "plt.grid(True)\n",
    "plt.show()"
   ]
  },
  {
   "cell_type": "markdown",
   "id": "decc2436-0f1f-43bf-9dd6-167debc22364",
   "metadata": {},
   "source": [
    "**2. Исследуем выбивающиеся значения признака`monthly_charges`**"
   ]
  },
  {
   "cell_type": "code",
   "execution_count": 31,
   "id": "93782871-9460-484f-a488-d6063fef3c4d",
   "metadata": {},
   "outputs": [
    {
     "data": {
      "text/html": [
       "<style type=\"text/css\">\n",
       "</style>\n",
       "<table id=\"T_76fb3\">\n",
       "  <thead>\n",
       "    <tr>\n",
       "      <th class=\"blank level0\" >&nbsp;</th>\n",
       "      <th id=\"T_76fb3_level0_col0\" class=\"col_heading level0 col0\" >monthly_charges</th>\n",
       "    </tr>\n",
       "  </thead>\n",
       "  <tbody>\n",
       "    <tr>\n",
       "      <th id=\"T_76fb3_level0_row0\" class=\"row_heading level0 row0\" >count</th>\n",
       "      <td id=\"T_76fb3_row0_col0\" class=\"data row0 col0\" >7,043.00</td>\n",
       "    </tr>\n",
       "    <tr>\n",
       "      <th id=\"T_76fb3_level0_row1\" class=\"row_heading level0 row1\" >mean</th>\n",
       "      <td id=\"T_76fb3_row1_col0\" class=\"data row1 col0\" >64.76</td>\n",
       "    </tr>\n",
       "    <tr>\n",
       "      <th id=\"T_76fb3_level0_row2\" class=\"row_heading level0 row2\" >std</th>\n",
       "      <td id=\"T_76fb3_row2_col0\" class=\"data row2 col0\" >30.09</td>\n",
       "    </tr>\n",
       "    <tr>\n",
       "      <th id=\"T_76fb3_level0_row3\" class=\"row_heading level0 row3\" >min</th>\n",
       "      <td id=\"T_76fb3_row3_col0\" class=\"data row3 col0\" >18.25</td>\n",
       "    </tr>\n",
       "    <tr>\n",
       "      <th id=\"T_76fb3_level0_row4\" class=\"row_heading level0 row4\" >25%</th>\n",
       "      <td id=\"T_76fb3_row4_col0\" class=\"data row4 col0\" >35.50</td>\n",
       "    </tr>\n",
       "    <tr>\n",
       "      <th id=\"T_76fb3_level0_row5\" class=\"row_heading level0 row5\" >50%</th>\n",
       "      <td id=\"T_76fb3_row5_col0\" class=\"data row5 col0\" >70.35</td>\n",
       "    </tr>\n",
       "    <tr>\n",
       "      <th id=\"T_76fb3_level0_row6\" class=\"row_heading level0 row6\" >75%</th>\n",
       "      <td id=\"T_76fb3_row6_col0\" class=\"data row6 col0\" >89.85</td>\n",
       "    </tr>\n",
       "    <tr>\n",
       "      <th id=\"T_76fb3_level0_row7\" class=\"row_heading level0 row7\" >max</th>\n",
       "      <td id=\"T_76fb3_row7_col0\" class=\"data row7 col0\" >118.75</td>\n",
       "    </tr>\n",
       "  </tbody>\n",
       "</table>\n"
      ],
      "text/plain": [
       "<pandas.io.formats.style.Styler at 0x2063df023d0>"
      ]
     },
     "execution_count": 31,
     "metadata": {},
     "output_type": "execute_result"
    }
   ],
   "source": [
    "df.monthly_charges.describe().to_frame().style.format(\"{:,.2f}\")"
   ]
  },
  {
   "cell_type": "markdown",
   "id": "46f86a4c-fd6d-4486-93c0-a8d3e17715b9",
   "metadata": {},
   "source": [
    "**3. Построим боксплот для столбца `monthly_charges`**"
   ]
  },
  {
   "cell_type": "code",
   "execution_count": 32,
   "id": "ee4a912e-7527-4b57-9ce0-64b9b64caa1a",
   "metadata": {},
   "outputs": [
    {
     "data": {
      "image/png": "[encoded data removed]",
      "text/plain": [
       "<Figure size 1440x360 with 1 Axes>"
      ]
     },
     "metadata": {
      "needs_background": "light"
     },
     "output_type": "display_data"
    }
   ],
   "source": [
    "fig, ax = plt.subplots(figsize = (20,5))\n",
    "ax = df[['monthly_charges']].boxplot(vert=False, ax=ax, patch_artist=True, notch=True)\n",
    "ax.set_title('Диаграмма размаха значений \"Ежемесячные расходы\"');"
   ]
  },
  {
   "cell_type": "markdown",
   "id": "63152c80-48a4-42d5-b6a4-7fcd0f66ecc0",
   "metadata": {},
   "source": [
    "#### Вывод"
   ]
  },
  {
   "cell_type": "markdown",
   "id": "bb9dc557-77da-4821-8f82-18e0cb0bd5a5",
   "metadata": {},
   "source": [
    "- На гистограмме распределение данных близко к нормальному, с выбивающимися значениями около 18-22 (вероятно новые клиенты)\n",
    "- Боксплот в целом выглядит сбалансированным, без выбросов"
   ]
  },
  {
   "cell_type": "code",
   "execution_count": 33,
   "id": "e6c1f7fd-5f90-49a4-9b34-1489e6af03e8",
   "metadata": {},
   "outputs": [
    {
     "data": {
      "text/html": [
       "<div>\n",
       "<style scoped>\n",
       "    .dataframe tbody tr th:only-of-type {\n",
       "        vertical-align: middle;\n",
       "    }\n",
       "\n",
       "    .dataframe tbody tr th {\n",
       "        vertical-align: top;\n",
       "    }\n",
       "\n",
       "    .dataframe thead th {\n",
       "        text-align: right;\n",
       "    }\n",
       "</style>\n",
       "<table border=\"1\" class=\"dataframe\">\n",
       "  <thead>\n",
       "    <tr style=\"text-align: right;\">\n",
       "      <th></th>\n",
       "      <th>categories_monthly_charges_range</th>\n",
       "      <th>median</th>\n",
       "      <th>mean</th>\n",
       "      <th>count</th>\n",
       "    </tr>\n",
       "  </thead>\n",
       "  <tbody>\n",
       "    <tr>\n",
       "      <th>0</th>\n",
       "      <td>от 18.25 до 20.05</td>\n",
       "      <td>19.650</td>\n",
       "      <td>19.629637</td>\n",
       "      <td>717</td>\n",
       "    </tr>\n",
       "    <tr>\n",
       "      <th>1</th>\n",
       "      <td>от 20.05 до 25.05</td>\n",
       "      <td>20.650</td>\n",
       "      <td>21.813229</td>\n",
       "      <td>703</td>\n",
       "    </tr>\n",
       "    <tr>\n",
       "      <th>2</th>\n",
       "      <td>от 25.05 до 45.85</td>\n",
       "      <td>35.650</td>\n",
       "      <td>35.710144</td>\n",
       "      <td>695</td>\n",
       "    </tr>\n",
       "    <tr>\n",
       "      <th>3</th>\n",
       "      <td>от 45.85 до 58.83</td>\n",
       "      <td>53.150</td>\n",
       "      <td>52.551282</td>\n",
       "      <td>702</td>\n",
       "    </tr>\n",
       "    <tr>\n",
       "      <th>4</th>\n",
       "      <td>от 58.83 до 70.35</td>\n",
       "      <td>65.500</td>\n",
       "      <td>65.357454</td>\n",
       "      <td>711</td>\n",
       "    </tr>\n",
       "    <tr>\n",
       "      <th>5</th>\n",
       "      <td>от 70.35 до 79.10</td>\n",
       "      <td>74.775</td>\n",
       "      <td>74.673286</td>\n",
       "      <td>700</td>\n",
       "    </tr>\n",
       "    <tr>\n",
       "      <th>6</th>\n",
       "      <td>от 79.10 до 85.50</td>\n",
       "      <td>81.450</td>\n",
       "      <td>82.162979</td>\n",
       "      <td>705</td>\n",
       "    </tr>\n",
       "    <tr>\n",
       "      <th>7</th>\n",
       "      <td>от 85.50 до 94.25</td>\n",
       "      <td>89.850</td>\n",
       "      <td>89.865028</td>\n",
       "      <td>702</td>\n",
       "    </tr>\n",
       "    <tr>\n",
       "      <th>8</th>\n",
       "      <td>от 94.25 до 102.60</td>\n",
       "      <td>98.575</td>\n",
       "      <td>98.048224</td>\n",
       "      <td>704</td>\n",
       "    </tr>\n",
       "    <tr>\n",
       "      <th>9</th>\n",
       "      <td>от 102.60 до 118.75</td>\n",
       "      <td>107.425</td>\n",
       "      <td>108.268963</td>\n",
       "      <td>704</td>\n",
       "    </tr>\n",
       "  </tbody>\n",
       "</table>\n",
       "</div>"
      ],
      "text/plain": [
       "  categories_monthly_charges_range   median        mean  count\n",
       "0                от 18.25 до 20.05   19.650   19.629637    717\n",
       "1                от 20.05 до 25.05   20.650   21.813229    703\n",
       "2                от 25.05 до 45.85   35.650   35.710144    695\n",
       "3                от 45.85 до 58.83   53.150   52.551282    702\n",
       "4                от 58.83 до 70.35   65.500   65.357454    711\n",
       "5                от 70.35 до 79.10   74.775   74.673286    700\n",
       "6                от 79.10 до 85.50   81.450   82.162979    705\n",
       "7                от 85.50 до 94.25   89.850   89.865028    702\n",
       "8               от 94.25 до 102.60   98.575   98.048224    704\n",
       "9              от 102.60 до 118.75  107.425  108.268963    704"
      ]
     },
     "execution_count": 33,
     "metadata": {},
     "output_type": "execute_result"
    }
   ],
   "source": [
    "# группируем месячные расходы на услуги в 10 групп\n",
    "df['categories_monthly_charges'] = pd.qcut(df.monthly_charges, 10)\n",
    "df['categories_monthly_charges_range'] = df['categories_monthly_charges'].apply(lambda x: f'от {x.left:.2f} до {x.right:.2f}')\n",
    "# рассчитаем медианну для каждой категории общих расходов клиентов, посмотрим на их количество\n",
    "med_categories_monthly_charges = df.groupby('categories_monthly_charges_range').monthly_charges.agg(['median', 'mean','count']).reset_index()\n",
    "med_categories_monthly_charges"
   ]
  },
  {
   "cell_type": "code",
   "execution_count": 34,
   "id": "5eb89062-a1e6-4e0b-810e-3dd96f1ddf25",
   "metadata": {},
   "outputs": [
    {
     "data": {
      "image/png": "[encoded data removed]",
      "text/plain": [
       "<Figure size 1440x360 with 1 Axes>"
      ]
     },
     "metadata": {
      "needs_background": "light"
     },
     "output_type": "display_data"
    }
   ],
   "source": [
    "pivot_table_monthly = df.pivot_table(index='categories_monthly_charges_range', columns='exited', aggfunc='size')\n",
    "\n",
    "# построим график\n",
    "pivot_table_monthly.plot(kind='bar', width = 0.99, rot=0, stacked=True, figsize=(20, 5), colormap='tab20c')\n",
    "plt.xlabel('Расходы за месяц, руб', fontsize=14)\n",
    "plt.ylabel('Количество')\n",
    "plt.title('Распределение клиентов в категориях', fontsize=14)\n",
    "legend_labels = ['Остались', 'Ушли']  # Список значений в легенде\n",
    "plt.legend(title='Факт ухода', labels=legend_labels, loc=\"best\", ncol=8)\n",
    " \n",
    "# подписи долей на графике\n",
    "monthly_values = pivot_table_monthly.sum(axis=1)  # сумма значений по каждой категории\n",
    "for n, x in enumerate(pivot_table_monthly.index.values):\n",
    "    for (value, y_loc) in zip(pivot_table_monthly.loc[x], pivot_table_monthly.loc[x].cumsum()):\n",
    "        if value > 0:  # печатаем значения только больше 0\n",
    "            proportion = value / monthly_values[x]  # вычисляем процентное соотношение относительно суммы значений\n",
    "            plt.text(x=n,  # положение по оси x\n",
    "                     y=y_loc - value / 1.4,  # положение по оси y\n",
    "                     color=\"black\",  # цвет шрифта подписей\n",
    "                     s=f'{proportion:.0%}',  # форматируем доли в процентах с двумя знаками после запятой\n",
    "                     fontsize=10,  # размер шрифта подписей\n",
    "                     ha='center',  # выравнивание текста по центру столбца\n",
    "                     va='bottom'  # выравнивание текста внизу столбца\n",
    "                     )\n",
    "plt.show()"
   ]
  },
  {
   "cell_type": "markdown",
   "id": "ae4edecb-928a-47b7-8849-5ea13bc4056d",
   "metadata": {},
   "source": [
    "#### Вывод"
   ]
  },
  {
   "cell_type": "markdown",
   "id": "436d0cc3-fbf7-4580-a348-a649eb336d08",
   "metadata": {},
   "source": [
    "1. На графике видна зависимость между ежемесячными расходами и вероятность ухода клиента"
   ]
  },
  {
   "cell_type": "markdown",
   "id": "84c9854f-0ff6-4e7b-bf05-b2c3b6552ce4",
   "metadata": {
    "tags": []
   },
   "source": [
    "### 3.2 Столбец \"total_charges\""
   ]
  },
  {
   "cell_type": "markdown",
   "id": "0532872c-e7a8-4c28-91be-eb0ecca52567",
   "metadata": {},
   "source": [
    "**1. Построим гистограмму для столбца `total_charges`**"
   ]
  },
  {
   "cell_type": "code",
   "execution_count": 35,
   "id": "d04b24bd-6108-488e-980a-69cebc7029a2",
   "metadata": {},
   "outputs": [
    {
     "data": {
      "image/png": "[encoded data removed]",
      "text/plain": [
       "<Figure size 1440x360 with 1 Axes>"
      ]
     },
     "metadata": {
      "needs_background": "light"
     },
     "output_type": "display_data"
    }
   ],
   "source": [
    "df.total_charges.hist(bins=50, edgecolor='black', linewidth=1, figsize=(20,5))\n",
    "plt.xlabel('Всего расходов')\n",
    "plt.ylabel('Количество')\n",
    "plt.title('Всего расходов на услуги')\n",
    "plt.grid(True)\n",
    "plt.show()"
   ]
  },
  {
   "cell_type": "markdown",
   "id": "97def93f-cecc-43af-b908-c34e31664bf9",
   "metadata": {},
   "source": [
    "**2. Исследуем выбивающиеся значения признака `total_charges`**"
   ]
  },
  {
   "cell_type": "code",
   "execution_count": 36,
   "id": "4983bd2a-fb0c-4d0b-91ee-248695b14c69",
   "metadata": {},
   "outputs": [
    {
     "data": {
      "text/html": [
       "<style type=\"text/css\">\n",
       "</style>\n",
       "<table id=\"T_89e0b\">\n",
       "  <thead>\n",
       "    <tr>\n",
       "      <th class=\"blank level0\" >&nbsp;</th>\n",
       "      <th id=\"T_89e0b_level0_col0\" class=\"col_heading level0 col0\" >total_charges</th>\n",
       "    </tr>\n",
       "  </thead>\n",
       "  <tbody>\n",
       "    <tr>\n",
       "      <th id=\"T_89e0b_level0_row0\" class=\"row_heading level0 row0\" >count</th>\n",
       "      <td id=\"T_89e0b_row0_col0\" class=\"data row0 col0\" >7,043.00</td>\n",
       "    </tr>\n",
       "    <tr>\n",
       "      <th id=\"T_89e0b_level0_row1\" class=\"row_heading level0 row1\" >mean</th>\n",
       "      <td id=\"T_89e0b_row1_col0\" class=\"data row1 col0\" >2,115.38</td>\n",
       "    </tr>\n",
       "    <tr>\n",
       "      <th id=\"T_89e0b_level0_row2\" class=\"row_heading level0 row2\" >std</th>\n",
       "      <td id=\"T_89e0b_row2_col0\" class=\"data row2 col0\" >2,112.68</td>\n",
       "    </tr>\n",
       "    <tr>\n",
       "      <th id=\"T_89e0b_level0_row3\" class=\"row_heading level0 row3\" >min</th>\n",
       "      <td id=\"T_89e0b_row3_col0\" class=\"data row3 col0\" >19.05</td>\n",
       "    </tr>\n",
       "    <tr>\n",
       "      <th id=\"T_89e0b_level0_row4\" class=\"row_heading level0 row4\" >25%</th>\n",
       "      <td id=\"T_89e0b_row4_col0\" class=\"data row4 col0\" >436.75</td>\n",
       "    </tr>\n",
       "    <tr>\n",
       "      <th id=\"T_89e0b_level0_row5\" class=\"row_heading level0 row5\" >50%</th>\n",
       "      <td id=\"T_89e0b_row5_col0\" class=\"data row5 col0\" >1,343.35</td>\n",
       "    </tr>\n",
       "    <tr>\n",
       "      <th id=\"T_89e0b_level0_row6\" class=\"row_heading level0 row6\" >75%</th>\n",
       "      <td id=\"T_89e0b_row6_col0\" class=\"data row6 col0\" >3,236.69</td>\n",
       "    </tr>\n",
       "    <tr>\n",
       "      <th id=\"T_89e0b_level0_row7\" class=\"row_heading level0 row7\" >max</th>\n",
       "      <td id=\"T_89e0b_row7_col0\" class=\"data row7 col0\" >9,221.38</td>\n",
       "    </tr>\n",
       "  </tbody>\n",
       "</table>\n"
      ],
      "text/plain": [
       "<pandas.io.formats.style.Styler at 0x2063dbe6d00>"
      ]
     },
     "execution_count": 36,
     "metadata": {},
     "output_type": "execute_result"
    }
   ],
   "source": [
    "df.total_charges.describe().to_frame().style.format(\"{:,.2f}\")"
   ]
  },
  {
   "cell_type": "markdown",
   "id": "844f5f53-7c51-4b6e-84a4-65afa94e8e06",
   "metadata": {},
   "source": [
    "**3. Построим боксплот для столбца `total_charges`**"
   ]
  },
  {
   "cell_type": "code",
   "execution_count": 37,
   "id": "8aa22dda-5af6-42e4-b405-5345aa56fd42",
   "metadata": {},
   "outputs": [
    {
     "data": {
      "image/png": "[encoded data removed]",
      "text/plain": [
       "<Figure size 1440x360 with 1 Axes>"
      ]
     },
     "metadata": {
      "needs_background": "light"
     },
     "output_type": "display_data"
    }
   ],
   "source": [
    "fig, ax = plt.subplots(figsize = (20,5))\n",
    "ax = df[['total_charges']].boxplot(vert=False, ax=ax, patch_artist=True, notch=True)\n",
    "ax.set_title('Диаграмма размаха значений \"Всего расходов\"');"
   ]
  },
  {
   "cell_type": "markdown",
   "id": "8be8f41e-ad19-47bc-871e-f7cc592a6e87",
   "metadata": {},
   "source": [
    "**4. Посчитаем квантили и выведем верхнюю и нижнюю границы боксплота признака `total_charges`**"
   ]
  },
  {
   "cell_type": "code",
   "execution_count": 38,
   "id": "c817232f-9af6-489f-ba6a-31d18506ed4d",
   "metadata": {},
   "outputs": [
    {
     "name": "stdout",
     "output_type": "stream",
     "text": [
      "Верхняя граница: 7436.599999999999\n",
      "Нижняя граница: -3763.16\n"
     ]
    }
   ],
   "source": [
    "Q1 = df.total_charges.quantile(0.25)\n",
    "Q3 = df.total_charges.quantile(0.75)\n",
    "IQR = Q3 - Q1\n",
    "upper = Q3 + 1.5 * IQR\n",
    "lower = Q1 - 1.5 * IQR \n",
    "\n",
    "print('Верхняя граница:', upper)\n",
    "print('Нижняя граница:', lower)"
   ]
  },
  {
   "cell_type": "markdown",
   "id": "3de8446b-27d3-4a53-bdda-31ca6d2e3316",
   "metadata": {},
   "source": [
    "**5. Оценим количество строк с общими расходами, которые выходят из диапозона 19 - 7500 по признаку `total_charges`**"
   ]
  },
  {
   "cell_type": "code",
   "execution_count": 39,
   "id": "f1c367cb-338b-4c72-8e03-d523c376f363",
   "metadata": {},
   "outputs": [
    {
     "data": {
      "text/plain": [
       "total_charges    181\n",
       "dtype: int64"
      ]
     },
     "execution_count": 39,
     "metadata": {},
     "output_type": "execute_result"
    }
   ],
   "source": [
    "df[['total_charges']].query(' total_charges < 19 or total_charges > 7500').count()"
   ]
  },
  {
   "cell_type": "code",
   "execution_count": 40,
   "id": "dbf7b76f-7d85-46d4-96bb-b7028c9b97ed",
   "metadata": {},
   "outputs": [
    {
     "data": {
      "text/html": [
       "<div>\n",
       "<style scoped>\n",
       "    .dataframe tbody tr th:only-of-type {\n",
       "        vertical-align: middle;\n",
       "    }\n",
       "\n",
       "    .dataframe tbody tr th {\n",
       "        vertical-align: top;\n",
       "    }\n",
       "\n",
       "    .dataframe thead th {\n",
       "        text-align: right;\n",
       "    }\n",
       "</style>\n",
       "<table border=\"1\" class=\"dataframe\">\n",
       "  <thead>\n",
       "    <tr style=\"text-align: right;\">\n",
       "      <th></th>\n",
       "      <th>categories_total_charges_range</th>\n",
       "      <th>median</th>\n",
       "      <th>mean</th>\n",
       "      <th>count</th>\n",
       "    </tr>\n",
       "  </thead>\n",
       "  <tbody>\n",
       "    <tr>\n",
       "      <th>0</th>\n",
       "      <td>от 19.05 до 152.41</td>\n",
       "      <td>24.100</td>\n",
       "      <td>34.636170</td>\n",
       "      <td>705</td>\n",
       "    </tr>\n",
       "    <tr>\n",
       "      <th>1</th>\n",
       "      <td>от 152.41 до 330.02</td>\n",
       "      <td>48.400</td>\n",
       "      <td>48.656676</td>\n",
       "      <td>704</td>\n",
       "    </tr>\n",
       "    <tr>\n",
       "      <th>2</th>\n",
       "      <td>от 330.02 до 572.40</td>\n",
       "      <td>50.675</td>\n",
       "      <td>51.558665</td>\n",
       "      <td>704</td>\n",
       "    </tr>\n",
       "    <tr>\n",
       "      <th>3</th>\n",
       "      <td>от 572.40 до 914.52</td>\n",
       "      <td>54.175</td>\n",
       "      <td>52.989063</td>\n",
       "      <td>704</td>\n",
       "    </tr>\n",
       "    <tr>\n",
       "      <th>4</th>\n",
       "      <td>от 914.52 до 1343.35</td>\n",
       "      <td>54.250</td>\n",
       "      <td>53.467021</td>\n",
       "      <td>705</td>\n",
       "    </tr>\n",
       "    <tr>\n",
       "      <th>5</th>\n",
       "      <td>от 1343.35 до 1850.76</td>\n",
       "      <td>60.875</td>\n",
       "      <td>60.485227</td>\n",
       "      <td>704</td>\n",
       "    </tr>\n",
       "    <tr>\n",
       "      <th>6</th>\n",
       "      <td>от 1850.76 до 2711.47</td>\n",
       "      <td>79.125</td>\n",
       "      <td>75.754190</td>\n",
       "      <td>704</td>\n",
       "    </tr>\n",
       "    <tr>\n",
       "      <th>7</th>\n",
       "      <td>от 2711.47 до 3844.87</td>\n",
       "      <td>84.250</td>\n",
       "      <td>81.904545</td>\n",
       "      <td>704</td>\n",
       "    </tr>\n",
       "    <tr>\n",
       "      <th>8</th>\n",
       "      <td>от 3844.87 до 5518.08</td>\n",
       "      <td>89.425</td>\n",
       "      <td>87.209872</td>\n",
       "      <td>704</td>\n",
       "    </tr>\n",
       "    <tr>\n",
       "      <th>9</th>\n",
       "      <td>от 5518.08 до 9221.38</td>\n",
       "      <td>104.000</td>\n",
       "      <td>100.962908</td>\n",
       "      <td>705</td>\n",
       "    </tr>\n",
       "  </tbody>\n",
       "</table>\n",
       "</div>"
      ],
      "text/plain": [
       "  categories_total_charges_range   median        mean  count\n",
       "0             от 19.05 до 152.41   24.100   34.636170    705\n",
       "1            от 152.41 до 330.02   48.400   48.656676    704\n",
       "2            от 330.02 до 572.40   50.675   51.558665    704\n",
       "3            от 572.40 до 914.52   54.175   52.989063    704\n",
       "4           от 914.52 до 1343.35   54.250   53.467021    705\n",
       "5          от 1343.35 до 1850.76   60.875   60.485227    704\n",
       "6          от 1850.76 до 2711.47   79.125   75.754190    704\n",
       "7          от 2711.47 до 3844.87   84.250   81.904545    704\n",
       "8          от 3844.87 до 5518.08   89.425   87.209872    704\n",
       "9          от 5518.08 до 9221.38  104.000  100.962908    705"
      ]
     },
     "execution_count": 40,
     "metadata": {},
     "output_type": "execute_result"
    }
   ],
   "source": [
    "# группируем все общие расходы на услуги в 10 групп\n",
    "df['categories_total_charges'] = pd.qcut(df.total_charges, 10)\n",
    "df['categories_total_charges_range'] = df['categories_total_charges'].apply(lambda x: f'от {x.left:.2f} до {x.right:.2f}')\n",
    "# рассчитаем медианну для каждой категории общих расходов клиентов, посмотрим на их количество\n",
    "med_categories_total_charges = df.groupby('categories_total_charges_range').monthly_charges.agg(['median', 'mean','count']).reset_index()\n",
    "med_categories_total_charges"
   ]
  },
  {
   "cell_type": "code",
   "execution_count": 41,
   "id": "87b08c80-3d1d-4d9c-96bc-8d9ad655734d",
   "metadata": {},
   "outputs": [
    {
     "data": {
      "image/png": "[encoded data removed]",
      "text/plain": [
       "<Figure size 1440x360 with 1 Axes>"
      ]
     },
     "metadata": {
      "needs_background": "light"
     },
     "output_type": "display_data"
    }
   ],
   "source": [
    "pivot_table_total = df.pivot_table(index='categories_total_charges_range', columns='exited', aggfunc='size')\n",
    "\n",
    "# построим график\n",
    "pivot_table_total.plot(kind='bar', width = 0.99, rot=5, stacked=True, figsize=(20, 5), colormap='tab20c')\n",
    "plt.xlabel('Общие расходы, руб', fontsize=14)\n",
    "plt.ylabel('Количество')\n",
    "plt.title('Распределение клиентов в категориях', fontsize=16)\n",
    "legend_labels = ['Остались', 'Ушли']  # Список значений в легенде\n",
    "plt.legend(title='Факт ухода', labels=legend_labels, loc=\"best\", ncol=8)\n",
    " \n",
    "# подписи долей на графике\n",
    "total_values = pivot_table_total.sum(axis=1)  # сумма значений по каждой категории\n",
    "for n, x in enumerate(pivot_table_total.index.values):\n",
    "    for (value, y_loc) in zip(pivot_table_total.loc[x], pivot_table_total.loc[x].cumsum()):\n",
    "        if value > 0:  # печатаем значения только больше 0\n",
    "            proportion = value / total_values[x]  # вычисляем процентное соотношение относительно суммы значений\n",
    "            plt.text(x=n,  # положение по оси x\n",
    "                     y=y_loc - value / 2,  # положение по оси y\n",
    "                     color=\"black\",  # цвет шрифта подписей\n",
    "                     s=f'{proportion:.0%}',  # форматируем доли в процентах с двумя знаками после запятой\n",
    "                     fontsize=10,  # размер шрифта подписей\n",
    "                     ha='center',  # выравнивание текста по центру столбца\n",
    "                     va='bottom'  # выравнивание текста внизу столбца\n",
    "                     )\n",
    "plt.show()"
   ]
  },
  {
   "cell_type": "markdown",
   "id": "f2f5b547-0bc5-4e63-8d34-c13f25bdc4b1",
   "metadata": {},
   "source": [
    "#### Вывод"
   ]
  },
  {
   "cell_type": "markdown",
   "id": "e85084c1-20ba-424a-84db-fe2e755e0a62",
   "metadata": {},
   "source": [
    "1. На графике видно, что высокие общие расходы не сильно влияют на уход клиента, как средние."
   ]
  },
  {
   "cell_type": "markdown",
   "id": "33f5de33-dcc6-449d-a18f-cfdc215ba8aa",
   "metadata": {},
   "source": [
    "#### Вывод"
   ]
  },
  {
   "cell_type": "markdown",
   "id": "72feb891-caef-4e53-9356-e973f169c184",
   "metadata": {},
   "source": [
    "- На диаграмме ассиметричное распределение с хвостом вправо\n",
    "- Боксплот с явными выбросами\n",
    "\n",
    "Можно попробовать удалить строки значения которых выходят из диапазона значений 19 - 7500 - это 181 строка.\\\n",
    "Это позволить сбалансировать боксплот и, вероятно, приведет распределение к боллее нормальному виду. \n",
    "\n",
    "Но, терять даже 2,5% строк не хочется, тем более нет гарантий, что это даст нужный результат.\\\n",
    "А ещё выше определи, что признак `total_charges` является одним из двух мультиколлениарных и вероятно потребуется его удалить.\\\n",
    "Теперь так и поступим - удалим `total_charges`"
   ]
  },
  {
   "cell_type": "code",
   "execution_count": 42,
   "id": "f0b792b2-d311-4b0b-87c2-9aec0bcd2ad7",
   "metadata": {},
   "outputs": [],
   "source": [
    "df = df.drop(['total_charges'], axis=1)"
   ]
  },
  {
   "cell_type": "markdown",
   "id": "48f6cf10-2fef-4764-907b-c1115580cd90",
   "metadata": {
    "tags": []
   },
   "source": [
    "### 3.3 Столбец \"lifetime_value\""
   ]
  },
  {
   "cell_type": "markdown",
   "id": "1afa795b-ea75-454b-96b1-20fbe004eb10",
   "metadata": {},
   "source": [
    "**1. Построим гистограмму для столбца `lifetime_value`**"
   ]
  },
  {
   "cell_type": "code",
   "execution_count": 43,
   "id": "b14b0b81-741b-422f-8fe9-7a027489a8be",
   "metadata": {},
   "outputs": [
    {
     "data": {
      "image/png": "[encoded data removed]",
      "text/plain": [
       "<Figure size 1440x360 with 1 Axes>"
      ]
     },
     "metadata": {
      "needs_background": "light"
     },
     "output_type": "display_data"
    }
   ],
   "source": [
    "# построим гистограмму\n",
    "df.lifetime_value.hist(bins=50, edgecolor='black', linewidth=1, figsize=(20,5))\n",
    "plt.xlabel('Дни')\n",
    "plt.ylabel('Количество')\n",
    "plt.title('Срок подлючения')\n",
    "plt.grid(True)\n",
    "plt.show()"
   ]
  },
  {
   "cell_type": "markdown",
   "id": "73486216-f0c1-44eb-aeae-a676ea6ed963",
   "metadata": {},
   "source": [
    "**2. Исследуем выбивающиеся значения признака `lifetime_value`**"
   ]
  },
  {
   "cell_type": "code",
   "execution_count": 44,
   "id": "08b74d9a-63e0-4750-ae3f-d36885aca175",
   "metadata": {},
   "outputs": [
    {
     "data": {
      "text/html": [
       "<style type=\"text/css\">\n",
       "</style>\n",
       "<table id=\"T_835ef\">\n",
       "  <thead>\n",
       "    <tr>\n",
       "      <th class=\"blank level0\" >&nbsp;</th>\n",
       "      <th id=\"T_835ef_level0_col0\" class=\"col_heading level0 col0\" >lifetime_value</th>\n",
       "    </tr>\n",
       "  </thead>\n",
       "  <tbody>\n",
       "    <tr>\n",
       "      <th id=\"T_835ef_level0_row0\" class=\"row_heading level0 row0\" >count</th>\n",
       "      <td id=\"T_835ef_row0_col0\" class=\"data row0 col0\" >7,043.00</td>\n",
       "    </tr>\n",
       "    <tr>\n",
       "      <th id=\"T_835ef_level0_row1\" class=\"row_heading level0 row1\" >mean</th>\n",
       "      <td id=\"T_835ef_row1_col0\" class=\"data row1 col0\" >898.56</td>\n",
       "    </tr>\n",
       "    <tr>\n",
       "      <th id=\"T_835ef_level0_row2\" class=\"row_heading level0 row2\" >std</th>\n",
       "      <td id=\"T_835ef_row2_col0\" class=\"data row2 col0\" >683.13</td>\n",
       "    </tr>\n",
       "    <tr>\n",
       "      <th id=\"T_835ef_level0_row3\" class=\"row_heading level0 row3\" >min</th>\n",
       "      <td id=\"T_835ef_row3_col0\" class=\"data row3 col0\" >0.00</td>\n",
       "    </tr>\n",
       "    <tr>\n",
       "      <th id=\"T_835ef_level0_row4\" class=\"row_heading level0 row4\" >25%</th>\n",
       "      <td id=\"T_835ef_row4_col0\" class=\"data row4 col0\" >276.00</td>\n",
       "    </tr>\n",
       "    <tr>\n",
       "      <th id=\"T_835ef_level0_row5\" class=\"row_heading level0 row5\" >50%</th>\n",
       "      <td id=\"T_835ef_row5_col0\" class=\"data row5 col0\" >761.00</td>\n",
       "    </tr>\n",
       "    <tr>\n",
       "      <th id=\"T_835ef_level0_row6\" class=\"row_heading level0 row6\" >75%</th>\n",
       "      <td id=\"T_835ef_row6_col0\" class=\"data row6 col0\" >1,461.00</td>\n",
       "    </tr>\n",
       "    <tr>\n",
       "      <th id=\"T_835ef_level0_row7\" class=\"row_heading level0 row7\" >max</th>\n",
       "      <td id=\"T_835ef_row7_col0\" class=\"data row7 col0\" >2,314.00</td>\n",
       "    </tr>\n",
       "  </tbody>\n",
       "</table>\n"
      ],
      "text/plain": [
       "<pandas.io.formats.style.Styler at 0x2063de256d0>"
      ]
     },
     "execution_count": 44,
     "metadata": {},
     "output_type": "execute_result"
    }
   ],
   "source": [
    "df.lifetime_value.describe().to_frame().style.format(\"{:,.2f}\")"
   ]
  },
  {
   "cell_type": "markdown",
   "id": "6caf966e-a8e4-4d07-956b-619c729e3d1f",
   "metadata": {},
   "source": [
    "**3. Построим боксплот для столбца `lifetime_value`**"
   ]
  },
  {
   "cell_type": "code",
   "execution_count": 45,
   "id": "30f29b8e-f996-41ec-a4b8-b184eae6cd67",
   "metadata": {},
   "outputs": [
    {
     "data": {
      "image/png": "[encoded data removed]",
      "text/plain": [
       "<Figure size 1440x360 with 1 Axes>"
      ]
     },
     "metadata": {
      "needs_background": "light"
     },
     "output_type": "display_data"
    }
   ],
   "source": [
    "fig, ax = plt.subplots(figsize = (20,5))\n",
    "ax = df[['lifetime_value']].boxplot(vert=False, ax=ax, patch_artist=True, notch=True)\n",
    "ax.set_title('Диаграмма размаха значений \"Срок подключения\"');"
   ]
  },
  {
   "cell_type": "markdown",
   "id": "1a0021cf-050b-4ec3-b09f-11d75b0d6a9a",
   "metadata": {},
   "source": [
    "#### Вывод"
   ]
  },
  {
   "cell_type": "markdown",
   "id": "b3339eec-9d46-4630-97df-6779f26e06cc",
   "metadata": {},
   "source": [
    "- На гистограмме мультимодальное распределение\n",
    "- Боксплот в целом выглядит сбалансированным\n",
    "- Явных выбросов и аномальных значений не выявлено"
   ]
  },
  {
   "cell_type": "markdown",
   "id": "1b37793b-ceb7-4705-81c6-d5e252743db1",
   "metadata": {
    "tags": []
   },
   "source": [
    "### 3.4 Оценим сбалансированность целевого признака \"exited\""
   ]
  },
  {
   "cell_type": "markdown",
   "id": "2f04ef6c-8c02-4e7c-a696-b0682528388d",
   "metadata": {},
   "source": [
    "**Посчитаем количество уникальных значений в целевом признаке**"
   ]
  },
  {
   "cell_type": "code",
   "execution_count": 46,
   "id": "73da14cc-0558-4b80-b30e-acf022db0ade",
   "metadata": {},
   "outputs": [
    {
     "name": "stdout",
     "output_type": "stream",
     "text": [
      "     exited\n",
      "0  0.843675\n",
      "1  0.156325\n"
     ]
    },
    {
     "data": {
      "image/png": "[encoded data removed]",
      "text/plain": [
       "<Figure size 432x288 with 1 Axes>"
      ]
     },
     "metadata": {
      "needs_background": "light"
     },
     "output_type": "display_data"
    }
   ],
   "source": [
    "class_frequency = df['exited'].value_counts(normalize= True).to_frame()\n",
    "print(class_frequency)\n",
    "\n",
    "ax = class_frequency.plot(kind='bar', rot=0, edgecolor='black', linewidth=1)\n",
    "ax.set_xlabel('Класс')\n",
    "ax.set_ylabel('Количество')\n",
    "ax.set_title('Баланс целевого признака');\n",
    "plt.show()"
   ]
  },
  {
   "cell_type": "markdown",
   "id": "2c250b2f-2abf-4f62-8662-577bf70ebc29",
   "metadata": {},
   "source": [
    "#### Вывод"
   ]
  },
  {
   "cell_type": "markdown",
   "id": "19dc9757-34ff-43a2-8f1f-d07dc8a533d1",
   "metadata": {},
   "source": [
    "- Целевой признак не сбалансирован\n",
    "- Используем балансировку классов внутри модели"
   ]
  },
  {
   "cell_type": "markdown",
   "id": "9b20f74f-fd51-476b-8b4a-e1621b4215b8",
   "metadata": {
    "tags": []
   },
   "source": [
    "### 3.5 Изучим признак \"senior_citizen\""
   ]
  },
  {
   "cell_type": "markdown",
   "id": "be06742a-bca7-4117-964b-f5938dc603fb",
   "metadata": {},
   "source": [
    "**1. Посчитаем количество уникальных значений в признаке `senior_citizen`**"
   ]
  },
  {
   "cell_type": "code",
   "execution_count": 47,
   "id": "7336d4e5-254f-40b0-97aa-19cf791b6549",
   "metadata": {},
   "outputs": [
    {
     "name": "stdout",
     "output_type": "stream",
     "text": [
      "   senior_citizen\n",
      "0        0.837853\n",
      "1        0.162147\n"
     ]
    },
    {
     "data": {
      "image/png": "[encoded data removed]",
      "text/plain": [
       "<Figure size 432x288 with 1 Axes>"
      ]
     },
     "metadata": {
      "needs_background": "light"
     },
     "output_type": "display_data"
    }
   ],
   "source": [
    "citizen_frequency = df['senior_citizen'].value_counts(normalize= True).to_frame()\n",
    "print(citizen_frequency)\n",
    "\n",
    "ax = citizen_frequency.plot(kind='bar', rot=0, edgecolor='black', linewidth=1)\n",
    "ax.set_xlabel('Класс')\n",
    "ax.set_ylabel('Количество')\n",
    "ax.set_title('Статус предпенсионера');\n",
    "plt.show()"
   ]
  },
  {
   "cell_type": "markdown",
   "id": "d42a61fe-5ad1-4630-8a08-5bc639aa24a1",
   "metadata": {},
   "source": [
    "**2. Оценим, как статус предпенсионера влияет на вероятность ухода клиента**"
   ]
  },
  {
   "cell_type": "code",
   "execution_count": 48,
   "id": "841fd17a-e1e8-46a3-8a38-4c443cf7317b",
   "metadata": {},
   "outputs": [
    {
     "data": {
      "image/png": "[encoded data removed]",
      "text/plain": [
       "<Figure size 864x360 with 1 Axes>"
      ]
     },
     "metadata": {
      "needs_background": "light"
     },
     "output_type": "display_data"
    }
   ],
   "source": [
    "# создадим сводную таблицу\n",
    "pivot_table = df.pivot_table(index='exited', columns='senior_citizen', aggfunc='size')\n",
    "\n",
    "# построим график\n",
    "pivot_table.plot(kind='bar', rot=0, stacked=True, figsize=(12, 5))\n",
    "plt.xlabel('Вероятность ухода')\n",
    "plt.ylabel('Количество')\n",
    "plt.title(f'Распределение предпенсионеров в целевом признаке')\n",
    "plt.legend(title='senior_citizen')\n",
    "\n",
    "plt.show()"
   ]
  },
  {
   "cell_type": "markdown",
   "id": "c404a01e-468e-4c33-bec0-f9dce503e5b3",
   "metadata": {},
   "source": [
    "#### Вывод"
   ]
  },
  {
   "cell_type": "markdown",
   "id": "426d38b6-4462-484d-ac97-f0d02614d282",
   "metadata": {},
   "source": [
    "- Клиентов в статусе предпенсионера всего 16%\n",
    "- Основные клиенты оператора - люди трудоспособного возраста\n",
    "- Среди ушедших клиентов предпенсионеры не преобладают"
   ]
  },
  {
   "cell_type": "markdown",
   "id": "6509cb4d-16c0-488e-9cf2-04053f3a44b8",
   "metadata": {
    "tags": []
   },
   "source": [
    "### Исследуем категориальные признаки"
   ]
  },
  {
   "cell_type": "markdown",
   "id": "ede51316-ab6a-48a7-9bf0-7c015c21ddad",
   "metadata": {},
   "source": [
    "**Отобразим категориальные данные на круговых диаграммах**"
   ]
  },
  {
   "cell_type": "code",
   "execution_count": 49,
   "id": "7bd06848-db99-49a5-9a51-4bc0299cc2a0",
   "metadata": {},
   "outputs": [
    {
     "data": {
      "image/png": "[encoded data removed]",
      "text/plain": [
       "<Figure size 1224x1800 with 14 Axes>"
      ]
     },
     "metadata": {},
     "output_type": "display_data"
    }
   ],
   "source": [
    "fig, axis = plt.subplots(7, 2, figsize=(17, 25))\n",
    "\n",
    "n = 0\n",
    "for i in range(7):\n",
    "    for j in range(2):\n",
    "        if n < len(categorical.columns):\n",
    "            categorical[categorical.columns[n]].value_counts().plot.pie(ax=axis[i, j], autopct='%1.1f%%', startangle=90)\n",
    "            axis[i, j].set_ylabel('')\n",
    "            axis[i, j].legend(title=categorical.columns[n], loc='upper left', bbox_to_anchor=(0.8, 1.3))\n",
    "            n += 1\n",
    "\n",
    "plt.tight_layout()\n",
    "plt.show()"
   ]
  },
  {
   "cell_type": "markdown",
   "id": "d7273a73-36f2-4ea9-a031-ca080d059fd9",
   "metadata": {},
   "source": [
    "#### Вывод"
   ]
  },
  {
   "cell_type": "markdown",
   "id": "450c4f61-e55b-4137-b901-410eccd8b90e",
   "metadata": {
    "tags": []
   },
   "source": [
    "1. 55% клиентов предпочитают оплачивать услуги помесячно, поэтому будут чувствительны к изменениям цены среди года. Они в группе риска по уходу.\n",
    "2. Клиентов, которые платят сразу за год (21%) или за два (24%), практически поровну. Риск их ухода в течении срока оплаченных услуг мал.\n",
    "3. Почти 60% клиентов предпочитают безналичный расчет и среди способов оплаты преобладают электронные и дистанционные варианты оплаты.\n",
    "4. Клиентов мужчин и женщин практически поровну, поэтому пол, вероятно, не будет относить клиента в группу риска по уходу. Тоже самое можно сказать и о наличии или отсутвии у клиента партнера.\n",
    "5. У 70% клиентов отсутствуют иждивенцы, а значит они более платежеспособны.\n",
    "6. Более 20% клиентов не используют дополнительные услуги оператора связанные с интернетом: антивирус, блокировку небезопасных сайтов, линию технической поддержки и другие.\n",
    "7. Наличие возможности ведения параллельных линий во время звонка интересно только 42% клиентов."
   ]
  },
  {
   "cell_type": "markdown",
   "id": "40f3ff77-251a-45b0-b759-8f83fd013947",
   "metadata": {
    "tags": []
   },
   "source": [
    "## 4. Подготовка данных и обучение моделей"
   ]
  },
  {
   "cell_type": "markdown",
   "id": "05d305e6-56b9-4a0c-88db-93d3087a3887",
   "metadata": {},
   "source": [
    "* LogisticRegression\n",
    "* DecisionTreeClassifier\n",
    "* RandomForestClassifier\n",
    "* CatBoostClassifier "
   ]
  },
  {
   "cell_type": "markdown",
   "id": "4d7058a5-731b-4bfd-97b6-1b3ad45753b4",
   "metadata": {
    "tags": []
   },
   "source": [
    "### 4.1 Разделим выборки и извлечем признаки\n",
    "* **train** - обучающая выборка (**75%** исходных данных)\n",
    "* **test** - тестовая выборка (**25%** исходных данных)"
   ]
  },
  {
   "cell_type": "code",
   "execution_count": 50,
   "id": "0817f039-5e5b-4851-949d-58f2f9d5a1e8",
   "metadata": {},
   "outputs": [
    {
     "name": "stdout",
     "output_type": "stream",
     "text": [
      "<class 'pandas.core.frame.DataFrame'>\n",
      "Int64Index: 7043 entries, 0 to 7042\n",
      "Data columns (total 18 columns):\n",
      " #   Column             Non-Null Count  Dtype  \n",
      "---  ------             --------------  -----  \n",
      " 0   type               7043 non-null   object \n",
      " 1   paperless_billing  7043 non-null   object \n",
      " 2   payment_method     7043 non-null   object \n",
      " 3   monthly_charges    7043 non-null   float64\n",
      " 4   gender             7043 non-null   object \n",
      " 5   senior_citizen     7043 non-null   int64  \n",
      " 6   partner            7043 non-null   object \n",
      " 7   dependents         7043 non-null   object \n",
      " 8   internet_service   7043 non-null   object \n",
      " 9   online_security    7043 non-null   object \n",
      " 10  online_backup      7043 non-null   object \n",
      " 11  device_protection  7043 non-null   object \n",
      " 12  tech_support       7043 non-null   object \n",
      " 13  streaming_tv       7043 non-null   object \n",
      " 14  streaming_movies   7043 non-null   object \n",
      " 15  multiple_lines     7043 non-null   object \n",
      " 16  exited             7043 non-null   int32  \n",
      " 17  lifetime_value     7043 non-null   int64  \n",
      "dtypes: float64(1), int32(1), int64(2), object(14)\n",
      "memory usage: 1017.9+ KB\n"
     ]
    }
   ],
   "source": [
    "# удалим ранее созданные столбцы\n",
    "df = df.drop(['categories_monthly_charges', 'categories_monthly_charges_range', 'categories_total_charges', 'categories_total_charges_range'], axis=1) \n",
    "df.info()"
   ]
  },
  {
   "cell_type": "code",
   "execution_count": 51,
   "id": "ef9e5486-b98e-4469-a402-6283ccdb11bc",
   "metadata": {},
   "outputs": [],
   "source": [
    "features = df.drop(['exited'], axis=1)                           # признаки\n",
    "target = df['exited']                                            # целевой признак\n",
    "\n",
    "# разделим на тренировочную - 75% и тестовую - 25% выборки\n",
    "X_train, X_test, y_train, y_test = train_test_split(\n",
    "    features, target, test_size=0.25, random_state=RANDOM_STATE, stratify=target\n",
    ")"
   ]
  },
  {
   "cell_type": "code",
   "execution_count": 52,
   "id": "519c2f60-89c3-4966-86b0-52d19a40d3c7",
   "metadata": {},
   "outputs": [
    {
     "name": "stdout",
     "output_type": "stream",
     "text": [
      "\u001b[1mОбучающая выборка\u001b[0m\n",
      "Признаки:(5282, 17)\n",
      "Целевой признак:(5282,)\n",
      "==============================\n",
      "\u001b[1mТестовая выборка\u001b[0m\n",
      "Признаки:(1761, 17)\n",
      "Целевой признак:(1761,)\n"
     ]
    }
   ],
   "source": [
    "print('\\033[1m'+ 'Обучающая выборка'+'\\033[0m')\n",
    "print ('Признаки:',X_train.shape, '\\n', 'Целевой признак:', y_train.shape, sep='')\n",
    "print('='*30)\n",
    "print('\\033[1m'+ 'Тестовая выборка'+'\\033[0m')\n",
    "print ('Признаки:',X_test.shape, '\\n', 'Целевой признак:', y_test.shape, sep='')"
   ]
  },
  {
   "cell_type": "code",
   "execution_count": 53,
   "id": "a6029c45-cbdb-41f9-8110-d6ab234bae14",
   "metadata": {},
   "outputs": [],
   "source": [
    "# распределение целевого признака в обучающей выборке\n",
    "# class_frequency_train = y_train.value_counts(normalize= True).to_frame()\n",
    "# class_frequency_train"
   ]
  },
  {
   "cell_type": "code",
   "execution_count": 54,
   "id": "b9b65dfc-d574-414d-bd52-e220cf5f7151",
   "metadata": {},
   "outputs": [],
   "source": [
    "# распределение целевого признака в тестовой выборке\n",
    "# class_frequency_test = y_test.value_counts(normalize= True).to_frame()\n",
    "# class_frequency_test"
   ]
  },
  {
   "cell_type": "markdown",
   "id": "c696235f-cb39-418a-8b35-eb2589e9e277",
   "metadata": {},
   "source": [
    "### 4.2 Извлечем категориальные и числовые признаки"
   ]
  },
  {
   "cell_type": "code",
   "execution_count": 55,
   "id": "f8432be9-a14f-404e-8437-000ce90045a3",
   "metadata": {},
   "outputs": [
    {
     "data": {
      "text/plain": [
       "Index(['type', 'paperless_billing', 'payment_method', 'gender', 'partner',\n",
       "       'dependents', 'internet_service', 'online_security', 'online_backup',\n",
       "       'device_protection', 'tech_support', 'streaming_tv', 'streaming_movies',\n",
       "       'multiple_lines'],\n",
       "      dtype='object')"
      ]
     },
     "execution_count": 55,
     "metadata": {},
     "output_type": "execute_result"
    }
   ],
   "source": [
    "# категориальные признаки \n",
    "cat_features = X_train.select_dtypes(include='object').columns\n",
    "cat_features"
   ]
  },
  {
   "cell_type": "code",
   "execution_count": 56,
   "id": "f30da028-0ae3-4ba9-a240-18586d08e69b",
   "metadata": {},
   "outputs": [
    {
     "data": {
      "text/plain": [
       "Index(['monthly_charges', 'senior_citizen', 'lifetime_value'], dtype='object')"
      ]
     },
     "execution_count": 56,
     "metadata": {},
     "output_type": "execute_result"
    }
   ],
   "source": [
    "# численные признаки\n",
    "num_features = X_train.select_dtypes(exclude='object').columns\n",
    "num_features"
   ]
  },
  {
   "cell_type": "markdown",
   "id": "5fa03965-c517-4bea-aa7a-b1afad3138e2",
   "metadata": {},
   "source": [
    "### 4.3 Модель \"Logistic Regression\""
   ]
  },
  {
   "cell_type": "code",
   "execution_count": 57,
   "id": "7b5c8490-9e11-48ff-8093-932cfeef5de9",
   "metadata": {},
   "outputs": [],
   "source": [
    "# признаки для логистической регрессии\n",
    "X_train_lr = X_train.copy()\n",
    "X_test_lr = X_test.copy()"
   ]
  },
  {
   "cell_type": "code",
   "execution_count": 58,
   "id": "c479fc13-2d4b-42b4-8954-42217c0e52bd",
   "metadata": {},
   "outputs": [],
   "source": [
    "# закодируем категориальные признаки и масштабируем числовые \n",
    "transformer_lr = make_column_transformer((StandardScaler(), num_features), \n",
    "                                         (OneHotEncoder(drop='first', handle_unknown='ignore'), cat_features),\n",
    "                                         remainder='passthrough', verbose_feature_names_out=False\n",
    "                                        )"
   ]
  },
  {
   "cell_type": "code",
   "execution_count": 59,
   "id": "f08f7e6c-3a61-4e5a-a3a5-704deb5c3df5",
   "metadata": {},
   "outputs": [],
   "source": [
    "# создадим модель\n",
    "model_lr = make_pipeline(transformer_lr, LogisticRegression(random_state=RANDOM_STATE, class_weight='balanced'))"
   ]
  },
  {
   "cell_type": "code",
   "execution_count": 60,
   "id": "b2949d27-3ef5-4eec-9586-ef3133d19a18",
   "metadata": {},
   "outputs": [],
   "source": [
    "# определим параметры для перебора в GridSearchCV\n",
    "parametrs_lr = {\n",
    "    'logisticregression__penalty': ['l1', 'l2'],\n",
    "    'logisticregression__C': [0.001, 0.01, 0.1, 1, 10, 100, 1000],\n",
    "    'logisticregression__solver': ['liblinear', 'saga', 'lbfgs'],\n",
    "    'logisticregression__max_iter': [100, 200, 500]\n",
    "}"
   ]
  },
  {
   "cell_type": "code",
   "execution_count": 61,
   "id": "ed0525d4-400b-4f3f-b981-7c2cece617f1",
   "metadata": {},
   "outputs": [
    {
     "name": "stdout",
     "output_type": "stream",
     "text": [
      "\u001b[1mМодель \"Logistic Regression\"\u001b[0m\n",
      "\u001b[1mЛучший ROC-AUC:\u001b[0m 0.7492483143498292\n",
      "\u001b[1mAccuracy:\u001b[0m 0.6931086709579705\n",
      "========================================\n",
      "Лучшие параметры: {'logisticregression__C': 1, 'logisticregression__max_iter': 100, 'logisticregression__penalty': 'l2', 'logisticregression__solver': 'saga'}\n",
      "========================================\n",
      "CPU times: total: 39.5 s\n",
      "Wall time: 41.2 s\n"
     ]
    }
   ],
   "source": [
    "%%time\n",
    "# передаем модель, параметры и оценку в GridSearchCV\n",
    "lr = GridSearchCV(model_lr, param_grid=parametrs_lr, cv=5, scoring='roc_auc')\n",
    "\n",
    "# обучим на тренировочных данных\n",
    "lr.fit(X_train_lr, y_train)\n",
    "\n",
    "y_pred_train = lr.predict(X_train_lr)\n",
    "lr_accuracy = accuracy_score(y_train, y_pred_train)\n",
    "\n",
    "print('\\033[1m' + 'Модель \"Logistic Regression\"' + '\\033[0m')\n",
    "print('\\033[1m' + 'Лучший ROC-AUC:' + '\\033[0m', lr.best_score_)\n",
    "print('\\033[1m' + 'Accuracy:' + '\\033[0m', lr_accuracy)\n",
    "print('=' * 40)\n",
    "print(\"Лучшие параметры:\", lr.best_params_)\n",
    "print('=' * 40)"
   ]
  },
  {
   "cell_type": "markdown",
   "id": "36328f2a-6edc-427e-8d0b-0c9738436798",
   "metadata": {},
   "source": [
    "**Строим ROC-кривую для модели \"Logistic Regression\"**"
   ]
  },
  {
   "cell_type": "code",
   "execution_count": 62,
   "id": "9dc552d9-29d1-4a53-84ee-ded26cae1e40",
   "metadata": {},
   "outputs": [
    {
     "data": {
      "image/png": "[encoded data removed]",
      "text/plain": [
       "<Figure size 576x432 with 1 Axes>"
      ]
     },
     "metadata": {
      "needs_background": "light"
     },
     "output_type": "display_data"
    },
    {
     "name": "stdout",
     "output_type": "stream",
     "text": [
      "CPU times: total: 2min 47s\n",
      "Wall time: 2min 55s\n"
     ]
    }
   ],
   "source": [
    "%%time\n",
    "y_scores = cross_val_predict(lr, X_train_lr, y_train, cv=5, method='predict_proba')\n",
    "fpr, tpr, thresholds = roc_curve(y_train, y_scores[:, 1])\n",
    "roc_auc = auc(fpr, tpr)\n",
    "\n",
    "# строим ROC-кривую\n",
    "plt.figure(figsize=(8, 6))\n",
    "plt.plot(fpr, tpr, color='darkorange', lw=2, label='ROC curve (area = %0.2f)' % roc_auc)\n",
    "plt.plot([0, 1], [0, 1], color='navy', lw=2, linestyle='--')\n",
    "plt.xlim([0.0, 1.0])\n",
    "plt.ylim([0.0, 1.05])\n",
    "plt.xlabel('False Positive Rate')\n",
    "plt.ylabel('True Positive Rate')\n",
    "plt.title('ROC-кривая Logistic Regression')\n",
    "plt.legend(loc=\"lower right\")\n",
    "plt.show()"
   ]
  },
  {
   "cell_type": "markdown",
   "id": "cdbd11b5-32d4-4bee-ae8c-4bc6ea59ee43",
   "metadata": {},
   "source": [
    "### 4.4 Модель \"DecisionTreeClassifier\""
   ]
  },
  {
   "cell_type": "code",
   "execution_count": 63,
   "id": "5b1b9fbe-7290-40f1-b148-aa0988ce4c12",
   "metadata": {},
   "outputs": [],
   "source": [
    "# признаки для логистической регрессии\n",
    "X_train_dt = X_train.copy()\n",
    "X_test_dt = X_test.copy()"
   ]
  },
  {
   "cell_type": "code",
   "execution_count": 64,
   "id": "6d63a8f0-5d2c-4397-abbe-7e1331726d42",
   "metadata": {},
   "outputs": [],
   "source": [
    "# закодируем категориальные признаки и масштабируем числовые \n",
    "#transformer_dt = make_column_transformer((StandardScaler(), num_features), \n",
    "                                         #(OneHotEncoder(drop='first', handle_unknown='ignore'), cat_features),\n",
    "                                         #remainder='passthrough', verbose_feature_names_out=False\n",
    "                                        #)"
   ]
  },
  {
   "cell_type": "code",
   "execution_count": 65,
   "id": "941ecfcb-b015-4553-ba4c-594572e8f312",
   "metadata": {},
   "outputs": [],
   "source": [
    "# закодируем категориальные признаки и масштабируем числовые \n",
    "transformer_dt = make_column_transformer((StandardScaler(), num_features), \n",
    "                                         (OrdinalEncoder (handle_unknown='use_encoded_value', unknown_value=-1), cat_features),\n",
    "                                         remainder = 'passthrough', verbose_feature_names_out=False)"
   ]
  },
  {
   "cell_type": "code",
   "execution_count": 66,
   "id": "11f3d824-4ee0-46f3-8174-af58071ca321",
   "metadata": {},
   "outputs": [],
   "source": [
    "# создадим модель\n",
    "model_dt = make_pipeline(transformer_dt, DecisionTreeClassifier(random_state=RANDOM_STATE, class_weight='balanced'))"
   ]
  },
  {
   "cell_type": "code",
   "execution_count": 67,
   "id": "08f9b7e2-6fb6-4099-9a12-41102ad4d6b1",
   "metadata": {},
   "outputs": [],
   "source": [
    "# определяем параметры для перебора в GridSearchCV\n",
    "parametrs_dt = {\n",
    "    'decisiontreeclassifier__criterion': ['gini', 'entropy'],\n",
    "    'decisiontreeclassifier__max_depth': [None, 5, 10],\n",
    "    'decisiontreeclassifier__min_samples_split': [2, 5, 10],\n",
    "    'decisiontreeclassifier__min_samples_leaf': [1, 2, 5],\n",
    "    'decisiontreeclassifier__max_features': ['auto', 'sqrt']\n",
    "}"
   ]
  },
  {
   "cell_type": "code",
   "execution_count": 68,
   "id": "c93b1bbe",
   "metadata": {},
   "outputs": [
    {
     "name": "stdout",
     "output_type": "stream",
     "text": [
      "\u001b[1mМодель \"DecisionTreeClassifier\"\u001b[0m\n",
      "\u001b[1mЛучший ROC-AUC:\u001b[0m 0.7632312101992509\n",
      "\u001b[1mAccuracy:\u001b[0m 0.68099204846649\n",
      "========================================\n",
      "Лучшие параметры: {'decisiontreeclassifier__criterion': 'entropy', 'decisiontreeclassifier__max_depth': 5, 'decisiontreeclassifier__max_features': 'auto', 'decisiontreeclassifier__min_samples_leaf': 1, 'decisiontreeclassifier__min_samples_split': 2}\n",
      "========================================\n",
      "CPU times: total: 18.7 s\n",
      "Wall time: 18.9 s\n"
     ]
    }
   ],
   "source": [
    "%%time\n",
    "# передаем модель, параметры и оценку в GridSearchCV\n",
    "dt = GridSearchCV(model_dt, param_grid=parametrs_dt, cv=5, scoring='roc_auc')\n",
    "\n",
    "# обучим на тренировочных данных\n",
    "dt.fit(X_train_dt, y_train)\n",
    "\n",
    "y_pred_train_dt = dt.predict(X_train_dt)\n",
    "dt_accuracy = accuracy_score(y_train, y_pred_train_dt)\n",
    "\n",
    "print('\\033[1m' + 'Модель \"DecisionTreeClassifier\"' + '\\033[0m')\n",
    "print('\\033[1m' + 'Лучший ROC-AUC:' + '\\033[0m', dt.best_score_)\n",
    "print('\\033[1m' + 'Accuracy:' + '\\033[0m', dt_accuracy)\n",
    "print('=' * 40)\n",
    "print(\"Лучшие параметры:\", dt.best_params_)\n",
    "print('=' * 40)"
   ]
  },
  {
   "cell_type": "markdown",
   "id": "33faae47-e4f4-4f72-a9a3-8a8b486bf6a4",
   "metadata": {},
   "source": [
    "### 4.5 Модель \"RandomForestClassifier\""
   ]
  },
  {
   "cell_type": "code",
   "execution_count": 69,
   "id": "ba7ba996-95a7-4f79-88f1-e4930c03b097",
   "metadata": {},
   "outputs": [],
   "source": [
    "# признаки для Регрессии случайного леса \n",
    "X_train_rf = X_train.copy()\n",
    "X_test_rf = X_test.copy()"
   ]
  },
  {
   "cell_type": "code",
   "execution_count": 70,
   "id": "2a28d02c-4f99-4353-8408-ed9b2fec5608",
   "metadata": {},
   "outputs": [],
   "source": [
    "# закодируем категориальные признаки и масштабируем числовые\n",
    "transformer_rf = make_column_transformer((StandardScaler(), num_features),\n",
    "                                         (OrdinalEncoder (handle_unknown='use_encoded_value', unknown_value=-1), cat_features),\n",
    "                                         remainder = 'passthrough', verbose_feature_names_out=False)"
   ]
  },
  {
   "cell_type": "code",
   "execution_count": 71,
   "id": "7f504b0f-6f10-4510-be47-3e109ea7f1a8",
   "metadata": {},
   "outputs": [],
   "source": [
    "# создадим модель\n",
    "model_rf = make_pipeline(transformer_rf, RandomForestClassifier(random_state=RANDOM_STATE, class_weight='balanced'))"
   ]
  },
  {
   "cell_type": "code",
   "execution_count": 72,
   "id": "fee8b84a-840d-4997-ab2d-640b9018fa4b",
   "metadata": {},
   "outputs": [],
   "source": [
    "# определяем параметры для RandomizedSearchCV\n",
    "parametrs_rf = {\n",
    "    'randomforestclassifier__n_estimators': range(50, 351, 50),\n",
    "    'randomforestclassifier__max_depth': range(2, 50,2),\n",
    "    'randomforestclassifier__min_samples_split': (2, 3, 4),\n",
    "    'randomforestclassifier__min_samples_leaf': (1, 2, 3, 4, 5, 6)\n",
    "               }"
   ]
  },
  {
   "cell_type": "code",
   "execution_count": 73,
   "id": "c2d8f8fa-f39f-4fad-a6c5-1912add687c3",
   "metadata": {},
   "outputs": [
    {
     "name": "stdout",
     "output_type": "stream",
     "text": [
      "\u001b[1mМодель \"RandomForestClassifier\"\u001b[0m\n",
      "\u001b[1mЛучший ROC-AUC:\u001b[0m 0.8213103574815049\n",
      "\u001b[1mAccuracy:\u001b[0m 0.9093146535403256\n",
      "========================================\n",
      "Лучшие параметры: {'randomforestclassifier__n_estimators': 200, 'randomforestclassifier__min_samples_split': 4, 'randomforestclassifier__min_samples_leaf': 5, 'randomforestclassifier__max_depth': 46}\n",
      "========================================\n",
      "CPU times: total: 1.34 s\n",
      "Wall time: 7.28 s\n"
     ]
    }
   ],
   "source": [
    "%%time\n",
    "# обучим модель и найдем лучшие параметры\n",
    "rf = RandomizedSearchCV(\n",
    "    model_rf, \n",
    "    param_distributions=parametrs_rf, \n",
    "    scoring='roc_auc', \n",
    "    n_jobs=-1,\n",
    "    random_state=RANDOM_STATE\n",
    ")\n",
    "\n",
    "rf.fit(X_train_rf, y_train)\n",
    "\n",
    "y_pred_train_rf = rf.predict(X_train_rf)\n",
    "rf_accuracy = accuracy_score(y_train, y_pred_train_rf)\n",
    "\n",
    "print('\\033[1m' + 'Модель \"RandomForestClassifier\"' + '\\033[0m')\n",
    "print('\\033[1m' + 'Лучший ROC-AUC:' + '\\033[0m', rf.best_score_)\n",
    "print('\\033[1m' + 'Accuracy:' + '\\033[0m', rf_accuracy)\n",
    "print('=' * 40)\n",
    "print(\"Лучшие параметры:\", rf.best_params_)\n",
    "print('=' * 40)"
   ]
  },
  {
   "cell_type": "markdown",
   "id": "e202ec2d-84a1-4e94-b713-ebaa22046728",
   "metadata": {},
   "source": [
    "### 4.6 Модель \"CatBoostClassifier\""
   ]
  },
  {
   "cell_type": "code",
   "execution_count": 74,
   "id": "3203c016-7269-49cc-bf93-68e39d08067c",
   "metadata": {},
   "outputs": [],
   "source": [
    "# признаки для Регрессии КэтБуст\n",
    "X_train_cb = X_train.copy()\n",
    "X_test_cb = X_test.copy()"
   ]
  },
  {
   "cell_type": "code",
   "execution_count": 75,
   "id": "b1300a2b-ee13-44ae-aeb9-0f764b83da21",
   "metadata": {},
   "outputs": [],
   "source": [
    "# создадим модель и передадим ей категориальные признаки\n",
    "model_cb = CatBoostClassifier(random_state=RANDOM_STATE, \n",
    "                              verbose=False,\n",
    "                              class_weights=[0.156325, 0.843675],\n",
    "                              cat_features=['type', 'paperless_billing', 'payment_method', 'gender', 'partner',\n",
    "       'dependents', 'internet_service', 'online_security', 'online_backup',\n",
    "       'device_protection', 'tech_support', 'streaming_tv', 'streaming_movies',\n",
    "       'multiple_lines']) "
   ]
  },
  {
   "cell_type": "code",
   "execution_count": 76,
   "id": "37bd077b-04f7-4d60-a04b-eb8d71e4e4f0",
   "metadata": {
    "tags": []
   },
   "outputs": [],
   "source": [
    "# параметры для подбора\n",
    "parameters_cb = [{'learning_rate':[0.1, 0.3, 0.5, 0.8],\n",
    "               'depth':[4,6,8,10],\n",
    "               'iterations':[30, 50, 100, 300],\n",
    "               'verbose':[False]}]"
   ]
  },
  {
   "cell_type": "code",
   "execution_count": 77,
   "id": "2af45658-e66b-447a-9798-7aef43961132",
   "metadata": {
    "scrolled": true,
    "tags": []
   },
   "outputs": [
    {
     "name": "stdout",
     "output_type": "stream",
     "text": [
      "\u001b[1mМодель \"CatBoostClassifier\"\u001b[0m\n",
      "\u001b[1mЛучший ROC-AUC:\u001b[0m 0.8775033580970348\n",
      "\u001b[1mAccuracy:\u001b[0m 0.9093146535403256\n",
      "========================================\n",
      "Лучшие параметры: {'depth': 4, 'iterations': 300, 'learning_rate': 0.3, 'verbose': False}\n",
      "========================================\n",
      "CPU times: total: 17.5 s\n",
      "Wall time: 2min 43s\n"
     ]
    }
   ],
   "source": [
    "%%time\n",
    "# подберем лучшие параметры для модели CatBoostRegressor\n",
    "cb = GridSearchCV(\n",
    "    estimator=model_cb,\n",
    "    param_grid = parameters_cb,\n",
    "    cv = 2,\n",
    "    scoring='roc_auc',\n",
    "    n_jobs=-1\n",
    ")\n",
    "\n",
    "cb.fit(X_train_cb, y_train)\n",
    "\n",
    "y_pred_train_cb = rf.predict(X_train_cb)\n",
    "cb_accuracy = accuracy_score(y_train, y_pred_train_cb)\n",
    "\n",
    "print('\\033[1m' + 'Модель \"CatBoostClassifier\"' + '\\033[0m')\n",
    "print('\\033[1m' + 'Лучший ROC-AUC:' + '\\033[0m', cb.best_score_)\n",
    "print('\\033[1m' + 'Accuracy:' + '\\033[0m', cb_accuracy)\n",
    "print('=' * 40)\n",
    "print(\"Лучшие параметры:\", cb.best_params_)\n",
    "print('=' * 40)"
   ]
  },
  {
   "cell_type": "markdown",
   "id": "a1662f23-c85e-4c42-bb5c-3f1a6b38fd3b",
   "metadata": {
    "tags": []
   },
   "source": [
    "### 4.7 Сравним ROC-AUC моделей на обучающей выборке"
   ]
  },
  {
   "cell_type": "code",
   "execution_count": 78,
   "id": "3fb9e933-6be6-42c0-8354-2ab8a08cab48",
   "metadata": {
    "scrolled": true,
    "tags": []
   },
   "outputs": [
    {
     "data": {
      "text/html": [
       "<div>\n",
       "<style scoped>\n",
       "    .dataframe tbody tr th:only-of-type {\n",
       "        vertical-align: middle;\n",
       "    }\n",
       "\n",
       "    .dataframe tbody tr th {\n",
       "        vertical-align: top;\n",
       "    }\n",
       "\n",
       "    .dataframe thead th {\n",
       "        text-align: right;\n",
       "    }\n",
       "</style>\n",
       "<table border=\"1\" class=\"dataframe\">\n",
       "  <thead>\n",
       "    <tr style=\"text-align: right;\">\n",
       "      <th></th>\n",
       "      <th>ROC-AUC на обучающей выборке</th>\n",
       "      <th>Accuracy на обучающей выборке</th>\n",
       "    </tr>\n",
       "  </thead>\n",
       "  <tbody>\n",
       "    <tr>\n",
       "      <th>LogisticRegression</th>\n",
       "      <td>0.749248</td>\n",
       "      <td>0.693109</td>\n",
       "    </tr>\n",
       "    <tr>\n",
       "      <th>DecisionTreeClassifier</th>\n",
       "      <td>0.763231</td>\n",
       "      <td>0.680992</td>\n",
       "    </tr>\n",
       "    <tr>\n",
       "      <th>RandomForestClassifier</th>\n",
       "      <td>0.821310</td>\n",
       "      <td>0.909315</td>\n",
       "    </tr>\n",
       "    <tr>\n",
       "      <th>CatBoostClassifier</th>\n",
       "      <td>0.877503</td>\n",
       "      <td>0.909315</td>\n",
       "    </tr>\n",
       "  </tbody>\n",
       "</table>\n",
       "</div>"
      ],
      "text/plain": [
       "                        ROC-AUC на обучающей выборке  \\\n",
       "LogisticRegression                          0.749248   \n",
       "DecisionTreeClassifier                      0.763231   \n",
       "RandomForestClassifier                      0.821310   \n",
       "CatBoostClassifier                          0.877503   \n",
       "\n",
       "                        Accuracy на обучающей выборке  \n",
       "LogisticRegression                           0.693109  \n",
       "DecisionTreeClassifier                       0.680992  \n",
       "RandomForestClassifier                       0.909315  \n",
       "CatBoostClassifier                           0.909315  "
      ]
     },
     "execution_count": 78,
     "metadata": {},
     "output_type": "execute_result"
    }
   ],
   "source": [
    "# таблица ROC-AUC моделей на обучающей выборке\n",
    "index_result =['LogisticRegression', 'DecisionTreeClassifier', 'RandomForestClassifier', 'CatBoostClassifier']\n",
    "data_result = {'ROC-AUC на обучающей выборке':[lr.best_score_, dt.best_score_, rf.best_score_, cb.best_score_],\n",
    "              'Accuracy на обучающей выборке':[lr_accuracy, dt_accuracy, rf_accuracy, cb_accuracy]}\n",
    "\n",
    "result = pd.DataFrame(data=data_result, index=index_result)\n",
    "result"
   ]
  },
  {
   "cell_type": "markdown",
   "id": "6acce26e-7b90-4f2c-a086-28136b547f72",
   "metadata": {},
   "source": [
    "### 4.8 Лучшая модель CatBoostClassifier"
   ]
  },
  {
   "cell_type": "markdown",
   "id": "1c86480a-44fe-4297-b24f-efc4d20877de",
   "metadata": {},
   "source": [
    "**1. Cоздадим и обучим модель с лучшими параметрами, передадим ей категориальные признаки**"
   ]
  },
  {
   "cell_type": "code",
   "execution_count": 79,
   "id": "d4fccb88-6369-4ef6-bddf-087d2c5fc007",
   "metadata": {},
   "outputs": [
    {
     "name": "stdout",
     "output_type": "stream",
     "text": [
      "CPU times: total: 18.1 s\n",
      "Wall time: 7.57 s\n"
     ]
    },
    {
     "data": {
      "text/plain": [
       "<catboost.core.CatBoostClassifier at 0x2063e04e520>"
      ]
     },
     "execution_count": 79,
     "metadata": {},
     "output_type": "execute_result"
    }
   ],
   "source": [
    "%%time\n",
    "best_model_cb = CatBoostClassifier(random_state=RANDOM_STATE,\n",
    "                                   depth=4,\n",
    "                                   iterations=300,\n",
    "                                   learning_rate=0.3,\n",
    "                                   verbose=False,\n",
    "                                   class_weights=[0.156325, 0.843675],\n",
    "                                   cat_features=['type', 'paperless_billing', 'payment_method', 'gender', 'partner',\n",
    "       'dependents', 'internet_service', 'online_security', 'online_backup',\n",
    "       'device_protection', 'tech_support', 'streaming_tv', 'streaming_movies',\n",
    "       'multiple_lines'])\n",
    "best_model_cb.fit(X_train_cb, y_train)"
   ]
  },
  {
   "cell_type": "markdown",
   "id": "1b934455-cc90-43c9-a8ff-55f1dc663be8",
   "metadata": {},
   "source": [
    "**2. Получим предсказания  лучшей модели CatBoostClassifier на тестовой выборке**"
   ]
  },
  {
   "cell_type": "code",
   "execution_count": 80,
   "id": "3ebeb2c6-b385-4775-9ee7-fcaa0796254d",
   "metadata": {},
   "outputs": [
    {
     "name": "stdout",
     "output_type": "stream",
     "text": [
      "CPU times: total: 46.9 ms\n",
      "Wall time: 16.8 ms\n"
     ]
    }
   ],
   "source": [
    "%%time\n",
    "predict_test_cb = best_model_cb.predict(X_test_cb)"
   ]
  },
  {
   "cell_type": "markdown",
   "id": "028574b3-7392-4203-ab04-4323203337bd",
   "metadata": {},
   "source": [
    "**3. Найдем значения AUC-ROC и Accuracy**"
   ]
  },
  {
   "cell_type": "code",
   "execution_count": 81,
   "id": "8df8ab67-1dde-42a3-a2d3-962c6ddc8f29",
   "metadata": {},
   "outputs": [
    {
     "name": "stdout",
     "output_type": "stream",
     "text": [
      "\u001b[1mAUC-ROC модели CatBoostClassifier: \u001b[0m 0.9225058118194054\n",
      "\u001b[1mAccuracy:\u001b[0m 0.8796138557637706\n"
     ]
    }
   ],
   "source": [
    "# найдем значения вероятностей классов для тестовой\n",
    "probabilities_valid = best_model_cb.predict_proba(X_test_cb)\n",
    "\n",
    "# выберем вероятности положительного класса (\"1\")\n",
    "probabilities_one_valid = probabilities_valid[:, 1]\n",
    "\n",
    "# посчитаем значение AUC-ROC на тестовой выборке и выведем его\n",
    "auc_roc = roc_auc_score(y_test, probabilities_one_valid)\n",
    "print('\\033[1m'+ 'AUC-ROC модели CatBoostClassifier: '+ '\\033[0m', auc_roc)\n",
    "\n",
    "# посчитаем значение Accuracy\n",
    "y_pred_cb = best_model_cb.predict(X_test_cb)\n",
    "best_model_cb_accuracy = accuracy_score(y_test, y_pred_cb)\n",
    "print('\\033[1m' + 'Accuracy:' + '\\033[0m', best_model_cb_accuracy)"
   ]
  },
  {
   "cell_type": "markdown",
   "id": "62afffd2-0ba4-428c-8afe-81ede9f9c9c7",
   "metadata": {},
   "source": [
    "**4. Построим AUC-ROC - кривую для лучшей модели**"
   ]
  },
  {
   "cell_type": "code",
   "execution_count": 82,
   "id": "0d416f82-4202-47a1-a86a-244d50745232",
   "metadata": {},
   "outputs": [
    {
     "data": {
      "image/png": "[encoded data removed]",
      "text/plain": [
       "<Figure size 576x432 with 1 Axes>"
      ]
     },
     "metadata": {
      "needs_background": "light"
     },
     "output_type": "display_data"
    }
   ],
   "source": [
    "# предсказанных вероятностей класса 1\n",
    "y_pred_proba = best_model_cb.predict_proba(X_test_cb)[:, 1]\n",
    "\n",
    "# передаем на вход значения целевого признака и вероятности положительного класса\n",
    "fpr, tpr, thresholds = roc_curve(y_test, y_pred_proba)\n",
    "\n",
    "# вычисление значения AUC\n",
    "roc_auc = auc(fpr, tpr)\n",
    "\n",
    "# строим ROC-кривую\n",
    "plt.figure(figsize=(8, 6))\n",
    "plt.plot(fpr, tpr, color='darkorange', lw=2, label='ROC curve (area = %0.2f)' % roc_auc)\n",
    "plt.plot([0, 1], [0, 1], color='navy', lw=2, linestyle='--')\n",
    "plt.xlim([0.0, 1.0])\n",
    "plt.ylim([0.0, 1.05])\n",
    "plt.xlabel('False Positive Rate')\n",
    "plt.ylabel('True Positive Rate')\n",
    "plt.title('ROC-кривая CatBoostClassifier')\n",
    "plt.legend(loc=\"lower right\")\n",
    "plt.show()"
   ]
  },
  {
   "cell_type": "markdown",
   "id": "afa33f75-0fb5-4b58-8d1a-9b83d2d88469",
   "metadata": {},
   "source": [
    "**5. Оценим важность признаков для лучшей модели CatBoostClassifier**"
   ]
  },
  {
   "cell_type": "code",
   "execution_count": 83,
   "id": "c6e365ce-a947-484c-b3cc-1bc20399f946",
   "metadata": {},
   "outputs": [
    {
     "data": {
      "image/png": "[encoded data removed]",
      "text/plain": [
       "<Figure size 1008x504 with 1 Axes>"
      ]
     },
     "metadata": {
      "needs_background": "light"
     },
     "output_type": "display_data"
    }
   ],
   "source": [
    "# получим признаки\n",
    "importance = best_model_cb.feature_importances_\n",
    "feature_names = X_train_cb.columns\n",
    "\n",
    "# сортируем\n",
    "sorting = np.argsort(importance)[0::]\n",
    "sorting_importance = importance[sorting]\n",
    "sorting_feature_names = feature_names[sorting]\n",
    "\n",
    "# визуализируем\n",
    "plt.figure(figsize=(14, 7))\n",
    "plt.barh(range(len(importance)), sorting_importance)\n",
    "plt.yticks(range(len(importance)), sorting_feature_names)\n",
    "plt.xlabel('Значимость')\n",
    "plt.ylabel('Признаки')\n",
    "plt.title('Значимость признаков')\n",
    "plt.show()"
   ]
  },
  {
   "cell_type": "markdown",
   "id": "e3ecf123-5a5f-4cfe-a6e3-67ad76f87538",
   "metadata": {
    "tags": []
   },
   "source": [
    "## 5. Вывод"
   ]
  },
  {
   "cell_type": "markdown",
   "id": "12838588-a787-4ed1-bfa2-b7f58191160b",
   "metadata": {},
   "source": [
    "Задача проекта построить модель, которая на основе предоставленных данных сделает прогноз: уйдёт клиент от оператора в ближайшее время или нет.\n",
    "\n",
    "Основной метрикой по которому оценивается качество предсказания является ROC-AUC с целевым показетелем >= 0.85."
   ]
  },
  {
   "cell_type": "markdown",
   "id": "a1b79a7d-3f4c-4fce-a083-29c53a007c5b",
   "metadata": {},
   "source": [
    "Заказчиком были предоставленны данные о клиентах содержащиеся в 4-х таблицах.\n",
    "\n",
    "На этапе подготовки и исследования данных было:\n",
    "* произведено объединение таблиц по ключу \n",
    "* удаленные не нужные признаки\n",
    "* заполненые пропуски\n",
    "* создан новый признак\n",
    "* выделен целевой признак\n",
    "* данные приведены в соответсвующие форматы"
   ]
  },
  {
   "cell_type": "markdown",
   "id": "689e3432-9415-4fa3-90d5-f475c3c7edaf",
   "metadata": {},
   "source": [
    "Для поиска лучше модели были исследованы:\n",
    "- LogisticRegression \n",
    "- DecisionTreeClassifier \n",
    "- RandomForestClassifier \n",
    "- CatBoostClassifier"
   ]
  },
  {
   "cell_type": "markdown",
   "id": "c4b4a112-4283-44d7-b9e5-a418f42016a8",
   "metadata": {},
   "source": [
    "На обучающей выборке лучший результат получен у модели CatBoostClassifier с параметрами: {'depth': 4, 'iterations': 300, 'learning_rate': 0.3, 'verbose': False}\n",
    "- ROC-AUC: 0.87\n",
    "- Accuracy: 0.90\n",
    "\n",
    "На этой модели CatBoostClassifier проведено финальное исследование на тестовой выборке:\n",
    "- ROC-AUC: 0.92\n",
    "- Accuracy: 0.87\n",
    "\n",
    "Достигнут уровень целового показателя ROC-AUC >= 0.85\n",
    "\n",
    "Три самых важных признаков для модели являются:\n",
    "* lifetime_value - срок взаимодействия клиента с оператором\n",
    "* monthly_charges - размер ежемесячного платежа\n",
    "* type - тип оплаты: ежемесячный, годовой и т.д.\n",
    "\n",
    "Для дальнейшей работы по выявлению клиентов потенциально готовых закрыть контракт рекомендовано использовать модель CatBoostClassifier."
   ]
  },
  {
   "cell_type": "markdown",
   "id": "69f8323c-213f-4518-9fb4-2afe0e738525",
   "metadata": {
    "tags": []
   },
   "source": [
    "<h1> III часть: ОТЧЕТ </h1>"
   ]
  },
  {
   "cell_type": "markdown",
   "id": "c2b5a0f9-782f-4d60-96a2-803bd963eabd",
   "metadata": {
    "tags": []
   },
   "source": [
    "## 1. Введение"
   ]
  },
  {
   "cell_type": "markdown",
   "id": "30cad878-41fc-4012-9b9e-f40174340731",
   "metadata": {},
   "source": [
    "Оператор связи «Ниединогоразрыва.ком» хочет научиться прогнозировать отток клиентов. Если выяснится, что пользователь планирует уйти, ему будут предложены промокоды и специальные условия. Команда оператора собрала персональные данные о некоторых клиентах, информацию об их тарифах и договорах. Была поставлена задача - построить модель, которая на основе предоставленных данных сделает прогноз: уйдёт клиент от оператора в ближайшее время или нет."
   ]
  },
  {
   "cell_type": "markdown",
   "id": "9604c0fd-ec86-4beb-86fb-f45c3cd95efd",
   "metadata": {},
   "source": [
    "## 2. Методология"
   ]
  },
  {
   "cell_type": "markdown",
   "id": "c112830c-7fad-4bee-8145-e821bef9134c",
   "metadata": {},
   "source": [
    "Этот проект предполагал решить задачу классификации и по условиям заказчика качество предсказания оценивалось метрикой `ROC-AUC`. Метрика `ROC-AUC` помогает нам сделать оценкуоценить, насколько хорошо модель способна различать классы. Чем выше значение `ROC-AUC`, тем лучше модель. Целевой показатель метрики `ROC-AUC` был установлен заказчиком **>= 0.85**.\n",
    "\n",
    "Перед выполнением проекта был составлен план работы, который сотоял из:\n",
    "1. Первичной оценки данных\n",
    "2. Предобработки данных\n",
    "3. Исследовательского анализа\n",
    "4. Подготовки учебных и тестовых датасетов\n",
    "5. Обучения моделей с подбором гиперпараметров и выбора лучшей модели классификации\n",
    "В ходе работы над проектом в целом удалось соблюсти план работ. \n",
    "\n",
    "Для обучения были выбраны 4 модели-классификатора:\n",
    "* `LogisticRegression`\n",
    "* `DecisionTreeClassifier`\n",
    "* `RandomForestClassifier`\n",
    "* `CatBoostClassifier`\n",
    "\n",
    "Данные были предоставлены в виде 4-х таблиц с различной информацией о поведении клиентов: дата подключения, суммы и способы оплат, использование дополнительных услуг, персональная информация и данные о продолжении сотрудничества или его окончании. Все таблицы содержали единый ID клиента. Для дальнейшей работы таблицы были соединины в один датасет по ключу - ID клиента, а данные были преведены к соответствующим форматам, обработаны пропуски.\n",
    "\n",
    "На этапе предобработки был создан целевой бинарный признак, подтвержающий факт ухода клиента. Кроме этого, создан дополнительный признак с данными о сроке взаимодействия клиента с компанией. Лишние признаки, которые не потребовались бы для дальнейшего обучения были удалены: ID клиента, дата подключения, дата ухода. \n",
    "\n",
    "В ходе исследовательского анализа были выявлены мультиколлениарные признаки, проведена оценка чиловых признаков на предмет аномальных значений и выбросов, рассмотрены и описаны категориальные признаки. Для исключения влияния мультиколлениарности на обучение моделей - признак был удален. В ходе анализа также выяснилось, что целевой признак не сбалансирован.\n",
    "\n",
    "Общий размер датасета после после всех проведенных манипуляций составил 7043 строки и 17 признаков, таким образом нам удалость сохранить данные всех клиентов. Поскольку датасет имеет не очень большой размер, то выделение валидацонной выборки было нецелесообразно и лучший вариант использовать кросс-валидацию. Был применен `GridSearchCV` - для всех моделей и `RandomizedSearchCV` - только для `RandomForestClassifier` для увеличения скорости подбора. "
   ]
  },
  {
   "cell_type": "markdown",
   "id": "b1b3e795-ebc4-4711-9036-8eb89e76e355",
   "metadata": {},
   "source": [
    "## 3. Признаки и подготовка"
   ]
  },
  {
   "cell_type": "markdown",
   "id": "3672411b-5f5c-4e0c-adc6-778e2c22c644",
   "metadata": {},
   "source": [
    "Список признаков, которые использовались для обучения для обучения моделей: \n",
    "- `type` - тип оплаты: ежемесячный, годовой и т.д.\n",
    "- `paperless_billing` - безналичный расчет\n",
    "- `payment_method` - способ оплаты\n",
    "- `gender` - пол\n",
    "- `partner` – наличие супруга(и)\n",
    "- `dependents`– наличие иждивенцев\n",
    "- `internet_service` - интернет-сервисы \n",
    "- `online_security` - блокировка небезопасных сайтов \n",
    "- `online_backup`- резервное копирование\n",
    "- `device_protection` - антивирус \n",
    "- `tech_support` - выделенная линия технической поддержки\n",
    "- `streaming_tv` - стриминговое телевидение\n",
    "- `streaming_movies` - каталог фильмов\n",
    "- `multiple_lines` – наличие возможности ведения параллельных линий во время звонка\n",
    "- `monthly_charges` – ежемесячные траты на услуги\n",
    "- `senior_citizen` – наличие пенсионного статуса по возрасту\n",
    "- `lifetime_value` - общий срок пользования услугами компании\n",
    "\n",
    "Целевой признак - `exited` показывал, ушел клиент - 1 или остался с оператором - 0. \n",
    "\n",
    "Перед обучением данные были разделены на обучающую выборку и тестовую в соотношении 75:25. При разделении и далее использовался параметр random_state = 50623.\n",
    "\n",
    "Затем категориальные данные прошли кодировку при помощи `OneHotEncoder` для модели ``LogisticRegression`, а для моделей `DecisionTreeClassifier` и `RandomForestClassifier` использовался `OrdinalEncoder`. \n",
    "Для модели `CatBoostClassifier` подавались исходные категориальные признаки, так как модель умеет самостоятельно кодировать такие признаки. Числовые признаки стандартизировали с помощью `StandardScaler`. На этом этапе для каждой из моделей был собран `Pipeline`.\n",
    "Трудностей при обработке признаков и создании `Pipeline` для моделей в ходе испольнения проекта не возникло."
   ]
  },
  {
   "cell_type": "markdown",
   "id": "73f787f0-6aac-41cd-a2be-db651bcccaaa",
   "metadata": {},
   "source": [
    "## 4. Модели"
   ]
  },
  {
   "attachments": {
    "58ef6802-df33-415c-9dee-b1d6416715d6.png": {
     "image/png": "[encoded data removed]"
    },
    "75752328-6e2c-4827-8cfa-4237c1c2707f.png": {
     "image/png": "[encoded data removed]"
    }
   },
   "cell_type": "markdown",
   "id": "1f1de168-9554-40c9-a57f-4fa9149509f0",
   "metadata": {},
   "source": [
    "Для кождой из 4-х моделей-классификаторов методом кросс-валидации был проведен подбор гиперпараметров и получено лучшее значение метрики ROC-AUC. \n",
    "В качестве дополнительной метрики использовалсь метрика Accuracy, которая позволяет оценить, насколько точно модель классифицирует данные.\n",
    "Итоговые данные занесены в таблицу.\n",
    "![image.png](attachment:58ef6802-df33-415c-9dee-b1d6416715d6.png)\n",
    "\n",
    "Лучший результат получен у модели CatBoostClassifier: \n",
    "- `ROC-AUC`: 0.85 (достигнут целевой показатель)\n",
    "- `Accuracy`: 0.84\n",
    "\n",
    "Гиперпараметры лучшей модели: \n",
    "\n",
    "**CatBoostClassifier (random_state=RANDOM_STATE, depth=6, iterations=100, learning_rate=0.5, verbose=False, class_weights=[0.156325, 0.843675], cat_features=cat_features)**\n",
    "                                   \n",
    "Эта модель была выбрана для финального тестирования. \n",
    "Результаты предсказания модели на тестовой выборке:\n",
    "- `ROC-AUC`: 0.87 (целевой показатель выше целевого)\n",
    "- `Accuracy`: 0.84      \n",
    "\n",
    "Дополнительно были оценена степень значимости признаков для обучения модели. \n",
    "![image.png](attachment:75752328-6e2c-4827-8cfa-4237c1c2707f.png)\n",
    "\n",
    "В дальнейшем, признаки с наименьшей значимостью могут не использоваться для обучения модели."
   ]
  },
  {
   "cell_type": "markdown",
   "id": "e87b68ef-c01e-49fa-a353-f6ec51dae3a0",
   "metadata": {},
   "source": [
    "## 5. Выводы"
   ]
  },
  {
   "cell_type": "markdown",
   "id": "11e38313-e32f-454f-a00c-6aae0470c5b5",
   "metadata": {},
   "source": [
    "В ходе выполнения проекта была решена задача классификации - предсказать уйдет ли в дальнейшем клиент или останется. Для решения этой задачи использовались модели-классификаторы:\n",
    "* `LogisticRegression`\n",
    "* `DecisionTreeClassifier`\n",
    "* `RandomForestClassifier`\n",
    "* `CatBoostClassifier`\n",
    ",которые были обучены на данных предоставленных заказчиком. \n",
    "\n",
    "Данные были дополнительно исследованы и подготовленны должным образом для каждой модели. В процессе обучения методом кросс-валидации найдены лучшая модель и её гиперпараметры - `CatBoostClassifier (random_state=RANDOM_STATE, depth=6, iterations=100, learning_rate=0.5, verbose=False, class_weights=[0.156325, 0.843675], cat_features=cat_features)`. Результаты модели на тестовой выборке: `ROC-AUC = 0.87`, что лучше необходимого заказчику показателя. \n",
    "\n",
    "Решение данной задачи позволит заказчику удерживать клиентов с низкой лояльностью, предлагая им дополнительные бонусы, что улучшит бизнес показатели компании-оператора связи."
   ]
  }
 ],
 "metadata": {
  "kernelspec": {
   "display_name": "Python 3 (ipykernel)",
   "language": "python",
   "name": "python3"
  },
  "language_info": {
   "codemirror_mode": {
    "name": "ipython",
    "version": 3
   },
   "file_extension": ".py",
   "mimetype": "text/x-python",
   "name": "python",
   "nbconvert_exporter": "python",
   "pygments_lexer": "ipython3",
   "version": "3.9.12"
  },
  "toc": {
   "base_numbering": 1,
   "nav_menu": {},
   "number_sections": true,
   "sideBar": true,
   "skip_h1_title": true,
   "title_cell": "Table of Contents",
   "title_sidebar": "Contents",
   "toc_cell": false,
   "toc_position": {},
   "toc_section_display": true,
   "toc_window_display": false
  }
 },
 "nbformat": 4,
 "nbformat_minor": 5
}

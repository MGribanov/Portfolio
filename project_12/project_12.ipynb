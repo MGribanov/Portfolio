{
 "cells": [
  {
   "cell_type": "markdown",
   "id": "db753652-e49e-4750-a38c-602673a640c2",
   "metadata": {},
   "source": [
    "# Оценка токсичности комментариев"
   ]
  },
  {
   "cell_type": "markdown",
   "id": "12c31828-5923-4f67-87d4-402fa6230808",
   "metadata": {},
   "source": [
    "## Описание проекта"
   ]
  },
  {
   "cell_type": "markdown",
   "id": "11e686e9-b97f-4401-9c79-7d1cf643564d",
   "metadata": {},
   "source": [
    "Интернет-магазин «Викишоп» запускает новый сервис.\n",
    "Теперь пользователи могут редактировать и дополнять описания товаров, как в вики-сообществах.\\\n",
    "То есть клиенты предлагают свои правки и комментируют изменения других.\\\n",
    "Магазину нужен инструмент, который будет искать токсичные комментарии и отправлять их на модерацию.\\\n",
    "В распоряжении набор данных с разметкой о токсичности правок."
   ]
  },
  {
   "cell_type": "markdown",
   "id": "1dbec0c7-6e4a-460b-beb0-39040f940832",
   "metadata": {
    "tags": []
   },
   "source": [
    "## Задача:"
   ]
  },
  {
   "cell_type": "markdown",
   "id": "109e8823-fc61-403a-8798-0c2fde1e9501",
   "metadata": {},
   "source": [
    "- Обучить модель классифицировать комментарии на позитивные и негативные.\n",
    "- Построить модель со значением метрики качества F1 не меньше 0.75. "
   ]
  },
  {
   "cell_type": "markdown",
   "id": "40acf91f-c9dc-45a5-8746-480334618adc",
   "metadata": {},
   "source": [
    "## 1. Загрузка данных"
   ]
  },
  {
   "cell_type": "markdown",
   "id": "6691ddb4-95ca-430e-a4a8-f8d02ac90371",
   "metadata": {},
   "source": [
    "### 1.1 Импорт необходимых для работы библиотек, метрик и утилит"
   ]
  },
  {
   "cell_type": "code",
   "execution_count": 1,
   "id": "a5c9cb8d-523d-4015-aae1-0117234a1f27",
   "metadata": {},
   "outputs": [],
   "source": [
    "# !pip install spacy && python -m spacy download en_core_web_sm"
   ]
  },
  {
   "cell_type": "code",
   "execution_count": 2,
   "id": "842018db-dd6d-469d-878a-12ad58600cfd",
   "metadata": {},
   "outputs": [
    {
     "name": "stderr",
     "output_type": "stream",
     "text": [
      "C:\\Users\\Mikhail\\anaconda3\\lib\\site-packages\\scipy\\__init__.py:146: UserWarning: A NumPy version >=1.16.5 and <1.23.0 is required for this version of SciPy (detected version 1.23.5\n",
      "  warnings.warn(f\"A NumPy version >={np_minversion} and <{np_maxversion}\"\n",
      "[nltk_data] Downloading package wordnet to\n",
      "[nltk_data]     C:\\Users\\Mikhail\\AppData\\Roaming\\nltk_data...\n",
      "[nltk_data]   Package wordnet is already up-to-date!\n"
     ]
    }
   ],
   "source": [
    "# импорт библиотек\n",
    "import pandas as pd\n",
    "import numpy as np\n",
    "import nltk\n",
    "import spacy\n",
    "import re\n",
    "import matplotlib.pyplot as plt\n",
    "import seaborn as sns\n",
    "\n",
    "from tqdm import tqdm\n",
    "\n",
    "from nltk.corpus import wordnet\n",
    "from nltk.corpus import stopwords as nltk_stopwords\n",
    "\n",
    "# импорт моделей\n",
    "from sklearn.tree import DecisionTreeClassifier\n",
    "from sklearn.linear_model import LogisticRegression\n",
    "from sklearn.ensemble import RandomForestClassifier\n",
    "from sklearn.feature_extraction.text import TfidfVectorizer\n",
    "\n",
    "\n",
    "# кроссвалидация\n",
    "from sklearn.pipeline import Pipeline\n",
    "from sklearn.model_selection import (\n",
    "    GridSearchCV, \n",
    "    RandomizedSearchCV,\n",
    "    train_test_split\n",
    ")\n",
    "\n",
    "# метрики\n",
    "from sklearn.metrics import f1_score\n",
    "\n",
    "# настройки\n",
    "import time\n",
    "from tqdm.notebook import tqdm\n",
    "tqdm.pandas()\n",
    "import warnings\n",
    "warnings.filterwarnings(\"ignore\")\n",
    "from pylab import rcParams\n",
    "nltk.download('wordnet')\n",
    "\n",
    "# константа верхний регистр\n",
    "RANDOM_STATE = 42"
   ]
  },
  {
   "cell_type": "markdown",
   "id": "3236738d-4f66-401b-841b-412ac68d7fbe",
   "metadata": {},
   "source": [
    "### 1.2 Загрузим данные"
   ]
  },
  {
   "cell_type": "code",
   "execution_count": 3,
   "id": "5e1b3b7a-7c65-4080-99f3-1eb44e39f4bf",
   "metadata": {},
   "outputs": [],
   "source": [
    "# загрузим данные\n",
    "data_text = pd.read_csv('C:\\\\Users\\\\Mikhail\\\\Яндекс_Практикум\\\\data_set\\\\toxic_comments.csv')"
   ]
  },
  {
   "cell_type": "code",
   "execution_count": 4,
   "id": "91c80b0c-32b5-4cc3-a876-73ba063a4fa4",
   "metadata": {},
   "outputs": [
    {
     "data": {
      "text/html": [
       "<div>\n",
       "<style scoped>\n",
       "    .dataframe tbody tr th:only-of-type {\n",
       "        vertical-align: middle;\n",
       "    }\n",
       "\n",
       "    .dataframe tbody tr th {\n",
       "        vertical-align: top;\n",
       "    }\n",
       "\n",
       "    .dataframe thead th {\n",
       "        text-align: right;\n",
       "    }\n",
       "</style>\n",
       "<table border=\"1\" class=\"dataframe\">\n",
       "  <thead>\n",
       "    <tr style=\"text-align: right;\">\n",
       "      <th></th>\n",
       "      <th>Unnamed: 0</th>\n",
       "      <th>text</th>\n",
       "      <th>toxic</th>\n",
       "    </tr>\n",
       "  </thead>\n",
       "  <tbody>\n",
       "    <tr>\n",
       "      <th>0</th>\n",
       "      <td>0</td>\n",
       "      <td>Explanation\\nWhy the edits made under my usern...</td>\n",
       "      <td>0</td>\n",
       "    </tr>\n",
       "    <tr>\n",
       "      <th>1</th>\n",
       "      <td>1</td>\n",
       "      <td>D'aww! He matches this background colour I'm s...</td>\n",
       "      <td>0</td>\n",
       "    </tr>\n",
       "    <tr>\n",
       "      <th>2</th>\n",
       "      <td>2</td>\n",
       "      <td>Hey man, I'm really not trying to edit war. It...</td>\n",
       "      <td>0</td>\n",
       "    </tr>\n",
       "    <tr>\n",
       "      <th>3</th>\n",
       "      <td>3</td>\n",
       "      <td>\"\\nMore\\nI can't make any real suggestions on ...</td>\n",
       "      <td>0</td>\n",
       "    </tr>\n",
       "    <tr>\n",
       "      <th>4</th>\n",
       "      <td>4</td>\n",
       "      <td>You, sir, are my hero. Any chance you remember...</td>\n",
       "      <td>0</td>\n",
       "    </tr>\n",
       "  </tbody>\n",
       "</table>\n",
       "</div>"
      ],
      "text/plain": [
       "   Unnamed: 0                                               text  toxic\n",
       "0           0  Explanation\\nWhy the edits made under my usern...      0\n",
       "1           1  D'aww! He matches this background colour I'm s...      0\n",
       "2           2  Hey man, I'm really not trying to edit war. It...      0\n",
       "3           3  \"\\nMore\\nI can't make any real suggestions on ...      0\n",
       "4           4  You, sir, are my hero. Any chance you remember...      0"
      ]
     },
     "execution_count": 4,
     "metadata": {},
     "output_type": "execute_result"
    }
   ],
   "source": [
    "data_text.head()"
   ]
  },
  {
   "cell_type": "code",
   "execution_count": 5,
   "id": "f6f64cc0-320b-4791-88aa-1a708dcb67d2",
   "metadata": {},
   "outputs": [],
   "source": [
    "# функция для получения общей информации о данных\n",
    "def get_info(data):\n",
    "    display(data.head())\n",
    "    display(data.tail())\n",
    "    data.info()\n",
    "    print('\\nРазмер таблицы:', data.shape)\n",
    "    print('\\nКоличество явных дубликатов:', data.duplicated().sum())\n",
    "    print('\\nКоличество пропусков в таблице:', data.isna().sum().sum())"
   ]
  },
  {
   "cell_type": "code",
   "execution_count": 6,
   "id": "65addec2-0833-4647-ba69-ad20529e949d",
   "metadata": {},
   "outputs": [
    {
     "data": {
      "text/html": [
       "<div>\n",
       "<style scoped>\n",
       "    .dataframe tbody tr th:only-of-type {\n",
       "        vertical-align: middle;\n",
       "    }\n",
       "\n",
       "    .dataframe tbody tr th {\n",
       "        vertical-align: top;\n",
       "    }\n",
       "\n",
       "    .dataframe thead th {\n",
       "        text-align: right;\n",
       "    }\n",
       "</style>\n",
       "<table border=\"1\" class=\"dataframe\">\n",
       "  <thead>\n",
       "    <tr style=\"text-align: right;\">\n",
       "      <th></th>\n",
       "      <th>Unnamed: 0</th>\n",
       "      <th>text</th>\n",
       "      <th>toxic</th>\n",
       "    </tr>\n",
       "  </thead>\n",
       "  <tbody>\n",
       "    <tr>\n",
       "      <th>0</th>\n",
       "      <td>0</td>\n",
       "      <td>Explanation\\nWhy the edits made under my usern...</td>\n",
       "      <td>0</td>\n",
       "    </tr>\n",
       "    <tr>\n",
       "      <th>1</th>\n",
       "      <td>1</td>\n",
       "      <td>D'aww! He matches this background colour I'm s...</td>\n",
       "      <td>0</td>\n",
       "    </tr>\n",
       "    <tr>\n",
       "      <th>2</th>\n",
       "      <td>2</td>\n",
       "      <td>Hey man, I'm really not trying to edit war. It...</td>\n",
       "      <td>0</td>\n",
       "    </tr>\n",
       "    <tr>\n",
       "      <th>3</th>\n",
       "      <td>3</td>\n",
       "      <td>\"\\nMore\\nI can't make any real suggestions on ...</td>\n",
       "      <td>0</td>\n",
       "    </tr>\n",
       "    <tr>\n",
       "      <th>4</th>\n",
       "      <td>4</td>\n",
       "      <td>You, sir, are my hero. Any chance you remember...</td>\n",
       "      <td>0</td>\n",
       "    </tr>\n",
       "  </tbody>\n",
       "</table>\n",
       "</div>"
      ],
      "text/plain": [
       "   Unnamed: 0                                               text  toxic\n",
       "0           0  Explanation\\nWhy the edits made under my usern...      0\n",
       "1           1  D'aww! He matches this background colour I'm s...      0\n",
       "2           2  Hey man, I'm really not trying to edit war. It...      0\n",
       "3           3  \"\\nMore\\nI can't make any real suggestions on ...      0\n",
       "4           4  You, sir, are my hero. Any chance you remember...      0"
      ]
     },
     "metadata": {},
     "output_type": "display_data"
    },
    {
     "data": {
      "text/html": [
       "<div>\n",
       "<style scoped>\n",
       "    .dataframe tbody tr th:only-of-type {\n",
       "        vertical-align: middle;\n",
       "    }\n",
       "\n",
       "    .dataframe tbody tr th {\n",
       "        vertical-align: top;\n",
       "    }\n",
       "\n",
       "    .dataframe thead th {\n",
       "        text-align: right;\n",
       "    }\n",
       "</style>\n",
       "<table border=\"1\" class=\"dataframe\">\n",
       "  <thead>\n",
       "    <tr style=\"text-align: right;\">\n",
       "      <th></th>\n",
       "      <th>Unnamed: 0</th>\n",
       "      <th>text</th>\n",
       "      <th>toxic</th>\n",
       "    </tr>\n",
       "  </thead>\n",
       "  <tbody>\n",
       "    <tr>\n",
       "      <th>159287</th>\n",
       "      <td>159446</td>\n",
       "      <td>\":::::And for the second time of asking, when ...</td>\n",
       "      <td>0</td>\n",
       "    </tr>\n",
       "    <tr>\n",
       "      <th>159288</th>\n",
       "      <td>159447</td>\n",
       "      <td>You should be ashamed of yourself \\n\\nThat is ...</td>\n",
       "      <td>0</td>\n",
       "    </tr>\n",
       "    <tr>\n",
       "      <th>159289</th>\n",
       "      <td>159448</td>\n",
       "      <td>Spitzer \\n\\nUmm, theres no actual article for ...</td>\n",
       "      <td>0</td>\n",
       "    </tr>\n",
       "    <tr>\n",
       "      <th>159290</th>\n",
       "      <td>159449</td>\n",
       "      <td>And it looks like it was actually you who put ...</td>\n",
       "      <td>0</td>\n",
       "    </tr>\n",
       "    <tr>\n",
       "      <th>159291</th>\n",
       "      <td>159450</td>\n",
       "      <td>\"\\nAnd ... I really don't think you understand...</td>\n",
       "      <td>0</td>\n",
       "    </tr>\n",
       "  </tbody>\n",
       "</table>\n",
       "</div>"
      ],
      "text/plain": [
       "        Unnamed: 0                                               text  toxic\n",
       "159287      159446  \":::::And for the second time of asking, when ...      0\n",
       "159288      159447  You should be ashamed of yourself \\n\\nThat is ...      0\n",
       "159289      159448  Spitzer \\n\\nUmm, theres no actual article for ...      0\n",
       "159290      159449  And it looks like it was actually you who put ...      0\n",
       "159291      159450  \"\\nAnd ... I really don't think you understand...      0"
      ]
     },
     "metadata": {},
     "output_type": "display_data"
    },
    {
     "name": "stdout",
     "output_type": "stream",
     "text": [
      "<class 'pandas.core.frame.DataFrame'>\n",
      "RangeIndex: 159292 entries, 0 to 159291\n",
      "Data columns (total 3 columns):\n",
      " #   Column      Non-Null Count   Dtype \n",
      "---  ------      --------------   ----- \n",
      " 0   Unnamed: 0  159292 non-null  int64 \n",
      " 1   text        159292 non-null  object\n",
      " 2   toxic       159292 non-null  int64 \n",
      "dtypes: int64(2), object(1)\n",
      "memory usage: 3.6+ MB\n",
      "\n",
      "Размер таблицы: (159292, 3)\n",
      "\n",
      "Количество явных дубликатов: 0\n",
      "\n",
      "Количество пропусков в таблице: 0\n"
     ]
    }
   ],
   "source": [
    "get_info(data_text)"
   ]
  },
  {
   "cell_type": "markdown",
   "id": "377a56b4-591c-4e3f-aef4-1a14349927e7",
   "metadata": {},
   "source": [
    "### 1.3 Описание данных"
   ]
  },
  {
   "cell_type": "markdown",
   "id": "a98ce3dc-4372-4e2b-98f7-bae74a4aedac",
   "metadata": {},
   "source": [
    "- **text - содержит текст комментария**\n",
    "- **toxic - целевой признак**"
   ]
  },
  {
   "cell_type": "code",
   "execution_count": 7,
   "id": "2467209b-20f2-4ea2-852b-fb5c19b8695d",
   "metadata": {},
   "outputs": [],
   "source": [
    "# удалим признак Unnamed: 0, так он не понадобится для обучения модели, сохраним данные в новый датафрейм\n",
    "df = data_text.drop(['Unnamed: 0'],axis = 1)"
   ]
  },
  {
   "cell_type": "code",
   "execution_count": 8,
   "id": "cab8f87e-ba9e-4922-93a5-d7cc3b0a5fbc",
   "metadata": {},
   "outputs": [
    {
     "name": "stdout",
     "output_type": "stream",
     "text": [
      "      toxic\n",
      "0  0.898388\n",
      "1  0.101612\n"
     ]
    }
   ],
   "source": [
    "# оценим распределение уникальных значений в целевом признаке\n",
    "class_frequency = df['toxic'].value_counts(normalize= True).to_frame()\n",
    "print(class_frequency)"
   ]
  },
  {
   "cell_type": "code",
   "execution_count": 9,
   "id": "5010276b-4b5e-4f6d-b542-7f0a3d8b2d01",
   "metadata": {},
   "outputs": [
    {
     "data": {
      "image/png": "[encoded data removed]",
      "text/plain": [
       "<Figure size 360x360 with 1 Axes>"
      ]
     },
     "metadata": {
      "needs_background": "light"
     },
     "output_type": "display_data"
    }
   ],
   "source": [
    "# посмотрим на графике\n",
    "sns.catplot(data=df, x=\"toxic\",  kind=\"count\")\n",
    "\n",
    "plt.title('Распределение значений')\n",
    "plt.xlabel('Типы комментариев')\n",
    "plt.ylabel('Количество');"
   ]
  },
  {
   "cell_type": "markdown",
   "id": "315d18fd-6bee-4011-8a9d-cf3a4ceab787",
   "metadata": {
    "tags": []
   },
   "source": [
    "### Выводы"
   ]
  },
  {
   "cell_type": "markdown",
   "id": "f8a1b686-e830-4910-a970-f2a9eebf523a",
   "metadata": {
    "tags": []
   },
   "source": [
    "* Дубликаты и пропуски не выявлены\n",
    "* Удален избыточный признак 'Unnamed: 0'\n",
    "* Целевой признак не сбалансирован"
   ]
  },
  {
   "cell_type": "markdown",
   "id": "f93fd5ee-8297-499f-91a9-80dac05abd84",
   "metadata": {},
   "source": [
    "## 2. Подготовка данных"
   ]
  },
  {
   "cell_type": "markdown",
   "id": "e25986bc-9e73-462d-add8-aada6504bfeb",
   "metadata": {},
   "source": [
    "### 2.1 Очистка и лемматизация текста"
   ]
  },
  {
   "cell_type": "code",
   "execution_count": 10,
   "id": "632835cc-1aa9-439c-8614-7c7ad4516a43",
   "metadata": {},
   "outputs": [],
   "source": [
    "# cоздадим корпус \n",
    "corpus = list(df['text'])"
   ]
  },
  {
   "cell_type": "code",
   "execution_count": 11,
   "id": "dfd282e9-0cbb-4a08-9712-967211c7f630",
   "metadata": {},
   "outputs": [],
   "source": [
    "# загрузим языковую модель для SpaCy\n",
    "nlp = spacy.load('en_core_web_sm')\n",
    "\n",
    "# функция лемматизирует английский текст, используем SpaCy\n",
    "def lemmatize_text(text):\n",
    "    doc = nlp(text)\n",
    "    lemmatized_tokens = []\n",
    "    for token in doc:\n",
    "        if token.is_alpha and not token.is_stop:\n",
    "            lemma = token.lemma_.lower()\n",
    "            lemmatized_tokens.append(lemma)\n",
    "    lemmatized_text = ' '.join(lemmatized_tokens)\n",
    "    return lemmatized_text"
   ]
  },
  {
   "cell_type": "code",
   "execution_count": 12,
   "id": "05adcb10-794f-4155-ad6b-1cd87d8f0789",
   "metadata": {},
   "outputs": [
    {
     "name": "stdout",
     "output_type": "stream",
     "text": [
      "\u001b[1mИсходный текст:\u001b[0m Explanation\n",
      "Why the edits made under my username Hardcore Metallica Fan were reverted? They weren't vandalisms, just closure on some GAs after I voted at New York Dolls FAC. And please don't remove the template from the talk page since I'm retired now.89.205.38.27\n",
      "====================================================================================================================================================================================\n",
      "\u001b[1mОчищенный и лемматизированный текст:\u001b[0m explanation edit username hardcore metallica fan revert weren t vandalism closure gas vote new york dolls fac don t remove template talk page m retire\n"
     ]
    }
   ],
   "source": [
    "# функция удаляет символы, знаки и приводит текст в нижний регистр\n",
    "def clear_text(text):\n",
    "    cl_text = re.sub(r'(?:\\n|\\r)', ' ', text)\n",
    "    cl_text = re.sub(r'[^a-zA-Z]', ' ', text)\n",
    "    cl_text = cl_text.lower()\n",
    "    cl_text = ' '.join(cl_text.split())\n",
    "    return cl_text\n",
    "\n",
    "# проверка работы функции\n",
    "print('\\033[1m'+\"Исходный текст:\"+'\\033[0m', corpus[0])\n",
    "print('='*180)\n",
    "print('\\033[1m'+\"Очищенный и лемматизированный текст:\"+'\\033[0m', lemmatize_text(clear_text(corpus[0])))"
   ]
  },
  {
   "cell_type": "code",
   "execution_count": 13,
   "id": "c6fe1eff-3826-4d93-b35e-eb80d52d9791",
   "metadata": {},
   "outputs": [
    {
     "data": {
      "application/vnd.jupyter.widget-view+json": {
       "model_id": "f2058d85765948138b8f0a1b17c59197",
       "version_major": 2,
       "version_minor": 0
      },
      "text/plain": [
       "  0%|          | 0/159292 [00:00<?, ?it/s]"
      ]
     },
     "metadata": {},
     "output_type": "display_data"
    }
   ],
   "source": [
    "# добавим готовый текст в новый столбец для сравнения\n",
    "df['lemmatized_text'] = df['text'].progress_apply(lemmatize_text)"
   ]
  },
  {
   "cell_type": "code",
   "execution_count": 14,
   "id": "f052eb20-bf4b-4c09-8f6c-40012f3593eb",
   "metadata": {},
   "outputs": [
    {
     "data": {
      "text/html": [
       "<div>\n",
       "<style scoped>\n",
       "    .dataframe tbody tr th:only-of-type {\n",
       "        vertical-align: middle;\n",
       "    }\n",
       "\n",
       "    .dataframe tbody tr th {\n",
       "        vertical-align: top;\n",
       "    }\n",
       "\n",
       "    .dataframe thead th {\n",
       "        text-align: right;\n",
       "    }\n",
       "</style>\n",
       "<table border=\"1\" class=\"dataframe\">\n",
       "  <thead>\n",
       "    <tr style=\"text-align: right;\">\n",
       "      <th></th>\n",
       "      <th>text</th>\n",
       "      <th>toxic</th>\n",
       "      <th>lemmatized_text</th>\n",
       "    </tr>\n",
       "  </thead>\n",
       "  <tbody>\n",
       "    <tr>\n",
       "      <th>0</th>\n",
       "      <td>Explanation\\nWhy the edits made under my usern...</td>\n",
       "      <td>0</td>\n",
       "      <td>explanation edit username hardcore metallica f...</td>\n",
       "    </tr>\n",
       "    <tr>\n",
       "      <th>1</th>\n",
       "      <td>D'aww! He matches this background colour I'm s...</td>\n",
       "      <td>0</td>\n",
       "      <td>match background colour seemingly stick thank ...</td>\n",
       "    </tr>\n",
       "    <tr>\n",
       "      <th>2</th>\n",
       "      <td>Hey man, I'm really not trying to edit war. It...</td>\n",
       "      <td>0</td>\n",
       "      <td>hey man try edit war guy constantly remove rel...</td>\n",
       "    </tr>\n",
       "    <tr>\n",
       "      <th>3</th>\n",
       "      <td>\"\\nMore\\nI can't make any real suggestions on ...</td>\n",
       "      <td>0</td>\n",
       "      <td>real suggestion improvement wonder section sta...</td>\n",
       "    </tr>\n",
       "    <tr>\n",
       "      <th>4</th>\n",
       "      <td>You, sir, are my hero. Any chance you remember...</td>\n",
       "      <td>0</td>\n",
       "      <td>sir hero chance remember page</td>\n",
       "    </tr>\n",
       "  </tbody>\n",
       "</table>\n",
       "</div>"
      ],
      "text/plain": [
       "                                                text  toxic  \\\n",
       "0  Explanation\\nWhy the edits made under my usern...      0   \n",
       "1  D'aww! He matches this background colour I'm s...      0   \n",
       "2  Hey man, I'm really not trying to edit war. It...      0   \n",
       "3  \"\\nMore\\nI can't make any real suggestions on ...      0   \n",
       "4  You, sir, are my hero. Any chance you remember...      0   \n",
       "\n",
       "                                     lemmatized_text  \n",
       "0  explanation edit username hardcore metallica f...  \n",
       "1  match background colour seemingly stick thank ...  \n",
       "2  hey man try edit war guy constantly remove rel...  \n",
       "3  real suggestion improvement wonder section sta...  \n",
       "4                      sir hero chance remember page  "
      ]
     },
     "metadata": {},
     "output_type": "display_data"
    },
    {
     "data": {
      "text/html": [
       "<div>\n",
       "<style scoped>\n",
       "    .dataframe tbody tr th:only-of-type {\n",
       "        vertical-align: middle;\n",
       "    }\n",
       "\n",
       "    .dataframe tbody tr th {\n",
       "        vertical-align: top;\n",
       "    }\n",
       "\n",
       "    .dataframe thead th {\n",
       "        text-align: right;\n",
       "    }\n",
       "</style>\n",
       "<table border=\"1\" class=\"dataframe\">\n",
       "  <thead>\n",
       "    <tr style=\"text-align: right;\">\n",
       "      <th></th>\n",
       "      <th>text</th>\n",
       "      <th>toxic</th>\n",
       "      <th>lemmatized_text</th>\n",
       "    </tr>\n",
       "  </thead>\n",
       "  <tbody>\n",
       "    <tr>\n",
       "      <th>159287</th>\n",
       "      <td>\":::::And for the second time of asking, when ...</td>\n",
       "      <td>0</td>\n",
       "      <td>second time asking view completely contradict ...</td>\n",
       "    </tr>\n",
       "    <tr>\n",
       "      <th>159288</th>\n",
       "      <td>You should be ashamed of yourself \\n\\nThat is ...</td>\n",
       "      <td>0</td>\n",
       "      <td>ashamed horrible thing talk page</td>\n",
       "    </tr>\n",
       "    <tr>\n",
       "      <th>159289</th>\n",
       "      <td>Spitzer \\n\\nUmm, theres no actual article for ...</td>\n",
       "      <td>0</td>\n",
       "      <td>spitzer umm s actual article prostitution ring...</td>\n",
       "    </tr>\n",
       "    <tr>\n",
       "      <th>159290</th>\n",
       "      <td>And it looks like it was actually you who put ...</td>\n",
       "      <td>0</td>\n",
       "      <td>look like actually speedy version delete look</td>\n",
       "    </tr>\n",
       "    <tr>\n",
       "      <th>159291</th>\n",
       "      <td>\"\\nAnd ... I really don't think you understand...</td>\n",
       "      <td>0</td>\n",
       "      <td>think understand come idea bad right away kind...</td>\n",
       "    </tr>\n",
       "  </tbody>\n",
       "</table>\n",
       "</div>"
      ],
      "text/plain": [
       "                                                     text  toxic  \\\n",
       "159287  \":::::And for the second time of asking, when ...      0   \n",
       "159288  You should be ashamed of yourself \\n\\nThat is ...      0   \n",
       "159289  Spitzer \\n\\nUmm, theres no actual article for ...      0   \n",
       "159290  And it looks like it was actually you who put ...      0   \n",
       "159291  \"\\nAnd ... I really don't think you understand...      0   \n",
       "\n",
       "                                          lemmatized_text  \n",
       "159287  second time asking view completely contradict ...  \n",
       "159288                   ashamed horrible thing talk page  \n",
       "159289  spitzer umm s actual article prostitution ring...  \n",
       "159290      look like actually speedy version delete look  \n",
       "159291  think understand come idea bad right away kind...  "
      ]
     },
     "metadata": {},
     "output_type": "display_data"
    }
   ],
   "source": [
    "# оценим результат\n",
    "display(df.head())\n",
    "display(df.tail())"
   ]
  },
  {
   "cell_type": "markdown",
   "id": "99bd0869-36e6-4bfb-92af-7cb78334a8af",
   "metadata": {
    "tags": []
   },
   "source": [
    "### 2.2 Разделим выборки и извлечем признаки\n",
    "* **train** - обучающая выборка (**90%** исходных данных)\n",
    "* **test** - тестовая выборка (**10%** исходных данных)"
   ]
  },
  {
   "cell_type": "code",
   "execution_count": 15,
   "id": "fbbba121-c77c-434f-b368-9c6a8d22a8d4",
   "metadata": {
    "tags": []
   },
   "outputs": [],
   "source": [
    "features = df['lemmatized_text']                    # признаки\n",
    "target = df['toxic']                                # целевой признак"
   ]
  },
  {
   "cell_type": "code",
   "execution_count": 16,
   "id": "ee3dd75f-924c-4bd4-a423-7c8bb1139cf4",
   "metadata": {},
   "outputs": [],
   "source": [
    "# разделим на тренировочную - 90% и тест - 10% выборки и сохраним соотношение классов\n",
    "X_train, X_test, y_train, y_test = train_test_split(\n",
    "    features, target, test_size=0.1, random_state=RANDOM_STATE, stratify=target)"
   ]
  },
  {
   "cell_type": "code",
   "execution_count": 17,
   "id": "a9f826c2-6493-4c33-9904-2c4bf72264cb",
   "metadata": {},
   "outputs": [
    {
     "name": "stdout",
     "output_type": "stream",
     "text": [
      "\u001b[1mОбучающая выборка\u001b[0m\n",
      "Признаки:(143362,)\n",
      "Целевой признак:(143362,)\n",
      "==============================\n",
      "\u001b[1mТестовая выборка\u001b[0m\n",
      "Признаки:(15930,)\n",
      "Целевой признак:(15930,)\n"
     ]
    }
   ],
   "source": [
    "print('\\033[1m'+ 'Обучающая выборка'+'\\033[0m')\n",
    "print ('Признаки:',X_train.shape, '\\n', 'Целевой признак:', y_train.shape, sep='')\n",
    "print('='*30)\n",
    "print('\\033[1m'+ 'Тестовая выборка'+'\\033[0m')\n",
    "print ('Признаки:',X_test.shape, '\\n', 'Целевой признак:', y_test.shape, sep='')"
   ]
  },
  {
   "cell_type": "code",
   "execution_count": 18,
   "id": "67d0af0e-4a4b-4de0-a205-a3878396d31f",
   "metadata": {},
   "outputs": [
    {
     "name": "stderr",
     "output_type": "stream",
     "text": [
      "[nltk_data] Downloading package stopwords to\n",
      "[nltk_data]     C:\\Users\\Mikhail\\AppData\\Roaming\\nltk_data...\n",
      "[nltk_data]   Package stopwords is already up-to-date!\n"
     ]
    }
   ],
   "source": [
    "# определим английские стоп слова и передадим их счетчик\n",
    "nltk.download('stopwords')\n",
    "stopwords = set(nltk_stopwords.words('english'))"
   ]
  },
  {
   "cell_type": "code",
   "execution_count": 19,
   "id": "9a84e215-b5c0-433f-82c3-ebd84344d5b2",
   "metadata": {},
   "outputs": [
    {
     "name": "stdout",
     "output_type": "stream",
     "text": [
      "CPU times: total: 0 ns\n",
      "Wall time: 0 ns\n"
     ]
    }
   ],
   "source": [
    "%%time\n",
    "# оценим частоту использования и важность слов\n",
    "# переведем выборки признаков в векторы\n",
    "#count_tf_idf = TfidfVectorizer(stop_words=stopwords)\n",
    "#tf_idf_X_train = count_tf_idf.fit_transform(X_train)\n",
    "#tf_idf_X_test = count_tf_idf.transform(X_test)"
   ]
  },
  {
   "cell_type": "markdown",
   "id": "e434fea6-8e62-459c-8396-d02fb74c242d",
   "metadata": {
    "tags": []
   },
   "source": [
    "### Выводы"
   ]
  },
  {
   "cell_type": "markdown",
   "id": "7ca78546-dfdf-4f5a-8060-c7008811d4b5",
   "metadata": {
    "tags": []
   },
   "source": [
    "* Слова приведены к начальным формам, удалены символы и стоп-слова\n",
    "* Выборки разделены на трейн, валид и тест; признаки извлечены\n",
    "* Проведена оценка частоты и важности слов, выборки преобразованы в векторы"
   ]
  },
  {
   "cell_type": "markdown",
   "id": "d3990af9-7e14-4fe6-b93f-97284a761bdc",
   "metadata": {
    "tags": []
   },
   "source": [
    "## 3. Исследуем модели"
   ]
  },
  {
   "cell_type": "markdown",
   "id": "501fef73-8191-4191-a507-0d6a60275ad4",
   "metadata": {},
   "source": [
    "* RandomForest Classifier\n",
    "* DecisionTree Classifier\n",
    "* Logistic Regression\n",
    "\n",
    "Для каждой подберем гиперпараметры и оценку лучшей модели на валидационной выборке."
   ]
  },
  {
   "cell_type": "markdown",
   "id": "79bf56c5-661b-4ac8-a532-8efdf28dd481",
   "metadata": {
    "tags": []
   },
   "source": [
    "### 3.1 Модель \"RandomForest Classifier\""
   ]
  },
  {
   "cell_type": "code",
   "execution_count": 20,
   "id": "f4435101-622d-415b-914e-6a11a2958749",
   "metadata": {
    "tags": []
   },
   "outputs": [],
   "source": [
    "# признаки для RandomForest\n",
    "X_train_rf = X_train.copy()\n",
    "X_test_rf = X_test.copy()"
   ]
  },
  {
   "cell_type": "code",
   "execution_count": 21,
   "id": "ac68afea-0734-4f44-8fa5-f0e66b16f508",
   "metadata": {},
   "outputs": [],
   "source": [
    "# создадим пайплайн\n",
    "pipeline_rf = Pipeline([\n",
    "    ('tfidf', TfidfVectorizer(stop_words=stopwords)),\n",
    "    ('rfc', RandomForestClassifier(random_state=RANDOM_STATE, class_weight='balanced'))\n",
    "])"
   ]
  },
  {
   "cell_type": "code",
   "execution_count": 22,
   "id": "27cac708-d740-46f1-b140-ca75e79ae23c",
   "metadata": {},
   "outputs": [],
   "source": [
    "# определим гиперпараметры\n",
    "parametrs_rf = {'rfc__n_estimators': [50, 251, 50],\n",
    "    'rfc__max_depth': [2, 15],\n",
    "    'rfc__min_samples_split': [2, 3, 4],\n",
    "    'rfc__min_samples_leaf': [1, 2, 3, 4]\n",
    "}"
   ]
  },
  {
   "cell_type": "code",
   "execution_count": 23,
   "id": "13380b5a-6f5f-40df-8a0a-71896663785a",
   "metadata": {},
   "outputs": [
    {
     "data": {
      "application/vnd.jupyter.widget-view+json": {
       "model_id": "571c6c786c5042bcae8e2178a296d07a",
       "version_major": 2,
       "version_minor": 0
      },
      "text/plain": [
       "  0%|          | 0/10 [00:00<?, ?it/s]"
      ]
     },
     "metadata": {},
     "output_type": "display_data"
    },
    {
     "name": "stdout",
     "output_type": "stream",
     "text": [
      "\u001b[1mМодель \"RandomForest Classifier\"\u001b[0m\n",
      "\u001b[1mf1:\u001b[0m 0.3930638510231873\n",
      "===========================================================================\n",
      "Лучшие параметры для RandomForest Classifier: \n",
      " {'rfc__n_estimators': 251, 'rfc__min_samples_split': 4, 'rfc__min_samples_leaf': 2, 'rfc__max_depth': 15}\n",
      "===========================================================================\n",
      "Время выполнения:  1809.8463995456696\n"
     ]
    }
   ],
   "source": [
    "start_time = time.time()\n",
    "rf = RandomizedSearchCV(pipeline_rf, parametrs_rf, cv=5, n_jobs=-1, scoring='f1')\n",
    "for _ in tqdm(range(10)):\n",
    "    rf.fit(X_train_rf, y_train)\n",
    "end_time = time.time()\n",
    "\n",
    "f1_rf_train = rf.best_score_\n",
    "best_rf = rf.best_estimator_\n",
    "\n",
    "# результаты\n",
    "print('\\033[1m'+ 'Модель \"RandomForest Classifier\"'+'\\033[0m')\n",
    "print('\\033[1m'+'f1:'+'\\033[0m', f1_rf_train)\n",
    "print('='*75)\n",
    "print(\"Лучшие параметры для RandomForest Classifier: \\n\", rf.best_params_)\n",
    "print('='*75)\n",
    "print(\"Время выполнения: \", end_time - start_time)"
   ]
  },
  {
   "cell_type": "markdown",
   "id": "2d547aae-182c-426d-b8cd-325f7ae64e9b",
   "metadata": {
    "tags": []
   },
   "source": [
    "### 3.2 Модель \"DecisionTree Classifier\""
   ]
  },
  {
   "cell_type": "code",
   "execution_count": 24,
   "id": "02084880-b919-4942-9063-111a7011c758",
   "metadata": {},
   "outputs": [],
   "source": [
    "# признаки для DecisionTree\n",
    "X_train_dt = X_train.copy()\n",
    "X_test_dt = X_test.copy()"
   ]
  },
  {
   "cell_type": "code",
   "execution_count": 25,
   "id": "f0469a16-06ef-4b31-aba7-ed20b2630a19",
   "metadata": {},
   "outputs": [],
   "source": [
    "# создадим пайплайн\n",
    "pipeline_dt = Pipeline([\n",
    "    ('tfidf', TfidfVectorizer()),\n",
    "    ('clf', DecisionTreeClassifier(random_state=RANDOM_STATE, class_weight='balanced'))\n",
    "])"
   ]
  },
  {
   "cell_type": "code",
   "execution_count": 26,
   "id": "8e310a47-3d1c-4158-8628-8452f1e4b6bc",
   "metadata": {
    "tags": []
   },
   "outputs": [],
   "source": [
    "# зададим параметры для подбора в GridSearchCV\n",
    "parametrs_dt = {\n",
    "    'clf__max_depth': [10, 20, 30, None],\n",
    "    'clf__min_samples_split': [2, 5, 10],\n",
    "    'clf__min_samples_leaf': [1, 2, 4]\n",
    "}"
   ]
  },
  {
   "cell_type": "code",
   "execution_count": 33,
   "id": "5484eb62-1ebd-46f8-a5a0-79c13b64b034",
   "metadata": {},
   "outputs": [
    {
     "name": "stdout",
     "output_type": "stream",
     "text": [
      "\u001b[1mМодель \"DecisionTree Classifier\"\u001b[0m\n",
      "\u001b[1mf1:\u001b[0m 0.6646152135118037\n",
      "===========================================================================\n",
      "Лучшие параметры для DecisionTree Classifier:\n",
      " {'clf__max_depth': None, 'clf__min_samples_leaf': 1, 'clf__min_samples_split': 2}\n",
      "===========================================================================\n",
      "CPU times: total: 3min 14s\n",
      "Wall time: 39min 3s\n"
     ]
    }
   ],
   "source": [
    "%%time\n",
    "# подберем лучшие параметры для модели RandomForest\n",
    "dt = GridSearchCV(\n",
    "    pipeline_dt, \n",
    "    param_grid=parametrs_dt,\n",
    "    cv=5,\n",
    "    scoring='f1',\n",
    "    n_jobs=-1\n",
    ")\n",
    "\n",
    "dt.fit(X_train, y_train)\n",
    "\n",
    "f1_dt_train = dt.best_score_\n",
    "best_dt = dt.best_estimator_\n",
    "\n",
    "print('\\033[1m'+ 'Модель \"DecisionTree Classifier\"'+'\\033[0m')\n",
    "print('\\033[1m'+'f1:'+'\\033[0m', f1_dt_train)\n",
    "print('='*75)\n",
    "print(\"Лучшие параметры для DecisionTree Classifier:\\n\", dt.best_params_)\n",
    "print('='*75)"
   ]
  },
  {
   "cell_type": "markdown",
   "id": "18acb3c0-3cf1-499e-839c-1ad93d4b2e35",
   "metadata": {
    "tags": []
   },
   "source": [
    "### 2.5 Модель \"Logistic Regression\""
   ]
  },
  {
   "cell_type": "code",
   "execution_count": 34,
   "id": "2057657e-2e22-4b31-a863-26f2993c0289",
   "metadata": {},
   "outputs": [],
   "source": [
    "# признаки для Logistic Regression\n",
    "X_train_lr = X_train.copy()\n",
    "X_test_lr = X_test.copy()"
   ]
  },
  {
   "cell_type": "code",
   "execution_count": 35,
   "id": "339ecd02-95c0-4106-b49a-1eb6db5e8b18",
   "metadata": {},
   "outputs": [],
   "source": [
    "# создадим пайплайн\n",
    "pipeline_lr = Pipeline([\n",
    "    ('tfidf', TfidfVectorizer(stop_words=stopwords)),\n",
    "    ('clf', LogisticRegression(solver='newton-cg', random_state=RANDOM_STATE, class_weight='balanced', max_iter=1000))\n",
    "])"
   ]
  },
  {
   "cell_type": "code",
   "execution_count": 36,
   "id": "1adfce72-783c-41da-8bd7-31c7204868b9",
   "metadata": {},
   "outputs": [],
   "source": [
    "# определим параметры для подбора в GridSearchCV\n",
    "parametrs_lr = {\n",
    "    'clf__C': [1, 15, 3],\n",
    "    'clf__penalty': ['l1', 'l2']\n",
    "}"
   ]
  },
  {
   "cell_type": "code",
   "execution_count": 37,
   "id": "c8cb4439-a62b-4338-91a9-30fa24093646",
   "metadata": {},
   "outputs": [
    {
     "name": "stdout",
     "output_type": "stream",
     "text": [
      "Fitting 5 folds for each of 6 candidates, totalling 30 fits\n",
      "\u001b[1mМодель \"Logistic Regression\"\u001b[0m\n",
      "\u001b[1mf1:\u001b[0m 0.7575530484548796\n",
      "===========================================================================\n",
      "Лучшие параметры для Logistic Regression: \n",
      " {'clf__C': 3, 'clf__penalty': 'l2'}\n",
      "===========================================================================\n",
      "CPU times: total: 29.3 s\n",
      "Wall time: 54.8 s\n"
     ]
    }
   ],
   "source": [
    "%%time\n",
    "# передаем модель, параметры и оценку в GridSearchCV\n",
    "lr  = GridSearchCV(\n",
    "    pipeline_lr,\n",
    "    param_grid=parametrs_lr,\n",
    "    cv=5,\n",
    "    verbose=True,\n",
    "    n_jobs=-1,\n",
    "    scoring='f1'\n",
    ")\n",
    "# обучим на тренировочных данных\n",
    "lr.fit(X_train, y_train)\n",
    "\n",
    "# найдем лучший f1\n",
    "f1_lr_train = lr.best_score_\n",
    "best_lr = lr.best_estimator_\n",
    "\n",
    "print('\\033[1m'+ 'Модель \"Logistic Regression\"'+'\\033[0m')\n",
    "print('\\033[1m'+'f1:'+'\\033[0m', f1_lr_train)\n",
    "print('='*75)\n",
    "print(\"Лучшие параметры для Logistic Regression: \\n\", lr.best_params_)\n",
    "print('='*75)"
   ]
  },
  {
   "cell_type": "markdown",
   "id": "acfe7bb1-f991-4103-acf6-8507d8bd947d",
   "metadata": {
    "tags": []
   },
   "source": [
    "## 4. Результаты моделей на обучающей выборке"
   ]
  },
  {
   "cell_type": "code",
   "execution_count": 38,
   "id": "7cee94cd-998f-4ecc-85ce-febb487691b9",
   "metadata": {
    "tags": []
   },
   "outputs": [
    {
     "data": {
      "text/html": [
       "<div>\n",
       "<style scoped>\n",
       "    .dataframe tbody tr th:only-of-type {\n",
       "        vertical-align: middle;\n",
       "    }\n",
       "\n",
       "    .dataframe tbody tr th {\n",
       "        vertical-align: top;\n",
       "    }\n",
       "\n",
       "    .dataframe thead th {\n",
       "        text-align: right;\n",
       "    }\n",
       "</style>\n",
       "<table border=\"1\" class=\"dataframe\">\n",
       "  <thead>\n",
       "    <tr style=\"text-align: right;\">\n",
       "      <th></th>\n",
       "      <th>f1 на обучающей выборке</th>\n",
       "    </tr>\n",
       "  </thead>\n",
       "  <tbody>\n",
       "    <tr>\n",
       "      <th>LogisticRegression</th>\n",
       "      <td>0.757553</td>\n",
       "    </tr>\n",
       "    <tr>\n",
       "      <th>DecisionTreeClassifier</th>\n",
       "      <td>0.664615</td>\n",
       "    </tr>\n",
       "    <tr>\n",
       "      <th>RandomForestClassifier</th>\n",
       "      <td>0.393064</td>\n",
       "    </tr>\n",
       "  </tbody>\n",
       "</table>\n",
       "</div>"
      ],
      "text/plain": [
       "                        f1 на обучающей выборке\n",
       "LogisticRegression                     0.757553\n",
       "DecisionTreeClassifier                 0.664615\n",
       "RandomForestClassifier                 0.393064"
      ]
     },
     "execution_count": 38,
     "metadata": {},
     "output_type": "execute_result"
    }
   ],
   "source": [
    "# таблица f1 моделей на обучающей выборке\n",
    "index_result =['LogisticRegression', 'DecisionTreeClassifier', 'RandomForestClassifier']\n",
    "data_result = {'f1 на обучающей выборке':[f1_lr_train, f1_dt_train, f1_rf_train]}\n",
    "\n",
    "result = pd.DataFrame(data=data_result, index=index_result)\n",
    "result"
   ]
  },
  {
   "cell_type": "markdown",
   "id": "79ac2e4e-953f-4356-afe7-d10cabc04455",
   "metadata": {
    "tags": []
   },
   "source": [
    "## 5. Проверка лучшей модели"
   ]
  },
  {
   "cell_type": "markdown",
   "id": "c13f0537-3831-441a-a2b9-64a9966c9e96",
   "metadata": {},
   "source": [
    "### 5.1 Получим предсказание f1 для тестовой выборки"
   ]
  },
  {
   "cell_type": "code",
   "execution_count": 39,
   "id": "93445801-2c54-41e1-9f82-1cdec07efee2",
   "metadata": {},
   "outputs": [
    {
     "name": "stdout",
     "output_type": "stream",
     "text": [
      "\u001b[1mМодель \"Linear Regression\"\u001b[0m\n",
      "\u001b[1mf1:\u001b[0m 0.7646730016769144\n",
      "==============================\n"
     ]
    }
   ],
   "source": [
    "# предсказания лучшей модели Linear Regression\n",
    "pred_test_lr = best_lr.predict(X_test_lr)\n",
    "\n",
    "f1_lr_test = f1_score(y_test, pred_test_lr)\n",
    "\n",
    "print('\\033[1m'+ 'Модель \"Linear Regression\"'+'\\033[0m')\n",
    "print('\\033[1m'+'f1:'+'\\033[0m', f1_lr_test)\n",
    "print('='*30)"
   ]
  },
  {
   "cell_type": "markdown",
   "id": "3f2b60b8-1c53-48e9-825b-0476310db2a3",
   "metadata": {
    "tags": []
   },
   "source": [
    "## Вывод"
   ]
  },
  {
   "cell_type": "markdown",
   "id": "83b3fa89-9f38-4f68-afbc-84b2a0660a93",
   "metadata": {},
   "source": [
    "1. Загруженны и изученны исходные данные:\n",
    "* получены данные со 159292 комментариями с разметкой о токсичности;\n",
    "* пропуски и дубликаты в данных не обнаружены;\n",
    "* удален избыточный признак 'Unnamed: 0'; \n",
    "* выявлено, что целевой признак не сбалансирован.\n",
    "\n",
    "2. Проведена подготовка данных:\n",
    "* текст комментариев переведен в нижний регистр, очищен от символов;\n",
    "* слова приведены к начальным формамм (лемматизированы);\n",
    "* удалены стоп-слова.\n",
    "\n",
    "3. Данные подготовлены к обучению, разделеные на выборки:\n",
    "* выборки разделены на обучающую, тестовую в соотношении 9:1\n",
    "* проведена оценка частоты и важности слов, \n",
    "* выборки преобразованы в векторы.\n",
    "\n",
    "4. Были изучены три модели, подобраны гиперпараметры на обучающей выборке:\n",
    "* модель с лучшим показателем f1 - Linear Regression \n",
    "* на трейне - 0.7575\n",
    "\n",
    "5. Окончательная проверка лучшей модели проведена на тестовой выборке:\n",
    "* f1 модели Linear Regression = 0.7646\n",
    "* достигнут целевой результат f1 > 0.75"
   ]
  }
 ],
 "metadata": {
  "kernelspec": {
   "display_name": "Python 3 (ipykernel)",
   "language": "python",
   "name": "python3"
  },
  "language_info": {
   "codemirror_mode": {
    "name": "ipython",
    "version": 3
   },
   "file_extension": ".py",
   "mimetype": "text/x-python",
   "name": "python",
   "nbconvert_exporter": "python",
   "pygments_lexer": "ipython3",
   "version": "3.9.12"
  },
  "toc": {
   "base_numbering": 1,
   "nav_menu": {},
   "number_sections": true,
   "sideBar": true,
   "skip_h1_title": true,
   "title_cell": "Table of Contents",
   "title_sidebar": "Contents",
   "toc_cell": false,
   "toc_position": {},
   "toc_section_display": true,
   "toc_window_display": false
  }
 },
 "nbformat": 4,
 "nbformat_minor": 5
}

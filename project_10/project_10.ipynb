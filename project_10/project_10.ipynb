{
 "cells": [
  {
   "cell_type": "markdown",
   "id": "31793999-a427-4408-9625-0e5cb5d77f26",
   "metadata": {
    "tags": []
   },
   "source": [
    "# Прогнозирование оттока клиентов банка"
   ]
  },
  {
   "cell_type": "markdown",
   "id": "68d57492-721d-414e-a2be-ad31ed192a15",
   "metadata": {
    "tags": []
   },
   "source": [
    "## Описание проекта\n",
    "«Бета-Банк» теряет клиентов. Каждый месяц. Немного, но заметно.\\\n",
    "Банковские маркетологи посчитали: сохранять текущих клиентов дешевле, чем привлекать новых.\\\n",
    "Нужно спрогнозировать, уйдёт клиент из банка в ближайшее время или нет.\\\n",
    "Предоставлены исторические данные о поведении клиентов и расторжении договоров с банком"
   ]
  },
  {
   "cell_type": "markdown",
   "id": "d389bbf0-4bc7-4675-a8c6-979d864b7abc",
   "metadata": {
    "tags": []
   },
   "source": [
    "## Задачи проекта:\n",
    "- построить модель с предельно большим значением F1-меры\n",
    "- довести F1-меру min до 0.59\n",
    "- проверить F1-меру на тестовой выборке\n",
    "- дополнительно измерить AUC-ROC и сравнить её значение с F1-мерой"
   ]
  },
  {
   "cell_type": "markdown",
   "id": "9fa049e4-f9bb-4e9a-aaff-d626bb5daa15",
   "metadata": {
    "tags": []
   },
   "source": [
    "## 1. Открываем файл с данными и изучаем общую информацию"
   ]
  },
  {
   "cell_type": "markdown",
   "id": "5175ec26-ebd0-4e1c-abb0-66207c89c139",
   "metadata": {},
   "source": [
    "### 1.1. Импорт необходимых для работы библиотек, метрик и утилит"
   ]
  },
  {
   "cell_type": "code",
   "execution_count": 1,
   "id": "ac60af73-38e8-42de-a50a-03db81c83697",
   "metadata": {
    "tags": []
   },
   "outputs": [],
   "source": [
    "# импорт библиотек\n",
    "import pandas as pd\n",
    "import numpy as np\n",
    "import matplotlib.pyplot as plt\n",
    "import seaborn as sns\n",
    "\n",
    "import warnings\n",
    "import winsound\n",
    "from tqdm import tqdm\n",
    "\n",
    "# импорт моделей\n",
    "from sklearn.tree import DecisionTreeClassifier\n",
    "from sklearn.ensemble import RandomForestClassifier\n",
    "from sklearn.linear_model import LogisticRegression\n",
    "from sklearn.dummy import DummyClassifier\n",
    "from sklearn.model_selection import train_test_split\n",
    "from sklearn.model_selection import GridSearchCV\n",
    "\n",
    "# метрики\n",
    "from sklearn.metrics import accuracy_score\n",
    "from sklearn.metrics import confusion_matrix\n",
    "from sklearn.metrics import f1_score\n",
    "from sklearn.metrics import mean_absolute_error\n",
    "from sklearn.metrics import mean_squared_error\n",
    "from sklearn.metrics import precision_recall_curve\n",
    "from sklearn.metrics import precision_score\n",
    "from sklearn.metrics import recall_score\n",
    "from sklearn.metrics import r2_score\n",
    "from sklearn.metrics import roc_auc_score\n",
    "from sklearn.metrics import roc_curve\n",
    "from sklearn.metrics import mean_absolute_error\n",
    "from sklearn.metrics import mean_squared_error\n",
    "\n",
    "# утилиты \n",
    "from sklearn.utils import shuffle\n",
    "\n",
    "from sklearn.preprocessing import OrdinalEncoder\n",
    "from sklearn.preprocessing import StandardScaler"
   ]
  },
  {
   "cell_type": "markdown",
   "id": "adf041bc-bf54-4fec-a56a-55b20f193e47",
   "metadata": {},
   "source": [
    "### 1.2. Загрузка исходных данных"
   ]
  },
  {
   "cell_type": "code",
   "execution_count": 2,
   "id": "14437383-3d3b-4c45-902f-d1f3aed8ee77",
   "metadata": {},
   "outputs": [],
   "source": [
    "# загрузим исходные данные\n",
    "data = pd.read_csv('C:\\\\Users\\\\Mikhail\\\\Яндекс_Практикум\\\\data_set\\\\Churn.csv')"
   ]
  },
  {
   "cell_type": "code",
   "execution_count": 3,
   "id": "8c40b9c4-d0c0-45af-8a33-bf78992149ce",
   "metadata": {},
   "outputs": [
    {
     "name": "stdout",
     "output_type": "stream",
     "text": [
      "<class 'pandas.core.frame.DataFrame'>\n",
      "RangeIndex: 10000 entries, 0 to 9999\n",
      "Data columns (total 14 columns):\n",
      " #   Column           Non-Null Count  Dtype  \n",
      "---  ------           --------------  -----  \n",
      " 0   RowNumber        10000 non-null  int64  \n",
      " 1   CustomerId       10000 non-null  int64  \n",
      " 2   Surname          10000 non-null  object \n",
      " 3   CreditScore      10000 non-null  int64  \n",
      " 4   Geography        10000 non-null  object \n",
      " 5   Gender           10000 non-null  object \n",
      " 6   Age              10000 non-null  int64  \n",
      " 7   Tenure           9091 non-null   float64\n",
      " 8   Balance          10000 non-null  float64\n",
      " 9   NumOfProducts    10000 non-null  int64  \n",
      " 10  HasCrCard        10000 non-null  int64  \n",
      " 11  IsActiveMember   10000 non-null  int64  \n",
      " 12  EstimatedSalary  10000 non-null  float64\n",
      " 13  Exited           10000 non-null  int64  \n",
      "dtypes: float64(3), int64(8), object(3)\n",
      "memory usage: 1.1+ MB\n"
     ]
    },
    {
     "data": {
      "text/html": [
       "<div>\n",
       "<style scoped>\n",
       "    .dataframe tbody tr th:only-of-type {\n",
       "        vertical-align: middle;\n",
       "    }\n",
       "\n",
       "    .dataframe tbody tr th {\n",
       "        vertical-align: top;\n",
       "    }\n",
       "\n",
       "    .dataframe thead th {\n",
       "        text-align: right;\n",
       "    }\n",
       "</style>\n",
       "<table border=\"1\" class=\"dataframe\">\n",
       "  <thead>\n",
       "    <tr style=\"text-align: right;\">\n",
       "      <th></th>\n",
       "      <th>RowNumber</th>\n",
       "      <th>CustomerId</th>\n",
       "      <th>Surname</th>\n",
       "      <th>CreditScore</th>\n",
       "      <th>Geography</th>\n",
       "      <th>Gender</th>\n",
       "      <th>Age</th>\n",
       "      <th>Tenure</th>\n",
       "      <th>Balance</th>\n",
       "      <th>NumOfProducts</th>\n",
       "      <th>HasCrCard</th>\n",
       "      <th>IsActiveMember</th>\n",
       "      <th>EstimatedSalary</th>\n",
       "      <th>Exited</th>\n",
       "    </tr>\n",
       "  </thead>\n",
       "  <tbody>\n",
       "    <tr>\n",
       "      <th>0</th>\n",
       "      <td>1</td>\n",
       "      <td>15634602</td>\n",
       "      <td>Hargrave</td>\n",
       "      <td>619</td>\n",
       "      <td>France</td>\n",
       "      <td>Female</td>\n",
       "      <td>42</td>\n",
       "      <td>2.0</td>\n",
       "      <td>0.00</td>\n",
       "      <td>1</td>\n",
       "      <td>1</td>\n",
       "      <td>1</td>\n",
       "      <td>101348.88</td>\n",
       "      <td>1</td>\n",
       "    </tr>\n",
       "    <tr>\n",
       "      <th>1</th>\n",
       "      <td>2</td>\n",
       "      <td>15647311</td>\n",
       "      <td>Hill</td>\n",
       "      <td>608</td>\n",
       "      <td>Spain</td>\n",
       "      <td>Female</td>\n",
       "      <td>41</td>\n",
       "      <td>1.0</td>\n",
       "      <td>83807.86</td>\n",
       "      <td>1</td>\n",
       "      <td>0</td>\n",
       "      <td>1</td>\n",
       "      <td>112542.58</td>\n",
       "      <td>0</td>\n",
       "    </tr>\n",
       "    <tr>\n",
       "      <th>2</th>\n",
       "      <td>3</td>\n",
       "      <td>15619304</td>\n",
       "      <td>Onio</td>\n",
       "      <td>502</td>\n",
       "      <td>France</td>\n",
       "      <td>Female</td>\n",
       "      <td>42</td>\n",
       "      <td>8.0</td>\n",
       "      <td>159660.80</td>\n",
       "      <td>3</td>\n",
       "      <td>1</td>\n",
       "      <td>0</td>\n",
       "      <td>113931.57</td>\n",
       "      <td>1</td>\n",
       "    </tr>\n",
       "    <tr>\n",
       "      <th>3</th>\n",
       "      <td>4</td>\n",
       "      <td>15701354</td>\n",
       "      <td>Boni</td>\n",
       "      <td>699</td>\n",
       "      <td>France</td>\n",
       "      <td>Female</td>\n",
       "      <td>39</td>\n",
       "      <td>1.0</td>\n",
       "      <td>0.00</td>\n",
       "      <td>2</td>\n",
       "      <td>0</td>\n",
       "      <td>0</td>\n",
       "      <td>93826.63</td>\n",
       "      <td>0</td>\n",
       "    </tr>\n",
       "    <tr>\n",
       "      <th>4</th>\n",
       "      <td>5</td>\n",
       "      <td>15737888</td>\n",
       "      <td>Mitchell</td>\n",
       "      <td>850</td>\n",
       "      <td>Spain</td>\n",
       "      <td>Female</td>\n",
       "      <td>43</td>\n",
       "      <td>2.0</td>\n",
       "      <td>125510.82</td>\n",
       "      <td>1</td>\n",
       "      <td>1</td>\n",
       "      <td>1</td>\n",
       "      <td>79084.10</td>\n",
       "      <td>0</td>\n",
       "    </tr>\n",
       "    <tr>\n",
       "      <th>5</th>\n",
       "      <td>6</td>\n",
       "      <td>15574012</td>\n",
       "      <td>Chu</td>\n",
       "      <td>645</td>\n",
       "      <td>Spain</td>\n",
       "      <td>Male</td>\n",
       "      <td>44</td>\n",
       "      <td>8.0</td>\n",
       "      <td>113755.78</td>\n",
       "      <td>2</td>\n",
       "      <td>1</td>\n",
       "      <td>0</td>\n",
       "      <td>149756.71</td>\n",
       "      <td>1</td>\n",
       "    </tr>\n",
       "    <tr>\n",
       "      <th>6</th>\n",
       "      <td>7</td>\n",
       "      <td>15592531</td>\n",
       "      <td>Bartlett</td>\n",
       "      <td>822</td>\n",
       "      <td>France</td>\n",
       "      <td>Male</td>\n",
       "      <td>50</td>\n",
       "      <td>7.0</td>\n",
       "      <td>0.00</td>\n",
       "      <td>2</td>\n",
       "      <td>1</td>\n",
       "      <td>1</td>\n",
       "      <td>10062.80</td>\n",
       "      <td>0</td>\n",
       "    </tr>\n",
       "    <tr>\n",
       "      <th>7</th>\n",
       "      <td>8</td>\n",
       "      <td>15656148</td>\n",
       "      <td>Obinna</td>\n",
       "      <td>376</td>\n",
       "      <td>Germany</td>\n",
       "      <td>Female</td>\n",
       "      <td>29</td>\n",
       "      <td>4.0</td>\n",
       "      <td>115046.74</td>\n",
       "      <td>4</td>\n",
       "      <td>1</td>\n",
       "      <td>0</td>\n",
       "      <td>119346.88</td>\n",
       "      <td>1</td>\n",
       "    </tr>\n",
       "    <tr>\n",
       "      <th>8</th>\n",
       "      <td>9</td>\n",
       "      <td>15792365</td>\n",
       "      <td>He</td>\n",
       "      <td>501</td>\n",
       "      <td>France</td>\n",
       "      <td>Male</td>\n",
       "      <td>44</td>\n",
       "      <td>4.0</td>\n",
       "      <td>142051.07</td>\n",
       "      <td>2</td>\n",
       "      <td>0</td>\n",
       "      <td>1</td>\n",
       "      <td>74940.50</td>\n",
       "      <td>0</td>\n",
       "    </tr>\n",
       "    <tr>\n",
       "      <th>9</th>\n",
       "      <td>10</td>\n",
       "      <td>15592389</td>\n",
       "      <td>H?</td>\n",
       "      <td>684</td>\n",
       "      <td>France</td>\n",
       "      <td>Male</td>\n",
       "      <td>27</td>\n",
       "      <td>2.0</td>\n",
       "      <td>134603.88</td>\n",
       "      <td>1</td>\n",
       "      <td>1</td>\n",
       "      <td>1</td>\n",
       "      <td>71725.73</td>\n",
       "      <td>0</td>\n",
       "    </tr>\n",
       "  </tbody>\n",
       "</table>\n",
       "</div>"
      ],
      "text/plain": [
       "   RowNumber  CustomerId   Surname  CreditScore Geography  Gender  Age  \\\n",
       "0          1    15634602  Hargrave          619    France  Female   42   \n",
       "1          2    15647311      Hill          608     Spain  Female   41   \n",
       "2          3    15619304      Onio          502    France  Female   42   \n",
       "3          4    15701354      Boni          699    France  Female   39   \n",
       "4          5    15737888  Mitchell          850     Spain  Female   43   \n",
       "5          6    15574012       Chu          645     Spain    Male   44   \n",
       "6          7    15592531  Bartlett          822    France    Male   50   \n",
       "7          8    15656148    Obinna          376   Germany  Female   29   \n",
       "8          9    15792365        He          501    France    Male   44   \n",
       "9         10    15592389        H?          684    France    Male   27   \n",
       "\n",
       "   Tenure    Balance  NumOfProducts  HasCrCard  IsActiveMember  \\\n",
       "0     2.0       0.00              1          1               1   \n",
       "1     1.0   83807.86              1          0               1   \n",
       "2     8.0  159660.80              3          1               0   \n",
       "3     1.0       0.00              2          0               0   \n",
       "4     2.0  125510.82              1          1               1   \n",
       "5     8.0  113755.78              2          1               0   \n",
       "6     7.0       0.00              2          1               1   \n",
       "7     4.0  115046.74              4          1               0   \n",
       "8     4.0  142051.07              2          0               1   \n",
       "9     2.0  134603.88              1          1               1   \n",
       "\n",
       "   EstimatedSalary  Exited  \n",
       "0        101348.88       1  \n",
       "1        112542.58       0  \n",
       "2        113931.57       1  \n",
       "3         93826.63       0  \n",
       "4         79084.10       0  \n",
       "5        149756.71       1  \n",
       "6         10062.80       0  \n",
       "7        119346.88       1  \n",
       "8         74940.50       0  \n",
       "9         71725.73       0  "
      ]
     },
     "execution_count": 3,
     "metadata": {},
     "output_type": "execute_result"
    }
   ],
   "source": [
    "# общая информация о таблице\n",
    "data.info()\n",
    "data.head(10)"
   ]
  },
  {
   "cell_type": "markdown",
   "id": "9656ebfb-3646-4aa7-a111-56cc7e9b1e80",
   "metadata": {},
   "source": [
    "### 1.3. Описание данных"
   ]
  },
  {
   "cell_type": "markdown",
   "id": "c48b5e9a-a2ac-451d-8157-6e6b84a8ee2b",
   "metadata": {},
   "source": [
    "**Признаки**\n",
    "\n",
    "- **RowNumber** — индекс строки в данных\n",
    "- **CustomerId** — уникальный идентификатор клиента\n",
    "- **Surname** — фамилия\n",
    "- **CreditScore** — кредитный рейтинг\n",
    "- **Geography** — страна проживания\n",
    "- **Gender** — пол\n",
    "- **Age** — возраст\n",
    "- **Tenure** — сколько лет человек является клиентом банка\n",
    "- **Balance** — баланс на счёте\n",
    "- **NumOfProducts** — количество продуктов банка, используемых клиентом\n",
    "- **HasCrCard** — наличие кредитной карты\n",
    "- **IsActiveMember** — активность клиента\n",
    "- **EstimatedSalary** — предполагаемая зарплата\n",
    "\n",
    "**Целевой признак**\n",
    "- **Exited** — факт ухода клиента"
   ]
  },
  {
   "cell_type": "code",
   "execution_count": 4,
   "id": "f2eb310c-1bfa-4440-94b8-bbc733a660cf",
   "metadata": {},
   "outputs": [
    {
     "data": {
      "text/plain": [
       "RowNumber            0\n",
       "CustomerId           0\n",
       "Surname              0\n",
       "CreditScore          0\n",
       "Geography            0\n",
       "Gender               0\n",
       "Age                  0\n",
       "Tenure             909\n",
       "Balance              0\n",
       "NumOfProducts        0\n",
       "HasCrCard            0\n",
       "IsActiveMember       0\n",
       "EstimatedSalary      0\n",
       "Exited               0\n",
       "dtype: int64"
      ]
     },
     "execution_count": 4,
     "metadata": {},
     "output_type": "execute_result"
    }
   ],
   "source": [
    "# определим количество пропусков\n",
    "data.isna().sum()"
   ]
  },
  {
   "cell_type": "markdown",
   "id": "a6eb3742-be0e-4dae-8602-a67b90b4644b",
   "metadata": {
    "tags": []
   },
   "source": [
    "### Выводы"
   ]
  },
  {
   "cell_type": "markdown",
   "id": "7c3b34a4-ffbe-4cc2-b698-2ec4f05d7961",
   "metadata": {},
   "source": [
    "1. Данные в ячейках соответствуют типу и описанию.\n",
    "2. Названия столбцов приведем к нижнему регистру, а слова разделим нижним подчеркиванием.\n",
    "3. Обнаружены пропуски в столбце Tenure (сколько лет человек является клиентом банка), что можно сделать:\n",
    "-  хороший вариант - выяснить у Заказчика причину пропусков и восстановить данные, но такой возможности нет;\n",
    "-  удалять строки с пропусками нежелательно, так как это почти 10% исходных данных;\n",
    "-  могу предположить, что пропуски связаны с тем, что клиент обслуживается в банке меньше года и тогда можно будет заполнить их нулем (то есть неполный год)\n",
    "4. Столбец **RowNumber** (индекс строки в данных) для исследования не потребуется и его можно удалить уже на этом этапе.\n",
    "5. Столбцы **CustomerId** (уникальный идентификатор клиента) и **Surname** (фамилия) - это уникальные значения клиентов и скорее всего не повлияют на обучение модели. Предполагаю, что фамилия и id не влияют на продолжительность сотрудничества с банком, вероятно, эти столбцы тоже можно будет удалить. \n",
    "6. Столбцы **Geography** (страна проживания) и **Age** (возраст) относятся к категориальным признакам и потребуют кодирования.\n",
    "7. Сохраним исходные данные в **data**, а данные для обучения будем готовить в **df**."
   ]
  },
  {
   "cell_type": "code",
   "execution_count": 5,
   "id": "5671bb77-0ad2-4f20-a320-de3191ebc560",
   "metadata": {},
   "outputs": [],
   "source": [
    "# исходные данные оставим в data, готовить данные для обучения будем в df\n",
    "df = data.copy()"
   ]
  },
  {
   "cell_type": "code",
   "execution_count": 6,
   "id": "4d255184-c10c-4449-a8d8-e4c2c05e81cb",
   "metadata": {},
   "outputs": [],
   "source": [
    "# удалим первый столбец RowNumber(индекс строки в данных)\n",
    "df.drop(columns=data.columns [0], axis=1, inplace=True)"
   ]
  },
  {
   "cell_type": "code",
   "execution_count": 7,
   "id": "b4006dd3-f45c-448f-b913-46c3f86a1030",
   "metadata": {},
   "outputs": [],
   "source": [
    "# приведем регистр в названиях столбцов к нижнему значению\n",
    "df.columns = df.columns.str.lower()"
   ]
  },
  {
   "cell_type": "code",
   "execution_count": 8,
   "id": "2281fe8a-57bf-4660-8a02-3d16628a8fda",
   "metadata": {},
   "outputs": [],
   "source": [
    "# переименование столбцов\n",
    "df = df.rename(columns={'customerid':'customer_id',\n",
    "          'creditscore':'credit_score',\n",
    "          'numofproducts':'num_of_products',\n",
    "          'hascrcard':'has_cr_card',\n",
    "          'isactivemember':'is_active_member',\n",
    "          'estimatedsalary':'estimated_salary'}\n",
    ")"
   ]
  },
  {
   "cell_type": "code",
   "execution_count": 9,
   "id": "8597b9b5-1f22-4f74-810f-f45fcb5d039a",
   "metadata": {},
   "outputs": [
    {
     "data": {
      "text/plain": [
       "1.0     952\n",
       "2.0     950\n",
       "8.0     933\n",
       "3.0     928\n",
       "5.0     927\n",
       "7.0     925\n",
       "4.0     885\n",
       "9.0     882\n",
       "6.0     881\n",
       "10.0    446\n",
       "0.0     382\n",
       "Name: tenure, dtype: int64"
      ]
     },
     "execution_count": 9,
     "metadata": {},
     "output_type": "execute_result"
    }
   ],
   "source": [
    "# изучим уникальные названия в столбце с 'tenure'\n",
    "df.tenure.value_counts()"
   ]
  },
  {
   "cell_type": "markdown",
   "id": "55565e07-b262-4c87-8d67-226625ab600a",
   "metadata": {},
   "source": [
    "В данных есть значения равные \"0\", значит заполнять пропуски \"0\" не будем.\\\n",
    "Примем решение о заполнении на следующем этапе."
   ]
  },
  {
   "cell_type": "code",
   "execution_count": 10,
   "id": "068f64ed-bb58-4bad-baaa-904b95453c62",
   "metadata": {},
   "outputs": [
    {
     "data": {
      "text/plain": [
       "0"
      ]
     },
     "execution_count": 10,
     "metadata": {},
     "output_type": "execute_result"
    }
   ],
   "source": [
    "# подсчёт явных дубликатов\n",
    "df.duplicated().sum()"
   ]
  },
  {
   "cell_type": "code",
   "execution_count": 11,
   "id": "26cadf13-e6bf-48f5-b999-7b6eeb053617",
   "metadata": {},
   "outputs": [],
   "source": [
    "# удалим столбцы с уникальными данными клиентов, которые не повлияют на обучение модели\n",
    "df = df.drop(['customer_id', 'surname'], axis=1)"
   ]
  },
  {
   "cell_type": "code",
   "execution_count": 12,
   "id": "4f066a6e-b677-4883-8124-2f6feba13523",
   "metadata": {},
   "outputs": [
    {
     "data": {
      "text/plain": [
       "Index(['credit_score', 'geography', 'gender', 'age', 'tenure', 'balance',\n",
       "       'num_of_products', 'has_cr_card', 'is_active_member',\n",
       "       'estimated_salary', 'exited'],\n",
       "      dtype='object')"
      ]
     },
     "execution_count": 12,
     "metadata": {},
     "output_type": "execute_result"
    }
   ],
   "source": [
    "df.columns"
   ]
  },
  {
   "cell_type": "code",
   "execution_count": 13,
   "id": "c615bb8d-5578-4755-b8f5-49edac8e2153",
   "metadata": {},
   "outputs": [
    {
     "data": {
      "text/html": [
       "<div>\n",
       "<style scoped>\n",
       "    .dataframe tbody tr th:only-of-type {\n",
       "        vertical-align: middle;\n",
       "    }\n",
       "\n",
       "    .dataframe tbody tr th {\n",
       "        vertical-align: top;\n",
       "    }\n",
       "\n",
       "    .dataframe thead th {\n",
       "        text-align: right;\n",
       "    }\n",
       "</style>\n",
       "<table border=\"1\" class=\"dataframe\">\n",
       "  <thead>\n",
       "    <tr style=\"text-align: right;\">\n",
       "      <th></th>\n",
       "      <th>credit_score</th>\n",
       "      <th>geography</th>\n",
       "      <th>gender</th>\n",
       "      <th>age</th>\n",
       "      <th>tenure</th>\n",
       "      <th>balance</th>\n",
       "      <th>num_of_products</th>\n",
       "      <th>has_cr_card</th>\n",
       "      <th>is_active_member</th>\n",
       "      <th>estimated_salary</th>\n",
       "      <th>exited</th>\n",
       "    </tr>\n",
       "  </thead>\n",
       "  <tbody>\n",
       "    <tr>\n",
       "      <th>0</th>\n",
       "      <td>619</td>\n",
       "      <td>France</td>\n",
       "      <td>Female</td>\n",
       "      <td>42</td>\n",
       "      <td>2.0</td>\n",
       "      <td>0.00</td>\n",
       "      <td>1</td>\n",
       "      <td>1</td>\n",
       "      <td>1</td>\n",
       "      <td>101348.88</td>\n",
       "      <td>1</td>\n",
       "    </tr>\n",
       "    <tr>\n",
       "      <th>1</th>\n",
       "      <td>608</td>\n",
       "      <td>Spain</td>\n",
       "      <td>Female</td>\n",
       "      <td>41</td>\n",
       "      <td>1.0</td>\n",
       "      <td>83807.86</td>\n",
       "      <td>1</td>\n",
       "      <td>0</td>\n",
       "      <td>1</td>\n",
       "      <td>112542.58</td>\n",
       "      <td>0</td>\n",
       "    </tr>\n",
       "    <tr>\n",
       "      <th>2</th>\n",
       "      <td>502</td>\n",
       "      <td>France</td>\n",
       "      <td>Female</td>\n",
       "      <td>42</td>\n",
       "      <td>8.0</td>\n",
       "      <td>159660.80</td>\n",
       "      <td>3</td>\n",
       "      <td>1</td>\n",
       "      <td>0</td>\n",
       "      <td>113931.57</td>\n",
       "      <td>1</td>\n",
       "    </tr>\n",
       "    <tr>\n",
       "      <th>3</th>\n",
       "      <td>699</td>\n",
       "      <td>France</td>\n",
       "      <td>Female</td>\n",
       "      <td>39</td>\n",
       "      <td>1.0</td>\n",
       "      <td>0.00</td>\n",
       "      <td>2</td>\n",
       "      <td>0</td>\n",
       "      <td>0</td>\n",
       "      <td>93826.63</td>\n",
       "      <td>0</td>\n",
       "    </tr>\n",
       "    <tr>\n",
       "      <th>4</th>\n",
       "      <td>850</td>\n",
       "      <td>Spain</td>\n",
       "      <td>Female</td>\n",
       "      <td>43</td>\n",
       "      <td>2.0</td>\n",
       "      <td>125510.82</td>\n",
       "      <td>1</td>\n",
       "      <td>1</td>\n",
       "      <td>1</td>\n",
       "      <td>79084.10</td>\n",
       "      <td>0</td>\n",
       "    </tr>\n",
       "    <tr>\n",
       "      <th>5</th>\n",
       "      <td>645</td>\n",
       "      <td>Spain</td>\n",
       "      <td>Male</td>\n",
       "      <td>44</td>\n",
       "      <td>8.0</td>\n",
       "      <td>113755.78</td>\n",
       "      <td>2</td>\n",
       "      <td>1</td>\n",
       "      <td>0</td>\n",
       "      <td>149756.71</td>\n",
       "      <td>1</td>\n",
       "    </tr>\n",
       "    <tr>\n",
       "      <th>6</th>\n",
       "      <td>822</td>\n",
       "      <td>France</td>\n",
       "      <td>Male</td>\n",
       "      <td>50</td>\n",
       "      <td>7.0</td>\n",
       "      <td>0.00</td>\n",
       "      <td>2</td>\n",
       "      <td>1</td>\n",
       "      <td>1</td>\n",
       "      <td>10062.80</td>\n",
       "      <td>0</td>\n",
       "    </tr>\n",
       "    <tr>\n",
       "      <th>7</th>\n",
       "      <td>376</td>\n",
       "      <td>Germany</td>\n",
       "      <td>Female</td>\n",
       "      <td>29</td>\n",
       "      <td>4.0</td>\n",
       "      <td>115046.74</td>\n",
       "      <td>4</td>\n",
       "      <td>1</td>\n",
       "      <td>0</td>\n",
       "      <td>119346.88</td>\n",
       "      <td>1</td>\n",
       "    </tr>\n",
       "    <tr>\n",
       "      <th>8</th>\n",
       "      <td>501</td>\n",
       "      <td>France</td>\n",
       "      <td>Male</td>\n",
       "      <td>44</td>\n",
       "      <td>4.0</td>\n",
       "      <td>142051.07</td>\n",
       "      <td>2</td>\n",
       "      <td>0</td>\n",
       "      <td>1</td>\n",
       "      <td>74940.50</td>\n",
       "      <td>0</td>\n",
       "    </tr>\n",
       "    <tr>\n",
       "      <th>9</th>\n",
       "      <td>684</td>\n",
       "      <td>France</td>\n",
       "      <td>Male</td>\n",
       "      <td>27</td>\n",
       "      <td>2.0</td>\n",
       "      <td>134603.88</td>\n",
       "      <td>1</td>\n",
       "      <td>1</td>\n",
       "      <td>1</td>\n",
       "      <td>71725.73</td>\n",
       "      <td>0</td>\n",
       "    </tr>\n",
       "  </tbody>\n",
       "</table>\n",
       "</div>"
      ],
      "text/plain": [
       "   credit_score geography  gender  age  tenure    balance  num_of_products  \\\n",
       "0           619    France  Female   42     2.0       0.00                1   \n",
       "1           608     Spain  Female   41     1.0   83807.86                1   \n",
       "2           502    France  Female   42     8.0  159660.80                3   \n",
       "3           699    France  Female   39     1.0       0.00                2   \n",
       "4           850     Spain  Female   43     2.0  125510.82                1   \n",
       "5           645     Spain    Male   44     8.0  113755.78                2   \n",
       "6           822    France    Male   50     7.0       0.00                2   \n",
       "7           376   Germany  Female   29     4.0  115046.74                4   \n",
       "8           501    France    Male   44     4.0  142051.07                2   \n",
       "9           684    France    Male   27     2.0  134603.88                1   \n",
       "\n",
       "   has_cr_card  is_active_member  estimated_salary  exited  \n",
       "0            1                 1         101348.88       1  \n",
       "1            0                 1         112542.58       0  \n",
       "2            1                 0         113931.57       1  \n",
       "3            0                 0          93826.63       0  \n",
       "4            1                 1          79084.10       0  \n",
       "5            1                 0         149756.71       1  \n",
       "6            1                 1          10062.80       0  \n",
       "7            1                 0         119346.88       1  \n",
       "8            0                 1          74940.50       0  \n",
       "9            1                 1          71725.73       0  "
      ]
     },
     "execution_count": 13,
     "metadata": {},
     "output_type": "execute_result"
    }
   ],
   "source": [
    "# проверим изменения\n",
    "df.head(10)"
   ]
  },
  {
   "cell_type": "code",
   "execution_count": 14,
   "id": "e6cd6cd8-834f-4e4b-b85f-3455c440269b",
   "metadata": {},
   "outputs": [
    {
     "data": {
      "text/html": [
       "<div>\n",
       "<style scoped>\n",
       "    .dataframe tbody tr th:only-of-type {\n",
       "        vertical-align: middle;\n",
       "    }\n",
       "\n",
       "    .dataframe tbody tr th {\n",
       "        vertical-align: top;\n",
       "    }\n",
       "\n",
       "    .dataframe thead th {\n",
       "        text-align: right;\n",
       "    }\n",
       "</style>\n",
       "<table border=\"1\" class=\"dataframe\">\n",
       "  <thead>\n",
       "    <tr style=\"text-align: right;\">\n",
       "      <th></th>\n",
       "      <th>credit_score</th>\n",
       "      <th>age</th>\n",
       "      <th>tenure</th>\n",
       "      <th>balance</th>\n",
       "      <th>num_of_products</th>\n",
       "      <th>has_cr_card</th>\n",
       "      <th>is_active_member</th>\n",
       "      <th>estimated_salary</th>\n",
       "      <th>exited</th>\n",
       "    </tr>\n",
       "  </thead>\n",
       "  <tbody>\n",
       "    <tr>\n",
       "      <th>credit_score</th>\n",
       "      <td>1.000000</td>\n",
       "      <td>-0.003965</td>\n",
       "      <td>-0.000062</td>\n",
       "      <td>0.006268</td>\n",
       "      <td>0.012238</td>\n",
       "      <td>-0.005458</td>\n",
       "      <td>0.025651</td>\n",
       "      <td>-0.001384</td>\n",
       "      <td>-0.027094</td>\n",
       "    </tr>\n",
       "    <tr>\n",
       "      <th>age</th>\n",
       "      <td>-0.003965</td>\n",
       "      <td>1.000000</td>\n",
       "      <td>-0.013134</td>\n",
       "      <td>0.028308</td>\n",
       "      <td>-0.030680</td>\n",
       "      <td>-0.011721</td>\n",
       "      <td>0.085472</td>\n",
       "      <td>-0.007201</td>\n",
       "      <td>0.285323</td>\n",
       "    </tr>\n",
       "    <tr>\n",
       "      <th>tenure</th>\n",
       "      <td>-0.000062</td>\n",
       "      <td>-0.013134</td>\n",
       "      <td>1.000000</td>\n",
       "      <td>-0.007911</td>\n",
       "      <td>0.011979</td>\n",
       "      <td>0.027232</td>\n",
       "      <td>-0.032178</td>\n",
       "      <td>0.010520</td>\n",
       "      <td>-0.016761</td>\n",
       "    </tr>\n",
       "    <tr>\n",
       "      <th>balance</th>\n",
       "      <td>0.006268</td>\n",
       "      <td>0.028308</td>\n",
       "      <td>-0.007911</td>\n",
       "      <td>1.000000</td>\n",
       "      <td>-0.304180</td>\n",
       "      <td>-0.014858</td>\n",
       "      <td>-0.010084</td>\n",
       "      <td>0.012797</td>\n",
       "      <td>0.118533</td>\n",
       "    </tr>\n",
       "    <tr>\n",
       "      <th>num_of_products</th>\n",
       "      <td>0.012238</td>\n",
       "      <td>-0.030680</td>\n",
       "      <td>0.011979</td>\n",
       "      <td>-0.304180</td>\n",
       "      <td>1.000000</td>\n",
       "      <td>0.003183</td>\n",
       "      <td>0.009612</td>\n",
       "      <td>0.014204</td>\n",
       "      <td>-0.047820</td>\n",
       "    </tr>\n",
       "    <tr>\n",
       "      <th>has_cr_card</th>\n",
       "      <td>-0.005458</td>\n",
       "      <td>-0.011721</td>\n",
       "      <td>0.027232</td>\n",
       "      <td>-0.014858</td>\n",
       "      <td>0.003183</td>\n",
       "      <td>1.000000</td>\n",
       "      <td>-0.011866</td>\n",
       "      <td>-0.009933</td>\n",
       "      <td>-0.007138</td>\n",
       "    </tr>\n",
       "    <tr>\n",
       "      <th>is_active_member</th>\n",
       "      <td>0.025651</td>\n",
       "      <td>0.085472</td>\n",
       "      <td>-0.032178</td>\n",
       "      <td>-0.010084</td>\n",
       "      <td>0.009612</td>\n",
       "      <td>-0.011866</td>\n",
       "      <td>1.000000</td>\n",
       "      <td>-0.011421</td>\n",
       "      <td>-0.156128</td>\n",
       "    </tr>\n",
       "    <tr>\n",
       "      <th>estimated_salary</th>\n",
       "      <td>-0.001384</td>\n",
       "      <td>-0.007201</td>\n",
       "      <td>0.010520</td>\n",
       "      <td>0.012797</td>\n",
       "      <td>0.014204</td>\n",
       "      <td>-0.009933</td>\n",
       "      <td>-0.011421</td>\n",
       "      <td>1.000000</td>\n",
       "      <td>0.012097</td>\n",
       "    </tr>\n",
       "    <tr>\n",
       "      <th>exited</th>\n",
       "      <td>-0.027094</td>\n",
       "      <td>0.285323</td>\n",
       "      <td>-0.016761</td>\n",
       "      <td>0.118533</td>\n",
       "      <td>-0.047820</td>\n",
       "      <td>-0.007138</td>\n",
       "      <td>-0.156128</td>\n",
       "      <td>0.012097</td>\n",
       "      <td>1.000000</td>\n",
       "    </tr>\n",
       "  </tbody>\n",
       "</table>\n",
       "</div>"
      ],
      "text/plain": [
       "                  credit_score       age    tenure   balance  num_of_products  \\\n",
       "credit_score          1.000000 -0.003965 -0.000062  0.006268         0.012238   \n",
       "age                  -0.003965  1.000000 -0.013134  0.028308        -0.030680   \n",
       "tenure               -0.000062 -0.013134  1.000000 -0.007911         0.011979   \n",
       "balance               0.006268  0.028308 -0.007911  1.000000        -0.304180   \n",
       "num_of_products       0.012238 -0.030680  0.011979 -0.304180         1.000000   \n",
       "has_cr_card          -0.005458 -0.011721  0.027232 -0.014858         0.003183   \n",
       "is_active_member      0.025651  0.085472 -0.032178 -0.010084         0.009612   \n",
       "estimated_salary     -0.001384 -0.007201  0.010520  0.012797         0.014204   \n",
       "exited               -0.027094  0.285323 -0.016761  0.118533        -0.047820   \n",
       "\n",
       "                  has_cr_card  is_active_member  estimated_salary    exited  \n",
       "credit_score        -0.005458          0.025651         -0.001384 -0.027094  \n",
       "age                 -0.011721          0.085472         -0.007201  0.285323  \n",
       "tenure               0.027232         -0.032178          0.010520 -0.016761  \n",
       "balance             -0.014858         -0.010084          0.012797  0.118533  \n",
       "num_of_products      0.003183          0.009612          0.014204 -0.047820  \n",
       "has_cr_card          1.000000         -0.011866         -0.009933 -0.007138  \n",
       "is_active_member    -0.011866          1.000000         -0.011421 -0.156128  \n",
       "estimated_salary    -0.009933         -0.011421          1.000000  0.012097  \n",
       "exited              -0.007138         -0.156128          0.012097  1.000000  "
      ]
     },
     "execution_count": 14,
     "metadata": {},
     "output_type": "execute_result"
    }
   ],
   "source": [
    "# оценим корреляцию данных\n",
    "df.corr()"
   ]
  },
  {
   "cell_type": "markdown",
   "id": "110c0bbc-20da-467b-ae26-79ea6b99c5e1",
   "metadata": {},
   "source": [
    "Сильных корреляционных взаимосвязей между данными не обнаружено."
   ]
  },
  {
   "cell_type": "markdown",
   "id": "2c6d9b78-dfe7-4f9b-986c-c23e652c1b48",
   "metadata": {
    "tags": []
   },
   "source": [
    "## 2. Построим гистограммы для числовых столбцов таблицы"
   ]
  },
  {
   "cell_type": "code",
   "execution_count": 15,
   "id": "1e65f7d2-8d59-4cf3-a8bd-d5557fa85653",
   "metadata": {},
   "outputs": [
    {
     "data": {
      "image/png": "[encoded data removed]",
      "text/plain": [
       "<Figure size 1440x720 with 9 Axes>"
      ]
     },
     "metadata": {
      "needs_background": "light"
     },
     "output_type": "display_data"
    }
   ],
   "source": [
    "# отобразим числовые данные на графиках \n",
    "\n",
    "fig, axis = plt.subplots(3,3, figsize=(20,10))\n",
    "\n",
    "df['credit_score'].plot.hist(ax=axis[0,0], edgecolor='black', linewidth=1, bins=50).set(ylabel='credit_score');\n",
    "df['age'].plot.hist(ax=axis[0,1], edgecolor='black', linewidth=1, bins=25).set(ylabel='age');\n",
    "df['tenure'].plot.hist(ax=axis[0,2], edgecolor='black', linewidth=1, bins=11).set(ylabel='tenure');\n",
    "df['balance'].plot.hist(ax=axis[1,0], edgecolor='black', linewidth=1, bins=50).set(ylabel='balance');\n",
    "df['num_of_products'].plot.hist(ax=axis[1,1], edgecolor='black', linewidth=1, bins=5).set(ylabel='num_of_products');\n",
    "df['has_cr_card'].plot.hist(ax=axis[1,2], edgecolor='black', linewidth=1, bins=3).set(ylabel='has_cr_card');\n",
    "df['is_active_member'].plot.hist(ax=axis[2,0], edgecolor='black', linewidth=1, bins=3).set(ylabel='is_active_member');\n",
    "df['estimated_salary'].plot.hist(ax=axis[2,1], edgecolor='black', linewidth=1, bins=50).set(ylabel='estimated_salary');\n",
    "df['exited'].plot.hist(ax=axis[2,2], edgecolor='black', linewidth=1, bins=3).set(ylabel='exited');"
   ]
  },
  {
   "cell_type": "markdown",
   "id": "570eacdd-f5da-4bb4-93f3-baccfd9b97ad",
   "metadata": {
    "tags": []
   },
   "source": [
    "### Выводы"
   ]
  },
  {
   "cell_type": "markdown",
   "id": "693b776a-f6be-4cff-89f1-ac6232acfb61",
   "metadata": {},
   "source": [
    "1. Наблюдаются выбросы значений в столбцах: 'credit_score', 'balance';\n",
    "2. Хвосты в столбцах: 'age', num_of_products;\n",
    "3. Дисбаланс данных в столбцах: 'num_of_products', 'has_cr_card', 'exited'\n",
    "\n",
    "На следующих шагах проведем обработку данных, чтобы избавиться от выбросов и привести их к нормальному распределению."
   ]
  },
  {
   "cell_type": "markdown",
   "id": "8dd59325-1d28-4cb2-9b01-79a20c27d1a9",
   "metadata": {
    "tags": []
   },
   "source": [
    "## 3. Исследуем числовые признаки"
   ]
  },
  {
   "cell_type": "markdown",
   "id": "03c4bf72-6b42-44bb-9d08-5a315691428f",
   "metadata": {},
   "source": [
    "* 3.1. **credit_score** - кредитный рейтинг\n",
    "* 3.2. **age** - возраст\n",
    "* 3.3. **balance** - баланс\n",
    "* 3.4. **estimated_salary** - предполагаемая зарплата\n",
    "* 3.5. **tenur** - сколько лет является клиентом банка"
   ]
  },
  {
   "cell_type": "code",
   "execution_count": 16,
   "id": "16df5716-570f-46eb-ae04-b0a2a8785549",
   "metadata": {},
   "outputs": [
    {
     "data": {
      "text/html": [
       "<style type=\"text/css\">\n",
       "</style>\n",
       "<table id=\"T_451ab\">\n",
       "  <thead>\n",
       "    <tr>\n",
       "      <th class=\"blank level0\" >&nbsp;</th>\n",
       "      <th id=\"T_451ab_level0_col0\" class=\"col_heading level0 col0\" >credit_score</th>\n",
       "      <th id=\"T_451ab_level0_col1\" class=\"col_heading level0 col1\" >age</th>\n",
       "      <th id=\"T_451ab_level0_col2\" class=\"col_heading level0 col2\" >tenure</th>\n",
       "      <th id=\"T_451ab_level0_col3\" class=\"col_heading level0 col3\" >balance</th>\n",
       "      <th id=\"T_451ab_level0_col4\" class=\"col_heading level0 col4\" >estimated_salary</th>\n",
       "    </tr>\n",
       "  </thead>\n",
       "  <tbody>\n",
       "    <tr>\n",
       "      <th id=\"T_451ab_level0_row0\" class=\"row_heading level0 row0\" >count</th>\n",
       "      <td id=\"T_451ab_row0_col0\" class=\"data row0 col0\" >10,000.00</td>\n",
       "      <td id=\"T_451ab_row0_col1\" class=\"data row0 col1\" >10,000.00</td>\n",
       "      <td id=\"T_451ab_row0_col2\" class=\"data row0 col2\" >9,091.00</td>\n",
       "      <td id=\"T_451ab_row0_col3\" class=\"data row0 col3\" >10,000.00</td>\n",
       "      <td id=\"T_451ab_row0_col4\" class=\"data row0 col4\" >10,000.00</td>\n",
       "    </tr>\n",
       "    <tr>\n",
       "      <th id=\"T_451ab_level0_row1\" class=\"row_heading level0 row1\" >min</th>\n",
       "      <td id=\"T_451ab_row1_col0\" class=\"data row1 col0\" >350.00</td>\n",
       "      <td id=\"T_451ab_row1_col1\" class=\"data row1 col1\" >18.00</td>\n",
       "      <td id=\"T_451ab_row1_col2\" class=\"data row1 col2\" >0.00</td>\n",
       "      <td id=\"T_451ab_row1_col3\" class=\"data row1 col3\" >0.00</td>\n",
       "      <td id=\"T_451ab_row1_col4\" class=\"data row1 col4\" >11.58</td>\n",
       "    </tr>\n",
       "    <tr>\n",
       "      <th id=\"T_451ab_level0_row2\" class=\"row_heading level0 row2\" >mean</th>\n",
       "      <td id=\"T_451ab_row2_col0\" class=\"data row2 col0\" >650.53</td>\n",
       "      <td id=\"T_451ab_row2_col1\" class=\"data row2 col1\" >38.92</td>\n",
       "      <td id=\"T_451ab_row2_col2\" class=\"data row2 col2\" >5.00</td>\n",
       "      <td id=\"T_451ab_row2_col3\" class=\"data row2 col3\" >76,485.89</td>\n",
       "      <td id=\"T_451ab_row2_col4\" class=\"data row2 col4\" >100,090.24</td>\n",
       "    </tr>\n",
       "    <tr>\n",
       "      <th id=\"T_451ab_level0_row3\" class=\"row_heading level0 row3\" >median</th>\n",
       "      <td id=\"T_451ab_row3_col0\" class=\"data row3 col0\" >652.00</td>\n",
       "      <td id=\"T_451ab_row3_col1\" class=\"data row3 col1\" >37.00</td>\n",
       "      <td id=\"T_451ab_row3_col2\" class=\"data row3 col2\" >5.00</td>\n",
       "      <td id=\"T_451ab_row3_col3\" class=\"data row3 col3\" >97,198.54</td>\n",
       "      <td id=\"T_451ab_row3_col4\" class=\"data row3 col4\" >100,193.91</td>\n",
       "    </tr>\n",
       "    <tr>\n",
       "      <th id=\"T_451ab_level0_row4\" class=\"row_heading level0 row4\" >max</th>\n",
       "      <td id=\"T_451ab_row4_col0\" class=\"data row4 col0\" >850.00</td>\n",
       "      <td id=\"T_451ab_row4_col1\" class=\"data row4 col1\" >92.00</td>\n",
       "      <td id=\"T_451ab_row4_col2\" class=\"data row4 col2\" >10.00</td>\n",
       "      <td id=\"T_451ab_row4_col3\" class=\"data row4 col3\" >250,898.09</td>\n",
       "      <td id=\"T_451ab_row4_col4\" class=\"data row4 col4\" >199,992.48</td>\n",
       "    </tr>\n",
       "  </tbody>\n",
       "</table>\n"
      ],
      "text/plain": [
       "<pandas.io.formats.style.Styler at 0x202b2e7da30>"
      ]
     },
     "execution_count": 16,
     "metadata": {},
     "output_type": "execute_result"
    }
   ],
   "source": [
    "# исследуем выбивающиеся значения в столбцах\n",
    "(\n",
    "    df[['credit_score', 'age', 'tenure', 'balance', 'estimated_salary']]\n",
    "    .apply (['count', 'min', 'mean', 'median', 'max'])\n",
    "    .style.format(\"{:,.2f}\")\n",
    ")"
   ]
  },
  {
   "cell_type": "markdown",
   "id": "85b85601-6602-4397-be0d-97ac3602157e",
   "metadata": {},
   "source": [
    "### 3.1. Столбец \"credit_score\""
   ]
  },
  {
   "cell_type": "code",
   "execution_count": 17,
   "id": "dd777040-5307-47f2-884b-7a6ba830bb46",
   "metadata": {
    "tags": []
   },
   "outputs": [
    {
     "data": {
      "image/png": "[encoded data removed]",
      "text/plain": [
       "<Figure size 1440x360 with 1 Axes>"
      ]
     },
     "metadata": {
      "needs_background": "light"
     },
     "output_type": "display_data"
    }
   ],
   "source": [
    "# построим гистограмму\n",
    "df.credit_score.hist(bins = 250, edgecolor='black', linewidth=1, figsize = (20,5));"
   ]
  },
  {
   "cell_type": "code",
   "execution_count": 18,
   "id": "cb8b52da-154e-4e4d-87bf-24b60322aaba",
   "metadata": {},
   "outputs": [
    {
     "data": {
      "text/html": [
       "<style type=\"text/css\">\n",
       "</style>\n",
       "<table id=\"T_80bea\">\n",
       "  <thead>\n",
       "    <tr>\n",
       "      <th class=\"blank level0\" >&nbsp;</th>\n",
       "      <th id=\"T_80bea_level0_col0\" class=\"col_heading level0 col0\" >credit_score</th>\n",
       "    </tr>\n",
       "  </thead>\n",
       "  <tbody>\n",
       "    <tr>\n",
       "      <th id=\"T_80bea_level0_row0\" class=\"row_heading level0 row0\" >count</th>\n",
       "      <td id=\"T_80bea_row0_col0\" class=\"data row0 col0\" >10,000.00</td>\n",
       "    </tr>\n",
       "    <tr>\n",
       "      <th id=\"T_80bea_level0_row1\" class=\"row_heading level0 row1\" >mean</th>\n",
       "      <td id=\"T_80bea_row1_col0\" class=\"data row1 col0\" >650.53</td>\n",
       "    </tr>\n",
       "    <tr>\n",
       "      <th id=\"T_80bea_level0_row2\" class=\"row_heading level0 row2\" >std</th>\n",
       "      <td id=\"T_80bea_row2_col0\" class=\"data row2 col0\" >96.65</td>\n",
       "    </tr>\n",
       "    <tr>\n",
       "      <th id=\"T_80bea_level0_row3\" class=\"row_heading level0 row3\" >min</th>\n",
       "      <td id=\"T_80bea_row3_col0\" class=\"data row3 col0\" >350.00</td>\n",
       "    </tr>\n",
       "    <tr>\n",
       "      <th id=\"T_80bea_level0_row4\" class=\"row_heading level0 row4\" >25%</th>\n",
       "      <td id=\"T_80bea_row4_col0\" class=\"data row4 col0\" >584.00</td>\n",
       "    </tr>\n",
       "    <tr>\n",
       "      <th id=\"T_80bea_level0_row5\" class=\"row_heading level0 row5\" >50%</th>\n",
       "      <td id=\"T_80bea_row5_col0\" class=\"data row5 col0\" >652.00</td>\n",
       "    </tr>\n",
       "    <tr>\n",
       "      <th id=\"T_80bea_level0_row6\" class=\"row_heading level0 row6\" >75%</th>\n",
       "      <td id=\"T_80bea_row6_col0\" class=\"data row6 col0\" >718.00</td>\n",
       "    </tr>\n",
       "    <tr>\n",
       "      <th id=\"T_80bea_level0_row7\" class=\"row_heading level0 row7\" >max</th>\n",
       "      <td id=\"T_80bea_row7_col0\" class=\"data row7 col0\" >850.00</td>\n",
       "    </tr>\n",
       "  </tbody>\n",
       "</table>\n"
      ],
      "text/plain": [
       "<pandas.io.formats.style.Styler at 0x202b2ea62e0>"
      ]
     },
     "execution_count": 18,
     "metadata": {},
     "output_type": "execute_result"
    }
   ],
   "source": [
    "# исследуем выбивающиеся значения в колонке \"кредитный ретинг\"\n",
    "df.credit_score.describe().to_frame().style.format(\"{:,.2f}\")"
   ]
  },
  {
   "cell_type": "code",
   "execution_count": 19,
   "id": "9379f287-24fb-4d72-b2d9-2aa9edfcf145",
   "metadata": {},
   "outputs": [
    {
     "data": {
      "image/png": "[encoded data removed]",
      "text/plain": [
       "<Figure size 1440x360 with 1 Axes>"
      ]
     },
     "metadata": {
      "needs_background": "light"
     },
     "output_type": "display_data"
    }
   ],
   "source": [
    "# построим боксплот для столбца \"credit_score\n",
    "fig, ax = plt.subplots(figsize = (20,5))\n",
    "ax = df[['credit_score']].boxplot(vert=False, ax=ax, patch_artist=True, notch=True)\n",
    "ax.set_title('Диаграмма размаха значений \"Кредитный рейтинг\"');"
   ]
  },
  {
   "cell_type": "code",
   "execution_count": 20,
   "id": "c2f8e1d2-5f73-4e5a-99c9-80de7044975a",
   "metadata": {},
   "outputs": [
    {
     "name": "stdout",
     "output_type": "stream",
     "text": [
      "Верхняя граница: 919.0\n",
      "Нижняя граница: 383.0\n"
     ]
    }
   ],
   "source": [
    "# посчитаем квантили и выведем верхнюю и нижнюю границы боксплота\n",
    "Q1 = df.credit_score.quantile(0.25)\n",
    "Q3 = df.credit_score.quantile(0.75)\n",
    "IQR = Q3 - Q1\n",
    "upper = Q3 + 1.5 * IQR\n",
    "lower = Q1 - 1.5 * IQR \n",
    "\n",
    "print('Верхняя граница:', upper)\n",
    "print('Нижняя граница:', lower)"
   ]
  },
  {
   "cell_type": "code",
   "execution_count": 21,
   "id": "e8bbcaf8-ebb0-4f6a-8eca-88534e1469ee",
   "metadata": {},
   "outputs": [
    {
     "data": {
      "text/plain": [
       "credit_score    15\n",
       "dtype: int64"
      ]
     },
     "execution_count": 21,
     "metadata": {},
     "output_type": "execute_result"
    }
   ],
   "source": [
    "# оценим количество строк с кредитным рейтингом менее 383\n",
    "df[['credit_score']].query('383 > credit_score').count()"
   ]
  },
  {
   "cell_type": "code",
   "execution_count": 22,
   "id": "74d89324-3bf9-45ea-834f-07043b1d9370",
   "metadata": {},
   "outputs": [],
   "source": [
    "# строки можно удалить, это всего 15 строк \n",
    "df = df.query('383 < credit_score')"
   ]
  },
  {
   "cell_type": "code",
   "execution_count": 23,
   "id": "fa197bef-0313-416e-bde9-2e80bc88ce5b",
   "metadata": {},
   "outputs": [
    {
     "data": {
      "image/png": "[encoded data removed]",
      "text/plain": [
       "<Figure size 1440x360 with 1 Axes>"
      ]
     },
     "metadata": {
      "needs_background": "light"
     },
     "output_type": "display_data"
    }
   ],
   "source": [
    "# построим боксплот по новым данным \n",
    "fig, ax = plt.subplots(figsize = (20,5))\n",
    "ax = df[['credit_score']].boxplot(vert=False, ax=ax, patch_artist=True, notch=True)\n",
    "ax.set_title('Диаграмма размаха значений \"Кредитный рейтинг\"');"
   ]
  },
  {
   "cell_type": "markdown",
   "id": "b8be44c5-fd81-45d4-8173-780a85452a20",
   "metadata": {},
   "source": [
    "* Боксплот более сбалансированный"
   ]
  },
  {
   "cell_type": "code",
   "execution_count": 24,
   "id": "2224a927-eb49-420c-8b9a-8ab0359631c5",
   "metadata": {},
   "outputs": [
    {
     "data": {
      "image/png": "[encoded data removed]",
      "text/plain": [
       "<Figure size 1440x360 with 1 Axes>"
      ]
     },
     "metadata": {
      "needs_background": "light"
     },
     "output_type": "display_data"
    }
   ],
   "source": [
    "df.credit_score.hist(bins = 50, figsize = (20,5), edgecolor='black', linewidth=1);"
   ]
  },
  {
   "cell_type": "markdown",
   "id": "7dddf5a7-3d26-4096-a0b3-704d179894c3",
   "metadata": {},
   "source": [
    "* Распределение данных близко к нормальному"
   ]
  },
  {
   "cell_type": "markdown",
   "id": "ff4e4dac-bc2f-4a8d-a741-df28bbab1504",
   "metadata": {},
   "source": [
    "### 3.2. Столбец \"age\""
   ]
  },
  {
   "cell_type": "code",
   "execution_count": 25,
   "id": "f35c905f-f234-4740-85a5-9d4bcba77bf3",
   "metadata": {
    "tags": []
   },
   "outputs": [
    {
     "data": {
      "image/png": "[encoded data removed]",
      "text/plain": [
       "<Figure size 1440x360 with 1 Axes>"
      ]
     },
     "metadata": {
      "needs_background": "light"
     },
     "output_type": "display_data"
    }
   ],
   "source": [
    "# построим гистограмму для столбца возраст\n",
    "df.age.hist(bins = 80, edgecolor='black', linewidth=1, figsize = (20,5));"
   ]
  },
  {
   "cell_type": "markdown",
   "id": "810f23a6-a081-400f-91cc-16d2cd7b87d3",
   "metadata": {},
   "source": [
    "* \"Хвост\" после 60"
   ]
  },
  {
   "cell_type": "code",
   "execution_count": 26,
   "id": "90775d36-d6a4-48a7-bfd0-d02a0f867597",
   "metadata": {},
   "outputs": [
    {
     "data": {
      "text/html": [
       "<style type=\"text/css\">\n",
       "</style>\n",
       "<table id=\"T_d15f0\">\n",
       "  <thead>\n",
       "    <tr>\n",
       "      <th class=\"blank level0\" >&nbsp;</th>\n",
       "      <th id=\"T_d15f0_level0_col0\" class=\"col_heading level0 col0\" >age</th>\n",
       "    </tr>\n",
       "  </thead>\n",
       "  <tbody>\n",
       "    <tr>\n",
       "      <th id=\"T_d15f0_level0_row0\" class=\"row_heading level0 row0\" >count</th>\n",
       "      <td id=\"T_d15f0_row0_col0\" class=\"data row0 col0\" >9,984.00</td>\n",
       "    </tr>\n",
       "    <tr>\n",
       "      <th id=\"T_d15f0_level0_row1\" class=\"row_heading level0 row1\" >mean</th>\n",
       "      <td id=\"T_d15f0_row1_col0\" class=\"data row1 col0\" >38.91</td>\n",
       "    </tr>\n",
       "    <tr>\n",
       "      <th id=\"T_d15f0_level0_row2\" class=\"row_heading level0 row2\" >std</th>\n",
       "      <td id=\"T_d15f0_row2_col0\" class=\"data row2 col0\" >10.49</td>\n",
       "    </tr>\n",
       "    <tr>\n",
       "      <th id=\"T_d15f0_level0_row3\" class=\"row_heading level0 row3\" >min</th>\n",
       "      <td id=\"T_d15f0_row3_col0\" class=\"data row3 col0\" >18.00</td>\n",
       "    </tr>\n",
       "    <tr>\n",
       "      <th id=\"T_d15f0_level0_row4\" class=\"row_heading level0 row4\" >25%</th>\n",
       "      <td id=\"T_d15f0_row4_col0\" class=\"data row4 col0\" >32.00</td>\n",
       "    </tr>\n",
       "    <tr>\n",
       "      <th id=\"T_d15f0_level0_row5\" class=\"row_heading level0 row5\" >50%</th>\n",
       "      <td id=\"T_d15f0_row5_col0\" class=\"data row5 col0\" >37.00</td>\n",
       "    </tr>\n",
       "    <tr>\n",
       "      <th id=\"T_d15f0_level0_row6\" class=\"row_heading level0 row6\" >75%</th>\n",
       "      <td id=\"T_d15f0_row6_col0\" class=\"data row6 col0\" >44.00</td>\n",
       "    </tr>\n",
       "    <tr>\n",
       "      <th id=\"T_d15f0_level0_row7\" class=\"row_heading level0 row7\" >max</th>\n",
       "      <td id=\"T_d15f0_row7_col0\" class=\"data row7 col0\" >92.00</td>\n",
       "    </tr>\n",
       "  </tbody>\n",
       "</table>\n"
      ],
      "text/plain": [
       "<pandas.io.formats.style.Styler at 0x202b323c3a0>"
      ]
     },
     "execution_count": 26,
     "metadata": {},
     "output_type": "execute_result"
    }
   ],
   "source": [
    "# исследуем выбивающиеся значения в колонке \"возраст\"\n",
    "df.age.describe().to_frame().style.format(\"{:,.2f}\")"
   ]
  },
  {
   "cell_type": "code",
   "execution_count": 27,
   "id": "3d4df469-2fdc-4641-a814-eafe35f876a7",
   "metadata": {},
   "outputs": [
    {
     "data": {
      "image/png": "[encoded data removed]",
      "text/plain": [
       "<Figure size 1440x360 with 1 Axes>"
      ]
     },
     "metadata": {
      "needs_background": "light"
     },
     "output_type": "display_data"
    }
   ],
   "source": [
    "# построим боксплот для столбца \"age\"\n",
    "fig, ax = plt.subplots(figsize = (20,5))\n",
    "ax = df[['age']].boxplot(vert=False, ax=ax, patch_artist=True, notch=True)\n",
    "ax.set_title('Диаграмма размаха значений \"Возраст\"');"
   ]
  },
  {
   "cell_type": "markdown",
   "id": "756451c4-4daa-4b54-a934-bf9a4b6f866a",
   "metadata": {},
   "source": [
    "* Боксплот смещен влево\n",
    "* Определяются выбросы"
   ]
  },
  {
   "cell_type": "code",
   "execution_count": 28,
   "id": "14277b61-1072-4e1a-b807-dbba456acf05",
   "metadata": {},
   "outputs": [
    {
     "name": "stdout",
     "output_type": "stream",
     "text": [
      "Верхняя граница: 62.0\n",
      "Нижняя граница: 14.0\n"
     ]
    }
   ],
   "source": [
    "# посчитаем квантили и выведем верхнюю и нижнюю границы боксплота\n",
    "Q1 = df.age.quantile(0.25)\n",
    "Q3 = df.age.quantile(0.75)\n",
    "IQR = Q3 - Q1\n",
    "upper = Q3 + 1.5 * IQR\n",
    "lower = Q1 - 1.5 * IQR \n",
    "\n",
    "print('Верхняя граница:', upper)\n",
    "print('Нижняя граница:', lower)"
   ]
  },
  {
   "cell_type": "code",
   "execution_count": 29,
   "id": "709710c9-93a9-4d09-9d0e-8544acc45d31",
   "metadata": {},
   "outputs": [
    {
     "data": {
      "text/plain": [
       "age    359\n",
       "dtype: int64"
      ]
     },
     "execution_count": 29,
     "metadata": {},
     "output_type": "execute_result"
    }
   ],
   "source": [
    "# оценим количество строк с возрастом более 62\n",
    "df[['age']].query('age > 62').count()"
   ]
  },
  {
   "cell_type": "code",
   "execution_count": 30,
   "id": "1bf5afd7-f6c9-4236-8539-01850460eb80",
   "metadata": {},
   "outputs": [],
   "source": [
    "# удалим строки с выбросами\n",
    "df = df.query('age <= 62')"
   ]
  },
  {
   "cell_type": "code",
   "execution_count": 31,
   "id": "722588dc-39cd-4741-8d02-509a2d902b20",
   "metadata": {},
   "outputs": [
    {
     "data": {
      "image/png": "[encoded data removed]",
      "text/plain": [
       "<Figure size 1440x360 with 1 Axes>"
      ]
     },
     "metadata": {
      "needs_background": "light"
     },
     "output_type": "display_data"
    }
   ],
   "source": [
    "# построим гистограмму\n",
    "df.age.hist(bins = 55, edgecolor='black', linewidth=1, figsize = (20,5));"
   ]
  },
  {
   "cell_type": "markdown",
   "id": "58cc48f2-5fae-4a5e-9eeb-2ff5bdb3316a",
   "metadata": {},
   "source": [
    "* Распределение данных близко к нормальному\n",
    "* Выбросов нет"
   ]
  },
  {
   "cell_type": "markdown",
   "id": "ec90bf32-f259-403b-a984-6d03e95ecff1",
   "metadata": {
    "tags": []
   },
   "source": [
    "### 3.3. Столбец \"balance\""
   ]
  },
  {
   "cell_type": "code",
   "execution_count": 32,
   "id": "57fccf1e-7b9d-47b9-a349-1e6b69192648",
   "metadata": {},
   "outputs": [
    {
     "data": {
      "image/png": "[encoded data removed]",
      "text/plain": [
       "<Figure size 1440x360 with 1 Axes>"
      ]
     },
     "metadata": {
      "needs_background": "light"
     },
     "output_type": "display_data"
    }
   ],
   "source": [
    "# построим гистограмму\n",
    "df.balance.hist(bins = 50, edgecolor='black', linewidth=1, figsize = (20,5));"
   ]
  },
  {
   "cell_type": "code",
   "execution_count": 33,
   "id": "26091bca-14db-4cd0-8b5f-ba74f0b9a763",
   "metadata": {},
   "outputs": [
    {
     "data": {
      "text/html": [
       "<style type=\"text/css\">\n",
       "</style>\n",
       "<table id=\"T_04e1d\">\n",
       "  <thead>\n",
       "    <tr>\n",
       "      <th class=\"blank level0\" >&nbsp;</th>\n",
       "      <th id=\"T_04e1d_level0_col0\" class=\"col_heading level0 col0\" >balance</th>\n",
       "    </tr>\n",
       "  </thead>\n",
       "  <tbody>\n",
       "    <tr>\n",
       "      <th id=\"T_04e1d_level0_row0\" class=\"row_heading level0 row0\" >count</th>\n",
       "      <td id=\"T_04e1d_row0_col0\" class=\"data row0 col0\" >9,625.00</td>\n",
       "    </tr>\n",
       "    <tr>\n",
       "      <th id=\"T_04e1d_level0_row1\" class=\"row_heading level0 row1\" >mean</th>\n",
       "      <td id=\"T_04e1d_row1_col0\" class=\"data row1 col0\" >76,543.81</td>\n",
       "    </tr>\n",
       "    <tr>\n",
       "      <th id=\"T_04e1d_level0_row2\" class=\"row_heading level0 row2\" >std</th>\n",
       "      <td id=\"T_04e1d_row2_col0\" class=\"data row2 col0\" >62,402.20</td>\n",
       "    </tr>\n",
       "    <tr>\n",
       "      <th id=\"T_04e1d_level0_row3\" class=\"row_heading level0 row3\" >min</th>\n",
       "      <td id=\"T_04e1d_row3_col0\" class=\"data row3 col0\" >0.00</td>\n",
       "    </tr>\n",
       "    <tr>\n",
       "      <th id=\"T_04e1d_level0_row4\" class=\"row_heading level0 row4\" >25%</th>\n",
       "      <td id=\"T_04e1d_row4_col0\" class=\"data row4 col0\" >0.00</td>\n",
       "    </tr>\n",
       "    <tr>\n",
       "      <th id=\"T_04e1d_level0_row5\" class=\"row_heading level0 row5\" >50%</th>\n",
       "      <td id=\"T_04e1d_row5_col0\" class=\"data row5 col0\" >97,286.16</td>\n",
       "    </tr>\n",
       "    <tr>\n",
       "      <th id=\"T_04e1d_level0_row6\" class=\"row_heading level0 row6\" >75%</th>\n",
       "      <td id=\"T_04e1d_row6_col0\" class=\"data row6 col0\" >127,649.64</td>\n",
       "    </tr>\n",
       "    <tr>\n",
       "      <th id=\"T_04e1d_level0_row7\" class=\"row_heading level0 row7\" >max</th>\n",
       "      <td id=\"T_04e1d_row7_col0\" class=\"data row7 col0\" >250,898.09</td>\n",
       "    </tr>\n",
       "  </tbody>\n",
       "</table>\n"
      ],
      "text/plain": [
       "<pandas.io.formats.style.Styler at 0x202b3be5940>"
      ]
     },
     "execution_count": 33,
     "metadata": {},
     "output_type": "execute_result"
    }
   ],
   "source": [
    "# исследуем выбивающиеся значения в колонке \"баланс\"\n",
    "df.balance.describe().to_frame().style.format(\"{:,.2f}\")"
   ]
  },
  {
   "cell_type": "code",
   "execution_count": 34,
   "id": "9dbe0072-c44a-461b-b4d2-1c0cd577fc52",
   "metadata": {},
   "outputs": [
    {
     "data": {
      "image/png": "[encoded data removed]",
      "text/plain": [
       "<Figure size 1440x360 with 1 Axes>"
      ]
     },
     "metadata": {
      "needs_background": "light"
     },
     "output_type": "display_data"
    }
   ],
   "source": [
    "# построим боксплот для столбца \"balance\"\n",
    "fig, ax = plt.subplots(figsize = (20,5))\n",
    "ax = df[['balance']].boxplot(vert=False, ax=ax, patch_artist=True, notch=True)\n",
    "ax.set_title('Диаграмма размаха значений \"Баланс\"');"
   ]
  },
  {
   "cell_type": "code",
   "execution_count": 35,
   "id": "c415754a-3ede-4487-8f86-6a7e2e167142",
   "metadata": {},
   "outputs": [
    {
     "name": "stdout",
     "output_type": "stream",
     "text": [
      "Верхняя граница: 319124.1\n",
      "Нижняя граница: -191474.46\n"
     ]
    }
   ],
   "source": [
    "# посчитаем квантили и выведем верхнюю и нижнюю границы боксплота\n",
    "Q1 = df.balance.quantile(0.25)\n",
    "Q3 = df.balance.quantile(0.75)\n",
    "IQR = Q3 - Q1\n",
    "upper = Q3 + 1.5 * IQR\n",
    "lower = Q1 - 1.5 * IQR \n",
    "\n",
    "print('Верхняя граница:', upper)\n",
    "print('Нижняя граница:', lower)"
   ]
  },
  {
   "cell_type": "markdown",
   "id": "4bac7265-85e0-4ea8-88b3-408577c7d9d1",
   "metadata": {},
   "source": [
    "* В столбце выбросы не обнаружены, но наблюдается смещение влево\n",
    "* Много значений равных нулю, более трети всех данных\n",
    "* Оставим без изменений"
   ]
  },
  {
   "cell_type": "markdown",
   "id": "c39ac994-e4e8-41d6-ae30-633350ff5eb3",
   "metadata": {},
   "source": [
    "### 3.4. Столбец \"estimated_salary\""
   ]
  },
  {
   "cell_type": "code",
   "execution_count": 36,
   "id": "e6cf702a-6500-48f2-be9f-69300a1136b4",
   "metadata": {
    "tags": []
   },
   "outputs": [
    {
     "data": {
      "image/png": "[encoded data removed]",
      "text/plain": [
       "<Figure size 1440x360 with 1 Axes>"
      ]
     },
     "metadata": {
      "needs_background": "light"
     },
     "output_type": "display_data"
    }
   ],
   "source": [
    "# построим гистограмму\n",
    "df.estimated_salary.hist(bins = 150, edgecolor='black', linewidth=1, figsize = (20,5));"
   ]
  },
  {
   "cell_type": "code",
   "execution_count": 37,
   "id": "c87dd076-956a-42a4-8e71-d8a3bfd85b0f",
   "metadata": {},
   "outputs": [
    {
     "data": {
      "text/html": [
       "<style type=\"text/css\">\n",
       "</style>\n",
       "<table id=\"T_6124f\">\n",
       "  <thead>\n",
       "    <tr>\n",
       "      <th class=\"blank level0\" >&nbsp;</th>\n",
       "      <th id=\"T_6124f_level0_col0\" class=\"col_heading level0 col0\" >estimated_salary</th>\n",
       "    </tr>\n",
       "  </thead>\n",
       "  <tbody>\n",
       "    <tr>\n",
       "      <th id=\"T_6124f_level0_row0\" class=\"row_heading level0 row0\" >count</th>\n",
       "      <td id=\"T_6124f_row0_col0\" class=\"data row0 col0\" >9,625.00</td>\n",
       "    </tr>\n",
       "    <tr>\n",
       "      <th id=\"T_6124f_level0_row1\" class=\"row_heading level0 row1\" >mean</th>\n",
       "      <td id=\"T_6124f_row1_col0\" class=\"data row1 col0\" >100,109.46</td>\n",
       "    </tr>\n",
       "    <tr>\n",
       "      <th id=\"T_6124f_level0_row2\" class=\"row_heading level0 row2\" >std</th>\n",
       "      <td id=\"T_6124f_row2_col0\" class=\"data row2 col0\" >57,523.28</td>\n",
       "    </tr>\n",
       "    <tr>\n",
       "      <th id=\"T_6124f_level0_row3\" class=\"row_heading level0 row3\" >min</th>\n",
       "      <td id=\"T_6124f_row3_col0\" class=\"data row3 col0\" >11.58</td>\n",
       "    </tr>\n",
       "    <tr>\n",
       "      <th id=\"T_6124f_level0_row4\" class=\"row_heading level0 row4\" >25%</th>\n",
       "      <td id=\"T_6124f_row4_col0\" class=\"data row4 col0\" >51,011.29</td>\n",
       "    </tr>\n",
       "    <tr>\n",
       "      <th id=\"T_6124f_level0_row5\" class=\"row_heading level0 row5\" >50%</th>\n",
       "      <td id=\"T_6124f_row5_col0\" class=\"data row5 col0\" >100,183.05</td>\n",
       "    </tr>\n",
       "    <tr>\n",
       "      <th id=\"T_6124f_level0_row6\" class=\"row_heading level0 row6\" >75%</th>\n",
       "      <td id=\"T_6124f_row6_col0\" class=\"data row6 col0\" >149,418.41</td>\n",
       "    </tr>\n",
       "    <tr>\n",
       "      <th id=\"T_6124f_level0_row7\" class=\"row_heading level0 row7\" >max</th>\n",
       "      <td id=\"T_6124f_row7_col0\" class=\"data row7 col0\" >199,992.48</td>\n",
       "    </tr>\n",
       "  </tbody>\n",
       "</table>\n"
      ],
      "text/plain": [
       "<pandas.io.formats.style.Styler at 0x202b3215a00>"
      ]
     },
     "execution_count": 37,
     "metadata": {},
     "output_type": "execute_result"
    }
   ],
   "source": [
    "# исследуем выбивающиеся значения в столбца \"предполагаемая зарплата\"\n",
    "df.estimated_salary.describe().to_frame().style.format(\"{:,.2f}\")"
   ]
  },
  {
   "cell_type": "code",
   "execution_count": 38,
   "id": "e39ed324-fe82-47ed-9cd2-c0550f07339b",
   "metadata": {},
   "outputs": [
    {
     "data": {
      "image/png": "[encoded data removed]",
      "text/plain": [
       "<Figure size 1440x360 with 1 Axes>"
      ]
     },
     "metadata": {
      "needs_background": "light"
     },
     "output_type": "display_data"
    }
   ],
   "source": [
    "# построим боксплот для столбца \"estimated_salary\"\n",
    "fig, ax = plt.subplots(figsize = (20,5))\n",
    "ax = df[['estimated_salary']].boxplot(vert=False, ax=ax, patch_artist=True, notch=True)\n",
    "ax.set_title('Диаграмма размаха значений \"Предполагаемая зарплата\"');"
   ]
  },
  {
   "cell_type": "markdown",
   "id": "dbe3bcf6-ba22-482d-8667-263f49359f4e",
   "metadata": {},
   "source": [
    "* Боксплот симметричный, выбросов нет\n",
    "* Данные в обработке не нуждаются"
   ]
  },
  {
   "cell_type": "markdown",
   "id": "dc440a8a-b105-4cfe-9de5-fbbe46de8e3b",
   "metadata": {
    "tags": []
   },
   "source": [
    "### 3.5. Столбец \"tenure\""
   ]
  },
  {
   "cell_type": "code",
   "execution_count": 39,
   "id": "b3cb26fb-466e-46c7-816a-d78fad927fb8",
   "metadata": {
    "tags": []
   },
   "outputs": [
    {
     "data": {
      "image/png": "[encoded data removed]",
      "text/plain": [
       "<Figure size 1440x360 with 1 Axes>"
      ]
     },
     "metadata": {
      "needs_background": "light"
     },
     "output_type": "display_data"
    }
   ],
   "source": [
    "# построим гистограмму\n",
    "df.tenure.hist(bins = 10, edgecolor='black', linewidth=1, figsize = (20,5));"
   ]
  },
  {
   "cell_type": "code",
   "execution_count": 40,
   "id": "5f0f381b-3455-417c-b13c-b810f0ef2705",
   "metadata": {},
   "outputs": [
    {
     "data": {
      "image/png": "[encoded data removed]",
      "text/plain": [
       "<Figure size 1440x360 with 1 Axes>"
      ]
     },
     "metadata": {
      "needs_background": "light"
     },
     "output_type": "display_data"
    }
   ],
   "source": [
    "# построим боксплот для столбца \"tenure\"\n",
    "fig, ax = plt.subplots(figsize = (20,5))\n",
    "ax = df[['tenure']].boxplot(vert=False, ax=ax, patch_artist=True, notch=True)\n",
    "ax.set_title('Диаграмма размаха значений \"Клиентский стаж\"');"
   ]
  },
  {
   "cell_type": "code",
   "execution_count": 41,
   "id": "843d9a02-410f-45c8-9d20-34bb204455f3",
   "metadata": {},
   "outputs": [
    {
     "data": {
      "text/html": [
       "<style type=\"text/css\">\n",
       "</style>\n",
       "<table id=\"T_cb319\">\n",
       "  <thead>\n",
       "    <tr>\n",
       "      <th class=\"blank level0\" >&nbsp;</th>\n",
       "      <th id=\"T_cb319_level0_col0\" class=\"col_heading level0 col0\" >tenure</th>\n",
       "    </tr>\n",
       "  </thead>\n",
       "  <tbody>\n",
       "    <tr>\n",
       "      <th id=\"T_cb319_level0_row0\" class=\"row_heading level0 row0\" >count</th>\n",
       "      <td id=\"T_cb319_row0_col0\" class=\"data row0 col0\" >8,741.00</td>\n",
       "    </tr>\n",
       "    <tr>\n",
       "      <th id=\"T_cb319_level0_row1\" class=\"row_heading level0 row1\" >mean</th>\n",
       "      <td id=\"T_cb319_row1_col0\" class=\"data row1 col0\" >5.00</td>\n",
       "    </tr>\n",
       "    <tr>\n",
       "      <th id=\"T_cb319_level0_row2\" class=\"row_heading level0 row2\" >std</th>\n",
       "      <td id=\"T_cb319_row2_col0\" class=\"data row2 col0\" >2.89</td>\n",
       "    </tr>\n",
       "    <tr>\n",
       "      <th id=\"T_cb319_level0_row3\" class=\"row_heading level0 row3\" >min</th>\n",
       "      <td id=\"T_cb319_row3_col0\" class=\"data row3 col0\" >0.00</td>\n",
       "    </tr>\n",
       "    <tr>\n",
       "      <th id=\"T_cb319_level0_row4\" class=\"row_heading level0 row4\" >25%</th>\n",
       "      <td id=\"T_cb319_row4_col0\" class=\"data row4 col0\" >3.00</td>\n",
       "    </tr>\n",
       "    <tr>\n",
       "      <th id=\"T_cb319_level0_row5\" class=\"row_heading level0 row5\" >50%</th>\n",
       "      <td id=\"T_cb319_row5_col0\" class=\"data row5 col0\" >5.00</td>\n",
       "    </tr>\n",
       "    <tr>\n",
       "      <th id=\"T_cb319_level0_row6\" class=\"row_heading level0 row6\" >75%</th>\n",
       "      <td id=\"T_cb319_row6_col0\" class=\"data row6 col0\" >7.00</td>\n",
       "    </tr>\n",
       "    <tr>\n",
       "      <th id=\"T_cb319_level0_row7\" class=\"row_heading level0 row7\" >max</th>\n",
       "      <td id=\"T_cb319_row7_col0\" class=\"data row7 col0\" >10.00</td>\n",
       "    </tr>\n",
       "  </tbody>\n",
       "</table>\n"
      ],
      "text/plain": [
       "<pandas.io.formats.style.Styler at 0x202b2b9d100>"
      ]
     },
     "execution_count": 41,
     "metadata": {},
     "output_type": "execute_result"
    }
   ],
   "source": [
    "# исследуем выбивающиеся значения в столбца \"стаж клиента\"\n",
    "df.tenure.describe().to_frame().style.format(\"{:,.2f}\")"
   ]
  },
  {
   "cell_type": "markdown",
   "id": "efdc6740-2ec7-4dac-89a3-9f3797ce17a5",
   "metadata": {},
   "source": [
    "* Так как разброс данных небольшой, заполним пропуски медианой - сохраним целочисленное значение признака\n",
    "* Выбросы не обнаружены, наблюдается смещение влево"
   ]
  },
  {
   "cell_type": "code",
   "execution_count": 42,
   "id": "f7f8c2cb-b45a-4a23-a655-ea44e18ce5da",
   "metadata": {},
   "outputs": [],
   "source": [
    "# заполним пропуски в столбце \"tenure' медианой \n",
    "df.tenure = df.tenure.fillna(df.tenure.median())"
   ]
  },
  {
   "cell_type": "code",
   "execution_count": 43,
   "id": "c2263505",
   "metadata": {},
   "outputs": [
    {
     "data": {
      "text/plain": [
       "5.0     1775\n",
       "2.0      914\n",
       "1.0      908\n",
       "8.0      904\n",
       "7.0      899\n",
       "3.0      894\n",
       "4.0      855\n",
       "6.0      846\n",
       "9.0      839\n",
       "10.0     428\n",
       "0.0      363\n",
       "Name: tenure, dtype: int64"
      ]
     },
     "execution_count": 43,
     "metadata": {},
     "output_type": "execute_result"
    }
   ],
   "source": [
    "df.tenure.value_counts()"
   ]
  },
  {
   "cell_type": "code",
   "execution_count": 44,
   "id": "f9f8673e-fd77-4707-9e09-58b6b44cad0a",
   "metadata": {},
   "outputs": [
    {
     "data": {
      "text/plain": [
       "credit_score        0\n",
       "geography           0\n",
       "gender              0\n",
       "age                 0\n",
       "tenure              0\n",
       "balance             0\n",
       "num_of_products     0\n",
       "has_cr_card         0\n",
       "is_active_member    0\n",
       "estimated_salary    0\n",
       "exited              0\n",
       "dtype: int64"
      ]
     },
     "execution_count": 44,
     "metadata": {},
     "output_type": "execute_result"
    }
   ],
   "source": [
    "# проверим остались ли пропуски\n",
    "df.isna().sum()"
   ]
  },
  {
   "cell_type": "code",
   "execution_count": 45,
   "id": "29c98b5d-6cff-4f0b-9fa2-11dffa8203ab",
   "metadata": {},
   "outputs": [
    {
     "data": {
      "image/png": "[encoded data removed]",
      "text/plain": [
       "<Figure size 1440x360 with 1 Axes>"
      ]
     },
     "metadata": {
      "needs_background": "light"
     },
     "output_type": "display_data"
    }
   ],
   "source": [
    "# построим гистограмму\n",
    "df.tenure.hist(bins = 30, edgecolor='black', linewidth=1, figsize = (20,5));"
   ]
  },
  {
   "cell_type": "code",
   "execution_count": 46,
   "id": "dcbb8fee-6e5b-469a-8528-f522b0ad7e28",
   "metadata": {},
   "outputs": [
    {
     "name": "stdout",
     "output_type": "stream",
     "text": [
      "Исходные данные: 10000\n",
      "Очищенные данные: 9625\n",
      "Удалили 3.75% от исходных данных\n"
     ]
    }
   ],
   "source": [
    "print('Исходные данные:' , len(data))\n",
    "print('Очищенные данные:', len(df))\n",
    "print(f'Удалили {((len(data) - len(df))/(len(data))):.2%} от исходных данных')"
   ]
  },
  {
   "cell_type": "markdown",
   "id": "27e927f0-3937-4b04-b431-df5d05401732",
   "metadata": {
    "tags": []
   },
   "source": [
    "### Выводы"
   ]
  },
  {
   "cell_type": "markdown",
   "id": "53949cf4-0d4b-4695-8a65-b2bf4d39c04d",
   "metadata": {},
   "source": [
    "1. Числовые данные очищены от выбросов.\n",
    "2. Удалены столбцы с избыточными признаками.\n",
    "3. Пропускив столбце **tenure** заполнили медианой.\n",
    "4. Удалили 3.75% объектов от исходных данных."
   ]
  },
  {
   "cell_type": "markdown",
   "id": "f6181b8e-336f-4b30-91d2-6291b3ec8dc6",
   "metadata": {
    "tags": []
   },
   "source": [
    "## 4. Исследуем категориальные признаки"
   ]
  },
  {
   "cell_type": "markdown",
   "id": "fd3bbcbd-22b4-49a9-88c9-929747d89ba6",
   "metadata": {},
   "source": [
    "* **geography** — страна проживания\n",
    "* **gender** — пол\n",
    "* **num_of_products** - количество продуктов\n",
    "* **has_cr_card** - наличие кредитной карты\n",
    "* **is_active_member** - активность\n"
   ]
  },
  {
   "cell_type": "markdown",
   "id": "66d135cd-28a5-49ae-9b5d-7b506d107ed0",
   "metadata": {
    "tags": []
   },
   "source": [
    "### 4.1. Оценим сбалансированность в категориальных признаках"
   ]
  },
  {
   "cell_type": "code",
   "execution_count": 47,
   "id": "fda21926-9e7a-4aa9-a84f-d95bb472c0b1",
   "metadata": {},
   "outputs": [
    {
     "data": {
      "text/html": [
       "<div>\n",
       "<style scoped>\n",
       "    .dataframe tbody tr th:only-of-type {\n",
       "        vertical-align: middle;\n",
       "    }\n",
       "\n",
       "    .dataframe tbody tr th {\n",
       "        vertical-align: top;\n",
       "    }\n",
       "\n",
       "    .dataframe thead th {\n",
       "        text-align: right;\n",
       "    }\n",
       "</style>\n",
       "<table border=\"1\" class=\"dataframe\">\n",
       "  <thead>\n",
       "    <tr style=\"text-align: right;\">\n",
       "      <th></th>\n",
       "      <th>geography</th>\n",
       "    </tr>\n",
       "  </thead>\n",
       "  <tbody>\n",
       "    <tr>\n",
       "      <th>France</th>\n",
       "      <td>4826</td>\n",
       "    </tr>\n",
       "    <tr>\n",
       "      <th>Germany</th>\n",
       "      <td>2421</td>\n",
       "    </tr>\n",
       "    <tr>\n",
       "      <th>Spain</th>\n",
       "      <td>2378</td>\n",
       "    </tr>\n",
       "  </tbody>\n",
       "</table>\n",
       "</div>"
      ],
      "text/plain": [
       "         geography\n",
       "France        4826\n",
       "Germany       2421\n",
       "Spain         2378"
      ]
     },
     "execution_count": 47,
     "metadata": {},
     "output_type": "execute_result"
    }
   ],
   "source": [
    "# страна проживания\n",
    "df.geography.value_counts().to_frame()"
   ]
  },
  {
   "cell_type": "code",
   "execution_count": 48,
   "id": "37704eb4-f1cb-467d-b7a7-528f6d0f09f7",
   "metadata": {},
   "outputs": [
    {
     "data": {
      "text/html": [
       "<div>\n",
       "<style scoped>\n",
       "    .dataframe tbody tr th:only-of-type {\n",
       "        vertical-align: middle;\n",
       "    }\n",
       "\n",
       "    .dataframe tbody tr th {\n",
       "        vertical-align: top;\n",
       "    }\n",
       "\n",
       "    .dataframe thead th {\n",
       "        text-align: right;\n",
       "    }\n",
       "</style>\n",
       "<table border=\"1\" class=\"dataframe\">\n",
       "  <thead>\n",
       "    <tr style=\"text-align: right;\">\n",
       "      <th></th>\n",
       "      <th>gender</th>\n",
       "    </tr>\n",
       "  </thead>\n",
       "  <tbody>\n",
       "    <tr>\n",
       "      <th>Male</th>\n",
       "      <td>5258</td>\n",
       "    </tr>\n",
       "    <tr>\n",
       "      <th>Female</th>\n",
       "      <td>4367</td>\n",
       "    </tr>\n",
       "  </tbody>\n",
       "</table>\n",
       "</div>"
      ],
      "text/plain": [
       "        gender\n",
       "Male      5258\n",
       "Female    4367"
      ]
     },
     "execution_count": 48,
     "metadata": {},
     "output_type": "execute_result"
    }
   ],
   "source": [
    "# пол\n",
    "df.gender.value_counts().to_frame()"
   ]
  },
  {
   "cell_type": "code",
   "execution_count": 49,
   "id": "bcedcfcf-1a54-4e60-8121-4322d055b17f",
   "metadata": {},
   "outputs": [
    {
     "data": {
      "text/html": [
       "<div>\n",
       "<style scoped>\n",
       "    .dataframe tbody tr th:only-of-type {\n",
       "        vertical-align: middle;\n",
       "    }\n",
       "\n",
       "    .dataframe tbody tr th {\n",
       "        vertical-align: top;\n",
       "    }\n",
       "\n",
       "    .dataframe thead th {\n",
       "        text-align: right;\n",
       "    }\n",
       "</style>\n",
       "<table border=\"1\" class=\"dataframe\">\n",
       "  <thead>\n",
       "    <tr style=\"text-align: right;\">\n",
       "      <th></th>\n",
       "      <th>num_of_products</th>\n",
       "    </tr>\n",
       "  </thead>\n",
       "  <tbody>\n",
       "    <tr>\n",
       "      <th>1</th>\n",
       "      <td>4881</td>\n",
       "    </tr>\n",
       "    <tr>\n",
       "      <th>2</th>\n",
       "      <td>4435</td>\n",
       "    </tr>\n",
       "    <tr>\n",
       "      <th>3</th>\n",
       "      <td>251</td>\n",
       "    </tr>\n",
       "    <tr>\n",
       "      <th>4</th>\n",
       "      <td>58</td>\n",
       "    </tr>\n",
       "  </tbody>\n",
       "</table>\n",
       "</div>"
      ],
      "text/plain": [
       "   num_of_products\n",
       "1             4881\n",
       "2             4435\n",
       "3              251\n",
       "4               58"
      ]
     },
     "execution_count": 49,
     "metadata": {},
     "output_type": "execute_result"
    }
   ],
   "source": [
    "# количество продуктов\n",
    "df.num_of_products.value_counts().to_frame()"
   ]
  },
  {
   "cell_type": "code",
   "execution_count": 50,
   "id": "14b846fb-b8a7-48e2-b1f2-b87bb264b762",
   "metadata": {},
   "outputs": [
    {
     "data": {
      "text/html": [
       "<div>\n",
       "<style scoped>\n",
       "    .dataframe tbody tr th:only-of-type {\n",
       "        vertical-align: middle;\n",
       "    }\n",
       "\n",
       "    .dataframe tbody tr th {\n",
       "        vertical-align: top;\n",
       "    }\n",
       "\n",
       "    .dataframe thead th {\n",
       "        text-align: right;\n",
       "    }\n",
       "</style>\n",
       "<table border=\"1\" class=\"dataframe\">\n",
       "  <thead>\n",
       "    <tr style=\"text-align: right;\">\n",
       "      <th></th>\n",
       "      <th>has_cr_card</th>\n",
       "    </tr>\n",
       "  </thead>\n",
       "  <tbody>\n",
       "    <tr>\n",
       "      <th>1</th>\n",
       "      <td>6786</td>\n",
       "    </tr>\n",
       "    <tr>\n",
       "      <th>0</th>\n",
       "      <td>2839</td>\n",
       "    </tr>\n",
       "  </tbody>\n",
       "</table>\n",
       "</div>"
      ],
      "text/plain": [
       "   has_cr_card\n",
       "1         6786\n",
       "0         2839"
      ]
     },
     "execution_count": 50,
     "metadata": {},
     "output_type": "execute_result"
    }
   ],
   "source": [
    "# наличие кредитной карты\n",
    "df.has_cr_card.value_counts().to_frame()"
   ]
  },
  {
   "cell_type": "code",
   "execution_count": 51,
   "id": "b739e652-c783-4f4c-85c8-d8f1b2838270",
   "metadata": {},
   "outputs": [
    {
     "data": {
      "text/html": [
       "<div>\n",
       "<style scoped>\n",
       "    .dataframe tbody tr th:only-of-type {\n",
       "        vertical-align: middle;\n",
       "    }\n",
       "\n",
       "    .dataframe tbody tr th {\n",
       "        vertical-align: top;\n",
       "    }\n",
       "\n",
       "    .dataframe thead th {\n",
       "        text-align: right;\n",
       "    }\n",
       "</style>\n",
       "<table border=\"1\" class=\"dataframe\">\n",
       "  <thead>\n",
       "    <tr style=\"text-align: right;\">\n",
       "      <th></th>\n",
       "      <th>is_active_member</th>\n",
       "    </tr>\n",
       "  </thead>\n",
       "  <tbody>\n",
       "    <tr>\n",
       "      <th>1</th>\n",
       "      <td>4847</td>\n",
       "    </tr>\n",
       "    <tr>\n",
       "      <th>0</th>\n",
       "      <td>4778</td>\n",
       "    </tr>\n",
       "  </tbody>\n",
       "</table>\n",
       "</div>"
      ],
      "text/plain": [
       "   is_active_member\n",
       "1              4847\n",
       "0              4778"
      ]
     },
     "execution_count": 51,
     "metadata": {},
     "output_type": "execute_result"
    }
   ],
   "source": [
    "# активность \n",
    "df.is_active_member.value_counts().to_frame()"
   ]
  },
  {
   "cell_type": "markdown",
   "id": "280cd236-e59d-4aee-aff1-8051cc0bd2eb",
   "metadata": {
    "tags": []
   },
   "source": [
    "## Выводы"
   ]
  },
  {
   "cell_type": "markdown",
   "id": "6700dffb-23b5-4eda-af5d-940c9921723e",
   "metadata": {},
   "source": [
    "Наблюдаем дисбаланс в категориальных признаках:\n",
    "1. **geography** - страна проживания\n",
    "2. **num_of_products** - количество продуктов\n",
    "3. **has_cr_card** - наличие кредитной карты"
   ]
  },
  {
   "cell_type": "markdown",
   "id": "25115a68-426d-436d-a2c4-1ade762d85e8",
   "metadata": {
    "tags": []
   },
   "source": [
    "## 5. Подготовим данные для модели \"Логистическая регрессия\""
   ]
  },
  {
   "cell_type": "markdown",
   "id": "185df6de-7ce6-4464-9ba4-03018e72742a",
   "metadata": {
    "tags": []
   },
   "source": [
    "### 5.1. Преобразуем категориальные данные прямым кодированием"
   ]
  },
  {
   "cell_type": "code",
   "execution_count": 52,
   "id": "928362c7-81d4-431a-b0a9-1bfc109a17c5",
   "metadata": {},
   "outputs": [],
   "source": [
    "# преобразуем категориальные данные в таблице техникой OHE\n",
    "df_ohe = pd.get_dummies(df, drop_first=True)"
   ]
  },
  {
   "cell_type": "code",
   "execution_count": 53,
   "id": "33ade1a3-0ec2-47bc-a7a0-fd5d79147b1f",
   "metadata": {},
   "outputs": [
    {
     "data": {
      "text/html": [
       "<div>\n",
       "<style scoped>\n",
       "    .dataframe tbody tr th:only-of-type {\n",
       "        vertical-align: middle;\n",
       "    }\n",
       "\n",
       "    .dataframe tbody tr th {\n",
       "        vertical-align: top;\n",
       "    }\n",
       "\n",
       "    .dataframe thead th {\n",
       "        text-align: right;\n",
       "    }\n",
       "</style>\n",
       "<table border=\"1\" class=\"dataframe\">\n",
       "  <thead>\n",
       "    <tr style=\"text-align: right;\">\n",
       "      <th></th>\n",
       "      <th>credit_score</th>\n",
       "      <th>age</th>\n",
       "      <th>tenure</th>\n",
       "      <th>balance</th>\n",
       "      <th>num_of_products</th>\n",
       "      <th>has_cr_card</th>\n",
       "      <th>is_active_member</th>\n",
       "      <th>estimated_salary</th>\n",
       "      <th>exited</th>\n",
       "      <th>geography_Germany</th>\n",
       "      <th>geography_Spain</th>\n",
       "      <th>gender_Male</th>\n",
       "    </tr>\n",
       "  </thead>\n",
       "  <tbody>\n",
       "    <tr>\n",
       "      <th>0</th>\n",
       "      <td>619</td>\n",
       "      <td>42</td>\n",
       "      <td>2.0</td>\n",
       "      <td>0.00</td>\n",
       "      <td>1</td>\n",
       "      <td>1</td>\n",
       "      <td>1</td>\n",
       "      <td>101348.88</td>\n",
       "      <td>1</td>\n",
       "      <td>0</td>\n",
       "      <td>0</td>\n",
       "      <td>0</td>\n",
       "    </tr>\n",
       "    <tr>\n",
       "      <th>1</th>\n",
       "      <td>608</td>\n",
       "      <td>41</td>\n",
       "      <td>1.0</td>\n",
       "      <td>83807.86</td>\n",
       "      <td>1</td>\n",
       "      <td>0</td>\n",
       "      <td>1</td>\n",
       "      <td>112542.58</td>\n",
       "      <td>0</td>\n",
       "      <td>0</td>\n",
       "      <td>1</td>\n",
       "      <td>0</td>\n",
       "    </tr>\n",
       "    <tr>\n",
       "      <th>2</th>\n",
       "      <td>502</td>\n",
       "      <td>42</td>\n",
       "      <td>8.0</td>\n",
       "      <td>159660.80</td>\n",
       "      <td>3</td>\n",
       "      <td>1</td>\n",
       "      <td>0</td>\n",
       "      <td>113931.57</td>\n",
       "      <td>1</td>\n",
       "      <td>0</td>\n",
       "      <td>0</td>\n",
       "      <td>0</td>\n",
       "    </tr>\n",
       "    <tr>\n",
       "      <th>3</th>\n",
       "      <td>699</td>\n",
       "      <td>39</td>\n",
       "      <td>1.0</td>\n",
       "      <td>0.00</td>\n",
       "      <td>2</td>\n",
       "      <td>0</td>\n",
       "      <td>0</td>\n",
       "      <td>93826.63</td>\n",
       "      <td>0</td>\n",
       "      <td>0</td>\n",
       "      <td>0</td>\n",
       "      <td>0</td>\n",
       "    </tr>\n",
       "    <tr>\n",
       "      <th>4</th>\n",
       "      <td>850</td>\n",
       "      <td>43</td>\n",
       "      <td>2.0</td>\n",
       "      <td>125510.82</td>\n",
       "      <td>1</td>\n",
       "      <td>1</td>\n",
       "      <td>1</td>\n",
       "      <td>79084.10</td>\n",
       "      <td>0</td>\n",
       "      <td>0</td>\n",
       "      <td>1</td>\n",
       "      <td>0</td>\n",
       "    </tr>\n",
       "  </tbody>\n",
       "</table>\n",
       "</div>"
      ],
      "text/plain": [
       "   credit_score  age  tenure    balance  num_of_products  has_cr_card  \\\n",
       "0           619   42     2.0       0.00                1            1   \n",
       "1           608   41     1.0   83807.86                1            0   \n",
       "2           502   42     8.0  159660.80                3            1   \n",
       "3           699   39     1.0       0.00                2            0   \n",
       "4           850   43     2.0  125510.82                1            1   \n",
       "\n",
       "   is_active_member  estimated_salary  exited  geography_Germany  \\\n",
       "0                 1         101348.88       1                  0   \n",
       "1                 1         112542.58       0                  0   \n",
       "2                 0         113931.57       1                  0   \n",
       "3                 0          93826.63       0                  0   \n",
       "4                 1          79084.10       0                  0   \n",
       "\n",
       "   geography_Spain  gender_Male  \n",
       "0                0            0  \n",
       "1                1            0  \n",
       "2                0            0  \n",
       "3                0            0  \n",
       "4                1            0  "
      ]
     },
     "execution_count": 53,
     "metadata": {},
     "output_type": "execute_result"
    }
   ],
   "source": [
    "# результат прямой кодировки для модели \"Логическая регрессия\"\n",
    "df_ohe.head()"
   ]
  },
  {
   "cell_type": "markdown",
   "id": "fb3bdb84-4bfa-420d-81fc-e6588ffd1c83",
   "metadata": {
    "tags": []
   },
   "source": [
    "### 5.2. Разделим выборки и извлечем признаки\n",
    "* **train** - обучающая выборка (**60%** исходных данных)\n",
    "* **valid** - валидационная выборка (**20%** исходных данных)\n",
    "* **test** - тестовая выборка (**20%** исходных данных)"
   ]
  },
  {
   "cell_type": "code",
   "execution_count": 54,
   "id": "55368be0-eeba-41e3-b19d-7a60ce9e23a0",
   "metadata": {},
   "outputs": [],
   "source": [
    "features = df_ohe.drop('exited', axis=1)                      # признаки\n",
    "target = df_ohe['exited']                                     # выделим целевой признак\n",
    "\n",
    "# отделим тренировочную выборку 60%\n",
    "# целевой признак не сбалансирован, поэтому используем параметр \"stratify\"\n",
    "features_train_lr, features_rest_lr, target_train_lr, target_rest_lr = train_test_split(features, target, test_size=0.4, random_state=12345, stratify=target)\n",
    "\n",
    "# разделим валидоционную и тестовую выборки\n",
    "features_test_lr, features_valid_lr, target_test_lr, target_valid_lr = train_test_split(features_rest_lr, target_rest_lr, train_size=0.5, random_state=12345, stratify=target_rest_lr)\n",
    "                                                    "
   ]
  },
  {
   "cell_type": "code",
   "execution_count": 55,
   "id": "e8f83002-f9d7-464f-9cd3-72e595bda001",
   "metadata": {},
   "outputs": [
    {
     "name": "stdout",
     "output_type": "stream",
     "text": [
      "Обучающая выборка\n",
      "Признаки:(5775, 11)\n",
      "Целевой признак:(5775,)\n",
      "\n"
     ]
    }
   ],
   "source": [
    "print ('Обучающая выборка', '\\n', 'Признаки:',features_train_lr.shape, '\\n', 'Целевой признак:', target_train_lr.shape, '\\n', sep='')"
   ]
  },
  {
   "cell_type": "code",
   "execution_count": 56,
   "id": "ae1da047-ee83-497a-bfe0-c4b1eac4603d",
   "metadata": {},
   "outputs": [
    {
     "name": "stdout",
     "output_type": "stream",
     "text": [
      "Валидационная выборка\n",
      "Признаки:(1925, 11)\n",
      "Целевой признак:(1925,)\n",
      "\n"
     ]
    }
   ],
   "source": [
    "print ('Валидационная выборка', '\\n', 'Признаки:',features_valid_lr.shape, '\\n', 'Целевой признак:', target_valid_lr.shape, '\\n', sep='')"
   ]
  },
  {
   "cell_type": "code",
   "execution_count": 57,
   "id": "b88995a8-7b31-4f60-af83-d8477b040473",
   "metadata": {},
   "outputs": [
    {
     "name": "stdout",
     "output_type": "stream",
     "text": [
      "Тестовая выборка\n",
      "Признаки:(1925, 11)\n",
      "Целевой признак:(1925,)\n",
      "\n"
     ]
    }
   ],
   "source": [
    "print ('Тестовая выборка', '\\n', 'Признаки:',features_test_lr.shape, '\\n', 'Целевой признак:', target_test_lr.shape, '\\n', sep='')"
   ]
  },
  {
   "cell_type": "markdown",
   "id": "dac323a7-7822-4774-923b-dd32117cee51",
   "metadata": {},
   "source": [
    "### 5.3. Масштабируем числовые признаки"
   ]
  },
  {
   "cell_type": "code",
   "execution_count": 58,
   "id": "09844651-c5ea-4b6e-8ceb-0ef2a4eca798",
   "metadata": {},
   "outputs": [
    {
     "data": {
      "text/html": [
       "<div>\n",
       "<style scoped>\n",
       "    .dataframe tbody tr th:only-of-type {\n",
       "        vertical-align: middle;\n",
       "    }\n",
       "\n",
       "    .dataframe tbody tr th {\n",
       "        vertical-align: top;\n",
       "    }\n",
       "\n",
       "    .dataframe thead th {\n",
       "        text-align: right;\n",
       "    }\n",
       "</style>\n",
       "<table border=\"1\" class=\"dataframe\">\n",
       "  <thead>\n",
       "    <tr style=\"text-align: right;\">\n",
       "      <th></th>\n",
       "      <th>credit_score</th>\n",
       "      <th>age</th>\n",
       "      <th>tenure</th>\n",
       "      <th>balance</th>\n",
       "      <th>num_of_products</th>\n",
       "      <th>has_cr_card</th>\n",
       "      <th>is_active_member</th>\n",
       "      <th>estimated_salary</th>\n",
       "      <th>geography_Germany</th>\n",
       "      <th>geography_Spain</th>\n",
       "      <th>gender_Male</th>\n",
       "    </tr>\n",
       "  </thead>\n",
       "  <tbody>\n",
       "    <tr>\n",
       "      <th>4184</th>\n",
       "      <td>-0.539456</td>\n",
       "      <td>2.440667</td>\n",
       "      <td>1.086701</td>\n",
       "      <td>0.663719</td>\n",
       "      <td>0.838720</td>\n",
       "      <td>0</td>\n",
       "      <td>0</td>\n",
       "      <td>-0.708341</td>\n",
       "      <td>1</td>\n",
       "      <td>0</td>\n",
       "      <td>1</td>\n",
       "    </tr>\n",
       "    <tr>\n",
       "      <th>8491</th>\n",
       "      <td>0.010453</td>\n",
       "      <td>0.492851</td>\n",
       "      <td>-1.090849</td>\n",
       "      <td>1.063392</td>\n",
       "      <td>0.838720</td>\n",
       "      <td>1</td>\n",
       "      <td>0</td>\n",
       "      <td>-0.996682</td>\n",
       "      <td>0</td>\n",
       "      <td>1</td>\n",
       "      <td>1</td>\n",
       "    </tr>\n",
       "    <tr>\n",
       "      <th>6528</th>\n",
       "      <td>-0.477202</td>\n",
       "      <td>-1.225809</td>\n",
       "      <td>-0.002074</td>\n",
       "      <td>0.393520</td>\n",
       "      <td>-0.899209</td>\n",
       "      <td>0</td>\n",
       "      <td>0</td>\n",
       "      <td>-1.229018</td>\n",
       "      <td>0</td>\n",
       "      <td>1</td>\n",
       "      <td>1</td>\n",
       "    </tr>\n",
       "    <tr>\n",
       "      <th>8106</th>\n",
       "      <td>-0.622461</td>\n",
       "      <td>1.524048</td>\n",
       "      <td>-0.002074</td>\n",
       "      <td>0.122991</td>\n",
       "      <td>0.838720</td>\n",
       "      <td>1</td>\n",
       "      <td>1</td>\n",
       "      <td>1.565415</td>\n",
       "      <td>0</td>\n",
       "      <td>1</td>\n",
       "      <td>0</td>\n",
       "    </tr>\n",
       "    <tr>\n",
       "      <th>3453</th>\n",
       "      <td>-0.321567</td>\n",
       "      <td>0.263697</td>\n",
       "      <td>-0.002074</td>\n",
       "      <td>0.429608</td>\n",
       "      <td>0.838720</td>\n",
       "      <td>0</td>\n",
       "      <td>0</td>\n",
       "      <td>0.696049</td>\n",
       "      <td>1</td>\n",
       "      <td>0</td>\n",
       "      <td>1</td>\n",
       "    </tr>\n",
       "  </tbody>\n",
       "</table>\n",
       "</div>"
      ],
      "text/plain": [
       "      credit_score       age    tenure   balance  num_of_products  \\\n",
       "4184     -0.539456  2.440667  1.086701  0.663719         0.838720   \n",
       "8491      0.010453  0.492851 -1.090849  1.063392         0.838720   \n",
       "6528     -0.477202 -1.225809 -0.002074  0.393520        -0.899209   \n",
       "8106     -0.622461  1.524048 -0.002074  0.122991         0.838720   \n",
       "3453     -0.321567  0.263697 -0.002074  0.429608         0.838720   \n",
       "\n",
       "      has_cr_card  is_active_member  estimated_salary  geography_Germany  \\\n",
       "4184            0                 0         -0.708341                  1   \n",
       "8491            1                 0         -0.996682                  0   \n",
       "6528            0                 0         -1.229018                  0   \n",
       "8106            1                 1          1.565415                  0   \n",
       "3453            0                 0          0.696049                  1   \n",
       "\n",
       "      geography_Spain  gender_Male  \n",
       "4184                0            1  \n",
       "8491                1            1  \n",
       "6528                1            1  \n",
       "8106                1            0  \n",
       "3453                0            1  "
      ]
     },
     "execution_count": 58,
     "metadata": {},
     "output_type": "execute_result"
    }
   ],
   "source": [
    "# сохраним в numeric список всех численных признаков\n",
    "numeric = ['credit_score', 'age', 'tenure', 'balance', 'num_of_products', 'estimated_salary']\n",
    "\n",
    "# создадим объект структуры StandardScaler и настроим его на обучающих данных\n",
    "scaler = StandardScaler()\n",
    "scaler.fit(features_train_lr[numeric])\n",
    "\n",
    "# изменённые наборы сохраним в переменных\n",
    "features_train_lr[numeric] = scaler.transform(features_train_lr[numeric])\n",
    "features_valid_lr[numeric] = scaler.transform(features_valid_lr[numeric])\n",
    "features_test_lr[numeric] = scaler.transform(features_test_lr[numeric])\n",
    "\n",
    "# добавим, чтобы предупреждение предупреждение SettingWithCopy не появлялось\n",
    "pd.options.mode.chained_assignment = None\n",
    "\n",
    "features_train_lr.head()"
   ]
  },
  {
   "cell_type": "markdown",
   "id": "0ef1a938-af5e-44c4-bb99-d694208e1ae3",
   "metadata": {},
   "source": [
    "## 6. Исследуем модель \"Логистическая регрессия\""
   ]
  },
  {
   "cell_type": "code",
   "execution_count": 59,
   "id": "dece2875-3315-4183-ada6-6b99639dec8d",
   "metadata": {},
   "outputs": [
    {
     "name": "stdout",
     "output_type": "stream",
     "text": [
      "Accuracy модели LogisticRegression: 0.8171428571428572\n",
      "\n",
      "F1-score модели LogisticRegression: 0.38461538461538464\n",
      "\n",
      "AUC-ROC модели LogisticRegression: 0.7796098436161097\n",
      "\n"
     ]
    }
   ],
   "source": [
    "# создадим и обучим модель Логистическая регрессия\n",
    "model_lr = LogisticRegression(solver='liblinear', random_state = 12345)\n",
    "model_lr.fit(features_train_lr, target_train_lr) \n",
    "\n",
    "# получим предсказание на валидационной выборке\n",
    "predicted_valid_lr = model_lr.predict(features_valid_lr)\n",
    "\n",
    "# посчитаем значение accuracy на валидационной выборке и выведем его\n",
    "print('Accuracy модели LogisticRegression: ', accuracy_score(target_valid_lr, predicted_valid_lr), '\\n', sep='')\n",
    "\n",
    "# посчитаем значение F1-score на валидационной выборке и выведем его\n",
    "print('F1-score модели LogisticRegression: ', f1_score(target_valid_lr, predicted_valid_lr), '\\n', sep='')\n",
    "\n",
    "# найдем значения вероятностей классов для валидационной выборки\n",
    "probabilities_valid = model_lr.predict_proba(features_valid_lr)\n",
    "\n",
    "# выберем вероятности положительного класса (\"1\")\n",
    "probabilities_one_valid = probabilities_valid[:, 1]\n",
    "\n",
    "# посчитаем значение AUC-ROC на валидационной выборке и выведем его\n",
    "auc_roc = roc_auc_score(target_valid_lr, probabilities_one_valid)\n",
    "\n",
    "print('AUC-ROC модели LogisticRegression: ', auc_roc, '\\n', sep='')"
   ]
  },
  {
   "cell_type": "markdown",
   "id": "0727006e-d307-4824-9ae3-9b314652ac67",
   "metadata": {},
   "source": [
    "### 6.1. Проверим модель \"Логистическая регрессия\" на адекватность"
   ]
  },
  {
   "cell_type": "code",
   "execution_count": 60,
   "id": "d7704102-7e34-4b4f-bcf1-ca5f6bdd1757",
   "metadata": {},
   "outputs": [
    {
     "name": "stdout",
     "output_type": "stream",
     "text": [
      "Accuracy константной модели: 0.7979220779220779\n",
      "\n",
      "F1-score константной модели: 0.0\n",
      "\n"
     ]
    }
   ],
   "source": [
    "# проверка модели на адекватность\n",
    "# создадим константную модель: любому объекту она прогнозирует класс «0»\n",
    "target_pred_constant = pd.Series(0, index=target_valid_lr.index)\n",
    "\n",
    "# посчитаем значение accuracy\n",
    "print('Accuracy константной модели: ', accuracy_score(target_valid_lr, target_pred_constant), '\\n', sep='')\n",
    "\n",
    "# посчитаем значение F1-score \n",
    "print('F1-score константной модели: ', f1_score(target_pred_constant, predicted_valid_lr), '\\n', sep='')"
   ]
  },
  {
   "cell_type": "markdown",
   "id": "729dae16-f791-4956-880b-8f3e4a3873eb",
   "metadata": {},
   "source": [
    "### 6.2. Проверим, как часто в целевом признаке встречается класс «1» или «0»"
   ]
  },
  {
   "cell_type": "code",
   "execution_count": 61,
   "id": "211b1f0e-dfd6-4d65-a502-40f1ee396d2a",
   "metadata": {},
   "outputs": [
    {
     "name": "stdout",
     "output_type": "stream",
     "text": [
      "    exited\n",
      "0  0.79761\n",
      "1  0.20239\n"
     ]
    },
    {
     "data": {
      "image/png": "[encoded data removed]",
      "text/plain": [
       "<Figure size 432x288 with 1 Axes>"
      ]
     },
     "metadata": {
      "needs_background": "light"
     },
     "output_type": "display_data"
    }
   ],
   "source": [
    "# посчитаем количество уникальных значений в целевом признаке\n",
    "class_frequency = df['exited'].value_counts(normalize= True).to_frame()\n",
    "print(class_frequency)\n",
    "class_frequency.plot(kind='bar', edgecolor='black', linewidth=1);"
   ]
  },
  {
   "cell_type": "code",
   "execution_count": 9,
   "id": "025cf5d5-2bad-42ae-aaea-5878d9cbb7ee",
   "metadata": {},
   "outputs": [
    {
     "data": {
      "text/plain": [
       "0.2037"
      ]
     },
     "execution_count": 9,
     "metadata": {},
     "output_type": "execute_result"
    }
   ],
   "source": [
    "df['exited'].mean()"
   ]
  },
  {
   "cell_type": "markdown",
   "id": "ff61de59-da24-4593-a9e7-4a777b3fdbd5",
   "metadata": {
    "tags": []
   },
   "source": [
    "### Выводы"
   ]
  },
  {
   "cell_type": "markdown",
   "id": "9cef634b-d2ab-4e30-a8f3-220bf51a0118",
   "metadata": {
    "tags": []
   },
   "source": [
    "* Целевой признак не сбалансирован\n",
    "* Accuracy модели LogisticRegression практически совпадает с количеством отрицательных значений целевого признака\n",
    "* Accuracy модели LogisticRegression и константной модели практически одинаковы\n",
    "* F1-score константной модели равна \"0\"\n",
    "\n",
    "**Mодель не проходит проверку на адекватность.\\\n",
    "Целевой признак необходимо сбалансировать.**"
   ]
  },
  {
   "cell_type": "markdown",
   "id": "7870883c-d329-4d90-9c84-fe3d9f576a0a",
   "metadata": {
    "tags": []
   },
   "source": [
    "### 6.3. Изменим порог классификации"
   ]
  },
  {
   "cell_type": "code",
   "execution_count": 62,
   "id": "afec0c4d-9cfb-4885-8a83-19c102fe8779",
   "metadata": {},
   "outputs": [
    {
     "name": "stdout",
     "output_type": "stream",
     "text": [
      "Порог = 0.00 | Точность = 0.202, Полнота = 1.000 | F1-мера = 0.336\n",
      "Порог = 0.05 | Точность = 0.233, Полнота = 0.967 | F1-мера = 0.375\n",
      "Порог = 0.10 | Точность = 0.285, Полнота = 0.892 | F1-мера = 0.432\n",
      "Порог = 0.15 | Точность = 0.334, Полнота = 0.784 | F1-мера = 0.468\n",
      "Порог = 0.20 | Точность = 0.393, Полнота = 0.715 | F1-мера = 0.507\n",
      "Порог = 0.25 | Точность = 0.436, Полнота = 0.617 | F1-мера = 0.511\n",
      "Порог = 0.30 | Точность = 0.475, Полнота = 0.545 | F1-мера = 0.508\n",
      "Порог = 0.35 | Точность = 0.509, Полнота = 0.483 | F1-мера = 0.496\n",
      "Порог = 0.40 | Точность = 0.547, Полнота = 0.406 | F1-мера = 0.466\n",
      "Порог = 0.45 | Точность = 0.578, Полнота = 0.342 | F1-мера = 0.430\n",
      "Порог = 0.50 | Точность = 0.601, Полнота = 0.283 | F1-мера = 0.385\n",
      "Порог = 0.55 | Точность = 0.684, Полнота = 0.239 | F1-мера = 0.354\n",
      "Порог = 0.60 | Точность = 0.743, Полнота = 0.193 | F1-мера = 0.306\n",
      "Порог = 0.65 | Точность = 0.767, Полнота = 0.144 | F1-мера = 0.242\n",
      "Порог = 0.70 | Точность = 0.826, Полнота = 0.098 | F1-мера = 0.175\n",
      "Порог = 0.75 | Точность = 0.900, Полнота = 0.069 | F1-мера = 0.129\n",
      "Порог = 0.80 | Точность = 0.864, Полнота = 0.049 | F1-мера = 0.092\n",
      "Порог = 0.85 | Точность = 0.875, Полнота = 0.018 | F1-мера = 0.035\n",
      "Порог = 0.90 | Точность = 0.667, Полнота = 0.005 | F1-мера = 0.010\n",
      "\n",
      "F1-мера лучшей модели = 0.511\n",
      "\n",
      "Порог классификации = 0.25\n"
     ]
    }
   ],
   "source": [
    "# игнорируем предупреждение\n",
    "warnings.filterwarnings('ignore')\n",
    "\n",
    "# найдем значения вероятностей классов для валидационной выборки\n",
    "probabilities_valid = model_lr.predict_proba(features_valid_lr)\n",
    "probabilities_one_valid = probabilities_valid[:, 1]\n",
    "\n",
    "best_threshold = 0\n",
    "best_result = 0\n",
    "\n",
    "for threshold in np.arange(0, 0.95, 0.05):\n",
    "    predicted_valid = probabilities_one_valid > threshold\n",
    "    precision = precision_score(target_valid_lr, predicted_valid)\n",
    "    recall = recall_score(target_valid_lr, predicted_valid)\n",
    "    result = f1_score(target_valid_lr, predicted_valid)\n",
    "\n",
    "    if result > best_result:\n",
    "        best_threshold = threshold\n",
    "        best_result = result\n",
    "    \n",
    "    print('Порог = {:.2f} | Точность = {:.3f}, Полнота = {:.3f} | F1-мера = {:.3f}'.format(\n",
    "             threshold, precision, recall, result))\n",
    "print()\n",
    "print('F1-мера лучшей модели = ', f'{best_result:.3f}','\\n', sep='')\n",
    "print('Порог классификации =', best_threshold)"
   ]
  },
  {
   "cell_type": "markdown",
   "id": "fc3ca9f0-73c8-4a68-8df3-f00f4aca874c",
   "metadata": {},
   "source": [
    "### 6.4. Изменим гиперпараметры class_weight и max_iter"
   ]
  },
  {
   "cell_type": "code",
   "execution_count": 63,
   "id": "388d45e0-b1d2-4799-b258-f67c94566ee6",
   "metadata": {},
   "outputs": [
    {
     "name": "stdout",
     "output_type": "stream",
     "text": [
      "AUC-ROC модели LogisticRegression: 0.7816617127249359\n",
      "\n",
      "F1-score модели LogisticRegression: 0.49907918968692444\n",
      "\n"
     ]
    }
   ],
   "source": [
    "# обучим модель \"Логистическая регрессия\"  с гиперпараметром class_weight='balanced'\n",
    "\n",
    "model_lr = LogisticRegression(solver='liblinear', random_state = 12345, class_weight='balanced', max_iter=1000)\n",
    "model_lr.fit(features_train_lr, target_train_lr) \n",
    "\n",
    "predicted_valid_lr = model_lr.predict(features_valid_lr)\n",
    "\n",
    "# найдем значения вероятностей классов для валидационной выборки\n",
    "probabilities_valid = model_lr.predict_proba(features_valid_lr)\n",
    "\n",
    "# выберем вероятности положительного класса (\"1\")\n",
    "probabilities_one_valid = probabilities_valid[:, 1]\n",
    "\n",
    "# посчитаем значение AUC-ROC на валидационной выборке и выведем его\n",
    "auc_roc = roc_auc_score(target_valid_lr, probabilities_one_valid)\n",
    "print('AUC-ROC модели LogisticRegression: ', auc_roc, '\\n', sep='')\n",
    "\n",
    "# посчитаем значение F1-score на валидационной выборке и выведем его\n",
    "print('F1-score модели LogisticRegression: ', f1_score(target_valid_lr, predicted_valid_lr), '\\n', sep='')"
   ]
  },
  {
   "cell_type": "markdown",
   "id": "a6b66dc9-05ad-4150-b13b-e142278f535c",
   "metadata": {},
   "source": [
    "Показатель F1-score всё ещё далек от желаемого."
   ]
  },
  {
   "cell_type": "markdown",
   "id": "6cd41916-04e3-4205-8e86-0d5f8cb6d75f",
   "metadata": {},
   "source": [
    "### 6.5. Применим технику upsampling"
   ]
  },
  {
   "cell_type": "code",
   "execution_count": 64,
   "id": "62d8d5cb-46ca-423b-a6f7-6e6c4bba8247",
   "metadata": {},
   "outputs": [
    {
     "name": "stdout",
     "output_type": "stream",
     "text": [
      "(9282, 11)\n",
      "(9282,)\n"
     ]
    }
   ],
   "source": [
    "# функция для увеличения и перемешивания выборок, функция вернёт признаки и целевой признак после операции upsampling  \n",
    "def upsample(features, target, repeat):                          # параметры функции: признаки, целевой признак, количество повторений\n",
    "    features_zeros = features_train_lr[target_train_lr == 0]           # признаки объектов с ответом «0»\n",
    "    features_ones = features_train_lr[target_train_lr == 1]            # признаки объектов с ответом «1»\n",
    "    target_zeros = target_train_lr [target_train_lr == 0]              # целевой признак объектов, у которых ответы только «0»\n",
    "    target_ones = target_train_lr [target_train_lr == 1]               # целевой признак объектов, у которых ответы только «1»\n",
    "    \n",
    "    # объединим таблицы с признаками и сохраним результат в переменной features_upsampled\n",
    "    features_upsampled = pd.concat([features_zeros] + [features_ones] * repeat)\n",
    "    \n",
    "    # то же самое для целевого признака\n",
    "    target_upsampled = pd.concat([target_zeros] + [target_ones] * repeat)\n",
    "    \n",
    "    # перемешаем\n",
    "    features_upsampled, target_upsampled = shuffle(features_upsampled, target_upsampled,random_state=12345)\n",
    "\n",
    "    return features_upsampled, target_upsampled\n",
    "\n",
    "# вызов функции\n",
    "features_upsampled, target_upsampled = upsample(features_train_lr, target_train_lr, 4)\n",
    "\n",
    "# проверим, что получилось\n",
    "print(features_upsampled.shape)\n",
    "print(target_upsampled.shape)"
   ]
  },
  {
   "cell_type": "code",
   "execution_count": 65,
   "id": "2aafa4bf-462a-4ee8-b298-2c3bfa1b8fc2",
   "metadata": {},
   "outputs": [
    {
     "name": "stdout",
     "output_type": "stream",
     "text": [
      "     exited\n",
      "1  0.503771\n",
      "0  0.496229\n"
     ]
    },
    {
     "data": {
      "image/png": "[encoded data removed]",
      "text/plain": [
       "<Figure size 432x288 with 1 Axes>"
      ]
     },
     "metadata": {
      "needs_background": "light"
     },
     "output_type": "display_data"
    }
   ],
   "source": [
    "# проверим соотношение уникальных значений в целевом признаке после upsampling\n",
    "class_frequency = target_upsampled.value_counts(normalize= True).to_frame()\n",
    "print(class_frequency)\n",
    "class_frequency.plot(kind='bar', edgecolor='black', linewidth=1);"
   ]
  },
  {
   "cell_type": "code",
   "execution_count": 66,
   "id": "461ffe6e-8921-43ba-8a44-faf0d53e6926",
   "metadata": {},
   "outputs": [
    {
     "name": "stdout",
     "output_type": "stream",
     "text": [
      "AUC-ROC модели LogisticRegression: 0.7817102479648672\n",
      "\n",
      "F1-score модели LogisticRegression: 0.5009174311926605\n",
      "\n"
     ]
    }
   ],
   "source": [
    "# обучим модель \"Логистическая регрессия\" на увеличенных данных\n",
    "\n",
    "model_lr = LogisticRegression(solver='liblinear', random_state = 12345, max_iter=1000)\n",
    "model_lr.fit(features_upsampled, target_upsampled) \n",
    "\n",
    "predicted_valid_lr = model_lr.predict(features_valid_lr)\n",
    "\n",
    "# найдем значения вероятностей классов для валидационной выборки\n",
    "probabilities_valid = model_lr.predict_proba(features_valid_lr)\n",
    "\n",
    "# выберем вероятности положительного класса (\"1\")\n",
    "probabilities_one_valid = probabilities_valid[:, 1]\n",
    "\n",
    "# посчитаем значение AUC-ROC на валидационной выборке и выведем его\n",
    "auc_roc = roc_auc_score(target_valid_lr, probabilities_one_valid)\n",
    "\n",
    "print('AUC-ROC модели LogisticRegression: ', auc_roc, '\\n', sep='')\n",
    "\n",
    "# посчитаем значение F1-score на валидационной выборке и выведем его\n",
    "print('F1-score модели LogisticRegression: ', f1_score(target_valid_lr, predicted_valid_lr), '\\n', sep='')"
   ]
  },
  {
   "cell_type": "markdown",
   "id": "dc7132f1-00e7-46f3-877a-1e9e772b8b54",
   "metadata": {},
   "source": [
    "### 6.6. Применим технику downsampling"
   ]
  },
  {
   "cell_type": "code",
   "execution_count": 67,
   "id": "3f3d5b4f-e855-4f6a-9b50-698dbb428a4a",
   "metadata": {},
   "outputs": [
    {
     "name": "stdout",
     "output_type": "stream",
     "text": [
      "(2321, 11)\n",
      "(2321,)\n"
     ]
    }
   ],
   "source": [
    "# функция для уменьшения и перемешивания\n",
    "def downsample(features, target, fraction):              # параметры функции: признаки, целевой признак, количество повторений    \n",
    "    features_zeros = features_train_lr[target_train_lr == 0]           # признаки объектов с ответом «0»\n",
    "    features_ones = features_train_lr[target_train_lr == 1]            # признаки объектов с ответом «1»\n",
    "    target_zeros = target_train_lr [target_train_lr == 0]              # целевой признак объектов, у которых ответы только «0»\n",
    "    target_ones = target_train_lr [target_train_lr == 1]               # целевой признак объектов, у которых ответы только «1»\n",
    "    \n",
    "    # объединим таблицы с признаками и сохраним результат в переменной \n",
    "    features_downsampled = pd.concat([features_zeros.sample(frac=fraction, random_state=12345)] + [features_ones])\n",
    "    \n",
    "    # то же самое для целевого признака\n",
    "    target_downsampled = pd.concat([target_zeros.sample(frac=fraction, random_state=12345)] + [target_ones])\n",
    "    \n",
    "    # перемешиваем данные\n",
    "    features_downsampled, target_downsampled = shuffle(features_downsampled, target_downsampled,random_state=12345)\n",
    "    \n",
    "    return features_downsampled, target_downsampled\n",
    "\n",
    "# вызов функции\n",
    "features_downsampled, target_downsampled = downsample(features_train_lr, target_train_lr, 0.25)\n",
    "\n",
    "# проверим, что получилось\n",
    "print(features_downsampled.shape)\n",
    "print(target_downsampled.shape)"
   ]
  },
  {
   "cell_type": "code",
   "execution_count": 68,
   "id": "4c4adc8d-7d1d-4452-b685-f5a437911fa4",
   "metadata": {},
   "outputs": [
    {
     "name": "stdout",
     "output_type": "stream",
     "text": [
      "     exited\n",
      "1  0.503662\n",
      "0  0.496338\n"
     ]
    }
   ],
   "source": [
    "# проверим соотношение уникальных значений в целевом признаке после downsampling\n",
    "class_frequency = target_downsampled.value_counts(normalize= True).to_frame()\n",
    "print(class_frequency)"
   ]
  },
  {
   "cell_type": "code",
   "execution_count": 69,
   "id": "08d98764-f948-49da-9650-413efc406cb6",
   "metadata": {},
   "outputs": [
    {
     "name": "stdout",
     "output_type": "stream",
     "text": [
      "AUC-ROC модели LogisticRegression: 0.7817604568337617\n",
      "\n",
      "F1-score модели LogisticRegression: 0.5013723696248856\n",
      "\n"
     ]
    }
   ],
   "source": [
    "# обучим модель \"Логистическая регрессия\" на уменьшенных данных\n",
    "model_lr = LogisticRegression(solver='liblinear', random_state = 12345, max_iter=1000)\n",
    "model_lr.fit(features_downsampled, target_downsampled) \n",
    "\n",
    "predicted_valid_lr = model_lr.predict(features_valid_lr)\n",
    "\n",
    "# найдем значения вероятностей классов для валидационной выборки\n",
    "probabilities_valid = model_lr.predict_proba(features_valid_lr)\n",
    "\n",
    "# выберем вероятности положительного класса (\"1\")\n",
    "probabilities_one_valid = probabilities_valid[:, 1]\n",
    "\n",
    "# посчитаем значение AUC-ROC на валидационной выборке и выведем его\n",
    "auc_roc = roc_auc_score(target_valid_lr, probabilities_one_valid)\n",
    "print('AUC-ROC модели LogisticRegression: ', auc_roc, '\\n', sep='')\n",
    "\n",
    "# посчитаем значение F1-score на валидационной выборке и выведем его\n",
    "print('F1-score модели LogisticRegression: ', f1_score(target_valid_lr, predicted_valid_lr), '\\n', sep='')"
   ]
  },
  {
   "cell_type": "markdown",
   "id": "15b2441e-5e4e-40cb-927b-b24c6d785283",
   "metadata": {
    "tags": []
   },
   "source": [
    "### 6.7. Построим PR-кривую для модели \"Логистическая регрессия\""
   ]
  },
  {
   "cell_type": "code",
   "execution_count": 70,
   "id": "b037c1fd-abab-405c-a4bc-19841a9c7715",
   "metadata": {},
   "outputs": [
    {
     "data": {
      "image/png": "[encoded data removed]",
      "text/plain": [
       "<Figure size 432x432 with 1 Axes>"
      ]
     },
     "metadata": {
      "needs_background": "light"
     },
     "output_type": "display_data"
    },
    {
     "name": "stdout",
     "output_type": "stream",
     "text": [
      "CPU times: total: 375 ms\n",
      "Wall time: 86.6 ms\n"
     ]
    }
   ],
   "source": [
    "%%time\n",
    "# обучим модель \"Логистическая регрессия\" на увеличенных данных\n",
    "model_lr = LogisticRegression(solver='liblinear', random_state = 12345, max_iter=1000)\n",
    "model_lr.fit(features_upsampled, target_upsampled) \n",
    "\n",
    "# найдем значения вероятностей классов для валидационной выборки\n",
    "probabilities_valid = model_lr.predict_proba(features_valid_lr)\n",
    "\n",
    "precision, recall, thresholds = precision_recall_curve(target_valid_lr, probabilities_valid[:, 1])\n",
    "\n",
    "plt.figure(figsize=(6, 6))\n",
    "plt.step(recall, precision, where='post')\n",
    "plt.xlabel('Recall')\n",
    "plt.ylabel('Precision')\n",
    "plt.ylim([0.0, 1.05])\n",
    "plt.xlim([0.0, 1.0])\n",
    "plt.title('Кривая Precision-Recall')\n",
    "plt.show()"
   ]
  },
  {
   "cell_type": "markdown",
   "id": "79e7035a-2119-47c2-9ffb-f4f01557e62c",
   "metadata": {
    "tags": []
   },
   "source": [
    "### 6.8. Построим ROC-кривую для модели \"Логистическая регрессия\""
   ]
  },
  {
   "cell_type": "code",
   "execution_count": 71,
   "id": "aee0e327-6111-447c-872f-07367f40fe4c",
   "metadata": {},
   "outputs": [
    {
     "data": {
      "image/png": "[encoded data removed]",
      "text/plain": [
       "<Figure size 432x288 with 1 Axes>"
      ]
     },
     "metadata": {
      "needs_background": "light"
     },
     "output_type": "display_data"
    },
    {
     "name": "stdout",
     "output_type": "stream",
     "text": [
      "CPU times: total: 312 ms\n",
      "Wall time: 78.3 ms\n"
     ]
    }
   ],
   "source": [
    "%%time\n",
    "# обучим модель \"Логистическая регрессия\" на увеличенных данных\n",
    "model_lr = LogisticRegression(solver='liblinear', random_state = 12345, class_weight='balanced', max_iter=1000)\n",
    "model_lr.fit(features_upsampled, target_upsampled) \n",
    "\n",
    "# найдем значения вероятностей классов для валидационной выборки\n",
    "probabilities_valid = model_lr.predict_proba(features_valid_lr)\n",
    "\n",
    "# выберем вероятности положительного класса (\"1\")\n",
    "probabilities_one_valid = probabilities_valid[:, 1]\n",
    "\n",
    "# передаем на вход значения целевого признака и вероятности положительного класса\n",
    "fpr, tpr, thresholds = roc_curve(target_valid_lr, probabilities_one_valid)\n",
    "\n",
    "# строим график\n",
    "plt.figure()\n",
    "\n",
    "# ROC-кривая случайной модели (выглядит как прямая)\n",
    "plt.plot([0, 1], [0, 1], linestyle='--')\n",
    "\n",
    "plt.plot(fpr, tpr)\n",
    "# функции plt.xlim() и plt.ylim(), чтобы установить границы осей от 0 до 1\n",
    "plt.xlim([0.0, 1.0])\n",
    "plt.ylim([0.0, 1.0])\n",
    "\n",
    "# подпишем оси \"False Positive Rate\" и \"True Positive Rate\"\n",
    "plt.xlabel('False Positive Rate')\n",
    "plt.ylabel('True Positive Rate')\n",
    "# заголовок \"ROC-кривая\"\n",
    "plt.title('ROC-кривая')\n",
    "plt.show()"
   ]
  },
  {
   "cell_type": "markdown",
   "id": "7730c0c0-a158-4b24-9601-f869ffc85803",
   "metadata": {},
   "source": [
    "### 6.9. Рассчитаем AUC-ROC для модели \"Логистическая регрессия\" "
   ]
  },
  {
   "cell_type": "code",
   "execution_count": 72,
   "id": "9d89c6d9-03f7-4575-90a2-f39d070a2508",
   "metadata": {},
   "outputs": [
    {
     "name": "stdout",
     "output_type": "stream",
     "text": [
      "AUC модели LogisticRegression:  0.7817052270779778\n"
     ]
    }
   ],
   "source": [
    "auc_roc = roc_auc_score(target_valid_lr, probabilities_one_valid)\n",
    "print('AUC модели LogisticRegression: ', auc_roc)"
   ]
  },
  {
   "cell_type": "markdown",
   "id": "29614314-dafd-43cd-8776-ca2896c43b46",
   "metadata": {},
   "source": [
    "## Выводы"
   ]
  },
  {
   "cell_type": "markdown",
   "id": "574032af-68d7-436f-a3f0-f12577c1157d",
   "metadata": {},
   "source": [
    "* F1-score лучшей модели LogisticRegression: 0.50, целевой уровень не достигнут\n",
    "* AUC модели LogisticRegression: 0.78, модель с высокой вероятностью сможет различить положительные и отрицательные значения "
   ]
  },
  {
   "cell_type": "markdown",
   "id": "66fd1a8b-f746-4242-b8b9-e718538380e3",
   "metadata": {
    "tags": []
   },
   "source": [
    "## 7. Подготовим данные для моделей \"Решаюшее дерево\" и \"Случайный лес\""
   ]
  },
  {
   "cell_type": "markdown",
   "id": "bc92a9d2-643e-43e6-9980-e9f1b444601f",
   "metadata": {},
   "source": [
    "### 7.1. Используем порядковое кодирование"
   ]
  },
  {
   "cell_type": "code",
   "execution_count": 73,
   "id": "94a90f01-a1a6-4c39-8fe3-468e17a1e9fa",
   "metadata": {},
   "outputs": [
    {
     "data": {
      "text/plain": [
       "OrdinalEncoder()"
      ]
     },
     "execution_count": 73,
     "metadata": {},
     "output_type": "execute_result"
    }
   ],
   "source": [
    "# создаём объект для этой структуры данных\n",
    "encoder = OrdinalEncoder()\n",
    "\n",
    "# вызываем метод fit(), чтобы получить список категориальных признаков\n",
    "encoder.fit(df)"
   ]
  },
  {
   "cell_type": "code",
   "execution_count": 74,
   "id": "f2eea2e4-0417-42dc-a25a-6d717aef06f7",
   "metadata": {},
   "outputs": [],
   "source": [
    "# измененные данные преобразуем функцией transform() и сохраним в переменной data_ordinal\n",
    "df_ordinal = encoder.transform(df)\n",
    "\n",
    "# оформим данные в структуру DataFrame()\n",
    "df_ordinal = pd.DataFrame(encoder.transform(df), columns=df.columns)"
   ]
  },
  {
   "cell_type": "code",
   "execution_count": 75,
   "id": "966853bb-7a8f-4dd9-8a32-61cdb2d9e32e",
   "metadata": {},
   "outputs": [
    {
     "data": {
      "text/html": [
       "<div>\n",
       "<style scoped>\n",
       "    .dataframe tbody tr th:only-of-type {\n",
       "        vertical-align: middle;\n",
       "    }\n",
       "\n",
       "    .dataframe tbody tr th {\n",
       "        vertical-align: top;\n",
       "    }\n",
       "\n",
       "    .dataframe thead th {\n",
       "        text-align: right;\n",
       "    }\n",
       "</style>\n",
       "<table border=\"1\" class=\"dataframe\">\n",
       "  <thead>\n",
       "    <tr style=\"text-align: right;\">\n",
       "      <th></th>\n",
       "      <th>credit_score</th>\n",
       "      <th>geography</th>\n",
       "      <th>gender</th>\n",
       "      <th>age</th>\n",
       "      <th>tenure</th>\n",
       "      <th>balance</th>\n",
       "      <th>num_of_products</th>\n",
       "      <th>has_cr_card</th>\n",
       "      <th>is_active_member</th>\n",
       "      <th>estimated_salary</th>\n",
       "      <th>exited</th>\n",
       "    </tr>\n",
       "  </thead>\n",
       "  <tbody>\n",
       "    <tr>\n",
       "      <th>0</th>\n",
       "      <td>217.0</td>\n",
       "      <td>0.0</td>\n",
       "      <td>0.0</td>\n",
       "      <td>24.0</td>\n",
       "      <td>2.0</td>\n",
       "      <td>0.0</td>\n",
       "      <td>0.0</td>\n",
       "      <td>1.0</td>\n",
       "      <td>1.0</td>\n",
       "      <td>4879.0</td>\n",
       "      <td>1.0</td>\n",
       "    </tr>\n",
       "    <tr>\n",
       "      <th>1</th>\n",
       "      <td>206.0</td>\n",
       "      <td>2.0</td>\n",
       "      <td>0.0</td>\n",
       "      <td>23.0</td>\n",
       "      <td>1.0</td>\n",
       "      <td>715.0</td>\n",
       "      <td>0.0</td>\n",
       "      <td>0.0</td>\n",
       "      <td>1.0</td>\n",
       "      <td>5421.0</td>\n",
       "      <td>0.0</td>\n",
       "    </tr>\n",
       "    <tr>\n",
       "      <th>2</th>\n",
       "      <td>100.0</td>\n",
       "      <td>0.0</td>\n",
       "      <td>0.0</td>\n",
       "      <td>24.0</td>\n",
       "      <td>8.0</td>\n",
       "      <td>5579.0</td>\n",
       "      <td>2.0</td>\n",
       "      <td>1.0</td>\n",
       "      <td>0.0</td>\n",
       "      <td>5486.0</td>\n",
       "      <td>1.0</td>\n",
       "    </tr>\n",
       "    <tr>\n",
       "      <th>3</th>\n",
       "      <td>297.0</td>\n",
       "      <td>0.0</td>\n",
       "      <td>0.0</td>\n",
       "      <td>21.0</td>\n",
       "      <td>1.0</td>\n",
       "      <td>0.0</td>\n",
       "      <td>1.0</td>\n",
       "      <td>0.0</td>\n",
       "      <td>0.0</td>\n",
       "      <td>4527.0</td>\n",
       "      <td>0.0</td>\n",
       "    </tr>\n",
       "    <tr>\n",
       "      <th>4</th>\n",
       "      <td>448.0</td>\n",
       "      <td>2.0</td>\n",
       "      <td>0.0</td>\n",
       "      <td>25.0</td>\n",
       "      <td>2.0</td>\n",
       "      <td>3561.0</td>\n",
       "      <td>0.0</td>\n",
       "      <td>1.0</td>\n",
       "      <td>1.0</td>\n",
       "      <td>3770.0</td>\n",
       "      <td>0.0</td>\n",
       "    </tr>\n",
       "  </tbody>\n",
       "</table>\n",
       "</div>"
      ],
      "text/plain": [
       "   credit_score  geography  gender   age  tenure  balance  num_of_products  \\\n",
       "0         217.0        0.0     0.0  24.0     2.0      0.0              0.0   \n",
       "1         206.0        2.0     0.0  23.0     1.0    715.0              0.0   \n",
       "2         100.0        0.0     0.0  24.0     8.0   5579.0              2.0   \n",
       "3         297.0        0.0     0.0  21.0     1.0      0.0              1.0   \n",
       "4         448.0        2.0     0.0  25.0     2.0   3561.0              0.0   \n",
       "\n",
       "   has_cr_card  is_active_member  estimated_salary  exited  \n",
       "0          1.0               1.0            4879.0     1.0  \n",
       "1          0.0               1.0            5421.0     0.0  \n",
       "2          1.0               0.0            5486.0     1.0  \n",
       "3          0.0               0.0            4527.0     0.0  \n",
       "4          1.0               1.0            3770.0     0.0  "
      ]
     },
     "execution_count": 75,
     "metadata": {},
     "output_type": "execute_result"
    }
   ],
   "source": [
    "# результат порядковой кодировки для моделей \"Решаюшее дерево\" и \"Случайный лес\"\n",
    "df_ordinal.head()"
   ]
  },
  {
   "cell_type": "markdown",
   "id": "e6108df3-e0ff-4ef9-ba61-219b17a980f6",
   "metadata": {
    "tags": []
   },
   "source": [
    "### 7.2. Разделим выборки и извлечем признаки\n",
    "* **train** - обучающая выборка (**60%** исходных данных)\n",
    "* **valid** - валидационная выборка (**20%** исходных данных)\n",
    "* **test** - тестовая выборка (**20%** исходных данных)"
   ]
  },
  {
   "cell_type": "code",
   "execution_count": 76,
   "id": "7381b4f0-7c19-49be-8362-ebefb63c3be5",
   "metadata": {},
   "outputs": [],
   "source": [
    "features = df_ordinal.drop('exited', axis=1)                      # признаки\n",
    "target = df_ordinal['exited']                                     # выделим целевой признак\n",
    "\n",
    "# отделим тренировочную выборку 60%\n",
    "# целевой признак не сбалансирован, поэтому используем параметр \"stratify\"\n",
    "features_train_tf, features_rest_tf, target_train_tf, target_rest_tf = train_test_split(features, target, test_size=0.4, random_state=12345, stratify=target)\n",
    "\n",
    "# разделим валидоционную и тестовую выборки\n",
    "features_test_tf, features_valid_tf, target_test_tf, target_valid_tf = train_test_split(features_rest_tf, target_rest_tf, train_size=0.5, random_state=12345, stratify=target_rest_tf)\n",
    "                                                    "
   ]
  },
  {
   "cell_type": "code",
   "execution_count": 77,
   "id": "0b389b3c-d0ed-49d8-8dc2-ba5d96505fcb",
   "metadata": {},
   "outputs": [
    {
     "name": "stdout",
     "output_type": "stream",
     "text": [
      "Обучающая выборка\n",
      "Признаки:(5775, 10)\n",
      "Целевой признак:(5775,)\n",
      "\n"
     ]
    }
   ],
   "source": [
    "print ('Обучающая выборка', '\\n', 'Признаки:',features_train_tf.shape, '\\n', 'Целевой признак:', target_train_tf.shape, '\\n', sep='')"
   ]
  },
  {
   "cell_type": "code",
   "execution_count": 78,
   "id": "a8d847e3-ef48-4978-87dd-aa92856cc91d",
   "metadata": {},
   "outputs": [
    {
     "name": "stdout",
     "output_type": "stream",
     "text": [
      "Валидационная выборка\n",
      "Признаки:(1925, 10)\n",
      "Целевой признак:(1925,)\n",
      "\n"
     ]
    }
   ],
   "source": [
    "print ('Валидационная выборка', '\\n', 'Признаки:',features_valid_tf.shape, '\\n', 'Целевой признак:', target_valid_tf.shape, '\\n', sep='')"
   ]
  },
  {
   "cell_type": "code",
   "execution_count": 79,
   "id": "ce16ea9d-ac04-40fa-8405-9b2ce6898525",
   "metadata": {},
   "outputs": [
    {
     "name": "stdout",
     "output_type": "stream",
     "text": [
      "Тестовая выборка\n",
      "Признаки:(1925, 10)\n",
      "Целевой признак:(1925,)\n",
      "\n"
     ]
    }
   ],
   "source": [
    "print ('Тестовая выборка', '\\n', 'Признаки:',features_test_tf.shape, '\\n', 'Целевой признак:', target_test_tf.shape, '\\n', sep='')"
   ]
  },
  {
   "cell_type": "markdown",
   "id": "00a2fc75-ec83-410d-9bb1-21638d36079a",
   "metadata": {},
   "source": [
    "### 7.4. Масштабируем числовые признаки"
   ]
  },
  {
   "cell_type": "code",
   "execution_count": 80,
   "id": "766913ba-dc98-4c85-828a-3e996a78c915",
   "metadata": {},
   "outputs": [
    {
     "data": {
      "text/html": [
       "<div>\n",
       "<style scoped>\n",
       "    .dataframe tbody tr th:only-of-type {\n",
       "        vertical-align: middle;\n",
       "    }\n",
       "\n",
       "    .dataframe tbody tr th {\n",
       "        vertical-align: top;\n",
       "    }\n",
       "\n",
       "    .dataframe thead th {\n",
       "        text-align: right;\n",
       "    }\n",
       "</style>\n",
       "<table border=\"1\" class=\"dataframe\">\n",
       "  <thead>\n",
       "    <tr style=\"text-align: right;\">\n",
       "      <th></th>\n",
       "      <th>credit_score</th>\n",
       "      <th>geography</th>\n",
       "      <th>gender</th>\n",
       "      <th>age</th>\n",
       "      <th>tenure</th>\n",
       "      <th>balance</th>\n",
       "      <th>num_of_products</th>\n",
       "      <th>has_cr_card</th>\n",
       "      <th>is_active_member</th>\n",
       "      <th>estimated_salary</th>\n",
       "    </tr>\n",
       "  </thead>\n",
       "  <tbody>\n",
       "    <tr>\n",
       "      <th>4026</th>\n",
       "      <td>-0.539546</td>\n",
       "      <td>1.0</td>\n",
       "      <td>1.0</td>\n",
       "      <td>2.440667</td>\n",
       "      <td>1.086701</td>\n",
       "      <td>0.472245</td>\n",
       "      <td>0.838720</td>\n",
       "      <td>0.0</td>\n",
       "      <td>0.0</td>\n",
       "      <td>-0.718810</td>\n",
       "    </tr>\n",
       "    <tr>\n",
       "      <th>8176</th>\n",
       "      <td>0.010416</td>\n",
       "      <td>2.0</td>\n",
       "      <td>1.0</td>\n",
       "      <td>0.492851</td>\n",
       "      <td>-1.090849</td>\n",
       "      <td>1.398236</td>\n",
       "      <td>0.838720</td>\n",
       "      <td>1.0</td>\n",
       "      <td>0.0</td>\n",
       "      <td>-1.007215</td>\n",
       "    </tr>\n",
       "    <tr>\n",
       "      <th>6288</th>\n",
       "      <td>-0.477286</td>\n",
       "      <td>2.0</td>\n",
       "      <td>1.0</td>\n",
       "      <td>-1.225809</td>\n",
       "      <td>-0.002074</td>\n",
       "      <td>-0.174146</td>\n",
       "      <td>-0.899209</td>\n",
       "      <td>0.0</td>\n",
       "      <td>0.0</td>\n",
       "      <td>-1.230810</td>\n",
       "    </tr>\n",
       "    <tr>\n",
       "      <th>7804</th>\n",
       "      <td>-0.622559</td>\n",
       "      <td>2.0</td>\n",
       "      <td>0.0</td>\n",
       "      <td>1.524048</td>\n",
       "      <td>-0.002074</td>\n",
       "      <td>-0.600852</td>\n",
       "      <td>0.838720</td>\n",
       "      <td>1.0</td>\n",
       "      <td>1.0</td>\n",
       "      <td>1.555666</td>\n",
       "    </tr>\n",
       "    <tr>\n",
       "      <th>3332</th>\n",
       "      <td>-0.321636</td>\n",
       "      <td>1.0</td>\n",
       "      <td>1.0</td>\n",
       "      <td>0.263697</td>\n",
       "      <td>-0.002074</td>\n",
       "      <td>-0.092312</td>\n",
       "      <td>0.838720</td>\n",
       "      <td>0.0</td>\n",
       "      <td>0.0</td>\n",
       "      <td>0.704853</td>\n",
       "    </tr>\n",
       "  </tbody>\n",
       "</table>\n",
       "</div>"
      ],
      "text/plain": [
       "      credit_score  geography  gender       age    tenure   balance  \\\n",
       "4026     -0.539546        1.0     1.0  2.440667  1.086701  0.472245   \n",
       "8176      0.010416        2.0     1.0  0.492851 -1.090849  1.398236   \n",
       "6288     -0.477286        2.0     1.0 -1.225809 -0.002074 -0.174146   \n",
       "7804     -0.622559        2.0     0.0  1.524048 -0.002074 -0.600852   \n",
       "3332     -0.321636        1.0     1.0  0.263697 -0.002074 -0.092312   \n",
       "\n",
       "      num_of_products  has_cr_card  is_active_member  estimated_salary  \n",
       "4026         0.838720          0.0               0.0         -0.718810  \n",
       "8176         0.838720          1.0               0.0         -1.007215  \n",
       "6288        -0.899209          0.0               0.0         -1.230810  \n",
       "7804         0.838720          1.0               1.0          1.555666  \n",
       "3332         0.838720          0.0               0.0          0.704853  "
      ]
     },
     "execution_count": 80,
     "metadata": {},
     "output_type": "execute_result"
    }
   ],
   "source": [
    "# сохраним в numeric список всех численных признаков\n",
    "numeric = ['credit_score', 'age', 'tenure', 'balance', 'num_of_products', 'estimated_salary']\n",
    "\n",
    "# создадим объект структуры StandardScaler и настроим его на обучающих данных\n",
    "scaler = StandardScaler()\n",
    "scaler.fit(features_train_tf[numeric])\n",
    "\n",
    "# изменённые наборы сохраним в переменных\n",
    "features_train_tf[numeric] = scaler.transform(features_train_tf[numeric])\n",
    "features_valid_tf[numeric] = scaler.transform(features_valid_tf[numeric])\n",
    "features_test_tf[numeric] = scaler.transform(features_test_tf[numeric])\n",
    "\n",
    "# чтобы предупреждение предупреждение SettingWithCopy не появлялосm, добавим строку:\n",
    "pd.options.mode.chained_assignment = None\n",
    "\n",
    "features_train_tf.head()"
   ]
  },
  {
   "cell_type": "markdown",
   "id": "8fb621a3-cecb-4e29-acdb-c1fde20d97cf",
   "metadata": {},
   "source": [
    "## 8. Исследуем модель \"Решающее дерево\""
   ]
  },
  {
   "cell_type": "code",
   "execution_count": 81,
   "id": "b571cf00-ea7a-44cc-809a-fbf7b2bda16e",
   "metadata": {},
   "outputs": [
    {
     "name": "stdout",
     "output_type": "stream",
     "text": [
      "Accuracy модели DecisionTree: 0.7802597402597402\n",
      "\n",
      "F1-score модели DecisionTree: 0.46792452830188674\n",
      "\n"
     ]
    }
   ],
   "source": [
    "# создадим модель и обучим модель\n",
    "model_tree = DecisionTreeClassifier(random_state=12345)\n",
    "model_tree.fit(features_train_tf, target_train_tf)\n",
    "\n",
    "# получим предсказание на валидационной выборке\n",
    "predicted_valid_tf = model_tree.predict(features_valid_tf)\n",
    "\n",
    "# посчитаем значение accuracy на валидационной выборке и выведем его\n",
    "print('Accuracy модели DecisionTree: ', accuracy_score(target_valid_tf, predicted_valid_tf), '\\n', sep='')\n",
    "\n",
    "# посчитаем значение F1-score на валидационной выборке и выведем его\n",
    "print('F1-score модели DecisionTree: ', f1_score(target_valid_tf, predicted_valid_tf), '\\n', sep='')"
   ]
  },
  {
   "cell_type": "markdown",
   "id": "544be90a-3d8e-4b0b-a898-e403b15c30e6",
   "metadata": {},
   "source": [
    "### 8.1. Подберем лучший параметр 'max_depth "
   ]
  },
  {
   "cell_type": "code",
   "execution_count": 82,
   "id": "a411e00d-0c50-47f6-9c1d-7dd9fb2ffd52",
   "metadata": {
    "tags": []
   },
   "outputs": [
    {
     "name": "stderr",
     "output_type": "stream",
     "text": [
      "100%|██████████| 100/100 [00:01<00:00, 52.29it/s]"
     ]
    },
    {
     "name": "stdout",
     "output_type": "stream",
     "text": [
      "F1 лучшей модели на валидационной выборке: 0.5443\n"
     ]
    },
    {
     "name": "stderr",
     "output_type": "stream",
     "text": [
      "\n"
     ]
    },
    {
     "data": {
      "text/plain": [
       "DecisionTreeClassifier(max_depth=7, random_state=12345)"
      ]
     },
     "execution_count": 82,
     "metadata": {},
     "output_type": "execute_result"
    }
   ],
   "source": [
    "best_model_tree = None\n",
    "best_result = 0\n",
    "\n",
    "# цикл обучения модели с разным с разной глубиной от 1 до 100\n",
    "for dept in tqdm(range(1, 101, 1)):\n",
    "    model_tree = DecisionTreeClassifier(random_state=12345, max_depth=dept)     # создадим модель с заданой глубиной\n",
    "        \n",
    "    model_tree.fit(features_train_tf, target_train_tf)                          # обучим модель используя тренировочную выборку\n",
    "        \n",
    "    predicted_valid_tf = model_tree.predict(features_valid_tf)\n",
    "    result = f1_score(target_valid_tf, predicted_valid_tf)                      # качество модели на валидационной выборке\n",
    "        \n",
    "    if result > best_result:                                                    # сравним результат \n",
    "        best_model_tree = model_tree                                            # сохраним наилучшую модель\n",
    "        best_result = result                                                    # сохраним наилучшее значение метрики accuracy на валидационных данных\n",
    "\n",
    "print(\"F1 лучшей модели на валидационной выборке:\", f'{best_result:.4f}')\n",
    "best_model_tree"
   ]
  },
  {
   "cell_type": "markdown",
   "id": "bfc4a15d-c781-4abd-8886-5a9854d4d6e2",
   "metadata": {
    "tags": []
   },
   "source": [
    "#### Выводы"
   ]
  },
  {
   "cell_type": "markdown",
   "id": "edea5021-2796-4eae-a6a0-2886587ad9fe",
   "metadata": {
    "tags": []
   },
   "source": [
    "* F1-score модели DecisionTree лучше аналогичных показателей модели LogisticRegression\n",
    "* Нам известно, что целевой признак не сбалансирован, поэтому:\n",
    "** изменим порог классификации\n",
    "** улучшим модель DecisionTree обучив её на выборках обработанных техниками upsampling и downsampling\n",
    "* Подберем лучшие гиперпараметры для модели "
   ]
  },
  {
   "cell_type": "markdown",
   "id": "a9497287-81eb-4a72-b007-86b22b505bf1",
   "metadata": {
    "tags": []
   },
   "source": [
    "### 8.2. Изменим порог классификации"
   ]
  },
  {
   "cell_type": "code",
   "execution_count": 83,
   "id": "409ab5ab-765a-4ede-b9eb-d5622193f79c",
   "metadata": {},
   "outputs": [
    {
     "name": "stdout",
     "output_type": "stream",
     "text": [
      "Порог = 0.00 | Точность = 0.458, Полнота = 0.478 | F1-мера = 0.468\n",
      "Порог = 0.05 | Точность = 0.458, Полнота = 0.478 | F1-мера = 0.468\n",
      "Порог = 0.10 | Точность = 0.458, Полнота = 0.478 | F1-мера = 0.468\n",
      "Порог = 0.15 | Точность = 0.458, Полнота = 0.478 | F1-мера = 0.468\n",
      "Порог = 0.20 | Точность = 0.458, Полнота = 0.478 | F1-мера = 0.468\n",
      "Порог = 0.25 | Точность = 0.458, Полнота = 0.478 | F1-мера = 0.468\n",
      "Порог = 0.30 | Точность = 0.458, Полнота = 0.478 | F1-мера = 0.468\n",
      "Порог = 0.35 | Точность = 0.458, Полнота = 0.478 | F1-мера = 0.468\n",
      "Порог = 0.40 | Точность = 0.458, Полнота = 0.478 | F1-мера = 0.468\n",
      "Порог = 0.45 | Точность = 0.458, Полнота = 0.478 | F1-мера = 0.468\n",
      "Порог = 0.50 | Точность = 0.458, Полнота = 0.478 | F1-мера = 0.468\n",
      "Порог = 0.55 | Точность = 0.458, Полнота = 0.478 | F1-мера = 0.468\n",
      "Порог = 0.60 | Точность = 0.458, Полнота = 0.478 | F1-мера = 0.468\n",
      "Порог = 0.65 | Точность = 0.458, Полнота = 0.478 | F1-мера = 0.468\n",
      "Порог = 0.70 | Точность = 0.458, Полнота = 0.478 | F1-мера = 0.468\n",
      "Порог = 0.75 | Точность = 0.458, Полнота = 0.478 | F1-мера = 0.468\n",
      "Порог = 0.80 | Точность = 0.458, Полнота = 0.478 | F1-мера = 0.468\n",
      "Порог = 0.85 | Точность = 0.458, Полнота = 0.478 | F1-мера = 0.468\n",
      "Порог = 0.90 | Точность = 0.458, Полнота = 0.478 | F1-мера = 0.468\n",
      "\n",
      "F1-мера лучшей модели = 0.468\n",
      "\n",
      "Порог классификации = 0.0\n"
     ]
    }
   ],
   "source": [
    "# игнорируем предупреждение\n",
    "warnings.filterwarnings('ignore')\n",
    "\n",
    "# найдем значения вероятностей классов для валидационной выборки\n",
    "probabilities_valid = model_tree.predict_proba(features_valid_tf)\n",
    "probabilities_one_valid = probabilities_valid[:, 1]\n",
    "\n",
    "best_threshold = 0\n",
    "best_result = 0\n",
    "\n",
    "for threshold in np.arange(0, 0.95, 0.05):\n",
    "    predicted_valid = probabilities_one_valid > threshold\n",
    "    precision = precision_score(target_valid_tf, predicted_valid)\n",
    "    recall = recall_score(target_valid_tf, predicted_valid)\n",
    "    result = f1_score(target_valid_tf, predicted_valid)\n",
    "\n",
    "    if result > best_result:\n",
    "        best_threshold = threshold\n",
    "        best_result = result\n",
    "    \n",
    "    print('Порог = {:.2f} | Точность = {:.3f}, Полнота = {:.3f} | F1-мера = {:.3f}'.format(\n",
    "             threshold, precision, recall, result))\n",
    "print()\n",
    "print('F1-мера лучшей модели = ', f'{best_result:.3f}','\\n', sep='')\n",
    "print('Порог классификации =', best_threshold)"
   ]
  },
  {
   "cell_type": "markdown",
   "id": "d1898925-312b-4f01-b1d9-e0e63b62351d",
   "metadata": {},
   "source": [
    "### 8.3. Применим технику upsampling"
   ]
  },
  {
   "cell_type": "code",
   "execution_count": 84,
   "id": "e564741d-b535-43cb-baec-eb53243d77ef",
   "metadata": {},
   "outputs": [
    {
     "name": "stdout",
     "output_type": "stream",
     "text": [
      "(9282, 10)\n",
      "(9282,)\n"
     ]
    }
   ],
   "source": [
    "# функция для увеличения и перемешивания выборок, функция вернёт признаки и целевой признак после операции upsampling  \n",
    "def upsample(features, target, repeat):                                # параметры функции: признаки, целевой признак, количество повторений\n",
    "    features_zeros = features_train_tf[target_train_tf == 0]           # признаки объектов с ответом «0»\n",
    "    features_ones = features_train_tf[target_train_tf == 1]            # признаки объектов с ответом «1»\n",
    "    target_zeros = target_train_tf[target_train_tf == 0]               # целевой признак объектов, у которых ответы только «0»\n",
    "    target_ones = target_train_tf[target_train_tf == 1]                # целевой признак объектов, у которых ответы только «1»\n",
    "    \n",
    "    # объединим таблицы с признаками и сохраним результат в переменной features_upsampled\n",
    "    features_upsampled = pd.concat([features_zeros] + [features_ones] * repeat)\n",
    "    \n",
    "    # то же самое для целевого признака\n",
    "    target_upsampled = pd.concat([target_zeros] + [target_ones] * repeat)\n",
    "    \n",
    "    # перемешаем\n",
    "    features_upsampled, target_upsampled = shuffle(features_upsampled, target_upsampled,random_state=12345)\n",
    "\n",
    "    return features_upsampled, target_upsampled\n",
    "\n",
    "# вызов функции\n",
    "features_upsampled, target_upsampled = upsample(features_train_tf, target_train_tf, 4)\n",
    "\n",
    "# проверим, что получилось\n",
    "print(features_upsampled.shape)\n",
    "print(target_upsampled.shape)"
   ]
  },
  {
   "cell_type": "code",
   "execution_count": 85,
   "id": "9a55e28f-d7cd-49fc-a384-174dd76ce310",
   "metadata": {},
   "outputs": [
    {
     "name": "stdout",
     "output_type": "stream",
     "text": [
      "AUC-ROC модели DecisionTree: 0.6585462189374464\n",
      "\n",
      "F1-score модели DecisionTree: 0.45609436435124506\n",
      "\n"
     ]
    }
   ],
   "source": [
    "# создадим модель и обучим модель на увеличенных данных\n",
    "model_tree = DecisionTreeClassifier(random_state=12345)\n",
    "model_tree.fit(features_upsampled, target_upsampled)\n",
    "\n",
    "# получим предсказание на валидационной выборке\n",
    "predicted_valid_tf = model_tree.predict(features_valid_tf)\n",
    "\n",
    "# найдем значения вероятностей классов для валидационной выборки\n",
    "probabilities_valid = model_tree.predict_proba(features_valid_tf)\n",
    "\n",
    "# выберем вероятности положительного класса (\"1\")\n",
    "probabilities_one_valid = probabilities_valid[:, 1]\n",
    "\n",
    "# посчитаем значение AUC-ROC на валидационной выборке и выведем его\n",
    "auc_roc = roc_auc_score(target_valid_tf, probabilities_one_valid)\n",
    "print('AUC-ROC модели DecisionTree: ', auc_roc, '\\n', sep='')\n",
    "\n",
    "# посчитаем значение F1-score на валидационной выборке и выведем его\n",
    "print('F1-score модели DecisionTree: ', f1_score(target_valid_tf, predicted_valid_tf), '\\n', sep='')"
   ]
  },
  {
   "cell_type": "markdown",
   "id": "513ee7bb-bd74-4b44-8897-c9d755bac1f2",
   "metadata": {},
   "source": [
    "### 8.4. Подберем лучший параметр 'max_depth для модели"
   ]
  },
  {
   "cell_type": "code",
   "execution_count": 86,
   "id": "b61aea61-e9e3-4d78-bd68-e340fe10aa6c",
   "metadata": {
    "tags": []
   },
   "outputs": [
    {
     "name": "stderr",
     "output_type": "stream",
     "text": [
      "100%|██████████| 100/100 [00:02<00:00, 42.58it/s]"
     ]
    },
    {
     "name": "stdout",
     "output_type": "stream",
     "text": [
      "F1 лучшей модели на валидационной выборке: 0.5735\n"
     ]
    },
    {
     "name": "stderr",
     "output_type": "stream",
     "text": [
      "\n"
     ]
    },
    {
     "data": {
      "text/plain": [
       "DecisionTreeClassifier(max_depth=4, random_state=12345)"
      ]
     },
     "execution_count": 86,
     "metadata": {},
     "output_type": "execute_result"
    }
   ],
   "source": [
    "best_model_tree = None\n",
    "best_result = 0\n",
    "\n",
    "# цикл обучения модели с разным с разной глубиной от 1 до 100\n",
    "for dept in tqdm(range(1, 101, 1)):\n",
    "    model_tree = DecisionTreeClassifier(random_state=12345, max_depth=dept)     # создадим модель с заданой глубиной\n",
    "        \n",
    "    model_tree.fit(features_upsampled, target_upsampled)                          # обучим модель используя увеличенную выборку\n",
    "        \n",
    "    predicted_valid_tf = model_tree.predict(features_valid_tf)\n",
    "    result = f1_score(target_valid_tf, predicted_valid_tf)                      # качество модели на валидационной выборке\n",
    "        \n",
    "    if result > best_result:                                                    # сравним результат \n",
    "        best_model_tree = model_tree                                            # сохраним наилучшую модель\n",
    "        best_result = result                                                    # сохраним наилучшее значение метрики accuracy на валидационных данных\n",
    "\n",
    "print(\"F1 лучшей модели на валидационной выборке:\", f'{best_result:.4f}')\n",
    "best_model_tree"
   ]
  },
  {
   "cell_type": "markdown",
   "id": "d9a9ce29-e98c-467e-8376-cfbc0f329f4c",
   "metadata": {},
   "source": [
    "### 8.5. Применим технику downsampling"
   ]
  },
  {
   "cell_type": "code",
   "execution_count": 87,
   "id": "67534176-148b-47b4-9f47-046063a10434",
   "metadata": {},
   "outputs": [
    {
     "name": "stdout",
     "output_type": "stream",
     "text": [
      "(2321, 10)\n",
      "(2321,)\n"
     ]
    }
   ],
   "source": [
    "# функция для уменьшения и перемешивания\n",
    "def downsample(features, target, fraction):                           # параметры функции: признаки, целевой признак, количество повторений    \n",
    "    features_zeros = features_train_tf[target_train_tf == 0]          # признаки объектов с ответом «0»\n",
    "    features_ones = features_train_tf[target_train_tf == 1]           # признаки объектов с ответом «1»\n",
    "    target_zeros = target_train_tf[target_train_tf == 0]              # целевой признак объектов, у которых ответы только «0»\n",
    "    target_ones = target_train_tf[target_train_tf == 1]               # целевой признак объектов, у которых ответы только «1»\n",
    "    \n",
    "    # объединим таблицы с признаками и сохраним результат в переменной \n",
    "    features_downsampled = pd.concat([features_zeros.sample(frac=fraction, random_state=12345)] + [features_ones])\n",
    "    \n",
    "    # то же самое для целевого признака\n",
    "    target_downsampled = pd.concat([target_zeros.sample(frac=fraction, random_state=12345)] + [target_ones])\n",
    "    \n",
    "    # перемешиваем данные\n",
    "    features_downsampled, target_downsampled = shuffle(features_downsampled, target_downsampled,random_state=12345)\n",
    "    \n",
    "    return features_downsampled, target_downsampled\n",
    "\n",
    "# вызов функции\n",
    "features_downsampled, target_downsampled = downsample(features_train_tf, target_train_tf, 0.25)\n",
    "\n",
    "# проверим, что получилось\n",
    "print(features_downsampled.shape)\n",
    "print(target_downsampled.shape)"
   ]
  },
  {
   "cell_type": "code",
   "execution_count": 88,
   "id": "3b3b6aa7-5991-447f-ad09-bcf9a5e7bc2f",
   "metadata": {},
   "outputs": [
    {
     "name": "stdout",
     "output_type": "stream",
     "text": [
      "AUC-ROC модели DecisionTree: 0.6924547785454157\n",
      "\n",
      "F1-score модели DecisionTreeClassifier:0.47686832740213525\n",
      "\n"
     ]
    }
   ],
   "source": [
    "# создадим модель и обучим модель на уменьшенных данных\n",
    "model_tree = DecisionTreeClassifier(random_state=12345)\n",
    "model_tree.fit(features_downsampled, target_downsampled)\n",
    "\n",
    "# получим предсказание на валидационной выборке\n",
    "predicted_valid_tf = model_tree.predict(features_valid_tf)\n",
    "\n",
    "# найдем значения вероятностей классов для валидационной выборки\n",
    "probabilities_valid = model_tree.predict_proba(features_valid_tf)\n",
    "\n",
    "# выберем вероятности положительного класса (\"1\")\n",
    "probabilities_one_valid = probabilities_valid[:, 1]\n",
    "\n",
    "# посчитаем значение AUC-ROC на валидационной выборке и выведем его\n",
    "auc_roc = roc_auc_score(target_valid_tf, probabilities_one_valid)\n",
    "print('AUC-ROC модели DecisionTree: ', auc_roc, '\\n', sep='')\n",
    "\n",
    "# посчитаем значение F1-score на валидационной выборке и выведем его\n",
    "print('F1-score модели DecisionTreeClassifier:', f1_score(target_valid_tf, predicted_valid_tf), '\\n', sep='')"
   ]
  },
  {
   "cell_type": "markdown",
   "id": "7f54de4d-0131-4a86-b4f0-f0647c799623",
   "metadata": {
    "tags": []
   },
   "source": [
    "### 8.6. Подберем лучший параметр 'max_depth для модели "
   ]
  },
  {
   "cell_type": "code",
   "execution_count": 89,
   "id": "504ac727-09f3-4997-ac0a-af2920e08982",
   "metadata": {},
   "outputs": [
    {
     "name": "stdout",
     "output_type": "stream",
     "text": [
      "{'max_depth': 4}\n",
      "0.7503955050593168\n",
      "CPU times: total: 3.73 s\n",
      "Wall time: 3.77 s\n"
     ]
    }
   ],
   "source": [
    "%%time\n",
    "# определяем параметры для перебора\n",
    "parametrs = {'max_depth': range (1, 101, 1)} # глубина от 1 до 100 с шагом 1\n",
    "\n",
    "# запускаем обучение\n",
    "grid = GridSearchCV(model_tree, parametrs, scoring='f1', cv=5)\n",
    "grid.fit(features_downsampled, target_downsampled)\n",
    "    \n",
    "# выводим результат\n",
    "print (grid.best_params_)\n",
    "print (grid.best_score_)"
   ]
  },
  {
   "cell_type": "code",
   "execution_count": 90,
   "id": "95d9fb91-9c8b-4f23-9735-f632e07a1cb8",
   "metadata": {
    "tags": []
   },
   "outputs": [
    {
     "name": "stderr",
     "output_type": "stream",
     "text": [
      "100%|██████████| 100/100 [00:00<00:00, 108.01it/s]"
     ]
    },
    {
     "name": "stdout",
     "output_type": "stream",
     "text": [
      "F1 наилучшей модели на валидационной выборке: 0.5517\n"
     ]
    },
    {
     "name": "stderr",
     "output_type": "stream",
     "text": [
      "\n"
     ]
    },
    {
     "data": {
      "text/plain": [
       "DecisionTreeClassifier(max_depth=7, random_state=12345)"
      ]
     },
     "execution_count": 90,
     "metadata": {},
     "output_type": "execute_result"
    }
   ],
   "source": [
    "best_model_tree = None\n",
    "best_result = 0\n",
    "\n",
    "# цикл обучения модели с разным с разной глубиной от 1 до 100\n",
    "for dept in tqdm(range(1, 101, 1)):\n",
    "    model_tree = DecisionTreeClassifier(random_state=12345, max_depth=dept)               # создадим модель с заданой глубиной\n",
    "        \n",
    "    model_tree.fit(features_downsampled, target_downsampled)                              # обучим модель используя уменьшенную выборку\n",
    "        \n",
    "    predicted_valid_tf = model_tree.predict(features_valid_tf)\n",
    "    result = f1_score(target_valid_tf, predicted_valid_tf)                      # качество модели на валидационной выборке\n",
    "        \n",
    "    if result > best_result:                                                    # сравним результат \n",
    "        best_model_tree = model_tree                                            # сохраним наилучшую модель\n",
    "        best_result = result                                                    # сохраним наилучшее значение метрики accuracy на валидационных данных\n",
    "\n",
    "print(\"F1 наилучшей модели на валидационной выборке:\", f'{best_result:.4f}')\n",
    "best_model_tree"
   ]
  },
  {
   "cell_type": "markdown",
   "id": "74e05b5b-b188-402f-ac42-deeeddf864b9",
   "metadata": {},
   "source": [
    "#### Обучим модель с лучшим параметром 'max_depth' и оценим результат"
   ]
  },
  {
   "cell_type": "code",
   "execution_count": 91,
   "id": "6b4129e7-0a22-4513-b689-2d932a1cf3b4",
   "metadata": {},
   "outputs": [
    {
     "name": "stdout",
     "output_type": "stream",
     "text": [
      "F1-score модели DecisionTreeClassifier:0.573547589616811\n",
      "\n"
     ]
    }
   ],
   "source": [
    "# создадим модель и обучим модель\n",
    "model_tree = DecisionTreeClassifier(max_depth=4, random_state=12345)\n",
    "model_tree.fit(features_upsampled, target_upsampled)\n",
    "\n",
    "# получим предсказание на валидационной выборке\n",
    "predicted_valid_tf = model_tree.predict(features_valid_tf)\n",
    "\n",
    "# посчитаем значение F1-score на валидационной выборке и выведем его\n",
    "print('F1-score модели DecisionTreeClassifier:', f1_score(target_valid_tf, predicted_valid_tf), '\\n', sep='')"
   ]
  },
  {
   "cell_type": "markdown",
   "id": "58a7dbca-80dc-473d-bf94-e56c21bf8757",
   "metadata": {
    "tags": []
   },
   "source": [
    "### 8.5. Построим PR-кривую для модели \"Дерево решений\""
   ]
  },
  {
   "cell_type": "code",
   "execution_count": 92,
   "id": "97df272c-27a3-4ac3-bc4b-13cd56115647",
   "metadata": {},
   "outputs": [
    {
     "data": {
      "image/png": "[encoded data removed]",
      "text/plain": [
       "<Figure size 432x432 with 1 Axes>"
      ]
     },
     "metadata": {
      "needs_background": "light"
     },
     "output_type": "display_data"
    }
   ],
   "source": [
    "# найдем значения вероятностей классов для валидационной выборки\n",
    "probabilities_valid = model_tree.predict_proba(features_valid_tf)\n",
    "\n",
    "precision, recall, thresholds = precision_recall_curve(target_valid_tf, probabilities_valid[:, 1])\n",
    "\n",
    "plt.figure(figsize=(6, 6))\n",
    "plt.step(recall, precision, where='post')\n",
    "plt.xlabel('Recall')\n",
    "plt.ylabel('Precision')\n",
    "plt.ylim([0.0, 1.05])\n",
    "plt.xlim([0.0, 1.0])\n",
    "plt.title('Кривая Precision-Recall')\n",
    "plt.show()"
   ]
  },
  {
   "cell_type": "markdown",
   "id": "92e4dde6-4ded-4bf0-9bcf-f630e849d710",
   "metadata": {},
   "source": [
    "### 8.6. Построим ROC-кривую для модели \"Дерево решений\""
   ]
  },
  {
   "cell_type": "code",
   "execution_count": 93,
   "id": "223696ad-b1ab-464c-b023-8e626b504954",
   "metadata": {},
   "outputs": [
    {
     "data": {
      "image/png": "[encoded data removed]",
      "text/plain": [
       "<Figure size 432x288 with 1 Axes>"
      ]
     },
     "metadata": {
      "needs_background": "light"
     },
     "output_type": "display_data"
    }
   ],
   "source": [
    "# найдем значения вероятностей классов для валидационной выборки\n",
    "probabilities_valid = model_tree.predict_proba(features_valid_tf)\n",
    "\n",
    "# выберем вероятности положительного класса (\"1\")\n",
    "probabilities_one_valid = probabilities_valid[:, 1]\n",
    "\n",
    "# передаем на вход значения целевого признака и вероятности положительного класса\n",
    "fpr, tpr, thresholds = roc_curve(target_valid_tf, probabilities_one_valid)\n",
    "\n",
    "# строим график\n",
    "plt.figure()\n",
    "\n",
    "# ROC-кривая случайной модели (выглядит как прямая)\n",
    "plt.plot([0, 1], [0, 1], linestyle='--')\n",
    "\n",
    "plt.plot(fpr, tpr)\n",
    "# функции plt.xlim() и plt.ylim(), чтобы установить границы осей от 0 до 1\n",
    "plt.xlim([0.0, 1.0])\n",
    "plt.ylim([0.0, 1.0])\n",
    "\n",
    "# подпишем оси \"False Positive Rate\" и \"True Positive Rate\"\n",
    "plt.xlabel('False Positive Rate')\n",
    "plt.ylabel('True Positive Rate')\n",
    "# заголовок \"ROC-кривая\"\n",
    "plt.title('ROC-кривая')\n",
    "plt.show()"
   ]
  },
  {
   "cell_type": "markdown",
   "id": "5f3c106c-5e9a-44c2-884e-fba3ff3fa7b3",
   "metadata": {},
   "source": [
    "### 8.7. Рассчитаем AUC-ROC для модели \"Дерево решений\""
   ]
  },
  {
   "cell_type": "code",
   "execution_count": 94,
   "id": "9de09997-44af-456a-9306-4a7455743cc2",
   "metadata": {},
   "outputs": [
    {
     "name": "stdout",
     "output_type": "stream",
     "text": [
      "AUC модели DecisionTree:  0.8015260148886032\n"
     ]
    }
   ],
   "source": [
    "auc_roc = roc_auc_score(target_valid_tf, probabilities_one_valid)\n",
    "print('AUC модели DecisionTree: ', auc_roc)"
   ]
  },
  {
   "cell_type": "markdown",
   "id": "37487785-7ae0-47f2-8776-09a8ace5498c",
   "metadata": {},
   "source": [
    "### Выводы"
   ]
  },
  {
   "cell_type": "markdown",
   "id": "51d8285e-de33-41b4-ad2d-07274941eb61",
   "metadata": {},
   "source": [
    "* F1-score модели DecisionTree: 0.57 - не достигнут целевой показатель\n",
    "* AUC модели DecisionTree: 0.80 - модель с высокой вероятностью сможет различить положительные и отрицательные значения класса"
   ]
  },
  {
   "cell_type": "markdown",
   "id": "565cb8e4-be0e-46c2-bf33-6d8c3263c778",
   "metadata": {
    "tags": []
   },
   "source": [
    "## 9. Исследуем модель \"Случайный лес\""
   ]
  },
  {
   "cell_type": "code",
   "execution_count": 95,
   "id": "2cb7063c-39ae-496c-a59e-0d9a9327a189",
   "metadata": {},
   "outputs": [
    {
     "name": "stdout",
     "output_type": "stream",
     "text": [
      "Accuracy модели RandomForest: 0.8566233766233766\n",
      "\n",
      "F1-score модели RandomForest: 0.5576923076923077\n",
      "\n"
     ]
    }
   ],
   "source": [
    "# создадим модель и обучим модель\n",
    "model_forest = RandomForestClassifier(random_state=12345)\n",
    "model_forest.fit(features_train_tf, target_train_tf)\n",
    "\n",
    "# получим предсказание на валидационной выборке\n",
    "predicted_valid_tf = model_forest.predict(features_valid_tf)\n",
    "\n",
    "# посчитаем значение accuracy на валидационной выборке и выведем его\n",
    "print('Accuracy модели RandomForest: ', accuracy_score(target_valid_tf, predicted_valid_tf), '\\n', sep='')\n",
    "\n",
    "# посчитаем значение F1-score на валидационной выборке и выведем его\n",
    "print('F1-score модели RandomForest: ', f1_score(target_valid_tf, predicted_valid_tf), '\\n', sep='')"
   ]
  },
  {
   "cell_type": "markdown",
   "id": "2b336698-4ab1-460f-ab86-85a878b1cf9a",
   "metadata": {},
   "source": [
    "### 9.1. Подберем лучшие гиперпараметры"
   ]
  },
  {
   "cell_type": "code",
   "execution_count": 96,
   "id": "0486352b-28f1-4995-9ceb-ae13a6c7856c",
   "metadata": {
    "tags": []
   },
   "outputs": [
    {
     "name": "stderr",
     "output_type": "stream",
     "text": [
      "100%|██████████| 50/50 [44:55<00:00, 53.92s/it]"
     ]
    },
    {
     "name": "stdout",
     "output_type": "stream",
     "text": [
      "F1 наилучшей модели на валидационной выборке: 0.5728\n"
     ]
    },
    {
     "name": "stderr",
     "output_type": "stream",
     "text": [
      "\n"
     ]
    },
    {
     "data": {
      "text/plain": [
       "RandomForestClassifier(max_depth=13, n_estimators=55, random_state=12345)"
      ]
     },
     "execution_count": 96,
     "metadata": {},
     "output_type": "execute_result"
    }
   ],
   "source": [
    "best_forest_model = None\n",
    "best_result = 0\n",
    "# цикл обучения модели с разным количеством деревьев от 1 до 150 и глубиной от 1 до 50\n",
    "\n",
    "for dept in tqdm(range(1, 51, 1)):\n",
    "    for est in range(1, 151, 1):\n",
    "        model_forest = RandomForestClassifier(random_state=12345, n_estimators=est, max_depth=dept) # создадим модель с заданным количеством деревьев\n",
    "        \n",
    "        model_forest.fit(features_train_tf, target_train_tf)                                        # обучим модель используя тренировочную выборку\n",
    "        \n",
    "        predicted_valid_tf = model_forest.predict(features_valid_tf)\n",
    "        result = f1_score(target_valid_tf, predicted_valid_tf)                      # качество модели на валидационной выборке\n",
    "        \n",
    "        if result > best_result:                                                    # сравним результат \n",
    "            best_forest_model = model_forest                                        # сохраним наилучшую модель\n",
    "            best_result = result                                                    # сохраним наилучшее значение метрики accuracy на валидационных данных\n",
    "\n",
    "print(\"F1 наилучшей модели на валидационной выборке:\", f'{best_result:.4f}')\n",
    "best_forest_model"
   ]
  },
  {
   "cell_type": "markdown",
   "id": "671b5f4a-3367-4e6c-a937-8d09a87d8471",
   "metadata": {
    "tags": []
   },
   "source": [
    "#### Выводы"
   ]
  },
  {
   "cell_type": "markdown",
   "id": "b791090e-d6da-493b-88ee-a678009298eb",
   "metadata": {
    "tags": []
   },
   "source": [
    "* Accuracy и F1-score модели RandomForest с параметрами по умолчанию лучше аналогичных показателей моделей \"Логистическая регрессия\" и \"Решающее дерево\"\n",
    "* Нам известно, что целевой признак не сбалансирован, поэтому измерим порог классификации\n",
    "* Улучшим модель RandomForest обучив её на выборках обработанных техниками upsampling и downsampling\n",
    "* Подберем лучшие гиперпараметры для модели "
   ]
  },
  {
   "cell_type": "markdown",
   "id": "215b0f12-336e-4624-870f-1f782b11214e",
   "metadata": {
    "tags": []
   },
   "source": [
    "### 9.2. Измерим порог классификации"
   ]
  },
  {
   "cell_type": "code",
   "execution_count": 97,
   "id": "ff6bc81e-9310-4dbe-9d88-8da3bbfbe9bd",
   "metadata": {},
   "outputs": [
    {
     "name": "stdout",
     "output_type": "stream",
     "text": [
      "Порог = 0.00 | Точность = 0.208, Полнота = 1.000 | F1-мера = 0.344\n",
      "Порог = 0.05 | Точность = 0.272, Полнота = 0.956 | F1-мера = 0.423\n",
      "Порог = 0.10 | Точность = 0.337, Полнота = 0.905 | F1-мера = 0.491\n",
      "Порог = 0.15 | Точность = 0.380, Полнота = 0.830 | F1-мера = 0.521\n",
      "Порог = 0.20 | Точность = 0.450, Полнота = 0.761 | F1-мера = 0.565\n",
      "Порог = 0.25 | Точность = 0.500, Полнота = 0.697 | F1-мера = 0.582\n",
      "Порог = 0.30 | Точность = 0.551, Полнота = 0.638 | F1-мера = 0.591\n",
      "Порог = 0.35 | Точность = 0.576, Полнота = 0.573 | F1-мера = 0.575\n",
      "Порог = 0.40 | Точность = 0.650, Полнота = 0.535 | F1-мера = 0.587\n",
      "Порог = 0.45 | Точность = 0.687, Полнота = 0.491 | F1-мера = 0.573\n",
      "Порог = 0.50 | Точность = 0.740, Полнота = 0.447 | F1-мера = 0.558\n",
      "Порог = 0.55 | Точность = 0.746, Полнота = 0.401 | F1-мера = 0.522\n",
      "Порог = 0.60 | Точность = 0.819, Полнота = 0.360 | F1-мера = 0.500\n",
      "Порог = 0.65 | Точность = 0.840, Полнота = 0.324 | F1-мера = 0.468\n",
      "Порог = 0.70 | Точность = 0.900, Полнота = 0.301 | F1-мера = 0.451\n",
      "Порог = 0.75 | Точность = 0.892, Полнота = 0.254 | F1-мера = 0.396\n",
      "Порог = 0.80 | Точность = 0.917, Полнота = 0.198 | F1-мера = 0.326\n",
      "Порог = 0.85 | Точность = 0.927, Полнота = 0.131 | F1-мера = 0.230\n",
      "Порог = 0.90 | Точность = 1.000, Полнота = 0.062 | F1-мера = 0.116\n",
      "\n",
      "F1-мера лучшей модели = 0.591\n",
      "\n",
      "Порог классификации = 0.30000000000000004\n"
     ]
    }
   ],
   "source": [
    "# игнорируем предупреждение\n",
    "warnings.filterwarnings('ignore')\n",
    "\n",
    "# найдем значения вероятностей классов для валидационной выборки\n",
    "probabilities_valid = model_forest.predict_proba(features_valid_tf)\n",
    "probabilities_one_valid = probabilities_valid[:, 1]\n",
    "\n",
    "best_threshold = 0\n",
    "best_result = 0\n",
    "\n",
    "for threshold in np.arange(0, 0.95, 0.05):\n",
    "    predicted_valid = probabilities_one_valid > threshold\n",
    "    precision = precision_score(target_valid_tf, predicted_valid)\n",
    "    recall = recall_score(target_valid_tf, predicted_valid)\n",
    "    result = f1_score(target_valid_tf, predicted_valid)\n",
    "\n",
    "    if result > best_result:\n",
    "        best_threshold = threshold\n",
    "        best_result = result\n",
    "    \n",
    "    print('Порог = {:.2f} | Точность = {:.3f}, Полнота = {:.3f} | F1-мера = {:.3f}'.format(\n",
    "             threshold, precision, recall, result))\n",
    "print()\n",
    "print('F1-мера лучшей модели = ', f'{best_result:.3f}','\\n', sep='')\n",
    "print('Порог классификации =', best_threshold)"
   ]
  },
  {
   "cell_type": "markdown",
   "id": "845ebac8-019e-4f55-93b5-e10fbcd200c0",
   "metadata": {},
   "source": [
    "### 9.3. Применим технику upsampling"
   ]
  },
  {
   "cell_type": "code",
   "execution_count": 98,
   "id": "d0d6af4d-d505-4435-b895-50780a0c5e1f",
   "metadata": {},
   "outputs": [
    {
     "name": "stdout",
     "output_type": "stream",
     "text": [
      "(9282, 10)\n",
      "(9282,)\n"
     ]
    }
   ],
   "source": [
    "# функция для увеличения и перемешивания выборок, функция вернёт признаки и целевой признак после операции upsampling  \n",
    "def upsample(features, target, repeat):                               # параметры функции: признаки, целевой признак, количество повторений\n",
    "    features_zeros = features_train_tf[target_train_tf == 0]          # признаки объектов с ответом «0»\n",
    "    features_ones = features_train_tf[target_train_tf == 1]           # признаки объектов с ответом «1»\n",
    "    target_zeros = target_train_tf[target_train_tf == 0]              # целевой признак объектов, у которых ответы только «0»\n",
    "    target_ones = target_train_tf[target_train_tf == 1]               # целевой признак объектов, у которых ответы только «1»\n",
    "    \n",
    "    # объединим таблицы с признаками и сохраним результат в переменной features_upsampled\n",
    "    features_upsampled = pd.concat([features_zeros] + [features_ones] * repeat)\n",
    "    \n",
    "    # то же самое для целевого признака\n",
    "    target_upsampled = pd.concat([target_zeros] + [target_ones] * repeat)\n",
    "    \n",
    "    # перемешаем\n",
    "    features_upsampled, target_upsampled = shuffle(features_upsampled, target_upsampled,random_state=12345)\n",
    "\n",
    "    return features_upsampled, target_upsampled\n",
    "\n",
    "# вызов функции\n",
    "features_upsampled, target_upsampled = upsample(features_train_tf, target_train_tf, 4)\n",
    "\n",
    "# проверим, что получилось\n",
    "print(features_upsampled.shape)\n",
    "print(target_upsampled.shape)"
   ]
  },
  {
   "cell_type": "code",
   "execution_count": 99,
   "id": "cef30b00-507a-43d7-b0b6-e691211eaa1c",
   "metadata": {},
   "outputs": [
    {
     "name": "stdout",
     "output_type": "stream",
     "text": [
      "AUC-ROC модели RandomForest: 0.8418546151992288\n",
      "\n",
      "F1-score модели RandomForest: 0.5722460658082975\n",
      "\n"
     ]
    }
   ],
   "source": [
    "# создадим модель и обучим модель на увеличенных данных\n",
    "model_forest = RandomForestClassifier(random_state=12345)\n",
    "model_forest.fit(features_upsampled, target_upsampled)\n",
    "\n",
    "# получим предсказание на валидационной выборке\n",
    "predicted_valid_tf = model_forest.predict(features_valid_tf)\n",
    "\n",
    "# найдем значения вероятностей классов для валидационной выборки\n",
    "probabilities_valid = model_forest.predict_proba(features_valid_tf)\n",
    "\n",
    "# выберем вероятности положительного класса (\"1\")\n",
    "probabilities_one_valid = probabilities_valid[:, 1]\n",
    "\n",
    "# посчитаем значение AUC-ROC на валидационной выборке и выведем его\n",
    "auc_roc = roc_auc_score(target_valid_tf, probabilities_one_valid)\n",
    "print('AUC-ROC модели RandomForest: ', auc_roc, '\\n', sep='')\n",
    "\n",
    "\n",
    "# посчитаем значение F1-score на валидационной выборке и выведем его\n",
    "print('F1-score модели RandomForest: ', f1_score(target_valid_tf, predicted_valid_tf), '\\n', sep='')"
   ]
  },
  {
   "cell_type": "markdown",
   "id": "3cd72a96-9579-4395-92d0-ef2b456535cd",
   "metadata": {},
   "source": [
    "### 9.4. Подберем лучшие гиперпараметры"
   ]
  },
  {
   "cell_type": "code",
   "execution_count": 100,
   "id": "0571580b-e8f1-4602-bc47-66317d912b33",
   "metadata": {
    "tags": []
   },
   "outputs": [
    {
     "name": "stderr",
     "output_type": "stream",
     "text": [
      "100%|██████████| 20/20 [09:19<00:00, 28.00s/it]"
     ]
    },
    {
     "name": "stdout",
     "output_type": "stream",
     "text": [
      "F1 наилучшей модели на валидационной выборке: 0.6097\n"
     ]
    },
    {
     "name": "stderr",
     "output_type": "stream",
     "text": [
      "\n"
     ]
    },
    {
     "data": {
      "text/plain": [
       "RandomForestClassifier(max_depth=10, n_estimators=30, random_state=12345)"
      ]
     },
     "execution_count": 100,
     "metadata": {},
     "output_type": "execute_result"
    }
   ],
   "source": [
    "best_forest_model = None\n",
    "best_result = 0\n",
    "# цикл обучения модели с разным количеством деревьев и глубиной\n",
    "\n",
    "for dept in tqdm(range(1, 21, 1)):\n",
    "    for est in range(1, 101, 1):\n",
    "        model_forest = RandomForestClassifier(random_state=12345, n_estimators=est, max_depth=dept)   # создадим модель с заданным количеством деревьев\n",
    "        \n",
    "        model_forest.fit(features_upsampled, target_upsampled)                                        # обучим модель используя увеличенную выборку\n",
    "        \n",
    "        predicted_valid_tf = model_forest.predict(features_valid_tf)\n",
    "        result = f1_score(target_valid_tf, predicted_valid_tf)                      # качество модели на валидационной выборке\n",
    "        \n",
    "        if result > best_result:                                                    # сравним результат \n",
    "            best_forest_model = model_forest                                        # сохраним наилучшую модель\n",
    "            best_result = result                                                    # сохраним наилучшее значение метрики accuracy на валидационных данных\n",
    "\n",
    "print(\"F1 наилучшей модели на валидационной выборке:\", f'{best_result:.4f}')\n",
    "best_forest_model"
   ]
  },
  {
   "cell_type": "markdown",
   "id": "92483b21-1621-4bc6-a8e7-0cec6d9ee336",
   "metadata": {},
   "source": [
    "### 9.5. Применим технику downsampling"
   ]
  },
  {
   "cell_type": "code",
   "execution_count": 101,
   "id": "b7e6d594-703a-439b-94bf-3abca066d81f",
   "metadata": {
    "tags": []
   },
   "outputs": [
    {
     "name": "stdout",
     "output_type": "stream",
     "text": [
      "(2321, 10)\n",
      "(2321,)\n"
     ]
    }
   ],
   "source": [
    "# функция для уменьшения и перемешивания\n",
    "def downsample(features, target, fraction):                            # параметры функции: признаки, целевой признак, количество повторений    \n",
    "    features_zeros = features_train_tf[target_train_tf == 0]           # признаки объектов с ответом «0»\n",
    "    features_ones = features_train_tf[target_train_tf == 1]            # признаки объектов с ответом «1»\n",
    "    target_zeros = target_train_tf[target_train_tf == 0]               # целевой признак объектов, у которых ответы только «0»\n",
    "    target_ones = target_train_tf[target_train_tf == 1]                # целевой признак объектов, у которых ответы только «1»\n",
    "    \n",
    "    # объединим таблицы с признаками и сохраним результат в переменной \n",
    "    features_downsampled = pd.concat([features_zeros.sample(frac=fraction, random_state=12345)] + [features_ones])\n",
    "    \n",
    "    # то же самое для целевого признака\n",
    "    target_downsampled = pd.concat([target_zeros.sample(frac=fraction, random_state=12345)] + [target_ones])\n",
    "    \n",
    "    # перемешиваем данные\n",
    "    features_downsampled, target_downsampled = shuffle(features_downsampled, target_downsampled,random_state=12345)\n",
    "    \n",
    "    return features_downsampled, target_downsampled\n",
    "\n",
    "# вызов функции\n",
    "features_downsampled, target_downsampled = downsample(features_train_tf, target_train_tf, 0.25)\n",
    "\n",
    "# проверим, что получилось\n",
    "print(features_downsampled.shape)\n",
    "print(target_downsampled.shape)"
   ]
  },
  {
   "cell_type": "code",
   "execution_count": 102,
   "id": "cb382648-98dc-4d16-92a0-a80409d40cac",
   "metadata": {
    "tags": []
   },
   "outputs": [
    {
     "name": "stdout",
     "output_type": "stream",
     "text": [
      "AUC-ROC модели RandomForest: 0.8482913921915166\n",
      "\n",
      "F1-score модели RandomForest: 0.5777777777777778\n",
      "\n"
     ]
    }
   ],
   "source": [
    "# создадим модель и обучим модель на уменьшенных данных\n",
    "model_forest = RandomForestClassifier(random_state=12345)\n",
    "model_forest.fit(features_downsampled, target_downsampled)\n",
    "\n",
    "# получим предсказание на валидационной выборке\n",
    "predicted_valid_tf = model_forest.predict(features_valid_tf)\n",
    "\n",
    "# найдем значения вероятностей классов для валидационной выборки\n",
    "probabilities_valid = model_forest.predict_proba(features_valid_tf)\n",
    "\n",
    "# выберем вероятности положительного класса (\"1\")\n",
    "probabilities_one_valid = probabilities_valid[:, 1]\n",
    "\n",
    "# посчитаем значение AUC-ROC на валидационной выборке и выведем его\n",
    "auc_roc = roc_auc_score(target_valid_tf, probabilities_one_valid)\n",
    "print('AUC-ROC модели RandomForest: ', auc_roc, '\\n', sep='')\n",
    "\n",
    "# посчитаем значение F1-score на валидационной выборке и выведем его\n",
    "print('F1-score модели RandomForest: ', f1_score(target_valid_tf, predicted_valid_tf), '\\n', sep='')"
   ]
  },
  {
   "cell_type": "markdown",
   "id": "311cd0a3-fc5f-41b4-be67-bd971264b01e",
   "metadata": {},
   "source": [
    "### 9.6. Подберем лучшие параметры для модели"
   ]
  },
  {
   "cell_type": "code",
   "execution_count": 103,
   "id": "6496453b-b467-4724-ab2a-0e09435b1edf",
   "metadata": {},
   "outputs": [
    {
     "name": "stdout",
     "output_type": "stream",
     "text": [
      "{'max_depth': 9, 'n_estimators': 95}\n",
      "CPU times: total: 15min 34s\n",
      "Wall time: 15min 41s\n"
     ]
    }
   ],
   "source": [
    "%%time\n",
    "# определяем параметры для перебора\n",
    "parametrs = {'n_estimators': range (1, 101, 1),\n",
    "            'max_depth': range (1, 21, 1)\n",
    "            }\n",
    "\n",
    "# запускаем обучение\n",
    "grid = GridSearchCV(model_forest, parametrs, scoring='f1', cv=5)\n",
    "grid.fit(features_downsampled, target_downsampled)\n",
    "\n",
    "# выводим результат\n",
    "print(grid.best_params_)\n",
    "\n",
    "# сигнал об окончании расчетов в ячейке\n",
    "winsound.PlaySound(\"SystemExit\", winsound.SND_ALIAS) "
   ]
  },
  {
   "cell_type": "markdown",
   "id": "e86abe6c-4882-48be-97b4-39455bd7c6b1",
   "metadata": {},
   "source": [
    "#### Обучим модель с лучшим параметроми и оценим результат"
   ]
  },
  {
   "cell_type": "code",
   "execution_count": 109,
   "id": "5ce631e6-b322-484b-b05e-e8c0a4f176c2",
   "metadata": {
    "tags": []
   },
   "outputs": [
    {
     "name": "stdout",
     "output_type": "stream",
     "text": [
      "AUC-ROC модели RandomForest: 0.845606054520137\n",
      "\n",
      "F1-score модели RandomForest: 0.579476861167002\n",
      "\n"
     ]
    }
   ],
   "source": [
    "# создадим модель и обучим модель\n",
    "model_forest = RandomForestClassifier(random_state=12345, max_depth = 9, n_estimators = 95)\n",
    "model_forest.fit(features_downsampled, target_downsampled)\n",
    "\n",
    "# найдем значения вероятностей классов для валидационной выборки\n",
    "probabilities_valid = model_forest.predict_proba(features_valid_tf)\n",
    "\n",
    "# выберем вероятности положительного класса (\"1\")\n",
    "probabilities_one_valid = probabilities_valid[:, 1]\n",
    "\n",
    "# посчитаем значение AUC-ROC на валидационной выборке и выведем его\n",
    "auc_roc = roc_auc_score(target_valid_tf, probabilities_one_valid)\n",
    "print('AUC-ROC модели RandomForest: ', auc_roc, '\\n', sep='')\n",
    "\n",
    "# получим предсказание на валидационной выборке\n",
    "predicted_valid_tf = model_forest.predict(features_valid_tf)\n",
    "\n",
    "# посчитаем значение F1-score на валидационной выборке и выведем его\n",
    "print('F1-score модели RandomForest: ', f1_score(target_valid_tf, predicted_valid_tf), '\\n', sep='')"
   ]
  },
  {
   "cell_type": "markdown",
   "id": "d8f657ce-00ea-42db-8476-9116b2d94944",
   "metadata": {},
   "source": [
    "### Выводы"
   ]
  },
  {
   "cell_type": "markdown",
   "id": "19b91c33-3ba4-4d49-a502-bcede09b8c5f",
   "metadata": {},
   "source": [
    "#### Лучшая модель \"Случайный лес\" с параметрами (random_state=12345, max_depth=10, n_estimators=30) на увеличенной выборке"
   ]
  },
  {
   "cell_type": "code",
   "execution_count": 111,
   "id": "0f5b899f-1674-4205-8d3f-6014f7824e7f",
   "metadata": {},
   "outputs": [
    {
     "name": "stdout",
     "output_type": "stream",
     "text": [
      "F1-score модели RandomForest: 0.6097271648873072\n",
      "\n"
     ]
    }
   ],
   "source": [
    "# создадим модель и обучим модель\n",
    "model_forest = RandomForestClassifier(random_state=12345, max_depth=10, n_estimators=30)   \n",
    "model_forest.fit(features_upsampled, target_upsampled)\n",
    "\n",
    "# получим предсказание на валидационной выборке\n",
    "predicted_valid_tf = model_forest.predict(features_valid_tf)\n",
    "\n",
    "# посчитаем значение F1-score на валидационной выборке и выведем его\n",
    "print('F1-score модели RandomForest: ', f1_score(target_valid_tf, predicted_valid_tf), '\\n', sep='')"
   ]
  },
  {
   "cell_type": "markdown",
   "id": "654bfbf1-0308-41af-a357-5818f2b28e91",
   "metadata": {
    "tags": []
   },
   "source": [
    "### 9.7. Построим PR-кривую для лучшей модели \"Случайный лес\""
   ]
  },
  {
   "cell_type": "code",
   "execution_count": 112,
   "id": "c7955693-32f3-4150-b97c-0dceb5d40b63",
   "metadata": {},
   "outputs": [
    {
     "data": {
      "image/png": "[encoded data removed]",
      "text/plain": [
       "<Figure size 432x432 with 1 Axes>"
      ]
     },
     "metadata": {
      "needs_background": "light"
     },
     "output_type": "display_data"
    }
   ],
   "source": [
    "# найдем значения вероятностей классов для валидационной выборки\n",
    "probabilities_valid = model_forest.predict_proba(features_valid_tf)\n",
    "\n",
    "precision, recall, thresholds = precision_recall_curve(target_valid_tf, probabilities_valid[:, 1])\n",
    "\n",
    "plt.figure(figsize=(6, 6))\n",
    "plt.step(recall, precision, where='post')\n",
    "plt.xlabel('Recall')\n",
    "plt.ylabel('Precision')\n",
    "plt.ylim([0.0, 1.05])\n",
    "plt.xlim([0.0, 1.0])\n",
    "plt.title('Кривая Precision-Recall')\n",
    "plt.show()"
   ]
  },
  {
   "cell_type": "markdown",
   "id": "02e9231e-716f-4e65-b5c0-eb8a9c45e77d",
   "metadata": {},
   "source": [
    "### 9.8. Построим ROC-кривую для модели \"Случайный лес\""
   ]
  },
  {
   "cell_type": "code",
   "execution_count": 113,
   "id": "bf47773d-2f0b-42a1-8006-43b1f6ef1d93",
   "metadata": {},
   "outputs": [
    {
     "data": {
      "image/png": "[encoded data removed]",
      "text/plain": [
       "<Figure size 432x288 with 1 Axes>"
      ]
     },
     "metadata": {
      "needs_background": "light"
     },
     "output_type": "display_data"
    }
   ],
   "source": [
    "# найдем значения вероятностей классов для валидационной выборки\n",
    "probabilities_valid = model_forest.predict_proba(features_valid_tf)\n",
    "\n",
    "# выберем вероятности положительного класса (\"1\")\n",
    "probabilities_one_valid = probabilities_valid[:, 1]\n",
    "\n",
    "# передаем на вход значения целевого признака и вероятности положительного класса\n",
    "fpr, tpr, thresholds = roc_curve(target_valid_tf, probabilities_one_valid)\n",
    "\n",
    "# строим график\n",
    "plt.figure()\n",
    "\n",
    "# ROC-кривая случайной модели (выглядит как прямая)\n",
    "plt.plot([0, 1], [0, 1], linestyle='--')\n",
    "\n",
    "plt.plot(fpr, tpr)\n",
    "# функции plt.xlim() и plt.ylim(), чтобы установить границы осей от 0 до 1\n",
    "plt.xlim([0.0, 1.0])\n",
    "plt.ylim([0.0, 1.0])\n",
    "\n",
    "# подпишем оси \"False Positive Rate\" и \"True Positive Rate\"\n",
    "plt.xlabel('False Positive Rate')\n",
    "plt.ylabel('True Positive Rate')\n",
    "# заголовок \"ROC-кривая\"\n",
    "plt.title('ROC-кривая')\n",
    "plt.show()"
   ]
  },
  {
   "cell_type": "markdown",
   "id": "cc2fe4dc-76fe-46c7-bdb8-9da735781c51",
   "metadata": {},
   "source": [
    "### 9.9. Рассчитаем AUC-ROC для модели \"Случайный лес\""
   ]
  },
  {
   "cell_type": "code",
   "execution_count": 114,
   "id": "0588101e-e780-45c7-a6b9-f3982c081466",
   "metadata": {},
   "outputs": [
    {
     "name": "stdout",
     "output_type": "stream",
     "text": [
      "AUC модели RandomForest:  0.8490386675235648\n"
     ]
    }
   ],
   "source": [
    "auc_roc = roc_auc_score(target_valid_tf, probabilities_one_valid)\n",
    "print('AUC модели RandomForest: ', auc_roc)"
   ]
  },
  {
   "cell_type": "markdown",
   "id": "a467e7b4-a236-455f-92fd-00f5605387ed",
   "metadata": {},
   "source": [
    "### Выводы"
   ]
  },
  {
   "cell_type": "markdown",
   "id": "7f5f32c8-6be7-46c7-bdd2-47bc6671ebd3",
   "metadata": {},
   "source": [
    "* F1-score лучшей модели на увеличенной выборке RandomForest (max_depth=10, n_estimators=30, random_state=12345): 0.6097\n",
    "* AUC модели - 0.85 и модель может с высокой вероятностью различать положительные и отрицательные значения класса"
   ]
  },
  {
   "cell_type": "markdown",
   "id": "28faa8a1-7e7d-45b7-a4d7-9ac3103108d2",
   "metadata": {},
   "source": [
    "## Финальное тестирование лучшей модели"
   ]
  },
  {
   "cell_type": "code",
   "execution_count": 115,
   "id": "947c2c21-e1c6-47ca-9c0c-a3f448a774a7",
   "metadata": {},
   "outputs": [
    {
     "name": "stdout",
     "output_type": "stream",
     "text": [
      "F1-score модели RandomForest: 0.5997610513739547\n",
      "\n"
     ]
    }
   ],
   "source": [
    "# создадим модель и обучим модель на тестовых данных\n",
    "model_forest = RandomForestClassifier(random_state=12345, max_depth=10, n_estimators=30)\n",
    "model_forest.fit(features_upsampled, target_upsampled)\n",
    "\n",
    "# получим предсказание на тестовой выборке\n",
    "predicted_test_tf = model_forest.predict(features_test_tf)\n",
    "\n",
    "# посчитаем значение F1-score на тестовой выборке и выведем его\n",
    "print('F1-score модели RandomForest: ', f1_score(target_test_tf, predicted_test_tf), '\\n', sep='')"
   ]
  },
  {
   "cell_type": "markdown",
   "id": "de188545-de6d-4065-8b53-d814afaf76ed",
   "metadata": {},
   "source": [
    "## Выводы "
   ]
  },
  {
   "cell_type": "markdown",
   "id": "4e9f3664-bd73-4923-a2af-1af8cbc7be69",
   "metadata": {
    "tags": []
   },
   "source": [
    "\n",
    "**1. Модель \"Логистическая регрессия**\n",
    "- F1-score лучшей модели LogisticRegression: 0.50, целевой уровень не достигнут\n",
    "- AUC модели LogisticRegression: 0.78, модель сможет различить положительные и отрицательные значения\n",
    "\n",
    "**2. Модель \"Дерево решений\"**\n",
    "- F1-score лучшей модели DecisionTree с настроеными гиперпараметрами: 0.57 - достигнут желаемый целевой показатель\n",
    "- AUC модели DecisionTree: 0.80, значит модель с высокой вероятностью сможет различить положительные и отрицательные значения класса\n",
    "\n",
    "**3. Модель \"Случайный лес\"**\n",
    "- F1-score лучшей модели RandomForest с настроенными гиперпараметрами: 0.61\n",
    "- AUC модели - 0.85 и модель может с высокой вероятностью различать положительные и отрицательные значения класса\n",
    "\n",
    "**4. Финальное исследование на тестовой выборке**\n",
    "- F1-score модели RandomForest на тестовой выборке: 0.5997\n",
    "- Достигнут целевой показатель F1-score > 0.59\n",
    "- Для дальнейшего исследования рекомендуется использовать модель \"Случайный лес\" с гиперпараметрами RandomForestClassifier(random_state=12345, max_depth=10, n_estimators=30)"
   ]
  },
  {
   "cell_type": "code",
   "execution_count": null,
   "id": "2510db70",
   "metadata": {},
   "outputs": [],
   "source": []
  }
 ],
 "metadata": {
  "ExecuteTimeLog": [
   {
    "duration": 1907,
    "start_time": "2023-01-27T09:35:01.772Z"
   },
   {
    "duration": 165,
    "start_time": "2023-01-27T09:35:03.681Z"
   },
   {
    "duration": 33,
    "start_time": "2023-01-27T09:35:03.848Z"
   },
   {
    "duration": 8,
    "start_time": "2023-01-27T09:35:03.884Z"
   },
   {
    "duration": 5,
    "start_time": "2023-01-27T09:35:03.894Z"
   },
   {
    "duration": 6,
    "start_time": "2023-01-27T09:35:03.920Z"
   },
   {
    "duration": 6,
    "start_time": "2023-01-27T09:35:03.928Z"
   },
   {
    "duration": 5,
    "start_time": "2023-01-27T09:35:03.936Z"
   },
   {
    "duration": 9,
    "start_time": "2023-01-27T09:35:03.943Z"
   },
   {
    "duration": 14,
    "start_time": "2023-01-27T09:35:03.955Z"
   },
   {
    "duration": 8,
    "start_time": "2023-01-27T09:35:03.971Z"
   },
   {
    "duration": 13,
    "start_time": "2023-01-27T09:35:03.981Z"
   },
   {
    "duration": 39,
    "start_time": "2023-01-27T09:35:03.996Z"
   },
   {
    "duration": 20,
    "start_time": "2023-01-27T09:35:04.037Z"
   },
   {
    "duration": 1568,
    "start_time": "2023-01-27T09:35:04.060Z"
   },
   {
    "duration": 54,
    "start_time": "2023-01-27T09:35:05.629Z"
   },
   {
    "duration": 458,
    "start_time": "2023-01-27T09:35:05.685Z"
   },
   {
    "duration": 10,
    "start_time": "2023-01-27T09:35:06.145Z"
   },
   {
    "duration": 154,
    "start_time": "2023-01-27T09:35:06.157Z"
   },
   {
    "duration": 14,
    "start_time": "2023-01-27T09:35:06.314Z"
   },
   {
    "duration": 13,
    "start_time": "2023-01-27T09:35:06.330Z"
   },
   {
    "duration": 7,
    "start_time": "2023-01-27T09:35:06.345Z"
   },
   {
    "duration": 169,
    "start_time": "2023-01-27T09:35:06.354Z"
   },
   {
    "duration": 248,
    "start_time": "2023-01-27T09:35:06.525Z"
   },
   {
    "duration": 271,
    "start_time": "2023-01-27T09:35:06.775Z"
   },
   {
    "duration": 10,
    "start_time": "2023-01-27T09:35:07.048Z"
   },
   {
    "duration": 279,
    "start_time": "2023-01-27T09:35:07.060Z"
   },
   {
    "duration": 9,
    "start_time": "2023-01-27T09:35:07.343Z"
   },
   {
    "duration": 10,
    "start_time": "2023-01-27T09:35:07.353Z"
   },
   {
    "duration": 15,
    "start_time": "2023-01-27T09:35:07.365Z"
   },
   {
    "duration": 225,
    "start_time": "2023-01-27T09:35:07.382Z"
   },
   {
    "duration": 225,
    "start_time": "2023-01-27T09:35:07.609Z"
   },
   {
    "duration": 11,
    "start_time": "2023-01-27T09:35:07.837Z"
   },
   {
    "duration": 151,
    "start_time": "2023-01-27T09:35:07.850Z"
   },
   {
    "duration": 18,
    "start_time": "2023-01-27T09:35:08.003Z"
   },
   {
    "duration": 375,
    "start_time": "2023-01-27T09:35:08.024Z"
   },
   {
    "duration": 20,
    "start_time": "2023-01-27T09:35:08.401Z"
   },
   {
    "duration": 166,
    "start_time": "2023-01-27T09:35:08.423Z"
   },
   {
    "duration": 170,
    "start_time": "2023-01-27T09:35:08.590Z"
   },
   {
    "duration": 139,
    "start_time": "2023-01-27T09:35:08.762Z"
   },
   {
    "duration": 24,
    "start_time": "2023-01-27T09:35:08.903Z"
   },
   {
    "duration": 5,
    "start_time": "2023-01-27T09:35:08.928Z"
   },
   {
    "duration": 36,
    "start_time": "2023-01-27T09:35:08.934Z"
   },
   {
    "duration": 299,
    "start_time": "2023-01-27T09:35:08.972Z"
   },
   {
    "duration": 4,
    "start_time": "2023-01-27T09:35:09.274Z"
   },
   {
    "duration": 12,
    "start_time": "2023-01-27T09:35:09.280Z"
   },
   {
    "duration": 9,
    "start_time": "2023-01-27T09:35:09.294Z"
   },
   {
    "duration": 7,
    "start_time": "2023-01-27T09:35:09.322Z"
   },
   {
    "duration": 10,
    "start_time": "2023-01-27T09:35:09.330Z"
   },
   {
    "duration": 8,
    "start_time": "2023-01-27T09:35:09.342Z"
   },
   {
    "duration": 14,
    "start_time": "2023-01-27T09:35:09.352Z"
   },
   {
    "duration": 11,
    "start_time": "2023-01-27T09:35:09.368Z"
   },
   {
    "duration": 10,
    "start_time": "2023-01-27T09:35:09.381Z"
   },
   {
    "duration": 31,
    "start_time": "2023-01-27T09:35:09.392Z"
   },
   {
    "duration": 7,
    "start_time": "2023-01-27T09:35:09.425Z"
   },
   {
    "duration": 8,
    "start_time": "2023-01-27T09:35:09.434Z"
   },
   {
    "duration": 6,
    "start_time": "2023-01-27T09:35:09.443Z"
   },
   {
    "duration": 38,
    "start_time": "2023-01-27T09:35:09.451Z"
   },
   {
    "duration": 132,
    "start_time": "2023-01-27T09:35:09.490Z"
   },
   {
    "duration": 98,
    "start_time": "2023-01-27T09:35:09.625Z"
   },
   {
    "duration": 139,
    "start_time": "2023-01-27T09:35:09.726Z"
   },
   {
    "duration": 227,
    "start_time": "2023-01-27T09:35:09.867Z"
   },
   {
    "duration": 126,
    "start_time": "2023-01-27T09:35:10.096Z"
   },
   {
    "duration": 606,
    "start_time": "2023-01-27T09:35:10.224Z"
   },
   {
    "duration": 2995,
    "start_time": "2023-01-27T09:35:10.832Z"
   },
   {
    "duration": 105,
    "start_time": "2023-01-27T09:35:13.830Z"
   },
   {
    "duration": 88,
    "start_time": "2023-01-27T09:35:13.937Z"
   },
   {
    "duration": 3305,
    "start_time": "2023-01-27T09:35:14.120Z"
   },
   {
    "duration": 3528,
    "start_time": "2023-01-27T09:35:17.427Z"
   },
   {
    "duration": 320,
    "start_time": "2023-01-27T09:35:20.957Z"
   },
   {
    "duration": 9,
    "start_time": "2023-01-27T09:35:21.278Z"
   },
   {
    "duration": 41,
    "start_time": "2023-01-27T09:35:21.289Z"
   },
   {
    "duration": 16,
    "start_time": "2023-01-27T09:35:21.332Z"
   },
   {
    "duration": 15,
    "start_time": "2023-01-27T09:35:21.349Z"
   },
   {
    "duration": 8,
    "start_time": "2023-01-27T09:35:21.366Z"
   },
   {
    "duration": 6,
    "start_time": "2023-01-27T09:35:21.376Z"
   },
   {
    "duration": 9,
    "start_time": "2023-01-27T09:35:21.383Z"
   },
   {
    "duration": 12,
    "start_time": "2023-01-27T09:35:21.394Z"
   },
   {
    "duration": 39,
    "start_time": "2023-01-27T09:35:21.407Z"
   },
   {
    "duration": 39,
    "start_time": "2023-01-27T09:35:21.447Z"
   },
   {
    "duration": 142,
    "start_time": "2023-01-27T09:35:21.487Z"
   },
   {
    "duration": 37,
    "start_time": "2023-01-27T09:35:21.635Z"
   },
   {
    "duration": 296,
    "start_time": "2023-01-27T09:35:21.674Z"
   },
   {
    "duration": 10,
    "start_time": "2023-01-27T09:35:21.972Z"
   },
   {
    "duration": 40,
    "start_time": "2023-01-27T09:35:21.984Z"
   },
   {
    "duration": 23835,
    "start_time": "2023-01-27T09:35:22.026Z"
   },
   {
    "duration": 19,
    "start_time": "2023-01-27T09:35:45.862Z"
   },
   {
    "duration": 145,
    "start_time": "2023-01-27T09:35:45.882Z"
   },
   {
    "duration": 143,
    "start_time": "2023-01-27T09:35:46.028Z"
   },
   {
    "duration": 7,
    "start_time": "2023-01-27T09:35:46.172Z"
   },
   {
    "duration": 863,
    "start_time": "2023-01-27T09:35:46.180Z"
   },
   {
    "duration": 160,
    "start_time": "2023-01-27T09:35:47.045Z"
   },
   {
    "duration": 34,
    "start_time": "2023-01-27T09:35:47.207Z"
   },
   {
    "duration": 7492,
    "start_time": "2023-01-27T09:35:47.243Z"
   },
   {
    "duration": 15,
    "start_time": "2023-01-27T09:35:54.737Z"
   },
   {
    "duration": 581,
    "start_time": "2023-01-27T09:35:54.755Z"
   },
   {
    "duration": 193458,
    "start_time": "2023-01-27T09:35:55.338Z"
   },
   {
    "duration": 962,
    "start_time": "2023-01-27T09:39:08.798Z"
   },
   {
    "duration": 1095,
    "start_time": "2023-01-27T09:39:09.762Z"
   },
   {
    "duration": 1062,
    "start_time": "2023-01-27T09:39:10.859Z"
   },
   {
    "duration": 8,
    "start_time": "2023-01-27T09:39:11.922Z"
   },
   {
    "duration": 1062,
    "start_time": "2023-01-27T09:39:11.931Z"
   },
   {
    "duration": 8,
    "start_time": "2023-01-27T09:41:44.488Z"
   },
   {
    "duration": 127,
    "start_time": "2023-01-27T10:15:38.929Z"
   }
  ],
  "kernelspec": {
   "display_name": "Python 3 (ipykernel)",
   "language": "python",
   "name": "python3"
  },
  "language_info": {
   "codemirror_mode": {
    "name": "ipython",
    "version": 3
   },
   "file_extension": ".py",
   "mimetype": "text/x-python",
   "name": "python",
   "nbconvert_exporter": "python",
   "pygments_lexer": "ipython3",
   "version": "3.9.12"
  },
  "toc": {
   "base_numbering": 1,
   "nav_menu": {},
   "number_sections": true,
   "sideBar": true,
   "skip_h1_title": true,
   "title_cell": "Table of Contents",
   "title_sidebar": "Contents",
   "toc_cell": false,
   "toc_position": {
    "height": "calc(100% - 180px)",
    "left": "10px",
    "top": "150px",
    "width": "410px"
   },
   "toc_section_display": true,
   "toc_window_display": true
  },
  "toc-autonumbering": false
 },
 "nbformat": 4,
 "nbformat_minor": 5
}

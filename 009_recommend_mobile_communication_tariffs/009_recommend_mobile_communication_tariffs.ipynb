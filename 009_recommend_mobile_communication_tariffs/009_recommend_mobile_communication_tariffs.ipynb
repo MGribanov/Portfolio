{
 "cells": [
  {
   "cell_type": "markdown",
   "id": "d8456c0b-baf2-4ddf-bd4b-3693d635b9c9",
   "metadata": {
    "tags": []
   },
   "source": [
    "# Рекомендация тарифов мобильной связи"
   ]
  },
  {
   "cell_type": "markdown",
   "id": "9467f369-e7fd-40d3-90b4-7a07c9614d3e",
   "metadata": {
    "tags": []
   },
   "source": [
    "## Описание проекта\n",
    "Оператор мобильной связи «Мегалайн» выяснил: многие клиенты пользуются архивными тарифами. \n",
    "Они хотят построить систему, способную проанализировать поведение клиентов и предложить пользователям новый тариф: «Смарт» или «Ультра».\n",
    "\n",
    "В распоряжении данные о поведении клиентов, которые уже перешли на эти тарифы. \n",
    "Нужно построить модель для задачи классификации, которая выберет подходящий тариф. \n",
    "Предобработка данных не понадобится."
   ]
  },
  {
   "cell_type": "markdown",
   "id": "66ecf865-c798-4198-9cad-bf682683fc8f",
   "metadata": {
    "tags": []
   },
   "source": [
    "## Задачи проекта:\n",
    "- построить модель с максимально большим значением accuracy\n",
    "- довести долю правильных ответов по крайней мере до 0.75\n",
    "- проверить accuracy на тестовой выборке"
   ]
  },
  {
   "cell_type": "markdown",
   "id": "7fed02f5-c735-4c11-9c00-bdfd8c20df5f",
   "metadata": {
    "tags": []
   },
   "source": [
    "## 1. Открываем файл с данными и изучаем общую информацию"
   ]
  },
  {
   "cell_type": "code",
   "execution_count": 1,
   "id": "c4d53a5f-8131-4c78-8eed-825c09c133c1",
   "metadata": {
    "tags": []
   },
   "outputs": [],
   "source": [
    "# импорт библиотек\n",
    "import pandas as pd\n",
    "import matplotlib.pyplot as plt\n",
    "\n",
    "from sklearn.tree import DecisionTreeClassifier\n",
    "from sklearn.ensemble import RandomForestClassifier\n",
    "from sklearn.linear_model import LogisticRegression\n",
    "from sklearn.dummy import DummyClassifier\n",
    "\n",
    "from sklearn.model_selection import train_test_split\n",
    "from sklearn.model_selection import GridSearchCV\n",
    "\n",
    "from sklearn.metrics import accuracy_score"
   ]
  },
  {
   "cell_type": "code",
   "execution_count": 2,
   "id": "32285f9c-cde8-4b78-8c49-8efd70836fb9",
   "metadata": {},
   "outputs": [],
   "source": [
    "# загрузим исходные данные\n",
    "df = pd.read_csv('C:\\\\Users\\\\Mikhail\\\\Яндекс_Практикум\\\\data_set\\\\users_behavior.csv')"
   ]
  },
  {
   "cell_type": "code",
   "execution_count": 3,
   "id": "6368eb99-8e40-4bbd-a48e-5b6af091b4c2",
   "metadata": {},
   "outputs": [
    {
     "name": "stdout",
     "output_type": "stream",
     "text": [
      "<class 'pandas.core.frame.DataFrame'>\n",
      "RangeIndex: 3214 entries, 0 to 3213\n",
      "Data columns (total 5 columns):\n",
      " #   Column    Non-Null Count  Dtype  \n",
      "---  ------    --------------  -----  \n",
      " 0   calls     3214 non-null   float64\n",
      " 1   minutes   3214 non-null   float64\n",
      " 2   messages  3214 non-null   float64\n",
      " 3   mb_used   3214 non-null   float64\n",
      " 4   is_ultra  3214 non-null   int64  \n",
      "dtypes: float64(4), int64(1)\n",
      "memory usage: 125.7 KB\n"
     ]
    },
    {
     "data": {
      "text/html": [
       "<div>\n",
       "<style scoped>\n",
       "    .dataframe tbody tr th:only-of-type {\n",
       "        vertical-align: middle;\n",
       "    }\n",
       "\n",
       "    .dataframe tbody tr th {\n",
       "        vertical-align: top;\n",
       "    }\n",
       "\n",
       "    .dataframe thead th {\n",
       "        text-align: right;\n",
       "    }\n",
       "</style>\n",
       "<table border=\"1\" class=\"dataframe\">\n",
       "  <thead>\n",
       "    <tr style=\"text-align: right;\">\n",
       "      <th></th>\n",
       "      <th>calls</th>\n",
       "      <th>minutes</th>\n",
       "      <th>messages</th>\n",
       "      <th>mb_used</th>\n",
       "      <th>is_ultra</th>\n",
       "    </tr>\n",
       "  </thead>\n",
       "  <tbody>\n",
       "    <tr>\n",
       "      <th>0</th>\n",
       "      <td>40.0</td>\n",
       "      <td>311.90</td>\n",
       "      <td>83.0</td>\n",
       "      <td>19915.42</td>\n",
       "      <td>0</td>\n",
       "    </tr>\n",
       "    <tr>\n",
       "      <th>1</th>\n",
       "      <td>85.0</td>\n",
       "      <td>516.75</td>\n",
       "      <td>56.0</td>\n",
       "      <td>22696.96</td>\n",
       "      <td>0</td>\n",
       "    </tr>\n",
       "    <tr>\n",
       "      <th>2</th>\n",
       "      <td>77.0</td>\n",
       "      <td>467.66</td>\n",
       "      <td>86.0</td>\n",
       "      <td>21060.45</td>\n",
       "      <td>0</td>\n",
       "    </tr>\n",
       "    <tr>\n",
       "      <th>3</th>\n",
       "      <td>106.0</td>\n",
       "      <td>745.53</td>\n",
       "      <td>81.0</td>\n",
       "      <td>8437.39</td>\n",
       "      <td>1</td>\n",
       "    </tr>\n",
       "    <tr>\n",
       "      <th>4</th>\n",
       "      <td>66.0</td>\n",
       "      <td>418.74</td>\n",
       "      <td>1.0</td>\n",
       "      <td>14502.75</td>\n",
       "      <td>0</td>\n",
       "    </tr>\n",
       "  </tbody>\n",
       "</table>\n",
       "</div>"
      ],
      "text/plain": [
       "   calls  minutes  messages   mb_used  is_ultra\n",
       "0   40.0   311.90      83.0  19915.42         0\n",
       "1   85.0   516.75      56.0  22696.96         0\n",
       "2   77.0   467.66      86.0  21060.45         0\n",
       "3  106.0   745.53      81.0   8437.39         1\n",
       "4   66.0   418.74       1.0  14502.75         0"
      ]
     },
     "execution_count": 3,
     "metadata": {},
     "output_type": "execute_result"
    }
   ],
   "source": [
    "# общая информация о таблице\n",
    "df.info()\n",
    "df.head()"
   ]
  },
  {
   "cell_type": "code",
   "execution_count": 4,
   "id": "47f02541-bf67-4618-b018-9ea6a3c3977a",
   "metadata": {},
   "outputs": [
    {
     "data": {
      "text/plain": [
       "calls       0\n",
       "minutes     0\n",
       "messages    0\n",
       "mb_used     0\n",
       "is_ultra    0\n",
       "dtype: int64"
      ]
     },
     "execution_count": 4,
     "metadata": {},
     "output_type": "execute_result"
    }
   ],
   "source": [
    "# определим есть ли пропуски\n",
    "df.isna().sum()"
   ]
  },
  {
   "cell_type": "markdown",
   "id": "cb144254-7904-40c4-851b-6f5d76b9cd89",
   "metadata": {},
   "source": [
    "Пропусков нет"
   ]
  },
  {
   "cell_type": "code",
   "execution_count": 5,
   "id": "7bd006e6-25c6-4134-aad8-0efba6f21600",
   "metadata": {},
   "outputs": [
    {
     "data": {
      "text/html": [
       "<div>\n",
       "<style scoped>\n",
       "    .dataframe tbody tr th:only-of-type {\n",
       "        vertical-align: middle;\n",
       "    }\n",
       "\n",
       "    .dataframe tbody tr th {\n",
       "        vertical-align: top;\n",
       "    }\n",
       "\n",
       "    .dataframe thead th {\n",
       "        text-align: right;\n",
       "    }\n",
       "</style>\n",
       "<table border=\"1\" class=\"dataframe\">\n",
       "  <thead>\n",
       "    <tr style=\"text-align: right;\">\n",
       "      <th></th>\n",
       "      <th>calls</th>\n",
       "      <th>minutes</th>\n",
       "      <th>messages</th>\n",
       "      <th>mb_used</th>\n",
       "      <th>is_ultra</th>\n",
       "    </tr>\n",
       "  </thead>\n",
       "  <tbody>\n",
       "    <tr>\n",
       "      <th>calls</th>\n",
       "      <td>1.000000</td>\n",
       "      <td>0.982083</td>\n",
       "      <td>0.177385</td>\n",
       "      <td>0.286442</td>\n",
       "      <td>0.207122</td>\n",
       "    </tr>\n",
       "    <tr>\n",
       "      <th>minutes</th>\n",
       "      <td>0.982083</td>\n",
       "      <td>1.000000</td>\n",
       "      <td>0.173110</td>\n",
       "      <td>0.280967</td>\n",
       "      <td>0.206955</td>\n",
       "    </tr>\n",
       "    <tr>\n",
       "      <th>messages</th>\n",
       "      <td>0.177385</td>\n",
       "      <td>0.173110</td>\n",
       "      <td>1.000000</td>\n",
       "      <td>0.195721</td>\n",
       "      <td>0.203830</td>\n",
       "    </tr>\n",
       "    <tr>\n",
       "      <th>mb_used</th>\n",
       "      <td>0.286442</td>\n",
       "      <td>0.280967</td>\n",
       "      <td>0.195721</td>\n",
       "      <td>1.000000</td>\n",
       "      <td>0.198568</td>\n",
       "    </tr>\n",
       "    <tr>\n",
       "      <th>is_ultra</th>\n",
       "      <td>0.207122</td>\n",
       "      <td>0.206955</td>\n",
       "      <td>0.203830</td>\n",
       "      <td>0.198568</td>\n",
       "      <td>1.000000</td>\n",
       "    </tr>\n",
       "  </tbody>\n",
       "</table>\n",
       "</div>"
      ],
      "text/plain": [
       "             calls   minutes  messages   mb_used  is_ultra\n",
       "calls     1.000000  0.982083  0.177385  0.286442  0.207122\n",
       "minutes   0.982083  1.000000  0.173110  0.280967  0.206955\n",
       "messages  0.177385  0.173110  1.000000  0.195721  0.203830\n",
       "mb_used   0.286442  0.280967  0.195721  1.000000  0.198568\n",
       "is_ultra  0.207122  0.206955  0.203830  0.198568  1.000000"
      ]
     },
     "execution_count": 5,
     "metadata": {},
     "output_type": "execute_result"
    }
   ],
   "source": [
    "# оценим корреляцию данных\n",
    "df.corr()"
   ]
  },
  {
   "cell_type": "markdown",
   "id": "b6cd361e-e688-4062-9397-d7bc7fb0f62f",
   "metadata": {},
   "source": [
    "Высокая зависимость между количеством вызовов - \"calls\" и количеством использованных минут - \"minutes\"."
   ]
  },
  {
   "cell_type": "code",
   "execution_count": 6,
   "id": "4075ec01-8b2d-4fa2-a3bf-aa83bb8c6c76",
   "metadata": {},
   "outputs": [
    {
     "data": {
      "image/png": "[encoded data removed]",
      "text/plain": [
       "<Figure size 1440x720 with 5 Axes>"
      ]
     },
     "metadata": {
      "needs_background": "light"
     },
     "output_type": "display_data"
    }
   ],
   "source": [
    "# отобразим данные на графиках\n",
    "fig = plt.figure(figsize=(20, 10))\n",
    "\n",
    "df['is_ultra'].sort_values(ascending=True).plot.hist(ax=plt.subplot2grid((3,4),(0,0),colspan=4), color = 'purple', bins = 20).set(ylabel='is_ultra');\n",
    "df['calls'].sort_values(ascending=True).plot.hist(ax=plt.subplot2grid((3,4), (1,0), colspan=1), color = 'purple', bins = 50).set(ylabel='calls');\n",
    "df['minutes'].sort_values(ascending=True).plot.hist(ax=plt.subplot2grid((3,4), (1,1), colspan=1), color = 'purple', bins = 50).set(ylabel='minutes');\n",
    "df['messages'].sort_values(ascending=True).plot.hist(ax=plt.subplot2grid((3,4), (1,2), colspan=1), color = 'purple', bins = 30).set(ylabel='messages');\n",
    "df['mb_used'].sort_values(ascending=True).plot.hist(ax=plt.subplot2grid((3,4), (1,3), colspan=1), color = 'purple', bins = 50).set(ylabel='mb_used');"
   ]
  },
  {
   "cell_type": "code",
   "execution_count": 7,
   "id": "0a4da30c-e29c-4149-9cb5-6732262b8ff0",
   "metadata": {},
   "outputs": [
    {
     "data": {
      "text/html": [
       "<div>\n",
       "<style scoped>\n",
       "    .dataframe tbody tr th:only-of-type {\n",
       "        vertical-align: middle;\n",
       "    }\n",
       "\n",
       "    .dataframe tbody tr th {\n",
       "        vertical-align: top;\n",
       "    }\n",
       "\n",
       "    .dataframe thead th {\n",
       "        text-align: right;\n",
       "    }\n",
       "</style>\n",
       "<table border=\"1\" class=\"dataframe\">\n",
       "  <thead>\n",
       "    <tr style=\"text-align: right;\">\n",
       "      <th></th>\n",
       "      <th>calls</th>\n",
       "      <th>minutes</th>\n",
       "      <th>messages</th>\n",
       "      <th>mb_used</th>\n",
       "      <th>is_ultra</th>\n",
       "    </tr>\n",
       "  </thead>\n",
       "  <tbody>\n",
       "    <tr>\n",
       "      <th>count</th>\n",
       "      <td>3214.000000</td>\n",
       "      <td>3214.000000</td>\n",
       "      <td>3214.000000</td>\n",
       "      <td>3214.000000</td>\n",
       "      <td>3214.000000</td>\n",
       "    </tr>\n",
       "    <tr>\n",
       "      <th>mean</th>\n",
       "      <td>63.038892</td>\n",
       "      <td>438.208787</td>\n",
       "      <td>38.281269</td>\n",
       "      <td>17207.673836</td>\n",
       "      <td>0.306472</td>\n",
       "    </tr>\n",
       "    <tr>\n",
       "      <th>std</th>\n",
       "      <td>33.236368</td>\n",
       "      <td>234.569872</td>\n",
       "      <td>36.148326</td>\n",
       "      <td>7570.968246</td>\n",
       "      <td>0.461100</td>\n",
       "    </tr>\n",
       "    <tr>\n",
       "      <th>min</th>\n",
       "      <td>0.000000</td>\n",
       "      <td>0.000000</td>\n",
       "      <td>0.000000</td>\n",
       "      <td>0.000000</td>\n",
       "      <td>0.000000</td>\n",
       "    </tr>\n",
       "    <tr>\n",
       "      <th>25%</th>\n",
       "      <td>40.000000</td>\n",
       "      <td>274.575000</td>\n",
       "      <td>9.000000</td>\n",
       "      <td>12491.902500</td>\n",
       "      <td>0.000000</td>\n",
       "    </tr>\n",
       "    <tr>\n",
       "      <th>50%</th>\n",
       "      <td>62.000000</td>\n",
       "      <td>430.600000</td>\n",
       "      <td>30.000000</td>\n",
       "      <td>16943.235000</td>\n",
       "      <td>0.000000</td>\n",
       "    </tr>\n",
       "    <tr>\n",
       "      <th>75%</th>\n",
       "      <td>82.000000</td>\n",
       "      <td>571.927500</td>\n",
       "      <td>57.000000</td>\n",
       "      <td>21424.700000</td>\n",
       "      <td>1.000000</td>\n",
       "    </tr>\n",
       "    <tr>\n",
       "      <th>max</th>\n",
       "      <td>244.000000</td>\n",
       "      <td>1632.060000</td>\n",
       "      <td>224.000000</td>\n",
       "      <td>49745.730000</td>\n",
       "      <td>1.000000</td>\n",
       "    </tr>\n",
       "  </tbody>\n",
       "</table>\n",
       "</div>"
      ],
      "text/plain": [
       "             calls      minutes     messages       mb_used     is_ultra\n",
       "count  3214.000000  3214.000000  3214.000000   3214.000000  3214.000000\n",
       "mean     63.038892   438.208787    38.281269  17207.673836     0.306472\n",
       "std      33.236368   234.569872    36.148326   7570.968246     0.461100\n",
       "min       0.000000     0.000000     0.000000      0.000000     0.000000\n",
       "25%      40.000000   274.575000     9.000000  12491.902500     0.000000\n",
       "50%      62.000000   430.600000    30.000000  16943.235000     0.000000\n",
       "75%      82.000000   571.927500    57.000000  21424.700000     1.000000\n",
       "max     244.000000  1632.060000   224.000000  49745.730000     1.000000"
      ]
     },
     "execution_count": 7,
     "metadata": {},
     "output_type": "execute_result"
    }
   ],
   "source": [
    "df.describe()"
   ]
  },
  {
   "cell_type": "code",
   "execution_count": 8,
   "id": "948227fd-f56f-4e40-8d99-a1d00e2df2c4",
   "metadata": {},
   "outputs": [
    {
     "data": {
      "text/plain": [
       "(3214, 5)"
      ]
     },
     "execution_count": 8,
     "metadata": {},
     "output_type": "execute_result"
    }
   ],
   "source": [
    "# количество объектов (сторок) и признаков (столбцов)\n",
    "df.shape"
   ]
  },
  {
   "cell_type": "markdown",
   "id": "e1118a6d-b043-4fd5-a532-47ca7935f3b7",
   "metadata": {},
   "source": [
    "### 1.1. Описание данных"
   ]
  },
  {
   "cell_type": "markdown",
   "id": "72781abe-53ef-4951-a495-584718661280",
   "metadata": {},
   "source": [
    "**Каждый объект в наборе данных — это информация о поведении одного пользователя за месяц. Известно:**\n",
    "* **сalls** — количество звонков,\n",
    "* **minutes** — суммарная длительность звонков в минутах,\n",
    "* **messages** — количество sms-сообщений,\n",
    "* **mb_used** — израсходованный интернет-трафик в Мб,\n",
    "* **is_ultra** — каким тарифом пользовался в течение месяца («Ультра» — 1, «Смарт» — 0)."
   ]
  },
  {
   "cell_type": "markdown",
   "id": "1d52f0fd-b630-4bc2-aa3b-dc2f9806e228",
   "metadata": {
    "tags": []
   },
   "source": [
    "## 2. Разделим исходные данные на выборки и извлечем признаки для каждой из них"
   ]
  },
  {
   "cell_type": "markdown",
   "id": "fd26cfab-e9e7-4131-9351-4fc89515a56e",
   "metadata": {},
   "source": [
    "* **df_train** - обучающая выборка (**60%** исходных данных)\n",
    "* **df_valid** - валидационная выборка (**20%** исходных данных)\n",
    "* **df_test** - тестовая выборка (**20%** исходных данных)"
   ]
  },
  {
   "cell_type": "markdown",
   "id": "db98a9aa-8f6b-4205-8199-b485553fadb0",
   "metadata": {},
   "source": [
    "### 2.1. На первом шаге разделим данные на обучающую + валидационную и тестовую выборки"
   ]
  },
  {
   "cell_type": "code",
   "execution_count": 9,
   "id": "30fb112d-777a-4236-b4f0-5755cb058b0d",
   "metadata": {},
   "outputs": [],
   "source": [
    "# отделяем 20% данных для тестовой выборки\n",
    "train_valid, df_test = train_test_split(df, test_size=0.2, random_state=12345) "
   ]
  },
  {
   "cell_type": "markdown",
   "id": "f5a4deef-86cf-4851-ba98-7d2c89d76447",
   "metadata": {
    "tags": []
   },
   "source": [
    "### 2.1. На втором шаге разделим обучающую и валидационную выборки"
   ]
  },
  {
   "cell_type": "code",
   "execution_count": 10,
   "id": "8d6b38f0-2bfa-4f17-87b0-c5c22bf799d6",
   "metadata": {},
   "outputs": [],
   "source": [
    "# отделяем 25% данных от обучающей+валидационной, чтобы в валидационной получилось 20% от исходных данных\n",
    "df_train, df_valid = train_test_split(train_valid, test_size=0.25, random_state=12345)"
   ]
  },
  {
   "cell_type": "markdown",
   "id": "b674f118-8678-435c-aaa4-1f40bfbcaf8a",
   "metadata": {
    "tags": []
   },
   "source": [
    "### 2.2. Проверим распределение выборок"
   ]
  },
  {
   "cell_type": "code",
   "execution_count": 11,
   "id": "bc979879-ec00-489c-8c8b-f4f73ca030be",
   "metadata": {},
   "outputs": [
    {
     "data": {
      "text/plain": [
       "(1928, 5)"
      ]
     },
     "execution_count": 11,
     "metadata": {},
     "output_type": "execute_result"
    }
   ],
   "source": [
    "# обучающая выборка - 60% от исходных данных\n",
    "df_train.shape"
   ]
  },
  {
   "cell_type": "code",
   "execution_count": 12,
   "id": "f5d126ef-dbe3-416d-b111-f54b532b8be2",
   "metadata": {},
   "outputs": [
    {
     "data": {
      "text/plain": [
       "(643, 5)"
      ]
     },
     "execution_count": 12,
     "metadata": {},
     "output_type": "execute_result"
    }
   ],
   "source": [
    "# валидационная выборка - 20% от исходных данных\n",
    "df_valid.shape"
   ]
  },
  {
   "cell_type": "code",
   "execution_count": 13,
   "id": "036511b9-60ad-4d7b-a884-066bc41e49b2",
   "metadata": {},
   "outputs": [
    {
     "data": {
      "text/plain": [
       "(643, 5)"
      ]
     },
     "execution_count": 13,
     "metadata": {},
     "output_type": "execute_result"
    }
   ],
   "source": [
    "# тестовая выборка - 20% от исходных данных\n",
    "df_test.shape"
   ]
  },
  {
   "cell_type": "markdown",
   "id": "b1b20073-62f0-4b8d-8428-7f7ac6c8d5a4",
   "metadata": {
    "tags": []
   },
   "source": [
    "### 2.3. Извлечем признаки для каждой выборки"
   ]
  },
  {
   "cell_type": "code",
   "execution_count": 14,
   "id": "6207eaa8-e183-41bd-9523-60c41a2eae1e",
   "metadata": {},
   "outputs": [],
   "source": [
    "# переменные (признаки) обучающей выборки\n",
    "features_train = df_train.drop(['is_ultra'], axis=1)\n",
    "# целевой признак обучающей выборки\n",
    "target_train = df_train['is_ultra']"
   ]
  },
  {
   "cell_type": "code",
   "execution_count": 15,
   "id": "5943648b-fefd-48b1-8035-cc39551525cb",
   "metadata": {},
   "outputs": [
    {
     "name": "stdout",
     "output_type": "stream",
     "text": [
      "(1928, 4)\n",
      "(1928,)\n"
     ]
    }
   ],
   "source": [
    "# проверим результат\n",
    "print(features_train.shape)\n",
    "print(target_train.shape)"
   ]
  },
  {
   "cell_type": "code",
   "execution_count": 16,
   "id": "08bae958-1178-4430-9414-68945f0f1112",
   "metadata": {},
   "outputs": [],
   "source": [
    "# переменные (признаки) валидационной выборки\n",
    "features_valid = df_valid.drop(['is_ultra'], axis=1)\n",
    "# целевой признак валидационной выборки\n",
    "target_valid = df_valid['is_ultra']"
   ]
  },
  {
   "cell_type": "code",
   "execution_count": 17,
   "id": "94113db7-6386-4e87-9b53-f3720e72d9cf",
   "metadata": {},
   "outputs": [
    {
     "name": "stdout",
     "output_type": "stream",
     "text": [
      "(643, 4)\n",
      "(643,)\n"
     ]
    }
   ],
   "source": [
    "# проверим результат\n",
    "print(features_valid.shape)\n",
    "print(target_valid.shape)"
   ]
  },
  {
   "cell_type": "code",
   "execution_count": 18,
   "id": "6b6e9b16-e135-4b59-8192-3296312beeb3",
   "metadata": {},
   "outputs": [],
   "source": [
    "# переменные (признаки) тестовой выборки\n",
    "features_test = df_test.drop(['is_ultra'], axis=1)\n",
    "# целевой признак тестовой выборки\n",
    "target_test = df_test['is_ultra']"
   ]
  },
  {
   "cell_type": "code",
   "execution_count": 19,
   "id": "2526acdf-69d5-4af0-81ba-4619837423dc",
   "metadata": {},
   "outputs": [
    {
     "name": "stdout",
     "output_type": "stream",
     "text": [
      "(643, 4)\n",
      "(643,)\n"
     ]
    }
   ],
   "source": [
    "# проверим результат\n",
    "print(features_test.shape)\n",
    "print(target_test.shape)"
   ]
  },
  {
   "cell_type": "markdown",
   "id": "6240dd69-9b96-4be2-b1fc-3eedf6512e74",
   "metadata": {
    "tags": []
   },
   "source": [
    "## 3. Исследуем качество разных моделей"
   ]
  },
  {
   "cell_type": "markdown",
   "id": "e6d00a50-3269-4982-a257-9d07dd0bc092",
   "metadata": {
    "tags": []
   },
   "source": [
    "### 3.1. Модель \"Логистическая регрессия\""
   ]
  },
  {
   "cell_type": "code",
   "execution_count": 20,
   "id": "bc5f7eea-a933-4293-8ae4-5e69c27b93ef",
   "metadata": {},
   "outputs": [],
   "source": [
    "# создадим модель с алгоритмом 'lbfgs', сохраним её в переменной и зафиксируем псевдослучайность для алгоритма обучения (random_state=12345)\n",
    "logreg_model = LogisticRegression(random_state=12345, solver='lbfgs')"
   ]
  },
  {
   "cell_type": "code",
   "execution_count": 21,
   "id": "597d85ee-4ecb-4966-823c-b61d7acb1299",
   "metadata": {},
   "outputs": [
    {
     "data": {
      "text/plain": [
       "LogisticRegression(random_state=12345)"
      ]
     },
     "execution_count": 21,
     "metadata": {},
     "output_type": "execute_result"
    }
   ],
   "source": [
    "# обучим модель\n",
    "logreg_model.fit(features_train, target_train)"
   ]
  },
  {
   "cell_type": "code",
   "execution_count": 22,
   "id": "69707dea-9cd7-46c4-8b1e-4c6167bc1ad6",
   "metadata": {},
   "outputs": [
    {
     "name": "stdout",
     "output_type": "stream",
     "text": [
      "Accuracy - обучающая выборка: 0.751\n",
      "Accuracy - валидационная выборка: 0.726\n"
     ]
    }
   ],
   "source": [
    "# оценка правильности предсказаний модели на обучающей выборке \n",
    "accuracy_train = logreg_model.score(features_train, target_train)\n",
    "\n",
    "# оценка правильности предсказаний модели на валидационной выборке\n",
    "accuracy_valid = logreg_model.score(features_valid, target_valid)\n",
    "\n",
    "print(\"Accuracy - обучающая выборка:\", f'{accuracy_train:.3f}')\n",
    "print(\"Accuracy - валидационная выборка:\", f'{accuracy_valid:.3f}')"
   ]
  },
  {
   "cell_type": "markdown",
   "id": "93c887bd-6c2a-49cb-a11a-101ea8b741ff",
   "metadata": {
    "tags": []
   },
   "source": [
    "#### Выводы:\n",
    "\n",
    "1. Показатель правильности модели \"Логистическая регрессия\" низок для обучающей выбороки, на валидационной не перевысил прогового значения accuracy > 0.75\n",
    "2. Это проблема недообучения, вероятно, связанная со особенностями модели.\n",
    "3. Изменения значений гиперпараметров модели \"Логистическая регрессия\" для поиска лучшего значения accuracy не дали резльтатата > 0.75\n",
    "4. При получении неудовлетворительного результата, рекомендуется переходить к более сложным, но обычно более точным моделям."
   ]
  },
  {
   "cell_type": "markdown",
   "id": "ce6a29c4-d211-4f97-9141-750b8762f2c4",
   "metadata": {
    "tags": []
   },
   "source": [
    "### 3.2. Модель \"Дерево решений\""
   ]
  },
  {
   "cell_type": "code",
   "execution_count": 23,
   "id": "35e545a4-c13d-45a4-ac59-62e56e48e347",
   "metadata": {},
   "outputs": [],
   "source": [
    "# создадим модель, сохраним её в переменной и зафиксируем псевдослучайность для алгоритма обучения (random_state=12345)\n",
    "tree_model = DecisionTreeClassifier(random_state=12345)"
   ]
  },
  {
   "cell_type": "code",
   "execution_count": 24,
   "id": "ed44df6c-b019-4037-9c67-9e570b2d2724",
   "metadata": {},
   "outputs": [
    {
     "data": {
      "text/plain": [
       "DecisionTreeClassifier(random_state=12345)"
      ]
     },
     "execution_count": 24,
     "metadata": {},
     "output_type": "execute_result"
    }
   ],
   "source": [
    "# обучим модель\n",
    "tree_model.fit(features_train, target_train)"
   ]
  },
  {
   "cell_type": "code",
   "execution_count": 25,
   "id": "f30b28d4-9515-4479-88eb-13c43ab78926",
   "metadata": {},
   "outputs": [
    {
     "name": "stdout",
     "output_type": "stream",
     "text": [
      "Accuracy - обучающая выборка: 1.000\n",
      "Accuracy - валидационная выборка: 0.712\n"
     ]
    }
   ],
   "source": [
    "# получим предсказания модели на обучающей выборке \n",
    "predictions_train = tree_model.predict(features_train)\n",
    "\n",
    "# оценка правильности предсказаний модели на обучающей выборке\n",
    "accuracy_train = accuracy_score(target_train, predictions_train)\n",
    "\n",
    "# получим предсказания модели на валидационной выборке\n",
    "predictions_valid = tree_model.predict(features_valid)\n",
    "\n",
    "# оценка правильности предсказаний модели на тестовой выборке\n",
    "accuracy_valid = accuracy_score(target_valid, predictions_valid)\n",
    "\n",
    "print(\"Accuracy - обучающая выборка:\", f'{accuracy_train:.3f}')\n",
    "print(\"Accuracy - валидационная выборка:\", f'{accuracy_valid:.3f}')"
   ]
  },
  {
   "cell_type": "markdown",
   "id": "4b32fbc1-2b03-4157-bdbb-07f7c6cfa030",
   "metadata": {},
   "source": [
    "#### Выводы:\n",
    "\n",
    "1. На обучающей выборке модель предсказывает лучше, чем на валидационной.\n",
    "2. Это проблема переобучения, значит модель плохо поняла зависимости в данных.\n",
    "3. Изменим значения параметра максимальной глубины дерева (max_depth) для поиска лучшего значения accuracy."
   ]
  },
  {
   "cell_type": "markdown",
   "id": "edc507f4-43f2-41e8-b660-015d75f3e059",
   "metadata": {},
   "source": [
    "#### 3.2.1. Проведем оценку правильности модели \"Дерево решений\" с различными значением глубины дерева и выберем модель с лучшим показателем Accuracy"
   ]
  },
  {
   "cell_type": "code",
   "execution_count": 26,
   "id": "651196c0-6c94-4799-8d72-5bd98f386590",
   "metadata": {},
   "outputs": [
    {
     "name": "stdout",
     "output_type": "stream",
     "text": [
      "Accuracy лучшей модели: 0.774\n"
     ]
    },
    {
     "data": {
      "text/plain": [
       "DecisionTreeClassifier(max_depth=7, random_state=12345)"
      ]
     },
     "execution_count": 26,
     "metadata": {},
     "output_type": "execute_result"
    }
   ],
   "source": [
    "# проверим  max_depth от 1 до 50\n",
    "\n",
    "x_depth = []                                                                 # список для графика ось х\n",
    "y_result = []                                                                # ось y\n",
    "\n",
    "best_tree_model = None\n",
    "best_result = 0\n",
    "\n",
    "for depth in range(1, 51):\n",
    "    tree_model = DecisionTreeClassifier(random_state=12345, max_depth=depth) # создадим модель с заданной глубиной дерева от 1 до 50\n",
    "    tree_model.fit(features_train, target_train)                             # обучим модель на обучающей выборке\n",
    "    predictions_valid = tree_model.predict(features_valid)                   # найдём предсказания на валидационной выборке\n",
    "    result = accuracy_score(target_valid, predictions_valid)                 # посчитаем качество модели на валидационной выборке\n",
    "    \n",
    "    x_depth.append(depth)                                                    # собираем списки для графика\n",
    "    y_result.append(result)\n",
    "    \n",
    "    if result > best_result:\n",
    "        best_tree_model = tree_model\n",
    "        best_result = result\n",
    "        \n",
    "print(\"Accuracy лучшей модели:\", f'{best_result:.3f}')\n",
    "best_tree_model\n",
    "    #print(\"max_depth =\", depth, \": \", end='')\n",
    "    #print(result)                                                            # выведем значения максимальнай глубины и accuracy"
   ]
  },
  {
   "cell_type": "code",
   "execution_count": 27,
   "id": "ee7cd254-ac3d-41f3-85de-fd81d3d3ba13",
   "metadata": {},
   "outputs": [
    {
     "name": "stdout",
     "output_type": "stream",
     "text": [
      "CPU times: total: 1.47 s\n",
      "Wall time: 1.46 s\n"
     ]
    },
    {
     "data": {
      "text/plain": [
       "{'max_depth': 3}"
      ]
     },
     "execution_count": 27,
     "metadata": {},
     "output_type": "execute_result"
    }
   ],
   "source": [
    "%%time\n",
    "# определяем параметры для перебора\n",
    "\n",
    "parametrs = {'max_depth': range (1, 51, 1)} # глубина от 1 до 12 с шагом 1\n",
    "# запускаем обучение\n",
    "grid = GridSearchCV(tree_model, parametrs, cv=5)\n",
    "grid.fit(features_train, target_train)\n",
    "\n",
    "# выводим результат\n",
    "grid.best_params_"
   ]
  },
  {
   "cell_type": "code",
   "execution_count": 28,
   "id": "40def5d4-caf7-4604-87f0-6869292089fd",
   "metadata": {
    "tags": []
   },
   "outputs": [
    {
     "data": {
      "image/png": "[encoded data removed]",
      "text/plain": [
       "<Figure size 1440x360 with 1 Axes>"
      ]
     },
     "metadata": {
      "needs_background": "light"
     },
     "output_type": "display_data"
    }
   ],
   "source": [
    "# отобразим значения Accuracy на графике\n",
    "\n",
    "fig = plt.figure(figsize=(20, 5))\n",
    "plt.plot(x_depth, y_result, color ='purple');"
   ]
  },
  {
   "cell_type": "markdown",
   "id": "f2cd601e-d9f7-4b2e-b631-b2a3bc0ee546",
   "metadata": {},
   "source": [
    "#### 3.2.2. Выберем модель \"Дерево решений\" с лучшим показателем Accuracy"
   ]
  },
  {
   "cell_type": "code",
   "execution_count": 29,
   "id": "f4b878da-56a8-48e0-9c6c-5bef6ee92b3e",
   "metadata": {},
   "outputs": [
    {
     "name": "stdout",
     "output_type": "stream",
     "text": [
      "Accuracy лучшей модели: 0.774\n"
     ]
    },
    {
     "data": {
      "text/plain": [
       "DecisionTreeClassifier(max_depth=7, random_state=12345)"
      ]
     },
     "execution_count": 29,
     "metadata": {},
     "output_type": "execute_result"
    }
   ],
   "source": [
    "best_tree_model = None\n",
    "best_result = 0\n",
    "for depth in range(1, 16):\n",
    "     tree_model = DecisionTreeClassifier(random_state=12345, max_depth=depth)  # создадим модель с заданной глубиной дерева от 1 до 15\n",
    "     tree_model.fit(features_train, target_train)                              # обучим модель на обучающей выборке\n",
    "     predictions_valid = tree_model.predict(features_valid)                    # получаем предсказания модели\n",
    "     result = accuracy_score(target_valid, predictions_valid)                  # считаем качество модели\n",
    "     if result > best_result:\n",
    "         best_tree_model = tree_model\n",
    "         best_result = result\n",
    "         \n",
    "print(\"Accuracy лучшей модели:\", f'{best_result:.3f}')\n",
    "best_tree_model"
   ]
  },
  {
   "cell_type": "markdown",
   "id": "917a13b6-73e0-4838-aedb-e1da0f96261c",
   "metadata": {
    "tags": []
   },
   "source": [
    "#### Выводы:\n",
    "\n",
    "1. Accuracy лучшей модели на валидационной выборке: 0.774 с глубиной дерева - 7 (max_depth=7)\n",
    "2. Изменение гиперпараметров модели - criterion='gini', min_samples_split и min_samples_leaf не улучшили показатель правильности  "
   ]
  },
  {
   "cell_type": "markdown",
   "id": "a9632e55-121b-4dc3-98af-51b3c0d33b1f",
   "metadata": {
    "tags": []
   },
   "source": [
    "### 3.3. Модель \"Случайный лес\""
   ]
  },
  {
   "cell_type": "code",
   "execution_count": 30,
   "id": "ce29d7df-e828-4751-be09-81b3883b1dbc",
   "metadata": {},
   "outputs": [],
   "source": [
    "# создадим модель, сохраним её в переменной и зафиксируем псевдослучайность для алгоритма обучения (random_state=12345)\n",
    "forest_model = RandomForestClassifier(random_state=12345)"
   ]
  },
  {
   "cell_type": "code",
   "execution_count": 31,
   "id": "72914888-e873-4f58-93eb-38f8dec1e4b8",
   "metadata": {},
   "outputs": [
    {
     "data": {
      "text/plain": [
       "RandomForestClassifier(random_state=12345)"
      ]
     },
     "execution_count": 31,
     "metadata": {},
     "output_type": "execute_result"
    }
   ],
   "source": [
    "# обучим модель\n",
    "forest_model.fit(features_train, target_train)"
   ]
  },
  {
   "cell_type": "markdown",
   "id": "5723497b-3582-4a17-a831-c1e5dc28f82e",
   "metadata": {},
   "source": [
    "#### 3.3.1. Оценим правильность предсказания модели методом score()"
   ]
  },
  {
   "cell_type": "code",
   "execution_count": 32,
   "id": "dbac289c-63e2-4a98-ba9d-4d4aceb83d1e",
   "metadata": {},
   "outputs": [
    {
     "name": "stdout",
     "output_type": "stream",
     "text": [
      "Accuracy - обучающая выборка: 1.0\n",
      "Accuracy - валидационная выборка: 0.7947122861586314\n"
     ]
    }
   ],
   "source": [
    "# оценка правильности предсказаний модели на обучающей выборке \n",
    "accuracy_train = forest_model.score(features_train, target_train)\n",
    "\n",
    "# оценка правильности предсказаний модели на валидационной выборке\n",
    "accuracy_valid = forest_model.score(features_valid, target_valid)\n",
    "\n",
    "print(\"Accuracy - обучающая выборка:\", accuracy_train)\n",
    "print(\"Accuracy - валидационная выборка:\", accuracy_valid)"
   ]
  },
  {
   "cell_type": "markdown",
   "id": "f30d7584-d5a5-4122-8b0a-563d6452dca3",
   "metadata": {
    "tags": []
   },
   "source": [
    "#### Выводы:\n",
    "\n",
    "1. На валидационной выборке модель \"Случайный лес\" предсказывает лучше, чем лучшая модель \"Дерево решений\".\n",
    "2. Цель: accuracy > 0.75 достигнута.\n",
    "3. Увеличим количество деревьев, изменив значение гиперпараметра n_estimators для поиска лучшего значения accuracy."
   ]
  },
  {
   "cell_type": "markdown",
   "id": "ca10dbd6-9759-473d-84ea-b742592fe7af",
   "metadata": {
    "tags": []
   },
   "source": [
    "#### 3.3.2. Проведем оценку правильности модели с различными значением гиперпараметра n_estimators"
   ]
  },
  {
   "cell_type": "code",
   "execution_count": 33,
   "id": "61205480-8965-43f8-a96a-6fa6f4a8cdfe",
   "metadata": {
    "tags": []
   },
   "outputs": [
    {
     "name": "stdout",
     "output_type": "stream",
     "text": [
      "Accuracy наилучшей модели на валидационной выборке: 0.799\n",
      "CPU times: total: 22 s\n",
      "Wall time: 22.1 s\n"
     ]
    },
    {
     "data": {
      "text/plain": [
       "RandomForestClassifier(n_estimators=65, random_state=12345)"
      ]
     },
     "execution_count": 33,
     "metadata": {},
     "output_type": "execute_result"
    }
   ],
   "source": [
    "%%time\n",
    "\n",
    "best_forest_model = None\n",
    "best_result = 0\n",
    "# цикл обучения модели с разным количеством деревьев от 1 до 100\n",
    "for est in range(1, 101):\n",
    "    forest_model = RandomForestClassifier(random_state=12345, n_estimators=est) # создадим модель с заданным количеством деревьев\n",
    "    forest_model.fit(features_train, target_train)                              # обучим модель используя обучающую выборку\n",
    "    \n",
    "    result = forest_model.score(features_valid, target_valid)                   # посчитайте качество модели на валидационной выборке\n",
    "    \n",
    "    if result > best_result:                                                    # сравним результат \n",
    "        best_forest_model = forest_model                                        # сохраним наилучшую модель\n",
    "        best_result = result                                                    # сохраним наилучшее значение метрики accuracy на валидационных данных\n",
    "\n",
    "print(\"Accuracy наилучшей модели на валидационной выборке:\", f'{best_result:.3f}')\n",
    "best_forest_model"
   ]
  },
  {
   "cell_type": "markdown",
   "id": "1da21011-ead9-44c8-82bf-44449f049270",
   "metadata": {},
   "source": [
    "Создаем словарик, в который вписываем параметры, которые будем прогонять GridSearch’ем.\\\n",
    "Для примера будем использовать следующие параметры:\n",
    "\n",
    "- n_estimators – число деревьев в лесу. Оно будет изменяться от 10 до 50 с шагом 10\n",
    "\n",
    "- max_depth – глубина дерева. Она будет изменяться от 1 до 12 с шагом в 2\n",
    "\n",
    "- min_samples_leaf – минимальное число образцов в листах. Оно будет изменяться от 1 до 7\n",
    "\n",
    "- min_samples_leaf – минимальное число образцов для сплита. Оно будет изменяться от 2 до 9"
   ]
  },
  {
   "cell_type": "code",
   "execution_count": 34,
   "id": "d4f21870-3f73-480e-94e2-c6f2e199dcbb",
   "metadata": {},
   "outputs": [
    {
     "name": "stdout",
     "output_type": "stream",
     "text": [
      "CPU times: total: 4min 59s\n",
      "Wall time: 5min\n"
     ]
    },
    {
     "data": {
      "text/plain": [
       "{'max_depth': 9,\n",
       " 'min_samples_leaf': 6,\n",
       " 'min_samples_split': 2,\n",
       " 'n_estimators': 10}"
      ]
     },
     "execution_count": 34,
     "metadata": {},
     "output_type": "execute_result"
    }
   ],
   "source": [
    "%%time\n",
    "# определяем параметры для перебора\n",
    "\n",
    "parametrs = { 'n_estimators': range (10, 51, 10),\n",
    "              'max_depth': range (1, 13, 2),\n",
    "              'min_samples_leaf': range (1, 8),\n",
    "              'min_samples_split': range (2, 10, 2) }\n",
    "# запускаем обучение\n",
    "grid = GridSearchCV(forest_model, parametrs, cv=5)\n",
    "grid.fit(features_train, target_train)\n",
    "\n",
    "# выводим результат\n",
    "grid.best_params_"
   ]
  },
  {
   "cell_type": "markdown",
   "id": "4009598a-f9b2-4408-b1b2-c53ebba754df",
   "metadata": {
    "tags": []
   },
   "source": [
    "#### Выводы:\n",
    "\n",
    "1. Accuracy лучшей модели \"Случайный лес\" на валидационной выборке: 0.799 с количеством деревьев - 65 (n_estimators=65)\n",
    "2. Показатель правильности модели \"Случайный лес\" лучше, показатели лучше модели \"Дерево решений\", однако поиск лучшей модели \"Случайный лес\" более ресурсоёмкий   \n"
   ]
  },
  {
   "cell_type": "markdown",
   "id": "14f9ee2d-b3b7-4c4c-a89e-12f578145520",
   "metadata": {
    "tags": []
   },
   "source": [
    "## 4. Проверим качество модели на тестовой выборке"
   ]
  },
  {
   "cell_type": "markdown",
   "id": "f4b0c987-06eb-4a09-ace2-34c56eb7b14a",
   "metadata": {
    "tags": []
   },
   "source": [
    "### 4.1. Лучшая модель \"Случайный лес\""
   ]
  },
  {
   "cell_type": "code",
   "execution_count": 35,
   "id": "a82e216a-d1a3-4eaf-a134-db3612933a4e",
   "metadata": {},
   "outputs": [],
   "source": [
    "best_forest_model = RandomForestClassifier(n_estimators=65, random_state=12345) # Accuracy = 0.790"
   ]
  },
  {
   "cell_type": "code",
   "execution_count": 36,
   "id": "5089534a-3c29-46aa-87d6-f109bb6dbeb2",
   "metadata": {},
   "outputs": [],
   "source": [
    "# best_forest_model = RandomForestClassifier(max_depth=9, min_samples_leaf=6, min_samples_split=2, n_estimators=10, random_state=12345) # Accuracy = 0.799"
   ]
  },
  {
   "cell_type": "code",
   "execution_count": 37,
   "id": "924d4751-5e4d-4072-b03a-9c69d49cd1ac",
   "metadata": {},
   "outputs": [
    {
     "data": {
      "text/plain": [
       "RandomForestClassifier(n_estimators=65, random_state=12345)"
      ]
     },
     "execution_count": 37,
     "metadata": {},
     "output_type": "execute_result"
    }
   ],
   "source": [
    "# обучим модель\n",
    "best_forest_model.fit(features_train, target_train)"
   ]
  },
  {
   "cell_type": "markdown",
   "id": "fd10c45c-1d89-4063-963c-81f8064cbe77",
   "metadata": {
    "tags": []
   },
   "source": [
    "### 4.2. Оценим Accuracy на тестовой выборке"
   ]
  },
  {
   "cell_type": "code",
   "execution_count": 38,
   "id": "75dbe4a2-ef04-4e5f-ad92-d0dd57cce2ac",
   "metadata": {},
   "outputs": [
    {
     "name": "stdout",
     "output_type": "stream",
     "text": [
      "Accuracy best_forest_model тестовая выборка: 0.790\n"
     ]
    }
   ],
   "source": [
    "# оценка правильности предсказаний модели на тестовой выборке \n",
    "\n",
    "accuracy_test_forest = best_forest_model.score(features_test, target_test)\n",
    "print(\"Accuracy best_forest_model тестовая выборка:\",  f'{accuracy_test_forest:.3f}')"
   ]
  },
  {
   "cell_type": "markdown",
   "id": "95560119-3e6d-41c2-b640-c2b92e56f2f3",
   "metadata": {
    "tags": []
   },
   "source": [
    "#### Выводы:\n",
    "\n",
    "1. Accuracy лучшей модели \"Случайный лес\" на тестовой выборке: 0.790, что немного меньше, чем на валидационной.\n",
    "2. Для дальнейшего исследования рекомендуется использовать модель \"Случайный лес\" с гиперпараметрами RandomForestClassifier(n_estimators=65, random_state=12345)  \n"
   ]
  },
  {
   "cell_type": "markdown",
   "id": "7e101fe7-5ff4-49c2-a338-d32fbbd89996",
   "metadata": {
    "jp-MarkdownHeadingCollapsed": true,
    "tags": []
   },
   "source": [
    "## Выводы:\n",
    "**1. Модель \"Логистическая регрессия**\n",
    "- Показатель правильности модели \"Логистическая регрессия\" на валидационной выборке не перевысил прогового значения accuracy > 0.75;\n",
    "- Изменения значений гиперпараметров модели \"Логистическая регрессия\" для поиска лучшего значения accuracy не дали резльтатата > 0.75;\n",
    "- Для дальнейшего исследования использовались более сложные модели \"Дерево решений\" и \"Случайный лес\".\n",
    "\n",
    "**2. Модель \"Дерево решений\"**\n",
    "- Accuracy лучшей модели \"Дерево решений\" на валидационной выборке: 0.774 с глубиной дерева - 7 (max_depth=7);\n",
    "- Изменение других гиперпараметров этой модели не улучшили accuracy.  \n",
    "\n",
    "**3. Модель \"Случайный лес\"**\n",
    "- Accuracy лучшей модели \"Случайный лес\" на валидационной выборке: 0.799 с количеством деревьев - 65 (n_estimators=65);\n",
    "- Показатель правильности модели \"Случайный лес\" лучше, показатели лучше модели \"Дерево решений\", однако поиск лучшей модели \"Случайный лес\" более ресурсоёмкий\n",
    "\n",
    "**4. Сравнение моделей на тестовой выборке**\n",
    "- Accuracy лучшей модели \"Случайный лес на тестовой выборке: 0.790\n",
    "- Для дальнейшего исследования рекомендуется использовать модель \"Случайный лес\" с гиперпараметрами RandomForestClassifier(n_estimators=65, random_state=12345)"
   ]
  },
  {
   "cell_type": "markdown",
   "id": "4f4fccd0-baea-4fdd-96f6-0b31d0e5c048",
   "metadata": {
    "tags": []
   },
   "source": [
    "## 5. Дополнительное задание: проверить модели на вменяемость"
   ]
  },
  {
   "cell_type": "code",
   "execution_count": 39,
   "id": "d327e25e-6f77-4783-92a8-efb64aadc6c4",
   "metadata": {},
   "outputs": [],
   "source": [
    "# создаем модель для сравнения с более сложными моделями \"Случайный лес\" и \"Дерево решений\"\n",
    "dummy_clf = DummyClassifier(strategy=\"most_frequent\", random_state=12345 )"
   ]
  },
  {
   "cell_type": "code",
   "execution_count": 40,
   "id": "e3f2e50f-538b-4cf7-ae85-14d1dc103d54",
   "metadata": {},
   "outputs": [
    {
     "data": {
      "text/plain": [
       "DummyClassifier(random_state=12345, strategy='most_frequent')"
      ]
     },
     "execution_count": 40,
     "metadata": {},
     "output_type": "execute_result"
    }
   ],
   "source": [
    "# обучаем на обучающей выборке   \n",
    "dummy_clf.fit(features_train, target_train)"
   ]
  },
  {
   "cell_type": "code",
   "execution_count": 41,
   "id": "9284ed48-75cf-4d6f-8492-c0d5321adb7a",
   "metadata": {},
   "outputs": [
    {
     "name": "stdout",
     "output_type": "stream",
     "text": [
      "Accuracy dummy_clf на обучающей выборке: 0.695\n"
     ]
    }
   ],
   "source": [
    "# оцениим модель методом score()\n",
    "accuracy_dummy_clf = dummy_clf.score(features_train, target_train)\n",
    "print(\"Accuracy dummy_clf на обучающей выборке:\",  f'{accuracy_dummy_clf:.3f}')"
   ]
  },
  {
   "cell_type": "markdown",
   "id": "799dbb44-040d-45e1-adea-09e9d9bde372",
   "metadata": {
    "tags": []
   },
   "source": [
    "#### Выводы:\n",
    "\n",
    "1. Accuracy \"DummyClassifier\" 0.695\n",
    "2. Поскольку accuracy наших моделей больше, то можно сделать вывод - модели работают лучше и делают прогноз точнее, чем простой классификатор.    "
   ]
  }
 ],
 "metadata": {
  "ExecuteTimeLog": [
   {
    "duration": 2324,
    "start_time": "2023-01-11T10:35:33.142Z"
   },
   {
    "duration": 49,
    "start_time": "2023-01-11T10:35:35.468Z"
   },
   {
    "duration": 25,
    "start_time": "2023-01-11T10:35:35.519Z"
   },
   {
    "duration": 12,
    "start_time": "2023-01-11T10:35:35.547Z"
   },
   {
    "duration": 24,
    "start_time": "2023-01-11T10:35:35.561Z"
   },
   {
    "duration": 822,
    "start_time": "2023-01-11T10:35:35.587Z"
   },
   {
    "duration": 27,
    "start_time": "2023-01-11T10:35:36.411Z"
   },
   {
    "duration": 11,
    "start_time": "2023-01-11T10:35:36.440Z"
   },
   {
    "duration": 26,
    "start_time": "2023-01-11T10:35:36.453Z"
   },
   {
    "duration": 22,
    "start_time": "2023-01-11T10:35:36.481Z"
   },
   {
    "duration": 32,
    "start_time": "2023-01-11T10:35:36.504Z"
   },
   {
    "duration": 25,
    "start_time": "2023-01-11T10:35:36.538Z"
   },
   {
    "duration": 21,
    "start_time": "2023-01-11T10:35:36.565Z"
   },
   {
    "duration": 101,
    "start_time": "2023-01-11T10:35:36.587Z"
   },
   {
    "duration": 15,
    "start_time": "2023-01-11T10:35:36.689Z"
   },
   {
    "duration": 31,
    "start_time": "2023-01-11T10:35:36.705Z"
   },
   {
    "duration": 23,
    "start_time": "2023-01-11T10:35:36.738Z"
   },
   {
    "duration": 37,
    "start_time": "2023-01-11T10:35:36.763Z"
   },
   {
    "duration": 34,
    "start_time": "2023-01-11T10:35:36.802Z"
   },
   {
    "duration": 30,
    "start_time": "2023-01-11T10:35:36.838Z"
   },
   {
    "duration": 67,
    "start_time": "2023-01-11T10:35:36.870Z"
   },
   {
    "duration": 11,
    "start_time": "2023-01-11T10:35:36.939Z"
   },
   {
    "duration": 27,
    "start_time": "2023-01-11T10:35:36.952Z"
   },
   {
    "duration": 22,
    "start_time": "2023-01-11T10:35:36.981Z"
   },
   {
    "duration": 36,
    "start_time": "2023-01-11T10:35:37.005Z"
   },
   {
    "duration": 17,
    "start_time": "2023-01-11T10:35:37.043Z"
   },
   {
    "duration": 184,
    "start_time": "2023-01-11T10:35:37.062Z"
   },
   {
    "duration": 139,
    "start_time": "2023-01-11T10:35:37.250Z"
   },
   {
    "duration": 3,
    "start_time": "2023-01-11T10:35:37.391Z"
   },
   {
    "duration": 417,
    "start_time": "2023-01-11T10:35:37.396Z"
   },
   {
    "duration": 93,
    "start_time": "2023-01-11T10:35:37.815Z"
   },
   {
    "duration": 22055,
    "start_time": "2023-01-11T10:35:37.910Z"
   },
   {
    "duration": 3,
    "start_time": "2023-01-11T10:35:59.967Z"
   },
   {
    "duration": 16,
    "start_time": "2023-01-11T10:35:59.977Z"
   },
   {
    "duration": 9,
    "start_time": "2023-01-11T10:35:59.995Z"
   },
   {
    "duration": 286,
    "start_time": "2023-01-11T10:36:00.006Z"
   },
   {
    "duration": 25,
    "start_time": "2023-01-11T10:36:00.293Z"
   },
   {
    "duration": 22,
    "start_time": "2023-01-11T10:36:00.320Z"
   },
   {
    "duration": 28,
    "start_time": "2023-01-11T10:36:00.343Z"
   },
   {
    "duration": 46,
    "start_time": "2023-01-11T10:36:00.373Z"
   },
   {
    "duration": 13,
    "start_time": "2023-01-11T19:21:14.773Z"
   }
  ],
  "kernelspec": {
   "display_name": "Python 3 (ipykernel)",
   "language": "python",
   "name": "python3"
  },
  "language_info": {
   "codemirror_mode": {
    "name": "ipython",
    "version": 3
   },
   "file_extension": ".py",
   "mimetype": "text/x-python",
   "name": "python",
   "nbconvert_exporter": "python",
   "pygments_lexer": "ipython3",
   "version": "3.9.12"
  },
  "toc": {
   "base_numbering": 1,
   "nav_menu": {},
   "number_sections": true,
   "sideBar": true,
   "skip_h1_title": true,
   "title_cell": "Table of Contents",
   "title_sidebar": "Contents",
   "toc_cell": false,
   "toc_position": {},
   "toc_section_display": true,
   "toc_window_display": false
  },
  "toc-autonumbering": false
 },
 "nbformat": 4,
 "nbformat_minor": 5
}

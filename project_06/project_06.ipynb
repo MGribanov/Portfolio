{
 "cells": [
  {
   "cell_type": "markdown",
   "id": "67628f92-9a55-4f41-b9d5-5d28305ba168",
   "metadata": {},
   "source": [
    "# Определение стоимости автомобилей"
   ]
  },
  {
   "cell_type": "markdown",
   "id": "64781b91-c8b2-46ae-8779-76e6842cbccc",
   "metadata": {},
   "source": [
    "Сервис по продаже автомобилей с пробегом «Не бит, не крашен» разрабатывает приложение для привлечения новых клиентов.\\\n",
    "В нём можно быстро узнать рыночную стоимость своего автомобиля.\\\n",
    "В распоряжении исторические данные: технические характеристики, комплектации и цены автомобилей."
   ]
  },
  {
   "cell_type": "markdown",
   "id": "e4cbab69-e77d-4132-b7ff-c6aa31cc2c6f",
   "metadata": {},
   "source": [
    "## Задача"
   ]
  },
  {
   "cell_type": "markdown",
   "id": "78c761c9-a114-4a7b-ad27-7457bea7dbea",
   "metadata": {},
   "source": [
    "Построить модель для определения стоимости автомобиля.\n",
    "\n",
    "Заказчику важны:\n",
    "- качество предсказания, RMSE должно быть меньше 2500\n",
    "- скорость предсказания\n",
    "- время обучения"
   ]
  },
  {
   "cell_type": "markdown",
   "id": "e71f27c2-5d57-4161-bf82-5165c48aedf0",
   "metadata": {},
   "source": [
    "## 1. Загрузка данных"
   ]
  },
  {
   "cell_type": "markdown",
   "id": "acbe8def-e9a9-47e5-b6cf-b24f746b8138",
   "metadata": {},
   "source": [
    "### 1.1 Импорт необходимых для работы библиотек, метрик и утилит"
   ]
  },
  {
   "cell_type": "code",
   "execution_count": 1,
   "id": "5f8d26de-f897-417b-98e9-553c54262b45",
   "metadata": {},
   "outputs": [],
   "source": [
    "# !pip install skimpy"
   ]
  },
  {
   "cell_type": "code",
   "execution_count": 1,
   "id": "df5fb4a3-9480-435d-af4a-b5c1090e5e1c",
   "metadata": {},
   "outputs": [],
   "source": [
    "# импорт библиотек\n",
    "import pandas as pd\n",
    "import numpy as np\n",
    "import seaborn as sns\n",
    "import matplotlib.pyplot as plt\n",
    "\n",
    "# импорт моделей\n",
    "import lightgbm as lgb\n",
    "from catboost import CatBoostRegressor\n",
    "from sklearn.linear_model import LinearRegression\n",
    "from sklearn.ensemble import RandomForestRegressor\n",
    "\n",
    "# предварительная обработка\n",
    "from sklearn.preprocessing import (\n",
    "    OneHotEncoder,\n",
    "    OrdinalEncoder,\n",
    "    StandardScaler,\n",
    "    MinMaxScaler\n",
    ")\n",
    "\n",
    "from sklearn.compose import make_column_transformer\n",
    "from sklearn.pipeline import make_pipeline\n",
    "from sklearn.pipeline import Pipeline\n",
    "\n",
    "from sklearn.model_selection import (\n",
    "    GridSearchCV, \n",
    "    RandomizedSearchCV,\n",
    "    train_test_split\n",
    ")\n",
    "\n",
    "# метрики\n",
    "from sklearn.metrics import mean_squared_error\n",
    "\n",
    "# настройки\n",
    "import warnings\n",
    "warnings.filterwarnings(\"ignore\")\n",
    "from skimpy import clean_columns\n",
    "\n",
    "# константа верхний регистр\n",
    "RANDOM_STATE = 42"
   ]
  },
  {
   "cell_type": "markdown",
   "id": "4e841177",
   "metadata": {},
   "source": [
    "<font color='blue'><b>Комментарий ревьюера: </b></font> ✔️\\\n",
    "<font color='green'> Хорошее оформление импортов! \\\n",
    "Импорты собраны в одной ячейке, разделены на функциональные группы пустой строкой.</font>"
   ]
  },
  {
   "cell_type": "markdown",
   "id": "56210ba3-274c-44fb-bec9-4a07486df489",
   "metadata": {
    "tags": []
   },
   "source": [
    "### 1.2 Загрузка данных"
   ]
  },
  {
   "cell_type": "code",
   "execution_count": 3,
   "id": "9a2e8193-1c39-4ffd-8607-51dfa95496ae",
   "metadata": {},
   "outputs": [],
   "source": [
    "# загрузим данные\n",
    "data_avto = pd.read_csv('C:\\\\Users\\\\Mikhail\\\\Яндекс_Практикум\\\\data_set\\\\autos.csv')"
   ]
  },
  {
   "cell_type": "markdown",
   "id": "58f90100-a06f-49ac-8753-29b77615b411",
   "metadata": {
    "tags": []
   },
   "source": [
    "#### Описание данных\n",
    " \n",
    "**Признаки**\n",
    "- **DateCrawled** — дата скачивания анкеты из базы\n",
    "- **VehicleType** — тип автомобильного кузова\n",
    "- **RegistrationYear** — год регистрации автомобиля\n",
    "- **Gearbox** — тип коробки передач\n",
    "- **Power** — мощность (л. с.)\n",
    "- **Model** — модель автомобиля\n",
    "- **Kilometer** — пробег (км)\n",
    "- **RegistrationMonth** — месяц регистрации автомобиля\n",
    "- **FuelType** — тип топлива\n",
    "- **Brand** — марка автомобиля\n",
    "- **Repaired** — была машина в ремонте или нет\n",
    "- **DateCreated** — дата создания анкеты\n",
    "- **NumberOfPictures** — количество фотографий автомобиля\n",
    "- **PostalCode** — почтовый индекс владельца анкеты (пользователя)\n",
    "- **LastSeen** — дата последней активности пользователя\n",
    "\n",
    "**Целевой признак**\n",
    "- **Price** — цена (евро)"
   ]
  },
  {
   "cell_type": "markdown",
   "id": "84c190d9-fd87-4d18-9f24-0417d2f03271",
   "metadata": {},
   "source": [
    "### 1.3 Изучим данные в таблице"
   ]
  },
  {
   "cell_type": "code",
   "execution_count": 4,
   "id": "a8b33e39-0908-48a6-8529-d34bf750cb07",
   "metadata": {},
   "outputs": [],
   "source": [
    "# функция для получения общей информации о данных\n",
    "def get_info(data):\n",
    "    display(data.head())\n",
    "    display(data.tail())\n",
    "    data.info()\n",
    "    display(data.describe())\n",
    "    print('\\nРазмер таблицы:', data.shape)\n",
    "    print('\\nКоличество явных дубликатов:', data.duplicated().sum())\n",
    "    print('\\nКоличество пропусков в таблице:', data.isna().sum().sum())"
   ]
  },
  {
   "cell_type": "code",
   "execution_count": 5,
   "id": "e56bafbc-6243-4683-8015-cfd98f14ded4",
   "metadata": {
    "tags": []
   },
   "outputs": [
    {
     "data": {
      "text/html": [
       "<div>\n",
       "<style scoped>\n",
       "    .dataframe tbody tr th:only-of-type {\n",
       "        vertical-align: middle;\n",
       "    }\n",
       "\n",
       "    .dataframe tbody tr th {\n",
       "        vertical-align: top;\n",
       "    }\n",
       "\n",
       "    .dataframe thead th {\n",
       "        text-align: right;\n",
       "    }\n",
       "</style>\n",
       "<table border=\"1\" class=\"dataframe\">\n",
       "  <thead>\n",
       "    <tr style=\"text-align: right;\">\n",
       "      <th></th>\n",
       "      <th>DateCrawled</th>\n",
       "      <th>Price</th>\n",
       "      <th>VehicleType</th>\n",
       "      <th>RegistrationYear</th>\n",
       "      <th>Gearbox</th>\n",
       "      <th>Power</th>\n",
       "      <th>Model</th>\n",
       "      <th>Kilometer</th>\n",
       "      <th>RegistrationMonth</th>\n",
       "      <th>FuelType</th>\n",
       "      <th>Brand</th>\n",
       "      <th>Repaired</th>\n",
       "      <th>DateCreated</th>\n",
       "      <th>NumberOfPictures</th>\n",
       "      <th>PostalCode</th>\n",
       "      <th>LastSeen</th>\n",
       "    </tr>\n",
       "  </thead>\n",
       "  <tbody>\n",
       "    <tr>\n",
       "      <th>0</th>\n",
       "      <td>2016-03-24 11:52:17</td>\n",
       "      <td>480</td>\n",
       "      <td>NaN</td>\n",
       "      <td>1993</td>\n",
       "      <td>manual</td>\n",
       "      <td>0</td>\n",
       "      <td>golf</td>\n",
       "      <td>150000</td>\n",
       "      <td>0</td>\n",
       "      <td>petrol</td>\n",
       "      <td>volkswagen</td>\n",
       "      <td>NaN</td>\n",
       "      <td>2016-03-24 00:00:00</td>\n",
       "      <td>0</td>\n",
       "      <td>70435</td>\n",
       "      <td>2016-04-07 03:16:57</td>\n",
       "    </tr>\n",
       "    <tr>\n",
       "      <th>1</th>\n",
       "      <td>2016-03-24 10:58:45</td>\n",
       "      <td>18300</td>\n",
       "      <td>coupe</td>\n",
       "      <td>2011</td>\n",
       "      <td>manual</td>\n",
       "      <td>190</td>\n",
       "      <td>NaN</td>\n",
       "      <td>125000</td>\n",
       "      <td>5</td>\n",
       "      <td>gasoline</td>\n",
       "      <td>audi</td>\n",
       "      <td>yes</td>\n",
       "      <td>2016-03-24 00:00:00</td>\n",
       "      <td>0</td>\n",
       "      <td>66954</td>\n",
       "      <td>2016-04-07 01:46:50</td>\n",
       "    </tr>\n",
       "    <tr>\n",
       "      <th>2</th>\n",
       "      <td>2016-03-14 12:52:21</td>\n",
       "      <td>9800</td>\n",
       "      <td>suv</td>\n",
       "      <td>2004</td>\n",
       "      <td>auto</td>\n",
       "      <td>163</td>\n",
       "      <td>grand</td>\n",
       "      <td>125000</td>\n",
       "      <td>8</td>\n",
       "      <td>gasoline</td>\n",
       "      <td>jeep</td>\n",
       "      <td>NaN</td>\n",
       "      <td>2016-03-14 00:00:00</td>\n",
       "      <td>0</td>\n",
       "      <td>90480</td>\n",
       "      <td>2016-04-05 12:47:46</td>\n",
       "    </tr>\n",
       "    <tr>\n",
       "      <th>3</th>\n",
       "      <td>2016-03-17 16:54:04</td>\n",
       "      <td>1500</td>\n",
       "      <td>small</td>\n",
       "      <td>2001</td>\n",
       "      <td>manual</td>\n",
       "      <td>75</td>\n",
       "      <td>golf</td>\n",
       "      <td>150000</td>\n",
       "      <td>6</td>\n",
       "      <td>petrol</td>\n",
       "      <td>volkswagen</td>\n",
       "      <td>no</td>\n",
       "      <td>2016-03-17 00:00:00</td>\n",
       "      <td>0</td>\n",
       "      <td>91074</td>\n",
       "      <td>2016-03-17 17:40:17</td>\n",
       "    </tr>\n",
       "    <tr>\n",
       "      <th>4</th>\n",
       "      <td>2016-03-31 17:25:20</td>\n",
       "      <td>3600</td>\n",
       "      <td>small</td>\n",
       "      <td>2008</td>\n",
       "      <td>manual</td>\n",
       "      <td>69</td>\n",
       "      <td>fabia</td>\n",
       "      <td>90000</td>\n",
       "      <td>7</td>\n",
       "      <td>gasoline</td>\n",
       "      <td>skoda</td>\n",
       "      <td>no</td>\n",
       "      <td>2016-03-31 00:00:00</td>\n",
       "      <td>0</td>\n",
       "      <td>60437</td>\n",
       "      <td>2016-04-06 10:17:21</td>\n",
       "    </tr>\n",
       "  </tbody>\n",
       "</table>\n",
       "</div>"
      ],
      "text/plain": [
       "           DateCrawled  Price VehicleType  RegistrationYear Gearbox  Power  \\\n",
       "0  2016-03-24 11:52:17    480         NaN              1993  manual      0   \n",
       "1  2016-03-24 10:58:45  18300       coupe              2011  manual    190   \n",
       "2  2016-03-14 12:52:21   9800         suv              2004    auto    163   \n",
       "3  2016-03-17 16:54:04   1500       small              2001  manual     75   \n",
       "4  2016-03-31 17:25:20   3600       small              2008  manual     69   \n",
       "\n",
       "   Model  Kilometer  RegistrationMonth  FuelType       Brand Repaired  \\\n",
       "0   golf     150000                  0    petrol  volkswagen      NaN   \n",
       "1    NaN     125000                  5  gasoline        audi      yes   \n",
       "2  grand     125000                  8  gasoline        jeep      NaN   \n",
       "3   golf     150000                  6    petrol  volkswagen       no   \n",
       "4  fabia      90000                  7  gasoline       skoda       no   \n",
       "\n",
       "           DateCreated  NumberOfPictures  PostalCode             LastSeen  \n",
       "0  2016-03-24 00:00:00                 0       70435  2016-04-07 03:16:57  \n",
       "1  2016-03-24 00:00:00                 0       66954  2016-04-07 01:46:50  \n",
       "2  2016-03-14 00:00:00                 0       90480  2016-04-05 12:47:46  \n",
       "3  2016-03-17 00:00:00                 0       91074  2016-03-17 17:40:17  \n",
       "4  2016-03-31 00:00:00                 0       60437  2016-04-06 10:17:21  "
      ]
     },
     "metadata": {},
     "output_type": "display_data"
    },
    {
     "data": {
      "text/html": [
       "<div>\n",
       "<style scoped>\n",
       "    .dataframe tbody tr th:only-of-type {\n",
       "        vertical-align: middle;\n",
       "    }\n",
       "\n",
       "    .dataframe tbody tr th {\n",
       "        vertical-align: top;\n",
       "    }\n",
       "\n",
       "    .dataframe thead th {\n",
       "        text-align: right;\n",
       "    }\n",
       "</style>\n",
       "<table border=\"1\" class=\"dataframe\">\n",
       "  <thead>\n",
       "    <tr style=\"text-align: right;\">\n",
       "      <th></th>\n",
       "      <th>DateCrawled</th>\n",
       "      <th>Price</th>\n",
       "      <th>VehicleType</th>\n",
       "      <th>RegistrationYear</th>\n",
       "      <th>Gearbox</th>\n",
       "      <th>Power</th>\n",
       "      <th>Model</th>\n",
       "      <th>Kilometer</th>\n",
       "      <th>RegistrationMonth</th>\n",
       "      <th>FuelType</th>\n",
       "      <th>Brand</th>\n",
       "      <th>Repaired</th>\n",
       "      <th>DateCreated</th>\n",
       "      <th>NumberOfPictures</th>\n",
       "      <th>PostalCode</th>\n",
       "      <th>LastSeen</th>\n",
       "    </tr>\n",
       "  </thead>\n",
       "  <tbody>\n",
       "    <tr>\n",
       "      <th>354364</th>\n",
       "      <td>2016-03-21 09:50:58</td>\n",
       "      <td>0</td>\n",
       "      <td>NaN</td>\n",
       "      <td>2005</td>\n",
       "      <td>manual</td>\n",
       "      <td>0</td>\n",
       "      <td>colt</td>\n",
       "      <td>150000</td>\n",
       "      <td>7</td>\n",
       "      <td>petrol</td>\n",
       "      <td>mitsubishi</td>\n",
       "      <td>yes</td>\n",
       "      <td>2016-03-21 00:00:00</td>\n",
       "      <td>0</td>\n",
       "      <td>2694</td>\n",
       "      <td>2016-03-21 10:42:49</td>\n",
       "    </tr>\n",
       "    <tr>\n",
       "      <th>354365</th>\n",
       "      <td>2016-03-14 17:48:27</td>\n",
       "      <td>2200</td>\n",
       "      <td>NaN</td>\n",
       "      <td>2005</td>\n",
       "      <td>NaN</td>\n",
       "      <td>0</td>\n",
       "      <td>NaN</td>\n",
       "      <td>20000</td>\n",
       "      <td>1</td>\n",
       "      <td>NaN</td>\n",
       "      <td>sonstige_autos</td>\n",
       "      <td>NaN</td>\n",
       "      <td>2016-03-14 00:00:00</td>\n",
       "      <td>0</td>\n",
       "      <td>39576</td>\n",
       "      <td>2016-04-06 00:46:52</td>\n",
       "    </tr>\n",
       "    <tr>\n",
       "      <th>354366</th>\n",
       "      <td>2016-03-05 19:56:21</td>\n",
       "      <td>1199</td>\n",
       "      <td>convertible</td>\n",
       "      <td>2000</td>\n",
       "      <td>auto</td>\n",
       "      <td>101</td>\n",
       "      <td>fortwo</td>\n",
       "      <td>125000</td>\n",
       "      <td>3</td>\n",
       "      <td>petrol</td>\n",
       "      <td>smart</td>\n",
       "      <td>no</td>\n",
       "      <td>2016-03-05 00:00:00</td>\n",
       "      <td>0</td>\n",
       "      <td>26135</td>\n",
       "      <td>2016-03-11 18:17:12</td>\n",
       "    </tr>\n",
       "    <tr>\n",
       "      <th>354367</th>\n",
       "      <td>2016-03-19 18:57:12</td>\n",
       "      <td>9200</td>\n",
       "      <td>bus</td>\n",
       "      <td>1996</td>\n",
       "      <td>manual</td>\n",
       "      <td>102</td>\n",
       "      <td>transporter</td>\n",
       "      <td>150000</td>\n",
       "      <td>3</td>\n",
       "      <td>gasoline</td>\n",
       "      <td>volkswagen</td>\n",
       "      <td>no</td>\n",
       "      <td>2016-03-19 00:00:00</td>\n",
       "      <td>0</td>\n",
       "      <td>87439</td>\n",
       "      <td>2016-04-07 07:15:26</td>\n",
       "    </tr>\n",
       "    <tr>\n",
       "      <th>354368</th>\n",
       "      <td>2016-03-20 19:41:08</td>\n",
       "      <td>3400</td>\n",
       "      <td>wagon</td>\n",
       "      <td>2002</td>\n",
       "      <td>manual</td>\n",
       "      <td>100</td>\n",
       "      <td>golf</td>\n",
       "      <td>150000</td>\n",
       "      <td>6</td>\n",
       "      <td>gasoline</td>\n",
       "      <td>volkswagen</td>\n",
       "      <td>NaN</td>\n",
       "      <td>2016-03-20 00:00:00</td>\n",
       "      <td>0</td>\n",
       "      <td>40764</td>\n",
       "      <td>2016-03-24 12:45:21</td>\n",
       "    </tr>\n",
       "  </tbody>\n",
       "</table>\n",
       "</div>"
      ],
      "text/plain": [
       "                DateCrawled  Price  VehicleType  RegistrationYear Gearbox  \\\n",
       "354364  2016-03-21 09:50:58      0          NaN              2005  manual   \n",
       "354365  2016-03-14 17:48:27   2200          NaN              2005     NaN   \n",
       "354366  2016-03-05 19:56:21   1199  convertible              2000    auto   \n",
       "354367  2016-03-19 18:57:12   9200          bus              1996  manual   \n",
       "354368  2016-03-20 19:41:08   3400        wagon              2002  manual   \n",
       "\n",
       "        Power        Model  Kilometer  RegistrationMonth  FuelType  \\\n",
       "354364      0         colt     150000                  7    petrol   \n",
       "354365      0          NaN      20000                  1       NaN   \n",
       "354366    101       fortwo     125000                  3    petrol   \n",
       "354367    102  transporter     150000                  3  gasoline   \n",
       "354368    100         golf     150000                  6  gasoline   \n",
       "\n",
       "                 Brand Repaired          DateCreated  NumberOfPictures  \\\n",
       "354364      mitsubishi      yes  2016-03-21 00:00:00                 0   \n",
       "354365  sonstige_autos      NaN  2016-03-14 00:00:00                 0   \n",
       "354366           smart       no  2016-03-05 00:00:00                 0   \n",
       "354367      volkswagen       no  2016-03-19 00:00:00                 0   \n",
       "354368      volkswagen      NaN  2016-03-20 00:00:00                 0   \n",
       "\n",
       "        PostalCode             LastSeen  \n",
       "354364        2694  2016-03-21 10:42:49  \n",
       "354365       39576  2016-04-06 00:46:52  \n",
       "354366       26135  2016-03-11 18:17:12  \n",
       "354367       87439  2016-04-07 07:15:26  \n",
       "354368       40764  2016-03-24 12:45:21  "
      ]
     },
     "metadata": {},
     "output_type": "display_data"
    },
    {
     "name": "stdout",
     "output_type": "stream",
     "text": [
      "<class 'pandas.core.frame.DataFrame'>\n",
      "RangeIndex: 354369 entries, 0 to 354368\n",
      "Data columns (total 16 columns):\n",
      " #   Column             Non-Null Count   Dtype \n",
      "---  ------             --------------   ----- \n",
      " 0   DateCrawled        354369 non-null  object\n",
      " 1   Price              354369 non-null  int64 \n",
      " 2   VehicleType        316879 non-null  object\n",
      " 3   RegistrationYear   354369 non-null  int64 \n",
      " 4   Gearbox            334536 non-null  object\n",
      " 5   Power              354369 non-null  int64 \n",
      " 6   Model              334664 non-null  object\n",
      " 7   Kilometer          354369 non-null  int64 \n",
      " 8   RegistrationMonth  354369 non-null  int64 \n",
      " 9   FuelType           321474 non-null  object\n",
      " 10  Brand              354369 non-null  object\n",
      " 11  Repaired           283215 non-null  object\n",
      " 12  DateCreated        354369 non-null  object\n",
      " 13  NumberOfPictures   354369 non-null  int64 \n",
      " 14  PostalCode         354369 non-null  int64 \n",
      " 15  LastSeen           354369 non-null  object\n",
      "dtypes: int64(7), object(9)\n",
      "memory usage: 43.3+ MB\n"
     ]
    },
    {
     "data": {
      "text/html": [
       "<div>\n",
       "<style scoped>\n",
       "    .dataframe tbody tr th:only-of-type {\n",
       "        vertical-align: middle;\n",
       "    }\n",
       "\n",
       "    .dataframe tbody tr th {\n",
       "        vertical-align: top;\n",
       "    }\n",
       "\n",
       "    .dataframe thead th {\n",
       "        text-align: right;\n",
       "    }\n",
       "</style>\n",
       "<table border=\"1\" class=\"dataframe\">\n",
       "  <thead>\n",
       "    <tr style=\"text-align: right;\">\n",
       "      <th></th>\n",
       "      <th>Price</th>\n",
       "      <th>RegistrationYear</th>\n",
       "      <th>Power</th>\n",
       "      <th>Kilometer</th>\n",
       "      <th>RegistrationMonth</th>\n",
       "      <th>NumberOfPictures</th>\n",
       "      <th>PostalCode</th>\n",
       "    </tr>\n",
       "  </thead>\n",
       "  <tbody>\n",
       "    <tr>\n",
       "      <th>count</th>\n",
       "      <td>354369.000000</td>\n",
       "      <td>354369.000000</td>\n",
       "      <td>354369.000000</td>\n",
       "      <td>354369.000000</td>\n",
       "      <td>354369.000000</td>\n",
       "      <td>354369.0</td>\n",
       "      <td>354369.000000</td>\n",
       "    </tr>\n",
       "    <tr>\n",
       "      <th>mean</th>\n",
       "      <td>4416.656776</td>\n",
       "      <td>2004.234448</td>\n",
       "      <td>110.094337</td>\n",
       "      <td>128211.172535</td>\n",
       "      <td>5.714645</td>\n",
       "      <td>0.0</td>\n",
       "      <td>50508.689087</td>\n",
       "    </tr>\n",
       "    <tr>\n",
       "      <th>std</th>\n",
       "      <td>4514.158514</td>\n",
       "      <td>90.227958</td>\n",
       "      <td>189.850405</td>\n",
       "      <td>37905.341530</td>\n",
       "      <td>3.726421</td>\n",
       "      <td>0.0</td>\n",
       "      <td>25783.096248</td>\n",
       "    </tr>\n",
       "    <tr>\n",
       "      <th>min</th>\n",
       "      <td>0.000000</td>\n",
       "      <td>1000.000000</td>\n",
       "      <td>0.000000</td>\n",
       "      <td>5000.000000</td>\n",
       "      <td>0.000000</td>\n",
       "      <td>0.0</td>\n",
       "      <td>1067.000000</td>\n",
       "    </tr>\n",
       "    <tr>\n",
       "      <th>25%</th>\n",
       "      <td>1050.000000</td>\n",
       "      <td>1999.000000</td>\n",
       "      <td>69.000000</td>\n",
       "      <td>125000.000000</td>\n",
       "      <td>3.000000</td>\n",
       "      <td>0.0</td>\n",
       "      <td>30165.000000</td>\n",
       "    </tr>\n",
       "    <tr>\n",
       "      <th>50%</th>\n",
       "      <td>2700.000000</td>\n",
       "      <td>2003.000000</td>\n",
       "      <td>105.000000</td>\n",
       "      <td>150000.000000</td>\n",
       "      <td>6.000000</td>\n",
       "      <td>0.0</td>\n",
       "      <td>49413.000000</td>\n",
       "    </tr>\n",
       "    <tr>\n",
       "      <th>75%</th>\n",
       "      <td>6400.000000</td>\n",
       "      <td>2008.000000</td>\n",
       "      <td>143.000000</td>\n",
       "      <td>150000.000000</td>\n",
       "      <td>9.000000</td>\n",
       "      <td>0.0</td>\n",
       "      <td>71083.000000</td>\n",
       "    </tr>\n",
       "    <tr>\n",
       "      <th>max</th>\n",
       "      <td>20000.000000</td>\n",
       "      <td>9999.000000</td>\n",
       "      <td>20000.000000</td>\n",
       "      <td>150000.000000</td>\n",
       "      <td>12.000000</td>\n",
       "      <td>0.0</td>\n",
       "      <td>99998.000000</td>\n",
       "    </tr>\n",
       "  </tbody>\n",
       "</table>\n",
       "</div>"
      ],
      "text/plain": [
       "               Price  RegistrationYear          Power      Kilometer  \\\n",
       "count  354369.000000     354369.000000  354369.000000  354369.000000   \n",
       "mean     4416.656776       2004.234448     110.094337  128211.172535   \n",
       "std      4514.158514         90.227958     189.850405   37905.341530   \n",
       "min         0.000000       1000.000000       0.000000    5000.000000   \n",
       "25%      1050.000000       1999.000000      69.000000  125000.000000   \n",
       "50%      2700.000000       2003.000000     105.000000  150000.000000   \n",
       "75%      6400.000000       2008.000000     143.000000  150000.000000   \n",
       "max     20000.000000       9999.000000   20000.000000  150000.000000   \n",
       "\n",
       "       RegistrationMonth  NumberOfPictures     PostalCode  \n",
       "count      354369.000000          354369.0  354369.000000  \n",
       "mean            5.714645               0.0   50508.689087  \n",
       "std             3.726421               0.0   25783.096248  \n",
       "min             0.000000               0.0    1067.000000  \n",
       "25%             3.000000               0.0   30165.000000  \n",
       "50%             6.000000               0.0   49413.000000  \n",
       "75%             9.000000               0.0   71083.000000  \n",
       "max            12.000000               0.0   99998.000000  "
      ]
     },
     "metadata": {},
     "output_type": "display_data"
    },
    {
     "name": "stdout",
     "output_type": "stream",
     "text": [
      "\n",
      "Размер таблицы: (354369, 16)\n",
      "\n",
      "Количество явных дубликатов: 4\n",
      "\n",
      "Количество пропусков в таблице: 181077\n"
     ]
    }
   ],
   "source": [
    "# общая информация о данных\n",
    "get_info(data_avto)"
   ]
  },
  {
   "cell_type": "markdown",
   "id": "750459a0-348e-478a-a506-d0eca8b7e696",
   "metadata": {},
   "source": [
    "#### Выводы"
   ]
  },
  {
   "cell_type": "markdown",
   "id": "5f8abce3-ccbc-4545-8f09-4e268cc0a930",
   "metadata": {},
   "source": [
    "1. Много пропусков\n",
    "2. Дубликатов мало, можно удалить \n",
    "3. Приведем название столбцов к snake стилю\n",
    "4. Есть явные аномалии в числовых признаках\n",
    "5. Есть избыточные для обучения модели признаки, их можно удалить"
   ]
  },
  {
   "cell_type": "markdown",
   "id": "64e3548f-13d3-4e5d-83ef-0519af56b2d3",
   "metadata": {},
   "source": [
    "### 1.4 Очистка данных"
   ]
  },
  {
   "cell_type": "markdown",
   "id": "088b1b1a-366a-42df-b34a-b5617cf93678",
   "metadata": {},
   "source": [
    "#### Удалим дубликаты"
   ]
  },
  {
   "cell_type": "code",
   "execution_count": 6,
   "id": "646b5d92-2069-442d-a72a-c98b27fc5d9c",
   "metadata": {},
   "outputs": [],
   "source": [
    "# удалим дубликаты и сохраним в новую таблицу\n",
    "df = data_avto.drop_duplicates()"
   ]
  },
  {
   "cell_type": "markdown",
   "id": "9f30334e-121b-4a37-ae35-629322d418cf",
   "metadata": {
    "tags": []
   },
   "source": [
    "#### Удалим признаки, которые не влияют на стоимость автомобиля\n",
    "- **DateCrawled** — дата скачивания анкеты из базы\n",
    "- **RegistrationMonth** — месяц регистрации автомобиля\n",
    "- **DateCreated** — дата создания анкеты\n",
    "- **NumberOfPictures** — количество фотографий автомобиля\n",
    "- **PostalCode** — почтовый индекс владельца анкеты (пользователя)\n",
    "- **LastSeen** — дата последней активности пользователя"
   ]
  },
  {
   "cell_type": "code",
   "execution_count": 7,
   "id": "5fb216fd-1906-4d80-8879-89ba876a5736",
   "metadata": {},
   "outputs": [],
   "source": [
    "df = df.drop(['DateCrawled', 'RegistrationMonth', 'DateCreated', 'NumberOfPictures', 'PostalCode', 'LastSeen'],axis = 1)"
   ]
  },
  {
   "cell_type": "code",
   "execution_count": 8,
   "id": "55e61af1-9a8e-4061-bf2e-1c43179dda77",
   "metadata": {},
   "outputs": [
    {
     "data": {
      "text/html": [
       "<div>\n",
       "<style scoped>\n",
       "    .dataframe tbody tr th:only-of-type {\n",
       "        vertical-align: middle;\n",
       "    }\n",
       "\n",
       "    .dataframe tbody tr th {\n",
       "        vertical-align: top;\n",
       "    }\n",
       "\n",
       "    .dataframe thead th {\n",
       "        text-align: right;\n",
       "    }\n",
       "</style>\n",
       "<table border=\"1\" class=\"dataframe\">\n",
       "  <thead>\n",
       "    <tr style=\"text-align: right;\">\n",
       "      <th></th>\n",
       "      <th>DateCrawled</th>\n",
       "      <th>Price</th>\n",
       "      <th>VehicleType</th>\n",
       "      <th>RegistrationYear</th>\n",
       "      <th>Gearbox</th>\n",
       "      <th>Power</th>\n",
       "      <th>Model</th>\n",
       "      <th>Kilometer</th>\n",
       "      <th>RegistrationMonth</th>\n",
       "      <th>FuelType</th>\n",
       "      <th>Brand</th>\n",
       "      <th>Repaired</th>\n",
       "      <th>DateCreated</th>\n",
       "      <th>NumberOfPictures</th>\n",
       "      <th>PostalCode</th>\n",
       "      <th>LastSeen</th>\n",
       "    </tr>\n",
       "  </thead>\n",
       "  <tbody>\n",
       "    <tr>\n",
       "      <th>171088</th>\n",
       "      <td>2016-03-08 18:42:48</td>\n",
       "      <td>1799</td>\n",
       "      <td>coupe</td>\n",
       "      <td>1999</td>\n",
       "      <td>auto</td>\n",
       "      <td>193</td>\n",
       "      <td>clk</td>\n",
       "      <td>20000</td>\n",
       "      <td>7</td>\n",
       "      <td>petrol</td>\n",
       "      <td>mercedes_benz</td>\n",
       "      <td>no</td>\n",
       "      <td>2016-03-08 00:00:00</td>\n",
       "      <td>0</td>\n",
       "      <td>89518</td>\n",
       "      <td>2016-03-09 09:46:57</td>\n",
       "    </tr>\n",
       "    <tr>\n",
       "      <th>231258</th>\n",
       "      <td>2016-03-28 00:56:10</td>\n",
       "      <td>1000</td>\n",
       "      <td>small</td>\n",
       "      <td>2002</td>\n",
       "      <td>manual</td>\n",
       "      <td>83</td>\n",
       "      <td>other</td>\n",
       "      <td>150000</td>\n",
       "      <td>1</td>\n",
       "      <td>petrol</td>\n",
       "      <td>suzuki</td>\n",
       "      <td>no</td>\n",
       "      <td>2016-03-28 00:00:00</td>\n",
       "      <td>0</td>\n",
       "      <td>66589</td>\n",
       "      <td>2016-03-28 08:46:21</td>\n",
       "    </tr>\n",
       "    <tr>\n",
       "      <th>258109</th>\n",
       "      <td>2016-04-03 09:01:15</td>\n",
       "      <td>4699</td>\n",
       "      <td>coupe</td>\n",
       "      <td>2003</td>\n",
       "      <td>auto</td>\n",
       "      <td>218</td>\n",
       "      <td>clk</td>\n",
       "      <td>125000</td>\n",
       "      <td>6</td>\n",
       "      <td>petrol</td>\n",
       "      <td>mercedes_benz</td>\n",
       "      <td>yes</td>\n",
       "      <td>2016-04-03 00:00:00</td>\n",
       "      <td>0</td>\n",
       "      <td>75196</td>\n",
       "      <td>2016-04-07 09:44:54</td>\n",
       "    </tr>\n",
       "    <tr>\n",
       "      <th>325651</th>\n",
       "      <td>2016-03-18 18:46:15</td>\n",
       "      <td>1999</td>\n",
       "      <td>wagon</td>\n",
       "      <td>2001</td>\n",
       "      <td>manual</td>\n",
       "      <td>131</td>\n",
       "      <td>passat</td>\n",
       "      <td>150000</td>\n",
       "      <td>7</td>\n",
       "      <td>gasoline</td>\n",
       "      <td>volkswagen</td>\n",
       "      <td>no</td>\n",
       "      <td>2016-03-18 00:00:00</td>\n",
       "      <td>0</td>\n",
       "      <td>36391</td>\n",
       "      <td>2016-03-18 18:46:15</td>\n",
       "    </tr>\n",
       "  </tbody>\n",
       "</table>\n",
       "</div>"
      ],
      "text/plain": [
       "                DateCrawled  Price VehicleType  RegistrationYear Gearbox  \\\n",
       "171088  2016-03-08 18:42:48   1799       coupe              1999    auto   \n",
       "231258  2016-03-28 00:56:10   1000       small              2002  manual   \n",
       "258109  2016-04-03 09:01:15   4699       coupe              2003    auto   \n",
       "325651  2016-03-18 18:46:15   1999       wagon              2001  manual   \n",
       "\n",
       "        Power   Model  Kilometer  RegistrationMonth  FuelType          Brand  \\\n",
       "171088    193     clk      20000                  7    petrol  mercedes_benz   \n",
       "231258     83   other     150000                  1    petrol         suzuki   \n",
       "258109    218     clk     125000                  6    petrol  mercedes_benz   \n",
       "325651    131  passat     150000                  7  gasoline     volkswagen   \n",
       "\n",
       "       Repaired          DateCreated  NumberOfPictures  PostalCode  \\\n",
       "171088       no  2016-03-08 00:00:00                 0       89518   \n",
       "231258       no  2016-03-28 00:00:00                 0       66589   \n",
       "258109      yes  2016-04-03 00:00:00                 0       75196   \n",
       "325651       no  2016-03-18 00:00:00                 0       36391   \n",
       "\n",
       "                   LastSeen  \n",
       "171088  2016-03-09 09:46:57  \n",
       "231258  2016-03-28 08:46:21  \n",
       "258109  2016-04-07 09:44:54  \n",
       "325651  2016-03-18 18:46:15  "
      ]
     },
     "execution_count": 8,
     "metadata": {},
     "output_type": "execute_result"
    }
   ],
   "source": [
    "# смотрим дубликаты\n",
    "data_avto[data_avto.duplicated()]"
   ]
  },
  {
   "cell_type": "code",
   "execution_count": 9,
   "id": "4d93af0c-3114-42a3-8c8b-d6b076244829",
   "metadata": {},
   "outputs": [
    {
     "data": {
      "text/html": [
       "<div>\n",
       "<style scoped>\n",
       "    .dataframe tbody tr th:only-of-type {\n",
       "        vertical-align: middle;\n",
       "    }\n",
       "\n",
       "    .dataframe tbody tr th {\n",
       "        vertical-align: top;\n",
       "    }\n",
       "\n",
       "    .dataframe thead th {\n",
       "        text-align: right;\n",
       "    }\n",
       "</style>\n",
       "<table border=\"1\" class=\"dataframe\">\n",
       "  <thead>\n",
       "    <tr style=\"text-align: right;\">\n",
       "      <th></th>\n",
       "      <th>DateCrawled</th>\n",
       "      <th>Price</th>\n",
       "      <th>VehicleType</th>\n",
       "      <th>RegistrationYear</th>\n",
       "      <th>Gearbox</th>\n",
       "      <th>Power</th>\n",
       "      <th>Model</th>\n",
       "      <th>Kilometer</th>\n",
       "      <th>RegistrationMonth</th>\n",
       "      <th>FuelType</th>\n",
       "      <th>Brand</th>\n",
       "      <th>Repaired</th>\n",
       "      <th>DateCreated</th>\n",
       "      <th>NumberOfPictures</th>\n",
       "      <th>PostalCode</th>\n",
       "      <th>LastSeen</th>\n",
       "    </tr>\n",
       "  </thead>\n",
       "  <tbody>\n",
       "    <tr>\n",
       "      <th>41529</th>\n",
       "      <td>2016-03-18 18:46:15</td>\n",
       "      <td>1999</td>\n",
       "      <td>wagon</td>\n",
       "      <td>2001</td>\n",
       "      <td>manual</td>\n",
       "      <td>131</td>\n",
       "      <td>passat</td>\n",
       "      <td>150000</td>\n",
       "      <td>7</td>\n",
       "      <td>gasoline</td>\n",
       "      <td>volkswagen</td>\n",
       "      <td>no</td>\n",
       "      <td>2016-03-18 00:00:00</td>\n",
       "      <td>0</td>\n",
       "      <td>36391</td>\n",
       "      <td>2016-03-18 18:46:15</td>\n",
       "    </tr>\n",
       "    <tr>\n",
       "      <th>88087</th>\n",
       "      <td>2016-03-08 18:42:48</td>\n",
       "      <td>1799</td>\n",
       "      <td>coupe</td>\n",
       "      <td>1999</td>\n",
       "      <td>auto</td>\n",
       "      <td>193</td>\n",
       "      <td>clk</td>\n",
       "      <td>20000</td>\n",
       "      <td>7</td>\n",
       "      <td>petrol</td>\n",
       "      <td>mercedes_benz</td>\n",
       "      <td>no</td>\n",
       "      <td>2016-03-08 00:00:00</td>\n",
       "      <td>0</td>\n",
       "      <td>89518</td>\n",
       "      <td>2016-03-09 09:46:57</td>\n",
       "    </tr>\n",
       "    <tr>\n",
       "      <th>90964</th>\n",
       "      <td>2016-03-28 00:56:10</td>\n",
       "      <td>1000</td>\n",
       "      <td>small</td>\n",
       "      <td>2002</td>\n",
       "      <td>manual</td>\n",
       "      <td>83</td>\n",
       "      <td>other</td>\n",
       "      <td>150000</td>\n",
       "      <td>1</td>\n",
       "      <td>petrol</td>\n",
       "      <td>suzuki</td>\n",
       "      <td>no</td>\n",
       "      <td>2016-03-28 00:00:00</td>\n",
       "      <td>0</td>\n",
       "      <td>66589</td>\n",
       "      <td>2016-03-28 08:46:21</td>\n",
       "    </tr>\n",
       "    <tr>\n",
       "      <th>187735</th>\n",
       "      <td>2016-04-03 09:01:15</td>\n",
       "      <td>4699</td>\n",
       "      <td>coupe</td>\n",
       "      <td>2003</td>\n",
       "      <td>auto</td>\n",
       "      <td>218</td>\n",
       "      <td>clk</td>\n",
       "      <td>125000</td>\n",
       "      <td>6</td>\n",
       "      <td>petrol</td>\n",
       "      <td>mercedes_benz</td>\n",
       "      <td>yes</td>\n",
       "      <td>2016-04-03 00:00:00</td>\n",
       "      <td>0</td>\n",
       "      <td>75196</td>\n",
       "      <td>2016-04-07 09:44:54</td>\n",
       "    </tr>\n",
       "  </tbody>\n",
       "</table>\n",
       "</div>"
      ],
      "text/plain": [
       "                DateCrawled  Price VehicleType  RegistrationYear Gearbox  \\\n",
       "41529   2016-03-18 18:46:15   1999       wagon              2001  manual   \n",
       "88087   2016-03-08 18:42:48   1799       coupe              1999    auto   \n",
       "90964   2016-03-28 00:56:10   1000       small              2002  manual   \n",
       "187735  2016-04-03 09:01:15   4699       coupe              2003    auto   \n",
       "\n",
       "        Power   Model  Kilometer  RegistrationMonth  FuelType          Brand  \\\n",
       "41529     131  passat     150000                  7  gasoline     volkswagen   \n",
       "88087     193     clk      20000                  7    petrol  mercedes_benz   \n",
       "90964      83   other     150000                  1    petrol         suzuki   \n",
       "187735    218     clk     125000                  6    petrol  mercedes_benz   \n",
       "\n",
       "       Repaired          DateCreated  NumberOfPictures  PostalCode  \\\n",
       "41529        no  2016-03-18 00:00:00                 0       36391   \n",
       "88087        no  2016-03-08 00:00:00                 0       89518   \n",
       "90964        no  2016-03-28 00:00:00                 0       66589   \n",
       "187735      yes  2016-04-03 00:00:00                 0       75196   \n",
       "\n",
       "                   LastSeen  \n",
       "41529   2016-03-18 18:46:15  \n",
       "88087   2016-03-09 09:46:57  \n",
       "90964   2016-03-28 08:46:21  \n",
       "187735  2016-04-07 09:44:54  "
      ]
     },
     "execution_count": 9,
     "metadata": {},
     "output_type": "execute_result"
    }
   ],
   "source": [
    "# полные копии, 4 строки, думаю, можно удалить\n",
    "data_avto[data_avto.duplicated (keep='last')]"
   ]
  },
  {
   "cell_type": "markdown",
   "id": "672d6075-d5aa-47a9-8ffd-23dfd0e0989a",
   "metadata": {},
   "source": [
    "#### Приведем названия столбцов в нижний регистр"
   ]
  },
  {
   "cell_type": "code",
   "execution_count": 10,
   "id": "465936ad-01f2-4378-af73-73a71b2bd998",
   "metadata": {},
   "outputs": [
    {
     "data": {
      "text/html": [
       "<pre style=\"white-space:pre;overflow-x:auto;line-height:normal;font-family:Menlo,'DejaVu Sans Mono',consolas,'Courier New',monospace\"><span style=\"color: #008080; text-decoration-color: #008080; font-weight: bold\">10</span> column names have been cleaned\n",
       "</pre>\n"
      ],
      "text/plain": [
       "\u001b[1;36m10\u001b[0m column names have been cleaned\n"
      ]
     },
     "metadata": {},
     "output_type": "display_data"
    },
    {
     "data": {
      "text/plain": [
       "['price',\n",
       " 'vehicle_type',\n",
       " 'registration_year',\n",
       " 'gearbox',\n",
       " 'power',\n",
       " 'model',\n",
       " 'kilometer',\n",
       " 'fuel_type',\n",
       " 'brand',\n",
       " 'repaired']"
      ]
     },
     "execution_count": 10,
     "metadata": {},
     "output_type": "execute_result"
    }
   ],
   "source": [
    "# переведем названия столбцов в snake стиль с помощью функции clean_columms из Skimpy\n",
    "df = clean_columns(df)\n",
    "df.columns.tolist()"
   ]
  },
  {
   "cell_type": "code",
   "execution_count": 11,
   "id": "70db987f-2ef2-49df-afeb-5f8f7b01f02f",
   "metadata": {},
   "outputs": [
    {
     "data": {
      "text/html": [
       "<div>\n",
       "<style scoped>\n",
       "    .dataframe tbody tr th:only-of-type {\n",
       "        vertical-align: middle;\n",
       "    }\n",
       "\n",
       "    .dataframe tbody tr th {\n",
       "        vertical-align: top;\n",
       "    }\n",
       "\n",
       "    .dataframe thead th {\n",
       "        text-align: right;\n",
       "    }\n",
       "</style>\n",
       "<table border=\"1\" class=\"dataframe\">\n",
       "  <thead>\n",
       "    <tr style=\"text-align: right;\">\n",
       "      <th></th>\n",
       "      <th>price</th>\n",
       "      <th>vehicle_type</th>\n",
       "      <th>registration_year</th>\n",
       "      <th>gearbox</th>\n",
       "      <th>power</th>\n",
       "      <th>model</th>\n",
       "      <th>kilometer</th>\n",
       "      <th>fuel_type</th>\n",
       "      <th>brand</th>\n",
       "      <th>repaired</th>\n",
       "    </tr>\n",
       "  </thead>\n",
       "  <tbody>\n",
       "    <tr>\n",
       "      <th>0</th>\n",
       "      <td>480</td>\n",
       "      <td>NaN</td>\n",
       "      <td>1993</td>\n",
       "      <td>manual</td>\n",
       "      <td>0</td>\n",
       "      <td>golf</td>\n",
       "      <td>150000</td>\n",
       "      <td>petrol</td>\n",
       "      <td>volkswagen</td>\n",
       "      <td>NaN</td>\n",
       "    </tr>\n",
       "    <tr>\n",
       "      <th>1</th>\n",
       "      <td>18300</td>\n",
       "      <td>coupe</td>\n",
       "      <td>2011</td>\n",
       "      <td>manual</td>\n",
       "      <td>190</td>\n",
       "      <td>NaN</td>\n",
       "      <td>125000</td>\n",
       "      <td>gasoline</td>\n",
       "      <td>audi</td>\n",
       "      <td>yes</td>\n",
       "    </tr>\n",
       "    <tr>\n",
       "      <th>2</th>\n",
       "      <td>9800</td>\n",
       "      <td>suv</td>\n",
       "      <td>2004</td>\n",
       "      <td>auto</td>\n",
       "      <td>163</td>\n",
       "      <td>grand</td>\n",
       "      <td>125000</td>\n",
       "      <td>gasoline</td>\n",
       "      <td>jeep</td>\n",
       "      <td>NaN</td>\n",
       "    </tr>\n",
       "    <tr>\n",
       "      <th>3</th>\n",
       "      <td>1500</td>\n",
       "      <td>small</td>\n",
       "      <td>2001</td>\n",
       "      <td>manual</td>\n",
       "      <td>75</td>\n",
       "      <td>golf</td>\n",
       "      <td>150000</td>\n",
       "      <td>petrol</td>\n",
       "      <td>volkswagen</td>\n",
       "      <td>no</td>\n",
       "    </tr>\n",
       "    <tr>\n",
       "      <th>4</th>\n",
       "      <td>3600</td>\n",
       "      <td>small</td>\n",
       "      <td>2008</td>\n",
       "      <td>manual</td>\n",
       "      <td>69</td>\n",
       "      <td>fabia</td>\n",
       "      <td>90000</td>\n",
       "      <td>gasoline</td>\n",
       "      <td>skoda</td>\n",
       "      <td>no</td>\n",
       "    </tr>\n",
       "  </tbody>\n",
       "</table>\n",
       "</div>"
      ],
      "text/plain": [
       "   price vehicle_type  registration_year gearbox  power  model  kilometer  \\\n",
       "0    480          NaN               1993  manual      0   golf     150000   \n",
       "1  18300        coupe               2011  manual    190    NaN     125000   \n",
       "2   9800          suv               2004    auto    163  grand     125000   \n",
       "3   1500        small               2001  manual     75   golf     150000   \n",
       "4   3600        small               2008  manual     69  fabia      90000   \n",
       "\n",
       "  fuel_type       brand repaired  \n",
       "0    petrol  volkswagen      NaN  \n",
       "1  gasoline        audi      yes  \n",
       "2  gasoline        jeep      NaN  \n",
       "3    petrol  volkswagen       no  \n",
       "4  gasoline       skoda       no  "
      ]
     },
     "execution_count": 11,
     "metadata": {},
     "output_type": "execute_result"
    }
   ],
   "source": [
    "# оценим результ\n",
    "df.head()"
   ]
  },
  {
   "cell_type": "markdown",
   "id": "42c0f6ec-b752-4cc9-b1ba-3b47938c7868",
   "metadata": {},
   "source": [
    "### 1.5 Обработаем числовые признаки"
   ]
  },
  {
   "cell_type": "code",
   "execution_count": 12,
   "id": "4030223f-8f5c-40f0-be02-29f2de4f7dc2",
   "metadata": {},
   "outputs": [
    {
     "data": {
      "image/png": "[encoded data removed]",
      "text/plain": [
       "<Figure size 1440x720 with 4 Axes>"
      ]
     },
     "metadata": {
      "needs_background": "light"
     },
     "output_type": "display_data"
    }
   ],
   "source": [
    "# отобразим числовые данные на графиках \n",
    "\n",
    "fig, axis = plt.subplots(2,2, figsize=(20,10))\n",
    "\n",
    "df['price'].plot.hist(ax=axis[0,0], edgecolor='black', linewidth=1, bins=100).set(ylabel='price');\n",
    "df['registration_year'].plot.hist(ax=axis[0,1], edgecolor='black', linewidth=1, bins=100).set(ylabel='registration_year');\n",
    "df['power'].plot.hist(ax=axis[1,0], edgecolor='black', linewidth=1, bins=100).set(ylabel='power');\n",
    "df['kilometer'].plot.hist(ax=axis[1,1], edgecolor='black', linewidth=1, bins=100).set(ylabel='kilometer');"
   ]
  },
  {
   "cell_type": "code",
   "execution_count": 13,
   "id": "de63966d-f3ae-4ba0-8b23-abf9fbe4c869",
   "metadata": {},
   "outputs": [
    {
     "data": {
      "image/png": "[encoded data removed]",
      "text/plain": [
       "<Figure size 1440x720 with 4 Axes>"
      ]
     },
     "metadata": {
      "needs_background": "light"
     },
     "output_type": "display_data"
    }
   ],
   "source": [
    "# построим боксплоты\n",
    "fig, axis = plt.subplots(2,2, figsize=(20,10))\n",
    "\n",
    "sns.boxplot(df['price'], ax=axis[0,0]);\n",
    "sns.boxplot(df['registration_year'], ax=axis[0,1]);\n",
    "sns.boxplot(df['power'], ax=axis[1,0]);\n",
    "sns.boxplot(df['kilometer'], ax=axis[1,1]);"
   ]
  },
  {
   "cell_type": "markdown",
   "id": "45d2848a-0396-45fc-84ff-58c135863927",
   "metadata": {},
   "source": [
    "#### Изучим столбец 'price'"
   ]
  },
  {
   "cell_type": "code",
   "execution_count": 14,
   "id": "9368d82c-d098-483d-90b5-af43659025bd",
   "metadata": {},
   "outputs": [
    {
     "data": {
      "text/plain": [
       "array([    0,     1,     2, ..., 19998, 19999, 20000], dtype=int64)"
      ]
     },
     "execution_count": 14,
     "metadata": {},
     "output_type": "execute_result"
    }
   ],
   "source": [
    "# найдем уникальные значения в столбце \"цена\"\n",
    "df['price'].sort_values().unique()"
   ]
  },
  {
   "cell_type": "code",
   "execution_count": 15,
   "id": "01a6aaac-0736-44cb-9bd5-7657ec87b754",
   "metadata": {},
   "outputs": [
    {
     "name": "stdout",
     "output_type": "stream",
     "text": [
      "Верхняя граница: 14425.0\n",
      "Нижняя граница: -6975.0\n"
     ]
    }
   ],
   "source": [
    "# посчитаем квантили и выведем верхнюю и нижнюю границы боксплота\n",
    "Q1 = df.price.quantile(0.25)\n",
    "Q3 = df.price.quantile(0.75)\n",
    "IQR = Q3 - Q1\n",
    "upper = Q3 + 1.5 * IQR\n",
    "lower = Q1 - 1.5 * IQR \n",
    "\n",
    "print('Верхняя граница:', upper)\n",
    "print('Нижняя граница:', lower)"
   ]
  },
  {
   "cell_type": "markdown",
   "id": "761a66f4-dba2-4709-a3fe-a64e94d186ec",
   "metadata": {},
   "source": [
    "* очевидно, что автомобиль не может стоить 0, 1, 2 ... евро\n",
    "* цены на б/у автомобили стартуют от 15 000 тысяч рублей, что соответствует 180 евро\n",
    "* верхнюю границу стоимости оставим 15000 евро"
   ]
  },
  {
   "cell_type": "code",
   "execution_count": 16,
   "id": "d02d9106-4cab-47f1-aa65-24712fb7b770",
   "metadata": {},
   "outputs": [],
   "source": [
    "# исходя из этого удалим строки с аномалиями по цене\n",
    "df = df.loc[(df['price'] >= 180) & (df['price'] <= 15000)]"
   ]
  },
  {
   "cell_type": "markdown",
   "id": "1b1b3822-79f5-49d1-a86c-8796e478ae56",
   "metadata": {},
   "source": [
    "#### Изучим столбец 'registration_year'"
   ]
  },
  {
   "cell_type": "code",
   "execution_count": 17,
   "id": "59f1ce61-f3a1-4741-8a4a-ee51ae9f0223",
   "metadata": {},
   "outputs": [
    {
     "data": {
      "text/plain": [
       "array([1000, 1001, 1039, 1111, 1234, 1300, 1400, 1500, 1600, 1602, 1800,\n",
       "       1910, 1923, 1925, 1928, 1929, 1930, 1931, 1932, 1934, 1935, 1936,\n",
       "       1937, 1938, 1940, 1941, 1942, 1943, 1944, 1945, 1946, 1948, 1949,\n",
       "       1950, 1951, 1952, 1953, 1954, 1955, 1956, 1957, 1958, 1959, 1960,\n",
       "       1961, 1962, 1963, 1964, 1965, 1966, 1967, 1968, 1969, 1970, 1971,\n",
       "       1972, 1973, 1974, 1975, 1976, 1977, 1978, 1979, 1980, 1981, 1982,\n",
       "       1983, 1984, 1985, 1986, 1987, 1988, 1989, 1990, 1991, 1992, 1993,\n",
       "       1994, 1995, 1996, 1997, 1998, 1999, 2000, 2001, 2002, 2003, 2004,\n",
       "       2005, 2006, 2007, 2008, 2009, 2010, 2011, 2012, 2013, 2014, 2015,\n",
       "       2016, 2017, 2018, 2019, 2066, 2200, 2290, 2500, 2800, 2900, 3000,\n",
       "       3200, 3700, 3800, 4000, 4100, 4500, 4800, 5000, 5300, 5555, 5900,\n",
       "       5911, 6000, 7000, 7100, 7800, 8200, 8500, 8888, 9000, 9450, 9999],\n",
       "      dtype=int64)"
      ]
     },
     "execution_count": 17,
     "metadata": {},
     "output_type": "execute_result"
    }
   ],
   "source": [
    "# найдем уникальные значения в столбце \"год регистрации\"\n",
    "df['registration_year'].sort_values().unique()"
   ]
  },
  {
   "cell_type": "code",
   "execution_count": 18,
   "id": "a057405c-f511-4b5f-b347-72ea54f4aa88",
   "metadata": {},
   "outputs": [
    {
     "name": "stdout",
     "output_type": "stream",
     "text": [
      "Верхняя граница: 2019.0\n",
      "Нижняя граница: 1987.0\n"
     ]
    }
   ],
   "source": [
    "# посчитаем квантили и выведем верхнюю и нижнюю границы боксплота\n",
    "Q1 = df.registration_year.quantile(0.25)\n",
    "Q3 = df.registration_year.quantile(0.75)\n",
    "IQR = Q3 - Q1\n",
    "upper = Q3 + 1.5 * IQR\n",
    "lower = Q1 - 1.5 * IQR \n",
    "\n",
    "print('Верхняя граница:', upper)\n",
    "print('Нижняя граница:', lower)"
   ]
  },
  {
   "cell_type": "code",
   "execution_count": 19,
   "id": "d2a6796e-709f-4118-89db-a6a44a2ae3bd",
   "metadata": {},
   "outputs": [
    {
     "data": {
      "text/plain": [
       "registration_year    5484\n",
       "dtype: int64"
      ]
     },
     "execution_count": 19,
     "metadata": {},
     "output_type": "execute_result"
    }
   ],
   "source": [
    "# оценим количество строк с годом регистрации автомобиля меньше 1987\n",
    "df[['registration_year']].query('1987 > registration_year').count()"
   ]
  },
  {
   "cell_type": "markdown",
   "id": "309c6eae-ff88-46ad-9907-c330039f24d6",
   "metadata": {},
   "source": [
    "* верхнюю границу границу года регистрации ограничим 2019, после этой даты идут аномалии, хотя текущий 2023 \n",
    "* если ставить нижней границей по году регистрации - 1987, то придется удалить очень много данных, что скажется на обучении модели\n",
    "* практически у всех современных автомобилей средний срок службы составляет примерно 12 лет, увеличим его в 5 раз до 60 лет\n",
    "* тогда нижней границей по году регистрации поставим 1959 год\n",
    "* так мы избавимся от аномалий и сохраним данные"
   ]
  },
  {
   "cell_type": "code",
   "execution_count": 20,
   "id": "6b42959a-3c84-4b4d-ac95-323b8233b936",
   "metadata": {},
   "outputs": [],
   "source": [
    "# удалим строки с аномалиями по годам: меньше 1959 и больше 2019\n",
    "df = df.loc[(df['registration_year'] <= 2019) & (df['registration_year'] >= 1959)]"
   ]
  },
  {
   "cell_type": "code",
   "execution_count": 21,
   "id": "a7c0fc62-5127-4f8d-9fa7-668785234991",
   "metadata": {},
   "outputs": [
    {
     "data": {
      "text/plain": [
       "DateCreated         2016-04-07 00:00:00\n",
       "DateCrawled         2016-04-07 14:36:58\n",
       "RegistrationYear                   9999\n",
       "dtype: object"
      ]
     },
     "execution_count": 21,
     "metadata": {},
     "output_type": "execute_result"
    }
   ],
   "source": [
    "# самый поздний год создания анкеты в базе и скачавания базы - 2016  \n",
    "data_avto[['DateCreated','DateCrawled','RegistrationYear']].max()"
   ]
  },
  {
   "cell_type": "code",
   "execution_count": 22,
   "id": "83eb6788-ea2b-4f2d-ada7-cb520ab0dbaa",
   "metadata": {},
   "outputs": [],
   "source": [
    "# тогда можно удалить строки с датой регистрации авто старше 2016\n",
    "df = df.loc[(df['registration_year'] <= 2016)]"
   ]
  },
  {
   "cell_type": "markdown",
   "id": "ee2ba0e6-1c3d-47cc-a050-1e17fdcb0493",
   "metadata": {},
   "source": [
    "#### Изучим столбец 'power'"
   ]
  },
  {
   "cell_type": "code",
   "execution_count": 23,
   "id": "6b8ce087-5080-414c-9238-9a541d14a241",
   "metadata": {
    "tags": []
   },
   "outputs": [
    {
     "data": {
      "text/plain": [
       "array([    0,     1,     2,     3,     4,     5,     6,     7,     8,\n",
       "           9,    10,    11,    12,    13,    14,    15,    16,    17,\n",
       "          18,    19,    20,    21,    22,    23,    24,    25,    26,\n",
       "          27,    28,    29,    30,    31,    33,    34,    35,    36,\n",
       "          37,    38,    39,    40,    41,    42,    43,    44,    45,\n",
       "          46,    47,    48,    49,    50,    51,    52,    53,    54,\n",
       "          55,    56,    57,    58,    59,    60,    61,    62,    63,\n",
       "          64,    65,    66,    67,    68,    69,    70,    71,    72,\n",
       "          73,    74,    75,    76,    77,    78,    79,    80,    81,\n",
       "          82,    83,    84,    85,    86,    87,    88,    89,    90,\n",
       "          91,    92,    93,    94,    95,    96,    97,    98,    99,\n",
       "         100,   101,   102,   103,   104,   105,   106,   107,   108,\n",
       "         109,   110,   111,   112,   113,   114,   115,   116,   117,\n",
       "         118,   119,   120,   121,   122,   123,   124,   125,   126,\n",
       "         127,   128,   129,   130,   131,   132,   133,   134,   135,\n",
       "         136,   137,   138,   139,   140,   141,   142,   143,   144,\n",
       "         145,   146,   147,   148,   149,   150,   151,   152,   153,\n",
       "         154,   155,   156,   157,   158,   159,   160,   161,   162,\n",
       "         163,   164,   165,   166,   167,   168,   169,   170,   171,\n",
       "         172,   173,   174,   175,   176,   177,   178,   179,   180,\n",
       "         181,   182,   183,   184,   185,   186,   187,   188,   189,\n",
       "         190,   191,   192,   193,   194,   195,   196,   197,   198,\n",
       "         199,   200,   201,   202,   203,   204,   205,   206,   207,\n",
       "         208,   209,   210,   211,   212,   213,   214,   215,   216,\n",
       "         217,   218,   219,   220,   221,   222,   223,   224,   225,\n",
       "         226,   227,   228,   229,   230,   231,   232,   233,   234,\n",
       "         235,   236,   237,   238,   239,   240,   241,   242,   243,\n",
       "         244,   245,   246,   247,   248,   249,   250,   251,   252,\n",
       "         253,   254,   255,   256,   257,   258,   259,   260,   261,\n",
       "         262,   264,   265,   266,   267,   268,   269,   270,   271,\n",
       "         272,   273,   274,   275,   276,   277,   278,   279,   280,\n",
       "         281,   282,   283,   284,   285,   286,   287,   288,   289,\n",
       "         290,   292,   293,   294,   295,   296,   297,   298,   299,\n",
       "         300,   301,   303,   304,   305,   306,   308,   309,   310,\n",
       "         311,   313,   314,   315,   316,   318,   320,   321,   322,\n",
       "         323,   324,   325,   326,   328,   329,   330,   331,   333,\n",
       "         334,   335,   336,   338,   339,   340,   341,   343,   344,\n",
       "         345,   346,   347,   348,   349,   350,   351,   353,   354,\n",
       "         355,   356,   357,   358,   360,   361,   362,   363,   364,\n",
       "         365,   367,   368,   370,   371,   374,   375,   376,   379,\n",
       "         380,   381,   382,   385,   386,   387,   388,   390,   392,\n",
       "         394,   396,   398,   399,   400,   401,   405,   408,   411,\n",
       "         420,   430,   431,   435,   440,   442,   445,   449,   450,\n",
       "         454,   459,   475,   476,   500,   504,   505,   507,   510,\n",
       "         514,   515,   520,   521,   540,   541,   544,   550,   551,\n",
       "         572,   579,   580,   584,   585,   600,   601,   602,   603,\n",
       "         604,   606,   610,   612,   620,   645,   650,   651,   671,\n",
       "         678,   682,   685,   696,   700,   702,   703,   732,   743,\n",
       "         750,   751,   754,   771,   776,   800,   805,   850,   851,\n",
       "         871,   900,   902,   903,   907,   909,   923,   950,   952,\n",
       "         953,   998,   999,  1000,  1001,  1002,  1003,  1004,  1005,\n",
       "        1011,  1012,  1016,  1017,  1021,  1024,  1054,  1055,  1056,\n",
       "        1062,  1079,  1082,  1090,  1100,  1103,  1105,  1115,  1120,\n",
       "        1149,  1151,  1158,  1160,  1162,  1164,  1199,  1200,  1202,\n",
       "        1221,  1223,  1230,  1239,  1240,  1241,  1250,  1256,  1275,\n",
       "        1299,  1300,  1312,  1317,  1324,  1339,  1360,  1362,  1363,\n",
       "        1367,  1390,  1398,  1399,  1400,  1401,  1403,  1405,  1416,\n",
       "        1432,  1433,  1436,  1500,  1501,  1502,  1503,  1506,  1521,\n",
       "        1548,  1595,  1596,  1597,  1598,  1600,  1625,  1631,  1653,\n",
       "        1659,  1689,  1700,  1701,  1703,  1704,  1707,  1753,  1771,\n",
       "        1779,  1780,  1781,  1783,  1793,  1796,  1799,  1800,  1801,\n",
       "        1870,  1895,  1896,  1900,  1920,  1922,  1933,  1937,  1968,\n",
       "        1988,  1992,  1993,  1995,  1998,  1999,  2000,  2004,  2005,\n",
       "        2007,  2009,  2016,  2017,  2018,  2172,  2331,  2340,  2389,\n",
       "        2402,  2461,  2598,  2729,  2789,  2792,  2799,  3199,  3454,\n",
       "        3500,  4400,  4507,  4700,  5411,  5420,  5575,  5809,  5867,\n",
       "        6006,  6010,  6011,  6012,  6018,  6045,  6062,  6226,  6512,\n",
       "        6920,  7508,  7511,  7512,  7515,  7518,  7529,  7544,  8259,\n",
       "        8404,  8500,  9007,  9012,  9013, 10000, 10110, 10311, 10520,\n",
       "       10522, 10710, 10910, 10912, 11011, 11025, 11509, 11530, 11635,\n",
       "       12012, 12510, 12512, 12684, 13616, 14009, 15001, 15017, 15020,\n",
       "       15033, 16051, 16311, 16312, 17011, 17019, 17410, 17700, 17932,\n",
       "       19208, 19211, 19312, 20000], dtype=int64)"
      ]
     },
     "execution_count": 23,
     "metadata": {},
     "output_type": "execute_result"
    }
   ],
   "source": [
    "# найдем уникальные значения в столбце \"мощность\"\n",
    "df['power'].sort_values().unique()"
   ]
  },
  {
   "cell_type": "code",
   "execution_count": 24,
   "id": "6a95704a-0b80-4aee-9bea-87fd38ad23ad",
   "metadata": {},
   "outputs": [
    {
     "name": "stdout",
     "output_type": "stream",
     "text": [
      "Верхняя граница: 245.0\n",
      "Нижняя граница: -35.0\n"
     ]
    }
   ],
   "source": [
    "# посчитаем квантили и выведем верхнюю и нижнюю границы боксплота\n",
    "Q1 = df.power.quantile(0.25)\n",
    "Q3 = df.power.quantile(0.75)\n",
    "IQR = Q3 - Q1\n",
    "upper = Q3 + 1.5 * IQR\n",
    "lower = Q1 - 1.5 * IQR \n",
    "\n",
    "print('Верхняя граница:', upper)\n",
    "print('Нижняя граница:', lower)"
   ]
  },
  {
   "cell_type": "markdown",
   "id": "f894bcff-5c1f-47de-88e8-13b8840e46aa",
   "metadata": {},
   "source": [
    "* обработку этого столбца проведем на основе данных из интернета и здравого смысла\n",
    "* Lamborghini Carbonado GT Mansory самый мощный из серийных легковых автомобилей - 1600 л.с.\n",
    "* Запорожец ЗАЗ 968 - 42 л.с."
   ]
  },
  {
   "cell_type": "code",
   "execution_count": 25,
   "id": "542a72f2-1c00-4793-a0d9-f59e90e953e7",
   "metadata": {},
   "outputs": [],
   "source": [
    "# исходя из этого удалим строки с аномалиями по мощности \n",
    "df = df.loc[(df['power'] <= 1600) & (df['power'] >= 42)]"
   ]
  },
  {
   "cell_type": "markdown",
   "id": "fa192f5c-b650-4579-ac08-849fb11e74e8",
   "metadata": {
    "tags": []
   },
   "source": [
    "#### Изучим столбец 'kilometer'"
   ]
  },
  {
   "cell_type": "markdown",
   "id": "d1109437-8f9f-474b-8ba7-7e540c30025f",
   "metadata": {},
   "source": [
    "* обработку столбца \"kilometer\" пока отложим, т.к. в реальности пробег может быть от нуля до бесконечности"
   ]
  },
  {
   "cell_type": "code",
   "execution_count": 26,
   "id": "28b8cfbb-5625-4cc0-8595-5a699632beaf",
   "metadata": {},
   "outputs": [
    {
     "data": {
      "text/html": [
       "<div>\n",
       "<style scoped>\n",
       "    .dataframe tbody tr th:only-of-type {\n",
       "        vertical-align: middle;\n",
       "    }\n",
       "\n",
       "    .dataframe tbody tr th {\n",
       "        vertical-align: top;\n",
       "    }\n",
       "\n",
       "    .dataframe thead th {\n",
       "        text-align: right;\n",
       "    }\n",
       "</style>\n",
       "<table border=\"1\" class=\"dataframe\">\n",
       "  <thead>\n",
       "    <tr style=\"text-align: right;\">\n",
       "      <th></th>\n",
       "      <th>price</th>\n",
       "      <th>vehicle_type</th>\n",
       "      <th>registration_year</th>\n",
       "      <th>gearbox</th>\n",
       "      <th>power</th>\n",
       "      <th>model</th>\n",
       "      <th>kilometer</th>\n",
       "      <th>fuel_type</th>\n",
       "      <th>brand</th>\n",
       "      <th>repaired</th>\n",
       "    </tr>\n",
       "  </thead>\n",
       "  <tbody>\n",
       "    <tr>\n",
       "      <th>2</th>\n",
       "      <td>9800</td>\n",
       "      <td>suv</td>\n",
       "      <td>2004</td>\n",
       "      <td>auto</td>\n",
       "      <td>163</td>\n",
       "      <td>grand</td>\n",
       "      <td>125000</td>\n",
       "      <td>gasoline</td>\n",
       "      <td>jeep</td>\n",
       "      <td>NaN</td>\n",
       "    </tr>\n",
       "    <tr>\n",
       "      <th>3</th>\n",
       "      <td>1500</td>\n",
       "      <td>small</td>\n",
       "      <td>2001</td>\n",
       "      <td>manual</td>\n",
       "      <td>75</td>\n",
       "      <td>golf</td>\n",
       "      <td>150000</td>\n",
       "      <td>petrol</td>\n",
       "      <td>volkswagen</td>\n",
       "      <td>no</td>\n",
       "    </tr>\n",
       "    <tr>\n",
       "      <th>4</th>\n",
       "      <td>3600</td>\n",
       "      <td>small</td>\n",
       "      <td>2008</td>\n",
       "      <td>manual</td>\n",
       "      <td>69</td>\n",
       "      <td>fabia</td>\n",
       "      <td>90000</td>\n",
       "      <td>gasoline</td>\n",
       "      <td>skoda</td>\n",
       "      <td>no</td>\n",
       "    </tr>\n",
       "    <tr>\n",
       "      <th>5</th>\n",
       "      <td>650</td>\n",
       "      <td>sedan</td>\n",
       "      <td>1995</td>\n",
       "      <td>manual</td>\n",
       "      <td>102</td>\n",
       "      <td>3er</td>\n",
       "      <td>150000</td>\n",
       "      <td>petrol</td>\n",
       "      <td>bmw</td>\n",
       "      <td>yes</td>\n",
       "    </tr>\n",
       "    <tr>\n",
       "      <th>6</th>\n",
       "      <td>2200</td>\n",
       "      <td>convertible</td>\n",
       "      <td>2004</td>\n",
       "      <td>manual</td>\n",
       "      <td>109</td>\n",
       "      <td>2_reihe</td>\n",
       "      <td>150000</td>\n",
       "      <td>petrol</td>\n",
       "      <td>peugeot</td>\n",
       "      <td>no</td>\n",
       "    </tr>\n",
       "  </tbody>\n",
       "</table>\n",
       "</div>"
      ],
      "text/plain": [
       "   price vehicle_type  registration_year gearbox  power    model  kilometer  \\\n",
       "2   9800          suv               2004    auto    163    grand     125000   \n",
       "3   1500        small               2001  manual     75     golf     150000   \n",
       "4   3600        small               2008  manual     69    fabia      90000   \n",
       "5    650        sedan               1995  manual    102      3er     150000   \n",
       "6   2200  convertible               2004  manual    109  2_reihe     150000   \n",
       "\n",
       "  fuel_type       brand repaired  \n",
       "2  gasoline        jeep      NaN  \n",
       "3    petrol  volkswagen       no  \n",
       "4  gasoline       skoda       no  \n",
       "5    petrol         bmw      yes  \n",
       "6    petrol     peugeot       no  "
      ]
     },
     "execution_count": 26,
     "metadata": {},
     "output_type": "execute_result"
    }
   ],
   "source": [
    "df.head()"
   ]
  },
  {
   "cell_type": "code",
   "execution_count": 27,
   "id": "90a9f2da-1d75-48cd-9f58-895dc7baa2e8",
   "metadata": {},
   "outputs": [
    {
     "data": {
      "text/plain": [
       "(277135, 10)"
      ]
     },
     "execution_count": 27,
     "metadata": {},
     "output_type": "execute_result"
    }
   ],
   "source": [
    "df.shape"
   ]
  },
  {
   "cell_type": "code",
   "execution_count": 28,
   "id": "f556a1c1-e0b3-45d4-acaf-9e761c87afbb",
   "metadata": {},
   "outputs": [
    {
     "name": "stdout",
     "output_type": "stream",
     "text": [
      "Исходные данные: 354369\n",
      "Очищенные данные: 277135\n",
      "Удалили 21.79% от исходных данных\n"
     ]
    }
   ],
   "source": [
    "print('Исходные данные:' , len(data_avto))\n",
    "print('Очищенные данные:', len(df))\n",
    "print(f'Удалили {((len(data_avto) - len(df))/(len(data_avto))):.2%} от исходных данных')"
   ]
  },
  {
   "cell_type": "markdown",
   "id": "568277d0-9d35-4621-b651-cc5b3950b522",
   "metadata": {
    "tags": []
   },
   "source": [
    "#### Выводы"
   ]
  },
  {
   "cell_type": "markdown",
   "id": "a5a405ec-cd80-49c2-b87d-8783432dca23",
   "metadata": {},
   "source": [
    "1. Числовые данные очищены от выбросов и аномалий\n",
    "2. Удалили 21.79% объектов от исходных данных, что конечно же много, значит оставшиеся данные нужно сохранить."
   ]
  },
  {
   "cell_type": "markdown",
   "id": "9b048429-6916-4915-9235-04cb899f738a",
   "metadata": {},
   "source": [
    "### 1.6 Оценим количество пропусков в процентном отношении"
   ]
  },
  {
   "cell_type": "code",
   "execution_count": 29,
   "id": "8505b454-36f6-4471-ab5f-bcaa2eec8b15",
   "metadata": {},
   "outputs": [],
   "source": [
    "# пропуски в процентах\n",
    "def lost(data):\n",
    "    if data.isna().sum().sum()>0:\n",
    "        display(\n",
    "            (round(data.isna().mean()*100,3))\n",
    "            .to_frame()\n",
    "            .rename(columns = {0:'Пропуски'})\n",
    "            .query('Пропуски > 0')\n",
    "            .sort_values(by = 'Пропуски', ascending = False)\n",
    "            .style.background_gradient('coolwarm')\n",
    "        )\n",
    "    else:\n",
    "        print('Пропусков нет')"
   ]
  },
  {
   "cell_type": "code",
   "execution_count": 30,
   "id": "dd74b54d-54ab-4702-a6ee-d095e10b64ae",
   "metadata": {},
   "outputs": [
    {
     "data": {
      "text/html": [
       "<style type=\"text/css\">\n",
       "#T_92379_row0_col0 {\n",
       "  background-color: #b40426;\n",
       "  color: #f1f1f1;\n",
       "}\n",
       "#T_92379_row1_col0 {\n",
       "  background-color: #94b6ff;\n",
       "  color: #000000;\n",
       "}\n",
       "#T_92379_row2_col0, #T_92379_row3_col0 {\n",
       "  background-color: #6a8bef;\n",
       "  color: #f1f1f1;\n",
       "}\n",
       "#T_92379_row4_col0 {\n",
       "  background-color: #3b4cc0;\n",
       "  color: #f1f1f1;\n",
       "}\n",
       "</style>\n",
       "<table id=\"T_92379\">\n",
       "  <thead>\n",
       "    <tr>\n",
       "      <th class=\"blank level0\" >&nbsp;</th>\n",
       "      <th id=\"T_92379_level0_col0\" class=\"col_heading level0 col0\" >Пропуски</th>\n",
       "    </tr>\n",
       "  </thead>\n",
       "  <tbody>\n",
       "    <tr>\n",
       "      <th id=\"T_92379_level0_row0\" class=\"row_heading level0 row0\" >repaired</th>\n",
       "      <td id=\"T_92379_row0_col0\" class=\"data row0 col0\" >14.627000</td>\n",
       "    </tr>\n",
       "    <tr>\n",
       "      <th id=\"T_92379_level0_row1\" class=\"row_heading level0 row1\" >fuel_type</th>\n",
       "      <td id=\"T_92379_row1_col0\" class=\"data row1 col0\" >5.233000</td>\n",
       "    </tr>\n",
       "    <tr>\n",
       "      <th id=\"T_92379_level0_row2\" class=\"row_heading level0 row2\" >model</th>\n",
       "      <td id=\"T_92379_row2_col0\" class=\"data row2 col0\" >3.678000</td>\n",
       "    </tr>\n",
       "    <tr>\n",
       "      <th id=\"T_92379_level0_row3\" class=\"row_heading level0 row3\" >vehicle_type</th>\n",
       "      <td id=\"T_92379_row3_col0\" class=\"data row3 col0\" >3.676000</td>\n",
       "    </tr>\n",
       "    <tr>\n",
       "      <th id=\"T_92379_level0_row4\" class=\"row_heading level0 row4\" >gearbox</th>\n",
       "      <td id=\"T_92379_row4_col0\" class=\"data row4 col0\" >1.761000</td>\n",
       "    </tr>\n",
       "  </tbody>\n",
       "</table>\n"
      ],
      "text/plain": [
       "<pandas.io.formats.style.Styler at 0x29285ec6040>"
      ]
     },
     "metadata": {},
     "output_type": "display_data"
    }
   ],
   "source": [
    "lost(df)"
   ]
  },
  {
   "cell_type": "markdown",
   "id": "0769fba6-cc4c-4adf-a8d1-5a8da96df9f4",
   "metadata": {},
   "source": [
    "* пропуски остались в категориальных признаках\n",
    "* их достаточно много, чтобы просто удалить\n",
    "* будем заполнять наиболее частым значением в категории или заглушкой \"unknown\"\n",
    "* пропусков нет в столбце 'brand' его и возьмем за основу"
   ]
  },
  {
   "cell_type": "markdown",
   "id": "f6c7c579-3835-4afc-89f4-f624880105ff",
   "metadata": {},
   "source": [
    "### 1.7 Обработаем категориальные признаки"
   ]
  },
  {
   "cell_type": "markdown",
   "id": "a2ebfa09-d1ab-4f1c-9ab5-2cd7d73bba2d",
   "metadata": {},
   "source": [
    "#### Изучим столбец 'brand'"
   ]
  },
  {
   "cell_type": "code",
   "execution_count": 31,
   "id": "bf82309c-e3c0-4b23-978a-68b66f2f843e",
   "metadata": {},
   "outputs": [
    {
     "data": {
      "text/plain": [
       "array(['alfa_romeo', 'audi', 'bmw', 'chevrolet', 'chrysler', 'citroen',\n",
       "       'dacia', 'daewoo', 'daihatsu', 'fiat', 'ford', 'honda', 'hyundai',\n",
       "       'jaguar', 'jeep', 'kia', 'lada', 'lancia', 'land_rover', 'mazda',\n",
       "       'mercedes_benz', 'mini', 'mitsubishi', 'nissan', 'opel', 'peugeot',\n",
       "       'porsche', 'renault', 'rover', 'saab', 'seat', 'skoda', 'smart',\n",
       "       'sonstige_autos', 'subaru', 'suzuki', 'toyota', 'trabant',\n",
       "       'volkswagen', 'volvo'], dtype=object)"
      ]
     },
     "execution_count": 31,
     "metadata": {},
     "output_type": "execute_result"
    }
   ],
   "source": [
    "# уникальные значения столбца 'brand'\n",
    "df['brand'].sort_values().unique()"
   ]
  },
  {
   "cell_type": "code",
   "execution_count": 32,
   "id": "3a33897b-0581-4683-886d-00f21ce20a19",
   "metadata": {},
   "outputs": [
    {
     "data": {
      "text/plain": [
       "volkswagen        60220\n",
       "opel              31359\n",
       "bmw               29508\n",
       "mercedes_benz     24961\n",
       "audi              23139\n",
       "ford              19636\n",
       "renault           13465\n",
       "peugeot            9192\n",
       "fiat               7198\n",
       "seat               5584\n",
       "skoda              4653\n",
       "mazda              4569\n",
       "citroen            4086\n",
       "smart              4002\n",
       "toyota             3892\n",
       "nissan             3762\n",
       "hyundai            2940\n",
       "volvo              2663\n",
       "mini               2553\n",
       "mitsubishi         2402\n",
       "honda              2321\n",
       "kia                1950\n",
       "alfa_romeo         1910\n",
       "suzuki             1881\n",
       "chevrolet          1379\n",
       "sonstige_autos     1358\n",
       "chrysler           1120\n",
       "dacia               790\n",
       "subaru              598\n",
       "daihatsu            582\n",
       "jeep                512\n",
       "saab                461\n",
       "porsche             430\n",
       "daewoo              399\n",
       "land_rover          385\n",
       "jaguar              384\n",
       "lancia              370\n",
       "rover               356\n",
       "lada                157\n",
       "trabant               8\n",
       "Name: brand, dtype: int64"
      ]
     },
     "execution_count": 32,
     "metadata": {},
     "output_type": "execute_result"
    }
   ],
   "source": [
    "# количество по моделям\n",
    "df['brand'].value_counts()"
   ]
  },
  {
   "cell_type": "markdown",
   "id": "84c6fcad-00f8-4dd3-b075-64ae570a9181",
   "metadata": {},
   "source": [
    "#### Изучим столбец 'model'"
   ]
  },
  {
   "cell_type": "code",
   "execution_count": 33,
   "id": "18af5aaf-d5a4-4709-9a39-f1e732e8e5d6",
   "metadata": {},
   "outputs": [
    {
     "data": {
      "text/plain": [
       "array(['100', '145', '147', '156', '159', '1_reihe', '1er', '200',\n",
       "       '2_reihe', '300c', '3_reihe', '3er', '4_reihe', '500', '5_reihe',\n",
       "       '5er', '601', '6_reihe', '6er', '7er', '80', '850', '90', '900',\n",
       "       '9000', '911', 'a1', 'a2', 'a3', 'a4', 'a5', 'a6', 'a8',\n",
       "       'a_klasse', 'accord', 'agila', 'alhambra', 'almera', 'altea',\n",
       "       'amarok', 'antara', 'arosa', 'astra', 'auris', 'avensis', 'aveo',\n",
       "       'aygo', 'b_klasse', 'b_max', 'beetle', 'berlingo', 'bora',\n",
       "       'boxster', 'bravo', 'c1', 'c2', 'c3', 'c4', 'c5', 'c_klasse',\n",
       "       'c_max', 'c_reihe', 'caddy', 'calibra', 'captiva', 'carisma',\n",
       "       'carnival', 'cayenne', 'cc', 'ceed', 'charade', 'cherokee',\n",
       "       'citigo', 'civic', 'cl', 'clio', 'clk', 'clubman', 'colt', 'combo',\n",
       "       'cooper', 'cordoba', 'corolla', 'corsa', 'cr_reihe', 'croma',\n",
       "       'crossfire', 'cuore', 'cx_reihe', 'defender', 'delta', 'discovery',\n",
       "       'doblo', 'ducato', 'duster', 'e_klasse', 'elefantino', 'eos',\n",
       "       'escort', 'espace', 'exeo', 'fabia', 'fiesta', 'focus', 'forester',\n",
       "       'forfour', 'fortwo', 'fox', 'freelander', 'fusion', 'g_klasse',\n",
       "       'galant', 'galaxy', 'getz', 'gl', 'glk', 'golf', 'grand', 'i3',\n",
       "       'i_reihe', 'ibiza', 'impreza', 'insignia', 'jazz', 'jetta',\n",
       "       'jimny', 'juke', 'justy', 'ka', 'kadett', 'kaefer', 'kalina',\n",
       "       'kalos', 'kangoo', 'kappa', 'kuga', 'laguna', 'lancer', 'lanos',\n",
       "       'legacy', 'leon', 'lodgy', 'logan', 'lupo', 'lybra', 'm_klasse',\n",
       "       'm_reihe', 'materia', 'matiz', 'megane', 'meriva', 'micra', 'mii',\n",
       "       'modus', 'mondeo', 'move', 'musa', 'mustang', 'mx_reihe', 'navara',\n",
       "       'niva', 'note', 'nubira', 'octavia', 'omega', 'one', 'other',\n",
       "       'outlander', 'pajero', 'panda', 'passat', 'phaeton', 'picanto',\n",
       "       'polo', 'primera', 'ptcruiser', 'punto', 'q3', 'q5', 'q7',\n",
       "       'qashqai', 'r19', 'range_rover', 'range_rover_evoque',\n",
       "       'range_rover_sport', 'rangerover', 'rav', 'rio', 'roadster',\n",
       "       'roomster', 'rx_reihe', 's60', 's_klasse', 's_max', 's_type',\n",
       "       'samara', 'sandero', 'santa', 'scenic', 'scirocco', 'seicento',\n",
       "       'serie_2', 'serie_3', 'sharan', 'signum', 'sirion', 'sl', 'slk',\n",
       "       'sorento', 'spark', 'spider', 'sportage', 'sprinter', 'stilo',\n",
       "       'superb', 'swift', 'terios', 'tigra', 'tiguan', 'toledo',\n",
       "       'touareg', 'touran', 'transit', 'transporter', 'tt', 'tucson',\n",
       "       'twingo', 'up', 'v40', 'v50', 'v60', 'v70', 'v_klasse', 'vectra',\n",
       "       'verso', 'viano', 'vito', 'vivaro', 'voyager', 'wrangler',\n",
       "       'x_reihe', 'x_trail', 'x_type', 'xc_reihe', 'yaris', 'yeti',\n",
       "       'ypsilon', 'z_reihe', 'zafira', nan], dtype=object)"
      ]
     },
     "execution_count": 33,
     "metadata": {},
     "output_type": "execute_result"
    }
   ],
   "source": [
    "# изучим уникальные значения в столбце\n",
    "df['model'].sort_values().unique()"
   ]
  },
  {
   "cell_type": "code",
   "execution_count": 34,
   "id": "9783a676-994f-463a-8bf0-0ed3015b5da3",
   "metadata": {},
   "outputs": [
    {
     "data": {
      "text/html": [
       "<div>\n",
       "<style scoped>\n",
       "    .dataframe tbody tr th:only-of-type {\n",
       "        vertical-align: middle;\n",
       "    }\n",
       "\n",
       "    .dataframe tbody tr th {\n",
       "        vertical-align: top;\n",
       "    }\n",
       "\n",
       "    .dataframe thead th {\n",
       "        text-align: right;\n",
       "    }\n",
       "</style>\n",
       "<table border=\"1\" class=\"dataframe\">\n",
       "  <thead>\n",
       "    <tr style=\"text-align: right;\">\n",
       "      <th></th>\n",
       "      <th>price</th>\n",
       "      <th>vehicle_type</th>\n",
       "      <th>registration_year</th>\n",
       "      <th>gearbox</th>\n",
       "      <th>power</th>\n",
       "      <th>model</th>\n",
       "      <th>kilometer</th>\n",
       "      <th>fuel_type</th>\n",
       "      <th>brand</th>\n",
       "      <th>repaired</th>\n",
       "    </tr>\n",
       "  </thead>\n",
       "  <tbody>\n",
       "    <tr>\n",
       "      <th>5615</th>\n",
       "      <td>14900</td>\n",
       "      <td>suv</td>\n",
       "      <td>1993</td>\n",
       "      <td>auto</td>\n",
       "      <td>182</td>\n",
       "      <td>range_rover</td>\n",
       "      <td>150000</td>\n",
       "      <td>petrol</td>\n",
       "      <td>land_rover</td>\n",
       "      <td>no</td>\n",
       "    </tr>\n",
       "    <tr>\n",
       "      <th>22356</th>\n",
       "      <td>2800</td>\n",
       "      <td>suv</td>\n",
       "      <td>1996</td>\n",
       "      <td>auto</td>\n",
       "      <td>224</td>\n",
       "      <td>range_rover</td>\n",
       "      <td>150000</td>\n",
       "      <td>NaN</td>\n",
       "      <td>land_rover</td>\n",
       "      <td>no</td>\n",
       "    </tr>\n",
       "    <tr>\n",
       "      <th>26526</th>\n",
       "      <td>5600</td>\n",
       "      <td>suv</td>\n",
       "      <td>1982</td>\n",
       "      <td>manual</td>\n",
       "      <td>125</td>\n",
       "      <td>range_rover</td>\n",
       "      <td>5000</td>\n",
       "      <td>petrol</td>\n",
       "      <td>land_rover</td>\n",
       "      <td>NaN</td>\n",
       "    </tr>\n",
       "    <tr>\n",
       "      <th>32216</th>\n",
       "      <td>14950</td>\n",
       "      <td>suv</td>\n",
       "      <td>1994</td>\n",
       "      <td>auto</td>\n",
       "      <td>182</td>\n",
       "      <td>range_rover</td>\n",
       "      <td>150000</td>\n",
       "      <td>petrol</td>\n",
       "      <td>land_rover</td>\n",
       "      <td>no</td>\n",
       "    </tr>\n",
       "    <tr>\n",
       "      <th>42698</th>\n",
       "      <td>6800</td>\n",
       "      <td>suv</td>\n",
       "      <td>2004</td>\n",
       "      <td>auto</td>\n",
       "      <td>177</td>\n",
       "      <td>range_rover</td>\n",
       "      <td>150000</td>\n",
       "      <td>gasoline</td>\n",
       "      <td>land_rover</td>\n",
       "      <td>NaN</td>\n",
       "    </tr>\n",
       "    <tr>\n",
       "      <th>...</th>\n",
       "      <td>...</td>\n",
       "      <td>...</td>\n",
       "      <td>...</td>\n",
       "      <td>...</td>\n",
       "      <td>...</td>\n",
       "      <td>...</td>\n",
       "      <td>...</td>\n",
       "      <td>...</td>\n",
       "      <td>...</td>\n",
       "      <td>...</td>\n",
       "    </tr>\n",
       "    <tr>\n",
       "      <th>321491</th>\n",
       "      <td>3600</td>\n",
       "      <td>suv</td>\n",
       "      <td>1999</td>\n",
       "      <td>auto</td>\n",
       "      <td>218</td>\n",
       "      <td>range_rover</td>\n",
       "      <td>150000</td>\n",
       "      <td>petrol</td>\n",
       "      <td>land_rover</td>\n",
       "      <td>no</td>\n",
       "    </tr>\n",
       "    <tr>\n",
       "      <th>340882</th>\n",
       "      <td>1500</td>\n",
       "      <td>NaN</td>\n",
       "      <td>1995</td>\n",
       "      <td>auto</td>\n",
       "      <td>224</td>\n",
       "      <td>range_rover</td>\n",
       "      <td>150000</td>\n",
       "      <td>petrol</td>\n",
       "      <td>land_rover</td>\n",
       "      <td>NaN</td>\n",
       "    </tr>\n",
       "    <tr>\n",
       "      <th>344294</th>\n",
       "      <td>3500</td>\n",
       "      <td>suv</td>\n",
       "      <td>1997</td>\n",
       "      <td>manual</td>\n",
       "      <td>136</td>\n",
       "      <td>range_rover</td>\n",
       "      <td>150000</td>\n",
       "      <td>gasoline</td>\n",
       "      <td>land_rover</td>\n",
       "      <td>no</td>\n",
       "    </tr>\n",
       "    <tr>\n",
       "      <th>345351</th>\n",
       "      <td>10999</td>\n",
       "      <td>suv</td>\n",
       "      <td>2004</td>\n",
       "      <td>auto</td>\n",
       "      <td>286</td>\n",
       "      <td>range_rover</td>\n",
       "      <td>150000</td>\n",
       "      <td>petrol</td>\n",
       "      <td>land_rover</td>\n",
       "      <td>no</td>\n",
       "    </tr>\n",
       "    <tr>\n",
       "      <th>346375</th>\n",
       "      <td>2200</td>\n",
       "      <td>suv</td>\n",
       "      <td>1997</td>\n",
       "      <td>auto</td>\n",
       "      <td>136</td>\n",
       "      <td>range_rover</td>\n",
       "      <td>150000</td>\n",
       "      <td>gasoline</td>\n",
       "      <td>land_rover</td>\n",
       "      <td>NaN</td>\n",
       "    </tr>\n",
       "  </tbody>\n",
       "</table>\n",
       "<p>63 rows × 10 columns</p>\n",
       "</div>"
      ],
      "text/plain": [
       "        price vehicle_type  registration_year gearbox  power        model  \\\n",
       "5615    14900          suv               1993    auto    182  range_rover   \n",
       "22356    2800          suv               1996    auto    224  range_rover   \n",
       "26526    5600          suv               1982  manual    125  range_rover   \n",
       "32216   14950          suv               1994    auto    182  range_rover   \n",
       "42698    6800          suv               2004    auto    177  range_rover   \n",
       "...       ...          ...                ...     ...    ...          ...   \n",
       "321491   3600          suv               1999    auto    218  range_rover   \n",
       "340882   1500          NaN               1995    auto    224  range_rover   \n",
       "344294   3500          suv               1997  manual    136  range_rover   \n",
       "345351  10999          suv               2004    auto    286  range_rover   \n",
       "346375   2200          suv               1997    auto    136  range_rover   \n",
       "\n",
       "        kilometer fuel_type       brand repaired  \n",
       "5615       150000    petrol  land_rover       no  \n",
       "22356      150000       NaN  land_rover       no  \n",
       "26526        5000    petrol  land_rover      NaN  \n",
       "32216      150000    petrol  land_rover       no  \n",
       "42698      150000  gasoline  land_rover      NaN  \n",
       "...           ...       ...         ...      ...  \n",
       "321491     150000    petrol  land_rover       no  \n",
       "340882     150000    petrol  land_rover      NaN  \n",
       "344294     150000  gasoline  land_rover       no  \n",
       "345351     150000    petrol  land_rover       no  \n",
       "346375     150000  gasoline  land_rover      NaN  \n",
       "\n",
       "[63 rows x 10 columns]"
      ]
     },
     "execution_count": 34,
     "metadata": {},
     "output_type": "execute_result"
    }
   ],
   "source": [
    "# rangerover' и 'range_rover' - это одна и та же модель\n",
    "df[df['model'] == 'range_rover']"
   ]
  },
  {
   "cell_type": "code",
   "execution_count": 35,
   "id": "6f2eb7e6-0ce8-4661-9f4a-948d0ffe489d",
   "metadata": {},
   "outputs": [
    {
     "data": {
      "text/html": [
       "<div>\n",
       "<style scoped>\n",
       "    .dataframe tbody tr th:only-of-type {\n",
       "        vertical-align: middle;\n",
       "    }\n",
       "\n",
       "    .dataframe tbody tr th {\n",
       "        vertical-align: top;\n",
       "    }\n",
       "\n",
       "    .dataframe thead th {\n",
       "        text-align: right;\n",
       "    }\n",
       "</style>\n",
       "<table border=\"1\" class=\"dataframe\">\n",
       "  <thead>\n",
       "    <tr style=\"text-align: right;\">\n",
       "      <th></th>\n",
       "      <th>price</th>\n",
       "      <th>vehicle_type</th>\n",
       "      <th>registration_year</th>\n",
       "      <th>gearbox</th>\n",
       "      <th>power</th>\n",
       "      <th>model</th>\n",
       "      <th>kilometer</th>\n",
       "      <th>fuel_type</th>\n",
       "      <th>brand</th>\n",
       "      <th>repaired</th>\n",
       "    </tr>\n",
       "  </thead>\n",
       "  <tbody>\n",
       "    <tr>\n",
       "      <th>27949</th>\n",
       "      <td>1050</td>\n",
       "      <td>small</td>\n",
       "      <td>1998</td>\n",
       "      <td>manual</td>\n",
       "      <td>103</td>\n",
       "      <td>rangerover</td>\n",
       "      <td>150000</td>\n",
       "      <td>petrol</td>\n",
       "      <td>rover</td>\n",
       "      <td>NaN</td>\n",
       "    </tr>\n",
       "  </tbody>\n",
       "</table>\n",
       "</div>"
      ],
      "text/plain": [
       "       price vehicle_type  registration_year gearbox  power       model  \\\n",
       "27949   1050        small               1998  manual    103  rangerover   \n",
       "\n",
       "       kilometer fuel_type  brand repaired  \n",
       "27949     150000    petrol  rover      NaN  "
      ]
     },
     "execution_count": 35,
     "metadata": {},
     "output_type": "execute_result"
    }
   ],
   "source": [
    "df[df['model'] == 'rangerover']"
   ]
  },
  {
   "cell_type": "code",
   "execution_count": 36,
   "id": "04a8ca39-db06-4b3e-9a38-37001ea20448",
   "metadata": {},
   "outputs": [],
   "source": [
    "# приведем к одному типу написания\n",
    "df['model'] = df['model'].replace(['rangerover'],'range_rover')"
   ]
  },
  {
   "cell_type": "code",
   "execution_count": 37,
   "id": "82529e36-58d2-4af9-bc44-a6799601ef28",
   "metadata": {},
   "outputs": [
    {
     "data": {
      "text/plain": [
       "golf                  23369\n",
       "other                 18734\n",
       "3er                   16414\n",
       "polo                  10292\n",
       "corsa                  9669\n",
       "                      ...  \n",
       "q3                        3\n",
       "range_rover_evoque        2\n",
       "serie_3                   2\n",
       "gl                        2\n",
       "601                       1\n",
       "Name: model, Length: 248, dtype: int64"
      ]
     },
     "execution_count": 37,
     "metadata": {},
     "output_type": "execute_result"
    }
   ],
   "source": [
    "# количество по моделям\n",
    "df['model'].value_counts()"
   ]
  },
  {
   "cell_type": "code",
   "execution_count": 38,
   "id": "d8645e18-9e6b-41e4-bfd8-57c124997c20",
   "metadata": {},
   "outputs": [],
   "source": [
    "# найдем наиболее распространенные модели для каждого бренда\n",
    "most_common_model = df.groupby('brand')['model'].agg(lambda x: x.value_counts(dropna=False).index[0]).to_dict()"
   ]
  },
  {
   "cell_type": "code",
   "execution_count": 39,
   "id": "60dcd3a8-eeed-4cfd-bb61-dac3a87ac141",
   "metadata": {},
   "outputs": [],
   "source": [
    "# заполним пропуски в столбце \"model\" наиболее частым значениями для соответствующих брендов\n",
    "df['model'] = df.apply(\n",
    "    lambda row: most_common_model[row['brand']] \n",
    "    if pd.isna(row['model']) \n",
    "    else row['model'], axis=1)"
   ]
  },
  {
   "cell_type": "code",
   "execution_count": 40,
   "id": "06cd74ea-0a9c-4c11-9be2-ca17724c1835",
   "metadata": {},
   "outputs": [
    {
     "data": {
      "text/html": [
       "<style type=\"text/css\">\n",
       "#T_46d68_row0_col0 {\n",
       "  background-color: #b40426;\n",
       "  color: #f1f1f1;\n",
       "}\n",
       "#T_46d68_row1_col0 {\n",
       "  background-color: #aac7fd;\n",
       "  color: #000000;\n",
       "}\n",
       "#T_46d68_row2_col0 {\n",
       "  background-color: #84a7fc;\n",
       "  color: #f1f1f1;\n",
       "}\n",
       "#T_46d68_row3_col0 {\n",
       "  background-color: #5673e0;\n",
       "  color: #f1f1f1;\n",
       "}\n",
       "#T_46d68_row4_col0 {\n",
       "  background-color: #3b4cc0;\n",
       "  color: #f1f1f1;\n",
       "}\n",
       "</style>\n",
       "<table id=\"T_46d68\">\n",
       "  <thead>\n",
       "    <tr>\n",
       "      <th class=\"blank level0\" >&nbsp;</th>\n",
       "      <th id=\"T_46d68_level0_col0\" class=\"col_heading level0 col0\" >Пропуски</th>\n",
       "    </tr>\n",
       "  </thead>\n",
       "  <tbody>\n",
       "    <tr>\n",
       "      <th id=\"T_46d68_level0_row0\" class=\"row_heading level0 row0\" >repaired</th>\n",
       "      <td id=\"T_46d68_row0_col0\" class=\"data row0 col0\" >14.627000</td>\n",
       "    </tr>\n",
       "    <tr>\n",
       "      <th id=\"T_46d68_level0_row1\" class=\"row_heading level0 row1\" >fuel_type</th>\n",
       "      <td id=\"T_46d68_row1_col0\" class=\"data row1 col0\" >5.233000</td>\n",
       "    </tr>\n",
       "    <tr>\n",
       "      <th id=\"T_46d68_level0_row2\" class=\"row_heading level0 row2\" >vehicle_type</th>\n",
       "      <td id=\"T_46d68_row2_col0\" class=\"data row2 col0\" >3.676000</td>\n",
       "    </tr>\n",
       "    <tr>\n",
       "      <th id=\"T_46d68_level0_row3\" class=\"row_heading level0 row3\" >gearbox</th>\n",
       "      <td id=\"T_46d68_row3_col0\" class=\"data row3 col0\" >1.761000</td>\n",
       "    </tr>\n",
       "    <tr>\n",
       "      <th id=\"T_46d68_level0_row4\" class=\"row_heading level0 row4\" >model</th>\n",
       "      <td id=\"T_46d68_row4_col0\" class=\"data row4 col0\" >0.490000</td>\n",
       "    </tr>\n",
       "  </tbody>\n",
       "</table>\n"
      ],
      "text/plain": [
       "<pandas.io.formats.style.Styler at 0x292d9eac190>"
      ]
     },
     "metadata": {},
     "output_type": "display_data"
    }
   ],
   "source": [
    "# проверим\n",
    "lost(df)"
   ]
  },
  {
   "cell_type": "code",
   "execution_count": 41,
   "id": "d816dac2-13d5-4920-b997-9da7ebf99aa2",
   "metadata": {
    "tags": []
   },
   "outputs": [],
   "source": [
    "# предположим, что у оставшихся брендов с пропусками нет подходящего обозначения модели и эти пропуски заменим значением \"other\"\n",
    "df['model'].fillna('other', inplace=True)"
   ]
  },
  {
   "cell_type": "markdown",
   "id": "ac978409-75f8-4d02-9335-5c4f73ce22c6",
   "metadata": {},
   "source": [
    "#### Изучим столбец 'vehicle_type'"
   ]
  },
  {
   "cell_type": "code",
   "execution_count": 42,
   "id": "7788258d-0c93-4f47-bb0b-ec7535dcaa8e",
   "metadata": {},
   "outputs": [
    {
     "data": {
      "text/plain": [
       "array(['bus', 'convertible', 'coupe', 'other', 'sedan', 'small', 'suv',\n",
       "       'wagon', nan], dtype=object)"
      ]
     },
     "execution_count": 42,
     "metadata": {},
     "output_type": "execute_result"
    }
   ],
   "source": [
    "# найдем уникальные значения в столбце \"тип ТС\"\n",
    "df['vehicle_type'].sort_values().unique()"
   ]
  },
  {
   "cell_type": "code",
   "execution_count": 43,
   "id": "0bfed4ca-6dab-48b8-ab02-37551e725476",
   "metadata": {},
   "outputs": [
    {
     "data": {
      "text/plain": [
       "sedan          78338\n",
       "small          66975\n",
       "wagon          56022\n",
       "bus            24767\n",
       "convertible    16726\n",
       "coupe          12863\n",
       "suv             8972\n",
       "other           2285\n",
       "Name: vehicle_type, dtype: int64"
      ]
     },
     "execution_count": 43,
     "metadata": {},
     "output_type": "execute_result"
    }
   ],
   "source": [
    "# количество по типам ТС\n",
    "df['vehicle_type'].value_counts()"
   ]
  },
  {
   "cell_type": "code",
   "execution_count": 44,
   "id": "2cf33b58-3c79-43e7-88cc-24a9672dd1c4",
   "metadata": {},
   "outputs": [],
   "source": [
    "# найдем наиболее расспространенный тип транспортного средства для каждой модели\n",
    "most_common_vehicle_type = df.groupby('model')['vehicle_type'].agg(lambda x: x.value_counts(dropna=False).index[0]).to_dict()"
   ]
  },
  {
   "cell_type": "code",
   "execution_count": 45,
   "id": "05cb4061-4455-4bbe-af51-886b8629b676",
   "metadata": {
    "tags": []
   },
   "outputs": [],
   "source": [
    "# заполним пропуски в столбце \"vehicle_type\" наиболее частыми значениями для соответствующих моделей\n",
    "df['vehicle_type'] = df.apply(\n",
    "    lambda row: most_common_vehicle_type[row['model']] \n",
    "    if pd.isna(row['vehicle_type']) \n",
    "    else row['vehicle_type'], axis=1\n",
    ")"
   ]
  },
  {
   "cell_type": "code",
   "execution_count": 46,
   "id": "5ed8e442-70e6-4db1-970c-491abdc67324",
   "metadata": {},
   "outputs": [
    {
     "data": {
      "text/html": [
       "<style type=\"text/css\">\n",
       "#T_2cbc2_row0_col0 {\n",
       "  background-color: #b40426;\n",
       "  color: #f1f1f1;\n",
       "}\n",
       "#T_2cbc2_row1_col0 {\n",
       "  background-color: #94b6ff;\n",
       "  color: #000000;\n",
       "}\n",
       "#T_2cbc2_row2_col0 {\n",
       "  background-color: #3b4cc0;\n",
       "  color: #f1f1f1;\n",
       "}\n",
       "</style>\n",
       "<table id=\"T_2cbc2\">\n",
       "  <thead>\n",
       "    <tr>\n",
       "      <th class=\"blank level0\" >&nbsp;</th>\n",
       "      <th id=\"T_2cbc2_level0_col0\" class=\"col_heading level0 col0\" >Пропуски</th>\n",
       "    </tr>\n",
       "  </thead>\n",
       "  <tbody>\n",
       "    <tr>\n",
       "      <th id=\"T_2cbc2_level0_row0\" class=\"row_heading level0 row0\" >repaired</th>\n",
       "      <td id=\"T_2cbc2_row0_col0\" class=\"data row0 col0\" >14.627000</td>\n",
       "    </tr>\n",
       "    <tr>\n",
       "      <th id=\"T_2cbc2_level0_row1\" class=\"row_heading level0 row1\" >fuel_type</th>\n",
       "      <td id=\"T_2cbc2_row1_col0\" class=\"data row1 col0\" >5.233000</td>\n",
       "    </tr>\n",
       "    <tr>\n",
       "      <th id=\"T_2cbc2_level0_row2\" class=\"row_heading level0 row2\" >gearbox</th>\n",
       "      <td id=\"T_2cbc2_row2_col0\" class=\"data row2 col0\" >1.761000</td>\n",
       "    </tr>\n",
       "  </tbody>\n",
       "</table>\n"
      ],
      "text/plain": [
       "<pandas.io.formats.style.Styler at 0x2928571fdc0>"
      ]
     },
     "metadata": {},
     "output_type": "display_data"
    }
   ],
   "source": [
    "# проверим\n",
    "lost(df)"
   ]
  },
  {
   "cell_type": "markdown",
   "id": "2d3d9f51-c0b2-48fb-bfc2-fa936c90f1cc",
   "metadata": {},
   "source": [
    "#### Изучим столбец 'fuel_type'"
   ]
  },
  {
   "cell_type": "code",
   "execution_count": 47,
   "id": "c3826e72-66ec-4185-a4f4-404ca91f9d9d",
   "metadata": {},
   "outputs": [
    {
     "data": {
      "text/plain": [
       "array(['cng', 'electric', 'gasoline', 'hybrid', 'lpg', 'other', 'petrol',\n",
       "       nan], dtype=object)"
      ]
     },
     "execution_count": 47,
     "metadata": {},
     "output_type": "execute_result"
    }
   ],
   "source": [
    "# найдем уникальные значения в столбце fuel_type\n",
    "df['fuel_type'].sort_values().unique()"
   ]
  },
  {
   "cell_type": "code",
   "execution_count": 48,
   "id": "7fdf5a20-5ece-47f9-8eee-b2eae530c95d",
   "metadata": {},
   "outputs": [
    {
     "data": {
      "text/plain": [
       "petrol      177845\n",
       "gasoline     79476\n",
       "lpg           4587\n",
       "cng            477\n",
       "hybrid         164\n",
       "other           54\n",
       "electric        30\n",
       "Name: fuel_type, dtype: int64"
      ]
     },
     "execution_count": 48,
     "metadata": {},
     "output_type": "execute_result"
    }
   ],
   "source": [
    "# количество по типам топлива\n",
    "df['fuel_type'].value_counts()"
   ]
  },
  {
   "cell_type": "markdown",
   "id": "180ae556-d061-4321-9c86-40865ec550e3",
   "metadata": {},
   "source": [
    "Тип топлива \"petrol\" и \"gasoline\" - это бензин, поэтому заменим значения на \"petrol\""
   ]
  },
  {
   "cell_type": "code",
   "execution_count": 49,
   "id": "db7bbbc6-f363-458b-8829-3b1fd636a062",
   "metadata": {},
   "outputs": [],
   "source": [
    "df['fuel_type'] = df['fuel_type'].replace(['gasoline'],'petrol')"
   ]
  },
  {
   "cell_type": "code",
   "execution_count": 50,
   "id": "98647676-3544-49c0-a615-b784fc50ab97",
   "metadata": {},
   "outputs": [],
   "source": [
    "# найдем наиболее расспространенный тип топлива для каждого транспортного средства\n",
    "most_common_fuel_type = df.groupby('vehicle_type')['fuel_type'].agg(lambda x: x.value_counts(dropna=False).index[0]).to_dict()"
   ]
  },
  {
   "cell_type": "code",
   "execution_count": 51,
   "id": "86e9ade1-2d6a-4d93-8e60-65f0df46165b",
   "metadata": {
    "tags": []
   },
   "outputs": [],
   "source": [
    "# заполним пропуски в столбце \"fuel_type\" наиболее частыми значениями для соответствующего ТС\n",
    "df['fuel_type'] = df.apply(\n",
    "    lambda row: most_common_fuel_type[row['vehicle_type']] \n",
    "    if pd.isna(row['fuel_type']) \n",
    "    else row['fuel_type'], axis=1\n",
    ")"
   ]
  },
  {
   "cell_type": "code",
   "execution_count": 52,
   "id": "9bbd02f8-ec43-4415-ac52-56ef5bec53ac",
   "metadata": {},
   "outputs": [
    {
     "data": {
      "text/html": [
       "<style type=\"text/css\">\n",
       "#T_d3d58_row0_col0 {\n",
       "  background-color: #b40426;\n",
       "  color: #f1f1f1;\n",
       "}\n",
       "#T_d3d58_row1_col0 {\n",
       "  background-color: #3b4cc0;\n",
       "  color: #f1f1f1;\n",
       "}\n",
       "</style>\n",
       "<table id=\"T_d3d58\">\n",
       "  <thead>\n",
       "    <tr>\n",
       "      <th class=\"blank level0\" >&nbsp;</th>\n",
       "      <th id=\"T_d3d58_level0_col0\" class=\"col_heading level0 col0\" >Пропуски</th>\n",
       "    </tr>\n",
       "  </thead>\n",
       "  <tbody>\n",
       "    <tr>\n",
       "      <th id=\"T_d3d58_level0_row0\" class=\"row_heading level0 row0\" >repaired</th>\n",
       "      <td id=\"T_d3d58_row0_col0\" class=\"data row0 col0\" >14.627000</td>\n",
       "    </tr>\n",
       "    <tr>\n",
       "      <th id=\"T_d3d58_level0_row1\" class=\"row_heading level0 row1\" >gearbox</th>\n",
       "      <td id=\"T_d3d58_row1_col0\" class=\"data row1 col0\" >1.761000</td>\n",
       "    </tr>\n",
       "  </tbody>\n",
       "</table>\n"
      ],
      "text/plain": [
       "<pandas.io.formats.style.Styler at 0x2928571f4f0>"
      ]
     },
     "metadata": {},
     "output_type": "display_data"
    }
   ],
   "source": [
    "# проверим\n",
    "lost(df)"
   ]
  },
  {
   "cell_type": "markdown",
   "id": "abbb777e-5ad7-4513-8d0d-63116350a01a",
   "metadata": {},
   "source": [
    "#### Изучим столбец 'gearbox'"
   ]
  },
  {
   "cell_type": "code",
   "execution_count": 53,
   "id": "f9db13f9-d264-4672-aa20-4a5900c0e8ea",
   "metadata": {},
   "outputs": [
    {
     "data": {
      "text/plain": [
       "array(['auto', 'manual', nan], dtype=object)"
      ]
     },
     "execution_count": 53,
     "metadata": {},
     "output_type": "execute_result"
    }
   ],
   "source": [
    "# найдем уникальные значения в столбце gearbox\n",
    "df['gearbox'].sort_values().unique()"
   ]
  },
  {
   "cell_type": "code",
   "execution_count": 54,
   "id": "1b20db20-32c6-4a1e-b157-c7860c7d4299",
   "metadata": {},
   "outputs": [
    {
     "data": {
      "text/plain": [
       "manual    220652\n",
       "auto       51604\n",
       "Name: gearbox, dtype: int64"
      ]
     },
     "execution_count": 54,
     "metadata": {},
     "output_type": "execute_result"
    }
   ],
   "source": [
    "# количество по типу трансмиссии\n",
    "df['gearbox'].value_counts()"
   ]
  },
  {
   "cell_type": "code",
   "execution_count": 55,
   "id": "31ace768-5ee1-4dad-b0ce-d6a549bdb5c8",
   "metadata": {},
   "outputs": [],
   "source": [
    "# определим самый частый тип трансписсии для типов ТС\n",
    "most_common_gearbox = df.groupby('vehicle_type')['gearbox'].agg(lambda x: x.value_counts(dropna=False).index[0]).to_dict()"
   ]
  },
  {
   "cell_type": "code",
   "execution_count": 56,
   "id": "8dd3513e-5fb9-46f3-8598-c4137efe6963",
   "metadata": {},
   "outputs": [],
   "source": [
    "# заполним пропуски в столбце \"gearbox\" наиболее частыми значениями для соответствующих типов ТС\n",
    "df['gearbox'] = df.apply(\n",
    "    lambda row: most_common_gearbox[row['vehicle_type']] \n",
    "    if pd.isna(row['gearbox']) \n",
    "    else row['gearbox'], axis=1\n",
    ")"
   ]
  },
  {
   "cell_type": "code",
   "execution_count": 57,
   "id": "d714ad7f-e79c-4274-808c-7ae93eefd8be",
   "metadata": {},
   "outputs": [
    {
     "data": {
      "text/html": [
       "<style type=\"text/css\">\n",
       "#T_2f0e7_row0_col0 {\n",
       "  background-color: #3b4cc0;\n",
       "  color: #f1f1f1;\n",
       "}\n",
       "</style>\n",
       "<table id=\"T_2f0e7\">\n",
       "  <thead>\n",
       "    <tr>\n",
       "      <th class=\"blank level0\" >&nbsp;</th>\n",
       "      <th id=\"T_2f0e7_level0_col0\" class=\"col_heading level0 col0\" >Пропуски</th>\n",
       "    </tr>\n",
       "  </thead>\n",
       "  <tbody>\n",
       "    <tr>\n",
       "      <th id=\"T_2f0e7_level0_row0\" class=\"row_heading level0 row0\" >repaired</th>\n",
       "      <td id=\"T_2f0e7_row0_col0\" class=\"data row0 col0\" >14.627000</td>\n",
       "    </tr>\n",
       "  </tbody>\n",
       "</table>\n"
      ],
      "text/plain": [
       "<pandas.io.formats.style.Styler at 0x2928571f4f0>"
      ]
     },
     "metadata": {},
     "output_type": "display_data"
    }
   ],
   "source": [
    "# проверим\n",
    "lost(df)"
   ]
  },
  {
   "cell_type": "markdown",
   "id": "954ddff0-6350-400c-83ce-6504d52d97eb",
   "metadata": {
    "tags": []
   },
   "source": [
    "#### Изучим столбец 'repaired'"
   ]
  },
  {
   "cell_type": "code",
   "execution_count": 58,
   "id": "de1951ba-993e-4222-af7f-47ff6826a70b",
   "metadata": {},
   "outputs": [
    {
     "data": {
      "text/plain": [
       "array(['no', 'yes', nan], dtype=object)"
      ]
     },
     "execution_count": 58,
     "metadata": {},
     "output_type": "execute_result"
    }
   ],
   "source": [
    "# проверим уникакльные значения стоолбца \"repaired\"\n",
    "df['repaired'].sort_values().unique()"
   ]
  },
  {
   "cell_type": "code",
   "execution_count": 59,
   "id": "d14c9f70-6ef5-49ba-84ac-0117cc6bfd2d",
   "metadata": {},
   "outputs": [
    {
     "data": {
      "text/plain": [
       "no     209350\n",
       "yes     27249\n",
       "Name: repaired, dtype: int64"
      ]
     },
     "execution_count": 59,
     "metadata": {},
     "output_type": "execute_result"
    }
   ],
   "source": [
    "# количество по признаку ремонт\n",
    "df['repaired'].value_counts()"
   ]
  },
  {
   "cell_type": "code",
   "execution_count": 60,
   "id": "b9086633-a9ef-4415-bc61-cf02a0082ee9",
   "metadata": {},
   "outputs": [],
   "source": [
    "# удалять почти 15% данных не будем, заполним пропуски значением \"unknown\"\n",
    "df['repaired'].fillna('unknown', inplace=True)"
   ]
  },
  {
   "cell_type": "code",
   "execution_count": 61,
   "id": "a78b4d78-6e5e-4791-9a03-6d2976855283",
   "metadata": {},
   "outputs": [
    {
     "name": "stdout",
     "output_type": "stream",
     "text": [
      "Пропусков нет\n"
     ]
    }
   ],
   "source": [
    "# проверим\n",
    "lost(df)"
   ]
  },
  {
   "cell_type": "code",
   "execution_count": 62,
   "id": "cd23a389-a693-4a4f-9156-adc787d61068",
   "metadata": {},
   "outputs": [
    {
     "name": "stdout",
     "output_type": "stream",
     "text": [
      "<class 'pandas.core.frame.DataFrame'>\n",
      "Int64Index: 277135 entries, 2 to 354368\n",
      "Data columns (total 10 columns):\n",
      " #   Column             Non-Null Count   Dtype \n",
      "---  ------             --------------   ----- \n",
      " 0   price              277135 non-null  int64 \n",
      " 1   vehicle_type       277135 non-null  object\n",
      " 2   registration_year  277135 non-null  int64 \n",
      " 3   gearbox            277135 non-null  object\n",
      " 4   power              277135 non-null  int64 \n",
      " 5   model              277135 non-null  object\n",
      " 6   kilometer          277135 non-null  int64 \n",
      " 7   fuel_type          277135 non-null  object\n",
      " 8   brand              277135 non-null  object\n",
      " 9   repaired           277135 non-null  object\n",
      "dtypes: int64(4), object(6)\n",
      "memory usage: 23.3+ MB\n"
     ]
    }
   ],
   "source": [
    "# общая информация\n",
    "df.info()"
   ]
  },
  {
   "cell_type": "markdown",
   "id": "2acc9474-fb62-44ca-a858-b3a8df6e5432",
   "metadata": {
    "tags": []
   },
   "source": [
    "### Выводы"
   ]
  },
  {
   "cell_type": "markdown",
   "id": "fd74f605-d946-4ffb-b854-072ac2acca9a",
   "metadata": {},
   "source": [
    "1. Исходный данные содержали большое количество пропусков, аномалии и выбросы.\n",
    "2. Все аномалии в числовых признаках обработаны (удалены).\n",
    "3. Пропуски в категориальных признах заполнены модой или значением \"unknown\".\n",
    "4. Исходные данные содержали 354369 строк, после очистки данных - 277135.\n",
    "5. Удалили 21.79% от исходных данных."
   ]
  },
  {
   "cell_type": "markdown",
   "id": "49046685-a34f-47c2-aad7-d9a3caa6e3d3",
   "metadata": {},
   "source": [
    "## 2. Подготовка данных и обучение моделей"
   ]
  },
  {
   "cell_type": "markdown",
   "id": "0dbf4df5-c44f-4278-b67f-a6929586c493",
   "metadata": {},
   "source": [
    "* LinearRegression\n",
    "* RandomForestRegressorr\n",
    "* CatBoostRegressor\n",
    "* LGBMRegressor"
   ]
  },
  {
   "cell_type": "markdown",
   "id": "0e193b44-e4a0-4789-8594-73dfbcb837f3",
   "metadata": {
    "tags": []
   },
   "source": [
    "### 2.1 Разделим выборки и извлечем признаки\n",
    "* **train** - обучающая выборка (**75%** исходных данных)\n",
    "* **test** - тестовая выборка (**25%** исходных данных)"
   ]
  },
  {
   "cell_type": "code",
   "execution_count": 63,
   "id": "52aec044-aeed-4aeb-8157-5a170cdb143b",
   "metadata": {},
   "outputs": [],
   "source": [
    "features = df.drop(['price'], axis=1)                           # признаки\n",
    "target = df['price']                                            # выделим целевой признак\n",
    "\n",
    "# разделим на тренировочную - 75% и тестовую - 25% выборки\n",
    "X_train, X_test, y_train, y_test = train_test_split(\n",
    "    features, target, test_size=0.25, random_state=RANDOM_STATE\n",
    ")"
   ]
  },
  {
   "cell_type": "code",
   "execution_count": 64,
   "id": "52beabd8-798a-49cc-bb7d-633b278c1a53",
   "metadata": {},
   "outputs": [
    {
     "name": "stdout",
     "output_type": "stream",
     "text": [
      "\u001b[1mОбучающая выборка\u001b[0m\n",
      "Признаки:(207851, 9)\n",
      "Целевой признак:(207851,)\n",
      "==============================\n",
      "\u001b[1mТестовая выборка\u001b[0m\n",
      "Признаки:(69284, 9)\n",
      "Целевой признак:(69284,)\n"
     ]
    }
   ],
   "source": [
    "print('\\033[1m'+ 'Обучающая выборка'+'\\033[0m')\n",
    "print ('Признаки:',X_train.shape, '\\n', 'Целевой признак:', y_train.shape, sep='')\n",
    "print('='*30)\n",
    "print('\\033[1m'+ 'Тестовая выборка'+'\\033[0m')\n",
    "print ('Признаки:',X_test.shape, '\\n', 'Целевой признак:', y_test.shape, sep='')"
   ]
  },
  {
   "cell_type": "markdown",
   "id": "5f35367e-0af9-4118-b777-224c81dbc10b",
   "metadata": {},
   "source": [
    "### 2.2 Извлечем категориальные и числовые признаки"
   ]
  },
  {
   "cell_type": "code",
   "execution_count": 65,
   "id": "2f7a7ef2-cc03-44b7-ae5e-eace01426e52",
   "metadata": {},
   "outputs": [
    {
     "data": {
      "text/plain": [
       "Index(['vehicle_type', 'gearbox', 'model', 'fuel_type', 'brand', 'repaired'], dtype='object')"
      ]
     },
     "execution_count": 65,
     "metadata": {},
     "output_type": "execute_result"
    }
   ],
   "source": [
    "# категориальные признаки \n",
    "cat_features = X_train.select_dtypes(include='object').columns\n",
    "cat_features"
   ]
  },
  {
   "cell_type": "code",
   "execution_count": 66,
   "id": "5da87df8-ec00-431d-9c00-93873ca7afae",
   "metadata": {},
   "outputs": [
    {
     "data": {
      "text/plain": [
       "Index(['registration_year', 'power', 'kilometer'], dtype='object')"
      ]
     },
     "execution_count": 66,
     "metadata": {},
     "output_type": "execute_result"
    }
   ],
   "source": [
    "# численные признаки\n",
    "num_features = X_train.select_dtypes(exclude='object').columns\n",
    "num_features"
   ]
  },
  {
   "cell_type": "markdown",
   "id": "ce1b7c32-ff87-46a4-9671-619214858f1a",
   "metadata": {},
   "source": [
    "### 2.3 Модель \"Linear Regression\""
   ]
  },
  {
   "cell_type": "code",
   "execution_count": 67,
   "id": "ca810ce7-32d6-4c60-a14a-99c49882a81b",
   "metadata": {},
   "outputs": [],
   "source": [
    "# признаки для Линейной регрессии\n",
    "X_train_lr = X_train.copy()\n",
    "X_test_lr = X_test.copy()"
   ]
  },
  {
   "cell_type": "code",
   "execution_count": 68,
   "id": "dcc5f5f9-32f9-4d4a-bb20-a56ce8f352f9",
   "metadata": {},
   "outputs": [],
   "source": [
    "# закодируем категориальные признаки и масштабируем числовые \n",
    "transformer_lr = make_column_transformer((StandardScaler(), num_features), \n",
    "                                         (OneHotEncoder(drop='first', handle_unknown='ignore'), cat_features),\n",
    "                                         remainder = 'passthrough', verbose_feature_names_out=False\n",
    "                                        )"
   ]
  },
  {
   "cell_type": "code",
   "execution_count": 69,
   "id": "adc6d013-e0d4-46ea-bec0-dbe42e77c0a8",
   "metadata": {},
   "outputs": [],
   "source": [
    "# создадим модель\n",
    "model_lr = make_pipeline(transformer_lr, LinearRegression())"
   ]
  },
  {
   "cell_type": "code",
   "execution_count": 70,
   "id": "e2252aa0-b06f-4bc1-92ac-3fc8f901f5b0",
   "metadata": {},
   "outputs": [],
   "source": [
    "# определяем параметры для перебора в GridSearchCV\n",
    "parametrs_lr  = {} "
   ]
  },
  {
   "cell_type": "code",
   "execution_count": 71,
   "id": "17f05440-3d1d-4272-b875-00182e191ddd",
   "metadata": {},
   "outputs": [
    {
     "name": "stdout",
     "output_type": "stream",
     "text": [
      "\u001b[1mМодель \"Linear Regression\"\u001b[0m\n",
      "\u001b[1mRMSE:\u001b[0m 2276.2089244343506\n",
      "==============================\n",
      "CPU times: total: 21.9 s\n",
      "Wall time: 22.3 s\n"
     ]
    }
   ],
   "source": [
    "%%time\n",
    "# передаем модель, параметры и оценку в GridSearchCV\n",
    "lr  = GridSearchCV(\n",
    "    model_lr,\n",
    "    param_grid = parametrs_lr,\n",
    "    scoring='neg_root_mean_squared_error'\n",
    ")\n",
    "# обучим на тренировочных данных\n",
    "lr.fit(X_train_lr, y_train)\n",
    "# найдем лучший RMSE\n",
    "rmse_lr = lr.best_score_*-1\n",
    "\n",
    "print('\\033[1m'+ 'Модель \"Linear Regression\"'+'\\033[0m')\n",
    "print('\\033[1m'+'RMSE:'+'\\033[0m', rmse_lr)\n",
    "print('='*30)"
   ]
  },
  {
   "cell_type": "markdown",
   "id": "f9e3bb28-72d8-4785-96a9-fa146a4cab7e",
   "metadata": {},
   "source": [
    "### 2.4 Модель \"Random Forest Regressor\""
   ]
  },
  {
   "cell_type": "code",
   "execution_count": 72,
   "id": "9d83bbf7-7b5c-44df-8a12-4d7efe8a172d",
   "metadata": {},
   "outputs": [],
   "source": [
    "# признаки для Регрессии случайного леса \n",
    "X_train_rf = X_train.copy()\n",
    "X_test_rf = X_test.copy()"
   ]
  },
  {
   "cell_type": "code",
   "execution_count": 73,
   "id": "1cc931e6-9b11-4c07-b929-95bb1e8f3d19",
   "metadata": {},
   "outputs": [],
   "source": [
    "# закодируем категориальные признаки и масштабируем числовые\n",
    "transformer_rf = make_column_transformer((StandardScaler(), num_features),\n",
    "                                         (OrdinalEncoder (handle_unknown='use_encoded_value', unknown_value=-1), cat_features),\n",
    "                                         remainder = 'passthrough', verbose_feature_names_out=False)"
   ]
  },
  {
   "cell_type": "code",
   "execution_count": 74,
   "id": "13a4eee8-d7dd-4c4b-bef7-52273aeb437b",
   "metadata": {},
   "outputs": [],
   "source": [
    "# создадим модель\n",
    "model_rf = make_pipeline(transformer_rf, RandomForestRegressor(random_state=RANDOM_STATE))"
   ]
  },
  {
   "cell_type": "code",
   "execution_count": 75,
   "id": "9884b758-24a1-45d3-9637-dbe262a3e386",
   "metadata": {},
   "outputs": [],
   "source": [
    "# определяем параметры для RandomizedSearchCV\n",
    "parametrs_rf = {\n",
    "    'randomforestregressor__n_estimators': range(50, 251, 50),\n",
    "    'randomforestregressor__max_depth': range(2, 15),\n",
    "    'randomforestregressor__min_samples_split': (2, 3, 4),\n",
    "    'randomforestregressor__min_samples_leaf': (1, 2, 3, 4)\n",
    "               }"
   ]
  },
  {
   "cell_type": "code",
   "execution_count": 76,
   "id": "fa4678bb-77d1-48b4-8e2b-ea1b03f6003a",
   "metadata": {},
   "outputs": [
    {
     "name": "stdout",
     "output_type": "stream",
     "text": [
      "Лучшие параметры для Random Forest Regressor: {'randomforestregressor__n_estimators': 250, 'randomforestregressor__min_samples_split': 4, 'randomforestregressor__min_samples_leaf': 3, 'randomforestregressor__max_depth': 12}\n",
      "============================================================\n",
      "\u001b[1mМодель \"Random Forest Regressor\"\u001b[0m\n",
      "\u001b[1mRMSE:\u001b[0m 1486.8701319706415\n",
      "==============================\n",
      "CPU times: total: 1min 16s\n",
      "Wall time: 11min 35s\n"
     ]
    }
   ],
   "source": [
    "%%time\n",
    "# обучим модель и найдем лучшие параметры\n",
    "rf = RandomizedSearchCV(\n",
    "    model_rf, \n",
    "    param_distributions=parametrs_rf, \n",
    "    scoring='neg_root_mean_squared_error', \n",
    "    n_jobs=-1,\n",
    "    random_state=RANDOM_STATE\n",
    ")\n",
    "\n",
    "rf.fit(X_train_rf, y_train)\n",
    "\n",
    "rf_best_params = rf.best_params_\n",
    "print(f'Лучшие параметры для Random Forest Regressor: {rf_best_params}')\n",
    "print('='*60)\n",
    "\n",
    "rmse_rf = rf.best_score_*-1\n",
    "print('\\033[1m'+ 'Модель \"Random Forest Regressor\"'+'\\033[0m')\n",
    "print('\\033[1m'+'RMSE:'+'\\033[0m', rmse_rf)\n",
    "print('='*30)"
   ]
  },
  {
   "cell_type": "markdown",
   "id": "51bffe86-901e-4f0b-99ee-2aa454f3821f",
   "metadata": {
    "tags": []
   },
   "source": [
    "**Лучшие параметры для Random Forest Regressor:** \n",
    "- 'randomforestregressor__n_estimators': 250\n",
    "- 'randomforestregressor__min_samples_split': 4\n",
    "- 'randomforestregressor__min_samples_leaf': 3,\n",
    "- 'randomforestregressor__max_depth': 12}\n",
    "\n",
    "**Время подбора параметров:**\n",
    "- CPU times: total: 1min 29s\n",
    "- Wall time: 12min 18s"
   ]
  },
  {
   "cell_type": "markdown",
   "id": "9fb8ef58-8be8-4e2d-ad5b-0dbe22a394ca",
   "metadata": {},
   "source": [
    "### 2.5 Модель \"Cat Boost Regressor\""
   ]
  },
  {
   "cell_type": "code",
   "execution_count": 77,
   "id": "fa525e0e-9de4-450b-a0a4-3d5df2c3fbed",
   "metadata": {},
   "outputs": [],
   "source": [
    "# признаки для Регрессии КэтБуст\n",
    "X_train_cbr = X_train.copy()\n",
    "X_test_cbr = X_test.copy()"
   ]
  },
  {
   "cell_type": "code",
   "execution_count": 78,
   "id": "a503aee8-5e21-4872-a7f6-9f091862a7aa",
   "metadata": {},
   "outputs": [],
   "source": [
    "# создадим модель и передадим ей категориальные признаки\n",
    "model_cbr = CatBoostRegressor(random_state=RANDOM_STATE, \n",
    "                              verbose=False, \n",
    "                              cat_features=['vehicle_type', 'gearbox', 'fuel_type', 'brand', 'model', 'repaired']) "
   ]
  },
  {
   "cell_type": "code",
   "execution_count": 79,
   "id": "f9bf1496-c68c-415a-8e5b-2a5192ffa3c0",
   "metadata": {
    "tags": []
   },
   "outputs": [],
   "source": [
    "# параметры для подбора\n",
    "parameters_cbr = [{'learning_rate':[0.1, 0.5, 0.8],\n",
    "               'depth':[6,8,10],\n",
    "               'iterations':[30, 50, 100],\n",
    "               'verbose':[False]}]"
   ]
  },
  {
   "cell_type": "code",
   "execution_count": 80,
   "id": "b2ef458f-cac0-4d12-8f1b-9b21af656a95",
   "metadata": {
    "scrolled": true,
    "tags": []
   },
   "outputs": [],
   "source": [
    "%%time\n",
    "# подберем лучшие параметры для модели CatBoostRegressor\n",
    "grid_cbr = GridSearchCV(\n",
    "    estimator=model_cbr,\n",
    "    param_grid = parameters_cbr,\n",
    "    cv = 2,\n",
    "    scoring='neg_root_mean_squared_error',\n",
    "    n_jobs=-1\n",
    ")\n",
    "\n",
    "grid_cbr.fit(X_train_cbr, y_train)\n",
    "rmse_cbr = grid_cbr.best_score_* -1\n",
    "print('\\033[1m'+ 'Модель \"CatBoost Regressor\"'+'\\033[0m')\n",
    "print('\\033[1m'+'RMSE:'+'\\033[0m', rmse_cbr)\n",
    "print(\"Лучшие параметры для Cat Boost Regressor:\\n\", grid_cbr.best_params_)\n",
    "print('='*75)"
   ]
  },
  {
   "cell_type": "markdown",
   "id": "58075b02-f67b-4531-9bad-a36035c06e86",
   "metadata": {
    "tags": []
   },
   "source": [
    "### 2.6 Модель \"LightGBM Regressor\""
   ]
  },
  {
   "cell_type": "code",
   "execution_count": 81,
   "id": "b19876c5-6bf5-4e6e-b123-c9fb600befdb",
   "metadata": {},
   "outputs": [],
   "source": [
    "# признаки для Регресси ЛайтГМБ \n",
    "X_train_lgb = X_train.copy()\n",
    "X_test_lgb = X_test.copy()"
   ]
  },
  {
   "cell_type": "code",
   "execution_count": 82,
   "id": "c0c69ab5-3dd3-4cae-94bf-9f2bbcf348f2",
   "metadata": {},
   "outputs": [],
   "source": [
    "# изменим тип категориальных признаков с object на category для LightGBM в обучающей выбрке\n",
    "for i in X_train_lgb.columns:\n",
    "    column_type = X_train_lgb[i].dtype\n",
    "    if column_type == 'object':\n",
    "        X_train_lgb[i] = X_train_lgb[i].astype('category')"
   ]
  },
  {
   "cell_type": "code",
   "execution_count": 83,
   "id": "269192c5-7d60-4b2d-bdb0-d45d29c38feb",
   "metadata": {},
   "outputs": [],
   "source": [
    "# создадим модель\n",
    "model_lgb = lgb.LGBMRegressor(random_state=RANDOM_STATE) "
   ]
  },
  {
   "cell_type": "code",
   "execution_count": 84,
   "id": "339a8328-e067-45cb-b468-9cabfe332531",
   "metadata": {},
   "outputs": [],
   "source": [
    "# параметры для подбора\n",
    "parameters_lgb = {'n_estimators': [100, 500, 1000],\n",
    "                  'num_leaves':[31, 100, 200],\n",
    "                  'learning_rate':[0.1, 0.3, 0.5]}"
   ]
  },
  {
   "cell_type": "code",
   "execution_count": 85,
   "id": "8fb1a989-02fa-4645-8574-6108eef39153",
   "metadata": {},
   "outputs": [
    {
     "name": "stdout",
     "output_type": "stream",
     "text": [
      "Fitting 3 folds for each of 27 candidates, totalling 81 fits\n",
      "[CV 1/3] END learning_rate=0.1, n_estimators=100, num_leaves=31;, score=-1393.657 total time=   0.4s\n",
      "[CV 2/3] END learning_rate=0.1, n_estimators=100, num_leaves=31;, score=-1390.528 total time=   0.4s\n",
      "[CV 3/3] END learning_rate=0.1, n_estimators=100, num_leaves=31;, score=-1375.658 total time=   0.3s\n",
      "[CV 1/3] END learning_rate=0.1, n_estimators=100, num_leaves=100;, score=-1350.762 total time=   0.9s\n",
      "[CV 2/3] END learning_rate=0.1, n_estimators=100, num_leaves=100;, score=-1351.632 total time=   1.1s\n",
      "[CV 3/3] END learning_rate=0.1, n_estimators=100, num_leaves=100;, score=-1337.746 total time=   1.0s\n",
      "[CV 1/3] END learning_rate=0.1, n_estimators=100, num_leaves=200;, score=-1333.586 total time=   1.3s\n",
      "[CV 2/3] END learning_rate=0.1, n_estimators=100, num_leaves=200;, score=-1332.292 total time=   1.4s\n",
      "[CV 3/3] END learning_rate=0.1, n_estimators=100, num_leaves=200;, score=-1319.637 total time=   1.5s\n",
      "[CV 1/3] END learning_rate=0.1, n_estimators=500, num_leaves=31;, score=-1340.826 total time=   3.4s\n",
      "[CV 2/3] END learning_rate=0.1, n_estimators=500, num_leaves=31;, score=-1344.681 total time=   2.6s\n",
      "[CV 3/3] END learning_rate=0.1, n_estimators=500, num_leaves=31;, score=-1328.013 total time=   2.1s\n",
      "[CV 1/3] END learning_rate=0.1, n_estimators=500, num_leaves=100;, score=-1322.961 total time=   3.4s\n",
      "[CV 2/3] END learning_rate=0.1, n_estimators=500, num_leaves=100;, score=-1324.904 total time=   3.2s\n",
      "[CV 3/3] END learning_rate=0.1, n_estimators=500, num_leaves=100;, score=-1309.432 total time=   4.8s\n",
      "[CV 1/3] END learning_rate=0.1, n_estimators=500, num_leaves=200;, score=-1320.845 total time=   6.0s\n",
      "[CV 2/3] END learning_rate=0.1, n_estimators=500, num_leaves=200;, score=-1322.498 total time=   5.3s\n",
      "[CV 3/3] END learning_rate=0.1, n_estimators=500, num_leaves=200;, score=-1306.498 total time=   7.2s\n",
      "[CV 1/3] END learning_rate=0.1, n_estimators=1000, num_leaves=31;, score=-1329.164 total time=   4.0s\n",
      "[CV 2/3] END learning_rate=0.1, n_estimators=1000, num_leaves=31;, score=-1332.789 total time=   3.6s\n",
      "[CV 3/3] END learning_rate=0.1, n_estimators=1000, num_leaves=31;, score=-1315.233 total time=   4.9s\n",
      "[CV 1/3] END learning_rate=0.1, n_estimators=1000, num_leaves=100;, score=-1321.724 total time=   7.1s\n",
      "[CV 2/3] END learning_rate=0.1, n_estimators=1000, num_leaves=100;, score=-1325.738 total time=   6.4s\n",
      "[CV 3/3] END learning_rate=0.1, n_estimators=1000, num_leaves=100;, score=-1308.406 total time=   8.4s\n",
      "[CV 1/3] END learning_rate=0.1, n_estimators=1000, num_leaves=200;, score=-1326.559 total time=  12.6s\n",
      "[CV 2/3] END learning_rate=0.1, n_estimators=1000, num_leaves=200;, score=-1331.052 total time=   9.9s\n",
      "[CV 3/3] END learning_rate=0.1, n_estimators=1000, num_leaves=200;, score=-1313.139 total time=  11.9s\n",
      "[CV 1/3] END learning_rate=0.3, n_estimators=100, num_leaves=31;, score=-1377.532 total time=   0.5s\n",
      "[CV 2/3] END learning_rate=0.3, n_estimators=100, num_leaves=31;, score=-1372.781 total time=   0.5s\n",
      "[CV 3/3] END learning_rate=0.3, n_estimators=100, num_leaves=31;, score=-1364.410 total time=   0.4s\n",
      "[CV 1/3] END learning_rate=0.3, n_estimators=100, num_leaves=100;, score=-1351.330 total time=   0.7s\n",
      "[CV 2/3] END learning_rate=0.3, n_estimators=100, num_leaves=100;, score=-1348.873 total time=   0.7s\n",
      "[CV 3/3] END learning_rate=0.3, n_estimators=100, num_leaves=100;, score=-1334.546 total time=   1.2s\n",
      "[CV 1/3] END learning_rate=0.3, n_estimators=100, num_leaves=200;, score=-1347.606 total time=   1.9s\n",
      "[CV 2/3] END learning_rate=0.3, n_estimators=100, num_leaves=200;, score=-1343.474 total time=   1.7s\n",
      "[CV 3/3] END learning_rate=0.3, n_estimators=100, num_leaves=200;, score=-1327.944 total time=   1.1s\n",
      "[CV 1/3] END learning_rate=0.3, n_estimators=500, num_leaves=31;, score=-1345.272 total time=   1.7s\n",
      "[CV 2/3] END learning_rate=0.3, n_estimators=500, num_leaves=31;, score=-1342.948 total time=   1.7s\n",
      "[CV 3/3] END learning_rate=0.3, n_estimators=500, num_leaves=31;, score=-1332.590 total time=   1.7s\n",
      "[CV 1/3] END learning_rate=0.3, n_estimators=500, num_leaves=100;, score=-1344.809 total time=   2.8s\n",
      "[CV 2/3] END learning_rate=0.3, n_estimators=500, num_leaves=100;, score=-1346.138 total time=   3.5s\n",
      "[CV 3/3] END learning_rate=0.3, n_estimators=500, num_leaves=100;, score=-1330.344 total time=   4.2s\n",
      "[CV 1/3] END learning_rate=0.3, n_estimators=500, num_leaves=200;, score=-1362.908 total time=   5.0s\n",
      "[CV 2/3] END learning_rate=0.3, n_estimators=500, num_leaves=200;, score=-1360.753 total time=   4.7s\n",
      "[CV 3/3] END learning_rate=0.3, n_estimators=500, num_leaves=200;, score=-1341.405 total time=   6.7s\n",
      "[CV 1/3] END learning_rate=0.3, n_estimators=1000, num_leaves=31;, score=-1344.878 total time=   3.3s\n",
      "[CV 2/3] END learning_rate=0.3, n_estimators=1000, num_leaves=31;, score=-1342.881 total time=   3.0s\n",
      "[CV 3/3] END learning_rate=0.3, n_estimators=1000, num_leaves=31;, score=-1328.233 total time=   3.3s\n",
      "[CV 1/3] END learning_rate=0.3, n_estimators=1000, num_leaves=100;, score=-1356.837 total time=   7.7s\n",
      "[CV 2/3] END learning_rate=0.3, n_estimators=1000, num_leaves=100;, score=-1360.468 total time=   5.9s\n",
      "[CV 3/3] END learning_rate=0.3, n_estimators=1000, num_leaves=100;, score=-1341.254 total time=   8.0s\n",
      "[CV 1/3] END learning_rate=0.3, n_estimators=1000, num_leaves=200;, score=-1381.274 total time=   9.4s\n",
      "[CV 2/3] END learning_rate=0.3, n_estimators=1000, num_leaves=200;, score=-1383.424 total time=  11.3s\n",
      "[CV 3/3] END learning_rate=0.3, n_estimators=1000, num_leaves=200;, score=-1361.677 total time=  11.4s\n",
      "[CV 1/3] END learning_rate=0.5, n_estimators=100, num_leaves=31;, score=-1386.330 total time=   0.5s\n",
      "[CV 2/3] END learning_rate=0.5, n_estimators=100, num_leaves=31;, score=-1387.960 total time=   0.4s\n",
      "[CV 3/3] END learning_rate=0.5, n_estimators=100, num_leaves=31;, score=-1370.941 total time=   0.5s\n",
      "[CV 1/3] END learning_rate=0.5, n_estimators=100, num_leaves=100;, score=-1370.398 total time=   0.7s\n",
      "[CV 2/3] END learning_rate=0.5, n_estimators=100, num_leaves=100;, score=-1378.288 total time=   0.6s\n",
      "[CV 3/3] END learning_rate=0.5, n_estimators=100, num_leaves=100;, score=-1359.436 total time=   0.7s\n",
      "[CV 1/3] END learning_rate=0.5, n_estimators=100, num_leaves=200;, score=-1375.048 total time=   1.0s\n",
      "[CV 2/3] END learning_rate=0.5, n_estimators=100, num_leaves=200;, score=-1371.014 total time=   1.1s\n",
      "[CV 3/3] END learning_rate=0.5, n_estimators=100, num_leaves=200;, score=-1354.365 total time=   1.0s\n",
      "[CV 1/3] END learning_rate=0.5, n_estimators=500, num_leaves=31;, score=-1365.042 total time=   1.7s\n",
      "[CV 2/3] END learning_rate=0.5, n_estimators=500, num_leaves=31;, score=-1373.700 total time=   2.8s\n",
      "[CV 3/3] END learning_rate=0.5, n_estimators=500, num_leaves=31;, score=-1352.881 total time=   2.3s\n",
      "[CV 1/3] END learning_rate=0.5, n_estimators=500, num_leaves=100;, score=-1378.841 total time=   2.9s\n",
      "[CV 2/3] END learning_rate=0.5, n_estimators=500, num_leaves=100;, score=-1391.827 total time=   3.1s\n",
      "[CV 3/3] END learning_rate=0.5, n_estimators=500, num_leaves=100;, score=-1369.186 total time=   2.7s\n",
      "[CV 1/3] END learning_rate=0.5, n_estimators=500, num_leaves=200;, score=-1403.771 total time=   6.6s\n",
      "[CV 2/3] END learning_rate=0.5, n_estimators=500, num_leaves=200;, score=-1406.554 total time=   4.7s\n",
      "[CV 3/3] END learning_rate=0.5, n_estimators=500, num_leaves=200;, score=-1382.042 total time=   4.9s\n",
      "[CV 1/3] END learning_rate=0.5, n_estimators=1000, num_leaves=31;, score=-1367.345 total time=   5.5s\n",
      "[CV 2/3] END learning_rate=0.5, n_estimators=1000, num_leaves=31;, score=-1380.211 total time=   3.4s\n",
      "[CV 3/3] END learning_rate=0.5, n_estimators=1000, num_leaves=31;, score=-1354.686 total time=   3.4s\n",
      "[CV 1/3] END learning_rate=0.5, n_estimators=1000, num_leaves=100;, score=-1396.832 total time=   6.2s\n",
      "[CV 2/3] END learning_rate=0.5, n_estimators=1000, num_leaves=100;, score=-1412.632 total time=   7.8s\n",
      "[CV 3/3] END learning_rate=0.5, n_estimators=1000, num_leaves=100;, score=-1386.761 total time=   5.9s\n",
      "[CV 1/3] END learning_rate=0.5, n_estimators=1000, num_leaves=200;, score=-1429.248 total time=  11.4s\n",
      "[CV 2/3] END learning_rate=0.5, n_estimators=1000, num_leaves=200;, score=-1433.764 total time=  11.7s\n",
      "[CV 3/3] END learning_rate=0.5, n_estimators=1000, num_leaves=200;, score=-1406.728 total time=  10.3s\n",
      "\u001b[1mМодель \"LightGBM Regressor\"\u001b[0m\n",
      "\u001b[1mRMSE:\u001b[0m 1316.6135631106984\n",
      "Лучшие параметры для Cat Boost Regressor:\n",
      " {'learning_rate': 0.1, 'n_estimators': 500, 'num_leaves': 200}\n",
      "==============================\n",
      "CPU times: total: 39min 21s\n",
      "Wall time: 5min 38s\n"
     ]
    }
   ],
   "source": [
    "%%time\n",
    "# подберем лучшие параметры для модели LGBMRegressor\n",
    "grid_lgb = GridSearchCV(estimator=model_lgb,\n",
    "                          param_grid=parameters_lgb,\n",
    "                          scoring='neg_root_mean_squared_error',\n",
    "                          cv=3,\n",
    "                          verbose=3)\n",
    "\n",
    "grid_lgb.fit(X_train_lgb, y_train)\n",
    "rmse_lgb = grid_lgb.best_score_* -1\n",
    "print('\\033[1m'+ 'Модель \"LightGBM Regressor\"'+'\\033[0m')\n",
    "print('\\033[1m'+'RMSE:'+'\\033[0m', rmse_lgb)\n",
    "print(\"Лучшие параметры для Cat Boost Regressor:\\n\", grid_lgb.best_params_)\n",
    "print('='*30)"
   ]
  },
  {
   "cell_type": "markdown",
   "id": "edeccb7d-e6a7-4196-ad2d-5d97941f07f1",
   "metadata": {
    "tags": []
   },
   "source": [
    "## 3. Сравнение моделей"
   ]
  },
  {
   "cell_type": "markdown",
   "id": "7bce62bf-de08-465e-bf62-89a533989020",
   "metadata": {
    "tags": []
   },
   "source": [
    "### 3.1 Сравним RMSE моделей на обучающей выборке"
   ]
  },
  {
   "cell_type": "code",
   "execution_count": 86,
   "id": "ad0bbb68-6d9e-402f-877e-47bb3f4771af",
   "metadata": {
    "tags": []
   },
   "outputs": [
    {
     "data": {
      "text/html": [
       "<div>\n",
       "<style scoped>\n",
       "    .dataframe tbody tr th:only-of-type {\n",
       "        vertical-align: middle;\n",
       "    }\n",
       "\n",
       "    .dataframe tbody tr th {\n",
       "        vertical-align: top;\n",
       "    }\n",
       "\n",
       "    .dataframe thead th {\n",
       "        text-align: right;\n",
       "    }\n",
       "</style>\n",
       "<table border=\"1\" class=\"dataframe\">\n",
       "  <thead>\n",
       "    <tr style=\"text-align: right;\">\n",
       "      <th></th>\n",
       "      <th>RMSE на обучающей выборке</th>\n",
       "    </tr>\n",
       "  </thead>\n",
       "  <tbody>\n",
       "    <tr>\n",
       "      <th>LinearRegression</th>\n",
       "      <td>2276.208924</td>\n",
       "    </tr>\n",
       "    <tr>\n",
       "      <th>RandomForestRegressor</th>\n",
       "      <td>1486.870132</td>\n",
       "    </tr>\n",
       "    <tr>\n",
       "      <th>CatBoostRegressor</th>\n",
       "      <td>1394.865711</td>\n",
       "    </tr>\n",
       "    <tr>\n",
       "      <th>LightGBMRegressor</th>\n",
       "      <td>1316.613563</td>\n",
       "    </tr>\n",
       "  </tbody>\n",
       "</table>\n",
       "</div>"
      ],
      "text/plain": [
       "                       RMSE на обучающей выборке\n",
       "LinearRegression                     2276.208924\n",
       "RandomForestRegressor                1486.870132\n",
       "CatBoostRegressor                    1394.865711\n",
       "LightGBMRegressor                    1316.613563"
      ]
     },
     "execution_count": 86,
     "metadata": {},
     "output_type": "execute_result"
    }
   ],
   "source": [
    "# таблица RMSE моделей на обучающей выборке\n",
    "index_result =['LinearRegression', 'RandomForestRegressor', 'CatBoostRegressor', 'LightGBMRegressor']\n",
    "data_result = {'RMSE на обучающей выборке':[rmse_lr, rmse_rf, rmse_cbr, rmse_lgb]}\n",
    "\n",
    "result = pd.DataFrame(data=data_result, index=index_result)\n",
    "result"
   ]
  },
  {
   "cell_type": "markdown",
   "id": "93c19333-35ef-418c-9803-4b2eafe221da",
   "metadata": {},
   "source": [
    "### Выводы"
   ]
  },
  {
   "cell_type": "markdown",
   "id": "c5945019-4b32-4e1a-86c3-0712d4f0ba5b",
   "metadata": {},
   "source": [
    "1. Самое быстрый подбор параметров у модели LinearRegression, но у неё и худший RMSE (хотя и < 2500, что в пределах ТЗ).\n",
    "2. Самый долгий подбор параметров у модели RandomForestRegressor - 12 мин, при этом показатель RMSE примерно в 1,5 раза лучше, чем у LinearRegression.\n",
    "3. Для модели CatBoostRegressor подбор парметров составил недолгие 2,5 минуты, что в 2,5 раз быстрее, чем LightGBMRegressor - 6,5 минут, а RMSE - 1394.\n",
    "4. Лучший паказатель RMSE на обучающей выборке у модели LightGBMRegressor - 1316."
   ]
  },
  {
   "cell_type": "markdown",
   "id": "8f8e2733-ff39-42d6-b495-1bdd1f726d85",
   "metadata": {
    "tags": []
   },
   "source": [
    "### 3.2 Сравним RMSE моделей на тестовой выборке "
   ]
  },
  {
   "cell_type": "markdown",
   "id": "6c12f6b8-d2ce-437f-9ecc-b6f8ec18f844",
   "metadata": {},
   "source": [
    "#### Модель \"Linear Regression\""
   ]
  },
  {
   "cell_type": "code",
   "execution_count": 87,
   "id": "13afb70a-36cd-4c1c-ae71-4e340e22c8c4",
   "metadata": {},
   "outputs": [
    {
     "name": "stdout",
     "output_type": "stream",
     "text": [
      "CPU times: total: 4.91 s\n",
      "Wall time: 4.93 s\n"
     ]
    },
    {
     "data": {
      "text/plain": [
       "Pipeline(steps=[('columntransformer',\n",
       "                 ColumnTransformer(remainder='passthrough',\n",
       "                                   transformers=[('standardscaler',\n",
       "                                                  StandardScaler(),\n",
       "                                                  Index(['registration_year', 'power', 'kilometer'], dtype='object')),\n",
       "                                                 ('onehotencoder',\n",
       "                                                  OneHotEncoder(drop='first',\n",
       "                                                                handle_unknown='ignore'),\n",
       "                                                  Index(['vehicle_type', 'gearbox', 'model', 'fuel_type', 'brand', 'repaired'], dtype='object'))],\n",
       "                                   verbose_feature_names_out=False)),\n",
       "                ('linearregression', LinearRegression())])"
      ]
     },
     "execution_count": 87,
     "metadata": {},
     "output_type": "execute_result"
    }
   ],
   "source": [
    "%%time\n",
    "# найдем время обучения модели\n",
    "model_lr.fit(X_train_lr, y_train)"
   ]
  },
  {
   "cell_type": "code",
   "execution_count": 88,
   "id": "57d6dfe2-771a-454a-a3ff-6bd3ef45a18e",
   "metadata": {},
   "outputs": [
    {
     "name": "stdout",
     "output_type": "stream",
     "text": [
      "\u001b[1mМодель \"Linear Regression\"\u001b[0m\n",
      "\u001b[1mRMSE на тестовой выборке:\u001b[0m 2257.456476600245\n",
      "============================================================\n",
      "CPU times: total: 93.8 ms\n",
      "Wall time: 107 ms\n"
     ]
    }
   ],
   "source": [
    "%%time\n",
    "# получим предсказания для Линейной регрессии на тестовой выборке  \n",
    "predict_test_lr = model_lr.predict(X_test_lr)\n",
    "# найдем RMSE\n",
    "test_rmse_lr = mean_squared_error(y_test, predict_test_lr, squared=False)\n",
    "\n",
    "print('\\033[1m'+ 'Модель \"Linear Regression\"'+'\\033[0m')\n",
    "print('\\033[1m'+'RMSE на тестовой выборке:'+'\\033[0m', test_rmse_lr)\n",
    "print('='*60)"
   ]
  },
  {
   "cell_type": "markdown",
   "id": "06fb8d6a-4adf-4026-bb88-12fe69471b7e",
   "metadata": {},
   "source": [
    "#### Модель \"Random Forest Regressor\""
   ]
  },
  {
   "cell_type": "code",
   "execution_count": 89,
   "id": "88975d71-434a-42a8-82f7-4360864943f3",
   "metadata": {},
   "outputs": [
    {
     "name": "stdout",
     "output_type": "stream",
     "text": [
      "CPU times: total: 1min 12s\n",
      "Wall time: 1min 12s\n"
     ]
    },
    {
     "data": {
      "text/plain": [
       "Pipeline(steps=[('columntransformer',\n",
       "                 ColumnTransformer(remainder='passthrough',\n",
       "                                   transformers=[('standardscaler',\n",
       "                                                  StandardScaler(),\n",
       "                                                  Index(['registration_year', 'power', 'kilometer'], dtype='object')),\n",
       "                                                 ('ordinalencoder',\n",
       "                                                  OrdinalEncoder(handle_unknown='use_encoded_value',\n",
       "                                                                 unknown_value=-1),\n",
       "                                                  Index(['vehicle_type', 'gearbox', 'model', 'fuel_type', 'brand', 'repaired'], dtype='object'))],\n",
       "                                   verbose_feature_names_out=False)),\n",
       "                ('randomforestregressor',\n",
       "                 RandomForestRegressor(max_depth=12, min_samples_leaf=3,\n",
       "                                       min_samples_split=4, n_estimators=250,\n",
       "                                       random_state=42))])"
      ]
     },
     "execution_count": 89,
     "metadata": {},
     "output_type": "execute_result"
    }
   ],
   "source": [
    "%%time\n",
    "# создадим и обучим модель с лучшими параметрами\n",
    "model_rf = make_pipeline(\n",
    "    transformer_rf,\n",
    "    RandomForestRegressor(\n",
    "        random_state=RANDOM_STATE, \n",
    "        n_estimators=250, max_depth=12, \n",
    "        min_samples_split=4, \n",
    "        min_samples_leaf=3\n",
    "    )\n",
    ")\n",
    "\n",
    "# найдем время обучения модели с лучшими параметрами\n",
    "model_rf.fit(X_train_rf, y_train)"
   ]
  },
  {
   "cell_type": "code",
   "execution_count": 90,
   "id": "a41593f3-d298-4ff0-9057-7a794f3efe63",
   "metadata": {},
   "outputs": [
    {
     "name": "stdout",
     "output_type": "stream",
     "text": [
      "\u001b[1mМодель \"Random Forest Regressor\"\u001b[0m\n",
      "\u001b[1mRMSE на тестовой выборке:\u001b[0m 1488.5935328744272\n",
      "============================================================\n",
      "CPU times: total: 2.25 s\n",
      "Wall time: 2.23 s\n"
     ]
    }
   ],
   "source": [
    "%%time\n",
    "# получим предсказания для Регрессии Случайного Леса на тестовой выборке  \n",
    "predict_test_rf = model_rf.predict(X_test_rf)\n",
    "\n",
    "# найдем RMSE\n",
    "test_rmse_rf = mean_squared_error(y_test, predict_test_rf, squared=False)\n",
    "print('\\033[1m'+ 'Модель \"Random Forest Regressor\"'+'\\033[0m')\n",
    "print('\\033[1m'+'RMSE на тестовой выборке:'+'\\033[0m', test_rmse_rf)\n",
    "print('='*60)"
   ]
  },
  {
   "cell_type": "markdown",
   "id": "f068a287-ff7f-43cf-b596-35db7a9d314a",
   "metadata": {},
   "source": [
    "#### Модель \"Cat Boost Regressor\""
   ]
  },
  {
   "cell_type": "code",
   "execution_count": 91,
   "id": "e53fcaaf-bb26-4fe1-9538-099f7f830f7d",
   "metadata": {},
   "outputs": [
    {
     "name": "stdout",
     "output_type": "stream",
     "text": [
      "CPU times: total: 58.5 s\n",
      "Wall time: 11.6 s\n"
     ]
    },
    {
     "data": {
      "text/plain": [
       "<catboost.core.CatBoostRegressor at 0x292864a6d90>"
      ]
     },
     "execution_count": 91,
     "metadata": {},
     "output_type": "execute_result"
    }
   ],
   "source": [
    "%%time\n",
    "# создадим и обучим модель с лучшими параметрами, передадим ей категориальные признаки\n",
    "best_model_cbr = CatBoostRegressor(random_state=RANDOM_STATE,\n",
    "                                   depth=10,\n",
    "                                   iterations=100,\n",
    "                                   learning_rate=0.5,\n",
    "                                   verbose=False,\n",
    "                                   cat_features=['vehicle_type', 'gearbox', 'fuel_type', 'brand', 'model', 'repaired']\n",
    "                                  )\n",
    "best_model_cbr.fit(X_train_cbr, y_train)"
   ]
  },
  {
   "cell_type": "code",
   "execution_count": 92,
   "id": "f0e5c83c-d226-4486-9cb4-f8de681d69dd",
   "metadata": {},
   "outputs": [
    {
     "name": "stdout",
     "output_type": "stream",
     "text": [
      "\u001b[1mМодель \"Cat Boost Regressor\"\u001b[0m\n",
      "\u001b[1mRMSE на тестовой выборке:\u001b[0m 1367.159333038923\n",
      "============================================================\n",
      "CPU times: total: 562 ms\n",
      "Wall time: 239 ms\n"
     ]
    }
   ],
   "source": [
    "%%time\n",
    "# получим предсказания для CatBoostRegressor на тестовой выборке  \n",
    "predict_test_cbr = best_model_cbr.predict(X_test_cbr)\n",
    "\n",
    "# найдем RMSE\n",
    "test_rmse_cbr = mean_squared_error(y_test, predict_test_cbr, squared=False)\n",
    "print('\\033[1m'+ 'Модель \"Cat Boost Regressor\"'+'\\033[0m')\n",
    "print('\\033[1m'+'RMSE на тестовой выборке:'+'\\033[0m', test_rmse_cbr)\n",
    "print('='*60)"
   ]
  },
  {
   "cell_type": "markdown",
   "id": "e6590416-303f-4bc8-9acb-e802790ea3a9",
   "metadata": {},
   "source": [
    "#### Модель \"LightGBM Regressor\""
   ]
  },
  {
   "cell_type": "code",
   "execution_count": 93,
   "id": "3078a4c1-03d4-4739-96ad-82bd98de2d1d",
   "metadata": {},
   "outputs": [],
   "source": [
    "# изменим тип категориальных признаков с object на category для LightGBM в тестовой выбрке\n",
    "for i in X_test_lgb.columns:\n",
    "    column_type = X_test_lgb[i].dtype\n",
    "    if column_type == 'object':\n",
    "        X_test_lgb[i] = X_test_lgb[i].astype('category')"
   ]
  },
  {
   "cell_type": "code",
   "execution_count": 94,
   "id": "ba084f03-b8c6-448b-b526-39cbd6c7d2eb",
   "metadata": {},
   "outputs": [
    {
     "name": "stdout",
     "output_type": "stream",
     "text": [
      "CPU times: total: 25 s\n",
      "Wall time: 3.42 s\n"
     ]
    },
    {
     "data": {
      "text/plain": [
       "LGBMRegressor(n_estimators=500, num_leaves=200, random_state=42)"
      ]
     },
     "execution_count": 94,
     "metadata": {},
     "output_type": "execute_result"
    }
   ],
   "source": [
    "%%time\n",
    "# создадим модель и обучим с лучшими параметрами \n",
    "best_model_lgb = lgb.LGBMRegressor(random_state=RANDOM_STATE,\n",
    "                              learning_rate=0.1,\n",
    "                              n_estimators=500,\n",
    "                              num_leaves=200\n",
    "                             )\n",
    "best_model_lgb.fit(X_train_lgb, y_train)"
   ]
  },
  {
   "cell_type": "code",
   "execution_count": 95,
   "id": "3be605e7-99df-4606-8e5a-fa7c395d3382",
   "metadata": {},
   "outputs": [
    {
     "name": "stdout",
     "output_type": "stream",
     "text": [
      "\u001b[1mМодель \"Cat Boost Regressor\"\u001b[0m\n",
      "\u001b[1mRMSE на тестовой выборке:\u001b[0m 1297.8814671871799\n",
      "============================================================\n",
      "CPU times: total: 4.59 s\n",
      "Wall time: 636 ms\n"
     ]
    }
   ],
   "source": [
    "%%time\n",
    "# получим предсказания для для LightGBM на тестовой выбрке\n",
    "predict_test_lgb = best_model_lgb.predict(X_test_lgb)\n",
    "\n",
    "# найдем RMSE\n",
    "test_rmse_lgb = mean_squared_error(y_test, predict_test_lgb, squared=False)\n",
    "print('\\033[1m'+ 'Модель \"Cat Boost Regressor\"'+'\\033[0m')\n",
    "print('\\033[1m'+'RMSE на тестовой выборке:'+'\\033[0m', test_rmse_lgb)\n",
    "print('='*60)"
   ]
  },
  {
   "cell_type": "markdown",
   "id": "d12e27f1-f7e7-42ff-9526-6f036a18bcf7",
   "metadata": {
    "tags": []
   },
   "source": [
    "## 4. Выбор лучшей модели"
   ]
  },
  {
   "cell_type": "code",
   "execution_count": 96,
   "id": "cfc06d88-9a4f-465f-878d-4a1272405a28",
   "metadata": {},
   "outputs": [
    {
     "data": {
      "text/html": [
       "<div>\n",
       "<style scoped>\n",
       "    .dataframe tbody tr th:only-of-type {\n",
       "        vertical-align: middle;\n",
       "    }\n",
       "\n",
       "    .dataframe tbody tr th {\n",
       "        vertical-align: top;\n",
       "    }\n",
       "\n",
       "    .dataframe thead th {\n",
       "        text-align: right;\n",
       "    }\n",
       "</style>\n",
       "<table border=\"1\" class=\"dataframe\">\n",
       "  <thead>\n",
       "    <tr style=\"text-align: right;\">\n",
       "      <th></th>\n",
       "      <th>RMSE на обучающей выборке</th>\n",
       "      <th>Подбор параметров, сек</th>\n",
       "      <th>RMSE на тестовой выборке</th>\n",
       "      <th>Время обучения, сек</th>\n",
       "      <th>Время предсказания, мсек</th>\n",
       "    </tr>\n",
       "  </thead>\n",
       "  <tbody>\n",
       "    <tr>\n",
       "      <th>LinearRegression</th>\n",
       "      <td>2276.208924</td>\n",
       "      <td>24.9</td>\n",
       "      <td>2257.456477</td>\n",
       "      <td>4.40</td>\n",
       "      <td>150</td>\n",
       "    </tr>\n",
       "    <tr>\n",
       "      <th>RandomForestRegressor</th>\n",
       "      <td>1486.870132</td>\n",
       "      <td>738.0</td>\n",
       "      <td>1488.593533</td>\n",
       "      <td>81.00</td>\n",
       "      <td>2560</td>\n",
       "    </tr>\n",
       "    <tr>\n",
       "      <th>CatBoostRegressor</th>\n",
       "      <td>1394.865711</td>\n",
       "      <td>142.0</td>\n",
       "      <td>1367.159333</td>\n",
       "      <td>16.20</td>\n",
       "      <td>275</td>\n",
       "    </tr>\n",
       "    <tr>\n",
       "      <th>LightGBMRegressor</th>\n",
       "      <td>1316.613563</td>\n",
       "      <td>385.0</td>\n",
       "      <td>1297.881467</td>\n",
       "      <td>4.49</td>\n",
       "      <td>811</td>\n",
       "    </tr>\n",
       "  </tbody>\n",
       "</table>\n",
       "</div>"
      ],
      "text/plain": [
       "                       RMSE на обучающей выборке  Подбор параметров, сек  \\\n",
       "LinearRegression                     2276.208924                    24.9   \n",
       "RandomForestRegressor                1486.870132                   738.0   \n",
       "CatBoostRegressor                    1394.865711                   142.0   \n",
       "LightGBMRegressor                    1316.613563                   385.0   \n",
       "\n",
       "                       RMSE на тестовой выборке  Время обучения, сек  \\\n",
       "LinearRegression                    2257.456477                 4.40   \n",
       "RandomForestRegressor               1488.593533                81.00   \n",
       "CatBoostRegressor                   1367.159333                16.20   \n",
       "LightGBMRegressor                   1297.881467                 4.49   \n",
       "\n",
       "                       Время предсказания, мсек  \n",
       "LinearRegression                            150  \n",
       "RandomForestRegressor                      2560  \n",
       "CatBoostRegressor                           275  \n",
       "LightGBMRegressor                           811  "
      ]
     },
     "execution_count": 96,
     "metadata": {},
     "output_type": "execute_result"
    }
   ],
   "source": [
    "index=['LinearRegression', 'RandomForestRegressor', 'CatBoostRegressor', 'LightGBMRegressor']\n",
    "data = {'RMSE на обучающей выборке':[rmse_lr, rmse_rf, rmse_cbr, rmse_lgb],\n",
    "        'Подбор параметров, сек':[24.9, 738, 142, 385],\n",
    "        'RMSE на тестовой выборке':[test_rmse_lr, test_rmse_rf, test_rmse_cbr, test_rmse_lgb],\n",
    "        'Время обучения, сек':[4.4, 81, 16.2, 4.49],\n",
    "        'Время предсказания, мсек':[150, 2560, 275, 811]}\n",
    "\n",
    "final_result = pd.DataFrame(data=data, index=index)\n",
    "final_result"
   ]
  },
  {
   "cell_type": "markdown",
   "id": "ba2efe00-7631-47c1-8377-7c4d3a530113",
   "metadata": {
    "tags": []
   },
   "source": [
    "### Вывод"
   ]
  },
  {
   "cell_type": "markdown",
   "id": "c129ec62-a8c6-43f6-94c8-e1d9ffb07f13",
   "metadata": {
    "jp-MarkdownHeadingCollapsed": true,
    "tags": []
   },
   "source": [
    "Главными критериями выбора модели для заказчика являются:\n",
    "- качество предсказания, RMSE должно быть меньше 2500\n",
    "- скорость предсказания\n",
    "- время обучения\n",
    "\n",
    "1. Все модели на тестовой выборке показали результат RMSE < 2500, лучшие модели:\n",
    "- LightGBMRegressor        RMSE = 1297\n",
    "- CatBoostRegressor        RMSE = 1367 \n",
    "- RandomForestRegressor    RMSE = 1488 \n",
    "\n",
    "2. Лучшие модели по скорости предсказания, мсек:\n",
    "- LinearRegression      - 150         \n",
    "- CatBoostRegressor     - 275          \n",
    "- LightGBMRegressor     - 811          \n",
    "\n",
    "3. Лучшие модели по скорости обучения, сек:\n",
    "- LinearRegression    - 4,40         \n",
    "- LightGBMRegressor   - 4,49         \n",
    "- CatBoostRegressor   - 16,20          \n",
    "\n",
    "\n",
    "Модель LinearRegression хотя и самая быстрая, но по точности предсказаний  сильно уступает остальным моделям. \n",
    "\n",
    "Модль RandomForestRegressor - по точности лучше LinearRegression, но довольно медленная.\n",
    "\n",
    "Модель LightGBMRegressor далает самые точные предсказания, но уступает в скорости предсказания CatBoostRegressor - почти в 4 раза. но при этом в 4 раза быстрее учится.\n",
    "\n",
    "Исходя из этого заказчику можно предложить **модель LightGBMRegressor** - первое место по точности и второе по скорости обучения, третье - по скорости предсказания."
   ]
  },
  {
   "cell_type": "markdown",
   "id": "6098002a-5918-493b-a172-ba3cd8c446c4",
   "metadata": {},
   "source": [
    "## Вывод "
   ]
  },
  {
   "cell_type": "markdown",
   "id": "57cedca3-72a4-4e99-a4e2-37885bd9b0f7",
   "metadata": {},
   "source": [
    "1. Загруженны и изученный исходные данные.\n",
    "2. Проведена первичная обработка, заполнение пропусков и удаление аномалий.\n",
    "3. Данные подготовлены к обучению, разделные на выборки.\n",
    "4. Были изучены четыре модели, подобраны гиперпараметры на обучающей выборке.\n",
    "5. Окончательная проверка моделей проведена на тестовой выборке.\n",
    "6. Выбрана лучшая по точности и скорости предсказания модель - **LightGBMRegressor**"
   ]
  }
 ],
 "metadata": {
  "kernelspec": {
   "display_name": "Python 3 (ipykernel)",
   "language": "python",
   "name": "python3"
  },
  "language_info": {
   "codemirror_mode": {
    "name": "ipython",
    "version": 3
   },
   "file_extension": ".py",
   "mimetype": "text/x-python",
   "name": "python",
   "nbconvert_exporter": "python",
   "pygments_lexer": "ipython3",
   "version": "3.9.12"
  },
  "toc": {
   "base_numbering": 1,
   "nav_menu": {},
   "number_sections": true,
   "sideBar": true,
   "skip_h1_title": true,
   "title_cell": "Table of Contents",
   "title_sidebar": "Contents",
   "toc_cell": false,
   "toc_position": {},
   "toc_section_display": true,
   "toc_window_display": false
  },
  "toc-autonumbering": false
 },
 "nbformat": 4,
 "nbformat_minor": 5
}

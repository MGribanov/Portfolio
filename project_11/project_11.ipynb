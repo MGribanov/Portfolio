{
 "cells": [
  {
   "cell_type": "markdown",
   "metadata": {
    "jp-MarkdownHeadingCollapsed": true,
    "tags": [],
    "toc": true
   },
   "source": [
    "<h1>Содержание<span class=\"tocSkip\"></span></h1>\n",
    "<div class=\"toc\"><ul class=\"toc-item\"><li><span><a href=\"#Задача\" data-toc-modified-id=\"Задача-1\"><span class=\"toc-item-num\">1&nbsp;&nbsp;</span>Задача</a></span></li><li><span><a href=\"#1.-Загрузка-данных\" data-toc-modified-id=\"1.-Загрузка-данных-2\"><span class=\"toc-item-num\">2&nbsp;&nbsp;</span>1. Загрузка данных</a></span><ul class=\"toc-item\"><li><ul class=\"toc-item\"><li><span><a href=\"#Описание-данных\" data-toc-modified-id=\"Описание-данных-2.0.1\"><span class=\"toc-item-num\">2.0.1&nbsp;&nbsp;</span>Описание данных</a></span></li></ul></li><li><span><a href=\"#1.2-Изучим-данные-в-таблице\" data-toc-modified-id=\"1.2-Изучим-данные-в-таблице-2.1\"><span class=\"toc-item-num\">2.1&nbsp;&nbsp;</span>1.2 Изучим данные в таблице</a></span></li><li><span><a href=\"#1.3-Построим-гистограммы\" data-toc-modified-id=\"1.3-Построим-гистограммы-2.2\"><span class=\"toc-item-num\">2.2&nbsp;&nbsp;</span>1.3 Построим гистограммы</a></span></li><li><span><a href=\"#1.4-Выводы\" data-toc-modified-id=\"1.4-Выводы-2.3\"><span class=\"toc-item-num\">2.3&nbsp;&nbsp;</span>1.4 Выводы</a></span></li></ul></li><li><span><a href=\"#2.-Умножение-матриц\" data-toc-modified-id=\"2.-Умножение-матриц-3\"><span class=\"toc-item-num\">3&nbsp;&nbsp;</span>2. Умножение матриц</a></span><ul class=\"toc-item\"><li><span><a href=\"#Вопрос:\" data-toc-modified-id=\"Вопрос:-3.1\"><span class=\"toc-item-num\">3.1&nbsp;&nbsp;</span>Вопрос:</a></span></li><li><span><a href=\"#Ответ:\" data-toc-modified-id=\"Ответ:-3.2\"><span class=\"toc-item-num\">3.2&nbsp;&nbsp;</span>Ответ:</a></span></li><li><span><a href=\"#Обоснование:\" data-toc-modified-id=\"Обоснование:-3.3\"><span class=\"toc-item-num\">3.3&nbsp;&nbsp;</span>Обоснование:</a></span></li><li><span><a href=\"#Обоснование:\" data-toc-modified-id=\"Обоснование:-3.4\"><span class=\"toc-item-num\">3.4&nbsp;&nbsp;</span>Обоснование:</a></span></li></ul></li><li><span><a href=\"#3.-Алгоритм-преобразования\" data-toc-modified-id=\"3.-Алгоритм-преобразования-4\"><span class=\"toc-item-num\">4&nbsp;&nbsp;</span>3. Алгоритм преобразования</a></span><ul class=\"toc-item\"><li><span><a href=\"#3.1-Алгоритм\" data-toc-modified-id=\"3.1-Алгоритм-4.1\"><span class=\"toc-item-num\">4.1&nbsp;&nbsp;</span>3.1 Алгоритм</a></span></li><li><span><a href=\"#3.2-Обоснование\" data-toc-modified-id=\"3.2-Обоснование-4.2\"><span class=\"toc-item-num\">4.2&nbsp;&nbsp;</span>3.2 Обоснование</a></span></li></ul></li><li><span><a href=\"#4.-Проверка-алгоритма\" data-toc-modified-id=\"4.-Проверка-алгоритма-5\"><span class=\"toc-item-num\">5&nbsp;&nbsp;</span>4. Проверка алгоритма</a></span><ul class=\"toc-item\"><li><span><a href=\"#4.1-Выделим-признаки-и-целевой-признак-и-сохраним-их-в-переменных\" data-toc-modified-id=\"4.1-Выделим-признаки-и-целевой-признак-и-сохраним-их-в-переменных-5.1\"><span class=\"toc-item-num\">5.1&nbsp;&nbsp;</span>4.1 Выделим признаки и целевой признак и сохраним их в переменных</a></span></li><li><span><a href=\"#4.2-Создадим-случайную-обратимую-матрицу,-сохраним-её-в-переменной\" data-toc-modified-id=\"4.2-Создадим-случайную-обратимую-матрицу,-сохраним-её-в-переменной-5.2\"><span class=\"toc-item-num\">5.2&nbsp;&nbsp;</span>4.2 Создадим случайную обратимую матрицу, сохраним её в переменной</a></span></li><li><span><a href=\"#4.3-Проверим-матрицу-на-обратимость\" data-toc-modified-id=\"4.3-Проверим-матрицу-на-обратимость-5.3\"><span class=\"toc-item-num\">5.3&nbsp;&nbsp;</span>4.3 Проверим матрицу на обратимость</a></span></li><li><span><a href=\"#4.4-Обучим-модель-на-исходных-данных\" data-toc-modified-id=\"4.4-Обучим-модель-на-исходных-данных-5.4\"><span class=\"toc-item-num\">5.4&nbsp;&nbsp;</span>4.4 Обучим модель на исходных данных</a></span></li><li><span><a href=\"#4.5-Получим-метрику-R2-на-исходных-данных\" data-toc-modified-id=\"4.5-Получим-метрику-R2-на-исходных-данных-5.5\"><span class=\"toc-item-num\">5.5&nbsp;&nbsp;</span>4.5 Получим метрику R2 на исходных данных</a></span></li><li><span><a href=\"#4.6-Изменим-признаки-(умножим-их-на-обратимую-матрицу)\" data-toc-modified-id=\"4.6-Изменим-признаки-(умножим-их-на-обратимую-матрицу)-5.6\"><span class=\"toc-item-num\">5.6&nbsp;&nbsp;</span>4.6 Изменим признаки (умножим их на обратимую матрицу)</a></span></li><li><span><a href=\"#4.7-Обучим-модель-на-измененных-признаках\" data-toc-modified-id=\"4.7-Обучим-модель-на-измененных-признаках-5.7\"><span class=\"toc-item-num\">5.7&nbsp;&nbsp;</span>4.7 Обучим модель на измененных признаках</a></span></li><li><span><a href=\"#4.8-Получим-метрику-R2-для-модели-обученной-на-измененных-признаках\" data-toc-modified-id=\"4.8-Получим-метрику-R2-для-модели-обученной-на-измененных-признаках-5.8\"><span class=\"toc-item-num\">5.8&nbsp;&nbsp;</span>4.8 Получим метрику R2 для модели обученной на измененных признаках</a></span></li><li><span><a href=\"#4.9-Сравним-полученные-метрики-дли-исходных-данных-и-изменененных\" data-toc-modified-id=\"4.9-Сравним-полученные-метрики-дли-исходных-данных-и-изменененных-5.9\"><span class=\"toc-item-num\">5.9&nbsp;&nbsp;</span>4.9 Сравним полученные метрики дли исходных данных и изменененных</a></span></li></ul></li><li><span><a href=\"#5.-Выводы\" data-toc-modified-id=\"5.-Выводы-6\"><span class=\"toc-item-num\">6&nbsp;&nbsp;</span>5. Выводы</a></span></li><li><span><a href=\"#Чек-лист-проверки\" data-toc-modified-id=\"Чек-лист-проверки-7\"><span class=\"toc-item-num\">7&nbsp;&nbsp;</span>Чек-лист проверки</a></span></li></ul></div>"
   ]
  },
  {
   "cell_type": "markdown",
   "metadata": {},
   "source": [
    "# Защита персональных данных клиентов"
   ]
  },
  {
   "cell_type": "markdown",
   "metadata": {},
   "source": [
    "## Задача"
   ]
  },
  {
   "cell_type": "markdown",
   "metadata": {},
   "source": [
    "1. Защитить данные клиентов страховой компании «Хоть потоп».\n",
    "2. Разработать метод преобразования данных, чтобы по ним было сложно восстановить персональную информацию.\n",
    "3. Обосновать корректность его работы.\n",
    "\n",
    "Нужно защитить данные, чтобы при преобразовании качество моделей машинного обучения не ухудшилось. Подбирать наилучшую модель не требуется."
   ]
  },
  {
   "cell_type": "markdown",
   "metadata": {},
   "source": [
    "## 1. Загрузка данных"
   ]
  },
  {
   "cell_type": "code",
   "execution_count": 1,
   "metadata": {},
   "outputs": [],
   "source": [
    "# импорт библиотек\n",
    "import pandas as pd\n",
    "import numpy as np\n",
    "import matplotlib.pyplot as plt\n",
    "\n",
    "# импорт моделей\n",
    "from sklearn.linear_model import LinearRegression\n",
    "\n",
    "# метрики\n",
    "from sklearn.metrics import r2_score\n",
    "\n",
    "# настройки\n",
    "import warnings\n",
    "warnings.filterwarnings(\"ignore\")\n",
    "\n",
    "# константа верхний регистр\n",
    "RANDOM_STATE = 42"
   ]
  },
  {
   "cell_type": "code",
   "execution_count": 2,
   "metadata": {},
   "outputs": [],
   "source": [
    "# загрузим данные\n",
    "df = pd.read_csv('C:\\\\Users\\\\Mikhail\\\\Яндекс_Практикум\\\\data_set\\\\insurance.csv')"
   ]
  },
  {
   "cell_type": "markdown",
   "metadata": {
    "tags": []
   },
   "source": [
    "#### Описание данных"
   ]
  },
  {
   "cell_type": "markdown",
   "metadata": {},
   "source": [
    "**Признаки:** \n",
    "- пол\n",
    "- возраст\n",
    "- зарплата застрахованного\n",
    "- количество членов его семьи\n",
    "\n",
    "**Целевой признак:** \n",
    "- количество страховых выплат клиенту за последние 5 лет"
   ]
  },
  {
   "cell_type": "markdown",
   "metadata": {},
   "source": [
    "### 1.2 Изучим данные в таблице"
   ]
  },
  {
   "cell_type": "code",
   "execution_count": 3,
   "metadata": {
    "tags": []
   },
   "outputs": [],
   "source": [
    "# функция для получения общей информации о данных\n",
    "def get_info(data):\n",
    "    display(data.info())\n",
    "    display(data.head())\n",
    "    display(data.tail())\n",
    "    print('\\nРазмер таблицы:', data.shape)\n",
    "    print('\\nКоличество пропусков в таблице:', data.isna().sum().sum())"
   ]
  },
  {
   "cell_type": "code",
   "execution_count": 4,
   "metadata": {},
   "outputs": [
    {
     "name": "stdout",
     "output_type": "stream",
     "text": [
      "<class 'pandas.core.frame.DataFrame'>\n",
      "RangeIndex: 5000 entries, 0 to 4999\n",
      "Data columns (total 5 columns):\n",
      " #   Column             Non-Null Count  Dtype  \n",
      "---  ------             --------------  -----  \n",
      " 0   Пол                5000 non-null   int64  \n",
      " 1   Возраст            5000 non-null   float64\n",
      " 2   Зарплата           5000 non-null   float64\n",
      " 3   Члены семьи        5000 non-null   int64  \n",
      " 4   Страховые выплаты  5000 non-null   int64  \n",
      "dtypes: float64(2), int64(3)\n",
      "memory usage: 195.4 KB\n"
     ]
    },
    {
     "data": {
      "text/plain": [
       "None"
      ]
     },
     "metadata": {},
     "output_type": "display_data"
    },
    {
     "data": {
      "text/html": [
       "<div>\n",
       "<style scoped>\n",
       "    .dataframe tbody tr th:only-of-type {\n",
       "        vertical-align: middle;\n",
       "    }\n",
       "\n",
       "    .dataframe tbody tr th {\n",
       "        vertical-align: top;\n",
       "    }\n",
       "\n",
       "    .dataframe thead th {\n",
       "        text-align: right;\n",
       "    }\n",
       "</style>\n",
       "<table border=\"1\" class=\"dataframe\">\n",
       "  <thead>\n",
       "    <tr style=\"text-align: right;\">\n",
       "      <th></th>\n",
       "      <th>Пол</th>\n",
       "      <th>Возраст</th>\n",
       "      <th>Зарплата</th>\n",
       "      <th>Члены семьи</th>\n",
       "      <th>Страховые выплаты</th>\n",
       "    </tr>\n",
       "  </thead>\n",
       "  <tbody>\n",
       "    <tr>\n",
       "      <th>0</th>\n",
       "      <td>1</td>\n",
       "      <td>41.0</td>\n",
       "      <td>49600.0</td>\n",
       "      <td>1</td>\n",
       "      <td>0</td>\n",
       "    </tr>\n",
       "    <tr>\n",
       "      <th>1</th>\n",
       "      <td>0</td>\n",
       "      <td>46.0</td>\n",
       "      <td>38000.0</td>\n",
       "      <td>1</td>\n",
       "      <td>1</td>\n",
       "    </tr>\n",
       "    <tr>\n",
       "      <th>2</th>\n",
       "      <td>0</td>\n",
       "      <td>29.0</td>\n",
       "      <td>21000.0</td>\n",
       "      <td>0</td>\n",
       "      <td>0</td>\n",
       "    </tr>\n",
       "    <tr>\n",
       "      <th>3</th>\n",
       "      <td>0</td>\n",
       "      <td>21.0</td>\n",
       "      <td>41700.0</td>\n",
       "      <td>2</td>\n",
       "      <td>0</td>\n",
       "    </tr>\n",
       "    <tr>\n",
       "      <th>4</th>\n",
       "      <td>1</td>\n",
       "      <td>28.0</td>\n",
       "      <td>26100.0</td>\n",
       "      <td>0</td>\n",
       "      <td>0</td>\n",
       "    </tr>\n",
       "  </tbody>\n",
       "</table>\n",
       "</div>"
      ],
      "text/plain": [
       "   Пол  Возраст  Зарплата  Члены семьи  Страховые выплаты\n",
       "0    1     41.0   49600.0            1                  0\n",
       "1    0     46.0   38000.0            1                  1\n",
       "2    0     29.0   21000.0            0                  0\n",
       "3    0     21.0   41700.0            2                  0\n",
       "4    1     28.0   26100.0            0                  0"
      ]
     },
     "metadata": {},
     "output_type": "display_data"
    },
    {
     "data": {
      "text/html": [
       "<div>\n",
       "<style scoped>\n",
       "    .dataframe tbody tr th:only-of-type {\n",
       "        vertical-align: middle;\n",
       "    }\n",
       "\n",
       "    .dataframe tbody tr th {\n",
       "        vertical-align: top;\n",
       "    }\n",
       "\n",
       "    .dataframe thead th {\n",
       "        text-align: right;\n",
       "    }\n",
       "</style>\n",
       "<table border=\"1\" class=\"dataframe\">\n",
       "  <thead>\n",
       "    <tr style=\"text-align: right;\">\n",
       "      <th></th>\n",
       "      <th>Пол</th>\n",
       "      <th>Возраст</th>\n",
       "      <th>Зарплата</th>\n",
       "      <th>Члены семьи</th>\n",
       "      <th>Страховые выплаты</th>\n",
       "    </tr>\n",
       "  </thead>\n",
       "  <tbody>\n",
       "    <tr>\n",
       "      <th>4995</th>\n",
       "      <td>0</td>\n",
       "      <td>28.0</td>\n",
       "      <td>35700.0</td>\n",
       "      <td>2</td>\n",
       "      <td>0</td>\n",
       "    </tr>\n",
       "    <tr>\n",
       "      <th>4996</th>\n",
       "      <td>0</td>\n",
       "      <td>34.0</td>\n",
       "      <td>52400.0</td>\n",
       "      <td>1</td>\n",
       "      <td>0</td>\n",
       "    </tr>\n",
       "    <tr>\n",
       "      <th>4997</th>\n",
       "      <td>0</td>\n",
       "      <td>20.0</td>\n",
       "      <td>33900.0</td>\n",
       "      <td>2</td>\n",
       "      <td>0</td>\n",
       "    </tr>\n",
       "    <tr>\n",
       "      <th>4998</th>\n",
       "      <td>1</td>\n",
       "      <td>22.0</td>\n",
       "      <td>32700.0</td>\n",
       "      <td>3</td>\n",
       "      <td>0</td>\n",
       "    </tr>\n",
       "    <tr>\n",
       "      <th>4999</th>\n",
       "      <td>1</td>\n",
       "      <td>28.0</td>\n",
       "      <td>40600.0</td>\n",
       "      <td>1</td>\n",
       "      <td>0</td>\n",
       "    </tr>\n",
       "  </tbody>\n",
       "</table>\n",
       "</div>"
      ],
      "text/plain": [
       "      Пол  Возраст  Зарплата  Члены семьи  Страховые выплаты\n",
       "4995    0     28.0   35700.0            2                  0\n",
       "4996    0     34.0   52400.0            1                  0\n",
       "4997    0     20.0   33900.0            2                  0\n",
       "4998    1     22.0   32700.0            3                  0\n",
       "4999    1     28.0   40600.0            1                  0"
      ]
     },
     "metadata": {},
     "output_type": "display_data"
    },
    {
     "name": "stdout",
     "output_type": "stream",
     "text": [
      "\n",
      "Размер таблицы: (5000, 5)\n",
      "\n",
      "Количество пропусков в таблице: 0\n"
     ]
    }
   ],
   "source": [
    "get_info(df)"
   ]
  },
  {
   "cell_type": "code",
   "execution_count": 5,
   "metadata": {},
   "outputs": [],
   "source": [
    "# преобразуем данные в столбцах \"Зарплата\" и \"Возраст\" в целочисленные значения\n",
    "df['Зарплата'] = df['Зарплата'].astype('int')\n",
    "df['Возраст'] = df['Возраст'].astype('int')"
   ]
  },
  {
   "cell_type": "markdown",
   "metadata": {
    "tags": []
   },
   "source": [
    "### 1.3 Построим гистограммы"
   ]
  },
  {
   "cell_type": "code",
   "execution_count": 6,
   "metadata": {},
   "outputs": [
    {
     "data": {
      "image/png": "[encoded data removed]",
      "text/plain": [
       "<Figure size 1440x1440 with 5 Axes>"
      ]
     },
     "metadata": {
      "needs_background": "light"
     },
     "output_type": "display_data"
    }
   ],
   "source": [
    "# строим гистограммы для всех столбцов\n",
    "fig, axis = plt.subplots(5,1, figsize=(20,20))\n",
    "\n",
    "n = 0\n",
    "for column in df:\n",
    "    df[df.columns[n]].plot.hist(ax=axis[0+n], edgecolor='black', linewidth=1, bins=45).set(ylabel=df.columns[n]);       \n",
    "    n += 1"
   ]
  },
  {
   "cell_type": "markdown",
   "metadata": {
    "tags": []
   },
   "source": [
    "### 1.4 Выводы"
   ]
  },
  {
   "cell_type": "markdown",
   "metadata": {},
   "source": [
    "1. Данные изучены, аномалий не выявленно\n",
    "2. Значения в столбцах \"Зарплата\" и \"Возраст\" преобразованны в целочисленные"
   ]
  },
  {
   "cell_type": "markdown",
   "metadata": {},
   "source": [
    "## 2. Умножение матриц"
   ]
  },
  {
   "cell_type": "markdown",
   "metadata": {},
   "source": [
    "Обозначения:\n",
    "\n",
    "- $X$ — матрица признаков (нулевой столбец состоит из единиц)\n",
    "\n",
    "- $y$ — вектор целевого признака\n",
    "\n",
    "- $P$ — матрица, на которую умножаются признаки\n",
    "\n",
    "- $w$ — вектор весов линейной регрессии (нулевой элемент равен сдвигу)"
   ]
  },
  {
   "cell_type": "markdown",
   "metadata": {},
   "source": [
    "Предсказания:\n",
    "\n",
    "$$\n",
    "a = Xw\n",
    "$$\n",
    "\n",
    "Задача обучения:\n",
    "\n",
    "$$\n",
    "w = \\arg\\min_w MSE(Xw, y)\n",
    "$$\n",
    "\n",
    "Формула обучения:\n",
    "\n",
    "$$\n",
    "w = (X^T X)^{-1} X^T y\n",
    "$$"
   ]
  },
  {
   "cell_type": "markdown",
   "metadata": {
    "tags": []
   },
   "source": [
    "### Вопрос: \n",
    "Изменится ли качество линейной регрессии, если признаки умножают на обратимую матрицу?"
   ]
  },
  {
   "cell_type": "markdown",
   "metadata": {},
   "source": [
    "### Ответ:\n",
    "Если признаки умножают на обратимую матрицу, то качество линейной регрессии не изменится."
   ]
  },
  {
   "cell_type": "markdown",
   "metadata": {
    "tags": []
   },
   "source": [
    "### Обоснование:\n",
    "\n",
    "Предположим, у нас есть задача линейной регрессии с двумя признаками, где:\n",
    "- $x1$ и $x2$ - признаки\n",
    "- $y$ - целевой признак\n",
    "\n",
    "Тогда,\\\n",
    "$y = w1 * x1 + w2 * x2 + w0$, где:\n",
    "\n",
    "- $w1$, $w2$ - вектора весов,\n",
    "- $w0$ - величина сдвига.\n",
    "\n",
    "Нам известно, что скалярное значение может быть использовано для определения обратимости матрицы.\\\n",
    "Другими словами, чтобы матрица была обратимой, ее определитель должен быть ненулевым скалярным значением.\\\n",
    "То есть, обратимая матрица может быть определена с помощью ее определителя, который является скалярным значением.\n",
    "\n",
    "Теперь предположим, что мы умножаем признак $x1$ на скалярное значение, например, равное $2$:\n",
    "\n",
    "$x1' = 2 * x1$\n",
    "\n",
    "Тогда задача линейной регрессии становится:\n",
    "\n",
    "$y = w1' * x1' + w2 * x2 + w0$, где:\n",
    "\n",
    "$w1' = 2 * w1$ - преобразованный вектор веса для признака $x1'$. \n",
    "\n",
    "Получится, что преобразованный вектор веса $w1'$ будет в 2 раза превышать исходный вектор веса $w1$.\n",
    "\n",
    "При этом, взаимосвязь между векторами весов $w1'$, $w2$, величиной сдвига $w0$ и целевым признаком $y$ останутся такими же, как в исходной задаче линейной регрессии.\\\n",
    "Это связано с тем, что алгоритм линейной регрессии извлекает веса, которые наилучшим образом соответствуют обучающим признакам, независимо от их масштаба.\\\n",
    "И мы всегда можем найти новый набор векторов веса $w1'$, $w2$ и $w0$, которые будут соответствовать преобразованным данным, которые связаны с исходными весами коэффициентом масштабирования, который в нашем случае равен 2:\n",
    "\n",
    "$w1 = w1' / 2$\n",
    "\n",
    "Это, как если бы, мы научили линейную регрессию предсказывать стоимость квартир в Москве по их площади в квадратных метрах.\\\n",
    "А нам, вдруг, понадобилось использовать наш алгоритм для предсказания цены квартир в Лондоне, где площадь измерятся в квадратных футах.\\\n",
    "Тогда, мы бы умножили площадь квартиры (признак) на коэффициент перевода квадратных метров в квадратные футы (скалярное значение или обратимую матрицу).\\\n",
    "Качество прогноза при этом не изменится только потому, что мы поменяем единицы измерения, при условии, что мы используем тот же самый алгоритм и ту же информацию о квартире."
   ]
  },
  {
   "cell_type": "markdown",
   "metadata": {
    "tags": []
   },
   "source": [
    "### Обоснование:\n",
    "\n",
    "\n",
    "$X$ - матрица признаков\n",
    "\n",
    "$P$ - обратимая матрица\n",
    "\n",
    "$P^{-1}$ - матрица обратная $P$\n",
    "\n",
    "$E$ - единичная матрица $E = P\\cdot P^{-1}$ и $X\\cdot E = E\\cdot X = X$\n",
    "\n",
    "Формула обучения линейной регресии: $w = (X^T\\cdot X)^{-1}\\cdot X^T\\cdot y$\n",
    "\n",
    "Формула обучения линейной регрессии после умножения на обратимую матрицу: $w' = ((X\\cdot P)^T (X\\cdot P))^{-1}\\cdot (X\\cdot P)^T\\cdot y$\n",
    "\n",
    "Предсказания: $a = X\\cdot w = X\\cdot (X^T\\cdot X)^{-1}\\cdot X^T\\cdot y$\n",
    "\n",
    "Предсказания после умножения на обрратимую матрицу: $a' = X\\cdot P\\cdot w' = X\\cdot P\\cdot ((X\\cdot P)^T (X\\cdot P))^{-1}\\cdot (X\\cdot P)^T\\cdot y$\n",
    "\n",
    "Нужно доказать, что предсказания не изменятся, то есть $a = a'$\n",
    "\n",
    "Преобразуем формулу: \n",
    "\n",
    "$a' = X\\cdot P\\cdot ((X\\cdot P)^T\\cdot (X\\cdot P))^{-1}\\cdot (X\\cdot P)^T\\cdot y$\n",
    "\n",
    "$a' = X\\cdot P\\cdot (P^T\\cdot X^T\\cdot X\\cdot P)^{-1}\\cdot P^T\\cdot X^T\\cdot y$\n",
    "\n",
    "$a' = X\\cdot P\\cdot P^{-1}\\cdot (X^T\\cdot X)^{-1}\\cdot P^T{-1}\\cdot P^T\\cdot X^T\\cdot y$\n",
    "\n",
    "$a' = X\\cdot E\\cdot (X^T\\cdot X)^{-1}\\cdot E\\cdot X^T\\cdot y$\n",
    "\n",
    "$a' = X\\cdot (X^T\\cdot X)^{-1}\\cdot X^T\\cdot y$\n",
    "\n",
    "Получается, что: $a' = a$ и это значит, что качество линейной регрессии не изменится при умножении матрицы признаков на обратимую матрицу.\n",
    "\n",
    "Тогда соотношение между $w'$ и $w$ будет: \n",
    "\n",
    "$X\\cdot P\\cdot w' = X\\cdot w$\n",
    "\n",
    "$w' = w/P$"
   ]
  },
  {
   "cell_type": "markdown",
   "metadata": {},
   "source": [
    "## 3. Алгоритм преобразования"
   ]
  },
  {
   "cell_type": "markdown",
   "metadata": {},
   "source": [
    "### 3.1 Алгоритм\n",
    "\n",
    "1. Выделим признаки и целевой признак и сохраним их в переменных.\n",
    "2. Создадим случайную обратимую матрицу, сохраним её в переменной.\n",
    "3. Проверим матрицу на обратимость.\n",
    "4. Обучим модель на исходных данных.\n",
    "5. Получим метрику R2.\n",
    "6. Изменим признаки (умножим их на обратимую матрицу).\n",
    "7. Обучим модель на измененных признаках.\n",
    "8. Получим метрику R2 для модели обученной на измененных признаках.\n",
    "9. Сравним полученные метрики дли исходных данных и изменененных."
   ]
  },
  {
   "cell_type": "markdown",
   "metadata": {
    "jp-MarkdownHeadingCollapsed": true,
    "tags": []
   },
   "source": [
    "### 3.2 Обоснование\n",
    "\n",
    "1. Умножение признаков на матрицу позволит их обезличить.\n",
    "2. Так как мы используем обратимую матрицу, то такое изменение не повлияет на качество модели обучения.\n",
    "3. Используя обратную матрицу мы можем восстановить исходные признаки."
   ]
  },
  {
   "cell_type": "markdown",
   "metadata": {},
   "source": [
    "## 4. Проверка алгоритма"
   ]
  },
  {
   "cell_type": "markdown",
   "metadata": {},
   "source": [
    "### 4.1 Выделим признаки и целевой признак и сохраним их в переменных"
   ]
  },
  {
   "cell_type": "code",
   "execution_count": 7,
   "metadata": {},
   "outputs": [],
   "source": [
    "# признаки\n",
    "features = df.drop('Страховые выплаты', axis=1)\n",
    "# целевой признак\n",
    "target = df['Страховые выплаты']"
   ]
  },
  {
   "cell_type": "code",
   "execution_count": 8,
   "metadata": {},
   "outputs": [
    {
     "name": "stdout",
     "output_type": "stream",
     "text": [
      "\u001b[1mИсходные данные\u001b[0m\n",
      "Признаки:  \u001b[1m(5000, 4)\u001b[0m\n",
      "Целевой признак:  \u001b[1m(5000,)\u001b[0m\n"
     ]
    }
   ],
   "source": [
    "print('\\033[1m'+ 'Исходные данные'+'\\033[0m')\n",
    "print('Признаки: ', '\\033[1m'+ f'{features.shape}' +'\\033[0m')\n",
    "print('Целевой признак: ', '\\033[1m'+ f'{target.shape}' +'\\033[0m')"
   ]
  },
  {
   "cell_type": "markdown",
   "metadata": {},
   "source": [
    "### 4.2 Создадим случайную обратимую матрицу, сохраним её в переменной"
   ]
  },
  {
   "cell_type": "code",
   "execution_count": 9,
   "metadata": {},
   "outputs": [
    {
     "data": {
      "text/plain": [
       "array([[ 0.3975867 ,  0.08185953,  0.90242029, -1.55127485],\n",
       "       [-1.6150288 ,  0.44151721,  1.7136684 , -0.14633627],\n",
       "       [-0.24380441, -1.45033463, -0.77254056, -0.54704801],\n",
       "       [ 0.73270891, -0.57741457,  0.65046148,  1.83461709]])"
      ]
     },
     "execution_count": 9,
     "metadata": {},
     "output_type": "execute_result"
    }
   ],
   "source": [
    "# у нас 4 столбца в признаках, создадим случайную квадратную матрицу А размером 4 на 4\n",
    "matrix_A = np.random.normal(size = (4,4)) \n",
    "matrix_A"
   ]
  },
  {
   "cell_type": "markdown",
   "metadata": {},
   "source": [
    "### 4.3 Проверим матрицу на обратимость"
   ]
  },
  {
   "cell_type": "code",
   "execution_count": 10,
   "metadata": {},
   "outputs": [
    {
     "data": {
      "text/plain": [
       "array([[ 0.39061355, -0.38407488, -0.19144618,  0.24256541],\n",
       "       [-0.14009262, -0.08176148, -0.60116958, -0.30423539],\n",
       "       [ 0.37576032,  0.24609202, -0.03413297,  0.32717854],\n",
       "       [-0.33332032,  0.04040703, -0.10064638,  0.23644344]])"
      ]
     },
     "execution_count": 10,
     "metadata": {},
     "output_type": "execute_result"
    }
   ],
   "source": [
    "# найдем обратимую матрицу В для матрицы А\n",
    "matrix_B = np.linalg.inv(matrix_A)\n",
    "matrix_B"
   ]
  },
  {
   "cell_type": "code",
   "execution_count": 11,
   "metadata": {},
   "outputs": [
    {
     "data": {
      "text/plain": [
       "array([[ 1.00000000e+00,  4.30605726e-17,  2.25013712e-17,\n",
       "        -4.40872895e-17],\n",
       "       [-7.94031841e-18,  1.00000000e+00,  3.96789260e-17,\n",
       "         4.47928234e-17],\n",
       "       [-4.13827456e-17, -3.17111617e-17,  1.00000000e+00,\n",
       "        -2.87118024e-17],\n",
       "       [-8.71588808e-17,  5.40452090e-17, -3.82362134e-17,\n",
       "         1.00000000e+00]])"
      ]
     },
     "execution_count": 11,
     "metadata": {},
     "output_type": "execute_result"
    }
   ],
   "source": [
    "# умножение матрицы на обратимую дает единичную матрицу \n",
    "matrix_I = matrix_A @ matrix_B\n",
    "matrix_I"
   ]
  },
  {
   "cell_type": "markdown",
   "metadata": {},
   "source": [
    "### 4.4 Обучим модель на исходных данных"
   ]
  },
  {
   "cell_type": "code",
   "execution_count": 12,
   "metadata": {},
   "outputs": [
    {
     "data": {
      "text/plain": [
       "LinearRegression()"
      ]
     },
     "execution_count": 12,
     "metadata": {},
     "output_type": "execute_result"
    }
   ],
   "source": [
    "# создадим модель линейной регресии\n",
    "model = LinearRegression()\n",
    "# обучим модель на исходных данных\n",
    "model.fit(features, target)"
   ]
  },
  {
   "cell_type": "markdown",
   "metadata": {},
   "source": [
    "### 4.5 Получим метрику R2 на исходных данных"
   ]
  },
  {
   "cell_type": "code",
   "execution_count": 13,
   "metadata": {},
   "outputs": [],
   "source": [
    "# получим предсказания и посчитаем метрику R2 на исходных данных\n",
    "predictions = model.predict(features)\n",
    "r2 = r2_score(target, predictions)"
   ]
  },
  {
   "cell_type": "markdown",
   "metadata": {},
   "source": [
    "### 4.6 Изменим признаки (умножим их на обратимую матрицу)"
   ]
  },
  {
   "cell_type": "code",
   "execution_count": 14,
   "metadata": {},
   "outputs": [],
   "source": [
    "# умножим признаки на обратимую матрицу\n",
    "change_features = features @ matrix_A"
   ]
  },
  {
   "cell_type": "code",
   "execution_count": 15,
   "metadata": {},
   "outputs": [
    {
     "name": "stdout",
     "output_type": "stream",
     "text": [
      "\u001b[1mИсходные данные\u001b[0m\n"
     ]
    },
    {
     "data": {
      "text/html": [
       "<div>\n",
       "<style scoped>\n",
       "    .dataframe tbody tr th:only-of-type {\n",
       "        vertical-align: middle;\n",
       "    }\n",
       "\n",
       "    .dataframe tbody tr th {\n",
       "        vertical-align: top;\n",
       "    }\n",
       "\n",
       "    .dataframe thead th {\n",
       "        text-align: right;\n",
       "    }\n",
       "</style>\n",
       "<table border=\"1\" class=\"dataframe\">\n",
       "  <thead>\n",
       "    <tr style=\"text-align: right;\">\n",
       "      <th></th>\n",
       "      <th>Пол</th>\n",
       "      <th>Возраст</th>\n",
       "      <th>Зарплата</th>\n",
       "      <th>Члены семьи</th>\n",
       "    </tr>\n",
       "  </thead>\n",
       "  <tbody>\n",
       "    <tr>\n",
       "      <th>0</th>\n",
       "      <td>1</td>\n",
       "      <td>41</td>\n",
       "      <td>49600</td>\n",
       "      <td>1</td>\n",
       "    </tr>\n",
       "    <tr>\n",
       "      <th>1</th>\n",
       "      <td>0</td>\n",
       "      <td>46</td>\n",
       "      <td>38000</td>\n",
       "      <td>1</td>\n",
       "    </tr>\n",
       "    <tr>\n",
       "      <th>2</th>\n",
       "      <td>0</td>\n",
       "      <td>29</td>\n",
       "      <td>21000</td>\n",
       "      <td>0</td>\n",
       "    </tr>\n",
       "    <tr>\n",
       "      <th>3</th>\n",
       "      <td>0</td>\n",
       "      <td>21</td>\n",
       "      <td>41700</td>\n",
       "      <td>2</td>\n",
       "    </tr>\n",
       "    <tr>\n",
       "      <th>4</th>\n",
       "      <td>1</td>\n",
       "      <td>28</td>\n",
       "      <td>26100</td>\n",
       "      <td>0</td>\n",
       "    </tr>\n",
       "  </tbody>\n",
       "</table>\n",
       "</div>"
      ],
      "text/plain": [
       "   Пол  Возраст  Зарплата  Члены семьи\n",
       "0    1       41     49600            1\n",
       "1    0       46     38000            1\n",
       "2    0       29     21000            0\n",
       "3    0       21     41700            2\n",
       "4    1       28     26100            0"
      ]
     },
     "metadata": {},
     "output_type": "display_data"
    },
    {
     "name": "stdout",
     "output_type": "stream",
     "text": [
      "===================================================\n",
      "\u001b[1mИзмененные данные\u001b[0m\n"
     ]
    },
    {
     "data": {
      "text/html": [
       "<div>\n",
       "<style scoped>\n",
       "    .dataframe tbody tr th:only-of-type {\n",
       "        vertical-align: middle;\n",
       "    }\n",
       "\n",
       "    .dataframe tbody tr th {\n",
       "        vertical-align: top;\n",
       "    }\n",
       "\n",
       "    .dataframe thead th {\n",
       "        text-align: right;\n",
       "    }\n",
       "</style>\n",
       "<table border=\"1\" class=\"dataframe\">\n",
       "  <thead>\n",
       "    <tr style=\"text-align: right;\">\n",
       "      <th></th>\n",
       "      <th>0</th>\n",
       "      <th>1</th>\n",
       "      <th>2</th>\n",
       "      <th>3</th>\n",
       "    </tr>\n",
       "  </thead>\n",
       "  <tbody>\n",
       "    <tr>\n",
       "      <th>0</th>\n",
       "      <td>-12157.784728</td>\n",
       "      <td>-71918.990983</td>\n",
       "      <td>-38246.198482</td>\n",
       "      <td>-27139.297612</td>\n",
       "    </tr>\n",
       "    <tr>\n",
       "      <th>1</th>\n",
       "      <td>-9338.126278</td>\n",
       "      <td>-55092.983552</td>\n",
       "      <td>-29277.062066</td>\n",
       "      <td>-20792.721133</td>\n",
       "    </tr>\n",
       "    <tr>\n",
       "      <th>2</th>\n",
       "      <td>-5166.728490</td>\n",
       "      <td>-30444.223225</td>\n",
       "      <td>-16173.655373</td>\n",
       "      <td>-11492.251907</td>\n",
       "    </tr>\n",
       "    <tr>\n",
       "      <th>3</th>\n",
       "      <td>-10199.094174</td>\n",
       "      <td>-60470.837026</td>\n",
       "      <td>-32177.653386</td>\n",
       "      <td>-22811.305736</td>\n",
       "    </tr>\n",
       "    <tr>\n",
       "      <th>4</th>\n",
       "      <td>-6408.118377</td>\n",
       "      <td>-37841.289494</td>\n",
       "      <td>-20114.423477</td>\n",
       "      <td>-14283.601684</td>\n",
       "    </tr>\n",
       "  </tbody>\n",
       "</table>\n",
       "</div>"
      ],
      "text/plain": [
       "              0             1             2             3\n",
       "0 -12157.784728 -71918.990983 -38246.198482 -27139.297612\n",
       "1  -9338.126278 -55092.983552 -29277.062066 -20792.721133\n",
       "2  -5166.728490 -30444.223225 -16173.655373 -11492.251907\n",
       "3 -10199.094174 -60470.837026 -32177.653386 -22811.305736\n",
       "4  -6408.118377 -37841.289494 -20114.423477 -14283.601684"
      ]
     },
     "metadata": {},
     "output_type": "display_data"
    }
   ],
   "source": [
    "# сравним исходные признаки и измененные\n",
    "print('\\033[1m'+ 'Исходные данные'+'\\033[0m')\n",
    "display(features.head())\n",
    "print('='*51)\n",
    "print('\\033[1m'+ 'Измененные данные'+'\\033[0m')\n",
    "display(change_features.head())"
   ]
  },
  {
   "cell_type": "markdown",
   "metadata": {},
   "source": [
    "### 4.7 Обучим модель на измененных признаках"
   ]
  },
  {
   "cell_type": "code",
   "execution_count": 16,
   "metadata": {},
   "outputs": [
    {
     "data": {
      "text/plain": [
       "LinearRegression()"
      ]
     },
     "execution_count": 16,
     "metadata": {},
     "output_type": "execute_result"
    }
   ],
   "source": [
    "# обучим модель на измененных данных\n",
    "model.fit(change_features, target)"
   ]
  },
  {
   "cell_type": "markdown",
   "metadata": {},
   "source": [
    "### 4.8 Получим метрику R2 для модели обученной на измененных признаках"
   ]
  },
  {
   "cell_type": "code",
   "execution_count": 17,
   "metadata": {},
   "outputs": [],
   "source": [
    "# получим предсказания и посчитаем метрику R2 на измененных данных\n",
    "change_predictions = model.predict(change_features)\n",
    "change_r2 = r2_score(target, change_predictions)"
   ]
  },
  {
   "cell_type": "markdown",
   "metadata": {},
   "source": [
    "### 4.9 Сравним полученные метрики дли исходных данных и изменененных"
   ]
  },
  {
   "cell_type": "code",
   "execution_count": 18,
   "metadata": {},
   "outputs": [
    {
     "name": "stdout",
     "output_type": "stream",
     "text": [
      "R2 на исходных признаках:  \u001b[1m0.4249\u001b[0m\n",
      "===================================\n",
      "R2 на измененных признаках:  \u001b[1m0.4249\u001b[0m\n"
     ]
    }
   ],
   "source": [
    "print(\n",
    "    'R2 на исходных признаках: ',\n",
    "    '\\033[1m'+ f'{r2:,.4f}' +'\\033[0m'\n",
    ")\n",
    "print('='*35)\n",
    "print(\n",
    "    'R2 на измененных признаках: ',\n",
    "    '\\033[1m'+ f'{change_r2:,.4f}' +'\\033[0m'\n",
    ")"
   ]
  },
  {
   "cell_type": "markdown",
   "metadata": {},
   "source": [
    "## 5. Выводы"
   ]
  },
  {
   "cell_type": "markdown",
   "metadata": {},
   "source": [
    "1. При умножении признаков на обратимую матрицу можно обезличить исходные данные.\n",
    "2. Умножение признаков на обратимую матрицу позволит восстановить исходные данные.\n",
    "3. Такое преобразование признаков не влияет на качество модели, метрики R2 на наборах данных равны."
   ]
  }
 ],
 "metadata": {
  "ExecuteTimeLog": [
   {
    "duration": 2779,
    "start_time": "2023-03-10T09:43:38.686Z"
   },
   {
    "duration": 90,
    "start_time": "2023-03-10T09:43:41.467Z"
   },
   {
    "duration": 4,
    "start_time": "2023-03-10T09:43:41.559Z"
   },
   {
    "duration": 65,
    "start_time": "2023-03-10T09:43:41.566Z"
   },
   {
    "duration": 5,
    "start_time": "2023-03-10T09:43:41.633Z"
   },
   {
    "duration": 1059,
    "start_time": "2023-03-10T09:43:41.640Z"
   },
   {
    "duration": 8,
    "start_time": "2023-03-10T09:43:42.703Z"
   },
   {
    "duration": 9,
    "start_time": "2023-03-10T09:43:42.714Z"
   },
   {
    "duration": 9,
    "start_time": "2023-03-10T09:43:42.725Z"
   },
   {
    "duration": 34,
    "start_time": "2023-03-10T09:43:42.737Z"
   },
   {
    "duration": 6,
    "start_time": "2023-03-10T09:43:42.774Z"
   },
   {
    "duration": 129,
    "start_time": "2023-03-10T09:43:42.782Z"
   },
   {
    "duration": 91,
    "start_time": "2023-03-10T09:43:42.913Z"
   },
   {
    "duration": 94,
    "start_time": "2023-03-10T09:43:43.010Z"
   },
   {
    "duration": 17,
    "start_time": "2023-03-10T09:43:43.106Z"
   },
   {
    "duration": 8,
    "start_time": "2023-03-10T09:43:43.125Z"
   },
   {
    "duration": 7,
    "start_time": "2023-03-10T09:43:43.135Z"
   },
   {
    "duration": 46,
    "start_time": "2023-03-10T09:43:43.169Z"
   }
  ],
  "kernelspec": {
   "display_name": "Python 3 (ipykernel)",
   "language": "python",
   "name": "python3"
  },
  "language_info": {
   "codemirror_mode": {
    "name": "ipython",
    "version": 3
   },
   "file_extension": ".py",
   "mimetype": "text/x-python",
   "name": "python",
   "nbconvert_exporter": "python",
   "pygments_lexer": "ipython3",
   "version": "3.9.12"
  },
  "toc": {
   "base_numbering": 1,
   "nav_menu": {},
   "number_sections": true,
   "sideBar": true,
   "skip_h1_title": true,
   "title_cell": "Содержание",
   "title_sidebar": "Contents",
   "toc_cell": true,
   "toc_position": {},
   "toc_section_display": true,
   "toc_window_display": false
  }
 },
 "nbformat": 4,
 "nbformat_minor": 4
}

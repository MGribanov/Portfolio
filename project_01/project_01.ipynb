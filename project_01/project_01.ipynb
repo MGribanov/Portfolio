{
 "cells": [
  {
   "cell_type": "markdown",
   "id": "035b5ed2",
   "metadata": {
    "deletable": false,
    "editable": false,
    "id": "c81daeeb",
    "tags": []
   },
   "source": [
    "# Исследование надежности заемщиков\n"
   ]
  },
  {
   "cell_type": "markdown",
   "id": "909c8d2f-b3d8-4c3b-94a4-70d767794ca3",
   "metadata": {},
   "source": [
    "## Описание проекта"
   ]
  },
  {
   "cell_type": "markdown",
   "id": "e64d729b-f2d7-4697-9707-f8f292b79213",
   "metadata": {},
   "source": [
    "Заказчик — кредитный отдел банка. Входные данные от банка — статистика о платёжеспособности клиентов.\n",
    "Результаты исследования будут учтены при построении модели кредитного скоринга для оценки способности потенциального заёмщика вернуть кредит банку."
   ]
  },
  {
   "cell_type": "markdown",
   "id": "7d0d6369-6540-4267-90e7-719f3f30df9d",
   "metadata": {},
   "source": [
    "## Задача"
   ]
  },
  {
   "cell_type": "markdown",
   "id": "5cebff63-6588-4e6d-8240-a22d2f17223e",
   "metadata": {},
   "source": [
    "Выяснить, влияет ли семейное положение и количество детей клиента на факт погашения кредита в срок."
   ]
  },
  {
   "cell_type": "markdown",
   "id": "594821a7-a915-4115-8b24-57bea96a9875",
   "metadata": {
    "deletable": false,
    "editable": false,
    "id": "827c20bf",
    "tags": []
   },
   "source": [
    "Во второй части проекта вы выполните шаги 3 и 4. Их вручную проверит ревьюер.\n",
    "Чтобы вам не пришлось писать код заново для шагов 1 и 2, мы добавили авторские решения в ячейки с кодом. \n",
    "\n"
   ]
  },
  {
   "cell_type": "markdown",
   "id": "e356aa11",
   "metadata": {
    "deletable": false,
    "editable": false,
    "id": "744d7639",
    "tags": []
   },
   "source": [
    "## Откройте таблицу и изучите общую информацию о данных"
   ]
  },
  {
   "cell_type": "markdown",
   "id": "c53ffda3",
   "metadata": {
    "deletable": false,
    "editable": false,
    "id": "e7a14c31"
   },
   "source": [
    "**Задание 1. Импортируйте библиотеку pandas. Считайте данные из csv-файла в датафрейм и сохраните в переменную `data`. Путь к файлу:**\n",
    "\n",
    "`/datasets/data.csv`"
   ]
  },
  {
   "cell_type": "code",
   "execution_count": 1,
   "id": "b9be43f4",
   "metadata": {
    "deletable": false,
    "id": "7bcf75c9"
   },
   "outputs": [],
   "source": [
    "# импортируем необходимые билиотеки\n",
    "import pandas as pd\n",
    "import seaborn as sns\n",
    "from pandas_profiling import ProfileReport\n"
   ]
  },
  {
   "cell_type": "code",
   "execution_count": 2,
   "id": "fc57dfbb-a00a-4f35-a197-2f406fcb7eec",
   "metadata": {},
   "outputs": [],
   "source": [
    "# загрузим данные\n",
    "data = pd.read_csv('C:\\\\Users\\\\Mikhail\\\\Яндекс_Практикум\\\\data_set\\\\data.csv')"
   ]
  },
  {
   "cell_type": "markdown",
   "id": "b9e0074d",
   "metadata": {
    "deletable": false,
    "editable": false,
    "id": "b8038fe3"
   },
   "source": [
    "**Задание 2. Выведите первые 20 строчек датафрейма `data` на экран.**"
   ]
  },
  {
   "cell_type": "code",
   "execution_count": 3,
   "id": "bab91835",
   "metadata": {
    "deletable": false,
    "id": "2a7cab99",
    "outputId": "1a8f3ef2-d323-4ec2-ddf7-89670b5944c4"
   },
   "outputs": [
    {
     "data": {
      "text/html": [
       "<div>\n",
       "<style scoped>\n",
       "    .dataframe tbody tr th:only-of-type {\n",
       "        vertical-align: middle;\n",
       "    }\n",
       "\n",
       "    .dataframe tbody tr th {\n",
       "        vertical-align: top;\n",
       "    }\n",
       "\n",
       "    .dataframe thead th {\n",
       "        text-align: right;\n",
       "    }\n",
       "</style>\n",
       "<table border=\"1\" class=\"dataframe\">\n",
       "  <thead>\n",
       "    <tr style=\"text-align: right;\">\n",
       "      <th></th>\n",
       "      <th>children</th>\n",
       "      <th>days_employed</th>\n",
       "      <th>dob_years</th>\n",
       "      <th>education</th>\n",
       "      <th>education_id</th>\n",
       "      <th>family_status</th>\n",
       "      <th>family_status_id</th>\n",
       "      <th>gender</th>\n",
       "      <th>income_type</th>\n",
       "      <th>debt</th>\n",
       "      <th>total_income</th>\n",
       "      <th>purpose</th>\n",
       "    </tr>\n",
       "  </thead>\n",
       "  <tbody>\n",
       "    <tr>\n",
       "      <th>0</th>\n",
       "      <td>1</td>\n",
       "      <td>-8437.673028</td>\n",
       "      <td>42</td>\n",
       "      <td>высшее</td>\n",
       "      <td>0</td>\n",
       "      <td>женат / замужем</td>\n",
       "      <td>0</td>\n",
       "      <td>F</td>\n",
       "      <td>сотрудник</td>\n",
       "      <td>0</td>\n",
       "      <td>253875.639453</td>\n",
       "      <td>покупка жилья</td>\n",
       "    </tr>\n",
       "    <tr>\n",
       "      <th>1</th>\n",
       "      <td>1</td>\n",
       "      <td>-4024.803754</td>\n",
       "      <td>36</td>\n",
       "      <td>среднее</td>\n",
       "      <td>1</td>\n",
       "      <td>женат / замужем</td>\n",
       "      <td>0</td>\n",
       "      <td>F</td>\n",
       "      <td>сотрудник</td>\n",
       "      <td>0</td>\n",
       "      <td>112080.014102</td>\n",
       "      <td>приобретение автомобиля</td>\n",
       "    </tr>\n",
       "    <tr>\n",
       "      <th>2</th>\n",
       "      <td>0</td>\n",
       "      <td>-5623.422610</td>\n",
       "      <td>33</td>\n",
       "      <td>Среднее</td>\n",
       "      <td>1</td>\n",
       "      <td>женат / замужем</td>\n",
       "      <td>0</td>\n",
       "      <td>M</td>\n",
       "      <td>сотрудник</td>\n",
       "      <td>0</td>\n",
       "      <td>145885.952297</td>\n",
       "      <td>покупка жилья</td>\n",
       "    </tr>\n",
       "    <tr>\n",
       "      <th>3</th>\n",
       "      <td>3</td>\n",
       "      <td>-4124.747207</td>\n",
       "      <td>32</td>\n",
       "      <td>среднее</td>\n",
       "      <td>1</td>\n",
       "      <td>женат / замужем</td>\n",
       "      <td>0</td>\n",
       "      <td>M</td>\n",
       "      <td>сотрудник</td>\n",
       "      <td>0</td>\n",
       "      <td>267628.550329</td>\n",
       "      <td>дополнительное образование</td>\n",
       "    </tr>\n",
       "    <tr>\n",
       "      <th>4</th>\n",
       "      <td>0</td>\n",
       "      <td>340266.072047</td>\n",
       "      <td>53</td>\n",
       "      <td>среднее</td>\n",
       "      <td>1</td>\n",
       "      <td>гражданский брак</td>\n",
       "      <td>1</td>\n",
       "      <td>F</td>\n",
       "      <td>пенсионер</td>\n",
       "      <td>0</td>\n",
       "      <td>158616.077870</td>\n",
       "      <td>сыграть свадьбу</td>\n",
       "    </tr>\n",
       "    <tr>\n",
       "      <th>5</th>\n",
       "      <td>0</td>\n",
       "      <td>-926.185831</td>\n",
       "      <td>27</td>\n",
       "      <td>высшее</td>\n",
       "      <td>0</td>\n",
       "      <td>гражданский брак</td>\n",
       "      <td>1</td>\n",
       "      <td>M</td>\n",
       "      <td>компаньон</td>\n",
       "      <td>0</td>\n",
       "      <td>255763.565419</td>\n",
       "      <td>покупка жилья</td>\n",
       "    </tr>\n",
       "    <tr>\n",
       "      <th>6</th>\n",
       "      <td>0</td>\n",
       "      <td>-2879.202052</td>\n",
       "      <td>43</td>\n",
       "      <td>высшее</td>\n",
       "      <td>0</td>\n",
       "      <td>женат / замужем</td>\n",
       "      <td>0</td>\n",
       "      <td>F</td>\n",
       "      <td>компаньон</td>\n",
       "      <td>0</td>\n",
       "      <td>240525.971920</td>\n",
       "      <td>операции с жильем</td>\n",
       "    </tr>\n",
       "    <tr>\n",
       "      <th>7</th>\n",
       "      <td>0</td>\n",
       "      <td>-152.779569</td>\n",
       "      <td>50</td>\n",
       "      <td>СРЕДНЕЕ</td>\n",
       "      <td>1</td>\n",
       "      <td>женат / замужем</td>\n",
       "      <td>0</td>\n",
       "      <td>M</td>\n",
       "      <td>сотрудник</td>\n",
       "      <td>0</td>\n",
       "      <td>135823.934197</td>\n",
       "      <td>образование</td>\n",
       "    </tr>\n",
       "    <tr>\n",
       "      <th>8</th>\n",
       "      <td>2</td>\n",
       "      <td>-6929.865299</td>\n",
       "      <td>35</td>\n",
       "      <td>ВЫСШЕЕ</td>\n",
       "      <td>0</td>\n",
       "      <td>гражданский брак</td>\n",
       "      <td>1</td>\n",
       "      <td>F</td>\n",
       "      <td>сотрудник</td>\n",
       "      <td>0</td>\n",
       "      <td>95856.832424</td>\n",
       "      <td>на проведение свадьбы</td>\n",
       "    </tr>\n",
       "    <tr>\n",
       "      <th>9</th>\n",
       "      <td>0</td>\n",
       "      <td>-2188.756445</td>\n",
       "      <td>41</td>\n",
       "      <td>среднее</td>\n",
       "      <td>1</td>\n",
       "      <td>женат / замужем</td>\n",
       "      <td>0</td>\n",
       "      <td>M</td>\n",
       "      <td>сотрудник</td>\n",
       "      <td>0</td>\n",
       "      <td>144425.938277</td>\n",
       "      <td>покупка жилья для семьи</td>\n",
       "    </tr>\n",
       "    <tr>\n",
       "      <th>10</th>\n",
       "      <td>2</td>\n",
       "      <td>-4171.483647</td>\n",
       "      <td>36</td>\n",
       "      <td>высшее</td>\n",
       "      <td>0</td>\n",
       "      <td>женат / замужем</td>\n",
       "      <td>0</td>\n",
       "      <td>M</td>\n",
       "      <td>компаньон</td>\n",
       "      <td>0</td>\n",
       "      <td>113943.491460</td>\n",
       "      <td>покупка недвижимости</td>\n",
       "    </tr>\n",
       "    <tr>\n",
       "      <th>11</th>\n",
       "      <td>0</td>\n",
       "      <td>-792.701887</td>\n",
       "      <td>40</td>\n",
       "      <td>среднее</td>\n",
       "      <td>1</td>\n",
       "      <td>женат / замужем</td>\n",
       "      <td>0</td>\n",
       "      <td>F</td>\n",
       "      <td>сотрудник</td>\n",
       "      <td>0</td>\n",
       "      <td>77069.234271</td>\n",
       "      <td>покупка коммерческой недвижимости</td>\n",
       "    </tr>\n",
       "    <tr>\n",
       "      <th>12</th>\n",
       "      <td>0</td>\n",
       "      <td>NaN</td>\n",
       "      <td>65</td>\n",
       "      <td>среднее</td>\n",
       "      <td>1</td>\n",
       "      <td>гражданский брак</td>\n",
       "      <td>1</td>\n",
       "      <td>M</td>\n",
       "      <td>пенсионер</td>\n",
       "      <td>0</td>\n",
       "      <td>NaN</td>\n",
       "      <td>сыграть свадьбу</td>\n",
       "    </tr>\n",
       "    <tr>\n",
       "      <th>13</th>\n",
       "      <td>0</td>\n",
       "      <td>-1846.641941</td>\n",
       "      <td>54</td>\n",
       "      <td>неоконченное высшее</td>\n",
       "      <td>2</td>\n",
       "      <td>женат / замужем</td>\n",
       "      <td>0</td>\n",
       "      <td>F</td>\n",
       "      <td>сотрудник</td>\n",
       "      <td>0</td>\n",
       "      <td>130458.228857</td>\n",
       "      <td>приобретение автомобиля</td>\n",
       "    </tr>\n",
       "    <tr>\n",
       "      <th>14</th>\n",
       "      <td>0</td>\n",
       "      <td>-1844.956182</td>\n",
       "      <td>56</td>\n",
       "      <td>высшее</td>\n",
       "      <td>0</td>\n",
       "      <td>гражданский брак</td>\n",
       "      <td>1</td>\n",
       "      <td>F</td>\n",
       "      <td>компаньон</td>\n",
       "      <td>1</td>\n",
       "      <td>165127.911772</td>\n",
       "      <td>покупка жилой недвижимости</td>\n",
       "    </tr>\n",
       "    <tr>\n",
       "      <th>15</th>\n",
       "      <td>1</td>\n",
       "      <td>-972.364419</td>\n",
       "      <td>26</td>\n",
       "      <td>среднее</td>\n",
       "      <td>1</td>\n",
       "      <td>женат / замужем</td>\n",
       "      <td>0</td>\n",
       "      <td>F</td>\n",
       "      <td>сотрудник</td>\n",
       "      <td>0</td>\n",
       "      <td>116820.904450</td>\n",
       "      <td>строительство собственной недвижимости</td>\n",
       "    </tr>\n",
       "    <tr>\n",
       "      <th>16</th>\n",
       "      <td>0</td>\n",
       "      <td>-1719.934226</td>\n",
       "      <td>35</td>\n",
       "      <td>среднее</td>\n",
       "      <td>1</td>\n",
       "      <td>женат / замужем</td>\n",
       "      <td>0</td>\n",
       "      <td>F</td>\n",
       "      <td>сотрудник</td>\n",
       "      <td>0</td>\n",
       "      <td>289202.704229</td>\n",
       "      <td>недвижимость</td>\n",
       "    </tr>\n",
       "    <tr>\n",
       "      <th>17</th>\n",
       "      <td>0</td>\n",
       "      <td>-2369.999720</td>\n",
       "      <td>33</td>\n",
       "      <td>высшее</td>\n",
       "      <td>0</td>\n",
       "      <td>гражданский брак</td>\n",
       "      <td>1</td>\n",
       "      <td>M</td>\n",
       "      <td>сотрудник</td>\n",
       "      <td>0</td>\n",
       "      <td>90410.586745</td>\n",
       "      <td>строительство недвижимости</td>\n",
       "    </tr>\n",
       "    <tr>\n",
       "      <th>18</th>\n",
       "      <td>0</td>\n",
       "      <td>400281.136913</td>\n",
       "      <td>53</td>\n",
       "      <td>среднее</td>\n",
       "      <td>1</td>\n",
       "      <td>вдовец / вдова</td>\n",
       "      <td>2</td>\n",
       "      <td>F</td>\n",
       "      <td>пенсионер</td>\n",
       "      <td>0</td>\n",
       "      <td>56823.777243</td>\n",
       "      <td>на покупку подержанного автомобиля</td>\n",
       "    </tr>\n",
       "    <tr>\n",
       "      <th>19</th>\n",
       "      <td>0</td>\n",
       "      <td>-10038.818549</td>\n",
       "      <td>48</td>\n",
       "      <td>СРЕДНЕЕ</td>\n",
       "      <td>1</td>\n",
       "      <td>в разводе</td>\n",
       "      <td>3</td>\n",
       "      <td>F</td>\n",
       "      <td>сотрудник</td>\n",
       "      <td>0</td>\n",
       "      <td>242831.107982</td>\n",
       "      <td>на покупку своего автомобиля</td>\n",
       "    </tr>\n",
       "  </tbody>\n",
       "</table>\n",
       "</div>"
      ],
      "text/plain": [
       "    children  days_employed  dob_years            education  education_id  \\\n",
       "0          1   -8437.673028         42               высшее             0   \n",
       "1          1   -4024.803754         36              среднее             1   \n",
       "2          0   -5623.422610         33              Среднее             1   \n",
       "3          3   -4124.747207         32              среднее             1   \n",
       "4          0  340266.072047         53              среднее             1   \n",
       "5          0    -926.185831         27               высшее             0   \n",
       "6          0   -2879.202052         43               высшее             0   \n",
       "7          0    -152.779569         50              СРЕДНЕЕ             1   \n",
       "8          2   -6929.865299         35               ВЫСШЕЕ             0   \n",
       "9          0   -2188.756445         41              среднее             1   \n",
       "10         2   -4171.483647         36               высшее             0   \n",
       "11         0    -792.701887         40              среднее             1   \n",
       "12         0            NaN         65              среднее             1   \n",
       "13         0   -1846.641941         54  неоконченное высшее             2   \n",
       "14         0   -1844.956182         56               высшее             0   \n",
       "15         1    -972.364419         26              среднее             1   \n",
       "16         0   -1719.934226         35              среднее             1   \n",
       "17         0   -2369.999720         33               высшее             0   \n",
       "18         0  400281.136913         53              среднее             1   \n",
       "19         0  -10038.818549         48              СРЕДНЕЕ             1   \n",
       "\n",
       "       family_status  family_status_id gender income_type  debt  \\\n",
       "0    женат / замужем                 0      F   сотрудник     0   \n",
       "1    женат / замужем                 0      F   сотрудник     0   \n",
       "2    женат / замужем                 0      M   сотрудник     0   \n",
       "3    женат / замужем                 0      M   сотрудник     0   \n",
       "4   гражданский брак                 1      F   пенсионер     0   \n",
       "5   гражданский брак                 1      M   компаньон     0   \n",
       "6    женат / замужем                 0      F   компаньон     0   \n",
       "7    женат / замужем                 0      M   сотрудник     0   \n",
       "8   гражданский брак                 1      F   сотрудник     0   \n",
       "9    женат / замужем                 0      M   сотрудник     0   \n",
       "10   женат / замужем                 0      M   компаньон     0   \n",
       "11   женат / замужем                 0      F   сотрудник     0   \n",
       "12  гражданский брак                 1      M   пенсионер     0   \n",
       "13   женат / замужем                 0      F   сотрудник     0   \n",
       "14  гражданский брак                 1      F   компаньон     1   \n",
       "15   женат / замужем                 0      F   сотрудник     0   \n",
       "16   женат / замужем                 0      F   сотрудник     0   \n",
       "17  гражданский брак                 1      M   сотрудник     0   \n",
       "18    вдовец / вдова                 2      F   пенсионер     0   \n",
       "19         в разводе                 3      F   сотрудник     0   \n",
       "\n",
       "     total_income                                 purpose  \n",
       "0   253875.639453                           покупка жилья  \n",
       "1   112080.014102                 приобретение автомобиля  \n",
       "2   145885.952297                           покупка жилья  \n",
       "3   267628.550329              дополнительное образование  \n",
       "4   158616.077870                         сыграть свадьбу  \n",
       "5   255763.565419                           покупка жилья  \n",
       "6   240525.971920                       операции с жильем  \n",
       "7   135823.934197                             образование  \n",
       "8    95856.832424                   на проведение свадьбы  \n",
       "9   144425.938277                 покупка жилья для семьи  \n",
       "10  113943.491460                    покупка недвижимости  \n",
       "11   77069.234271       покупка коммерческой недвижимости  \n",
       "12            NaN                         сыграть свадьбу  \n",
       "13  130458.228857                 приобретение автомобиля  \n",
       "14  165127.911772              покупка жилой недвижимости  \n",
       "15  116820.904450  строительство собственной недвижимости  \n",
       "16  289202.704229                            недвижимость  \n",
       "17   90410.586745              строительство недвижимости  \n",
       "18   56823.777243      на покупку подержанного автомобиля  \n",
       "19  242831.107982            на покупку своего автомобиля  "
      ]
     },
     "execution_count": 3,
     "metadata": {},
     "output_type": "execute_result"
    }
   ],
   "source": [
    "data.head(20)"
   ]
  },
  {
   "cell_type": "markdown",
   "id": "01db1d70",
   "metadata": {
    "deletable": false,
    "editable": false,
    "id": "1c12e233"
   },
   "source": [
    "**Задание 3. Выведите основную информацию о датафрейме с помощью метода `info()`.**"
   ]
  },
  {
   "cell_type": "code",
   "execution_count": 4,
   "id": "3761b2cc",
   "metadata": {
    "deletable": false,
    "id": "2b757bca",
    "outputId": "15376089-8dad-46c9-b520-c05248d43158"
   },
   "outputs": [
    {
     "name": "stdout",
     "output_type": "stream",
     "text": [
      "<class 'pandas.core.frame.DataFrame'>\n",
      "RangeIndex: 21525 entries, 0 to 21524\n",
      "Data columns (total 12 columns):\n",
      " #   Column            Non-Null Count  Dtype  \n",
      "---  ------            --------------  -----  \n",
      " 0   children          21525 non-null  int64  \n",
      " 1   days_employed     19351 non-null  float64\n",
      " 2   dob_years         21525 non-null  int64  \n",
      " 3   education         21525 non-null  object \n",
      " 4   education_id      21525 non-null  int64  \n",
      " 5   family_status     21525 non-null  object \n",
      " 6   family_status_id  21525 non-null  int64  \n",
      " 7   gender            21525 non-null  object \n",
      " 8   income_type       21525 non-null  object \n",
      " 9   debt              21525 non-null  int64  \n",
      " 10  total_income      19351 non-null  float64\n",
      " 11  purpose           21525 non-null  object \n",
      "dtypes: float64(2), int64(5), object(5)\n",
      "memory usage: 2.0+ MB\n"
     ]
    }
   ],
   "source": [
    "data.info()"
   ]
  },
  {
   "cell_type": "markdown",
   "id": "2ec4bba0",
   "metadata": {
    "deletable": false,
    "editable": false,
    "id": "333ec665"
   },
   "source": [
    "## Предобработка данных"
   ]
  },
  {
   "cell_type": "markdown",
   "id": "c2597d5d",
   "metadata": {
    "deletable": false,
    "editable": false,
    "id": "02d92d53"
   },
   "source": [
    "### Удаление пропусков"
   ]
  },
  {
   "cell_type": "markdown",
   "id": "4b27e114",
   "metadata": {
    "deletable": false,
    "editable": false,
    "id": "cd84967c"
   },
   "source": [
    "**Задание 4. Выведите количество пропущенных значений для каждого столбца. Используйте комбинацию двух методов.**"
   ]
  },
  {
   "cell_type": "code",
   "execution_count": 5,
   "id": "50e1369e",
   "metadata": {
    "deletable": false,
    "id": "7f9b2309",
    "outputId": "81f4d817-781c-465c-ed15-91ce4446810d"
   },
   "outputs": [
    {
     "data": {
      "text/plain": [
       "children               0\n",
       "days_employed       2174\n",
       "dob_years              0\n",
       "education              0\n",
       "education_id           0\n",
       "family_status          0\n",
       "family_status_id       0\n",
       "gender                 0\n",
       "income_type            0\n",
       "debt                   0\n",
       "total_income        2174\n",
       "purpose                0\n",
       "dtype: int64"
      ]
     },
     "execution_count": 5,
     "metadata": {},
     "output_type": "execute_result"
    }
   ],
   "source": [
    "data.isna().sum()"
   ]
  },
  {
   "cell_type": "markdown",
   "id": "2362acf0",
   "metadata": {
    "deletable": false,
    "editable": false,
    "id": "db86e27b"
   },
   "source": [
    "**Задание 5. В двух столбцах есть пропущенные значения. Один из них — `days_employed`. Пропуски в этом столбце вы обработаете на следующем этапе. Другой столбец с пропущенными значениями — `total_income` — хранит данные о доходах. На сумму дохода сильнее всего влияет тип занятости, поэтому заполнить пропуски в этом столбце нужно медианным значением по каждому типу из столбца `income_type`. Например, у человека с типом занятости `сотрудник` пропуск в столбце `total_income` должен быть заполнен медианным доходом среди всех записей с тем же типом.**"
   ]
  },
  {
   "cell_type": "code",
   "execution_count": 6,
   "id": "b6e85423",
   "metadata": {
    "deletable": false,
    "id": "42006a93"
   },
   "outputs": [],
   "source": [
    "for t in data['income_type'].unique():\n",
    "    data.loc[(data['income_type'] == t) & (data['total_income'].isna()), 'total_income'] = \\\n",
    "    data.loc[(data['income_type'] == t), 'total_income'].median()"
   ]
  },
  {
   "cell_type": "markdown",
   "id": "1272ee22",
   "metadata": {
    "deletable": false,
    "editable": false,
    "id": "89da5ece"
   },
   "source": [
    "### Обработка аномальных значений"
   ]
  },
  {
   "cell_type": "markdown",
   "id": "1a7ba002",
   "metadata": {
    "deletable": false,
    "editable": false,
    "id": "57964554"
   },
   "source": [
    "**Задание 6. В данных могут встречаться артефакты (аномалии) — значения, которые не отражают действительность и появились по какой-то ошибке. таким артефактом будет отрицательное количество дней трудового стажа в столбце `days_employed`. Для реальных данных это нормально. Обработайте значения в этом столбце: замените все отрицательные значения положительными с помощью метода `abs()`.**"
   ]
  },
  {
   "cell_type": "code",
   "execution_count": 7,
   "id": "db7fba62",
   "metadata": {
    "deletable": false,
    "id": "f6f055bf"
   },
   "outputs": [],
   "source": [
    "data['days_employed'] = data['days_employed'].abs()"
   ]
  },
  {
   "cell_type": "markdown",
   "id": "c31d7c90",
   "metadata": {
    "deletable": false,
    "editable": false,
    "id": "6107dd2f"
   },
   "source": [
    "**Задание 7. Для каждого типа занятости выведите медианное значение трудового стажа `days_employed` в днях.**"
   ]
  },
  {
   "cell_type": "code",
   "execution_count": 8,
   "id": "793761df",
   "metadata": {
    "deletable": false,
    "id": "85a5faf6",
    "outputId": "801ef80e-522b-4668-f34e-565af7432bcf"
   },
   "outputs": [
    {
     "data": {
      "text/plain": [
       "income_type\n",
       "безработный        366413.652744\n",
       "в декрете            3296.759962\n",
       "госслужащий          2689.368353\n",
       "компаньон            1547.382223\n",
       "пенсионер          365213.306266\n",
       "предприниматель       520.848083\n",
       "сотрудник            1574.202821\n",
       "студент               578.751554\n",
       "Name: days_employed, dtype: float64"
      ]
     },
     "execution_count": 8,
     "metadata": {},
     "output_type": "execute_result"
    }
   ],
   "source": [
    "data.groupby('income_type')['days_employed'].agg('median')"
   ]
  },
  {
   "cell_type": "markdown",
   "id": "4b5f686d",
   "metadata": {
    "deletable": false,
    "editable": false,
    "id": "38d1a030"
   },
   "source": [
    "У двух типов (безработные и пенсионеры) получатся аномально большие значения. Исправить такие значения сложно, поэтому оставьте их как есть. Тем более этот столбец не понадобится вам для исследования."
   ]
  },
  {
   "cell_type": "markdown",
   "id": "3c9e6c6f",
   "metadata": {
    "deletable": false,
    "editable": false,
    "id": "d8a9f147"
   },
   "source": [
    "**Задание 8. Выведите перечень уникальных значений столбца `children`.**"
   ]
  },
  {
   "cell_type": "code",
   "execution_count": 9,
   "id": "55c2e5ab",
   "metadata": {
    "deletable": false,
    "id": "ef5056eb",
    "outputId": "6975b15c-7f95-4697-d16d-a0c79b657b03"
   },
   "outputs": [
    {
     "data": {
      "text/plain": [
       "array([ 1,  0,  3,  2, -1,  4, 20,  5], dtype=int64)"
      ]
     },
     "execution_count": 9,
     "metadata": {},
     "output_type": "execute_result"
    }
   ],
   "source": [
    "data['children'].unique()"
   ]
  },
  {
   "cell_type": "markdown",
   "id": "6ca39670",
   "metadata": {
    "deletable": false,
    "editable": false,
    "id": "40b9ebf2"
   },
   "source": [
    "**Задание 9. В столбце `children` есть два аномальных значения. Удалите строки, в которых встречаются такие аномальные значения из датафрейма `data`.**"
   ]
  },
  {
   "cell_type": "code",
   "execution_count": 10,
   "id": "7d66defd",
   "metadata": {
    "deletable": false,
    "id": "3ff9801d"
   },
   "outputs": [],
   "source": [
    "data = data[(data['children'] != -1) & (data['children'] != 20)]"
   ]
  },
  {
   "cell_type": "markdown",
   "id": "111203cd",
   "metadata": {
    "deletable": false,
    "editable": false,
    "id": "bbc4d0ce"
   },
   "source": [
    "**Задание 10. Ещё раз выведите перечень уникальных значений столбца `children`, чтобы убедиться, что артефакты удалены.**"
   ]
  },
  {
   "cell_type": "code",
   "execution_count": 11,
   "id": "38dadcd4",
   "metadata": {
    "deletable": false,
    "id": "ad4fa8b7",
    "outputId": "b2097101-d49d-44d9-901b-32a65c9463d1"
   },
   "outputs": [
    {
     "data": {
      "text/plain": [
       "array([1, 0, 3, 2, 4, 5], dtype=int64)"
      ]
     },
     "execution_count": 11,
     "metadata": {},
     "output_type": "execute_result"
    }
   ],
   "source": [
    "data['children'].unique()"
   ]
  },
  {
   "cell_type": "markdown",
   "id": "0bf7ad44",
   "metadata": {
    "deletable": false,
    "editable": false,
    "id": "75440b63"
   },
   "source": [
    "### Удаление пропусков (продолжение)"
   ]
  },
  {
   "cell_type": "markdown",
   "id": "6086b428",
   "metadata": {
    "deletable": false,
    "editable": false,
    "id": "f4ea573f"
   },
   "source": [
    "**Задание 11. Заполните пропуски в столбце `days_employed` медианными значениями по каждого типа занятости `income_type`.**"
   ]
  },
  {
   "cell_type": "code",
   "execution_count": 12,
   "id": "667c8f93",
   "metadata": {
    "deletable": false,
    "id": "af6b1a7e"
   },
   "outputs": [],
   "source": [
    "for t in data['income_type'].unique():\n",
    "    data.loc[(data['income_type'] == t) & (data['days_employed'].isna()), 'days_employed'] = \\\n",
    "    data.loc[(data['income_type'] == t), 'days_employed'].median()"
   ]
  },
  {
   "cell_type": "markdown",
   "id": "2d991249",
   "metadata": {
    "deletable": false,
    "editable": false,
    "id": "2753f40d"
   },
   "source": [
    "**Задание 12. Убедитесь, что все пропуски заполнены. Проверьте себя и ещё раз выведите количество пропущенных значений для каждого столбца с помощью двух методов.**"
   ]
  },
  {
   "cell_type": "code",
   "execution_count": 13,
   "id": "a70813e4",
   "metadata": {
    "deletable": false,
    "id": "55f78bc2",
    "outputId": "8da1e4e1-358e-4e87-98c9-f261bce0a7b2"
   },
   "outputs": [
    {
     "data": {
      "text/plain": [
       "children            0\n",
       "days_employed       0\n",
       "dob_years           0\n",
       "education           0\n",
       "education_id        0\n",
       "family_status       0\n",
       "family_status_id    0\n",
       "gender              0\n",
       "income_type         0\n",
       "debt                0\n",
       "total_income        0\n",
       "purpose             0\n",
       "dtype: int64"
      ]
     },
     "execution_count": 13,
     "metadata": {},
     "output_type": "execute_result"
    }
   ],
   "source": [
    "data.isna().sum()"
   ]
  },
  {
   "cell_type": "markdown",
   "id": "8e1dc12a",
   "metadata": {
    "deletable": false,
    "editable": false,
    "id": "ddc81e43"
   },
   "source": [
    "### Изменение типов данных"
   ]
  },
  {
   "cell_type": "markdown",
   "id": "a28faeb1",
   "metadata": {
    "deletable": false,
    "editable": false,
    "id": "42d19d24"
   },
   "source": [
    "**Задание 13. Замените вещественный тип данных в столбце `total_income` на целочисленный с помощью метода `astype()`.**"
   ]
  },
  {
   "cell_type": "code",
   "execution_count": 14,
   "id": "06af29fa",
   "metadata": {
    "deletable": false,
    "id": "920b65ad"
   },
   "outputs": [],
   "source": [
    "data['total_income'] = data['total_income'].astype(int)"
   ]
  },
  {
   "cell_type": "markdown",
   "id": "043f8e7b",
   "metadata": {
    "deletable": false,
    "editable": false,
    "id": "80c420ba"
   },
   "source": [
    "### Обработка дубликатов"
   ]
  },
  {
   "cell_type": "markdown",
   "id": "040a3cd4",
   "metadata": {
    "deletable": false,
    "editable": false
   },
   "source": [
    "**Задание 14. Обработайте неявные дубликаты в столбце `education`. В этом столбце есть одни и те же значения, но записанные по-разному: с использованием заглавных и строчных букв. Приведите их к нижнему регистру. Проверьте остальные столбцы.**"
   ]
  },
  {
   "cell_type": "code",
   "execution_count": 15,
   "id": "d8b0737e",
   "metadata": {
    "deletable": false
   },
   "outputs": [],
   "source": [
    "data['education'] = data['education'].str.lower()"
   ]
  },
  {
   "cell_type": "markdown",
   "id": "0514ce7d",
   "metadata": {
    "deletable": false,
    "editable": false,
    "id": "dc587695"
   },
   "source": [
    "**Задание 15. Выведите на экран количество строк-дубликатов в данных. Если такие строки присутствуют, удалите их.**"
   ]
  },
  {
   "cell_type": "code",
   "execution_count": 16,
   "id": "6371740b",
   "metadata": {
    "deletable": false,
    "id": "3ee445e4",
    "outputId": "9684deba-1934-42d1-99e1-cda61740f822"
   },
   "outputs": [
    {
     "data": {
      "text/plain": [
       "71"
      ]
     },
     "execution_count": 16,
     "metadata": {},
     "output_type": "execute_result"
    }
   ],
   "source": [
    "data.duplicated().sum()"
   ]
  },
  {
   "cell_type": "code",
   "execution_count": 17,
   "id": "2ab2f258",
   "metadata": {
    "deletable": false,
    "id": "8575fe05"
   },
   "outputs": [],
   "source": [
    "data = data.drop_duplicates()"
   ]
  },
  {
   "cell_type": "markdown",
   "id": "259acd10",
   "metadata": {
    "deletable": false,
    "editable": false,
    "id": "9904cf55"
   },
   "source": [
    "### Категоризация данных"
   ]
  },
  {
   "cell_type": "markdown",
   "id": "424f8845",
   "metadata": {
    "deletable": false,
    "editable": false,
    "id": "72fcc8a2"
   },
   "source": [
    "**Задание 16. На основании диапазонов, указанных ниже, создайте в датафрейме `data` столбец `total_income_category` с категориями:**\n",
    "\n",
    "- 0–30000 — `'E'`;\n",
    "- 30001–50000 — `'D'`;\n",
    "- 50001–200000 — `'C'`;\n",
    "- 200001–1000000 — `'B'`;\n",
    "- 1000001 и выше — `'A'`.\n",
    "\n",
    "\n",
    "**Например, кредитополучателю с доходом 25000 нужно назначить категорию `'E'`, а клиенту, получающему 235000, — `'B'`. Используйте собственную функцию с именем `categorize_income()` и метод `apply()`.**"
   ]
  },
  {
   "cell_type": "code",
   "execution_count": 18,
   "id": "1e984426",
   "metadata": {
    "deletable": false,
    "id": "e1771346"
   },
   "outputs": [],
   "source": [
    "def categorize_income(income):\n",
    "    try:\n",
    "        if 0 <= income <= 30000:\n",
    "            return 'E'\n",
    "        elif 30001 <= income <= 50000:\n",
    "            return 'D'\n",
    "        elif 50001 <= income <= 200000:\n",
    "            return 'C'\n",
    "        elif 200001 <= income <= 1000000:\n",
    "            return 'B'\n",
    "        elif income >= 1000001:\n",
    "            return 'A'\n",
    "    except:\n",
    "        pass"
   ]
  },
  {
   "cell_type": "code",
   "execution_count": 19,
   "id": "1893a656",
   "metadata": {
    "deletable": false,
    "id": "d5f3586d"
   },
   "outputs": [],
   "source": [
    "data['total_income_category'] = data['total_income'].apply(categorize_income)"
   ]
  },
  {
   "cell_type": "markdown",
   "id": "9cf42a49",
   "metadata": {
    "deletable": false,
    "editable": false,
    "id": "dde49b5c"
   },
   "source": [
    "**Задание 17. Выведите на экран перечень уникальных целей взятия кредита из столбца `purpose`.**"
   ]
  },
  {
   "cell_type": "code",
   "execution_count": 20,
   "id": "78234ec0",
   "metadata": {
    "deletable": false,
    "id": "f67ce9b3",
    "outputId": "673c12d9-7d7e-4ae0-9812-c622c89dd244"
   },
   "outputs": [
    {
     "data": {
      "text/plain": [
       "array(['покупка жилья', 'приобретение автомобиля',\n",
       "       'дополнительное образование', 'сыграть свадьбу',\n",
       "       'операции с жильем', 'образование', 'на проведение свадьбы',\n",
       "       'покупка жилья для семьи', 'покупка недвижимости',\n",
       "       'покупка коммерческой недвижимости', 'покупка жилой недвижимости',\n",
       "       'строительство собственной недвижимости', 'недвижимость',\n",
       "       'строительство недвижимости', 'на покупку подержанного автомобиля',\n",
       "       'на покупку своего автомобиля',\n",
       "       'операции с коммерческой недвижимостью',\n",
       "       'строительство жилой недвижимости', 'жилье',\n",
       "       'операции со своей недвижимостью', 'автомобили',\n",
       "       'заняться образованием', 'сделка с подержанным автомобилем',\n",
       "       'получение образования', 'автомобиль', 'свадьба',\n",
       "       'получение дополнительного образования', 'покупка своего жилья',\n",
       "       'операции с недвижимостью', 'получение высшего образования',\n",
       "       'свой автомобиль', 'сделка с автомобилем',\n",
       "       'профильное образование', 'высшее образование',\n",
       "       'покупка жилья для сдачи', 'на покупку автомобиля', 'ремонт жилью',\n",
       "       'заняться высшим образованием'], dtype=object)"
      ]
     },
     "execution_count": 20,
     "metadata": {},
     "output_type": "execute_result"
    }
   ],
   "source": [
    "data['purpose'].unique()"
   ]
  },
  {
   "cell_type": "markdown",
   "id": "06dbf5cf",
   "metadata": {
    "deletable": false,
    "editable": false,
    "id": "85d0aef0"
   },
   "source": [
    "**Задание 18. Создайте функцию, которая на основании данных из столбца `purpose` сформирует новый столбец `purpose_category`, в который войдут следующие категории:**\n",
    "\n",
    "- `'операции с автомобилем'`,\n",
    "- `'операции с недвижимостью'`,\n",
    "- `'проведение свадьбы'`,\n",
    "- `'получение образования'`.\n",
    "\n",
    "**Например, если в столбце `purpose` находится подстрока `'на покупку автомобиля'`, то в столбце `purpose_category` должна появиться строка `'операции с автомобилем'`.**\n",
    "\n",
    "**Используйте собственную функцию с именем `categorize_purpose()` и метод `apply()`. Изучите данные в столбце `purpose` и определите, какие подстроки помогут вам правильно определить категорию.**"
   ]
  },
  {
   "cell_type": "code",
   "execution_count": 21,
   "id": "d36e900f",
   "metadata": {
    "deletable": false,
    "id": "e149fab4"
   },
   "outputs": [],
   "source": [
    "def categorize_purpose(row):\n",
    "    try:\n",
    "        if 'автом' in row:\n",
    "            return 'операции с автомобилем'\n",
    "        elif 'жил' in row or 'недвиж' in row:\n",
    "            return 'операции с недвижимостью'\n",
    "        elif 'свад' in row:\n",
    "            return 'проведение свадьбы'\n",
    "        elif 'образов' in row:\n",
    "            return 'получение образования'\n",
    "    except:\n",
    "        return 'нет категории'"
   ]
  },
  {
   "cell_type": "code",
   "execution_count": 22,
   "id": "ef63c7f5",
   "metadata": {
    "deletable": false,
    "id": "bf36e69b"
   },
   "outputs": [],
   "source": [
    "data['purpose_category'] = data['purpose'].apply(categorize_purpose)"
   ]
  },
  {
   "cell_type": "markdown",
   "id": "e61e4169",
   "metadata": {
    "deletable": false,
    "editable": false,
    "id": "09b242bf"
   },
   "source": [
    "### Шаг 3. Исследуйте данные и ответьте на вопросы"
   ]
  },
  {
   "cell_type": "markdown",
   "id": "e0e8efbe",
   "metadata": {
    "deletable": false,
    "editable": false,
    "id": "c5d66278"
   },
   "source": [
    "#### 3.1 Есть ли зависимость между количеством детей и возвратом кредита в срок?"
   ]
  },
  {
   "cell_type": "code",
   "execution_count": 23,
   "id": "1de128b1",
   "metadata": {
    "deletable": false,
    "id": "dc3f7ee8",
    "scrolled": true
   },
   "outputs": [
    {
     "data": {
      "text/plain": [
       "debt  children\n",
       "0     0           13028\n",
       "      1            4364\n",
       "      2            1858\n",
       "      3             303\n",
       "      4              37\n",
       "      5               9\n",
       "1     0            1063\n",
       "      1             444\n",
       "      2             194\n",
       "      3              27\n",
       "      4               4\n",
       "Name: children, dtype: int64"
      ]
     },
     "execution_count": 23,
     "metadata": {},
     "output_type": "execute_result"
    }
   ],
   "source": [
    "# группируем данные по выплатам в зависимости от количества детей\n",
    "data.groupby('debt')['children'].value_counts()"
   ]
  },
  {
   "cell_type": "code",
   "execution_count": 24,
   "id": "0d2b25c1",
   "metadata": {
    "scrolled": true
   },
   "outputs": [
    {
     "data": {
      "text/html": [
       "<div>\n",
       "<style scoped>\n",
       "    .dataframe tbody tr th:only-of-type {\n",
       "        vertical-align: middle;\n",
       "    }\n",
       "\n",
       "    .dataframe tbody tr th {\n",
       "        vertical-align: top;\n",
       "    }\n",
       "\n",
       "    .dataframe thead th {\n",
       "        text-align: right;\n",
       "    }\n",
       "</style>\n",
       "<table border=\"1\" class=\"dataframe\">\n",
       "  <thead>\n",
       "    <tr style=\"text-align: right;\">\n",
       "      <th></th>\n",
       "      <th>Наличие детей</th>\n",
       "      <th>Вернули в срок</th>\n",
       "      <th>Задержали</th>\n",
       "      <th>Возврат в срок, %</th>\n",
       "    </tr>\n",
       "  </thead>\n",
       "  <tbody>\n",
       "    <tr>\n",
       "      <th>0</th>\n",
       "      <td>Нет детей</td>\n",
       "      <td>13028</td>\n",
       "      <td>1063</td>\n",
       "      <td>92</td>\n",
       "    </tr>\n",
       "    <tr>\n",
       "      <th>1</th>\n",
       "      <td>Один ребенок</td>\n",
       "      <td>4364</td>\n",
       "      <td>444</td>\n",
       "      <td>90</td>\n",
       "    </tr>\n",
       "    <tr>\n",
       "      <th>2</th>\n",
       "      <td>Двое детей</td>\n",
       "      <td>1858</td>\n",
       "      <td>194</td>\n",
       "      <td>90</td>\n",
       "    </tr>\n",
       "    <tr>\n",
       "      <th>3</th>\n",
       "      <td>Трое детей</td>\n",
       "      <td>303</td>\n",
       "      <td>27</td>\n",
       "      <td>91</td>\n",
       "    </tr>\n",
       "    <tr>\n",
       "      <th>4</th>\n",
       "      <td>Четверо детей</td>\n",
       "      <td>37</td>\n",
       "      <td>4</td>\n",
       "      <td>90</td>\n",
       "    </tr>\n",
       "    <tr>\n",
       "      <th>5</th>\n",
       "      <td>Пять детей</td>\n",
       "      <td>9</td>\n",
       "      <td>0</td>\n",
       "      <td>100</td>\n",
       "    </tr>\n",
       "  </tbody>\n",
       "</table>\n",
       "</div>"
      ],
      "text/plain": [
       "   Наличие детей  Вернули в срок  Задержали  Возврат в срок, %\n",
       "0      Нет детей           13028       1063                 92\n",
       "1   Один ребенок            4364        444                 90\n",
       "2     Двое детей            1858        194                 90\n",
       "3     Трое детей             303         27                 91\n",
       "4  Четверо детей              37          4                 90\n",
       "5     Пять детей               9          0                100"
      ]
     },
     "execution_count": 24,
     "metadata": {},
     "output_type": "execute_result"
    }
   ],
   "source": [
    "# создаем таблицу с результатами группировки data\n",
    "group_children = [['Нет детей', 13028, 1063], \n",
    "                ['Один ребенок', 4364, 444],\n",
    "                ['Двое детей', 1858, 194],\n",
    "                ['Трое детей', 303, 27],\n",
    "                ['Четверо детей', 37, 4],\n",
    "                ['Пять детей', 9, 0]]                                                 \n",
    "# названия столбоцов \n",
    "columns_children = ['Наличие детей','Вернули в срок','Задержали']                                                \n",
    "info_children = pd.DataFrame(data=group_children, columns=columns_children)\n",
    "# добавим столбец с расчётом возврата в срок\n",
    "info_children['Возврат в срок, %'] = (info_children['Вернули в срок'] / \n",
    "                                      (info_children['Вернули в срок'] + \n",
    "                                       info_children['Задержали'])  * 100).astype('int') \n",
    "# вывод таблицы\n",
    "info_children       "
   ]
  },
  {
   "cell_type": "code",
   "execution_count": 25,
   "id": "a4b1f766",
   "metadata": {
    "scrolled": true
   },
   "outputs": [
    {
     "data": {
      "image/png": "[encoded data removed]",
      "text/plain": [
       "<Figure size 432x288 with 1 Axes>"
      ]
     },
     "metadata": {
      "needs_background": "light"
     },
     "output_type": "display_data"
    }
   ],
   "source": [
    "sns.barplot(data=info_children, x='Возврат в срок, %', y='Наличие детей');"
   ]
  },
  {
   "cell_type": "markdown",
   "id": "d8308015",
   "metadata": {
    "deletable": false,
    "id": "3a6b99ec"
   },
   "source": [
    "**Вывод:** "
   ]
  },
  {
   "cell_type": "markdown",
   "id": "4e1b29a4",
   "metadata": {},
   "source": [
    "1. Заёмщики **без детей** на **2% чаще возвращали кредит в срок** по сравнению с заёмщками у которых есть дети.\n",
    "2. Количество **детей от 1-го до 4-х** у заёмщика существенно **не влияет** на возврат кредита в срок, лишь заёмщики с **3-ми детьми** на **1% чаще** возвращали кредит в срок. \n",
    "3. Заёмщики с **пятью детьми** в **100%** случаев возвращали кредит **в срок**, однако этот показатель нельзя считать надежным, т.к. это **всего 9 случев из 21331**."
   ]
  },
  {
   "cell_type": "markdown",
   "id": "880046be",
   "metadata": {
    "deletable": false,
    "editable": false,
    "id": "97be82ca"
   },
   "source": [
    "#### 3.2 Есть ли зависимость между семейным положением и возвратом кредита в срок?"
   ]
  },
  {
   "cell_type": "code",
   "execution_count": 26,
   "id": "48d52f86",
   "metadata": {
    "deletable": false,
    "id": "cd7e3720"
   },
   "outputs": [],
   "source": [
    "# приведем к нижнему регистру значения family_status'\n",
    "data['family_status'] = data['family_status'].str.lower() \n",
    "# методом agg() считаем необходимые значения по каждой группе\n",
    "# count - всего заёмщиков\n",
    "# sum - всего должников\n",
    "# mean - доля должников\n",
    "family_st_group = data.groupby('family_status').agg({'debt': ['count','sum','mean']}).reset_index()\n",
    "# family_st_group"
   ]
  },
  {
   "cell_type": "code",
   "execution_count": 27,
   "id": "04f9e0ae",
   "metadata": {},
   "outputs": [
    {
     "data": {
      "text/html": [
       "<style type=\"text/css\">\n",
       "</style>\n",
       "<table id=\"T_78d1d\">\n",
       "  <thead>\n",
       "    <tr>\n",
       "      <th class=\"blank level0\" >&nbsp;</th>\n",
       "      <th id=\"T_78d1d_level0_col0\" class=\"col_heading level0 col0\" >Семейный статус</th>\n",
       "      <th id=\"T_78d1d_level0_col1\" class=\"col_heading level0 col1\" >Всего заёмщиков</th>\n",
       "      <th id=\"T_78d1d_level0_col2\" class=\"col_heading level0 col2\" >Всего должников</th>\n",
       "      <th id=\"T_78d1d_level0_col3\" class=\"col_heading level0 col3\" >Доля должников</th>\n",
       "    </tr>\n",
       "  </thead>\n",
       "  <tbody>\n",
       "    <tr>\n",
       "      <th id=\"T_78d1d_level0_row0\" class=\"row_heading level0 row0\" >0</th>\n",
       "      <td id=\"T_78d1d_row0_col0\" class=\"data row0 col0\" >женат / замужем</td>\n",
       "      <td id=\"T_78d1d_row0_col1\" class=\"data row0 col1\" >12261</td>\n",
       "      <td id=\"T_78d1d_row0_col2\" class=\"data row0 col2\" >927</td>\n",
       "      <td id=\"T_78d1d_row0_col3\" class=\"data row0 col3\" >7.6%</td>\n",
       "    </tr>\n",
       "    <tr>\n",
       "      <th id=\"T_78d1d_level0_row1\" class=\"row_heading level0 row1\" >1</th>\n",
       "      <td id=\"T_78d1d_row1_col0\" class=\"data row1 col0\" >гражданский брак</td>\n",
       "      <td id=\"T_78d1d_row1_col1\" class=\"data row1 col1\" >4134</td>\n",
       "      <td id=\"T_78d1d_row1_col2\" class=\"data row1 col2\" >385</td>\n",
       "      <td id=\"T_78d1d_row1_col3\" class=\"data row1 col3\" >9.3%</td>\n",
       "    </tr>\n",
       "    <tr>\n",
       "      <th id=\"T_78d1d_level0_row2\" class=\"row_heading level0 row2\" >2</th>\n",
       "      <td id=\"T_78d1d_row2_col0\" class=\"data row2 col0\" >не женат / не замужем</td>\n",
       "      <td id=\"T_78d1d_row2_col1\" class=\"data row2 col1\" >2796</td>\n",
       "      <td id=\"T_78d1d_row2_col2\" class=\"data row2 col2\" >273</td>\n",
       "      <td id=\"T_78d1d_row2_col3\" class=\"data row2 col3\" >9.8%</td>\n",
       "    </tr>\n",
       "    <tr>\n",
       "      <th id=\"T_78d1d_level0_row3\" class=\"row_heading level0 row3\" >3</th>\n",
       "      <td id=\"T_78d1d_row3_col0\" class=\"data row3 col0\" >в разводе</td>\n",
       "      <td id=\"T_78d1d_row3_col1\" class=\"data row3 col1\" >1189</td>\n",
       "      <td id=\"T_78d1d_row3_col2\" class=\"data row3 col2\" >84</td>\n",
       "      <td id=\"T_78d1d_row3_col3\" class=\"data row3 col3\" >7.1%</td>\n",
       "    </tr>\n",
       "    <tr>\n",
       "      <th id=\"T_78d1d_level0_row4\" class=\"row_heading level0 row4\" >4</th>\n",
       "      <td id=\"T_78d1d_row4_col0\" class=\"data row4 col0\" >вдовец / вдова</td>\n",
       "      <td id=\"T_78d1d_row4_col1\" class=\"data row4 col1\" >951</td>\n",
       "      <td id=\"T_78d1d_row4_col2\" class=\"data row4 col2\" >63</td>\n",
       "      <td id=\"T_78d1d_row4_col3\" class=\"data row4 col3\" >6.6%</td>\n",
       "    </tr>\n",
       "  </tbody>\n",
       "</table>\n"
      ],
      "text/plain": [
       "<pandas.io.formats.style.Styler at 0x213406e6850>"
      ]
     },
     "execution_count": 27,
     "metadata": {},
     "output_type": "execute_result"
    }
   ],
   "source": [
    "# создаем таблицу с результатами\n",
    "group_family = pd.DataFrame({\"Семейный статус\": family_st_group['family_status'],\n",
    "                              \"Всего заёмщиков\": family_st_group['debt' ,'count'],\n",
    "                                \"Всего должников\": family_st_group['debt' ,'sum'],\n",
    "                                   \"Доля должников\": family_st_group['debt' ,'mean']}\n",
    "                            ).sort_values(by= 'Всего заёмщиков', ascending = False)\n",
    "\n",
    "group_family = group_family.reset_index(drop=True).style.format({'Доля должников': '{:.1%}'})\n",
    "group_family"
   ]
  },
  {
   "cell_type": "markdown",
   "id": "f13a0acc",
   "metadata": {
    "deletable": false,
    "id": "1cef7837"
   },
   "source": [
    "**Вывод:** "
   ]
  },
  {
   "cell_type": "markdown",
   "id": "4b4418ed",
   "metadata": {},
   "source": [
    "1. Заёмщики в стаусах **\"Гражданский брак\"** или **\"Не женат / не замужем\"** в **9.3%** и **9.8%** случаев, соответственно **нарушают** срок выплат по кредиту. Это на **2-3 % чаще**, чем заёмщки с другим семейным статусом. \n",
    "Вероятная причина - низкий уровень личной самодисциплины и ответственности в целом. \n",
    "2. Самыми **дисциплинированными по соблюдению сроков выплат** являются заёмщики в статусе **\"Вдовец / вдова\"**. Они нарушают срок выплат **лишь в 6.6%** случаев.\n",
    "3. Заёмщики в статусах **\"Женат / замужем\"** или **\"В разводе\"** нарушают сроки по выплатам практически одинаково - в **7.1%** и **7,6%** случаев, соответвенно."
   ]
  },
  {
   "cell_type": "markdown",
   "id": "42df3b3f",
   "metadata": {
    "deletable": false,
    "editable": false,
    "id": "1e8b2fca"
   },
   "source": [
    "#### 3.3 Есть ли зависимость между уровнем дохода и возвратом кредита в срок?"
   ]
  },
  {
   "cell_type": "code",
   "execution_count": 28,
   "id": "417dfa6f",
   "metadata": {
    "deletable": false,
    "id": "2cacfc4a"
   },
   "outputs": [
    {
     "data": {
      "text/plain": [
       "debt  total_income_category\n",
       "0     C                        14568\n",
       "      B                         4660\n",
       "      D                          328\n",
       "      A                           23\n",
       "      E                           20\n",
       "1     C                         1353\n",
       "      B                          354\n",
       "      D                           21\n",
       "      A                            2\n",
       "      E                            2\n",
       "Name: total_income_category, dtype: int64"
      ]
     },
     "execution_count": 28,
     "metadata": {},
     "output_type": "execute_result"
    }
   ],
   "source": [
    "# группируем данные по выплатам в зависимости от дохода\n",
    "data.groupby('debt')['total_income_category'].value_counts()"
   ]
  },
  {
   "cell_type": "code",
   "execution_count": 29,
   "id": "5fecb38d",
   "metadata": {},
   "outputs": [
    {
     "data": {
      "text/html": [
       "<div>\n",
       "<style scoped>\n",
       "    .dataframe tbody tr th:only-of-type {\n",
       "        vertical-align: middle;\n",
       "    }\n",
       "\n",
       "    .dataframe tbody tr th {\n",
       "        vertical-align: top;\n",
       "    }\n",
       "\n",
       "    .dataframe thead th {\n",
       "        text-align: right;\n",
       "    }\n",
       "</style>\n",
       "<table border=\"1\" class=\"dataframe\">\n",
       "  <thead>\n",
       "    <tr style=\"text-align: right;\">\n",
       "      <th></th>\n",
       "      <th>Уровень дохода</th>\n",
       "      <th>Вернули в срок</th>\n",
       "      <th>Задержали</th>\n",
       "      <th>Возврат в срок, %</th>\n",
       "    </tr>\n",
       "  </thead>\n",
       "  <tbody>\n",
       "    <tr>\n",
       "      <th>0</th>\n",
       "      <td>0 – 30 000</td>\n",
       "      <td>20</td>\n",
       "      <td>2</td>\n",
       "      <td>90</td>\n",
       "    </tr>\n",
       "    <tr>\n",
       "      <th>1</th>\n",
       "      <td>30 001 – 50 000</td>\n",
       "      <td>328</td>\n",
       "      <td>21</td>\n",
       "      <td>93</td>\n",
       "    </tr>\n",
       "    <tr>\n",
       "      <th>2</th>\n",
       "      <td>50 001–200 000</td>\n",
       "      <td>14568</td>\n",
       "      <td>1353</td>\n",
       "      <td>91</td>\n",
       "    </tr>\n",
       "    <tr>\n",
       "      <th>3</th>\n",
       "      <td>200 001–1 000 000</td>\n",
       "      <td>4660</td>\n",
       "      <td>354</td>\n",
       "      <td>92</td>\n",
       "    </tr>\n",
       "    <tr>\n",
       "      <th>4</th>\n",
       "      <td>1 000 001 и выше</td>\n",
       "      <td>23</td>\n",
       "      <td>2</td>\n",
       "      <td>92</td>\n",
       "    </tr>\n",
       "  </tbody>\n",
       "</table>\n",
       "</div>"
      ],
      "text/plain": [
       "      Уровень дохода  Вернули в срок  Задержали  Возврат в срок, %\n",
       "0         0 – 30 000              20          2                 90\n",
       "1    30 001 – 50 000             328         21                 93\n",
       "2     50 001–200 000           14568       1353                 91\n",
       "3  200 001–1 000 000            4660        354                 92\n",
       "4   1 000 001 и выше              23          2                 92"
      ]
     },
     "execution_count": 29,
     "metadata": {},
     "output_type": "execute_result"
    }
   ],
   "source": [
    "# создаем таблицу с результатами группировки data\n",
    "group_income_category = [['0 – 30 000', 20, 2], \n",
    "                ['30 001 – 50 000', 328, 21],\n",
    "                ['50 001–200 000', 14568, 1353],\n",
    "                ['200 001–1 000 000', 4660, 354],\n",
    "                ['1 000 001 и выше', 23, 2]]                                                 \n",
    "# названия столбоцов \n",
    "columns_income_category = ['Уровень дохода','Вернули в срок','Задержали']                                                \n",
    "info_income_category = pd.DataFrame(data=group_income_category, columns=columns_income_category)\n",
    "# добавим столбец с расчётом возврата в срок\n",
    "info_income_category['Возврат в срок, %'] = (info_income_category['Вернули в срок'] / \n",
    "                                      (info_income_category['Вернули в срок'] + \n",
    "                                       info_income_category['Задержали']) * 100).astype('int') \n",
    "# вывод таблицы\n",
    "info_income_category"
   ]
  },
  {
   "cell_type": "code",
   "execution_count": 30,
   "id": "7e993c89",
   "metadata": {},
   "outputs": [
    {
     "data": {
      "image/png": "[encoded data removed]",
      "text/plain": [
       "<Figure size 432x288 with 1 Axes>"
      ]
     },
     "metadata": {
      "needs_background": "light"
     },
     "output_type": "display_data"
    }
   ],
   "source": [
    "sns.barplot(data=info_income_category, x='Возврат в срок, %', y='Уровень дохода');"
   ]
  },
  {
   "cell_type": "markdown",
   "id": "8605f82e",
   "metadata": {
    "deletable": false,
    "id": "e8593def"
   },
   "source": [
    "**Вывод:** "
   ]
  },
  {
   "cell_type": "markdown",
   "id": "9ed8b711",
   "metadata": {},
   "source": [
    "1. Самые дисциплинированные заёмщики имеют уровень дохода в пределах **30 001 – 50 000**, они задерживали выплаты **лишь в 7%** случаев.\n",
    "2. Чаще других **задерживали выплаты** заёмщики с доходом до **30 000**, среди них задержки выплат встречались в **10%** случаев.\n",
    "3. Заёмщки доходом от **50 000 - 200 000** сроки по выплатам нарушали в **9%** случаев, а с доходом свыше **200 000** - лишь в **8%**. "
   ]
  },
  {
   "cell_type": "markdown",
   "id": "ecdcb9b7",
   "metadata": {
    "deletable": false,
    "editable": false,
    "id": "99ecbd1f"
   },
   "source": [
    "#### 3.4 Как разные цели кредита влияют на его возврат в срок?"
   ]
  },
  {
   "cell_type": "code",
   "execution_count": 31,
   "id": "71a2e2cb",
   "metadata": {
    "deletable": false,
    "id": "2b687290"
   },
   "outputs": [],
   "source": [
    "# группируем данные в сводную таблицу в зависимости от целей кредитования\n",
    "# count - общее количиство заёмщиков\n",
    "# sum - количество должников\n",
    "# mean - доля должников\n",
    "group_purpose_cat = pd.pivot_table(data, index='purpose_category',\n",
    "                                    values='debt',\n",
    "                                     aggfunc=['count', sum, 'mean']\n",
    "                                      ).reset_index()\n",
    "# group_purpose_cat"
   ]
  },
  {
   "cell_type": "code",
   "execution_count": 32,
   "id": "5ad81e4a",
   "metadata": {},
   "outputs": [
    {
     "data": {
      "text/html": [
       "<style type=\"text/css\">\n",
       "</style>\n",
       "<table id=\"T_77fbf\">\n",
       "  <thead>\n",
       "    <tr>\n",
       "      <th class=\"blank level0\" >&nbsp;</th>\n",
       "      <th id=\"T_77fbf_level0_col0\" class=\"col_heading level0 col0\" >Цель кредита</th>\n",
       "      <th id=\"T_77fbf_level0_col1\" class=\"col_heading level0 col1\" >Всего заёмщиков</th>\n",
       "      <th id=\"T_77fbf_level0_col2\" class=\"col_heading level0 col2\" >Всего должников</th>\n",
       "      <th id=\"T_77fbf_level0_col3\" class=\"col_heading level0 col3\" >Доля должников</th>\n",
       "    </tr>\n",
       "  </thead>\n",
       "  <tbody>\n",
       "    <tr>\n",
       "      <th id=\"T_77fbf_level0_row0\" class=\"row_heading level0 row0\" >0</th>\n",
       "      <td id=\"T_77fbf_row0_col0\" class=\"data row0 col0\" >операции с недвижимостью</td>\n",
       "      <td id=\"T_77fbf_row0_col1\" class=\"data row0 col1\" >10751</td>\n",
       "      <td id=\"T_77fbf_row0_col2\" class=\"data row0 col2\" >780</td>\n",
       "      <td id=\"T_77fbf_row0_col3\" class=\"data row0 col3\" >7.26%</td>\n",
       "    </tr>\n",
       "    <tr>\n",
       "      <th id=\"T_77fbf_level0_row1\" class=\"row_heading level0 row1\" >1</th>\n",
       "      <td id=\"T_77fbf_row1_col0\" class=\"data row1 col0\" >операции с автомобилем</td>\n",
       "      <td id=\"T_77fbf_row1_col1\" class=\"data row1 col1\" >4279</td>\n",
       "      <td id=\"T_77fbf_row1_col2\" class=\"data row1 col2\" >400</td>\n",
       "      <td id=\"T_77fbf_row1_col3\" class=\"data row1 col3\" >9.35%</td>\n",
       "    </tr>\n",
       "    <tr>\n",
       "      <th id=\"T_77fbf_level0_row2\" class=\"row_heading level0 row2\" >2</th>\n",
       "      <td id=\"T_77fbf_row2_col0\" class=\"data row2 col0\" >получение образования</td>\n",
       "      <td id=\"T_77fbf_row2_col1\" class=\"data row2 col1\" >3988</td>\n",
       "      <td id=\"T_77fbf_row2_col2\" class=\"data row2 col2\" >369</td>\n",
       "      <td id=\"T_77fbf_row2_col3\" class=\"data row2 col3\" >9.25%</td>\n",
       "    </tr>\n",
       "    <tr>\n",
       "      <th id=\"T_77fbf_level0_row3\" class=\"row_heading level0 row3\" >3</th>\n",
       "      <td id=\"T_77fbf_row3_col0\" class=\"data row3 col0\" >проведение свадьбы</td>\n",
       "      <td id=\"T_77fbf_row3_col1\" class=\"data row3 col1\" >2313</td>\n",
       "      <td id=\"T_77fbf_row3_col2\" class=\"data row3 col2\" >183</td>\n",
       "      <td id=\"T_77fbf_row3_col3\" class=\"data row3 col3\" >7.91%</td>\n",
       "    </tr>\n",
       "  </tbody>\n",
       "</table>\n"
      ],
      "text/plain": [
       "<pandas.io.formats.style.Styler at 0x213407c6370>"
      ]
     },
     "execution_count": 32,
     "metadata": {},
     "output_type": "execute_result"
    }
   ],
   "source": [
    "# создаем таблицу с результатами\n",
    "# отсортируем по убыванию по столбцу 'Всего заёмщиков'\n",
    "group_purpose = pd.DataFrame({\"Цель кредита\": group_purpose_cat['purpose_category'],\n",
    "                              \"Всего заёмщиков\": group_purpose_cat['count', 'debt'],\n",
    "                                \"Всего должников\": group_purpose_cat['sum', 'debt'],\n",
    "                                   \"Доля должников\": group_purpose_cat['mean', 'debt']}\n",
    "                            ).sort_values(by= 'Всего заёмщиков', ascending = False)\n",
    "# сбросим и перезапишем индексы, отформатирем проценты в столбце 'Доля должников'\n",
    "group_purpose = group_purpose.reset_index(drop=True).style.format({'Доля должников': '{:.2%}'})\n",
    "group_purpose"
   ]
  },
  {
   "cell_type": "markdown",
   "id": "c5c480cd",
   "metadata": {
    "deletable": false,
    "id": "b4bb2ce6"
   },
   "source": [
    "**Вывод:** "
   ]
  },
  {
   "cell_type": "markdown",
   "id": "d1bfdb50",
   "metadata": {},
   "source": [
    "1. Заёмщики целями кредита которых являются **\"Операции с автомобилем\"** или **\"Получение образования\"** **задерживают** сроки выплат в **9% случаев**.\n",
    "2. Заёмщики целями кредита которых являются **\"Операции с недвижимостью\"** или **\"Проведение свадьбы\"** более **дисциплинированы** и задерживают выплаты лишь в **7,2%** и **7,9%** случаев, соответственно."
   ]
  },
  {
   "cell_type": "code",
   "execution_count": 33,
   "id": "c4fdbdb7",
   "metadata": {},
   "outputs": [
    {
     "data": {
      "text/html": [
       "<style type=\"text/css\">\n",
       "</style>\n",
       "<table id=\"T_c2dfc\">\n",
       "  <thead>\n",
       "    <tr>\n",
       "      <th class=\"blank level0\" >&nbsp;</th>\n",
       "      <th id=\"T_c2dfc_level0_col0\" class=\"col_heading level0 col0\" >Цель кредита</th>\n",
       "      <th id=\"T_c2dfc_level0_col1\" class=\"col_heading level0 col1\" >Всего заёмщиков</th>\n",
       "      <th id=\"T_c2dfc_level0_col2\" class=\"col_heading level0 col2\" >Всего должников</th>\n",
       "      <th id=\"T_c2dfc_level0_col3\" class=\"col_heading level0 col3\" >Доля должников</th>\n",
       "    </tr>\n",
       "  </thead>\n",
       "  <tbody>\n",
       "    <tr>\n",
       "      <th id=\"T_c2dfc_level0_row0\" class=\"row_heading level0 row0\" >0</th>\n",
       "      <td id=\"T_c2dfc_row0_col0\" class=\"data row0 col0\" >операции с автомобилем</td>\n",
       "      <td id=\"T_c2dfc_row0_col1\" class=\"data row0 col1\" >4279</td>\n",
       "      <td id=\"T_c2dfc_row0_col2\" class=\"data row0 col2\" >400</td>\n",
       "      <td id=\"T_c2dfc_row0_col3\" class=\"data row0 col3\" >9.35%</td>\n",
       "    </tr>\n",
       "    <tr>\n",
       "      <th id=\"T_c2dfc_level0_row1\" class=\"row_heading level0 row1\" >1</th>\n",
       "      <td id=\"T_c2dfc_row1_col0\" class=\"data row1 col0\" >операции с недвижимостью</td>\n",
       "      <td id=\"T_c2dfc_row1_col1\" class=\"data row1 col1\" >10751</td>\n",
       "      <td id=\"T_c2dfc_row1_col2\" class=\"data row1 col2\" >780</td>\n",
       "      <td id=\"T_c2dfc_row1_col3\" class=\"data row1 col3\" >7.26%</td>\n",
       "    </tr>\n",
       "    <tr>\n",
       "      <th id=\"T_c2dfc_level0_row2\" class=\"row_heading level0 row2\" >2</th>\n",
       "      <td id=\"T_c2dfc_row2_col0\" class=\"data row2 col0\" >получение образования</td>\n",
       "      <td id=\"T_c2dfc_row2_col1\" class=\"data row2 col1\" >3988</td>\n",
       "      <td id=\"T_c2dfc_row2_col2\" class=\"data row2 col2\" >369</td>\n",
       "      <td id=\"T_c2dfc_row2_col3\" class=\"data row2 col3\" >9.25%</td>\n",
       "    </tr>\n",
       "    <tr>\n",
       "      <th id=\"T_c2dfc_level0_row3\" class=\"row_heading level0 row3\" >3</th>\n",
       "      <td id=\"T_c2dfc_row3_col0\" class=\"data row3 col0\" >проведение свадьбы</td>\n",
       "      <td id=\"T_c2dfc_row3_col1\" class=\"data row3 col1\" >2313</td>\n",
       "      <td id=\"T_c2dfc_row3_col2\" class=\"data row3 col2\" >183</td>\n",
       "      <td id=\"T_c2dfc_row3_col3\" class=\"data row3 col3\" >7.91%</td>\n",
       "    </tr>\n",
       "  </tbody>\n",
       "</table>\n"
      ],
      "text/plain": [
       "<pandas.io.formats.style.Styler at 0x2133e282880>"
      ]
     },
     "execution_count": 33,
     "metadata": {},
     "output_type": "execute_result"
    }
   ],
   "source": [
    "# Код ревьюера\n",
    "group_purpose_cat.columns = [\"Цель кредита\", \"Всего заёмщиков\", \"Всего должников\",  \"Доля должников\"]\n",
    "group_purpose = group_purpose_cat.reset_index(drop=True).style.format({'Доля должников': '{:.2%}'})\n",
    "group_purpose"
   ]
  },
  {
   "cell_type": "markdown",
   "id": "423f3c75",
   "metadata": {
    "deletable": false,
    "editable": false,
    "id": "09c3ac4c"
   },
   "source": [
    "#### 3.5 Приведите возможные причины появления пропусков в исходных данных."
   ]
  },
  {
   "cell_type": "markdown",
   "id": "02d4224d",
   "metadata": {
    "deletable": false,
    "id": "9da2ceda"
   },
   "source": [
    "**Ответ:** "
   ]
  },
  {
   "cell_type": "markdown",
   "id": "f0b09223",
   "metadata": {},
   "source": [
    "1. В исходных данных пропуски определяются в столбцах *days_employed* — общий трудовой стаж в днях и *total_income* — ежемесячный доход.\n",
    "2. Пропуски в указанных столбцах находятся в одной строке, т.е. если есть пропуск в *days_employed*, то он определяется и в *total_income*.\n",
    "3. Можно предположить, что данные пропуски не являются случайными, часто стаж и доход имеют взаимозависимость.\n",
    "\n",
    "Возможные причины появления пропусков:\n",
    "- объединение двух баз с ошибками\n",
    "- потеря одного из значений, например, стажа привело к потере второго значения"
   ]
  },
  {
   "cell_type": "markdown",
   "id": "d3372332",
   "metadata": {
    "deletable": false,
    "editable": false,
    "id": "7b0487d6"
   },
   "source": [
    "#### 3.6 Объясните, почему заполнить пропуски медианным значением — лучшее решение для количественных переменных."
   ]
  },
  {
   "cell_type": "markdown",
   "id": "a83903bd",
   "metadata": {
    "deletable": false,
    "id": "7ecf2b8e"
   },
   "source": [
    "**Ответ:**"
   ]
  },
  {
   "cell_type": "markdown",
   "id": "c3150ed4",
   "metadata": {},
   "source": [
    "Медиана показывает наиболее близкий показатель к истинно среднему, так как на неё не влияют значения, которые сильно выбиваются (так называемые \"выбросы\") из ряда чисел."
   ]
  },
  {
   "cell_type": "markdown",
   "id": "15de462f",
   "metadata": {
    "deletable": false,
    "editable": false,
    "id": "6db5255a"
   },
   "source": [
    "### Шаг 4: общий вывод."
   ]
  },
  {
   "cell_type": "markdown",
   "id": "9b8bfde4",
   "metadata": {
    "deletable": false,
    "id": "bad65432"
   },
   "source": [
    "Самым **дисциплинированным** клиентом, который **вернет кредит точно в срок** будет заёмщик:\n",
    "- без детей\n",
    "- в статусе **\"Вдовец / вдова\"** или **\"Женат / замужем\"** или **\"В разводе\"**\n",
    "- с доходом от **30 000 до 50 000**\n",
    "- цель кредита: **\"Операции с недвижимостью\"** или **\"Проведение свадьбы\"**"
   ]
  },
  {
   "cell_type": "markdown",
   "id": "be60137c",
   "metadata": {},
   "source": [
    "Вероятность **задержки выплат** выплат по кредиту максимальна, если заёмщик:\n",
    "- имеет **1-2 или 3 детей**\n",
    "- находится в статусе **\"Гражданский брак\"** или **\"Не женат / не замужем\"**\n",
    "- имеет доход **до 30 000**\n",
    "- цель кредита: **\"Операции с автомобилем\"** или **\"Получение образования\"**"
   ]
  }
 ],
 "metadata": {
  "ExecuteTimeLog": [
   {
    "duration": 667,
    "start_time": "2022-11-06T14:51:05.464Z"
   },
   {
    "duration": 32,
    "start_time": "2022-11-06T14:51:09.793Z"
   },
   {
    "duration": 24,
    "start_time": "2022-11-06T14:51:14.110Z"
   },
   {
    "duration": 13,
    "start_time": "2022-11-06T14:51:18.408Z"
   },
   {
    "duration": 54,
    "start_time": "2022-11-06T14:51:21.405Z"
   },
   {
    "duration": 18,
    "start_time": "2022-11-06T14:51:24.633Z"
   },
   {
    "duration": 15,
    "start_time": "2022-11-06T14:51:26.631Z"
   },
   {
    "duration": 5,
    "start_time": "2022-11-06T14:51:30.720Z"
   },
   {
    "duration": 9,
    "start_time": "2022-11-06T14:51:33.473Z"
   },
   {
    "duration": 12,
    "start_time": "2022-11-06T14:51:36.151Z"
   },
   {
    "duration": 58,
    "start_time": "2022-11-06T14:51:39.752Z"
   },
   {
    "duration": 16,
    "start_time": "2022-11-06T14:51:42.258Z"
   },
   {
    "duration": 4,
    "start_time": "2022-11-06T14:51:45.192Z"
   },
   {
    "duration": 13,
    "start_time": "2022-11-06T14:51:48.367Z"
   },
   {
    "duration": 37,
    "start_time": "2022-11-06T14:51:51.263Z"
   },
   {
    "duration": 20,
    "start_time": "2022-11-06T14:51:53.754Z"
   },
   {
    "duration": 5,
    "start_time": "2022-11-06T14:51:57.048Z"
   },
   {
    "duration": 14,
    "start_time": "2022-11-06T14:52:01.071Z"
   },
   {
    "duration": 7,
    "start_time": "2022-11-06T14:52:04.462Z"
   },
   {
    "duration": 5,
    "start_time": "2022-11-06T14:52:07.982Z"
   },
   {
    "duration": 12,
    "start_time": "2022-11-06T14:52:10.741Z"
   },
   {
    "duration": 92,
    "start_time": "2022-11-06T14:52:50.018Z"
   },
   {
    "duration": 10,
    "start_time": "2022-11-06T14:53:12.818Z"
   },
   {
    "duration": 35,
    "start_time": "2022-11-06T14:53:27.315Z"
   },
   {
    "duration": 545,
    "start_time": "2022-11-08T08:18:50.037Z"
   },
   {
    "duration": 22,
    "start_time": "2022-11-08T08:18:52.118Z"
   },
   {
    "duration": 15,
    "start_time": "2022-11-08T08:18:53.244Z"
   },
   {
    "duration": 10,
    "start_time": "2022-11-08T08:18:54.610Z"
   },
   {
    "duration": 35,
    "start_time": "2022-11-08T08:18:55.243Z"
   },
   {
    "duration": 4,
    "start_time": "2022-11-08T08:18:55.907Z"
   },
   {
    "duration": 9,
    "start_time": "2022-11-08T08:18:56.390Z"
   },
   {
    "duration": 4,
    "start_time": "2022-11-08T08:18:57.267Z"
   },
   {
    "duration": 6,
    "start_time": "2022-11-08T08:18:57.640Z"
   },
   {
    "duration": 5,
    "start_time": "2022-11-08T08:18:58.057Z"
   },
   {
    "duration": 35,
    "start_time": "2022-11-08T08:18:58.700Z"
   },
   {
    "duration": 11,
    "start_time": "2022-11-08T08:18:59.107Z"
   },
   {
    "duration": 4,
    "start_time": "2022-11-08T08:18:59.969Z"
   },
   {
    "duration": 12,
    "start_time": "2022-11-08T08:19:00.558Z"
   },
   {
    "duration": 21,
    "start_time": "2022-11-08T08:19:00.978Z"
   },
   {
    "duration": 18,
    "start_time": "2022-11-08T08:19:01.443Z"
   },
   {
    "duration": 3,
    "start_time": "2022-11-08T08:19:02.871Z"
   },
   {
    "duration": 10,
    "start_time": "2022-11-08T08:19:03.397Z"
   },
   {
    "duration": 6,
    "start_time": "2022-11-08T08:19:04.703Z"
   },
   {
    "duration": 3,
    "start_time": "2022-11-08T08:19:05.876Z"
   },
   {
    "duration": 9,
    "start_time": "2022-11-08T08:19:06.256Z"
   },
   {
    "duration": 16,
    "start_time": "2022-11-08T08:19:07.916Z"
   },
   {
    "duration": 9,
    "start_time": "2022-11-08T08:19:38.495Z"
   },
   {
    "duration": 17,
    "start_time": "2022-11-08T08:19:58.118Z"
   },
   {
    "duration": 70,
    "start_time": "2022-11-08T08:20:22.060Z"
   },
   {
    "duration": 1086,
    "start_time": "2022-11-08T08:21:01.486Z"
   },
   {
    "duration": 160,
    "start_time": "2022-11-08T08:21:11.221Z"
   },
   {
    "duration": 12,
    "start_time": "2022-11-08T08:22:11.670Z"
   },
   {
    "duration": 12,
    "start_time": "2022-11-08T08:22:38.510Z"
   },
   {
    "duration": 137,
    "start_time": "2022-11-08T08:23:10.922Z"
   },
   {
    "duration": 3,
    "start_time": "2022-11-08T08:24:34.431Z"
   },
   {
    "duration": 55,
    "start_time": "2022-11-08T08:27:22.898Z"
   },
   {
    "duration": 83,
    "start_time": "2022-11-08T08:28:04.370Z"
   },
   {
    "duration": 18,
    "start_time": "2022-11-08T08:28:04.967Z"
   },
   {
    "duration": 16,
    "start_time": "2022-11-08T08:28:05.422Z"
   },
   {
    "duration": 10,
    "start_time": "2022-11-08T08:28:06.426Z"
   },
   {
    "duration": 39,
    "start_time": "2022-11-08T08:28:06.838Z"
   },
   {
    "duration": 4,
    "start_time": "2022-11-08T08:28:07.490Z"
   },
   {
    "duration": 8,
    "start_time": "2022-11-08T08:28:07.914Z"
   },
   {
    "duration": 4,
    "start_time": "2022-11-08T08:28:08.635Z"
   },
   {
    "duration": 6,
    "start_time": "2022-11-08T08:28:09.107Z"
   },
   {
    "duration": 4,
    "start_time": "2022-11-08T08:28:09.522Z"
   },
   {
    "duration": 36,
    "start_time": "2022-11-08T08:28:10.165Z"
   },
   {
    "duration": 10,
    "start_time": "2022-11-08T08:28:10.609Z"
   },
   {
    "duration": 4,
    "start_time": "2022-11-08T08:28:11.216Z"
   },
   {
    "duration": 12,
    "start_time": "2022-11-08T08:28:12.099Z"
   },
   {
    "duration": 22,
    "start_time": "2022-11-08T08:28:12.743Z"
   },
   {
    "duration": 19,
    "start_time": "2022-11-08T08:28:12.989Z"
   },
   {
    "duration": 4,
    "start_time": "2022-11-08T08:28:14.010Z"
   },
   {
    "duration": 15,
    "start_time": "2022-11-08T08:28:14.418Z"
   },
   {
    "duration": 7,
    "start_time": "2022-11-08T08:28:15.317Z"
   },
   {
    "duration": 4,
    "start_time": "2022-11-08T08:28:16.043Z"
   },
   {
    "duration": 9,
    "start_time": "2022-11-08T08:28:16.378Z"
   },
   {
    "duration": 9,
    "start_time": "2022-11-08T08:28:17.801Z"
   },
   {
    "duration": 12,
    "start_time": "2022-11-08T08:28:18.740Z"
   },
   {
    "duration": 141,
    "start_time": "2022-11-08T08:28:18.941Z"
   },
   {
    "duration": 11,
    "start_time": "2022-11-08T08:28:21.973Z"
   },
   {
    "duration": 12,
    "start_time": "2022-11-08T08:28:22.645Z"
   },
   {
    "duration": 133,
    "start_time": "2022-11-08T08:28:25.136Z"
   },
   {
    "duration": 9,
    "start_time": "2022-11-08T08:28:29.514Z"
   },
   {
    "duration": 12,
    "start_time": "2022-11-08T08:28:44.480Z"
   },
   {
    "duration": 127,
    "start_time": "2022-11-08T08:28:57.368Z"
   },
   {
    "duration": 11,
    "start_time": "2022-11-08T08:29:48.091Z"
   },
   {
    "duration": 11,
    "start_time": "2022-11-08T08:30:04.871Z"
   },
   {
    "duration": 127,
    "start_time": "2022-11-08T08:30:21.646Z"
   },
   {
    "duration": 155,
    "start_time": "2022-11-08T08:31:06.139Z"
   },
   {
    "duration": 78,
    "start_time": "2022-11-08T08:31:21.295Z"
   },
   {
    "duration": 95,
    "start_time": "2022-11-08T08:33:13.208Z"
   },
   {
    "duration": 1336,
    "start_time": "2022-11-08T08:35:03.905Z"
   },
   {
    "duration": 20,
    "start_time": "2022-11-08T08:35:07.359Z"
   },
   {
    "duration": 18,
    "start_time": "2022-11-08T08:35:08.162Z"
   },
   {
    "duration": 14,
    "start_time": "2022-11-08T08:35:09.554Z"
   },
   {
    "duration": 39,
    "start_time": "2022-11-08T08:35:10.154Z"
   },
   {
    "duration": 4,
    "start_time": "2022-11-08T08:35:10.958Z"
   },
   {
    "duration": 8,
    "start_time": "2022-11-08T08:35:11.465Z"
   },
   {
    "duration": 4,
    "start_time": "2022-11-08T08:35:12.151Z"
   },
   {
    "duration": 9,
    "start_time": "2022-11-08T08:35:12.775Z"
   },
   {
    "duration": 5,
    "start_time": "2022-11-08T08:35:13.291Z"
   },
   {
    "duration": 37,
    "start_time": "2022-11-08T08:35:13.888Z"
   },
   {
    "duration": 11,
    "start_time": "2022-11-08T08:35:14.263Z"
   },
   {
    "duration": 4,
    "start_time": "2022-11-08T08:35:14.843Z"
   },
   {
    "duration": 12,
    "start_time": "2022-11-08T08:35:15.435Z"
   },
   {
    "duration": 21,
    "start_time": "2022-11-08T08:35:16.168Z"
   },
   {
    "duration": 19,
    "start_time": "2022-11-08T08:35:16.436Z"
   },
   {
    "duration": 4,
    "start_time": "2022-11-08T08:35:17.079Z"
   },
   {
    "duration": 10,
    "start_time": "2022-11-08T08:35:17.270Z"
   },
   {
    "duration": 7,
    "start_time": "2022-11-08T08:35:17.779Z"
   },
   {
    "duration": 4,
    "start_time": "2022-11-08T08:35:18.141Z"
   },
   {
    "duration": 13,
    "start_time": "2022-11-08T08:35:18.345Z"
   },
   {
    "duration": 11,
    "start_time": "2022-11-08T08:35:18.859Z"
   },
   {
    "duration": 13,
    "start_time": "2022-11-08T08:35:19.891Z"
   },
   {
    "duration": 176,
    "start_time": "2022-11-08T08:35:19.906Z"
   },
   {
    "duration": 15,
    "start_time": "2022-11-08T08:35:20.761Z"
   },
   {
    "duration": 20,
    "start_time": "2022-11-08T08:35:21.577Z"
   },
   {
    "duration": 148,
    "start_time": "2022-11-08T08:35:21.600Z"
   },
   {
    "duration": 14,
    "start_time": "2022-11-08T08:35:22.708Z"
   },
   {
    "duration": 17,
    "start_time": "2022-11-08T08:35:23.173Z"
   },
   {
    "duration": 173,
    "start_time": "2022-11-08T08:35:23.515Z"
   },
   {
    "duration": 12,
    "start_time": "2022-11-08T08:35:25.015Z"
   },
   {
    "duration": 12,
    "start_time": "2022-11-08T08:35:25.303Z"
   },
   {
    "duration": 149,
    "start_time": "2022-11-08T08:35:25.586Z"
   },
   {
    "duration": 1195,
    "start_time": "2022-11-08T08:54:38.053Z"
   },
   {
    "duration": 24,
    "start_time": "2022-11-08T08:54:39.250Z"
   },
   {
    "duration": 12,
    "start_time": "2022-11-08T08:54:39.276Z"
   },
   {
    "duration": 8,
    "start_time": "2022-11-08T08:54:39.289Z"
   },
   {
    "duration": 31,
    "start_time": "2022-11-08T08:54:39.298Z"
   },
   {
    "duration": 3,
    "start_time": "2022-11-08T08:54:39.330Z"
   },
   {
    "duration": 12,
    "start_time": "2022-11-08T08:54:39.359Z"
   },
   {
    "duration": 10,
    "start_time": "2022-11-08T08:54:39.373Z"
   },
   {
    "duration": 13,
    "start_time": "2022-11-08T08:54:39.385Z"
   },
   {
    "duration": 34,
    "start_time": "2022-11-08T08:54:39.400Z"
   },
   {
    "duration": 53,
    "start_time": "2022-11-08T08:54:39.435Z"
   },
   {
    "duration": 8,
    "start_time": "2022-11-08T08:54:39.489Z"
   },
   {
    "duration": 7,
    "start_time": "2022-11-08T08:54:39.498Z"
   },
   {
    "duration": 12,
    "start_time": "2022-11-08T08:54:39.506Z"
   },
   {
    "duration": 23,
    "start_time": "2022-11-08T08:54:39.519Z"
   },
   {
    "duration": 26,
    "start_time": "2022-11-08T08:54:39.543Z"
   },
   {
    "duration": 6,
    "start_time": "2022-11-08T08:54:39.571Z"
   },
   {
    "duration": 23,
    "start_time": "2022-11-08T08:54:39.579Z"
   },
   {
    "duration": 5,
    "start_time": "2022-11-08T08:54:39.603Z"
   },
   {
    "duration": 7,
    "start_time": "2022-11-08T08:54:39.609Z"
   },
   {
    "duration": 23,
    "start_time": "2022-11-08T08:54:39.617Z"
   },
   {
    "duration": 25,
    "start_time": "2022-11-08T08:54:39.641Z"
   },
   {
    "duration": 17,
    "start_time": "2022-11-08T08:54:39.669Z"
   },
   {
    "duration": 152,
    "start_time": "2022-11-08T08:54:39.688Z"
   },
   {
    "duration": 16,
    "start_time": "2022-11-08T08:54:39.842Z"
   },
   {
    "duration": 34,
    "start_time": "2022-11-08T08:54:39.859Z"
   },
   {
    "duration": 122,
    "start_time": "2022-11-08T08:54:39.895Z"
   },
   {
    "duration": 8,
    "start_time": "2022-11-08T08:54:40.019Z"
   },
   {
    "duration": 15,
    "start_time": "2022-11-08T08:54:40.028Z"
   },
   {
    "duration": 143,
    "start_time": "2022-11-08T08:54:40.044Z"
   },
   {
    "duration": 9,
    "start_time": "2022-11-08T08:54:40.188Z"
   },
   {
    "duration": 12,
    "start_time": "2022-11-08T08:54:40.198Z"
   },
   {
    "duration": 122,
    "start_time": "2022-11-08T08:54:40.211Z"
   },
   {
    "duration": 3,
    "start_time": "2022-11-08T12:57:39.285Z"
   },
   {
    "duration": 3,
    "start_time": "2022-11-08T12:57:43.382Z"
   },
   {
    "duration": 2,
    "start_time": "2022-11-08T12:57:53.110Z"
   },
   {
    "duration": 80,
    "start_time": "2022-11-08T12:58:33.876Z"
   },
   {
    "duration": 143,
    "start_time": "2022-11-08T12:59:03.123Z"
   },
   {
    "duration": 120,
    "start_time": "2022-11-08T13:08:05.473Z"
   },
   {
    "duration": 20,
    "start_time": "2022-11-08T13:08:57.397Z"
   },
   {
    "duration": 21,
    "start_time": "2022-11-08T13:09:06.645Z"
   },
   {
    "duration": 18,
    "start_time": "2022-11-08T13:09:17.564Z"
   },
   {
    "duration": 11,
    "start_time": "2022-11-08T13:17:54.135Z"
   },
   {
    "duration": 11,
    "start_time": "2022-11-08T13:17:59.585Z"
   },
   {
    "duration": 12,
    "start_time": "2022-11-08T13:18:00.535Z"
   },
   {
    "duration": 139,
    "start_time": "2022-11-08T13:18:07.549Z"
   },
   {
    "duration": 14,
    "start_time": "2022-11-08T13:36:55.508Z"
   },
   {
    "duration": 14,
    "start_time": "2022-11-08T13:37:01.485Z"
   },
   {
    "duration": 23,
    "start_time": "2022-11-08T13:37:43.689Z"
   },
   {
    "duration": 20,
    "start_time": "2022-11-08T13:37:44.439Z"
   },
   {
    "duration": 11,
    "start_time": "2022-11-08T13:39:11.239Z"
   },
   {
    "duration": 3,
    "start_time": "2022-11-08T15:18:09.837Z"
   },
   {
    "duration": 3,
    "start_time": "2022-11-08T15:18:10.725Z"
   },
   {
    "duration": 3,
    "start_time": "2022-11-08T15:18:11.404Z"
   },
   {
    "duration": 48,
    "start_time": "2022-11-08T15:19:06.073Z"
   },
   {
    "duration": 17,
    "start_time": "2022-11-08T15:19:06.590Z"
   },
   {
    "duration": 18,
    "start_time": "2022-11-08T15:23:57.870Z"
   },
   {
    "duration": 36,
    "start_time": "2022-11-08T15:24:45.910Z"
   },
   {
    "duration": 13,
    "start_time": "2022-11-08T15:24:46.728Z"
   },
   {
    "duration": 31,
    "start_time": "2022-11-08T15:25:13.952Z"
   },
   {
    "duration": 13,
    "start_time": "2022-11-08T15:25:15.426Z"
   },
   {
    "duration": 17,
    "start_time": "2022-11-08T15:25:44.379Z"
   },
   {
    "duration": 13,
    "start_time": "2022-11-08T15:26:00.058Z"
   },
   {
    "duration": 1750,
    "start_time": "2022-11-08T15:26:36.836Z"
   },
   {
    "duration": 1717,
    "start_time": "2022-11-08T15:26:50.781Z"
   },
   {
    "duration": 27,
    "start_time": "2022-11-08T15:26:53.716Z"
   },
   {
    "duration": 2003,
    "start_time": "2022-11-08T15:26:55.565Z"
   },
   {
    "duration": 13,
    "start_time": "2022-11-08T15:27:10.147Z"
   },
   {
    "duration": 19,
    "start_time": "2022-11-08T15:27:32.955Z"
   },
   {
    "duration": 21,
    "start_time": "2022-11-08T15:28:15.624Z"
   },
   {
    "duration": 39,
    "start_time": "2022-11-08T15:29:41.540Z"
   },
   {
    "duration": 17,
    "start_time": "2022-11-08T15:29:43.166Z"
   },
   {
    "duration": 13,
    "start_time": "2022-11-08T15:29:56.463Z"
   },
   {
    "duration": 24,
    "start_time": "2022-11-08T15:30:43.218Z"
   },
   {
    "duration": 18,
    "start_time": "2022-11-08T15:30:44.340Z"
   },
   {
    "duration": 12,
    "start_time": "2022-11-08T15:30:50.017Z"
   },
   {
    "duration": 27,
    "start_time": "2022-11-08T15:32:56.094Z"
   },
   {
    "duration": 12,
    "start_time": "2022-11-08T15:32:56.801Z"
   },
   {
    "duration": 1326,
    "start_time": "2022-11-08T15:34:06.487Z"
   },
   {
    "duration": 22,
    "start_time": "2022-11-08T15:34:10.789Z"
   },
   {
    "duration": 17,
    "start_time": "2022-11-08T15:34:12.497Z"
   },
   {
    "duration": 11,
    "start_time": "2022-11-08T15:34:14.827Z"
   },
   {
    "duration": 36,
    "start_time": "2022-11-08T15:34:16.630Z"
   },
   {
    "duration": 3,
    "start_time": "2022-11-08T15:34:18.376Z"
   },
   {
    "duration": 8,
    "start_time": "2022-11-08T15:34:19.755Z"
   },
   {
    "duration": 5,
    "start_time": "2022-11-08T15:34:21.820Z"
   },
   {
    "duration": 27,
    "start_time": "2022-11-08T15:34:22.920Z"
   },
   {
    "duration": 5,
    "start_time": "2022-11-08T15:34:24.079Z"
   },
   {
    "duration": 37,
    "start_time": "2022-11-08T15:34:25.996Z"
   },
   {
    "duration": 11,
    "start_time": "2022-11-08T15:34:26.970Z"
   },
   {
    "duration": 4,
    "start_time": "2022-11-08T15:34:28.624Z"
   },
   {
    "duration": 12,
    "start_time": "2022-11-08T15:34:30.045Z"
   },
   {
    "duration": 23,
    "start_time": "2022-11-08T15:34:31.100Z"
   },
   {
    "duration": 28,
    "start_time": "2022-11-08T15:34:31.715Z"
   },
   {
    "duration": 3,
    "start_time": "2022-11-08T15:34:34.197Z"
   },
   {
    "duration": 12,
    "start_time": "2022-11-08T15:34:34.474Z"
   },
   {
    "duration": 7,
    "start_time": "2022-11-08T15:34:35.873Z"
   },
   {
    "duration": 5,
    "start_time": "2022-11-08T15:34:37.248Z"
   },
   {
    "duration": 10,
    "start_time": "2022-11-08T15:34:37.643Z"
   },
   {
    "duration": 9,
    "start_time": "2022-11-08T15:34:39.731Z"
   },
   {
    "duration": 13,
    "start_time": "2022-11-08T15:34:40.875Z"
   },
   {
    "duration": 171,
    "start_time": "2022-11-08T15:34:42.342Z"
   },
   {
    "duration": 2,
    "start_time": "2022-11-08T15:34:50.634Z"
   },
   {
    "duration": 3,
    "start_time": "2022-11-08T15:34:53.084Z"
   },
   {
    "duration": 2,
    "start_time": "2022-11-08T15:34:54.138Z"
   },
   {
    "duration": 24,
    "start_time": "2022-11-08T15:34:58.163Z"
   },
   {
    "duration": 49,
    "start_time": "2022-11-08T15:35:04.589Z"
   },
   {
    "duration": 13,
    "start_time": "2022-11-08T15:35:41.121Z"
   },
   {
    "duration": 13,
    "start_time": "2022-11-08T15:35:42.084Z"
   },
   {
    "duration": 143,
    "start_time": "2022-11-08T15:35:43.114Z"
   },
   {
    "duration": 3,
    "start_time": "2022-11-08T15:36:08.566Z"
   },
   {
    "duration": 2,
    "start_time": "2022-11-08T15:36:14.320Z"
   },
   {
    "duration": 3,
    "start_time": "2022-11-08T15:36:15.106Z"
   },
   {
    "duration": 3,
    "start_time": "2022-11-08T15:36:17.418Z"
   },
   {
    "duration": 33,
    "start_time": "2022-11-08T15:36:20.193Z"
   },
   {
    "duration": 13,
    "start_time": "2022-11-08T15:36:24.607Z"
   },
   {
    "duration": 31,
    "start_time": "2022-11-08T15:37:22.940Z"
   },
   {
    "duration": 12,
    "start_time": "2022-11-08T15:37:25.782Z"
   },
   {
    "duration": 1397,
    "start_time": "2022-11-09T06:25:34.768Z"
   },
   {
    "duration": 18,
    "start_time": "2022-11-09T06:25:36.167Z"
   },
   {
    "duration": 14,
    "start_time": "2022-11-09T06:25:36.187Z"
   },
   {
    "duration": 12,
    "start_time": "2022-11-09T06:25:36.203Z"
   },
   {
    "duration": 43,
    "start_time": "2022-11-09T06:25:36.217Z"
   },
   {
    "duration": 3,
    "start_time": "2022-11-09T06:25:36.261Z"
   },
   {
    "duration": 14,
    "start_time": "2022-11-09T06:25:36.266Z"
   },
   {
    "duration": 10,
    "start_time": "2022-11-09T06:25:36.282Z"
   },
   {
    "duration": 17,
    "start_time": "2022-11-09T06:25:36.293Z"
   },
   {
    "duration": 5,
    "start_time": "2022-11-09T06:25:36.313Z"
   },
   {
    "duration": 42,
    "start_time": "2022-11-09T06:25:36.320Z"
   },
   {
    "duration": 9,
    "start_time": "2022-11-09T06:25:36.363Z"
   },
   {
    "duration": 9,
    "start_time": "2022-11-09T06:25:36.373Z"
   },
   {
    "duration": 15,
    "start_time": "2022-11-09T06:25:36.383Z"
   },
   {
    "duration": 21,
    "start_time": "2022-11-09T06:25:36.400Z"
   },
   {
    "duration": 32,
    "start_time": "2022-11-09T06:25:36.423Z"
   },
   {
    "duration": 4,
    "start_time": "2022-11-09T06:25:36.457Z"
   },
   {
    "duration": 21,
    "start_time": "2022-11-09T06:25:36.462Z"
   },
   {
    "duration": 5,
    "start_time": "2022-11-09T06:25:36.485Z"
   },
   {
    "duration": 4,
    "start_time": "2022-11-09T06:25:36.492Z"
   },
   {
    "duration": 17,
    "start_time": "2022-11-09T06:25:36.497Z"
   },
   {
    "duration": 14,
    "start_time": "2022-11-09T06:25:36.516Z"
   },
   {
    "duration": 24,
    "start_time": "2022-11-09T06:25:36.531Z"
   },
   {
    "duration": 141,
    "start_time": "2022-11-09T06:25:36.557Z"
   },
   {
    "duration": 2,
    "start_time": "2022-11-09T06:25:36.700Z"
   },
   {
    "duration": 13,
    "start_time": "2022-11-09T06:25:36.703Z"
   },
   {
    "duration": 8,
    "start_time": "2022-11-09T06:25:36.717Z"
   },
   {
    "duration": 31,
    "start_time": "2022-11-09T06:25:36.728Z"
   },
   {
    "duration": 42,
    "start_time": "2022-11-09T06:25:36.760Z"
   },
   {
    "duration": 9,
    "start_time": "2022-11-09T06:25:36.803Z"
   },
   {
    "duration": 11,
    "start_time": "2022-11-09T06:25:36.813Z"
   },
   {
    "duration": 141,
    "start_time": "2022-11-09T06:25:36.826Z"
   },
   {
    "duration": 2,
    "start_time": "2022-11-09T06:25:36.969Z"
   },
   {
    "duration": 7,
    "start_time": "2022-11-09T06:25:36.972Z"
   },
   {
    "duration": 5,
    "start_time": "2022-11-09T06:25:36.981Z"
   },
   {
    "duration": 31,
    "start_time": "2022-11-09T06:25:36.988Z"
   },
   {
    "duration": 15,
    "start_time": "2022-11-09T06:25:37.021Z"
   },
   {
    "duration": 9,
    "start_time": "2022-11-09T06:25:43.229Z"
   },
   {
    "duration": 8,
    "start_time": "2022-11-09T06:26:32.263Z"
   },
   {
    "duration": 7,
    "start_time": "2022-11-09T06:26:50.791Z"
   }
  ],
  "colab": {
   "name": "dpp_template_part2.ipynb",
   "provenance": []
  },
  "kernelspec": {
   "display_name": "Python 3 (ipykernel)",
   "language": "python",
   "name": "python3"
  },
  "language_info": {
   "codemirror_mode": {
    "name": "ipython",
    "version": 3
   },
   "file_extension": ".py",
   "mimetype": "text/x-python",
   "name": "python",
   "nbconvert_exporter": "python",
   "pygments_lexer": "ipython3",
   "version": "3.9.12"
  },
  "toc": {
   "base_numbering": 1,
   "nav_menu": {},
   "number_sections": true,
   "sideBar": true,
   "skip_h1_title": true,
   "title_cell": "Table of Contents",
   "title_sidebar": "Contents",
   "toc_cell": false,
   "toc_position": {
    "height": "calc(100% - 180px)",
    "left": "10px",
    "top": "150px",
    "width": "165px"
   },
   "toc_section_display": true,
   "toc_window_display": true
  }
 },
 "nbformat": 4,
 "nbformat_minor": 5
}
